{
 "cells": [
  {
   "cell_type": "markdown",
   "id": "1d7eab9a-1823-4fe4-b043-15d998451824",
   "metadata": {},
   "source": [
    "The networks found with Signor and Omnipath present some dicsonnected components (ax: HOXD9 and HOXD13).\n",
    "Moreover, the network found with signor, introduced some complexes (C92, C6, C143...) that are missing the complementary gene/s.\n",
    "In the following notebook, using the different strategies available in NeKo, we will try to complete the network using both SIGNOR and Omnipath."
   ]
  },
  {
   "cell_type": "code",
   "execution_count": 1,
   "id": "c00dbac4-6124-4149-a0ca-3d246b988732",
   "metadata": {},
   "outputs": [],
   "source": [
    "from neko.core.network import Network\n",
    "from neko._visual.visualize_network import NetworkVisualizer\n",
    "from neko._inputs.resources import Resources\n",
    "from neko._annotations.gene_ontology import Ontology\n",
    "import omnipath as op\n",
    "import pandas as pd\n",
    "from neko._methods.compare import compare_networks\n",
    "from yfiles_jupyter_graphs import GraphWidget"
   ]
  },
  {
   "cell_type": "code",
   "execution_count": 2,
   "id": "e286e8f4-a99d-4024-b99b-033f8d23fa84",
   "metadata": {},
   "outputs": [],
   "source": [
    "data_folder = \"../../../data/\"\n",
    "\n",
    "figures_folder = \"../../Figures/WNT/\"\n",
    "\n",
    "sif_output = \"../../sif_files/WNT/\""
   ]
  },
  {
   "cell_type": "code",
   "execution_count": null,
   "id": "273e8486-0a5f-4d59-853c-a35f88d08733",
   "metadata": {},
   "outputs": [],
   "source": [
    "resources_signor = Resources()\n",
    "resources_signor.import_signor_tsv(data_folder + \"signor_db.tsv\")"
   ]
  },
  {
   "cell_type": "code",
   "execution_count": null,
   "id": "69b84c87-3de3-4ef9-99ae-617666276ba5",
   "metadata": {},
   "outputs": [],
   "source": [
    "omnipath = op.interactions.OmniPath().get()"
   ]
  },
  {
   "cell_type": "code",
   "execution_count": null,
   "id": "727ef749-c942-4426-a3dd-757361ad6878",
   "metadata": {},
   "outputs": [],
   "source": [
    "sif_signor = sif_output + \"WNT_signor_Northcott.sif\"\n",
    "WNT_signor = Network(sif_file=sif_signor, resources=resources_signor.interactions)"
   ]
  },
  {
   "cell_type": "code",
   "execution_count": null,
   "id": "a1763b67-5f04-469d-a3be-04729653a9d1",
   "metadata": {},
   "outputs": [],
   "source": [
    "signor_initial_nodes = ['CTNNB1',\n",
    " 'APC',\n",
    " 'CSNK2B',\n",
    " 'ARID1A',\n",
    " 'ARID2',\n",
    " 'ATM',\n",
    " 'PIK3CA',\n",
    " 'BAI3',\n",
    " 'EPHA7',\n",
    " 'DDX3X',\n",
    " 'SYNCRIP',\n",
    " 'ALX4',\n",
    " 'DLX3',\n",
    " 'DLX4',\n",
    " 'EMX2',\n",
    " 'EN1',\n",
    " 'FOXF1',\n",
    " 'HOMEZ',\n",
    " 'HOXC4',\n",
    " 'HOXC5',\n",
    " 'HOXD11',\n",
    " 'HOXD13',\n",
    " 'HOXD8',\n",
    " 'HOXD9',\n",
    " 'IRX2',\n",
    " 'IRX5',\n",
    " 'LEF1',\n",
    " 'LHX8',\n",
    " 'MAF',\n",
    " 'MSX2',\n",
    " 'NKX6-1',\n",
    " 'ONECUT2',\n",
    " 'OSR2',\n",
    " 'PAX3',\n",
    " 'PITX1',\n",
    " 'PRRX1',\n",
    " 'RUNX2',\n",
    " 'SHOX2']"
   ]
  },
  {
   "cell_type": "code",
   "execution_count": null,
   "id": "80a34e67-a2a2-42a1-a5e3-04abff719da5",
   "metadata": {},
   "outputs": [],
   "source": [
    "wnt_signor_visualizer = NetworkVisualizer(WNT_signor)\n",
    "wnt_signor_visualizer.render(output_file=\"net_signor\", view=True, highlight_nodes=signor_initial_nodes)"
   ]
  },
  {
   "cell_type": "markdown",
   "id": "ecbb431c-3b7c-4890-9f6b-70f82de42dc7",
   "metadata": {},
   "source": [
    "The following are the complex introduced by the NeKo from the Signor database"
   ]
  },
  {
   "cell_type": "code",
   "execution_count": null,
   "id": "247b6411-c4fe-4751-806a-cf47598a2786",
   "metadata": {},
   "outputs": [],
   "source": [
    "for node in WNT_signor.nodes[\"Genesymbol\"]:\n",
    "    if node.startswith(\"SIGNOR\"):\n",
    "        print(node)"
   ]
  },
  {
   "cell_type": "code",
   "execution_count": null,
   "id": "ea5dae7d-6e8f-4634-bf92-f3995ffb684c",
   "metadata": {},
   "outputs": [],
   "source": [
    "signor_complexes = pd.read_csv(\"../../../data/SIGNOR_complexes.csv\", sep=';')\n",
    "signor_pf = pd.read_csv(\"../../../data/SIGNOR_PF.csv\", sep=\";\")"
   ]
  },
  {
   "cell_type": "code",
   "execution_count": null,
   "id": "300d57da-7997-4470-b0fa-abc4f4de6653",
   "metadata": {},
   "outputs": [],
   "source": [
    "signor_pf"
   ]
  },
  {
   "cell_type": "code",
   "execution_count": null,
   "id": "53f04968-f898-4348-9e92-3db09bd82983",
   "metadata": {},
   "outputs": [],
   "source": [
    "signor_complexes"
   ]
  },
  {
   "cell_type": "code",
   "execution_count": null,
   "id": "597b286d-0f28-419a-96d2-126fa685e794",
   "metadata": {},
   "outputs": [],
   "source": [
    "for ID in signor_complexes[\"SIGNOR ID\"]:\n",
    "    if ID in WNT_signor.nodes[\"Genesymbol\"].to_list():\n",
    "        print(ID, ': ', signor_complexes.loc[signor_complexes[\"SIGNOR ID\"] == ID][\"LIST OF ENTITIES\"].item(), signor_complexes.loc[signor_complexes[\"SIGNOR ID\"] == ID][\"COMPLEX NAME\"].item())"
   ]
  },
  {
   "cell_type": "code",
   "execution_count": null,
   "id": "7b12c7b7-e45f-4537-a0c8-9c6d0c551dea",
   "metadata": {},
   "outputs": [],
   "source": [
    "for ID in signor_pf[\"SIGNOR ID\"]:\n",
    "    if ID in WNT_signor.nodes[\"Genesymbol\"].to_list():\n",
    "        print(ID, ': ', signor_pf.loc[signor_pf[\"SIGNOR ID\"] == ID][\"PROT. FAMILY NAME\"].item() + \"_family\")"
   ]
  },
  {
   "cell_type": "code",
   "execution_count": null,
   "id": "e6556262-0f44-4cae-87d0-788c5c983728",
   "metadata": {},
   "outputs": [],
   "source": [
    "# Here I am adding all the nodes that are part of each complex in the network\n",
    "for ID in signor_complexes[\"SIGNOR ID\"]:\n",
    "    if ID in WNT_signor.nodes[\"Genesymbol\"].to_list():\n",
    "        nodes = [item.strip() for item in signor_complexes.loc[signor_complexes[\"SIGNOR ID\"] == ID][\"LIST OF ENTITIES\"].item().split(',')]\n",
    "        for node in nodes: WNT_signor.add_node(node)"
   ]
  },
  {
   "cell_type": "code",
   "execution_count": null,
   "id": "3ffc5f7d-5992-48cd-98fa-5a7d3abb14d6",
   "metadata": {},
   "outputs": [],
   "source": [
    "# now I will use the function \"connect_nodes\" to search for direct connection between nodes (so paths with length 1)\n",
    "\n",
    "WNT_signor.connect_nodes(only_signed=True, consensus_only=False)"
   ]
  },
  {
   "cell_type": "code",
   "execution_count": null,
   "id": "d48e8f64-2af2-4fac-a18c-0f6602dc1a54",
   "metadata": {},
   "outputs": [],
   "source": [
    "wnt_signor_visualizer = NetworkVisualizer(WNT_signor)\n",
    "wnt_signor_visualizer.render(output_file=\"net_signor\", view=True, highlight_nodes=signor_initial_nodes)"
   ]
  },
  {
   "cell_type": "markdown",
   "id": "bd0e0e5f-265e-4922-a7fb-878ba6c2cf54",
   "metadata": {},
   "source": [
    "Signor uses its own way to name complexes and protein families. In order to make the network easier to read, we ae going to change name to those nodes automatically using a specific function in NeKo: "
   ]
  },
  {
   "cell_type": "code",
   "execution_count": null,
   "id": "97b2dc2e-e6b4-45b7-a975-42ac4399822f",
   "metadata": {},
   "outputs": [],
   "source": [
    "# Here I change the name of the complexes for better readability\n",
    "for ID in signor_complexes[\"SIGNOR ID\"]:\n",
    "    if ID in WNT_signor.nodes[\"Genesymbol\"].to_list():\n",
    "        new_name = signor_complexes.loc[signor_complexes[\"SIGNOR ID\"] == ID][\"COMPLEX NAME\"].item()\n",
    "        WNT_signor.modify_node_name(old_name=ID, new_name=new_name, type=\"both\")"
   ]
  },
  {
   "cell_type": "code",
   "execution_count": null,
   "id": "2a0b1cea-055d-4044-94a5-714f9a9deb90",
   "metadata": {},
   "outputs": [],
   "source": [
    "# Here I change the name of the protein families for better readability\n",
    "for ID in signor_pf[\"SIGNOR ID\"]:\n",
    "    if ID in WNT_signor.nodes[\"Genesymbol\"].to_list():\n",
    "        new_name = signor_pf.loc[signor_pf[\"SIGNOR ID\"] == ID][\"PROT. FAMILY NAME\"].item() + \"_family\"\n",
    "        WNT_signor.modify_node_name(old_name=ID, new_name=new_name, type=\"both\")"
   ]
  },
  {
   "cell_type": "code",
   "execution_count": null,
   "id": "b4dd077e-ee33-490c-af07-d58a42b48cea",
   "metadata": {},
   "outputs": [],
   "source": [
    "# and here I remove the nodes that form complexes but that have no sources (basically useless input)\n",
    "complexes_nodes = []\n",
    "for ID in signor_complexes[\"COMPLEX NAME\"]:\n",
    "    if ID in WNT_signor.nodes[\"Genesymbol\"].to_list():\n",
    "        nodes = [item.strip() for item in signor_complexes.loc[signor_complexes[\"COMPLEX NAME\"] == ID][\"LIST OF ENTITIES\"].item().split(',')]\n",
    "        complexes_nodes.extend(nodes)\n",
    "print(complexes_nodes)       \n",
    "for node in WNT_signor.nodes[\"Uniprot\"].unique():\n",
    "    if node in complexes_nodes:\n",
    "        if node not in WNT_signor.edges[\"target\"].unique():\n",
    "            WNT_signor.remove_node(node)"
   ]
  },
  {
   "cell_type": "code",
   "execution_count": null,
   "id": "43faebdb-c116-4cf7-ba9a-512bdc1cb46e",
   "metadata": {},
   "outputs": [],
   "source": [
    "wnt_signor_visualizer = NetworkVisualizer(WNT_signor)\n",
    "wnt_signor_visualizer.render(output_file=\"net_signor\", view=True, highlight_nodes=signor_initial_nodes)"
   ]
  },
  {
   "cell_type": "code",
   "execution_count": null,
   "id": "54abb32a-3382-4601-aa9d-40cb5d59c0d2",
   "metadata": {},
   "outputs": [],
   "source": [
    "from neko._outputs.exports import Exports"
   ]
  },
  {
   "cell_type": "code",
   "execution_count": null,
   "id": "cf33b2ea-10c3-4380-8d53-c1cfa8cdfc2b",
   "metadata": {},
   "outputs": [],
   "source": [
    "export = Exports(WNT_signor)"
   ]
  },
  {
   "cell_type": "code",
   "execution_count": null,
   "id": "04393fe3-2a2a-40d5-a148-d7adf4a92ada",
   "metadata": {},
   "outputs": [],
   "source": [
    "export.export_sif(sif_output + \"Signor_with_complexes_Northcott.sif\")"
   ]
  },
  {
   "cell_type": "code",
   "execution_count": null,
   "id": "6d754bc1-095e-417e-8a00-2d02a5fcb02c",
   "metadata": {},
   "outputs": [],
   "source": []
  }
 ],
 "metadata": {
  "kernelspec": {
   "display_name": "Python 3 (ipykernel)",
   "language": "python",
   "name": "python3"
  },
  "language_info": {
   "codemirror_mode": {
    "name": "ipython",
    "version": 3
   },
   "file_extension": ".py",
   "mimetype": "text/x-python",
   "name": "python",
   "nbconvert_exporter": "python",
   "pygments_lexer": "ipython3",
   "version": "3.10.14"
  }
 },
 "nbformat": 4,
 "nbformat_minor": 5
}
