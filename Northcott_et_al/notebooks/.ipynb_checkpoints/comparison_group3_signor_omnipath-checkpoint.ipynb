{
 "cells": [
  {
   "cell_type": "markdown",
   "id": "61c4effb-0e4b-47af-8c4f-76ef7939cf54",
   "metadata": {},
   "source": [
    "The objective of this notebook is to compare the networks' topologies to find common players and/or common interaction among the different subgroups of Medulloblastoma."
   ]
  },
  {
   "cell_type": "markdown",
   "id": "54a70bc6-d299-40c9-960f-36d913f7dc53",
   "metadata": {},
   "source": [
    "During the process of activity flow inference, genes in common with all the subgroups have been included. So those genes of course will pop out during the analysis..."
   ]
  },
  {
   "cell_type": "code",
   "execution_count": 7,
   "id": "be473e9e-0e08-4c3b-897b-e8e8a64a0f6e",
   "metadata": {},
   "outputs": [],
   "source": [
    "from neko.core.network import Network\n",
    "from neko._visual.visualize_network import NetworkVisualizer\n",
    "from neko._inputs.resources import Resources\n",
    "from neko._annotations.gene_ontology import Ontology\n",
    "import omnipath as op\n",
    "import pandas as pd\n",
    "from neko._methods.compare import compare_networks\n",
    "from yfiles_jupyter_graphs import GraphWidget"
   ]
  },
  {
   "cell_type": "code",
   "execution_count": 8,
   "id": "843f216c-61a8-4a2f-ae6c-262a39d1e132",
   "metadata": {},
   "outputs": [],
   "source": [
    "data_folder = \"../data/\"\n",
    "\n",
    "figures_folder = \"../Figures/\"\n",
    "\n",
    "sif_output = \"../sif_files/\""
   ]
  },
  {
   "cell_type": "markdown",
   "id": "c53c768c-aa52-4733-8673-0c864bd121ba",
   "metadata": {},
   "source": [
    "importing resources:"
   ]
  },
  {
   "cell_type": "code",
   "execution_count": 9,
   "id": "faefa5fd-66c1-413e-906d-d6022d51826d",
   "metadata": {},
   "outputs": [],
   "source": [
    "resources_signor = Resources()\n",
    "resources_signor.import_signor_tsv(data_folder + \"signor_db.tsv\")"
   ]
  },
  {
   "cell_type": "code",
   "execution_count": 10,
   "id": "620ff54f-9f5c-40ad-a777-e912dd977357",
   "metadata": {},
   "outputs": [],
   "source": [
    "omnipath = op.interactions.OmniPath().get()"
   ]
  },
  {
   "cell_type": "markdown",
   "id": "97cc5a1c-54aa-4c49-8d0e-d231307efead",
   "metadata": {},
   "source": [
    "importing the SHH networks inferred from signor and omnipath"
   ]
  },
  {
   "cell_type": "code",
   "execution_count": 11,
   "id": "79768dd4-406c-4020-815c-04ad62ef55cd",
   "metadata": {},
   "outputs": [],
   "source": [
    "sif_signor = sif_output + \"SHH/SHH_signor.sif\"\n",
    "SHH_signor = Network(sif_file=sif_signor, resources=resources_signor)\n",
    "\n",
    "sif_omnipath = sif_output + \"SHH/SHH_omnipath.sif\"\n",
    "SHH_omnipath = Network(sif_file=sif_omnipath, resources=omnipath)"
   ]
  },
  {
   "cell_type": "markdown",
   "id": "2316dfe3-178f-44f8-b1ac-4a766647fbec",
   "metadata": {},
   "source": [
    "# First we compare the nodes found in Signor and Omnipath"
   ]
  },
  {
   "cell_type": "code",
   "execution_count": 12,
   "id": "56ff8195-1160-467a-986a-813bf7a09ca0",
   "metadata": {},
   "outputs": [
    {
     "name": "stdout",
     "output_type": "stream",
     "text": [
      "     source  target           comparison\n",
      "0      ABL1  CTNNB1  Unique to Network 2\n",
      "1      ABL1    EGFR  Unique to Network 1\n",
      "2      ABL1    ESR1               Common\n",
      "3      ABL1    JAK2               Common\n",
      "4      ABL1     JUN  Unique to Network 1\n",
      "..      ...     ...                  ...\n",
      "810  ZBTB16   CEBPA  Unique to Network 2\n",
      "811  ZBTB16     ID2  Unique to Network 2\n",
      "812    ZIC1   ATOH1  Unique to Network 2\n",
      "813    ZIC1    GLI1               Common\n",
      "814    ZIC1    GLI3  Unique to Network 1\n",
      "\n",
      "[815 rows x 3 columns]\n",
      "           node           comparison\n",
      "0         MYOD1  Unique to Network 1\n",
      "1    SIGNOR-C13  Unique to Network 1\n",
      "2          JAK1  Unique to Network 1\n",
      "3          JAK3  Unique to Network 1\n",
      "4         CALM3  Unique to Network 1\n",
      "..          ...                  ...\n",
      "164        ABL1               Common\n",
      "165        JAK2               Common\n",
      "166        TLR4               Common\n",
      "167         FYN               Common\n",
      "168      CTNNB1               Common\n",
      "\n",
      "[169 rows x 2 columns]\n"
     ]
    }
   ],
   "source": [
    "interaction_comparison, node_comparison = compare_networks(SHH_signor, SHH_omnipath)\n",
    "print(interaction_comparison)\n",
    "print(node_comparison)"
   ]
  },
  {
   "cell_type": "code",
   "execution_count": 13,
   "id": "9fcb5027-8ac7-4c1d-b861-2a736094e032",
   "metadata": {},
   "outputs": [],
   "source": [
    "common_nodes = node_comparison[node_comparison[\"comparison\"] == \"Common\"][\"node\"].values"
   ]
  },
  {
   "cell_type": "code",
   "execution_count": 14,
   "id": "fbde26c5-ba52-4174-9049-460e87ad1a94",
   "metadata": {},
   "outputs": [
    {
     "data": {
      "text/plain": [
       "array(['SMO', 'ID1', 'SMAD3', 'MAPK3', 'PTCH1', 'RUNX2', 'SOX2', 'FOXO3',\n",
       "       'SRC', 'PBX1', 'RXRA', 'AKT1', 'PGR', 'ESR1', 'BCOR', 'ATOH1',\n",
       "       'HDAC1', 'HDAC3', 'GSK3B', 'DVL1', 'RXRB', 'NR3C1', 'NCOR2',\n",
       "       'SMAD7', 'SHC1', 'SUFU', 'KLF4', 'STAT3', 'RXRG', 'CREBBP', 'RAC1',\n",
       "       'ID2', 'ZIC1', 'YAP1', 'RARB', 'YY1', 'THRA', 'NFATC1', 'PRKCA',\n",
       "       'TGFBR1', 'GLI1', 'CEBPA', 'RELA', 'HDAC5', 'PPARG', 'GLI2',\n",
       "       'NOTCH1', 'TCF12', 'AR', 'MAPK14', 'ABL1', 'JAK2', 'TLR4', 'FYN',\n",
       "       'CTNNB1'], dtype=object)"
      ]
     },
     "execution_count": 14,
     "metadata": {},
     "output_type": "execute_result"
    }
   ],
   "source": [
    "common_nodes"
   ]
  },
  {
   "cell_type": "code",
   "execution_count": 15,
   "id": "99d2a25c-3626-4f4b-b825-d6f0e235cae5",
   "metadata": {},
   "outputs": [
    {
     "data": {
      "text/plain": [
       "132"
      ]
     },
     "execution_count": 15,
     "metadata": {},
     "output_type": "execute_result"
    }
   ],
   "source": [
    "signor_nodes = SHH_signor.nodes[\"Genesymbol\"].values\n",
    "len(signor_nodes)"
   ]
  },
  {
   "cell_type": "code",
   "execution_count": 16,
   "id": "f96e222d-a3e0-41e5-8ade-404b12a3d50a",
   "metadata": {},
   "outputs": [
    {
     "data": {
      "text/plain": [
       "92"
      ]
     },
     "execution_count": 16,
     "metadata": {},
     "output_type": "execute_result"
    }
   ],
   "source": [
    "omnipath_nodes = SHH_omnipath.nodes[\"Genesymbol\"].values\n",
    "len(omnipath_nodes)"
   ]
  },
  {
   "cell_type": "code",
   "execution_count": 17,
   "id": "a9fb1934-b872-47be-bb04-0e954c516e79",
   "metadata": {},
   "outputs": [
    {
     "data": {
      "application/vnd.jupyter.widget-view+json": {
       "model_id": "a69eb21f547c4552a9db5a6c410183d2",
       "version_major": 2,
       "version_minor": 0
      },
      "text/plain": [
       "GraphWidget(layout=Layout(height='800px', width='100%'))"
      ]
     },
     "metadata": {},
     "output_type": "display_data"
    }
   ],
   "source": [
    "NetworkVisualizer.vis_comparison(interaction_comparison, node_comparison,\"hierarchic\", True)"
   ]
  },
  {
   "cell_type": "code",
   "execution_count": 18,
   "id": "4d98f7f6-5160-49be-85f5-6435aa748436",
   "metadata": {},
   "outputs": [],
   "source": [
    "from venny4py.venny4py import *"
   ]
  },
  {
   "cell_type": "code",
   "execution_count": 19,
   "id": "7a65c461-45e8-4645-b820-b65cbcd011c3",
   "metadata": {},
   "outputs": [],
   "source": [
    "set1 = set(omnipath_nodes.tolist())\n",
    "set2 = set(signor_nodes.tolist())"
   ]
  },
  {
   "cell_type": "code",
   "execution_count": 20,
   "id": "b3902247-cc63-4c62-b0fb-742f0cfcff8b",
   "metadata": {},
   "outputs": [
    {
     "data": {
      "image/png": "[encoded data removed]",
      "text/plain": [
       "<Figure size 700x700 with 1 Axes>"
      ]
     },
     "metadata": {},
     "output_type": "display_data"
    }
   ],
   "source": [
    "sets = {\n",
    "    'SHH_omnipath': set(set1),\n",
    "    'SHH_signor': set(set2),\n",
    "}\n",
    "\n",
    "venny4py(sets=sets, out='.', name=\"SHH_signor_omnipath\")"
   ]
  },
  {
   "cell_type": "markdown",
   "id": "494fe91d-9cfe-410f-b24f-f5fa4eb9a42d",
   "metadata": {},
   "source": [
    "# Comparison with full dataset "
   ]
  },
  {
   "cell_type": "markdown",
   "id": "a0dd42ef-fe82-4c3c-9163-c530395c1316",
   "metadata": {},
   "source": [
    "### In this part I will compare the nodes retrieved by signor and omnipath with the genes differentially expressed in the SHH group (see analysis Medulloblastoma part 3)"
   ]
  },
  {
   "cell_type": "code",
   "execution_count": 21,
   "id": "434fc11a-2656-4b0d-9816-eaf16d127f96",
   "metadata": {},
   "outputs": [],
   "source": [
    "data_folder = \"../data/\""
   ]
  },
  {
   "cell_type": "code",
   "execution_count": 22,
   "id": "98bdf7d4-74a9-406f-b677-bd6c5ce77e05",
   "metadata": {},
   "outputs": [],
   "source": [
    "data = pd.read_csv(data_folder + \"gene_per_subgroup_correlation.csv\", header=[0, 1])"
   ]
  },
  {
   "cell_type": "code",
   "execution_count": 23,
   "id": "c2b6e933-5335-442b-99dd-683374dd1883",
   "metadata": {},
   "outputs": [
    {
     "data": {
      "text/html": [
       "<div>\n",
       "<style scoped>\n",
       "    .dataframe tbody tr th:only-of-type {\n",
       "        vertical-align: middle;\n",
       "    }\n",
       "\n",
       "    .dataframe tbody tr th {\n",
       "        vertical-align: top;\n",
       "    }\n",
       "\n",
       "    .dataframe thead tr th {\n",
       "        text-align: left;\n",
       "    }\n",
       "</style>\n",
       "<table border=\"1\" class=\"dataframe\">\n",
       "  <thead>\n",
       "    <tr>\n",
       "      <th></th>\n",
       "      <th>Group</th>\n",
       "      <th colspan=\"2\" halign=\"left\">WNT</th>\n",
       "      <th colspan=\"2\" halign=\"left\">SHH</th>\n",
       "      <th colspan=\"2\" halign=\"left\">Group3</th>\n",
       "      <th colspan=\"2\" halign=\"left\">Group4</th>\n",
       "    </tr>\n",
       "    <tr>\n",
       "      <th></th>\n",
       "      <th>Attribute</th>\n",
       "      <th>name</th>\n",
       "      <th>correlation</th>\n",
       "      <th>name</th>\n",
       "      <th>correlation</th>\n",
       "      <th>name</th>\n",
       "      <th>correlation</th>\n",
       "      <th>name</th>\n",
       "      <th>correlation</th>\n",
       "    </tr>\n",
       "  </thead>\n",
       "  <tbody>\n",
       "    <tr>\n",
       "      <th>0</th>\n",
       "      <td>0</td>\n",
       "      <td>AAED1</td>\n",
       "      <td>0.546154</td>\n",
       "      <td>A4GALT</td>\n",
       "      <td>0.676154</td>\n",
       "      <td>ABCB8</td>\n",
       "      <td>0.574615</td>\n",
       "      <td>AACS</td>\n",
       "      <td>0.740000</td>\n",
       "    </tr>\n",
       "    <tr>\n",
       "      <th>1</th>\n",
       "      <td>1</td>\n",
       "      <td>ABCC8</td>\n",
       "      <td>0.722308</td>\n",
       "      <td>AAED1</td>\n",
       "      <td>0.546154</td>\n",
       "      <td>ABCG4</td>\n",
       "      <td>0.739231</td>\n",
       "      <td>ABCC8</td>\n",
       "      <td>0.722308</td>\n",
       "    </tr>\n",
       "    <tr>\n",
       "      <th>2</th>\n",
       "      <td>2</td>\n",
       "      <td>ABCD2</td>\n",
       "      <td>0.750769</td>\n",
       "      <td>AASS</td>\n",
       "      <td>0.640769</td>\n",
       "      <td>ABT1</td>\n",
       "      <td>0.560769</td>\n",
       "      <td>ABCC9</td>\n",
       "      <td>0.779231</td>\n",
       "    </tr>\n",
       "    <tr>\n",
       "      <th>3</th>\n",
       "      <td>3</td>\n",
       "      <td>ABHD4</td>\n",
       "      <td>0.527692</td>\n",
       "      <td>ABCB4</td>\n",
       "      <td>0.524615</td>\n",
       "      <td>AC016559.1</td>\n",
       "      <td>0.736923</td>\n",
       "      <td>ABHD17C</td>\n",
       "      <td>0.583077</td>\n",
       "    </tr>\n",
       "    <tr>\n",
       "      <th>4</th>\n",
       "      <td>4</td>\n",
       "      <td>AC007405.2</td>\n",
       "      <td>0.781538</td>\n",
       "      <td>ABCB9</td>\n",
       "      <td>0.717692</td>\n",
       "      <td>AC026703.1</td>\n",
       "      <td>0.889231</td>\n",
       "      <td>ABHD4</td>\n",
       "      <td>0.527692</td>\n",
       "    </tr>\n",
       "    <tr>\n",
       "      <th>...</th>\n",
       "      <td>...</td>\n",
       "      <td>...</td>\n",
       "      <td>...</td>\n",
       "      <td>...</td>\n",
       "      <td>...</td>\n",
       "      <td>...</td>\n",
       "      <td>...</td>\n",
       "      <td>...</td>\n",
       "      <td>...</td>\n",
       "    </tr>\n",
       "    <tr>\n",
       "      <th>855</th>\n",
       "      <td>855</td>\n",
       "      <td>ZNF503</td>\n",
       "      <td>0.502308</td>\n",
       "      <td>NaN</td>\n",
       "      <td>NaN</td>\n",
       "      <td>NaN</td>\n",
       "      <td>NaN</td>\n",
       "      <td>UBE2L6</td>\n",
       "      <td>0.775385</td>\n",
       "    </tr>\n",
       "    <tr>\n",
       "      <th>856</th>\n",
       "      <td>856</td>\n",
       "      <td>ZNF576</td>\n",
       "      <td>0.486154</td>\n",
       "      <td>NaN</td>\n",
       "      <td>NaN</td>\n",
       "      <td>NaN</td>\n",
       "      <td>NaN</td>\n",
       "      <td>UNC5D</td>\n",
       "      <td>0.938462</td>\n",
       "    </tr>\n",
       "    <tr>\n",
       "      <th>857</th>\n",
       "      <td>857</td>\n",
       "      <td>ZNF804B</td>\n",
       "      <td>0.676154</td>\n",
       "      <td>NaN</td>\n",
       "      <td>NaN</td>\n",
       "      <td>NaN</td>\n",
       "      <td>NaN</td>\n",
       "      <td>UNCX</td>\n",
       "      <td>0.598462</td>\n",
       "    </tr>\n",
       "    <tr>\n",
       "      <th>858</th>\n",
       "      <td>858</td>\n",
       "      <td>ZNRF2</td>\n",
       "      <td>0.739231</td>\n",
       "      <td>NaN</td>\n",
       "      <td>NaN</td>\n",
       "      <td>NaN</td>\n",
       "      <td>NaN</td>\n",
       "      <td>USP25</td>\n",
       "      <td>0.552308</td>\n",
       "    </tr>\n",
       "    <tr>\n",
       "      <th>859</th>\n",
       "      <td>859</td>\n",
       "      <td>ZNRF3</td>\n",
       "      <td>0.781538</td>\n",
       "      <td>NaN</td>\n",
       "      <td>NaN</td>\n",
       "      <td>NaN</td>\n",
       "      <td>NaN</td>\n",
       "      <td>USP32</td>\n",
       "      <td>0.617692</td>\n",
       "    </tr>\n",
       "  </tbody>\n",
       "</table>\n",
       "<p>860 rows × 9 columns</p>\n",
       "</div>"
      ],
      "text/plain": [
       "        Group         WNT                 SHH                  Group3  \\\n",
       "    Attribute        name correlation    name correlation        name   \n",
       "0           0       AAED1    0.546154  A4GALT    0.676154       ABCB8   \n",
       "1           1       ABCC8    0.722308   AAED1    0.546154       ABCG4   \n",
       "2           2       ABCD2    0.750769    AASS    0.640769        ABT1   \n",
       "3           3       ABHD4    0.527692   ABCB4    0.524615  AC016559.1   \n",
       "4           4  AC007405.2    0.781538   ABCB9    0.717692  AC026703.1   \n",
       "..        ...         ...         ...     ...         ...         ...   \n",
       "855       855      ZNF503    0.502308     NaN         NaN         NaN   \n",
       "856       856      ZNF576    0.486154     NaN         NaN         NaN   \n",
       "857       857     ZNF804B    0.676154     NaN         NaN         NaN   \n",
       "858       858       ZNRF2    0.739231     NaN         NaN         NaN   \n",
       "859       859       ZNRF3    0.781538     NaN         NaN         NaN   \n",
       "\n",
       "                  Group4              \n",
       "    correlation     name correlation  \n",
       "0      0.574615     AACS    0.740000  \n",
       "1      0.739231    ABCC8    0.722308  \n",
       "2      0.560769    ABCC9    0.779231  \n",
       "3      0.736923  ABHD17C    0.583077  \n",
       "4      0.889231    ABHD4    0.527692  \n",
       "..          ...      ...         ...  \n",
       "855         NaN   UBE2L6    0.775385  \n",
       "856         NaN    UNC5D    0.938462  \n",
       "857         NaN     UNCX    0.598462  \n",
       "858         NaN    USP25    0.552308  \n",
       "859         NaN    USP32    0.617692  \n",
       "\n",
       "[860 rows x 9 columns]"
      ]
     },
     "execution_count": 23,
     "metadata": {},
     "output_type": "execute_result"
    }
   ],
   "source": [
    "data"
   ]
  },
  {
   "cell_type": "code",
   "execution_count": 24,
   "id": "dadff66b-d5ed-4219-9872-54d260ef3133",
   "metadata": {},
   "outputs": [],
   "source": [
    "set3 = data[\"SHH\"][\"name\"].values"
   ]
  },
  {
   "cell_type": "code",
   "execution_count": 26,
   "id": "19a297cf-1dce-4e45-a2a1-a77439160d8b",
   "metadata": {},
   "outputs": [
    {
     "data": {
      "text/plain": [
       "array(['A4GALT', 'AAED1', 'AASS', 'ABCB4', 'ABCB9', 'ABLIM3', 'ABTB2',\n",
       "       'AC004381.6', 'AC005358.1', 'AC011897.1', 'ACPL2', 'ACTR3B',\n",
       "       'ADAM23', 'ADAMTS12', 'ADAMTS14', 'ADAMTS15', 'ADAMTS6', 'ADCY8',\n",
       "       'ADCYAP1', 'ADK', 'AFF3', 'AIFM1', 'AJUBA', 'AKAP6', 'AL009178.1',\n",
       "       'AL163636.6', 'AL354993.1', 'ALDH1A3', 'ALDH1L2', 'ANKRD6',\n",
       "       'ANKRD65', 'ANXA1', 'ANXA5', 'APC2', 'APIP', 'APOL4', 'ARAP3',\n",
       "       'ARHGAP11A', 'ARHGAP11B', 'ARHGAP21', 'ARHGEF10', 'ARHGEF26',\n",
       "       'ARID5A', 'ARL4C', 'ASPDH', 'ATCAY', 'ATG10', 'ATOH1', 'ATP1B3',\n",
       "       'ATP2A3', 'ATP2B4', 'B4GALNT1', 'B4GALT5', 'BARD1', 'BARHL2',\n",
       "       'BBX', 'BCL11A', 'BCL2', 'BCL2L11', 'BCL6', 'BMP5', 'BNC1', 'BOC',\n",
       "       'BOK', 'BTBD11', 'BTBD17', 'BTBD3', 'BTG2', 'BUB1', 'BVES',\n",
       "       'C11orf54', 'C11orf70', 'C12orf29', 'C16orf89', 'C1QL1',\n",
       "       'C1orf109', 'C3orf72', 'C5orf38', 'C6orf123', 'C7orf31', 'CA14',\n",
       "       'CABYR', 'CACNG4', 'CACNG7', 'CALCB', 'CALN1', 'CAMK2N1',\n",
       "       'CATSPERG', 'CAV2', 'CCDC109B', 'CCNB1', 'CCNC', 'CCND1', 'CCNI',\n",
       "       'CCSER2', 'CDCA7', 'CDH7', 'CEBPA', 'CEBPB', 'CECR2', 'CELF2',\n",
       "       'CEND1', 'CHDH', 'CHPT1', 'CHRNA5', 'CHSY1', 'CKLF-CMTM1', 'CLDN4',\n",
       "       'CLIP2', 'CLMP', 'CMIP', 'CMTM3', 'CNKSR2', 'CNR1', 'CNTN2',\n",
       "       'COL15A1', 'COL21A1', 'COL25A1', 'COL3A1', 'COL5A2', 'COL8A1',\n",
       "       'COMMD10', 'COX4I1', 'CPED1', 'CPLX1', 'CPM', 'CPNE2', 'CPQ',\n",
       "       'CRB1', 'CRIP2', 'CRISPLD2', 'CSMD1', 'CSNK1E', 'CTC-360G5.1',\n",
       "       'CTC-786C10.1', 'CTDSP1', 'CTDSPL', 'CTNNA2', 'CXCR4', 'CXXC11',\n",
       "       'CXorf57', 'CYBRD1', 'CYFIP1', 'CYP11A1', 'CYYR1', 'DAAM1',\n",
       "       'DAGLA', 'DAPL1', 'DBF4', 'DCC', 'DCDC1', 'DCN', 'DCTD', 'DDX60',\n",
       "       'DERA', 'DGKQ', 'DIAPH2', 'DMRTA1', 'DNTT', 'DOCK10', 'DOCK11',\n",
       "       'DPF3', 'DRAM2', 'DRD2', 'DSCAM', 'DTWD1', 'DUSP11', 'DZIP1',\n",
       "       'EBPL', 'ECM2', 'EDA2R', 'EEF1B2', 'EEF1G', 'EFNB2', 'EGFR',\n",
       "       'EHD1', 'EIF2A', 'EIF3H', 'ELAVL4', 'ELN', 'EMILIN1', 'EMILIN3',\n",
       "       'EMP3', 'EP400', 'EPB41L4A', 'EPB41L4A-AS2', 'EPB41L4B', 'EPHB4',\n",
       "       'ERF', 'ESR2', 'ESRRB', 'ETV6', 'EVC', 'EVC2', 'EXOC2', 'EXOC3L1',\n",
       "       'EYA1', 'F3', 'FABP7', 'FAHD2B', 'FAM110D', 'FAM111B', 'FAM126A',\n",
       "       'FAM155A', 'FAM155B', 'FAM198A', 'FAM198B', 'FAM19A5', 'FAM213B',\n",
       "       'FAM43B', 'FAM84A', 'FANCB', 'FANCL', 'FARP2', 'FAT1', 'FAXDC2',\n",
       "       'FBXL16', 'FBXO16', 'FCHSD1', 'FGF14', 'FGF5', 'FGGY', 'FHL1',\n",
       "       'FHL2', 'FILIP1L', 'FLNB', 'FLNC', 'FLRT2', 'FMNL3', 'FOXL2',\n",
       "       'FOXO6', 'FOXP1', 'FOXS1', 'FREM1', 'FRMD4A', 'FRYL', 'FUT8',\n",
       "       'FUT9', 'GAB1', 'GABRA2', 'GAS1', 'GBP1', 'GCK', 'GCNT2',\n",
       "       'GDAP1L1', 'GINS4', 'GLDC', 'GLI1', 'GLI2', 'GLI3', 'GLRX3',\n",
       "       'GLTSCR2', 'GMPS', 'GNAS', 'GNB2', 'GNG3', 'GPC1', 'GPR173',\n",
       "       'GPR56', 'GPR85', 'GPRC5C', 'GPX7', 'GREB1L', 'GRHPR', 'GRIA4',\n",
       "       'GRID1', 'GRIK3', 'GRIN2A', 'GTF3A', 'GYPC', 'H2AFZ', 'HAPLN3',\n",
       "       'HAS3', 'HDAC4', 'HDDC2', 'HELB', 'HHIP', 'HIST1H1D', 'HIST3H2A',\n",
       "       'HIST3H2BB', 'HIVEP2', 'HIVEP3', 'HJURP', 'HMG20B', 'HMGCLL1',\n",
       "       'HRK', 'HS3ST5', 'HS6ST1', 'HSCB', 'HSPA12A', 'HSPB2', 'HSPE1',\n",
       "       'IFITM10', 'IGFBP5', 'IGFBP6', 'IGLON5', 'IL17RB', 'IL17RC',\n",
       "       'IL17RD', 'IL27RA', 'ING1', 'ING5', 'INPP4B', 'INSM1', 'INSM2',\n",
       "       'IQCJ-SCHIP1', 'IQSEC2', 'IRAK3', 'IRX1', 'ISPD', 'ITGA7',\n",
       "       'ITGBL1', 'ITPA', 'ITPK1', 'ITPR3', 'JOSD2', 'JPH4', 'KCNA3',\n",
       "       'KCND2', 'KCND3', 'KCNG1', 'KCNJ4', 'KCNJ6', 'KCNK12', 'KCNMB4',\n",
       "       'KCNT2', 'KCTD17', 'KHDRBS3', 'KIAA0922', 'KIAA1549L', 'KIAA1755',\n",
       "       'KIF21A', 'KIF26A', 'KIRREL', 'KLF12', 'KLF13', 'KLF6', 'KLF7',\n",
       "       'KLHL4', 'KRBOX1', 'KRT17', 'KRT19', 'KRT31', 'L3MBTL4', 'LAMC1',\n",
       "       'LGALS3', 'LGR4', 'LHFPL2', 'LINC00632', 'LNX2', 'LPHN2', 'LPP',\n",
       "       'LRP5L', 'LRRC16A', 'LRRC18', 'LRRK1', 'LSM6', 'LTB4R', 'LZTS3',\n",
       "       'MAN2A1', 'MANEA', 'MAP2K6', 'MAP3K1', 'MAPKAPK2', 'MARCKS',\n",
       "       'MBNL1', 'MC5R', 'MCCC1', 'MCM2', 'MDFI', 'MDFIC', 'MED10',\n",
       "       'MED12L', 'MET', 'METRN', 'METTL1', 'METTL7A', 'METTL9', 'MFNG',\n",
       "       'MGP', 'MICAL1', 'MID1IP1', 'MIIP', 'MIPEP', 'MMP16', 'MMP17',\n",
       "       'MMS22L', 'MND1', 'MOB1A', 'MPEG1', 'MPG', 'MPST', 'MRAP2',\n",
       "       'MRPS12', 'MRPS22', 'MS4A4A', 'MSN', 'MST4', 'MTCH1', 'MTERFD1',\n",
       "       'MTMR7', 'MXI1', 'MYCL', 'MYD88', 'MYL7', 'MYO16', 'MYO3A',\n",
       "       'MYO7A', 'MYO7B', 'MYOCD', 'MYOZ3', 'MZT2A', 'MZT2B', 'NABP1',\n",
       "       'NCALD', 'NCAPG', 'NDP', 'NDST3', 'NDUFS4', 'NDUFS5', 'NELFCD',\n",
       "       'NEO1', 'NFATC1', 'NFATC4', 'NGEF', 'NGFR', 'NIPA2', 'NKAIN1',\n",
       "       'NLGN1', 'NLGN4X', 'NLRP1', 'NMNAT2', 'NMU', 'NOTCH1', 'NOTCH2',\n",
       "       'NOVA2', 'NOX4', 'NPM1', 'NPTX2', 'NR2F1', 'NRG3', 'NSMCE2',\n",
       "       'NT5DC1', 'NTAN1', 'NTN1', 'NTN4', 'NTNG2', 'NTRK3', 'NTS',\n",
       "       'NUAK2', 'NYAP1', 'OGN', 'OMD', 'OPHN1', 'OPRM1', 'OSTC', 'OXSR1',\n",
       "       'PABPC1', 'PABPC5', 'PAK3', 'PAK7', 'PALLD', 'PALM', 'PARP4',\n",
       "       'PARP9', 'PAWR', 'PAX6', 'PBX1', 'PBX3', 'PBX4', 'PCBP3',\n",
       "       'PCDH11X', 'PCDHB2', 'PCNT', 'PCNXL2', 'PCYOX1L', 'PCYT1B',\n",
       "       'PDE10A', 'PDE1A', 'PDE3A', 'PDE3B', 'PDE5A', 'PDE7A', 'PDLIM3',\n",
       "       'PDPN', 'PDRG1', 'PELI2', 'PFDN5', 'PGAM2', 'PGBD5', 'PGM1',\n",
       "       'PGM2', 'PHACTR3', 'PHGDH', 'PID1', 'PIRT', 'PLCB4', 'PLCH1',\n",
       "       'PLCL1', 'PLCXD3', 'PLD2', 'PLEKHA6', 'PLEKHG3', 'PLEKHG4B',\n",
       "       'PLXNC1', 'PLXND1', 'PODN', 'POLR1D', 'POU3F2', 'POU3F3', 'POU6F2',\n",
       "       'PPARGC1B', 'PPFIBP1', 'PPIL6', 'PPM1H', 'PPP1R17', 'PPP2R2C',\n",
       "       'PRDM13', 'PRDM8', 'PREX1', 'PRIMA1', 'PRKAG2', 'PRKCB', 'PRKCZ',\n",
       "       'PRKD1', 'PRLR', 'PROX1', 'PSD3', 'PSMB10', 'PSME1', 'PSRC1',\n",
       "       'PTCH1', 'PTGDS', 'PTPLA', 'PTPRK', 'PTPRS', 'PTX3', 'PUS1',\n",
       "       'PVRL3', 'QSOX1', 'RAB20', 'RAB22A', 'RAB26', 'RAB33A', 'RAB36',\n",
       "       'RAI14', 'RAP1GAP2', 'RARB', 'RASGEF1C', 'RASSF9', 'RBMS1',\n",
       "       'RBMS3', 'RBP1', 'RCBTB2', 'RFTN2', 'RGMB', 'RGS9', 'RHOB',\n",
       "       'RHOBTB3', 'RNASE4', 'RND3', 'ROBO1', 'ROBO2', 'ROR1',\n",
       "       'RP11-383H13.1', 'RP11-680G10.1', 'RP11-830F9.6', 'RPA4',\n",
       "       'RPGRIP1L', 'RPIA', 'RPL14', 'RPL15', 'RPL18', 'RPL19', 'RPL21',\n",
       "       'RPL22L1', 'RPL34', 'RPL36', 'RPL37A', 'RPL4', 'RPL7', 'RPL7A',\n",
       "       'RPS27A', 'RPS5', 'RPS6KA2', 'RPS6KA6', 'RPS8', 'S100A2', 'SACS',\n",
       "       'SATB2', 'SBSPON', 'SCG5', 'SCHIP1', 'SCPEP1', 'SDC2', 'SEC24D',\n",
       "       'SEMA4C', 'SEMA6A', 'SEPTIN11', 'SERINC2', 'SERP2', 'SFRP1',\n",
       "       'SH2D3C', 'SH3BGRL', 'SH3BGRL3', 'SH3GL2', 'SHANK2', 'SHROOM2',\n",
       "       'SIK1', 'SIVA1', 'SLC16A9', 'SLC2A3', 'SLC35D2', 'SLC36A1',\n",
       "       'SLC41A2', 'SLC44A3', 'SLC45A1', 'SLC4A11', 'SLC4A8', 'SLC6A15',\n",
       "       'SLC8A2', 'SLC9B2', 'SLITRK2', 'SMO', 'SMOC2', 'SMYD2', 'SNAPC1',\n",
       "       'SNX5', 'SORBS3', 'SOX13', 'SOX2', 'SOX9', 'SPATA2L', 'SPATC1L',\n",
       "       'SPC25', 'SPECC1', 'SPHK1', 'SPHKAP', 'SPNS2', 'SPOPL', 'SPSB4',\n",
       "       'SRGAP1', 'SRI', 'SRL', 'SSBP2', 'SSR2', 'ST8SIA1', 'ST8SIA5',\n",
       "       'STAC', 'STAM', 'STAMBPL1', 'STK10', 'STK25', 'STK3', 'STK33',\n",
       "       'STX8', 'SUCLG2', 'SULT1C4', 'SWT1', 'SYCE1L', 'SYNGR3', 'SYPL1',\n",
       "       'SYT1', 'SYT11', 'SYT7', 'TBC1D2B', 'TBCB', 'TBX15', 'TBX18',\n",
       "       'TCEAL7', 'TCEB2', 'TCERG1L', 'TCF12', 'TCF4', 'TCP10L', 'TEAD1',\n",
       "       'TEAD2', 'TEX15', 'TEX9', 'TFAP4', 'TFDP2', 'TFF3', 'TGDS',\n",
       "       'TGFB1I1', 'TGFB2', 'TGIF2', 'THBS3', 'THEMIS2', 'THG1L', 'TLR9',\n",
       "       'TLX3', 'TMEM121', 'TMEM123', 'TMEM144', 'TMEM18', 'TMEM229B',\n",
       "       'TMEM243', 'TMEM98', 'TMSB15A', 'TNFRSF18', 'TOM1L1', 'TOX3',\n",
       "       'TPBGL', 'TRAK1', 'TRHDE', 'TRIB3', 'TRIM46', 'TRIM71', 'TRIP6',\n",
       "       'TRMT112', 'TRPS1', 'TSEN15', 'TSHZ2', 'TSPAN12', 'TSPAN18',\n",
       "       'TTBK1', 'TTC9B', 'TTLL1', 'TUBB3', 'TWF2', 'UBASH3B', 'UBE2L6',\n",
       "       'UBE2QL1', 'UCHL1', 'UGT8', 'UNC13C', 'UNC5C', 'UTP14A', 'UXS1',\n",
       "       'VRK2', 'VSTM4', 'WDFY4', 'WDR72', 'WEE1', 'WNT5A', 'WWTR1',\n",
       "       'XRN2', 'YBEY', 'YWHAZ', 'ZC3H12C', 'ZDHHC13', 'ZEB1', 'ZFP36L1',\n",
       "       'ZNF277', 'ZNF286A', 'ZNF395', 'ZNF43', 'ZNF486', 'ZNF516',\n",
       "       'ZNF621', 'ZNF765', 'ZNF829', 'ZNF85', 'ZNF90', 'ZNF93', nan, nan,\n",
       "       nan, nan, nan, nan, nan, nan, nan, nan, nan, nan, nan, nan, nan,\n",
       "       nan, nan, nan, nan, nan, nan, nan, nan, nan, nan, nan, nan, nan,\n",
       "       nan, nan, nan, nan, nan, nan, nan, nan, nan, nan, nan, nan, nan,\n",
       "       nan, nan, nan, nan, nan, nan, nan, nan, nan, nan, nan, nan, nan,\n",
       "       nan, nan, nan, nan, nan, nan, nan, nan, nan, nan, nan, nan, nan,\n",
       "       nan, nan, nan, nan, nan, nan, nan, nan, nan, nan, nan, nan, nan,\n",
       "       nan, nan, nan, nan, nan, nan, nan, nan, nan, nan, nan, nan, nan,\n",
       "       nan, nan, nan, nan, nan, nan, nan, nan, nan, nan, nan, nan],\n",
       "      dtype=object)"
      ]
     },
     "execution_count": 26,
     "metadata": {},
     "output_type": "execute_result"
    }
   ],
   "source": []
  },
  {
   "cell_type": "code",
   "execution_count": 25,
   "id": "2de94ad2-f94f-43f7-a72d-e1c34cee9211",
   "metadata": {},
   "outputs": [
    {
     "ename": "TypeError",
     "evalue": "'<' not supported between instances of 'float' and 'str'",
     "output_type": "error",
     "traceback": [
      "\u001b[0;31m---------------------------------------------------------------------------\u001b[0m",
      "\u001b[0;31mTypeError\u001b[0m                                 Traceback (most recent call last)",
      "Cell \u001b[0;32mIn[25], line 6\u001b[0m\n\u001b[1;32m      1\u001b[0m sets \u001b[38;5;241m=\u001b[39m {\n\u001b[1;32m      2\u001b[0m     \u001b[38;5;124m'\u001b[39m\u001b[38;5;124mSHH_omnipath\u001b[39m\u001b[38;5;124m'\u001b[39m: \u001b[38;5;28mset\u001b[39m(set1),\n\u001b[1;32m      3\u001b[0m     \u001b[38;5;124m'\u001b[39m\u001b[38;5;124mSHH_data\u001b[39m\u001b[38;5;124m'\u001b[39m: \u001b[38;5;28mset\u001b[39m(set3),\n\u001b[1;32m      4\u001b[0m }\n\u001b[0;32m----> 6\u001b[0m \u001b[43mvenny4py\u001b[49m\u001b[43m(\u001b[49m\u001b[43msets\u001b[49m\u001b[38;5;241;43m=\u001b[39;49m\u001b[43msets\u001b[49m\u001b[43m,\u001b[49m\u001b[43m \u001b[49m\u001b[43mout\u001b[49m\u001b[38;5;241;43m=\u001b[39;49m\u001b[38;5;124;43m'\u001b[39;49m\u001b[38;5;124;43m.\u001b[39;49m\u001b[38;5;124;43m'\u001b[39;49m\u001b[43m,\u001b[49m\u001b[43m \u001b[49m\u001b[43mname\u001b[49m\u001b[38;5;241;43m=\u001b[39;49m\u001b[38;5;124;43m\"\u001b[39;49m\u001b[38;5;124;43mSHH_data_omnipath\u001b[39;49m\u001b[38;5;124;43m\"\u001b[39;49m\u001b[43m)\u001b[49m\n",
      "File \u001b[0;32m~/anaconda3/envs/neko_env/lib/python3.10/site-packages/venny4py/venny4py.py:55\u001b[0m, in \u001b[0;36mvenny4py\u001b[0;34m(sets, out, name, asax, ext, dpi, size)\u001b[0m\n\u001b[1;32m     53\u001b[0m \u001b[38;5;28;01mwith\u001b[39;00m \u001b[38;5;28mopen\u001b[39m(\u001b[38;5;124mf\u001b[39m\u001b[38;5;124m'\u001b[39m\u001b[38;5;132;01m{\u001b[39;00mout\u001b[38;5;132;01m}\u001b[39;00m\u001b[38;5;124m/Intersections_\u001b[39m\u001b[38;5;132;01m{\u001b[39;00m\u001b[38;5;28mlen\u001b[39m(sets)\u001b[38;5;132;01m}\u001b[39;00m\u001b[38;5;124m.txt\u001b[39m\u001b[38;5;124m'\u001b[39m, \u001b[38;5;124m'\u001b[39m\u001b[38;5;124mw\u001b[39m\u001b[38;5;124m'\u001b[39m) \u001b[38;5;28;01mas\u001b[39;00m f:\n\u001b[1;32m     54\u001b[0m     \u001b[38;5;28;01mfor\u001b[39;00m k, v \u001b[38;5;129;01min\u001b[39;00m unique\u001b[38;5;241m.\u001b[39mitems():\n\u001b[0;32m---> 55\u001b[0m         f\u001b[38;5;241m.\u001b[39mwrite(\u001b[38;5;124mf\u001b[39m\u001b[38;5;124m'\u001b[39m\u001b[38;5;132;01m{\u001b[39;00mk\u001b[38;5;132;01m}\u001b[39;00m\u001b[38;5;124m: \u001b[39m\u001b[38;5;132;01m{\u001b[39;00m\u001b[38;5;28mlen\u001b[39m(v)\u001b[38;5;132;01m}\u001b[39;00m\u001b[38;5;124m, \u001b[39m\u001b[38;5;132;01m{\u001b[39;00m\u001b[38;5;28;43msorted\u001b[39;49m\u001b[43m(\u001b[49m\u001b[38;5;28;43mlist\u001b[39;49m\u001b[43m(\u001b[49m\u001b[43mv\u001b[49m\u001b[43m)\u001b[49m\u001b[43m)\u001b[49m\u001b[38;5;132;01m}\u001b[39;00m\u001b[38;5;130;01m\\n\u001b[39;00m\u001b[38;5;124m'\u001b[39m)\n\u001b[1;32m     57\u001b[0m \u001b[38;5;28;01mif\u001b[39;00m asax \u001b[38;5;241m==\u001b[39m \u001b[38;5;28;01mFalse\u001b[39;00m:\n\u001b[1;32m     58\u001b[0m     plt\u001b[38;5;241m.\u001b[39mrcParams[\u001b[38;5;124m'\u001b[39m\u001b[38;5;124mfigure.dpi\u001b[39m\u001b[38;5;124m'\u001b[39m] \u001b[38;5;241m=\u001b[39m \u001b[38;5;241m200\u001b[39m \u001b[38;5;66;03m#dpi in notebook\u001b[39;00m\n",
      "\u001b[0;31mTypeError\u001b[0m: '<' not supported between instances of 'float' and 'str'"
     ]
    }
   ],
   "source": [
    "sets = {\n",
    "    'SHH_omnipath': set(set1),\n",
    "    'SHH_data': set(set3),\n",
    "}\n",
    "\n",
    "venny4py(sets=sets, out='.', name=\"SHH_data_omnipath\")"
   ]
  },
  {
   "cell_type": "code",
   "execution_count": null,
   "id": "4ce81b98-0ea3-4ac0-8520-4dd264ec35da",
   "metadata": {},
   "outputs": [],
   "source": [
    "sets = {\n",
    "    'SHH_signor': set(set2),\n",
    "    'SHH_data': set(set3),\n",
    "}\n",
    "\n",
    "venny4py(sets=sets, out='.', name=\"SHH_data_signor\")"
   ]
  },
  {
   "cell_type": "code",
   "execution_count": null,
   "id": "53972e3b-434a-4840-a0c8-cd65cad13b96",
   "metadata": {},
   "outputs": [],
   "source": []
  }
 ],
 "metadata": {
  "kernelspec": {
   "display_name": "Python 3 (ipykernel)",
   "language": "python",
   "name": "python3"
  },
  "language_info": {
   "codemirror_mode": {
    "name": "ipython",
    "version": 3
   },
   "file_extension": ".py",
   "mimetype": "text/x-python",
   "name": "python",
   "nbconvert_exporter": "python",
   "pygments_lexer": "ipython3",
   "version": "3.10.14"
  }
 },
 "nbformat": 4,
 "nbformat_minor": 5
}
