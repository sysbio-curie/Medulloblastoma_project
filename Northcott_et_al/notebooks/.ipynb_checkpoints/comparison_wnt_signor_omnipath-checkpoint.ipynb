{
 "cells": [
  {
   "cell_type": "markdown",
   "id": "61c4effb-0e4b-47af-8c4f-76ef7939cf54",
   "metadata": {},
   "source": [
    "The objective of this notebook is to compare the networks' topologies to find common players and/or common interaction among the different subgroups of Medulloblastoma."
   ]
  },
  {
   "cell_type": "markdown",
   "id": "54a70bc6-d299-40c9-960f-36d913f7dc53",
   "metadata": {},
   "source": [
    "During the process of activity flow inference, genes in common with all the subgroups have been included. So those genes of course will pop out during the analysis..."
   ]
  },
  {
   "cell_type": "code",
   "execution_count": 1,
   "id": "be473e9e-0e08-4c3b-897b-e8e8a64a0f6e",
   "metadata": {},
   "outputs": [],
   "source": [
    "from neko.core.network import Network\n",
    "from neko._visual.visualize_network import NetworkVisualizer\n",
    "from neko._inputs.resources import Resources\n",
    "from neko._annotations.gene_ontology import Ontology\n",
    "import omnipath as op\n",
    "import pandas as pd\n",
    "from neko._methods.compare import compare_networks\n",
    "from yfiles_jupyter_graphs import GraphWidget"
   ]
  },
  {
   "cell_type": "code",
   "execution_count": 2,
   "id": "843f216c-61a8-4a2f-ae6c-262a39d1e132",
   "metadata": {},
   "outputs": [],
   "source": [
    "data_folder = \"../data/\"\n",
    "\n",
    "figures_folder = \"../Figures/\"\n",
    "\n",
    "sif_output = \"../sif_files/\""
   ]
  },
  {
   "cell_type": "markdown",
   "id": "c53c768c-aa52-4733-8673-0c864bd121ba",
   "metadata": {},
   "source": [
    "importing resources:"
   ]
  },
  {
   "cell_type": "code",
   "execution_count": 3,
   "id": "faefa5fd-66c1-413e-906d-d6022d51826d",
   "metadata": {},
   "outputs": [],
   "source": [
    "resources_signor = Resources()\n",
    "resources_signor.import_signor_tsv(data_folder + \"signor_db.tsv\")"
   ]
  },
  {
   "cell_type": "code",
   "execution_count": 4,
   "id": "620ff54f-9f5c-40ad-a777-e912dd977357",
   "metadata": {},
   "outputs": [],
   "source": [
    "omnipath = op.interactions.OmniPath().get()"
   ]
  },
  {
   "cell_type": "markdown",
   "id": "97cc5a1c-54aa-4c49-8d0e-d231307efead",
   "metadata": {},
   "source": [
    "importing the WNT networks inferred from signor and omnipath"
   ]
  },
  {
   "cell_type": "code",
   "execution_count": 5,
   "id": "79768dd4-406c-4020-815c-04ad62ef55cd",
   "metadata": {},
   "outputs": [],
   "source": [
    "sif_signor = sif_output + \"WNT/WNT_signor.sif\"\n",
    "WNT_signor = Network(sif_file=sif_signor, resources=resources_signor)\n",
    "\n",
    "sif_omnipath = sif_output + \"WNT/WNT_omnipath.sif\"\n",
    "WNT_omnipath = Network(sif_file=sif_omnipath, resources=omnipath)"
   ]
  },
  {
   "cell_type": "code",
   "execution_count": 16,
   "id": "2dc6bafa-212c-4ad6-a66a-9aaa435b6445",
   "metadata": {},
   "outputs": [],
   "source": [
    "wnt_signor_visualizer = NetworkVisualizer(WNT_signor,color_by='effect')\n",
    "wnt_signor_visualizer.render(view=True)"
   ]
  },
  {
   "cell_type": "code",
   "execution_count": 11,
   "id": "1e643a42-5edd-48f0-bf4d-ccf99c9b8a97",
   "metadata": {},
   "outputs": [],
   "source": [
    "wnt_omnipath_visualizer = NetworkVisualizer(WNT_omnipath,color_by='effect')\n",
    "wnt_omnipath_visualizer.render(view=True)"
   ]
  },
  {
   "cell_type": "code",
   "execution_count": 9,
   "id": "56ff8195-1160-467a-986a-813bf7a09ca0",
   "metadata": {},
   "outputs": [
    {
     "name": "stdout",
     "output_type": "stream",
     "text": [
      "     source       target           comparison\n",
      "0       BAD         TP53  Unique to Network 2\n",
      "1       BAX          BAD  Unique to Network 2\n",
      "2     CCND1  SIGNOR-C143  Unique to Network 1\n",
      "3    CDC25A         CDK2  Unique to Network 2\n",
      "4      CDK1          BAD  Unique to Network 2\n",
      "..      ...          ...                  ...\n",
      "309   WWTR1        SMAD3  Unique to Network 2\n",
      "310     XPC      SMARCA4  Unique to Network 2\n",
      "311  ZDHHC5         EZH2  Unique to Network 1\n",
      "312    ZIC1         GLI1               Common\n",
      "313    ZIC1         GLI3  Unique to Network 1\n",
      "\n",
      "[314 rows x 3 columns]\n",
      "       node           comparison\n",
      "0    ZDHHC5  Unique to Network 1\n",
      "1      ESR1  Unique to Network 1\n",
      "2     TGFB1  Unique to Network 1\n",
      "3      EGFR  Unique to Network 1\n",
      "4      LDB1  Unique to Network 1\n",
      "..      ...                  ...\n",
      "93      SP1               Common\n",
      "94  SMARCA4               Common\n",
      "95    SMAD2               Common\n",
      "96     CDK1               Common\n",
      "97     TGFA               Common\n",
      "\n",
      "[98 rows x 2 columns]\n"
     ]
    }
   ],
   "source": [
    "interaction_comparison, node_comparison = compare_networks(WNT_signor, WNT_omnipath)\n",
    "print(interaction_comparison)\n",
    "print(node_comparison)"
   ]
  },
  {
   "cell_type": "code",
   "execution_count": 10,
   "id": "a9fb1934-b872-47be-bb04-0e954c516e79",
   "metadata": {},
   "outputs": [
    {
     "data": {
      "application/vnd.jupyter.widget-view+json": {
       "model_id": "f681bcbbb60f40dd9668215a90c3af07",
       "version_major": 2,
       "version_minor": 0
      },
      "text/plain": [
       "GraphWidget(layout=Layout(height='800px', width='100%'))"
      ]
     },
     "metadata": {},
     "output_type": "display_data"
    }
   ],
   "source": [
    "NetworkVisualizer.vis_comparison(interaction_comparison, node_comparison,\"hierarchic\", True)"
   ]
  },
  {
   "cell_type": "code",
   "execution_count": null,
   "id": "4800990a-f542-405b-aa9b-dbe9c1a5538d",
   "metadata": {},
   "outputs": [],
   "source": []
  }
 ],
 "metadata": {
  "kernelspec": {
   "display_name": "Python 3 (ipykernel)",
   "language": "python",
   "name": "python3"
  },
  "language_info": {
   "codemirror_mode": {
    "name": "ipython",
    "version": 3
   },
   "file_extension": ".py",
   "mimetype": "text/x-python",
   "name": "python",
   "nbconvert_exporter": "python",
   "pygments_lexer": "ipython3",
   "version": "3.10.14"
  }
 },
 "nbformat": 4,
 "nbformat_minor": 5
}
