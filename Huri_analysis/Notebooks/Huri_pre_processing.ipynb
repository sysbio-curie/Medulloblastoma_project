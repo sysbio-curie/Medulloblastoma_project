{
 "cells": [
  {
   "cell_type": "code",
   "execution_count": 1,
   "id": "a9c063b9-5e1c-490b-b2dd-6df661d6a5be",
   "metadata": {},
   "outputs": [],
   "source": [
    "from neko.core.network import Network\n",
    "from neko._visual.visualize_network import NetworkVisualizer\n",
    "from neko._inputs.resources import Resources\n",
    "from neko._annotations.gene_ontology import Ontology\n",
    "import omnipath as op\n",
    "import pandas as pd\n",
    "from neko._inputs.db_translator import IDTranslator"
   ]
  },
  {
   "cell_type": "markdown",
   "id": "65c4b188-bb2f-4a0d-9ecd-41da3ee894cc",
   "metadata": {},
   "source": [
    "First set the folder for input and output"
   ]
  },
  {
   "cell_type": "code",
   "execution_count": 2,
   "id": "0401c779-f392-4ef1-8708-7b163262671d",
   "metadata": {},
   "outputs": [],
   "source": [
    "data_folder = \"../data/\"\n",
    "\n",
    "figures_folder = \"../Figures/\"\n",
    "\n",
    "sif_output = \"../sif_files/\""
   ]
  },
  {
   "cell_type": "markdown",
   "id": "23dac107-e94c-4abe-bd51-c13617047a48",
   "metadata": {},
   "source": [
    "Processing databases"
   ]
  },
  {
   "cell_type": "code",
   "execution_count": 3,
   "id": "cb358b51-2fef-4e0f-b0d2-afa33cc98eae",
   "metadata": {},
   "outputs": [],
   "source": [
    "translator_1 = IDTranslator('../data/HI-union.tsv', '../data/HI-union_translated.csv', 'Ensembl', 'UniProtKB-Swiss-Prot', has_header=False, input_columns=['source', 'target'], processes=12, pickle_dir=\"./pickles_1\")"
   ]
  },
  {
   "cell_type": "code",
   "execution_count": 4,
   "id": "eb4d85c7-10bf-459a-b9d3-618f30499a10",
   "metadata": {},
   "outputs": [
    {
     "data": {
      "text/html": [
       "<pre>2024-07-12 12:14:01,660 - IDTranslator_137375133072064 - INFO - Starting ID translation process from Ensembl to UniProtKB-Swiss-Prot</pre>"
      ],
      "text/plain": [
       "<IPython.core.display.HTML object>"
      ]
     },
     "metadata": {},
     "output_type": "display_data"
    },
    {
     "name": "stderr",
     "output_type": "stream",
     "text": [
      "INFO:IDTranslator_137375133072064:Starting ID translation process from Ensembl to UniProtKB-Swiss-Prot\n"
     ]
    },
    {
     "data": {
      "text/html": [
       "<pre>2024-07-12 12:14:01,699 - IDTranslator_137375133072064 - INFO - Loaded 64006 rows with 9094 unique IDs</pre>"
      ],
      "text/plain": [
       "<IPython.core.display.HTML object>"
      ]
     },
     "metadata": {},
     "output_type": "display_data"
    },
    {
     "name": "stderr",
     "output_type": "stream",
     "text": [
      "INFO:IDTranslator_137375133072064:Loaded 64006 rows with 9094 unique IDs\n"
     ]
    },
    {
     "data": {
      "text/html": [
       "<pre>2024-07-12 12:14:01,701 - IDTranslator_137375133072064 - INFO - No existing progress found. Starting from scratch.</pre>"
      ],
      "text/plain": [
       "<IPython.core.display.HTML object>"
      ]
     },
     "metadata": {},
     "output_type": "display_data"
    },
    {
     "name": "stderr",
     "output_type": "stream",
     "text": [
      "INFO:IDTranslator_137375133072064:No existing progress found. Starting from scratch.\n"
     ]
    },
    {
     "data": {
      "application/vnd.jupyter.widget-view+json": {
       "model_id": "05acc10ce83d4075ac936c0ed0afecfa",
       "version_major": 2,
       "version_minor": 0
      },
      "text/plain": [
       "Processing batches:   0%|          | 0/91 [00:00<?, ?it/s]"
      ]
     },
     "metadata": {},
     "output_type": "display_data"
    },
    {
     "data": {
      "text/html": [
       "<pre>2024-07-12 12:16:20,270 - IDTranslator_137375133072064 - INFO - Processed batch 1/91</pre>"
      ],
      "text/plain": [
       "<IPython.core.display.HTML object>"
      ]
     },
     "metadata": {},
     "output_type": "display_data"
    },
    {
     "name": "stderr",
     "output_type": "stream",
     "text": [
      "INFO:IDTranslator_137375133072064:Processed batch 1/91\n"
     ]
    },
    {
     "data": {
      "text/html": [
       "<pre>2024-07-12 12:16:20,272 - IDTranslator_137375133072064 - INFO - Processed batch 2/91</pre>"
      ],
      "text/plain": [
       "<IPython.core.display.HTML object>"
      ]
     },
     "metadata": {},
     "output_type": "display_data"
    },
    {
     "name": "stderr",
     "output_type": "stream",
     "text": [
      "INFO:IDTranslator_137375133072064:Processed batch 2/91\n"
     ]
    },
    {
     "data": {
      "text/html": [
       "<pre>2024-07-12 12:16:20,273 - IDTranslator_137375133072064 - INFO - Progress saved to checkpoint_batch_2.pkl</pre>"
      ],
      "text/plain": [
       "<IPython.core.display.HTML object>"
      ]
     },
     "metadata": {},
     "output_type": "display_data"
    },
    {
     "name": "stderr",
     "output_type": "stream",
     "text": [
      "INFO:IDTranslator_137375133072064:Progress saved to checkpoint_batch_2.pkl\n"
     ]
    },
    {
     "data": {
      "text/html": [
       "<pre>2024-07-12 12:16:20,278 - IDTranslator_137375133072064 - INFO - Processed batch 3/91</pre>"
      ],
      "text/plain": [
       "<IPython.core.display.HTML object>"
      ]
     },
     "metadata": {},
     "output_type": "display_data"
    },
    {
     "name": "stderr",
     "output_type": "stream",
     "text": [
      "INFO:IDTranslator_137375133072064:Processed batch 3/91\n"
     ]
    },
    {
     "data": {
      "text/html": [
       "<pre>2024-07-12 12:16:20,359 - IDTranslator_137375133072064 - INFO - Processed batch 4/91</pre>"
      ],
      "text/plain": [
       "<IPython.core.display.HTML object>"
      ]
     },
     "metadata": {},
     "output_type": "display_data"
    },
    {
     "name": "stderr",
     "output_type": "stream",
     "text": [
      "INFO:IDTranslator_137375133072064:Processed batch 4/91\n"
     ]
    },
    {
     "data": {
      "text/html": [
       "<pre>2024-07-12 12:16:20,360 - IDTranslator_137375133072064 - INFO - Progress saved to checkpoint_batch_4.pkl</pre>"
      ],
      "text/plain": [
       "<IPython.core.display.HTML object>"
      ]
     },
     "metadata": {},
     "output_type": "display_data"
    },
    {
     "name": "stderr",
     "output_type": "stream",
     "text": [
      "INFO:IDTranslator_137375133072064:Progress saved to checkpoint_batch_4.pkl\n"
     ]
    },
    {
     "data": {
      "text/html": [
       "<pre>2024-07-12 12:16:21,514 - IDTranslator_137375133072064 - INFO - Processed batch 5/91</pre>"
      ],
      "text/plain": [
       "<IPython.core.display.HTML object>"
      ]
     },
     "metadata": {},
     "output_type": "display_data"
    },
    {
     "name": "stderr",
     "output_type": "stream",
     "text": [
      "INFO:IDTranslator_137375133072064:Processed batch 5/91\n"
     ]
    },
    {
     "data": {
      "text/html": [
       "<pre>2024-07-12 12:16:21,534 - IDTranslator_137375133072064 - INFO - Processed batch 6/91</pre>"
      ],
      "text/plain": [
       "<IPython.core.display.HTML object>"
      ]
     },
     "metadata": {},
     "output_type": "display_data"
    },
    {
     "name": "stderr",
     "output_type": "stream",
     "text": [
      "INFO:IDTranslator_137375133072064:Processed batch 6/91\n"
     ]
    },
    {
     "data": {
      "text/html": [
       "<pre>2024-07-12 12:16:21,536 - IDTranslator_137375133072064 - INFO - Progress saved to checkpoint_batch_6.pkl</pre>"
      ],
      "text/plain": [
       "<IPython.core.display.HTML object>"
      ]
     },
     "metadata": {},
     "output_type": "display_data"
    },
    {
     "name": "stderr",
     "output_type": "stream",
     "text": [
      "INFO:IDTranslator_137375133072064:Progress saved to checkpoint_batch_6.pkl\n"
     ]
    },
    {
     "data": {
      "text/html": [
       "<pre>2024-07-12 12:16:21,541 - IDTranslator_137375133072064 - INFO - Processed batch 7/91</pre>"
      ],
      "text/plain": [
       "<IPython.core.display.HTML object>"
      ]
     },
     "metadata": {},
     "output_type": "display_data"
    },
    {
     "name": "stderr",
     "output_type": "stream",
     "text": [
      "INFO:IDTranslator_137375133072064:Processed batch 7/91\n"
     ]
    },
    {
     "data": {
      "text/html": [
       "<pre>2024-07-12 12:16:21,604 - IDTranslator_137375133072064 - INFO - Processed batch 8/91</pre>"
      ],
      "text/plain": [
       "<IPython.core.display.HTML object>"
      ]
     },
     "metadata": {},
     "output_type": "display_data"
    },
    {
     "name": "stderr",
     "output_type": "stream",
     "text": [
      "INFO:IDTranslator_137375133072064:Processed batch 8/91\n"
     ]
    },
    {
     "data": {
      "text/html": [
       "<pre>2024-07-12 12:16:21,605 - IDTranslator_137375133072064 - INFO - Progress saved to checkpoint_batch_8.pkl</pre>"
      ],
      "text/plain": [
       "<IPython.core.display.HTML object>"
      ]
     },
     "metadata": {},
     "output_type": "display_data"
    },
    {
     "name": "stderr",
     "output_type": "stream",
     "text": [
      "INFO:IDTranslator_137375133072064:Progress saved to checkpoint_batch_8.pkl\n"
     ]
    },
    {
     "data": {
      "text/html": [
       "<pre>2024-07-12 12:16:22,627 - IDTranslator_137375133072064 - INFO - Processed batch 9/91</pre>"
      ],
      "text/plain": [
       "<IPython.core.display.HTML object>"
      ]
     },
     "metadata": {},
     "output_type": "display_data"
    },
    {
     "name": "stderr",
     "output_type": "stream",
     "text": [
      "INFO:IDTranslator_137375133072064:Processed batch 9/91\n"
     ]
    },
    {
     "data": {
      "text/html": [
       "<pre>2024-07-12 12:16:22,640 - IDTranslator_137375133072064 - INFO - Processed batch 10/91</pre>"
      ],
      "text/plain": [
       "<IPython.core.display.HTML object>"
      ]
     },
     "metadata": {},
     "output_type": "display_data"
    },
    {
     "name": "stderr",
     "output_type": "stream",
     "text": [
      "INFO:IDTranslator_137375133072064:Processed batch 10/91\n"
     ]
    },
    {
     "data": {
      "text/html": [
       "<pre>2024-07-12 12:16:22,642 - IDTranslator_137375133072064 - INFO - Progress saved to checkpoint_batch_10.pkl</pre>"
      ],
      "text/plain": [
       "<IPython.core.display.HTML object>"
      ]
     },
     "metadata": {},
     "output_type": "display_data"
    },
    {
     "name": "stderr",
     "output_type": "stream",
     "text": [
      "INFO:IDTranslator_137375133072064:Progress saved to checkpoint_batch_10.pkl\n"
     ]
    },
    {
     "data": {
      "text/html": [
       "<pre>2024-07-12 12:16:22,799 - IDTranslator_137375133072064 - INFO - Processed batch 11/91</pre>"
      ],
      "text/plain": [
       "<IPython.core.display.HTML object>"
      ]
     },
     "metadata": {},
     "output_type": "display_data"
    },
    {
     "name": "stderr",
     "output_type": "stream",
     "text": [
      "INFO:IDTranslator_137375133072064:Processed batch 11/91\n"
     ]
    },
    {
     "data": {
      "text/html": [
       "<pre>2024-07-12 12:16:23,775 - IDTranslator_137375133072064 - INFO - Processed batch 12/91</pre>"
      ],
      "text/plain": [
       "<IPython.core.display.HTML object>"
      ]
     },
     "metadata": {},
     "output_type": "display_data"
    },
    {
     "name": "stderr",
     "output_type": "stream",
     "text": [
      "INFO:IDTranslator_137375133072064:Processed batch 12/91\n"
     ]
    },
    {
     "data": {
      "text/html": [
       "<pre>2024-07-12 12:16:23,777 - IDTranslator_137375133072064 - INFO - Progress saved to checkpoint_batch_12.pkl</pre>"
      ],
      "text/plain": [
       "<IPython.core.display.HTML object>"
      ]
     },
     "metadata": {},
     "output_type": "display_data"
    },
    {
     "name": "stderr",
     "output_type": "stream",
     "text": [
      "INFO:IDTranslator_137375133072064:Progress saved to checkpoint_batch_12.pkl\n"
     ]
    },
    {
     "data": {
      "text/html": [
       "<pre>2024-07-12 12:18:26,767 - IDTranslator_137375133072064 - INFO - Processed batch 13/91</pre>"
      ],
      "text/plain": [
       "<IPython.core.display.HTML object>"
      ]
     },
     "metadata": {},
     "output_type": "display_data"
    },
    {
     "name": "stderr",
     "output_type": "stream",
     "text": [
      "INFO:IDTranslator_137375133072064:Processed batch 13/91\n"
     ]
    },
    {
     "data": {
      "text/html": [
       "<pre>2024-07-12 12:18:27,121 - IDTranslator_137375133072064 - INFO - Processed batch 14/91</pre>"
      ],
      "text/plain": [
       "<IPython.core.display.HTML object>"
      ]
     },
     "metadata": {},
     "output_type": "display_data"
    },
    {
     "name": "stderr",
     "output_type": "stream",
     "text": [
      "INFO:IDTranslator_137375133072064:Processed batch 14/91\n"
     ]
    },
    {
     "data": {
      "text/html": [
       "<pre>2024-07-12 12:18:27,123 - IDTranslator_137375133072064 - INFO - Progress saved to checkpoint_batch_14.pkl</pre>"
      ],
      "text/plain": [
       "<IPython.core.display.HTML object>"
      ]
     },
     "metadata": {},
     "output_type": "display_data"
    },
    {
     "name": "stderr",
     "output_type": "stream",
     "text": [
      "INFO:IDTranslator_137375133072064:Progress saved to checkpoint_batch_14.pkl\n"
     ]
    },
    {
     "data": {
      "text/html": [
       "<pre>2024-07-12 12:18:27,758 - IDTranslator_137375133072064 - INFO - Processed batch 15/91</pre>"
      ],
      "text/plain": [
       "<IPython.core.display.HTML object>"
      ]
     },
     "metadata": {},
     "output_type": "display_data"
    },
    {
     "name": "stderr",
     "output_type": "stream",
     "text": [
      "INFO:IDTranslator_137375133072064:Processed batch 15/91\n"
     ]
    },
    {
     "data": {
      "text/html": [
       "<pre>2024-07-12 12:18:27,912 - IDTranslator_137375133072064 - INFO - Processed batch 16/91</pre>"
      ],
      "text/plain": [
       "<IPython.core.display.HTML object>"
      ]
     },
     "metadata": {},
     "output_type": "display_data"
    },
    {
     "name": "stderr",
     "output_type": "stream",
     "text": [
      "INFO:IDTranslator_137375133072064:Processed batch 16/91\n"
     ]
    },
    {
     "data": {
      "text/html": [
       "<pre>2024-07-12 12:18:27,914 - IDTranslator_137375133072064 - INFO - Progress saved to checkpoint_batch_16.pkl</pre>"
      ],
      "text/plain": [
       "<IPython.core.display.HTML object>"
      ]
     },
     "metadata": {},
     "output_type": "display_data"
    },
    {
     "name": "stderr",
     "output_type": "stream",
     "text": [
      "INFO:IDTranslator_137375133072064:Progress saved to checkpoint_batch_16.pkl\n"
     ]
    },
    {
     "data": {
      "text/html": [
       "<pre>2024-07-12 12:18:27,998 - IDTranslator_137375133072064 - INFO - Processed batch 17/91</pre>"
      ],
      "text/plain": [
       "<IPython.core.display.HTML object>"
      ]
     },
     "metadata": {},
     "output_type": "display_data"
    },
    {
     "name": "stderr",
     "output_type": "stream",
     "text": [
      "INFO:IDTranslator_137375133072064:Processed batch 17/91\n"
     ]
    },
    {
     "data": {
      "text/html": [
       "<pre>2024-07-12 12:18:28,141 - IDTranslator_137375133072064 - INFO - Processed batch 18/91</pre>"
      ],
      "text/plain": [
       "<IPython.core.display.HTML object>"
      ]
     },
     "metadata": {},
     "output_type": "display_data"
    },
    {
     "name": "stderr",
     "output_type": "stream",
     "text": [
      "INFO:IDTranslator_137375133072064:Processed batch 18/91\n"
     ]
    },
    {
     "data": {
      "text/html": [
       "<pre>2024-07-12 12:18:28,143 - IDTranslator_137375133072064 - INFO - Progress saved to checkpoint_batch_18.pkl</pre>"
      ],
      "text/plain": [
       "<IPython.core.display.HTML object>"
      ]
     },
     "metadata": {},
     "output_type": "display_data"
    },
    {
     "name": "stderr",
     "output_type": "stream",
     "text": [
      "INFO:IDTranslator_137375133072064:Progress saved to checkpoint_batch_18.pkl\n"
     ]
    },
    {
     "data": {
      "text/html": [
       "<pre>2024-07-12 12:18:29,224 - IDTranslator_137375133072064 - INFO - Processed batch 19/91</pre>"
      ],
      "text/plain": [
       "<IPython.core.display.HTML object>"
      ]
     },
     "metadata": {},
     "output_type": "display_data"
    },
    {
     "name": "stderr",
     "output_type": "stream",
     "text": [
      "INFO:IDTranslator_137375133072064:Processed batch 19/91\n"
     ]
    },
    {
     "data": {
      "text/html": [
       "<pre>2024-07-12 12:18:29,228 - IDTranslator_137375133072064 - INFO - Processed batch 20/91</pre>"
      ],
      "text/plain": [
       "<IPython.core.display.HTML object>"
      ]
     },
     "metadata": {},
     "output_type": "display_data"
    },
    {
     "name": "stderr",
     "output_type": "stream",
     "text": [
      "INFO:IDTranslator_137375133072064:Processed batch 20/91\n"
     ]
    },
    {
     "data": {
      "text/html": [
       "<pre>2024-07-12 12:18:29,230 - IDTranslator_137375133072064 - INFO - Progress saved to checkpoint_batch_20.pkl</pre>"
      ],
      "text/plain": [
       "<IPython.core.display.HTML object>"
      ]
     },
     "metadata": {},
     "output_type": "display_data"
    },
    {
     "name": "stderr",
     "output_type": "stream",
     "text": [
      "INFO:IDTranslator_137375133072064:Progress saved to checkpoint_batch_20.pkl\n"
     ]
    },
    {
     "data": {
      "text/html": [
       "<pre>2024-07-12 12:18:29,252 - IDTranslator_137375133072064 - INFO - Processed batch 21/91</pre>"
      ],
      "text/plain": [
       "<IPython.core.display.HTML object>"
      ]
     },
     "metadata": {},
     "output_type": "display_data"
    },
    {
     "name": "stderr",
     "output_type": "stream",
     "text": [
      "INFO:IDTranslator_137375133072064:Processed batch 21/91\n"
     ]
    },
    {
     "data": {
      "text/html": [
       "<pre>2024-07-12 12:18:29,303 - IDTranslator_137375133072064 - INFO - Processed batch 22/91</pre>"
      ],
      "text/plain": [
       "<IPython.core.display.HTML object>"
      ]
     },
     "metadata": {},
     "output_type": "display_data"
    },
    {
     "name": "stderr",
     "output_type": "stream",
     "text": [
      "INFO:IDTranslator_137375133072064:Processed batch 22/91\n"
     ]
    },
    {
     "data": {
      "text/html": [
       "<pre>2024-07-12 12:18:29,305 - IDTranslator_137375133072064 - INFO - Progress saved to checkpoint_batch_22.pkl</pre>"
      ],
      "text/plain": [
       "<IPython.core.display.HTML object>"
      ]
     },
     "metadata": {},
     "output_type": "display_data"
    },
    {
     "name": "stderr",
     "output_type": "stream",
     "text": [
      "INFO:IDTranslator_137375133072064:Progress saved to checkpoint_batch_22.pkl\n"
     ]
    },
    {
     "data": {
      "text/html": [
       "<pre>2024-07-12 12:18:29,507 - IDTranslator_137375133072064 - INFO - Processed batch 23/91</pre>"
      ],
      "text/plain": [
       "<IPython.core.display.HTML object>"
      ]
     },
     "metadata": {},
     "output_type": "display_data"
    },
    {
     "name": "stderr",
     "output_type": "stream",
     "text": [
      "INFO:IDTranslator_137375133072064:Processed batch 23/91\n"
     ]
    },
    {
     "data": {
      "text/html": [
       "<pre>2024-07-12 12:18:30,469 - IDTranslator_137375133072064 - INFO - Processed batch 24/91</pre>"
      ],
      "text/plain": [
       "<IPython.core.display.HTML object>"
      ]
     },
     "metadata": {},
     "output_type": "display_data"
    },
    {
     "name": "stderr",
     "output_type": "stream",
     "text": [
      "INFO:IDTranslator_137375133072064:Processed batch 24/91\n"
     ]
    },
    {
     "data": {
      "text/html": [
       "<pre>2024-07-12 12:18:30,472 - IDTranslator_137375133072064 - INFO - Progress saved to checkpoint_batch_24.pkl</pre>"
      ],
      "text/plain": [
       "<IPython.core.display.HTML object>"
      ]
     },
     "metadata": {},
     "output_type": "display_data"
    },
    {
     "name": "stderr",
     "output_type": "stream",
     "text": [
      "INFO:IDTranslator_137375133072064:Progress saved to checkpoint_batch_24.pkl\n"
     ]
    },
    {
     "data": {
      "text/html": [
       "<pre>2024-07-12 12:20:41,798 - IDTranslator_137375133072064 - INFO - Processed batch 25/91</pre>"
      ],
      "text/plain": [
       "<IPython.core.display.HTML object>"
      ]
     },
     "metadata": {},
     "output_type": "display_data"
    },
    {
     "name": "stderr",
     "output_type": "stream",
     "text": [
      "INFO:IDTranslator_137375133072064:Processed batch 25/91\n"
     ]
    },
    {
     "data": {
      "text/html": [
       "<pre>2024-07-12 12:20:41,909 - IDTranslator_137375133072064 - INFO - Processed batch 26/91</pre>"
      ],
      "text/plain": [
       "<IPython.core.display.HTML object>"
      ]
     },
     "metadata": {},
     "output_type": "display_data"
    },
    {
     "name": "stderr",
     "output_type": "stream",
     "text": [
      "INFO:IDTranslator_137375133072064:Processed batch 26/91\n"
     ]
    },
    {
     "data": {
      "text/html": [
       "<pre>2024-07-12 12:20:41,911 - IDTranslator_137375133072064 - INFO - Progress saved to checkpoint_batch_26.pkl</pre>"
      ],
      "text/plain": [
       "<IPython.core.display.HTML object>"
      ]
     },
     "metadata": {},
     "output_type": "display_data"
    },
    {
     "name": "stderr",
     "output_type": "stream",
     "text": [
      "INFO:IDTranslator_137375133072064:Progress saved to checkpoint_batch_26.pkl\n"
     ]
    },
    {
     "data": {
      "text/html": [
       "<pre>2024-07-12 12:20:41,995 - IDTranslator_137375133072064 - INFO - Processed batch 27/91</pre>"
      ],
      "text/plain": [
       "<IPython.core.display.HTML object>"
      ]
     },
     "metadata": {},
     "output_type": "display_data"
    },
    {
     "name": "stderr",
     "output_type": "stream",
     "text": [
      "INFO:IDTranslator_137375133072064:Processed batch 27/91\n"
     ]
    },
    {
     "data": {
      "text/html": [
       "<pre>2024-07-12 12:20:41,999 - IDTranslator_137375133072064 - INFO - Processed batch 28/91</pre>"
      ],
      "text/plain": [
       "<IPython.core.display.HTML object>"
      ]
     },
     "metadata": {},
     "output_type": "display_data"
    },
    {
     "name": "stderr",
     "output_type": "stream",
     "text": [
      "INFO:IDTranslator_137375133072064:Processed batch 28/91\n"
     ]
    },
    {
     "data": {
      "text/html": [
       "<pre>2024-07-12 12:20:42,001 - IDTranslator_137375133072064 - INFO - Progress saved to checkpoint_batch_28.pkl</pre>"
      ],
      "text/plain": [
       "<IPython.core.display.HTML object>"
      ]
     },
     "metadata": {},
     "output_type": "display_data"
    },
    {
     "name": "stderr",
     "output_type": "stream",
     "text": [
      "INFO:IDTranslator_137375133072064:Progress saved to checkpoint_batch_28.pkl\n"
     ]
    },
    {
     "data": {
      "text/html": [
       "<pre>2024-07-12 12:20:42,057 - IDTranslator_137375133072064 - INFO - Processed batch 29/91</pre>"
      ],
      "text/plain": [
       "<IPython.core.display.HTML object>"
      ]
     },
     "metadata": {},
     "output_type": "display_data"
    },
    {
     "name": "stderr",
     "output_type": "stream",
     "text": [
      "INFO:IDTranslator_137375133072064:Processed batch 29/91\n"
     ]
    },
    {
     "data": {
      "text/html": [
       "<pre>2024-07-12 12:20:43,046 - IDTranslator_137375133072064 - INFO - Processed batch 30/91</pre>"
      ],
      "text/plain": [
       "<IPython.core.display.HTML object>"
      ]
     },
     "metadata": {},
     "output_type": "display_data"
    },
    {
     "name": "stderr",
     "output_type": "stream",
     "text": [
      "INFO:IDTranslator_137375133072064:Processed batch 30/91\n"
     ]
    },
    {
     "data": {
      "text/html": [
       "<pre>2024-07-12 12:20:43,048 - IDTranslator_137375133072064 - INFO - Progress saved to checkpoint_batch_30.pkl</pre>"
      ],
      "text/plain": [
       "<IPython.core.display.HTML object>"
      ]
     },
     "metadata": {},
     "output_type": "display_data"
    },
    {
     "name": "stderr",
     "output_type": "stream",
     "text": [
      "INFO:IDTranslator_137375133072064:Progress saved to checkpoint_batch_30.pkl\n"
     ]
    },
    {
     "data": {
      "text/html": [
       "<pre>2024-07-12 12:20:43,078 - IDTranslator_137375133072064 - INFO - Processed batch 31/91</pre>"
      ],
      "text/plain": [
       "<IPython.core.display.HTML object>"
      ]
     },
     "metadata": {},
     "output_type": "display_data"
    },
    {
     "name": "stderr",
     "output_type": "stream",
     "text": [
      "INFO:IDTranslator_137375133072064:Processed batch 31/91\n"
     ]
    },
    {
     "data": {
      "text/html": [
       "<pre>2024-07-12 12:20:43,234 - IDTranslator_137375133072064 - INFO - Processed batch 32/91</pre>"
      ],
      "text/plain": [
       "<IPython.core.display.HTML object>"
      ]
     },
     "metadata": {},
     "output_type": "display_data"
    },
    {
     "name": "stderr",
     "output_type": "stream",
     "text": [
      "INFO:IDTranslator_137375133072064:Processed batch 32/91\n"
     ]
    },
    {
     "data": {
      "text/html": [
       "<pre>2024-07-12 12:20:43,235 - IDTranslator_137375133072064 - INFO - Progress saved to checkpoint_batch_32.pkl</pre>"
      ],
      "text/plain": [
       "<IPython.core.display.HTML object>"
      ]
     },
     "metadata": {},
     "output_type": "display_data"
    },
    {
     "name": "stderr",
     "output_type": "stream",
     "text": [
      "INFO:IDTranslator_137375133072064:Progress saved to checkpoint_batch_32.pkl\n"
     ]
    },
    {
     "data": {
      "text/html": [
       "<pre>2024-07-12 12:20:43,260 - IDTranslator_137375133072064 - INFO - Processed batch 33/91</pre>"
      ],
      "text/plain": [
       "<IPython.core.display.HTML object>"
      ]
     },
     "metadata": {},
     "output_type": "display_data"
    },
    {
     "name": "stderr",
     "output_type": "stream",
     "text": [
      "INFO:IDTranslator_137375133072064:Processed batch 33/91\n"
     ]
    },
    {
     "data": {
      "text/html": [
       "<pre>2024-07-12 12:20:44,588 - IDTranslator_137375133072064 - INFO - Processed batch 34/91</pre>"
      ],
      "text/plain": [
       "<IPython.core.display.HTML object>"
      ]
     },
     "metadata": {},
     "output_type": "display_data"
    },
    {
     "name": "stderr",
     "output_type": "stream",
     "text": [
      "INFO:IDTranslator_137375133072064:Processed batch 34/91\n"
     ]
    },
    {
     "data": {
      "text/html": [
       "<pre>2024-07-12 12:20:44,590 - IDTranslator_137375133072064 - INFO - Progress saved to checkpoint_batch_34.pkl</pre>"
      ],
      "text/plain": [
       "<IPython.core.display.HTML object>"
      ]
     },
     "metadata": {},
     "output_type": "display_data"
    },
    {
     "name": "stderr",
     "output_type": "stream",
     "text": [
      "INFO:IDTranslator_137375133072064:Progress saved to checkpoint_batch_34.pkl\n"
     ]
    },
    {
     "data": {
      "text/html": [
       "<pre>2024-07-12 12:20:44,830 - IDTranslator_137375133072064 - INFO - Processed batch 35/91</pre>"
      ],
      "text/plain": [
       "<IPython.core.display.HTML object>"
      ]
     },
     "metadata": {},
     "output_type": "display_data"
    },
    {
     "name": "stderr",
     "output_type": "stream",
     "text": [
      "INFO:IDTranslator_137375133072064:Processed batch 35/91\n"
     ]
    },
    {
     "data": {
      "text/html": [
       "<pre>2024-07-12 12:20:45,750 - IDTranslator_137375133072064 - INFO - Processed batch 36/91</pre>"
      ],
      "text/plain": [
       "<IPython.core.display.HTML object>"
      ]
     },
     "metadata": {},
     "output_type": "display_data"
    },
    {
     "name": "stderr",
     "output_type": "stream",
     "text": [
      "INFO:IDTranslator_137375133072064:Processed batch 36/91\n"
     ]
    },
    {
     "data": {
      "text/html": [
       "<pre>2024-07-12 12:20:45,753 - IDTranslator_137375133072064 - INFO - Progress saved to checkpoint_batch_36.pkl</pre>"
      ],
      "text/plain": [
       "<IPython.core.display.HTML object>"
      ]
     },
     "metadata": {},
     "output_type": "display_data"
    },
    {
     "name": "stderr",
     "output_type": "stream",
     "text": [
      "INFO:IDTranslator_137375133072064:Progress saved to checkpoint_batch_36.pkl\n"
     ]
    },
    {
     "data": {
      "text/html": [
       "<pre>2024-07-12 12:22:50,991 - IDTranslator_137375133072064 - INFO - Processed batch 37/91</pre>"
      ],
      "text/plain": [
       "<IPython.core.display.HTML object>"
      ]
     },
     "metadata": {},
     "output_type": "display_data"
    },
    {
     "name": "stderr",
     "output_type": "stream",
     "text": [
      "INFO:IDTranslator_137375133072064:Processed batch 37/91\n"
     ]
    },
    {
     "data": {
      "text/html": [
       "<pre>2024-07-12 12:22:51,082 - IDTranslator_137375133072064 - INFO - Processed batch 38/91</pre>"
      ],
      "text/plain": [
       "<IPython.core.display.HTML object>"
      ]
     },
     "metadata": {},
     "output_type": "display_data"
    },
    {
     "name": "stderr",
     "output_type": "stream",
     "text": [
      "INFO:IDTranslator_137375133072064:Processed batch 38/91\n"
     ]
    },
    {
     "data": {
      "text/html": [
       "<pre>2024-07-12 12:22:51,085 - IDTranslator_137375133072064 - INFO - Progress saved to checkpoint_batch_38.pkl</pre>"
      ],
      "text/plain": [
       "<IPython.core.display.HTML object>"
      ]
     },
     "metadata": {},
     "output_type": "display_data"
    },
    {
     "name": "stderr",
     "output_type": "stream",
     "text": [
      "INFO:IDTranslator_137375133072064:Progress saved to checkpoint_batch_38.pkl\n"
     ]
    },
    {
     "data": {
      "text/html": [
       "<pre>2024-07-12 12:22:51,960 - IDTranslator_137375133072064 - INFO - Processed batch 39/91</pre>"
      ],
      "text/plain": [
       "<IPython.core.display.HTML object>"
      ]
     },
     "metadata": {},
     "output_type": "display_data"
    },
    {
     "name": "stderr",
     "output_type": "stream",
     "text": [
      "INFO:IDTranslator_137375133072064:Processed batch 39/91\n"
     ]
    },
    {
     "data": {
      "text/html": [
       "<pre>2024-07-12 12:22:52,167 - IDTranslator_137375133072064 - INFO - Processed batch 40/91</pre>"
      ],
      "text/plain": [
       "<IPython.core.display.HTML object>"
      ]
     },
     "metadata": {},
     "output_type": "display_data"
    },
    {
     "name": "stderr",
     "output_type": "stream",
     "text": [
      "INFO:IDTranslator_137375133072064:Processed batch 40/91\n"
     ]
    },
    {
     "data": {
      "text/html": [
       "<pre>2024-07-12 12:22:52,169 - IDTranslator_137375133072064 - INFO - Progress saved to checkpoint_batch_40.pkl</pre>"
      ],
      "text/plain": [
       "<IPython.core.display.HTML object>"
      ]
     },
     "metadata": {},
     "output_type": "display_data"
    },
    {
     "name": "stderr",
     "output_type": "stream",
     "text": [
      "INFO:IDTranslator_137375133072064:Progress saved to checkpoint_batch_40.pkl\n"
     ]
    },
    {
     "data": {
      "text/html": [
       "<pre>2024-07-12 12:22:57,184 - IDTranslator_137375133072064 - INFO - Processed batch 41/91</pre>"
      ],
      "text/plain": [
       "<IPython.core.display.HTML object>"
      ]
     },
     "metadata": {},
     "output_type": "display_data"
    },
    {
     "name": "stderr",
     "output_type": "stream",
     "text": [
      "INFO:IDTranslator_137375133072064:Processed batch 41/91\n"
     ]
    },
    {
     "data": {
      "text/html": [
       "<pre>2024-07-12 12:22:57,185 - IDTranslator_137375133072064 - INFO - Processed batch 42/91</pre>"
      ],
      "text/plain": [
       "<IPython.core.display.HTML object>"
      ]
     },
     "metadata": {},
     "output_type": "display_data"
    },
    {
     "name": "stderr",
     "output_type": "stream",
     "text": [
      "INFO:IDTranslator_137375133072064:Processed batch 42/91\n"
     ]
    },
    {
     "data": {
      "text/html": [
       "<pre>2024-07-12 12:22:57,187 - IDTranslator_137375133072064 - INFO - Progress saved to checkpoint_batch_42.pkl</pre>"
      ],
      "text/plain": [
       "<IPython.core.display.HTML object>"
      ]
     },
     "metadata": {},
     "output_type": "display_data"
    },
    {
     "name": "stderr",
     "output_type": "stream",
     "text": [
      "INFO:IDTranslator_137375133072064:Progress saved to checkpoint_batch_42.pkl\n"
     ]
    },
    {
     "data": {
      "text/html": [
       "<pre>2024-07-12 12:22:57,212 - IDTranslator_137375133072064 - INFO - Processed batch 43/91</pre>"
      ],
      "text/plain": [
       "<IPython.core.display.HTML object>"
      ]
     },
     "metadata": {},
     "output_type": "display_data"
    },
    {
     "name": "stderr",
     "output_type": "stream",
     "text": [
      "INFO:IDTranslator_137375133072064:Processed batch 43/91\n"
     ]
    },
    {
     "data": {
      "text/html": [
       "<pre>2024-07-12 12:22:58,327 - IDTranslator_137375133072064 - INFO - Processed batch 44/91</pre>"
      ],
      "text/plain": [
       "<IPython.core.display.HTML object>"
      ]
     },
     "metadata": {},
     "output_type": "display_data"
    },
    {
     "name": "stderr",
     "output_type": "stream",
     "text": [
      "INFO:IDTranslator_137375133072064:Processed batch 44/91\n"
     ]
    },
    {
     "data": {
      "text/html": [
       "<pre>2024-07-12 12:22:58,330 - IDTranslator_137375133072064 - INFO - Progress saved to checkpoint_batch_44.pkl</pre>"
      ],
      "text/plain": [
       "<IPython.core.display.HTML object>"
      ]
     },
     "metadata": {},
     "output_type": "display_data"
    },
    {
     "name": "stderr",
     "output_type": "stream",
     "text": [
      "INFO:IDTranslator_137375133072064:Progress saved to checkpoint_batch_44.pkl\n"
     ]
    },
    {
     "data": {
      "text/html": [
       "<pre>2024-07-12 12:22:58,425 - IDTranslator_137375133072064 - INFO - Processed batch 45/91</pre>"
      ],
      "text/plain": [
       "<IPython.core.display.HTML object>"
      ]
     },
     "metadata": {},
     "output_type": "display_data"
    },
    {
     "name": "stderr",
     "output_type": "stream",
     "text": [
      "INFO:IDTranslator_137375133072064:Processed batch 45/91\n"
     ]
    },
    {
     "data": {
      "text/html": [
       "<pre>2024-07-12 12:22:58,457 - IDTranslator_137375133072064 - INFO - Processed batch 46/91</pre>"
      ],
      "text/plain": [
       "<IPython.core.display.HTML object>"
      ]
     },
     "metadata": {},
     "output_type": "display_data"
    },
    {
     "name": "stderr",
     "output_type": "stream",
     "text": [
      "INFO:IDTranslator_137375133072064:Processed batch 46/91\n"
     ]
    },
    {
     "data": {
      "text/html": [
       "<pre>2024-07-12 12:22:58,460 - IDTranslator_137375133072064 - INFO - Progress saved to checkpoint_batch_46.pkl</pre>"
      ],
      "text/plain": [
       "<IPython.core.display.HTML object>"
      ]
     },
     "metadata": {},
     "output_type": "display_data"
    },
    {
     "name": "stderr",
     "output_type": "stream",
     "text": [
      "INFO:IDTranslator_137375133072064:Progress saved to checkpoint_batch_46.pkl\n"
     ]
    },
    {
     "data": {
      "text/html": [
       "<pre>2024-07-12 12:22:59,674 - IDTranslator_137375133072064 - INFO - Processed batch 47/91</pre>"
      ],
      "text/plain": [
       "<IPython.core.display.HTML object>"
      ]
     },
     "metadata": {},
     "output_type": "display_data"
    },
    {
     "name": "stderr",
     "output_type": "stream",
     "text": [
      "INFO:IDTranslator_137375133072064:Processed batch 47/91\n"
     ]
    },
    {
     "data": {
      "text/html": [
       "<pre>2024-07-12 12:22:59,984 - IDTranslator_137375133072064 - INFO - Processed batch 48/91</pre>"
      ],
      "text/plain": [
       "<IPython.core.display.HTML object>"
      ]
     },
     "metadata": {},
     "output_type": "display_data"
    },
    {
     "name": "stderr",
     "output_type": "stream",
     "text": [
      "INFO:IDTranslator_137375133072064:Processed batch 48/91\n"
     ]
    },
    {
     "data": {
      "text/html": [
       "<pre>2024-07-12 12:22:59,986 - IDTranslator_137375133072064 - INFO - Progress saved to checkpoint_batch_48.pkl</pre>"
      ],
      "text/plain": [
       "<IPython.core.display.HTML object>"
      ]
     },
     "metadata": {},
     "output_type": "display_data"
    },
    {
     "name": "stderr",
     "output_type": "stream",
     "text": [
      "INFO:IDTranslator_137375133072064:Progress saved to checkpoint_batch_48.pkl\n"
     ]
    },
    {
     "data": {
      "text/html": [
       "<pre>2024-07-12 12:25:00,722 - IDTranslator_137375133072064 - INFO - Processed batch 49/91</pre>"
      ],
      "text/plain": [
       "<IPython.core.display.HTML object>"
      ]
     },
     "metadata": {},
     "output_type": "display_data"
    },
    {
     "name": "stderr",
     "output_type": "stream",
     "text": [
      "INFO:IDTranslator_137375133072064:Processed batch 49/91\n"
     ]
    },
    {
     "data": {
      "text/html": [
       "<pre>2024-07-12 12:25:00,763 - IDTranslator_137375133072064 - INFO - Processed batch 50/91</pre>"
      ],
      "text/plain": [
       "<IPython.core.display.HTML object>"
      ]
     },
     "metadata": {},
     "output_type": "display_data"
    },
    {
     "name": "stderr",
     "output_type": "stream",
     "text": [
      "INFO:IDTranslator_137375133072064:Processed batch 50/91\n"
     ]
    },
    {
     "data": {
      "text/html": [
       "<pre>2024-07-12 12:25:00,766 - IDTranslator_137375133072064 - INFO - Progress saved to checkpoint_batch_50.pkl</pre>"
      ],
      "text/plain": [
       "<IPython.core.display.HTML object>"
      ]
     },
     "metadata": {},
     "output_type": "display_data"
    },
    {
     "name": "stderr",
     "output_type": "stream",
     "text": [
      "INFO:IDTranslator_137375133072064:Progress saved to checkpoint_batch_50.pkl\n"
     ]
    },
    {
     "data": {
      "text/html": [
       "<pre>2024-07-12 12:25:01,485 - IDTranslator_137375133072064 - INFO - Processed batch 51/91</pre>"
      ],
      "text/plain": [
       "<IPython.core.display.HTML object>"
      ]
     },
     "metadata": {},
     "output_type": "display_data"
    },
    {
     "name": "stderr",
     "output_type": "stream",
     "text": [
      "INFO:IDTranslator_137375133072064:Processed batch 51/91\n"
     ]
    },
    {
     "data": {
      "text/html": [
       "<pre>2024-07-12 12:25:01,778 - IDTranslator_137375133072064 - INFO - Processed batch 52/91</pre>"
      ],
      "text/plain": [
       "<IPython.core.display.HTML object>"
      ]
     },
     "metadata": {},
     "output_type": "display_data"
    },
    {
     "name": "stderr",
     "output_type": "stream",
     "text": [
      "INFO:IDTranslator_137375133072064:Processed batch 52/91\n"
     ]
    },
    {
     "data": {
      "text/html": [
       "<pre>2024-07-12 12:25:01,780 - IDTranslator_137375133072064 - INFO - Progress saved to checkpoint_batch_52.pkl</pre>"
      ],
      "text/plain": [
       "<IPython.core.display.HTML object>"
      ]
     },
     "metadata": {},
     "output_type": "display_data"
    },
    {
     "name": "stderr",
     "output_type": "stream",
     "text": [
      "INFO:IDTranslator_137375133072064:Progress saved to checkpoint_batch_52.pkl\n"
     ]
    },
    {
     "data": {
      "text/html": [
       "<pre>2024-07-12 12:25:01,834 - IDTranslator_137375133072064 - INFO - Processed batch 53/91</pre>"
      ],
      "text/plain": [
       "<IPython.core.display.HTML object>"
      ]
     },
     "metadata": {},
     "output_type": "display_data"
    },
    {
     "name": "stderr",
     "output_type": "stream",
     "text": [
      "INFO:IDTranslator_137375133072064:Processed batch 53/91\n"
     ]
    },
    {
     "data": {
      "text/html": [
       "<pre>2024-07-12 12:25:02,012 - IDTranslator_137375133072064 - INFO - Processed batch 54/91</pre>"
      ],
      "text/plain": [
       "<IPython.core.display.HTML object>"
      ]
     },
     "metadata": {},
     "output_type": "display_data"
    },
    {
     "name": "stderr",
     "output_type": "stream",
     "text": [
      "INFO:IDTranslator_137375133072064:Processed batch 54/91\n"
     ]
    },
    {
     "data": {
      "text/html": [
       "<pre>2024-07-12 12:25:02,015 - IDTranslator_137375133072064 - INFO - Progress saved to checkpoint_batch_54.pkl</pre>"
      ],
      "text/plain": [
       "<IPython.core.display.HTML object>"
      ]
     },
     "metadata": {},
     "output_type": "display_data"
    },
    {
     "name": "stderr",
     "output_type": "stream",
     "text": [
      "INFO:IDTranslator_137375133072064:Progress saved to checkpoint_batch_54.pkl\n"
     ]
    },
    {
     "data": {
      "text/html": [
       "<pre>2024-07-12 12:25:03,029 - IDTranslator_137375133072064 - INFO - Processed batch 55/91</pre>"
      ],
      "text/plain": [
       "<IPython.core.display.HTML object>"
      ]
     },
     "metadata": {},
     "output_type": "display_data"
    },
    {
     "name": "stderr",
     "output_type": "stream",
     "text": [
      "INFO:IDTranslator_137375133072064:Processed batch 55/91\n"
     ]
    },
    {
     "data": {
      "text/html": [
       "<pre>2024-07-12 12:25:03,217 - IDTranslator_137375133072064 - INFO - Processed batch 56/91</pre>"
      ],
      "text/plain": [
       "<IPython.core.display.HTML object>"
      ]
     },
     "metadata": {},
     "output_type": "display_data"
    },
    {
     "name": "stderr",
     "output_type": "stream",
     "text": [
      "INFO:IDTranslator_137375133072064:Processed batch 56/91\n"
     ]
    },
    {
     "data": {
      "text/html": [
       "<pre>2024-07-12 12:25:03,219 - IDTranslator_137375133072064 - INFO - Progress saved to checkpoint_batch_56.pkl</pre>"
      ],
      "text/plain": [
       "<IPython.core.display.HTML object>"
      ]
     },
     "metadata": {},
     "output_type": "display_data"
    },
    {
     "name": "stderr",
     "output_type": "stream",
     "text": [
      "INFO:IDTranslator_137375133072064:Progress saved to checkpoint_batch_56.pkl\n"
     ]
    },
    {
     "data": {
      "text/html": [
       "<pre>2024-07-12 12:25:03,564 - IDTranslator_137375133072064 - INFO - Processed batch 57/91</pre>"
      ],
      "text/plain": [
       "<IPython.core.display.HTML object>"
      ]
     },
     "metadata": {},
     "output_type": "display_data"
    },
    {
     "name": "stderr",
     "output_type": "stream",
     "text": [
      "INFO:IDTranslator_137375133072064:Processed batch 57/91\n"
     ]
    },
    {
     "data": {
      "text/html": [
       "<pre>2024-07-12 12:25:04,262 - IDTranslator_137375133072064 - INFO - Processed batch 58/91</pre>"
      ],
      "text/plain": [
       "<IPython.core.display.HTML object>"
      ]
     },
     "metadata": {},
     "output_type": "display_data"
    },
    {
     "name": "stderr",
     "output_type": "stream",
     "text": [
      "INFO:IDTranslator_137375133072064:Processed batch 58/91\n"
     ]
    },
    {
     "data": {
      "text/html": [
       "<pre>2024-07-12 12:25:04,264 - IDTranslator_137375133072064 - INFO - Progress saved to checkpoint_batch_58.pkl</pre>"
      ],
      "text/plain": [
       "<IPython.core.display.HTML object>"
      ]
     },
     "metadata": {},
     "output_type": "display_data"
    },
    {
     "name": "stderr",
     "output_type": "stream",
     "text": [
      "INFO:IDTranslator_137375133072064:Progress saved to checkpoint_batch_58.pkl\n"
     ]
    },
    {
     "data": {
      "text/html": [
       "<pre>2024-07-12 12:25:04,378 - IDTranslator_137375133072064 - INFO - Processed batch 59/91</pre>"
      ],
      "text/plain": [
       "<IPython.core.display.HTML object>"
      ]
     },
     "metadata": {},
     "output_type": "display_data"
    },
    {
     "name": "stderr",
     "output_type": "stream",
     "text": [
      "INFO:IDTranslator_137375133072064:Processed batch 59/91\n"
     ]
    },
    {
     "data": {
      "text/html": [
       "<pre>2024-07-12 12:25:05,527 - IDTranslator_137375133072064 - INFO - Processed batch 60/91</pre>"
      ],
      "text/plain": [
       "<IPython.core.display.HTML object>"
      ]
     },
     "metadata": {},
     "output_type": "display_data"
    },
    {
     "name": "stderr",
     "output_type": "stream",
     "text": [
      "INFO:IDTranslator_137375133072064:Processed batch 60/91\n"
     ]
    },
    {
     "data": {
      "text/html": [
       "<pre>2024-07-12 12:25:05,529 - IDTranslator_137375133072064 - INFO - Progress saved to checkpoint_batch_60.pkl</pre>"
      ],
      "text/plain": [
       "<IPython.core.display.HTML object>"
      ]
     },
     "metadata": {},
     "output_type": "display_data"
    },
    {
     "name": "stderr",
     "output_type": "stream",
     "text": [
      "INFO:IDTranslator_137375133072064:Progress saved to checkpoint_batch_60.pkl\n"
     ]
    },
    {
     "data": {
      "text/html": [
       "<pre>2024-07-12 12:27:06,153 - IDTranslator_137375133072064 - INFO - Processed batch 61/91</pre>"
      ],
      "text/plain": [
       "<IPython.core.display.HTML object>"
      ]
     },
     "metadata": {},
     "output_type": "display_data"
    },
    {
     "name": "stderr",
     "output_type": "stream",
     "text": [
      "INFO:IDTranslator_137375133072064:Processed batch 61/91\n"
     ]
    },
    {
     "data": {
      "text/html": [
       "<pre>2024-07-12 12:27:06,271 - IDTranslator_137375133072064 - INFO - Processed batch 62/91</pre>"
      ],
      "text/plain": [
       "<IPython.core.display.HTML object>"
      ]
     },
     "metadata": {},
     "output_type": "display_data"
    },
    {
     "name": "stderr",
     "output_type": "stream",
     "text": [
      "INFO:IDTranslator_137375133072064:Processed batch 62/91\n"
     ]
    },
    {
     "data": {
      "text/html": [
       "<pre>2024-07-12 12:27:06,274 - IDTranslator_137375133072064 - INFO - Progress saved to checkpoint_batch_62.pkl</pre>"
      ],
      "text/plain": [
       "<IPython.core.display.HTML object>"
      ]
     },
     "metadata": {},
     "output_type": "display_data"
    },
    {
     "name": "stderr",
     "output_type": "stream",
     "text": [
      "INFO:IDTranslator_137375133072064:Progress saved to checkpoint_batch_62.pkl\n"
     ]
    },
    {
     "data": {
      "text/html": [
       "<pre>2024-07-12 12:27:07,096 - IDTranslator_137375133072064 - INFO - Processed batch 63/91</pre>"
      ],
      "text/plain": [
       "<IPython.core.display.HTML object>"
      ]
     },
     "metadata": {},
     "output_type": "display_data"
    },
    {
     "name": "stderr",
     "output_type": "stream",
     "text": [
      "INFO:IDTranslator_137375133072064:Processed batch 63/91\n"
     ]
    },
    {
     "data": {
      "text/html": [
       "<pre>2024-07-12 12:27:07,559 - IDTranslator_137375133072064 - INFO - Processed batch 64/91</pre>"
      ],
      "text/plain": [
       "<IPython.core.display.HTML object>"
      ]
     },
     "metadata": {},
     "output_type": "display_data"
    },
    {
     "name": "stderr",
     "output_type": "stream",
     "text": [
      "INFO:IDTranslator_137375133072064:Processed batch 64/91\n"
     ]
    },
    {
     "data": {
      "text/html": [
       "<pre>2024-07-12 12:27:07,562 - IDTranslator_137375133072064 - INFO - Progress saved to checkpoint_batch_64.pkl</pre>"
      ],
      "text/plain": [
       "<IPython.core.display.HTML object>"
      ]
     },
     "metadata": {},
     "output_type": "display_data"
    },
    {
     "name": "stderr",
     "output_type": "stream",
     "text": [
      "INFO:IDTranslator_137375133072064:Progress saved to checkpoint_batch_64.pkl\n"
     ]
    },
    {
     "data": {
      "text/html": [
       "<pre>2024-07-12 12:27:07,563 - IDTranslator_137375133072064 - INFO - Processed batch 65/91</pre>"
      ],
      "text/plain": [
       "<IPython.core.display.HTML object>"
      ]
     },
     "metadata": {},
     "output_type": "display_data"
    },
    {
     "name": "stderr",
     "output_type": "stream",
     "text": [
      "INFO:IDTranslator_137375133072064:Processed batch 65/91\n"
     ]
    },
    {
     "data": {
      "text/html": [
       "<pre>2024-07-12 12:27:08,861 - IDTranslator_137375133072064 - INFO - Processed batch 66/91</pre>"
      ],
      "text/plain": [
       "<IPython.core.display.HTML object>"
      ]
     },
     "metadata": {},
     "output_type": "display_data"
    },
    {
     "name": "stderr",
     "output_type": "stream",
     "text": [
      "INFO:IDTranslator_137375133072064:Processed batch 66/91\n"
     ]
    },
    {
     "data": {
      "text/html": [
       "<pre>2024-07-12 12:27:08,864 - IDTranslator_137375133072064 - INFO - Progress saved to checkpoint_batch_66.pkl</pre>"
      ],
      "text/plain": [
       "<IPython.core.display.HTML object>"
      ]
     },
     "metadata": {},
     "output_type": "display_data"
    },
    {
     "name": "stderr",
     "output_type": "stream",
     "text": [
      "INFO:IDTranslator_137375133072064:Progress saved to checkpoint_batch_66.pkl\n"
     ]
    },
    {
     "data": {
      "text/html": [
       "<pre>2024-07-12 12:27:09,787 - IDTranslator_137375133072064 - INFO - Processed batch 67/91</pre>"
      ],
      "text/plain": [
       "<IPython.core.display.HTML object>"
      ]
     },
     "metadata": {},
     "output_type": "display_data"
    },
    {
     "name": "stderr",
     "output_type": "stream",
     "text": [
      "INFO:IDTranslator_137375133072064:Processed batch 67/91\n"
     ]
    },
    {
     "data": {
      "text/html": [
       "<pre>2024-07-12 12:27:10,016 - IDTranslator_137375133072064 - INFO - Processed batch 68/91</pre>"
      ],
      "text/plain": [
       "<IPython.core.display.HTML object>"
      ]
     },
     "metadata": {},
     "output_type": "display_data"
    },
    {
     "name": "stderr",
     "output_type": "stream",
     "text": [
      "INFO:IDTranslator_137375133072064:Processed batch 68/91\n"
     ]
    },
    {
     "data": {
      "text/html": [
       "<pre>2024-07-12 12:27:10,019 - IDTranslator_137375133072064 - INFO - Progress saved to checkpoint_batch_68.pkl</pre>"
      ],
      "text/plain": [
       "<IPython.core.display.HTML object>"
      ]
     },
     "metadata": {},
     "output_type": "display_data"
    },
    {
     "name": "stderr",
     "output_type": "stream",
     "text": [
      "INFO:IDTranslator_137375133072064:Progress saved to checkpoint_batch_68.pkl\n"
     ]
    },
    {
     "data": {
      "text/html": [
       "<pre>2024-07-12 12:27:10,027 - IDTranslator_137375133072064 - INFO - Processed batch 69/91</pre>"
      ],
      "text/plain": [
       "<IPython.core.display.HTML object>"
      ]
     },
     "metadata": {},
     "output_type": "display_data"
    },
    {
     "name": "stderr",
     "output_type": "stream",
     "text": [
      "INFO:IDTranslator_137375133072064:Processed batch 69/91\n"
     ]
    },
    {
     "data": {
      "text/html": [
       "<pre>2024-07-12 12:27:10,060 - IDTranslator_137375133072064 - INFO - Processed batch 70/91</pre>"
      ],
      "text/plain": [
       "<IPython.core.display.HTML object>"
      ]
     },
     "metadata": {},
     "output_type": "display_data"
    },
    {
     "name": "stderr",
     "output_type": "stream",
     "text": [
      "INFO:IDTranslator_137375133072064:Processed batch 70/91\n"
     ]
    },
    {
     "data": {
      "text/html": [
       "<pre>2024-07-12 12:27:10,063 - IDTranslator_137375133072064 - INFO - Progress saved to checkpoint_batch_70.pkl</pre>"
      ],
      "text/plain": [
       "<IPython.core.display.HTML object>"
      ]
     },
     "metadata": {},
     "output_type": "display_data"
    },
    {
     "name": "stderr",
     "output_type": "stream",
     "text": [
      "INFO:IDTranslator_137375133072064:Progress saved to checkpoint_batch_70.pkl\n"
     ]
    },
    {
     "data": {
      "text/html": [
       "<pre>2024-07-12 12:27:10,466 - IDTranslator_137375133072064 - INFO - Processed batch 71/91</pre>"
      ],
      "text/plain": [
       "<IPython.core.display.HTML object>"
      ]
     },
     "metadata": {},
     "output_type": "display_data"
    },
    {
     "name": "stderr",
     "output_type": "stream",
     "text": [
      "INFO:IDTranslator_137375133072064:Processed batch 71/91\n"
     ]
    },
    {
     "data": {
      "text/html": [
       "<pre>2024-07-12 12:27:11,849 - IDTranslator_137375133072064 - INFO - Processed batch 72/91</pre>"
      ],
      "text/plain": [
       "<IPython.core.display.HTML object>"
      ]
     },
     "metadata": {},
     "output_type": "display_data"
    },
    {
     "name": "stderr",
     "output_type": "stream",
     "text": [
      "INFO:IDTranslator_137375133072064:Processed batch 72/91\n"
     ]
    },
    {
     "data": {
      "text/html": [
       "<pre>2024-07-12 12:27:11,851 - IDTranslator_137375133072064 - INFO - Progress saved to checkpoint_batch_72.pkl</pre>"
      ],
      "text/plain": [
       "<IPython.core.display.HTML object>"
      ]
     },
     "metadata": {},
     "output_type": "display_data"
    },
    {
     "name": "stderr",
     "output_type": "stream",
     "text": [
      "INFO:IDTranslator_137375133072064:Progress saved to checkpoint_batch_72.pkl\n"
     ]
    },
    {
     "data": {
      "text/html": [
       "<pre>2024-07-12 12:29:10,677 - IDTranslator_137375133072064 - INFO - Processed batch 73/91</pre>"
      ],
      "text/plain": [
       "<IPython.core.display.HTML object>"
      ]
     },
     "metadata": {},
     "output_type": "display_data"
    },
    {
     "name": "stderr",
     "output_type": "stream",
     "text": [
      "INFO:IDTranslator_137375133072064:Processed batch 73/91\n"
     ]
    },
    {
     "data": {
      "text/html": [
       "<pre>2024-07-12 12:29:11,104 - IDTranslator_137375133072064 - INFO - Processed batch 74/91</pre>"
      ],
      "text/plain": [
       "<IPython.core.display.HTML object>"
      ]
     },
     "metadata": {},
     "output_type": "display_data"
    },
    {
     "name": "stderr",
     "output_type": "stream",
     "text": [
      "INFO:IDTranslator_137375133072064:Processed batch 74/91\n"
     ]
    },
    {
     "data": {
      "text/html": [
       "<pre>2024-07-12 12:29:11,107 - IDTranslator_137375133072064 - INFO - Progress saved to checkpoint_batch_74.pkl</pre>"
      ],
      "text/plain": [
       "<IPython.core.display.HTML object>"
      ]
     },
     "metadata": {},
     "output_type": "display_data"
    },
    {
     "name": "stderr",
     "output_type": "stream",
     "text": [
      "INFO:IDTranslator_137375133072064:Progress saved to checkpoint_batch_74.pkl\n"
     ]
    },
    {
     "data": {
      "text/html": [
       "<pre>2024-07-12 12:29:11,901 - IDTranslator_137375133072064 - INFO - Processed batch 75/91</pre>"
      ],
      "text/plain": [
       "<IPython.core.display.HTML object>"
      ]
     },
     "metadata": {},
     "output_type": "display_data"
    },
    {
     "name": "stderr",
     "output_type": "stream",
     "text": [
      "INFO:IDTranslator_137375133072064:Processed batch 75/91\n"
     ]
    },
    {
     "data": {
      "text/html": [
       "<pre>2024-07-12 12:29:11,996 - IDTranslator_137375133072064 - INFO - Processed batch 76/91</pre>"
      ],
      "text/plain": [
       "<IPython.core.display.HTML object>"
      ]
     },
     "metadata": {},
     "output_type": "display_data"
    },
    {
     "name": "stderr",
     "output_type": "stream",
     "text": [
      "INFO:IDTranslator_137375133072064:Processed batch 76/91\n"
     ]
    },
    {
     "data": {
      "text/html": [
       "<pre>2024-07-12 12:29:11,999 - IDTranslator_137375133072064 - INFO - Progress saved to checkpoint_batch_76.pkl</pre>"
      ],
      "text/plain": [
       "<IPython.core.display.HTML object>"
      ]
     },
     "metadata": {},
     "output_type": "display_data"
    },
    {
     "name": "stderr",
     "output_type": "stream",
     "text": [
      "INFO:IDTranslator_137375133072064:Progress saved to checkpoint_batch_76.pkl\n"
     ]
    },
    {
     "data": {
      "text/html": [
       "<pre>2024-07-12 12:29:12,110 - IDTranslator_137375133072064 - INFO - Processed batch 77/91</pre>"
      ],
      "text/plain": [
       "<IPython.core.display.HTML object>"
      ]
     },
     "metadata": {},
     "output_type": "display_data"
    },
    {
     "name": "stderr",
     "output_type": "stream",
     "text": [
      "INFO:IDTranslator_137375133072064:Processed batch 77/91\n"
     ]
    },
    {
     "data": {
      "text/html": [
       "<pre>2024-07-12 12:29:13,004 - IDTranslator_137375133072064 - INFO - Processed batch 78/91</pre>"
      ],
      "text/plain": [
       "<IPython.core.display.HTML object>"
      ]
     },
     "metadata": {},
     "output_type": "display_data"
    },
    {
     "name": "stderr",
     "output_type": "stream",
     "text": [
      "INFO:IDTranslator_137375133072064:Processed batch 78/91\n"
     ]
    },
    {
     "data": {
      "text/html": [
       "<pre>2024-07-12 12:29:13,008 - IDTranslator_137375133072064 - INFO - Progress saved to checkpoint_batch_78.pkl</pre>"
      ],
      "text/plain": [
       "<IPython.core.display.HTML object>"
      ]
     },
     "metadata": {},
     "output_type": "display_data"
    },
    {
     "name": "stderr",
     "output_type": "stream",
     "text": [
      "INFO:IDTranslator_137375133072064:Progress saved to checkpoint_batch_78.pkl\n"
     ]
    },
    {
     "data": {
      "text/html": [
       "<pre>2024-07-12 12:29:14,103 - IDTranslator_137375133072064 - INFO - Processed batch 79/91</pre>"
      ],
      "text/plain": [
       "<IPython.core.display.HTML object>"
      ]
     },
     "metadata": {},
     "output_type": "display_data"
    },
    {
     "name": "stderr",
     "output_type": "stream",
     "text": [
      "INFO:IDTranslator_137375133072064:Processed batch 79/91\n"
     ]
    },
    {
     "data": {
      "text/html": [
       "<pre>2024-07-12 12:29:14,164 - IDTranslator_137375133072064 - INFO - Processed batch 80/91</pre>"
      ],
      "text/plain": [
       "<IPython.core.display.HTML object>"
      ]
     },
     "metadata": {},
     "output_type": "display_data"
    },
    {
     "name": "stderr",
     "output_type": "stream",
     "text": [
      "INFO:IDTranslator_137375133072064:Processed batch 80/91\n"
     ]
    },
    {
     "data": {
      "text/html": [
       "<pre>2024-07-12 12:29:14,168 - IDTranslator_137375133072064 - INFO - Progress saved to checkpoint_batch_80.pkl</pre>"
      ],
      "text/plain": [
       "<IPython.core.display.HTML object>"
      ]
     },
     "metadata": {},
     "output_type": "display_data"
    },
    {
     "name": "stderr",
     "output_type": "stream",
     "text": [
      "INFO:IDTranslator_137375133072064:Progress saved to checkpoint_batch_80.pkl\n"
     ]
    },
    {
     "data": {
      "text/html": [
       "<pre>2024-07-12 12:29:14,213 - IDTranslator_137375133072064 - INFO - Processed batch 81/91</pre>"
      ],
      "text/plain": [
       "<IPython.core.display.HTML object>"
      ]
     },
     "metadata": {},
     "output_type": "display_data"
    },
    {
     "name": "stderr",
     "output_type": "stream",
     "text": [
      "INFO:IDTranslator_137375133072064:Processed batch 81/91\n"
     ]
    },
    {
     "data": {
      "text/html": [
       "<pre>2024-07-12 12:29:15,131 - IDTranslator_137375133072064 - INFO - Processed batch 82/91</pre>"
      ],
      "text/plain": [
       "<IPython.core.display.HTML object>"
      ]
     },
     "metadata": {},
     "output_type": "display_data"
    },
    {
     "name": "stderr",
     "output_type": "stream",
     "text": [
      "INFO:IDTranslator_137375133072064:Processed batch 82/91\n"
     ]
    },
    {
     "data": {
      "text/html": [
       "<pre>2024-07-12 12:29:15,135 - IDTranslator_137375133072064 - INFO - Progress saved to checkpoint_batch_82.pkl</pre>"
      ],
      "text/plain": [
       "<IPython.core.display.HTML object>"
      ]
     },
     "metadata": {},
     "output_type": "display_data"
    },
    {
     "name": "stderr",
     "output_type": "stream",
     "text": [
      "INFO:IDTranslator_137375133072064:Progress saved to checkpoint_batch_82.pkl\n"
     ]
    },
    {
     "data": {
      "text/html": [
       "<pre>2024-07-12 12:29:15,253 - IDTranslator_137375133072064 - INFO - Processed batch 83/91</pre>"
      ],
      "text/plain": [
       "<IPython.core.display.HTML object>"
      ]
     },
     "metadata": {},
     "output_type": "display_data"
    },
    {
     "name": "stderr",
     "output_type": "stream",
     "text": [
      "INFO:IDTranslator_137375133072064:Processed batch 83/91\n"
     ]
    },
    {
     "data": {
      "text/html": [
       "<pre>2024-07-12 12:29:16,689 - IDTranslator_137375133072064 - INFO - Processed batch 84/91</pre>"
      ],
      "text/plain": [
       "<IPython.core.display.HTML object>"
      ]
     },
     "metadata": {},
     "output_type": "display_data"
    },
    {
     "name": "stderr",
     "output_type": "stream",
     "text": [
      "INFO:IDTranslator_137375133072064:Processed batch 84/91\n"
     ]
    },
    {
     "data": {
      "text/html": [
       "<pre>2024-07-12 12:29:16,692 - IDTranslator_137375133072064 - INFO - Progress saved to checkpoint_batch_84.pkl</pre>"
      ],
      "text/plain": [
       "<IPython.core.display.HTML object>"
      ]
     },
     "metadata": {},
     "output_type": "display_data"
    },
    {
     "name": "stderr",
     "output_type": "stream",
     "text": [
      "INFO:IDTranslator_137375133072064:Progress saved to checkpoint_batch_84.pkl\n"
     ]
    },
    {
     "data": {
      "text/html": [
       "<pre>2024-07-12 12:31:12,327 - IDTranslator_137375133072064 - INFO - Processed batch 85/91</pre>"
      ],
      "text/plain": [
       "<IPython.core.display.HTML object>"
      ]
     },
     "metadata": {},
     "output_type": "display_data"
    },
    {
     "name": "stderr",
     "output_type": "stream",
     "text": [
      "INFO:IDTranslator_137375133072064:Processed batch 85/91\n"
     ]
    },
    {
     "data": {
      "text/html": [
       "<pre>2024-07-12 12:31:15,186 - IDTranslator_137375133072064 - INFO - Processed batch 86/91</pre>"
      ],
      "text/plain": [
       "<IPython.core.display.HTML object>"
      ]
     },
     "metadata": {},
     "output_type": "display_data"
    },
    {
     "name": "stderr",
     "output_type": "stream",
     "text": [
      "INFO:IDTranslator_137375133072064:Processed batch 86/91\n"
     ]
    },
    {
     "data": {
      "text/html": [
       "<pre>2024-07-12 12:31:15,189 - IDTranslator_137375133072064 - INFO - Progress saved to checkpoint_batch_86.pkl</pre>"
      ],
      "text/plain": [
       "<IPython.core.display.HTML object>"
      ]
     },
     "metadata": {},
     "output_type": "display_data"
    },
    {
     "name": "stderr",
     "output_type": "stream",
     "text": [
      "INFO:IDTranslator_137375133072064:Progress saved to checkpoint_batch_86.pkl\n"
     ]
    },
    {
     "data": {
      "text/html": [
       "<pre>2024-07-12 12:31:16,321 - IDTranslator_137375133072064 - INFO - Processed batch 87/91</pre>"
      ],
      "text/plain": [
       "<IPython.core.display.HTML object>"
      ]
     },
     "metadata": {},
     "output_type": "display_data"
    },
    {
     "name": "stderr",
     "output_type": "stream",
     "text": [
      "INFO:IDTranslator_137375133072064:Processed batch 87/91\n"
     ]
    },
    {
     "data": {
      "text/html": [
       "<pre>2024-07-12 12:31:16,323 - IDTranslator_137375133072064 - INFO - Processed batch 88/91</pre>"
      ],
      "text/plain": [
       "<IPython.core.display.HTML object>"
      ]
     },
     "metadata": {},
     "output_type": "display_data"
    },
    {
     "name": "stderr",
     "output_type": "stream",
     "text": [
      "INFO:IDTranslator_137375133072064:Processed batch 88/91\n"
     ]
    },
    {
     "data": {
      "text/html": [
       "<pre>2024-07-12 12:31:16,325 - IDTranslator_137375133072064 - INFO - Progress saved to checkpoint_batch_88.pkl</pre>"
      ],
      "text/plain": [
       "<IPython.core.display.HTML object>"
      ]
     },
     "metadata": {},
     "output_type": "display_data"
    },
    {
     "name": "stderr",
     "output_type": "stream",
     "text": [
      "INFO:IDTranslator_137375133072064:Progress saved to checkpoint_batch_88.pkl\n"
     ]
    },
    {
     "data": {
      "text/html": [
       "<pre>2024-07-12 12:31:16,475 - IDTranslator_137375133072064 - INFO - Processed batch 89/91</pre>"
      ],
      "text/plain": [
       "<IPython.core.display.HTML object>"
      ]
     },
     "metadata": {},
     "output_type": "display_data"
    },
    {
     "name": "stderr",
     "output_type": "stream",
     "text": [
      "INFO:IDTranslator_137375133072064:Processed batch 89/91\n"
     ]
    },
    {
     "data": {
      "text/html": [
       "<pre>2024-07-12 12:31:17,082 - IDTranslator_137375133072064 - INFO - Processed batch 90/91</pre>"
      ],
      "text/plain": [
       "<IPython.core.display.HTML object>"
      ]
     },
     "metadata": {},
     "output_type": "display_data"
    },
    {
     "name": "stderr",
     "output_type": "stream",
     "text": [
      "INFO:IDTranslator_137375133072064:Processed batch 90/91\n"
     ]
    },
    {
     "data": {
      "text/html": [
       "<pre>2024-07-12 12:31:17,086 - IDTranslator_137375133072064 - INFO - Progress saved to checkpoint_batch_90.pkl</pre>"
      ],
      "text/plain": [
       "<IPython.core.display.HTML object>"
      ]
     },
     "metadata": {},
     "output_type": "display_data"
    },
    {
     "name": "stderr",
     "output_type": "stream",
     "text": [
      "INFO:IDTranslator_137375133072064:Progress saved to checkpoint_batch_90.pkl\n"
     ]
    },
    {
     "data": {
      "text/html": [
       "<pre>2024-07-12 12:31:18,318 - IDTranslator_137375133072064 - INFO - Processed batch 91/91</pre>"
      ],
      "text/plain": [
       "<IPython.core.display.HTML object>"
      ]
     },
     "metadata": {},
     "output_type": "display_data"
    },
    {
     "name": "stderr",
     "output_type": "stream",
     "text": [
      "INFO:IDTranslator_137375133072064:Processed batch 91/91\n"
     ]
    },
    {
     "data": {
      "text/html": [
       "<pre>2024-07-12 12:31:18,321 - IDTranslator_137375133072064 - INFO - Progress saved to checkpoint_batch_91.pkl</pre>"
      ],
      "text/plain": [
       "<IPython.core.display.HTML object>"
      ]
     },
     "metadata": {},
     "output_type": "display_data"
    },
    {
     "name": "stderr",
     "output_type": "stream",
     "text": [
      "INFO:IDTranslator_137375133072064:Progress saved to checkpoint_batch_91.pkl\n"
     ]
    },
    {
     "data": {
      "text/html": [
       "<pre>2024-07-12 12:31:18,333 - IDTranslator_137375133072064 - INFO - Applying translation to dataframe...</pre>"
      ],
      "text/plain": [
       "<IPython.core.display.HTML object>"
      ]
     },
     "metadata": {},
     "output_type": "display_data"
    },
    {
     "name": "stderr",
     "output_type": "stream",
     "text": [
      "INFO:IDTranslator_137375133072064:Applying translation to dataframe...\n"
     ]
    },
    {
     "data": {
      "text/html": [
       "<pre>2024-07-12 12:31:45,805 - IDTranslator_137375133072064 - INFO - Results saved to ../data/HI-union_translated.csv</pre>"
      ],
      "text/plain": [
       "<IPython.core.display.HTML object>"
      ]
     },
     "metadata": {},
     "output_type": "display_data"
    },
    {
     "name": "stderr",
     "output_type": "stream",
     "text": [
      "INFO:IDTranslator_137375133072064:Results saved to ../data/HI-union_translated.csv\n"
     ]
    },
    {
     "data": {
      "text/html": [
       "<pre>2024-07-12 12:31:45,893 - IDTranslator_137375133072064 - INFO - ID translation process completed in 1064.23 seconds</pre>"
      ],
      "text/plain": [
       "<IPython.core.display.HTML object>"
      ]
     },
     "metadata": {},
     "output_type": "display_data"
    },
    {
     "name": "stderr",
     "output_type": "stream",
     "text": [
      "INFO:IDTranslator_137375133072064:ID translation process completed in 1064.23 seconds\n"
     ]
    },
    {
     "data": {
      "text/html": [
       "<pre>2024-07-12 12:31:45,899 - IDTranslator_137375133072064 - INFO - Original entry count: 64065</pre>"
      ],
      "text/plain": [
       "<IPython.core.display.HTML object>"
      ]
     },
     "metadata": {},
     "output_type": "display_data"
    },
    {
     "name": "stderr",
     "output_type": "stream",
     "text": [
      "INFO:IDTranslator_137375133072064:Original entry count: 64065\n"
     ]
    },
    {
     "data": {
      "text/html": [
       "<pre>2024-07-12 12:31:45,900 - IDTranslator_137375133072064 - INFO - Translated entry count: 64065</pre>"
      ],
      "text/plain": [
       "<IPython.core.display.HTML object>"
      ]
     },
     "metadata": {},
     "output_type": "display_data"
    },
    {
     "name": "stderr",
     "output_type": "stream",
     "text": [
      "INFO:IDTranslator_137375133072064:Translated entry count: 64065\n"
     ]
    },
    {
     "data": {
      "text/html": [
       "<pre>2024-07-12 12:31:45,901 - IDTranslator_137375133072064 - INFO - Expansion factor: 1.00</pre>"
      ],
      "text/plain": [
       "<IPython.core.display.HTML object>"
      ]
     },
     "metadata": {},
     "output_type": "display_data"
    },
    {
     "name": "stderr",
     "output_type": "stream",
     "text": [
      "INFO:IDTranslator_137375133072064:Expansion factor: 1.00\n"
     ]
    },
    {
     "data": {
      "text/html": [
       "<pre>2024-07-12 12:31:45,901 - IDTranslator_137375133072064 - INFO - Translation success rate: 100.00%</pre>"
      ],
      "text/plain": [
       "<IPython.core.display.HTML object>"
      ]
     },
     "metadata": {},
     "output_type": "display_data"
    },
    {
     "name": "stderr",
     "output_type": "stream",
     "text": [
      "INFO:IDTranslator_137375133072064:Translation success rate: 100.00%\n"
     ]
    }
   ],
   "source": [
    "translator_1.run()"
   ]
  },
  {
   "cell_type": "code",
   "execution_count": 5,
   "id": "f0366ed7-ec9c-4155-a1ef-5bae087fda2e",
   "metadata": {},
   "outputs": [],
   "source": [
    "translator_2 = IDTranslator('../data/HuRI.tsv', '../data/HuRI_translated.csv', 'Ensembl', 'UniProtKB-Swiss-Prot', has_header=False, input_columns=['source', 'target'], processes=12, pickle_dir=\"./pickles_2\")"
   ]
  },
  {
   "cell_type": "code",
   "execution_count": 6,
   "id": "4792ca50-4de1-4aed-aea5-ef5d74182b91",
   "metadata": {},
   "outputs": [
    {
     "data": {
      "text/html": [
       "<pre>2024-07-12 12:31:45,918 - IDTranslator_137376234816128 - INFO - Starting ID translation process from Ensembl to UniProtKB-Swiss-Prot</pre>"
      ],
      "text/plain": [
       "<IPython.core.display.HTML object>"
      ]
     },
     "metadata": {},
     "output_type": "display_data"
    },
    {
     "name": "stderr",
     "output_type": "stream",
     "text": [
      "INFO:IDTranslator_137376234816128:Starting ID translation process from Ensembl to UniProtKB-Swiss-Prot\n"
     ]
    },
    {
     "data": {
      "text/html": [
       "<pre>2024-07-12 12:31:45,936 - IDTranslator_137376234816128 - INFO - Loaded 52548 rows with 8272 unique IDs</pre>"
      ],
      "text/plain": [
       "<IPython.core.display.HTML object>"
      ]
     },
     "metadata": {},
     "output_type": "display_data"
    },
    {
     "name": "stderr",
     "output_type": "stream",
     "text": [
      "INFO:IDTranslator_137376234816128:Loaded 52548 rows with 8272 unique IDs\n"
     ]
    },
    {
     "data": {
      "text/html": [
       "<pre>2024-07-12 12:31:45,938 - IDTranslator_137376234816128 - INFO - No existing progress found. Starting from scratch.</pre>"
      ],
      "text/plain": [
       "<IPython.core.display.HTML object>"
      ]
     },
     "metadata": {},
     "output_type": "display_data"
    },
    {
     "name": "stderr",
     "output_type": "stream",
     "text": [
      "INFO:IDTranslator_137376234816128:No existing progress found. Starting from scratch.\n"
     ]
    },
    {
     "data": {
      "application/vnd.jupyter.widget-view+json": {
       "model_id": "1dddc692682a4cb4abeaca65f56643c8",
       "version_major": 2,
       "version_minor": 0
      },
      "text/plain": [
       "Processing batches:   0%|          | 0/83 [00:00<?, ?it/s]"
      ]
     },
     "metadata": {},
     "output_type": "display_data"
    },
    {
     "data": {
      "text/html": [
       "<pre>2024-07-12 12:33:55,720 - IDTranslator_137376234816128 - INFO - Processed batch 1/83</pre>"
      ],
      "text/plain": [
       "<IPython.core.display.HTML object>"
      ]
     },
     "metadata": {},
     "output_type": "display_data"
    },
    {
     "name": "stderr",
     "output_type": "stream",
     "text": [
      "INFO:IDTranslator_137376234816128:Processed batch 1/83\n"
     ]
    },
    {
     "data": {
      "text/html": [
       "<pre>2024-07-12 12:33:55,763 - IDTranslator_137376234816128 - INFO - Processed batch 2/83</pre>"
      ],
      "text/plain": [
       "<IPython.core.display.HTML object>"
      ]
     },
     "metadata": {},
     "output_type": "display_data"
    },
    {
     "name": "stderr",
     "output_type": "stream",
     "text": [
      "INFO:IDTranslator_137376234816128:Processed batch 2/83\n"
     ]
    },
    {
     "data": {
      "text/html": [
       "<pre>2024-07-12 12:33:55,765 - IDTranslator_137376234816128 - INFO - Progress saved to checkpoint_batch_2.pkl</pre>"
      ],
      "text/plain": [
       "<IPython.core.display.HTML object>"
      ]
     },
     "metadata": {},
     "output_type": "display_data"
    },
    {
     "name": "stderr",
     "output_type": "stream",
     "text": [
      "INFO:IDTranslator_137376234816128:Progress saved to checkpoint_batch_2.pkl\n"
     ]
    },
    {
     "data": {
      "text/html": [
       "<pre>2024-07-12 12:33:55,766 - IDTranslator_137376234816128 - INFO - Processed batch 3/83</pre>"
      ],
      "text/plain": [
       "<IPython.core.display.HTML object>"
      ]
     },
     "metadata": {},
     "output_type": "display_data"
    },
    {
     "name": "stderr",
     "output_type": "stream",
     "text": [
      "INFO:IDTranslator_137376234816128:Processed batch 3/83\n"
     ]
    },
    {
     "data": {
      "text/html": [
       "<pre>2024-07-12 12:33:56,740 - IDTranslator_137376234816128 - INFO - Processed batch 4/83</pre>"
      ],
      "text/plain": [
       "<IPython.core.display.HTML object>"
      ]
     },
     "metadata": {},
     "output_type": "display_data"
    },
    {
     "name": "stderr",
     "output_type": "stream",
     "text": [
      "INFO:IDTranslator_137376234816128:Processed batch 4/83\n"
     ]
    },
    {
     "data": {
      "text/html": [
       "<pre>2024-07-12 12:33:56,741 - IDTranslator_137376234816128 - INFO - Progress saved to checkpoint_batch_4.pkl</pre>"
      ],
      "text/plain": [
       "<IPython.core.display.HTML object>"
      ]
     },
     "metadata": {},
     "output_type": "display_data"
    },
    {
     "name": "stderr",
     "output_type": "stream",
     "text": [
      "INFO:IDTranslator_137376234816128:Progress saved to checkpoint_batch_4.pkl\n"
     ]
    },
    {
     "data": {
      "text/html": [
       "<pre>2024-07-12 12:33:56,832 - IDTranslator_137376234816128 - INFO - Processed batch 5/83</pre>"
      ],
      "text/plain": [
       "<IPython.core.display.HTML object>"
      ]
     },
     "metadata": {},
     "output_type": "display_data"
    },
    {
     "name": "stderr",
     "output_type": "stream",
     "text": [
      "INFO:IDTranslator_137376234816128:Processed batch 5/83\n"
     ]
    },
    {
     "data": {
      "text/html": [
       "<pre>2024-07-12 12:33:56,834 - IDTranslator_137376234816128 - INFO - Processed batch 6/83</pre>"
      ],
      "text/plain": [
       "<IPython.core.display.HTML object>"
      ]
     },
     "metadata": {},
     "output_type": "display_data"
    },
    {
     "name": "stderr",
     "output_type": "stream",
     "text": [
      "INFO:IDTranslator_137376234816128:Processed batch 6/83\n"
     ]
    },
    {
     "data": {
      "text/html": [
       "<pre>2024-07-12 12:33:56,835 - IDTranslator_137376234816128 - INFO - Progress saved to checkpoint_batch_6.pkl</pre>"
      ],
      "text/plain": [
       "<IPython.core.display.HTML object>"
      ]
     },
     "metadata": {},
     "output_type": "display_data"
    },
    {
     "name": "stderr",
     "output_type": "stream",
     "text": [
      "INFO:IDTranslator_137376234816128:Progress saved to checkpoint_batch_6.pkl\n"
     ]
    },
    {
     "data": {
      "text/html": [
       "<pre>2024-07-12 12:33:56,950 - IDTranslator_137376234816128 - INFO - Processed batch 7/83</pre>"
      ],
      "text/plain": [
       "<IPython.core.display.HTML object>"
      ]
     },
     "metadata": {},
     "output_type": "display_data"
    },
    {
     "name": "stderr",
     "output_type": "stream",
     "text": [
      "INFO:IDTranslator_137376234816128:Processed batch 7/83\n"
     ]
    },
    {
     "data": {
      "text/html": [
       "<pre>2024-07-12 12:33:57,084 - IDTranslator_137376234816128 - INFO - Processed batch 8/83</pre>"
      ],
      "text/plain": [
       "<IPython.core.display.HTML object>"
      ]
     },
     "metadata": {},
     "output_type": "display_data"
    },
    {
     "name": "stderr",
     "output_type": "stream",
     "text": [
      "INFO:IDTranslator_137376234816128:Processed batch 8/83\n"
     ]
    },
    {
     "data": {
      "text/html": [
       "<pre>2024-07-12 12:33:57,085 - IDTranslator_137376234816128 - INFO - Progress saved to checkpoint_batch_8.pkl</pre>"
      ],
      "text/plain": [
       "<IPython.core.display.HTML object>"
      ]
     },
     "metadata": {},
     "output_type": "display_data"
    },
    {
     "name": "stderr",
     "output_type": "stream",
     "text": [
      "INFO:IDTranslator_137376234816128:Progress saved to checkpoint_batch_8.pkl\n"
     ]
    },
    {
     "data": {
      "text/html": [
       "<pre>2024-07-12 12:33:57,096 - IDTranslator_137376234816128 - INFO - Processed batch 9/83</pre>"
      ],
      "text/plain": [
       "<IPython.core.display.HTML object>"
      ]
     },
     "metadata": {},
     "output_type": "display_data"
    },
    {
     "name": "stderr",
     "output_type": "stream",
     "text": [
      "INFO:IDTranslator_137376234816128:Processed batch 9/83\n"
     ]
    },
    {
     "data": {
      "text/html": [
       "<pre>2024-07-12 12:33:57,168 - IDTranslator_137376234816128 - INFO - Processed batch 10/83</pre>"
      ],
      "text/plain": [
       "<IPython.core.display.HTML object>"
      ]
     },
     "metadata": {},
     "output_type": "display_data"
    },
    {
     "name": "stderr",
     "output_type": "stream",
     "text": [
      "INFO:IDTranslator_137376234816128:Processed batch 10/83\n"
     ]
    },
    {
     "data": {
      "text/html": [
       "<pre>2024-07-12 12:33:57,170 - IDTranslator_137376234816128 - INFO - Progress saved to checkpoint_batch_10.pkl</pre>"
      ],
      "text/plain": [
       "<IPython.core.display.HTML object>"
      ]
     },
     "metadata": {},
     "output_type": "display_data"
    },
    {
     "name": "stderr",
     "output_type": "stream",
     "text": [
      "INFO:IDTranslator_137376234816128:Progress saved to checkpoint_batch_10.pkl\n"
     ]
    },
    {
     "data": {
      "text/html": [
       "<pre>2024-07-12 12:33:57,231 - IDTranslator_137376234816128 - INFO - Processed batch 11/83</pre>"
      ],
      "text/plain": [
       "<IPython.core.display.HTML object>"
      ]
     },
     "metadata": {},
     "output_type": "display_data"
    },
    {
     "name": "stderr",
     "output_type": "stream",
     "text": [
      "INFO:IDTranslator_137376234816128:Processed batch 11/83\n"
     ]
    },
    {
     "data": {
      "text/html": [
       "<pre>2024-07-12 12:33:58,021 - IDTranslator_137376234816128 - INFO - Processed batch 12/83</pre>"
      ],
      "text/plain": [
       "<IPython.core.display.HTML object>"
      ]
     },
     "metadata": {},
     "output_type": "display_data"
    },
    {
     "name": "stderr",
     "output_type": "stream",
     "text": [
      "INFO:IDTranslator_137376234816128:Processed batch 12/83\n"
     ]
    },
    {
     "data": {
      "text/html": [
       "<pre>2024-07-12 12:33:58,032 - IDTranslator_137376234816128 - INFO - Progress saved to checkpoint_batch_12.pkl</pre>"
      ],
      "text/plain": [
       "<IPython.core.display.HTML object>"
      ]
     },
     "metadata": {},
     "output_type": "display_data"
    },
    {
     "name": "stderr",
     "output_type": "stream",
     "text": [
      "INFO:IDTranslator_137376234816128:Progress saved to checkpoint_batch_12.pkl\n"
     ]
    },
    {
     "data": {
      "text/html": [
       "<pre>2024-07-12 12:36:10,258 - IDTranslator_137376234816128 - INFO - Processed batch 13/83</pre>"
      ],
      "text/plain": [
       "<IPython.core.display.HTML object>"
      ]
     },
     "metadata": {},
     "output_type": "display_data"
    },
    {
     "name": "stderr",
     "output_type": "stream",
     "text": [
      "INFO:IDTranslator_137376234816128:Processed batch 13/83\n"
     ]
    },
    {
     "data": {
      "text/html": [
       "<pre>2024-07-12 12:36:11,520 - IDTranslator_137376234816128 - INFO - Processed batch 14/83</pre>"
      ],
      "text/plain": [
       "<IPython.core.display.HTML object>"
      ]
     },
     "metadata": {},
     "output_type": "display_data"
    },
    {
     "name": "stderr",
     "output_type": "stream",
     "text": [
      "INFO:IDTranslator_137376234816128:Processed batch 14/83\n"
     ]
    },
    {
     "data": {
      "text/html": [
       "<pre>2024-07-12 12:36:11,522 - IDTranslator_137376234816128 - INFO - Progress saved to checkpoint_batch_14.pkl</pre>"
      ],
      "text/plain": [
       "<IPython.core.display.HTML object>"
      ]
     },
     "metadata": {},
     "output_type": "display_data"
    },
    {
     "name": "stderr",
     "output_type": "stream",
     "text": [
      "INFO:IDTranslator_137376234816128:Progress saved to checkpoint_batch_14.pkl\n"
     ]
    },
    {
     "data": {
      "text/html": [
       "<pre>2024-07-12 12:36:11,643 - IDTranslator_137376234816128 - INFO - Processed batch 15/83</pre>"
      ],
      "text/plain": [
       "<IPython.core.display.HTML object>"
      ]
     },
     "metadata": {},
     "output_type": "display_data"
    },
    {
     "name": "stderr",
     "output_type": "stream",
     "text": [
      "INFO:IDTranslator_137376234816128:Processed batch 15/83\n"
     ]
    },
    {
     "data": {
      "text/html": [
       "<pre>2024-07-12 12:36:12,462 - IDTranslator_137376234816128 - INFO - Processed batch 16/83</pre>"
      ],
      "text/plain": [
       "<IPython.core.display.HTML object>"
      ]
     },
     "metadata": {},
     "output_type": "display_data"
    },
    {
     "name": "stderr",
     "output_type": "stream",
     "text": [
      "INFO:IDTranslator_137376234816128:Processed batch 16/83\n"
     ]
    },
    {
     "data": {
      "text/html": [
       "<pre>2024-07-12 12:36:12,464 - IDTranslator_137376234816128 - INFO - Progress saved to checkpoint_batch_16.pkl</pre>"
      ],
      "text/plain": [
       "<IPython.core.display.HTML object>"
      ]
     },
     "metadata": {},
     "output_type": "display_data"
    },
    {
     "name": "stderr",
     "output_type": "stream",
     "text": [
      "INFO:IDTranslator_137376234816128:Progress saved to checkpoint_batch_16.pkl\n"
     ]
    },
    {
     "data": {
      "text/html": [
       "<pre>2024-07-12 12:36:12,535 - IDTranslator_137376234816128 - INFO - Processed batch 17/83</pre>"
      ],
      "text/plain": [
       "<IPython.core.display.HTML object>"
      ]
     },
     "metadata": {},
     "output_type": "display_data"
    },
    {
     "name": "stderr",
     "output_type": "stream",
     "text": [
      "INFO:IDTranslator_137376234816128:Processed batch 17/83\n"
     ]
    },
    {
     "data": {
      "text/html": [
       "<pre>2024-07-12 12:36:12,788 - IDTranslator_137376234816128 - INFO - Processed batch 18/83</pre>"
      ],
      "text/plain": [
       "<IPython.core.display.HTML object>"
      ]
     },
     "metadata": {},
     "output_type": "display_data"
    },
    {
     "name": "stderr",
     "output_type": "stream",
     "text": [
      "INFO:IDTranslator_137376234816128:Processed batch 18/83\n"
     ]
    },
    {
     "data": {
      "text/html": [
       "<pre>2024-07-12 12:36:12,790 - IDTranslator_137376234816128 - INFO - Progress saved to checkpoint_batch_18.pkl</pre>"
      ],
      "text/plain": [
       "<IPython.core.display.HTML object>"
      ]
     },
     "metadata": {},
     "output_type": "display_data"
    },
    {
     "name": "stderr",
     "output_type": "stream",
     "text": [
      "INFO:IDTranslator_137376234816128:Progress saved to checkpoint_batch_18.pkl\n"
     ]
    },
    {
     "data": {
      "text/html": [
       "<pre>2024-07-12 12:36:12,812 - IDTranslator_137376234816128 - INFO - Processed batch 19/83</pre>"
      ],
      "text/plain": [
       "<IPython.core.display.HTML object>"
      ]
     },
     "metadata": {},
     "output_type": "display_data"
    },
    {
     "name": "stderr",
     "output_type": "stream",
     "text": [
      "INFO:IDTranslator_137376234816128:Processed batch 19/83\n"
     ]
    },
    {
     "data": {
      "text/html": [
       "<pre>2024-07-12 12:36:12,853 - IDTranslator_137376234816128 - INFO - Processed batch 20/83</pre>"
      ],
      "text/plain": [
       "<IPython.core.display.HTML object>"
      ]
     },
     "metadata": {},
     "output_type": "display_data"
    },
    {
     "name": "stderr",
     "output_type": "stream",
     "text": [
      "INFO:IDTranslator_137376234816128:Processed batch 20/83\n"
     ]
    },
    {
     "data": {
      "text/html": [
       "<pre>2024-07-12 12:36:12,855 - IDTranslator_137376234816128 - INFO - Progress saved to checkpoint_batch_20.pkl</pre>"
      ],
      "text/plain": [
       "<IPython.core.display.HTML object>"
      ]
     },
     "metadata": {},
     "output_type": "display_data"
    },
    {
     "name": "stderr",
     "output_type": "stream",
     "text": [
      "INFO:IDTranslator_137376234816128:Progress saved to checkpoint_batch_20.pkl\n"
     ]
    },
    {
     "data": {
      "text/html": [
       "<pre>2024-07-12 12:36:12,910 - IDTranslator_137376234816128 - INFO - Processed batch 21/83</pre>"
      ],
      "text/plain": [
       "<IPython.core.display.HTML object>"
      ]
     },
     "metadata": {},
     "output_type": "display_data"
    },
    {
     "name": "stderr",
     "output_type": "stream",
     "text": [
      "INFO:IDTranslator_137376234816128:Processed batch 21/83\n"
     ]
    },
    {
     "data": {
      "text/html": [
       "<pre>2024-07-12 12:36:12,914 - IDTranslator_137376234816128 - INFO - Processed batch 22/83</pre>"
      ],
      "text/plain": [
       "<IPython.core.display.HTML object>"
      ]
     },
     "metadata": {},
     "output_type": "display_data"
    },
    {
     "name": "stderr",
     "output_type": "stream",
     "text": [
      "INFO:IDTranslator_137376234816128:Processed batch 22/83\n"
     ]
    },
    {
     "data": {
      "text/html": [
       "<pre>2024-07-12 12:36:12,915 - IDTranslator_137376234816128 - INFO - Progress saved to checkpoint_batch_22.pkl</pre>"
      ],
      "text/plain": [
       "<IPython.core.display.HTML object>"
      ]
     },
     "metadata": {},
     "output_type": "display_data"
    },
    {
     "name": "stderr",
     "output_type": "stream",
     "text": [
      "INFO:IDTranslator_137376234816128:Progress saved to checkpoint_batch_22.pkl\n"
     ]
    },
    {
     "data": {
      "text/html": [
       "<pre>2024-07-12 12:36:12,919 - IDTranslator_137376234816128 - INFO - Processed batch 23/83</pre>"
      ],
      "text/plain": [
       "<IPython.core.display.HTML object>"
      ]
     },
     "metadata": {},
     "output_type": "display_data"
    },
    {
     "name": "stderr",
     "output_type": "stream",
     "text": [
      "INFO:IDTranslator_137376234816128:Processed batch 23/83\n"
     ]
    },
    {
     "data": {
      "text/html": [
       "<pre>2024-07-12 12:36:14,222 - IDTranslator_137376234816128 - INFO - Processed batch 24/83</pre>"
      ],
      "text/plain": [
       "<IPython.core.display.HTML object>"
      ]
     },
     "metadata": {},
     "output_type": "display_data"
    },
    {
     "name": "stderr",
     "output_type": "stream",
     "text": [
      "INFO:IDTranslator_137376234816128:Processed batch 24/83\n"
     ]
    },
    {
     "data": {
      "text/html": [
       "<pre>2024-07-12 12:36:14,224 - IDTranslator_137376234816128 - INFO - Progress saved to checkpoint_batch_24.pkl</pre>"
      ],
      "text/plain": [
       "<IPython.core.display.HTML object>"
      ]
     },
     "metadata": {},
     "output_type": "display_data"
    },
    {
     "name": "stderr",
     "output_type": "stream",
     "text": [
      "INFO:IDTranslator_137376234816128:Progress saved to checkpoint_batch_24.pkl\n"
     ]
    },
    {
     "data": {
      "text/html": [
       "<pre>2024-07-12 12:38:21,214 - IDTranslator_137376234816128 - INFO - Processed batch 25/83</pre>"
      ],
      "text/plain": [
       "<IPython.core.display.HTML object>"
      ]
     },
     "metadata": {},
     "output_type": "display_data"
    },
    {
     "name": "stderr",
     "output_type": "stream",
     "text": [
      "INFO:IDTranslator_137376234816128:Processed batch 25/83\n"
     ]
    },
    {
     "data": {
      "text/html": [
       "<pre>2024-07-12 12:38:22,981 - IDTranslator_137376234816128 - INFO - Processed batch 26/83</pre>"
      ],
      "text/plain": [
       "<IPython.core.display.HTML object>"
      ]
     },
     "metadata": {},
     "output_type": "display_data"
    },
    {
     "name": "stderr",
     "output_type": "stream",
     "text": [
      "INFO:IDTranslator_137376234816128:Processed batch 26/83\n"
     ]
    },
    {
     "data": {
      "text/html": [
       "<pre>2024-07-12 12:38:22,982 - IDTranslator_137376234816128 - INFO - Progress saved to checkpoint_batch_26.pkl</pre>"
      ],
      "text/plain": [
       "<IPython.core.display.HTML object>"
      ]
     },
     "metadata": {},
     "output_type": "display_data"
    },
    {
     "name": "stderr",
     "output_type": "stream",
     "text": [
      "INFO:IDTranslator_137376234816128:Progress saved to checkpoint_batch_26.pkl\n"
     ]
    },
    {
     "data": {
      "text/html": [
       "<pre>2024-07-12 12:38:23,134 - IDTranslator_137376234816128 - INFO - Processed batch 27/83</pre>"
      ],
      "text/plain": [
       "<IPython.core.display.HTML object>"
      ]
     },
     "metadata": {},
     "output_type": "display_data"
    },
    {
     "name": "stderr",
     "output_type": "stream",
     "text": [
      "INFO:IDTranslator_137376234816128:Processed batch 27/83\n"
     ]
    },
    {
     "data": {
      "text/html": [
       "<pre>2024-07-12 12:38:23,194 - IDTranslator_137376234816128 - INFO - Processed batch 28/83</pre>"
      ],
      "text/plain": [
       "<IPython.core.display.HTML object>"
      ]
     },
     "metadata": {},
     "output_type": "display_data"
    },
    {
     "name": "stderr",
     "output_type": "stream",
     "text": [
      "INFO:IDTranslator_137376234816128:Processed batch 28/83\n"
     ]
    },
    {
     "data": {
      "text/html": [
       "<pre>2024-07-12 12:38:23,196 - IDTranslator_137376234816128 - INFO - Progress saved to checkpoint_batch_28.pkl</pre>"
      ],
      "text/plain": [
       "<IPython.core.display.HTML object>"
      ]
     },
     "metadata": {},
     "output_type": "display_data"
    },
    {
     "name": "stderr",
     "output_type": "stream",
     "text": [
      "INFO:IDTranslator_137376234816128:Progress saved to checkpoint_batch_28.pkl\n"
     ]
    },
    {
     "data": {
      "text/html": [
       "<pre>2024-07-12 12:38:24,047 - IDTranslator_137376234816128 - INFO - Processed batch 29/83</pre>"
      ],
      "text/plain": [
       "<IPython.core.display.HTML object>"
      ]
     },
     "metadata": {},
     "output_type": "display_data"
    },
    {
     "name": "stderr",
     "output_type": "stream",
     "text": [
      "INFO:IDTranslator_137376234816128:Processed batch 29/83\n"
     ]
    },
    {
     "data": {
      "text/html": [
       "<pre>2024-07-12 12:38:24,124 - IDTranslator_137376234816128 - INFO - Processed batch 30/83</pre>"
      ],
      "text/plain": [
       "<IPython.core.display.HTML object>"
      ]
     },
     "metadata": {},
     "output_type": "display_data"
    },
    {
     "name": "stderr",
     "output_type": "stream",
     "text": [
      "INFO:IDTranslator_137376234816128:Processed batch 30/83\n"
     ]
    },
    {
     "data": {
      "text/html": [
       "<pre>2024-07-12 12:38:24,125 - IDTranslator_137376234816128 - INFO - Progress saved to checkpoint_batch_30.pkl</pre>"
      ],
      "text/plain": [
       "<IPython.core.display.HTML object>"
      ]
     },
     "metadata": {},
     "output_type": "display_data"
    },
    {
     "name": "stderr",
     "output_type": "stream",
     "text": [
      "INFO:IDTranslator_137376234816128:Progress saved to checkpoint_batch_30.pkl\n"
     ]
    },
    {
     "data": {
      "text/html": [
       "<pre>2024-07-12 12:38:24,208 - IDTranslator_137376234816128 - INFO - Processed batch 31/83</pre>"
      ],
      "text/plain": [
       "<IPython.core.display.HTML object>"
      ]
     },
     "metadata": {},
     "output_type": "display_data"
    },
    {
     "name": "stderr",
     "output_type": "stream",
     "text": [
      "INFO:IDTranslator_137376234816128:Processed batch 31/83\n"
     ]
    },
    {
     "data": {
      "text/html": [
       "<pre>2024-07-12 12:38:24,307 - IDTranslator_137376234816128 - INFO - Processed batch 32/83</pre>"
      ],
      "text/plain": [
       "<IPython.core.display.HTML object>"
      ]
     },
     "metadata": {},
     "output_type": "display_data"
    },
    {
     "name": "stderr",
     "output_type": "stream",
     "text": [
      "INFO:IDTranslator_137376234816128:Processed batch 32/83\n"
     ]
    },
    {
     "data": {
      "text/html": [
       "<pre>2024-07-12 12:38:24,309 - IDTranslator_137376234816128 - INFO - Progress saved to checkpoint_batch_32.pkl</pre>"
      ],
      "text/plain": [
       "<IPython.core.display.HTML object>"
      ]
     },
     "metadata": {},
     "output_type": "display_data"
    },
    {
     "name": "stderr",
     "output_type": "stream",
     "text": [
      "INFO:IDTranslator_137376234816128:Progress saved to checkpoint_batch_32.pkl\n"
     ]
    },
    {
     "data": {
      "text/html": [
       "<pre>2024-07-12 12:38:24,407 - IDTranslator_137376234816128 - INFO - Processed batch 33/83</pre>"
      ],
      "text/plain": [
       "<IPython.core.display.HTML object>"
      ]
     },
     "metadata": {},
     "output_type": "display_data"
    },
    {
     "name": "stderr",
     "output_type": "stream",
     "text": [
      "INFO:IDTranslator_137376234816128:Processed batch 33/83\n"
     ]
    },
    {
     "data": {
      "text/html": [
       "<pre>2024-07-12 12:38:24,602 - IDTranslator_137376234816128 - INFO - Processed batch 34/83</pre>"
      ],
      "text/plain": [
       "<IPython.core.display.HTML object>"
      ]
     },
     "metadata": {},
     "output_type": "display_data"
    },
    {
     "name": "stderr",
     "output_type": "stream",
     "text": [
      "INFO:IDTranslator_137376234816128:Processed batch 34/83\n"
     ]
    },
    {
     "data": {
      "text/html": [
       "<pre>2024-07-12 12:38:24,604 - IDTranslator_137376234816128 - INFO - Progress saved to checkpoint_batch_34.pkl</pre>"
      ],
      "text/plain": [
       "<IPython.core.display.HTML object>"
      ]
     },
     "metadata": {},
     "output_type": "display_data"
    },
    {
     "name": "stderr",
     "output_type": "stream",
     "text": [
      "INFO:IDTranslator_137376234816128:Progress saved to checkpoint_batch_34.pkl\n"
     ]
    },
    {
     "data": {
      "text/html": [
       "<pre>2024-07-12 12:38:24,820 - IDTranslator_137376234816128 - INFO - Processed batch 35/83</pre>"
      ],
      "text/plain": [
       "<IPython.core.display.HTML object>"
      ]
     },
     "metadata": {},
     "output_type": "display_data"
    },
    {
     "name": "stderr",
     "output_type": "stream",
     "text": [
      "INFO:IDTranslator_137376234816128:Processed batch 35/83\n"
     ]
    },
    {
     "data": {
      "text/html": [
       "<pre>2024-07-12 12:38:25,950 - IDTranslator_137376234816128 - INFO - Processed batch 36/83</pre>"
      ],
      "text/plain": [
       "<IPython.core.display.HTML object>"
      ]
     },
     "metadata": {},
     "output_type": "display_data"
    },
    {
     "name": "stderr",
     "output_type": "stream",
     "text": [
      "INFO:IDTranslator_137376234816128:Processed batch 36/83\n"
     ]
    },
    {
     "data": {
      "text/html": [
       "<pre>2024-07-12 12:38:25,952 - IDTranslator_137376234816128 - INFO - Progress saved to checkpoint_batch_36.pkl</pre>"
      ],
      "text/plain": [
       "<IPython.core.display.HTML object>"
      ]
     },
     "metadata": {},
     "output_type": "display_data"
    },
    {
     "name": "stderr",
     "output_type": "stream",
     "text": [
      "INFO:IDTranslator_137376234816128:Progress saved to checkpoint_batch_36.pkl\n"
     ]
    },
    {
     "data": {
      "text/html": [
       "<pre>2024-07-12 12:40:26,368 - IDTranslator_137376234816128 - INFO - Processed batch 37/83</pre>"
      ],
      "text/plain": [
       "<IPython.core.display.HTML object>"
      ]
     },
     "metadata": {},
     "output_type": "display_data"
    },
    {
     "name": "stderr",
     "output_type": "stream",
     "text": [
      "INFO:IDTranslator_137376234816128:Processed batch 37/83\n"
     ]
    },
    {
     "data": {
      "text/html": [
       "<pre>2024-07-12 12:40:27,296 - IDTranslator_137376234816128 - INFO - Processed batch 38/83</pre>"
      ],
      "text/plain": [
       "<IPython.core.display.HTML object>"
      ]
     },
     "metadata": {},
     "output_type": "display_data"
    },
    {
     "name": "stderr",
     "output_type": "stream",
     "text": [
      "INFO:IDTranslator_137376234816128:Processed batch 38/83\n"
     ]
    },
    {
     "data": {
      "text/html": [
       "<pre>2024-07-12 12:40:27,299 - IDTranslator_137376234816128 - INFO - Progress saved to checkpoint_batch_38.pkl</pre>"
      ],
      "text/plain": [
       "<IPython.core.display.HTML object>"
      ]
     },
     "metadata": {},
     "output_type": "display_data"
    },
    {
     "name": "stderr",
     "output_type": "stream",
     "text": [
      "INFO:IDTranslator_137376234816128:Progress saved to checkpoint_batch_38.pkl\n"
     ]
    },
    {
     "data": {
      "text/html": [
       "<pre>2024-07-12 12:40:27,671 - IDTranslator_137376234816128 - INFO - Processed batch 39/83</pre>"
      ],
      "text/plain": [
       "<IPython.core.display.HTML object>"
      ]
     },
     "metadata": {},
     "output_type": "display_data"
    },
    {
     "name": "stderr",
     "output_type": "stream",
     "text": [
      "INFO:IDTranslator_137376234816128:Processed batch 39/83\n"
     ]
    },
    {
     "data": {
      "text/html": [
       "<pre>2024-07-12 12:40:28,000 - IDTranslator_137376234816128 - INFO - Processed batch 40/83</pre>"
      ],
      "text/plain": [
       "<IPython.core.display.HTML object>"
      ]
     },
     "metadata": {},
     "output_type": "display_data"
    },
    {
     "name": "stderr",
     "output_type": "stream",
     "text": [
      "INFO:IDTranslator_137376234816128:Processed batch 40/83\n"
     ]
    },
    {
     "data": {
      "text/html": [
       "<pre>2024-07-12 12:40:28,003 - IDTranslator_137376234816128 - INFO - Progress saved to checkpoint_batch_40.pkl</pre>"
      ],
      "text/plain": [
       "<IPython.core.display.HTML object>"
      ]
     },
     "metadata": {},
     "output_type": "display_data"
    },
    {
     "name": "stderr",
     "output_type": "stream",
     "text": [
      "INFO:IDTranslator_137376234816128:Progress saved to checkpoint_batch_40.pkl\n"
     ]
    },
    {
     "data": {
      "text/html": [
       "<pre>2024-07-12 12:40:28,426 - IDTranslator_137376234816128 - INFO - Processed batch 41/83</pre>"
      ],
      "text/plain": [
       "<IPython.core.display.HTML object>"
      ]
     },
     "metadata": {},
     "output_type": "display_data"
    },
    {
     "name": "stderr",
     "output_type": "stream",
     "text": [
      "INFO:IDTranslator_137376234816128:Processed batch 41/83\n"
     ]
    },
    {
     "data": {
      "text/html": [
       "<pre>2024-07-12 12:40:28,862 - IDTranslator_137376234816128 - INFO - Processed batch 42/83</pre>"
      ],
      "text/plain": [
       "<IPython.core.display.HTML object>"
      ]
     },
     "metadata": {},
     "output_type": "display_data"
    },
    {
     "name": "stderr",
     "output_type": "stream",
     "text": [
      "INFO:IDTranslator_137376234816128:Processed batch 42/83\n"
     ]
    },
    {
     "data": {
      "text/html": [
       "<pre>2024-07-12 12:40:28,865 - IDTranslator_137376234816128 - INFO - Progress saved to checkpoint_batch_42.pkl</pre>"
      ],
      "text/plain": [
       "<IPython.core.display.HTML object>"
      ]
     },
     "metadata": {},
     "output_type": "display_data"
    },
    {
     "name": "stderr",
     "output_type": "stream",
     "text": [
      "INFO:IDTranslator_137376234816128:Progress saved to checkpoint_batch_42.pkl\n"
     ]
    },
    {
     "data": {
      "text/html": [
       "<pre>2024-07-12 12:40:28,920 - IDTranslator_137376234816128 - INFO - Processed batch 43/83</pre>"
      ],
      "text/plain": [
       "<IPython.core.display.HTML object>"
      ]
     },
     "metadata": {},
     "output_type": "display_data"
    },
    {
     "name": "stderr",
     "output_type": "stream",
     "text": [
      "INFO:IDTranslator_137376234816128:Processed batch 43/83\n"
     ]
    },
    {
     "data": {
      "text/html": [
       "<pre>2024-07-12 12:40:29,178 - IDTranslator_137376234816128 - INFO - Processed batch 44/83</pre>"
      ],
      "text/plain": [
       "<IPython.core.display.HTML object>"
      ]
     },
     "metadata": {},
     "output_type": "display_data"
    },
    {
     "name": "stderr",
     "output_type": "stream",
     "text": [
      "INFO:IDTranslator_137376234816128:Processed batch 44/83\n"
     ]
    },
    {
     "data": {
      "text/html": [
       "<pre>2024-07-12 12:40:29,180 - IDTranslator_137376234816128 - INFO - Progress saved to checkpoint_batch_44.pkl</pre>"
      ],
      "text/plain": [
       "<IPython.core.display.HTML object>"
      ]
     },
     "metadata": {},
     "output_type": "display_data"
    },
    {
     "name": "stderr",
     "output_type": "stream",
     "text": [
      "INFO:IDTranslator_137376234816128:Progress saved to checkpoint_batch_44.pkl\n"
     ]
    },
    {
     "data": {
      "text/html": [
       "<pre>2024-07-12 12:40:29,605 - IDTranslator_137376234816128 - INFO - Processed batch 45/83</pre>"
      ],
      "text/plain": [
       "<IPython.core.display.HTML object>"
      ]
     },
     "metadata": {},
     "output_type": "display_data"
    },
    {
     "name": "stderr",
     "output_type": "stream",
     "text": [
      "INFO:IDTranslator_137376234816128:Processed batch 45/83\n"
     ]
    },
    {
     "data": {
      "text/html": [
       "<pre>2024-07-12 12:40:29,655 - IDTranslator_137376234816128 - INFO - Processed batch 46/83</pre>"
      ],
      "text/plain": [
       "<IPython.core.display.HTML object>"
      ]
     },
     "metadata": {},
     "output_type": "display_data"
    },
    {
     "name": "stderr",
     "output_type": "stream",
     "text": [
      "INFO:IDTranslator_137376234816128:Processed batch 46/83\n"
     ]
    },
    {
     "data": {
      "text/html": [
       "<pre>2024-07-12 12:40:29,657 - IDTranslator_137376234816128 - INFO - Progress saved to checkpoint_batch_46.pkl</pre>"
      ],
      "text/plain": [
       "<IPython.core.display.HTML object>"
      ]
     },
     "metadata": {},
     "output_type": "display_data"
    },
    {
     "name": "stderr",
     "output_type": "stream",
     "text": [
      "INFO:IDTranslator_137376234816128:Progress saved to checkpoint_batch_46.pkl\n"
     ]
    },
    {
     "data": {
      "text/html": [
       "<pre>2024-07-12 12:40:29,675 - IDTranslator_137376234816128 - INFO - Processed batch 47/83</pre>"
      ],
      "text/plain": [
       "<IPython.core.display.HTML object>"
      ]
     },
     "metadata": {},
     "output_type": "display_data"
    },
    {
     "name": "stderr",
     "output_type": "stream",
     "text": [
      "INFO:IDTranslator_137376234816128:Processed batch 47/83\n"
     ]
    },
    {
     "data": {
      "text/html": [
       "<pre>2024-07-12 12:40:31,059 - IDTranslator_137376234816128 - INFO - Processed batch 48/83</pre>"
      ],
      "text/plain": [
       "<IPython.core.display.HTML object>"
      ]
     },
     "metadata": {},
     "output_type": "display_data"
    },
    {
     "name": "stderr",
     "output_type": "stream",
     "text": [
      "INFO:IDTranslator_137376234816128:Processed batch 48/83\n"
     ]
    },
    {
     "data": {
      "text/html": [
       "<pre>2024-07-12 12:40:31,062 - IDTranslator_137376234816128 - INFO - Progress saved to checkpoint_batch_48.pkl</pre>"
      ],
      "text/plain": [
       "<IPython.core.display.HTML object>"
      ]
     },
     "metadata": {},
     "output_type": "display_data"
    },
    {
     "name": "stderr",
     "output_type": "stream",
     "text": [
      "INFO:IDTranslator_137376234816128:Progress saved to checkpoint_batch_48.pkl\n"
     ]
    },
    {
     "data": {
      "text/html": [
       "<pre>2024-07-12 12:42:45,289 - IDTranslator_137376234816128 - INFO - Processed batch 49/83</pre>"
      ],
      "text/plain": [
       "<IPython.core.display.HTML object>"
      ]
     },
     "metadata": {},
     "output_type": "display_data"
    },
    {
     "name": "stderr",
     "output_type": "stream",
     "text": [
      "INFO:IDTranslator_137376234816128:Processed batch 49/83\n"
     ]
    },
    {
     "data": {
      "text/html": [
       "<pre>2024-07-12 12:42:46,636 - IDTranslator_137376234816128 - INFO - Processed batch 50/83</pre>"
      ],
      "text/plain": [
       "<IPython.core.display.HTML object>"
      ]
     },
     "metadata": {},
     "output_type": "display_data"
    },
    {
     "name": "stderr",
     "output_type": "stream",
     "text": [
      "INFO:IDTranslator_137376234816128:Processed batch 50/83\n"
     ]
    },
    {
     "data": {
      "text/html": [
       "<pre>2024-07-12 12:42:46,638 - IDTranslator_137376234816128 - INFO - Progress saved to checkpoint_batch_50.pkl</pre>"
      ],
      "text/plain": [
       "<IPython.core.display.HTML object>"
      ]
     },
     "metadata": {},
     "output_type": "display_data"
    },
    {
     "name": "stderr",
     "output_type": "stream",
     "text": [
      "INFO:IDTranslator_137376234816128:Progress saved to checkpoint_batch_50.pkl\n"
     ]
    },
    {
     "data": {
      "text/html": [
       "<pre>2024-07-12 12:42:46,645 - IDTranslator_137376234816128 - INFO - Processed batch 51/83</pre>"
      ],
      "text/plain": [
       "<IPython.core.display.HTML object>"
      ]
     },
     "metadata": {},
     "output_type": "display_data"
    },
    {
     "name": "stderr",
     "output_type": "stream",
     "text": [
      "INFO:IDTranslator_137376234816128:Processed batch 51/83\n"
     ]
    },
    {
     "data": {
      "text/html": [
       "<pre>2024-07-12 12:42:47,668 - IDTranslator_137376234816128 - INFO - Processed batch 52/83</pre>"
      ],
      "text/plain": [
       "<IPython.core.display.HTML object>"
      ]
     },
     "metadata": {},
     "output_type": "display_data"
    },
    {
     "name": "stderr",
     "output_type": "stream",
     "text": [
      "INFO:IDTranslator_137376234816128:Processed batch 52/83\n"
     ]
    },
    {
     "data": {
      "text/html": [
       "<pre>2024-07-12 12:42:47,670 - IDTranslator_137376234816128 - INFO - Progress saved to checkpoint_batch_52.pkl</pre>"
      ],
      "text/plain": [
       "<IPython.core.display.HTML object>"
      ]
     },
     "metadata": {},
     "output_type": "display_data"
    },
    {
     "name": "stderr",
     "output_type": "stream",
     "text": [
      "INFO:IDTranslator_137376234816128:Progress saved to checkpoint_batch_52.pkl\n"
     ]
    },
    {
     "data": {
      "text/html": [
       "<pre>2024-07-12 12:42:47,771 - IDTranslator_137376234816128 - INFO - Processed batch 53/83</pre>"
      ],
      "text/plain": [
       "<IPython.core.display.HTML object>"
      ]
     },
     "metadata": {},
     "output_type": "display_data"
    },
    {
     "name": "stderr",
     "output_type": "stream",
     "text": [
      "INFO:IDTranslator_137376234816128:Processed batch 53/83\n"
     ]
    },
    {
     "data": {
      "text/html": [
       "<pre>2024-07-12 12:42:47,779 - IDTranslator_137376234816128 - INFO - Processed batch 54/83</pre>"
      ],
      "text/plain": [
       "<IPython.core.display.HTML object>"
      ]
     },
     "metadata": {},
     "output_type": "display_data"
    },
    {
     "name": "stderr",
     "output_type": "stream",
     "text": [
      "INFO:IDTranslator_137376234816128:Processed batch 54/83\n"
     ]
    },
    {
     "data": {
      "text/html": [
       "<pre>2024-07-12 12:42:47,781 - IDTranslator_137376234816128 - INFO - Progress saved to checkpoint_batch_54.pkl</pre>"
      ],
      "text/plain": [
       "<IPython.core.display.HTML object>"
      ]
     },
     "metadata": {},
     "output_type": "display_data"
    },
    {
     "name": "stderr",
     "output_type": "stream",
     "text": [
      "INFO:IDTranslator_137376234816128:Progress saved to checkpoint_batch_54.pkl\n"
     ]
    },
    {
     "data": {
      "text/html": [
       "<pre>2024-07-12 12:42:47,792 - IDTranslator_137376234816128 - INFO - Processed batch 55/83</pre>"
      ],
      "text/plain": [
       "<IPython.core.display.HTML object>"
      ]
     },
     "metadata": {},
     "output_type": "display_data"
    },
    {
     "name": "stderr",
     "output_type": "stream",
     "text": [
      "INFO:IDTranslator_137376234816128:Processed batch 55/83\n"
     ]
    },
    {
     "data": {
      "text/html": [
       "<pre>2024-07-12 12:42:47,797 - IDTranslator_137376234816128 - INFO - Processed batch 56/83</pre>"
      ],
      "text/plain": [
       "<IPython.core.display.HTML object>"
      ]
     },
     "metadata": {},
     "output_type": "display_data"
    },
    {
     "name": "stderr",
     "output_type": "stream",
     "text": [
      "INFO:IDTranslator_137376234816128:Processed batch 56/83\n"
     ]
    },
    {
     "data": {
      "text/html": [
       "<pre>2024-07-12 12:42:47,800 - IDTranslator_137376234816128 - INFO - Progress saved to checkpoint_batch_56.pkl</pre>"
      ],
      "text/plain": [
       "<IPython.core.display.HTML object>"
      ]
     },
     "metadata": {},
     "output_type": "display_data"
    },
    {
     "name": "stderr",
     "output_type": "stream",
     "text": [
      "INFO:IDTranslator_137376234816128:Progress saved to checkpoint_batch_56.pkl\n"
     ]
    },
    {
     "data": {
      "text/html": [
       "<pre>2024-07-12 12:42:47,883 - IDTranslator_137376234816128 - INFO - Processed batch 57/83</pre>"
      ],
      "text/plain": [
       "<IPython.core.display.HTML object>"
      ]
     },
     "metadata": {},
     "output_type": "display_data"
    },
    {
     "name": "stderr",
     "output_type": "stream",
     "text": [
      "INFO:IDTranslator_137376234816128:Processed batch 57/83\n"
     ]
    },
    {
     "data": {
      "text/html": [
       "<pre>2024-07-12 12:42:49,118 - IDTranslator_137376234816128 - INFO - Processed batch 58/83</pre>"
      ],
      "text/plain": [
       "<IPython.core.display.HTML object>"
      ]
     },
     "metadata": {},
     "output_type": "display_data"
    },
    {
     "name": "stderr",
     "output_type": "stream",
     "text": [
      "INFO:IDTranslator_137376234816128:Processed batch 58/83\n"
     ]
    },
    {
     "data": {
      "text/html": [
       "<pre>2024-07-12 12:42:49,121 - IDTranslator_137376234816128 - INFO - Progress saved to checkpoint_batch_58.pkl</pre>"
      ],
      "text/plain": [
       "<IPython.core.display.HTML object>"
      ]
     },
     "metadata": {},
     "output_type": "display_data"
    },
    {
     "name": "stderr",
     "output_type": "stream",
     "text": [
      "INFO:IDTranslator_137376234816128:Progress saved to checkpoint_batch_58.pkl\n"
     ]
    },
    {
     "data": {
      "text/html": [
       "<pre>2024-07-12 12:42:49,140 - IDTranslator_137376234816128 - INFO - Processed batch 59/83</pre>"
      ],
      "text/plain": [
       "<IPython.core.display.HTML object>"
      ]
     },
     "metadata": {},
     "output_type": "display_data"
    },
    {
     "name": "stderr",
     "output_type": "stream",
     "text": [
      "INFO:IDTranslator_137376234816128:Processed batch 59/83\n"
     ]
    },
    {
     "data": {
      "text/html": [
       "<pre>2024-07-12 12:42:50,354 - IDTranslator_137376234816128 - INFO - Processed batch 60/83</pre>"
      ],
      "text/plain": [
       "<IPython.core.display.HTML object>"
      ]
     },
     "metadata": {},
     "output_type": "display_data"
    },
    {
     "name": "stderr",
     "output_type": "stream",
     "text": [
      "INFO:IDTranslator_137376234816128:Processed batch 60/83\n"
     ]
    },
    {
     "data": {
      "text/html": [
       "<pre>2024-07-12 12:42:50,357 - IDTranslator_137376234816128 - INFO - Progress saved to checkpoint_batch_60.pkl</pre>"
      ],
      "text/plain": [
       "<IPython.core.display.HTML object>"
      ]
     },
     "metadata": {},
     "output_type": "display_data"
    },
    {
     "name": "stderr",
     "output_type": "stream",
     "text": [
      "INFO:IDTranslator_137376234816128:Progress saved to checkpoint_batch_60.pkl\n"
     ]
    },
    {
     "data": {
      "text/html": [
       "<pre>2024-07-12 12:44:54,802 - IDTranslator_137376234816128 - INFO - Processed batch 61/83</pre>"
      ],
      "text/plain": [
       "<IPython.core.display.HTML object>"
      ]
     },
     "metadata": {},
     "output_type": "display_data"
    },
    {
     "name": "stderr",
     "output_type": "stream",
     "text": [
      "INFO:IDTranslator_137376234816128:Processed batch 61/83\n"
     ]
    },
    {
     "data": {
      "text/html": [
       "<pre>2024-07-12 12:44:56,977 - IDTranslator_137376234816128 - INFO - Processed batch 62/83</pre>"
      ],
      "text/plain": [
       "<IPython.core.display.HTML object>"
      ]
     },
     "metadata": {},
     "output_type": "display_data"
    },
    {
     "name": "stderr",
     "output_type": "stream",
     "text": [
      "INFO:IDTranslator_137376234816128:Processed batch 62/83\n"
     ]
    },
    {
     "data": {
      "text/html": [
       "<pre>2024-07-12 12:44:56,980 - IDTranslator_137376234816128 - INFO - Progress saved to checkpoint_batch_62.pkl</pre>"
      ],
      "text/plain": [
       "<IPython.core.display.HTML object>"
      ]
     },
     "metadata": {},
     "output_type": "display_data"
    },
    {
     "name": "stderr",
     "output_type": "stream",
     "text": [
      "INFO:IDTranslator_137376234816128:Progress saved to checkpoint_batch_62.pkl\n"
     ]
    },
    {
     "data": {
      "text/html": [
       "<pre>2024-07-12 12:44:57,025 - IDTranslator_137376234816128 - INFO - Processed batch 63/83</pre>"
      ],
      "text/plain": [
       "<IPython.core.display.HTML object>"
      ]
     },
     "metadata": {},
     "output_type": "display_data"
    },
    {
     "name": "stderr",
     "output_type": "stream",
     "text": [
      "INFO:IDTranslator_137376234816128:Processed batch 63/83\n"
     ]
    },
    {
     "data": {
      "text/html": [
       "<pre>2024-07-12 12:44:57,152 - IDTranslator_137376234816128 - INFO - Processed batch 64/83</pre>"
      ],
      "text/plain": [
       "<IPython.core.display.HTML object>"
      ]
     },
     "metadata": {},
     "output_type": "display_data"
    },
    {
     "name": "stderr",
     "output_type": "stream",
     "text": [
      "INFO:IDTranslator_137376234816128:Processed batch 64/83\n"
     ]
    },
    {
     "data": {
      "text/html": [
       "<pre>2024-07-12 12:44:57,154 - IDTranslator_137376234816128 - INFO - Progress saved to checkpoint_batch_64.pkl</pre>"
      ],
      "text/plain": [
       "<IPython.core.display.HTML object>"
      ]
     },
     "metadata": {},
     "output_type": "display_data"
    },
    {
     "name": "stderr",
     "output_type": "stream",
     "text": [
      "INFO:IDTranslator_137376234816128:Progress saved to checkpoint_batch_64.pkl\n"
     ]
    },
    {
     "data": {
      "text/html": [
       "<pre>2024-07-12 12:44:57,205 - IDTranslator_137376234816128 - INFO - Processed batch 65/83</pre>"
      ],
      "text/plain": [
       "<IPython.core.display.HTML object>"
      ]
     },
     "metadata": {},
     "output_type": "display_data"
    },
    {
     "name": "stderr",
     "output_type": "stream",
     "text": [
      "INFO:IDTranslator_137376234816128:Processed batch 65/83\n"
     ]
    },
    {
     "data": {
      "text/html": [
       "<pre>2024-07-12 12:44:57,265 - IDTranslator_137376234816128 - INFO - Processed batch 66/83</pre>"
      ],
      "text/plain": [
       "<IPython.core.display.HTML object>"
      ]
     },
     "metadata": {},
     "output_type": "display_data"
    },
    {
     "name": "stderr",
     "output_type": "stream",
     "text": [
      "INFO:IDTranslator_137376234816128:Processed batch 66/83\n"
     ]
    },
    {
     "data": {
      "text/html": [
       "<pre>2024-07-12 12:44:57,268 - IDTranslator_137376234816128 - INFO - Progress saved to checkpoint_batch_66.pkl</pre>"
      ],
      "text/plain": [
       "<IPython.core.display.HTML object>"
      ]
     },
     "metadata": {},
     "output_type": "display_data"
    },
    {
     "name": "stderr",
     "output_type": "stream",
     "text": [
      "INFO:IDTranslator_137376234816128:Progress saved to checkpoint_batch_66.pkl\n"
     ]
    },
    {
     "data": {
      "text/html": [
       "<pre>2024-07-12 12:44:57,732 - IDTranslator_137376234816128 - INFO - Processed batch 67/83</pre>"
      ],
      "text/plain": [
       "<IPython.core.display.HTML object>"
      ]
     },
     "metadata": {},
     "output_type": "display_data"
    },
    {
     "name": "stderr",
     "output_type": "stream",
     "text": [
      "INFO:IDTranslator_137376234816128:Processed batch 67/83\n"
     ]
    },
    {
     "data": {
      "text/html": [
       "<pre>2024-07-12 12:44:57,973 - IDTranslator_137376234816128 - INFO - Processed batch 68/83</pre>"
      ],
      "text/plain": [
       "<IPython.core.display.HTML object>"
      ]
     },
     "metadata": {},
     "output_type": "display_data"
    },
    {
     "name": "stderr",
     "output_type": "stream",
     "text": [
      "INFO:IDTranslator_137376234816128:Processed batch 68/83\n"
     ]
    },
    {
     "data": {
      "text/html": [
       "<pre>2024-07-12 12:44:57,975 - IDTranslator_137376234816128 - INFO - Progress saved to checkpoint_batch_68.pkl</pre>"
      ],
      "text/plain": [
       "<IPython.core.display.HTML object>"
      ]
     },
     "metadata": {},
     "output_type": "display_data"
    },
    {
     "name": "stderr",
     "output_type": "stream",
     "text": [
      "INFO:IDTranslator_137376234816128:Progress saved to checkpoint_batch_68.pkl\n"
     ]
    },
    {
     "data": {
      "text/html": [
       "<pre>2024-07-12 12:44:58,535 - IDTranslator_137376234816128 - INFO - Processed batch 69/83</pre>"
      ],
      "text/plain": [
       "<IPython.core.display.HTML object>"
      ]
     },
     "metadata": {},
     "output_type": "display_data"
    },
    {
     "name": "stderr",
     "output_type": "stream",
     "text": [
      "INFO:IDTranslator_137376234816128:Processed batch 69/83\n"
     ]
    },
    {
     "data": {
      "text/html": [
       "<pre>2024-07-12 12:44:59,666 - IDTranslator_137376234816128 - INFO - Processed batch 70/83</pre>"
      ],
      "text/plain": [
       "<IPython.core.display.HTML object>"
      ]
     },
     "metadata": {},
     "output_type": "display_data"
    },
    {
     "name": "stderr",
     "output_type": "stream",
     "text": [
      "INFO:IDTranslator_137376234816128:Processed batch 70/83\n"
     ]
    },
    {
     "data": {
      "text/html": [
       "<pre>2024-07-12 12:44:59,669 - IDTranslator_137376234816128 - INFO - Progress saved to checkpoint_batch_70.pkl</pre>"
      ],
      "text/plain": [
       "<IPython.core.display.HTML object>"
      ]
     },
     "metadata": {},
     "output_type": "display_data"
    },
    {
     "name": "stderr",
     "output_type": "stream",
     "text": [
      "INFO:IDTranslator_137376234816128:Progress saved to checkpoint_batch_70.pkl\n"
     ]
    },
    {
     "data": {
      "text/html": [
       "<pre>2024-07-12 12:44:59,810 - IDTranslator_137376234816128 - INFO - Processed batch 71/83</pre>"
      ],
      "text/plain": [
       "<IPython.core.display.HTML object>"
      ]
     },
     "metadata": {},
     "output_type": "display_data"
    },
    {
     "name": "stderr",
     "output_type": "stream",
     "text": [
      "INFO:IDTranslator_137376234816128:Processed batch 71/83\n"
     ]
    },
    {
     "data": {
      "text/html": [
       "<pre>2024-07-12 12:45:01,687 - IDTranslator_137376234816128 - INFO - Processed batch 72/83</pre>"
      ],
      "text/plain": [
       "<IPython.core.display.HTML object>"
      ]
     },
     "metadata": {},
     "output_type": "display_data"
    },
    {
     "name": "stderr",
     "output_type": "stream",
     "text": [
      "INFO:IDTranslator_137376234816128:Processed batch 72/83\n"
     ]
    },
    {
     "data": {
      "text/html": [
       "<pre>2024-07-12 12:45:01,690 - IDTranslator_137376234816128 - INFO - Progress saved to checkpoint_batch_72.pkl</pre>"
      ],
      "text/plain": [
       "<IPython.core.display.HTML object>"
      ]
     },
     "metadata": {},
     "output_type": "display_data"
    },
    {
     "name": "stderr",
     "output_type": "stream",
     "text": [
      "INFO:IDTranslator_137376234816128:Progress saved to checkpoint_batch_72.pkl\n"
     ]
    },
    {
     "data": {
      "text/html": [
       "<pre>2024-07-12 12:46:34,372 - IDTranslator_137376234816128 - INFO - Processed batch 73/83</pre>"
      ],
      "text/plain": [
       "<IPython.core.display.HTML object>"
      ]
     },
     "metadata": {},
     "output_type": "display_data"
    },
    {
     "name": "stderr",
     "output_type": "stream",
     "text": [
      "INFO:IDTranslator_137376234816128:Processed batch 73/83\n"
     ]
    },
    {
     "data": {
      "text/html": [
       "<pre>2024-07-12 12:47:08,105 - IDTranslator_137376234816128 - INFO - Processed batch 74/83</pre>"
      ],
      "text/plain": [
       "<IPython.core.display.HTML object>"
      ]
     },
     "metadata": {},
     "output_type": "display_data"
    },
    {
     "name": "stderr",
     "output_type": "stream",
     "text": [
      "INFO:IDTranslator_137376234816128:Processed batch 74/83\n"
     ]
    },
    {
     "data": {
      "text/html": [
       "<pre>2024-07-12 12:47:08,109 - IDTranslator_137376234816128 - INFO - Progress saved to checkpoint_batch_74.pkl</pre>"
      ],
      "text/plain": [
       "<IPython.core.display.HTML object>"
      ]
     },
     "metadata": {},
     "output_type": "display_data"
    },
    {
     "name": "stderr",
     "output_type": "stream",
     "text": [
      "INFO:IDTranslator_137376234816128:Progress saved to checkpoint_batch_74.pkl\n"
     ]
    },
    {
     "data": {
      "text/html": [
       "<pre>2024-07-12 12:47:10,550 - IDTranslator_137376234816128 - INFO - Processed batch 75/83</pre>"
      ],
      "text/plain": [
       "<IPython.core.display.HTML object>"
      ]
     },
     "metadata": {},
     "output_type": "display_data"
    },
    {
     "name": "stderr",
     "output_type": "stream",
     "text": [
      "INFO:IDTranslator_137376234816128:Processed batch 75/83\n"
     ]
    },
    {
     "data": {
      "text/html": [
       "<pre>2024-07-12 12:47:10,605 - IDTranslator_137376234816128 - INFO - Processed batch 76/83</pre>"
      ],
      "text/plain": [
       "<IPython.core.display.HTML object>"
      ]
     },
     "metadata": {},
     "output_type": "display_data"
    },
    {
     "name": "stderr",
     "output_type": "stream",
     "text": [
      "INFO:IDTranslator_137376234816128:Processed batch 76/83\n"
     ]
    },
    {
     "data": {
      "text/html": [
       "<pre>2024-07-12 12:47:10,607 - IDTranslator_137376234816128 - INFO - Progress saved to checkpoint_batch_76.pkl</pre>"
      ],
      "text/plain": [
       "<IPython.core.display.HTML object>"
      ]
     },
     "metadata": {},
     "output_type": "display_data"
    },
    {
     "name": "stderr",
     "output_type": "stream",
     "text": [
      "INFO:IDTranslator_137376234816128:Progress saved to checkpoint_batch_76.pkl\n"
     ]
    },
    {
     "data": {
      "text/html": [
       "<pre>2024-07-12 12:47:10,664 - IDTranslator_137376234816128 - INFO - Processed batch 77/83</pre>"
      ],
      "text/plain": [
       "<IPython.core.display.HTML object>"
      ]
     },
     "metadata": {},
     "output_type": "display_data"
    },
    {
     "name": "stderr",
     "output_type": "stream",
     "text": [
      "INFO:IDTranslator_137376234816128:Processed batch 77/83\n"
     ]
    },
    {
     "data": {
      "text/html": [
       "<pre>2024-07-12 12:47:10,723 - IDTranslator_137376234816128 - INFO - Processed batch 78/83</pre>"
      ],
      "text/plain": [
       "<IPython.core.display.HTML object>"
      ]
     },
     "metadata": {},
     "output_type": "display_data"
    },
    {
     "name": "stderr",
     "output_type": "stream",
     "text": [
      "INFO:IDTranslator_137376234816128:Processed batch 78/83\n"
     ]
    },
    {
     "data": {
      "text/html": [
       "<pre>2024-07-12 12:47:10,726 - IDTranslator_137376234816128 - INFO - Progress saved to checkpoint_batch_78.pkl</pre>"
      ],
      "text/plain": [
       "<IPython.core.display.HTML object>"
      ]
     },
     "metadata": {},
     "output_type": "display_data"
    },
    {
     "name": "stderr",
     "output_type": "stream",
     "text": [
      "INFO:IDTranslator_137376234816128:Progress saved to checkpoint_batch_78.pkl\n"
     ]
    },
    {
     "data": {
      "text/html": [
       "<pre>2024-07-12 12:47:11,785 - IDTranslator_137376234816128 - INFO - Processed batch 79/83</pre>"
      ],
      "text/plain": [
       "<IPython.core.display.HTML object>"
      ]
     },
     "metadata": {},
     "output_type": "display_data"
    },
    {
     "name": "stderr",
     "output_type": "stream",
     "text": [
      "INFO:IDTranslator_137376234816128:Processed batch 79/83\n"
     ]
    },
    {
     "data": {
      "text/html": [
       "<pre>2024-07-12 12:47:12,014 - IDTranslator_137376234816128 - INFO - Processed batch 80/83</pre>"
      ],
      "text/plain": [
       "<IPython.core.display.HTML object>"
      ]
     },
     "metadata": {},
     "output_type": "display_data"
    },
    {
     "name": "stderr",
     "output_type": "stream",
     "text": [
      "INFO:IDTranslator_137376234816128:Processed batch 80/83\n"
     ]
    },
    {
     "data": {
      "text/html": [
       "<pre>2024-07-12 12:47:12,017 - IDTranslator_137376234816128 - INFO - Progress saved to checkpoint_batch_80.pkl</pre>"
      ],
      "text/plain": [
       "<IPython.core.display.HTML object>"
      ]
     },
     "metadata": {},
     "output_type": "display_data"
    },
    {
     "name": "stderr",
     "output_type": "stream",
     "text": [
      "INFO:IDTranslator_137376234816128:Progress saved to checkpoint_batch_80.pkl\n"
     ]
    },
    {
     "data": {
      "text/html": [
       "<pre>2024-07-12 12:47:12,080 - IDTranslator_137376234816128 - INFO - Processed batch 81/83</pre>"
      ],
      "text/plain": [
       "<IPython.core.display.HTML object>"
      ]
     },
     "metadata": {},
     "output_type": "display_data"
    },
    {
     "name": "stderr",
     "output_type": "stream",
     "text": [
      "INFO:IDTranslator_137376234816128:Processed batch 81/83\n"
     ]
    },
    {
     "data": {
      "text/html": [
       "<pre>2024-07-12 12:47:13,031 - IDTranslator_137376234816128 - INFO - Processed batch 82/83</pre>"
      ],
      "text/plain": [
       "<IPython.core.display.HTML object>"
      ]
     },
     "metadata": {},
     "output_type": "display_data"
    },
    {
     "name": "stderr",
     "output_type": "stream",
     "text": [
      "INFO:IDTranslator_137376234816128:Processed batch 82/83\n"
     ]
    },
    {
     "data": {
      "text/html": [
       "<pre>2024-07-12 12:47:13,034 - IDTranslator_137376234816128 - INFO - Progress saved to checkpoint_batch_82.pkl</pre>"
      ],
      "text/plain": [
       "<IPython.core.display.HTML object>"
      ]
     },
     "metadata": {},
     "output_type": "display_data"
    },
    {
     "name": "stderr",
     "output_type": "stream",
     "text": [
      "INFO:IDTranslator_137376234816128:Progress saved to checkpoint_batch_82.pkl\n"
     ]
    },
    {
     "data": {
      "text/html": [
       "<pre>2024-07-12 12:47:14,249 - IDTranslator_137376234816128 - INFO - Processed batch 83/83</pre>"
      ],
      "text/plain": [
       "<IPython.core.display.HTML object>"
      ]
     },
     "metadata": {},
     "output_type": "display_data"
    },
    {
     "name": "stderr",
     "output_type": "stream",
     "text": [
      "INFO:IDTranslator_137376234816128:Processed batch 83/83\n"
     ]
    },
    {
     "data": {
      "text/html": [
       "<pre>2024-07-12 12:47:14,252 - IDTranslator_137376234816128 - INFO - Progress saved to checkpoint_batch_83.pkl</pre>"
      ],
      "text/plain": [
       "<IPython.core.display.HTML object>"
      ]
     },
     "metadata": {},
     "output_type": "display_data"
    },
    {
     "name": "stderr",
     "output_type": "stream",
     "text": [
      "INFO:IDTranslator_137376234816128:Progress saved to checkpoint_batch_83.pkl\n"
     ]
    },
    {
     "data": {
      "text/html": [
       "<pre>2024-07-12 12:47:14,268 - IDTranslator_137376234816128 - INFO - Applying translation to dataframe...</pre>"
      ],
      "text/plain": [
       "<IPython.core.display.HTML object>"
      ]
     },
     "metadata": {},
     "output_type": "display_data"
    },
    {
     "name": "stderr",
     "output_type": "stream",
     "text": [
      "INFO:IDTranslator_137376234816128:Applying translation to dataframe...\n"
     ]
    },
    {
     "data": {
      "text/html": [
       "<pre>2024-07-12 12:47:36,563 - IDTranslator_137376234816128 - INFO - Results saved to ../data/HuRI_translated.csv</pre>"
      ],
      "text/plain": [
       "<IPython.core.display.HTML object>"
      ]
     },
     "metadata": {},
     "output_type": "display_data"
    },
    {
     "name": "stderr",
     "output_type": "stream",
     "text": [
      "INFO:IDTranslator_137376234816128:Results saved to ../data/HuRI_translated.csv\n"
     ]
    },
    {
     "data": {
      "text/html": [
       "<pre>2024-07-12 12:47:36,634 - IDTranslator_137376234816128 - INFO - ID translation process completed in 950.72 seconds</pre>"
      ],
      "text/plain": [
       "<IPython.core.display.HTML object>"
      ]
     },
     "metadata": {},
     "output_type": "display_data"
    },
    {
     "name": "stderr",
     "output_type": "stream",
     "text": [
      "INFO:IDTranslator_137376234816128:ID translation process completed in 950.72 seconds\n"
     ]
    },
    {
     "data": {
      "text/html": [
       "<pre>2024-07-12 12:47:36,639 - IDTranslator_137376234816128 - INFO - Original entry count: 52596</pre>"
      ],
      "text/plain": [
       "<IPython.core.display.HTML object>"
      ]
     },
     "metadata": {},
     "output_type": "display_data"
    },
    {
     "name": "stderr",
     "output_type": "stream",
     "text": [
      "INFO:IDTranslator_137376234816128:Original entry count: 52596\n"
     ]
    },
    {
     "data": {
      "text/html": [
       "<pre>2024-07-12 12:47:36,640 - IDTranslator_137376234816128 - INFO - Translated entry count: 52596</pre>"
      ],
      "text/plain": [
       "<IPython.core.display.HTML object>"
      ]
     },
     "metadata": {},
     "output_type": "display_data"
    },
    {
     "name": "stderr",
     "output_type": "stream",
     "text": [
      "INFO:IDTranslator_137376234816128:Translated entry count: 52596\n"
     ]
    },
    {
     "data": {
      "text/html": [
       "<pre>2024-07-12 12:47:36,641 - IDTranslator_137376234816128 - INFO - Expansion factor: 1.00</pre>"
      ],
      "text/plain": [
       "<IPython.core.display.HTML object>"
      ]
     },
     "metadata": {},
     "output_type": "display_data"
    },
    {
     "name": "stderr",
     "output_type": "stream",
     "text": [
      "INFO:IDTranslator_137376234816128:Expansion factor: 1.00\n"
     ]
    },
    {
     "data": {
      "text/html": [
       "<pre>2024-07-12 12:47:36,642 - IDTranslator_137376234816128 - INFO - Translation success rate: 100.00%</pre>"
      ],
      "text/plain": [
       "<IPython.core.display.HTML object>"
      ]
     },
     "metadata": {},
     "output_type": "display_data"
    },
    {
     "name": "stderr",
     "output_type": "stream",
     "text": [
      "INFO:IDTranslator_137376234816128:Translation success rate: 100.00%\n"
     ]
    }
   ],
   "source": [
    "translator_2.run()"
   ]
  },
  {
   "cell_type": "code",
   "execution_count": 7,
   "id": "6fc73d6b-ed5f-440d-80d6-13dd55983639",
   "metadata": {},
   "outputs": [],
   "source": [
    "translator_3 = IDTranslator('../data/Lit-BM.tsv', '../data/Lit-BM_translated.csv', 'Ensembl', 'UniProtKB-Swiss-Prot', has_header=False, input_columns=['source', 'target'], processes=12, pickle_dir=\"./pickles_3\")"
   ]
  },
  {
   "cell_type": "code",
   "execution_count": 8,
   "id": "8c2375c8-8030-4bf1-be4c-c99b72fa06f3",
   "metadata": {},
   "outputs": [
    {
     "data": {
      "text/html": [
       "<pre>2024-07-12 12:47:36,658 - IDTranslator_137376234981312 - INFO - Starting ID translation process from Ensembl to UniProtKB-Swiss-Prot</pre>"
      ],
      "text/plain": [
       "<IPython.core.display.HTML object>"
      ]
     },
     "metadata": {},
     "output_type": "display_data"
    },
    {
     "name": "stderr",
     "output_type": "stream",
     "text": [
      "INFO:IDTranslator_137376234981312:Starting ID translation process from Ensembl to UniProtKB-Swiss-Prot\n"
     ]
    },
    {
     "data": {
      "text/html": [
       "<pre>2024-07-12 12:47:36,666 - IDTranslator_137376234981312 - INFO - Loaded 13441 rows with 6047 unique IDs</pre>"
      ],
      "text/plain": [
       "<IPython.core.display.HTML object>"
      ]
     },
     "metadata": {},
     "output_type": "display_data"
    },
    {
     "name": "stderr",
     "output_type": "stream",
     "text": [
      "INFO:IDTranslator_137376234981312:Loaded 13441 rows with 6047 unique IDs\n"
     ]
    },
    {
     "data": {
      "text/html": [
       "<pre>2024-07-12 12:47:36,667 - IDTranslator_137376234981312 - INFO - No existing progress found. Starting from scratch.</pre>"
      ],
      "text/plain": [
       "<IPython.core.display.HTML object>"
      ]
     },
     "metadata": {},
     "output_type": "display_data"
    },
    {
     "name": "stderr",
     "output_type": "stream",
     "text": [
      "INFO:IDTranslator_137376234981312:No existing progress found. Starting from scratch.\n"
     ]
    },
    {
     "data": {
      "application/vnd.jupyter.widget-view+json": {
       "model_id": "1744905280224f61bf6a31ecb0d8f13c",
       "version_major": 2,
       "version_minor": 0
      },
      "text/plain": [
       "Processing batches:   0%|          | 0/61 [00:00<?, ?it/s]"
      ]
     },
     "metadata": {},
     "output_type": "display_data"
    },
    {
     "data": {
      "text/html": [
       "<pre>2024-07-12 12:49:41,358 - IDTranslator_137376234981312 - INFO - Processed batch 1/61</pre>"
      ],
      "text/plain": [
       "<IPython.core.display.HTML object>"
      ]
     },
     "metadata": {},
     "output_type": "display_data"
    },
    {
     "name": "stderr",
     "output_type": "stream",
     "text": [
      "INFO:IDTranslator_137376234981312:Processed batch 1/61\n"
     ]
    },
    {
     "data": {
      "text/html": [
       "<pre>2024-07-12 12:49:41,582 - IDTranslator_137376234981312 - INFO - Processed batch 2/61</pre>"
      ],
      "text/plain": [
       "<IPython.core.display.HTML object>"
      ]
     },
     "metadata": {},
     "output_type": "display_data"
    },
    {
     "name": "stderr",
     "output_type": "stream",
     "text": [
      "INFO:IDTranslator_137376234981312:Processed batch 2/61\n"
     ]
    },
    {
     "data": {
      "text/html": [
       "<pre>2024-07-12 12:49:41,583 - IDTranslator_137376234981312 - INFO - Progress saved to checkpoint_batch_2.pkl</pre>"
      ],
      "text/plain": [
       "<IPython.core.display.HTML object>"
      ]
     },
     "metadata": {},
     "output_type": "display_data"
    },
    {
     "name": "stderr",
     "output_type": "stream",
     "text": [
      "INFO:IDTranslator_137376234981312:Progress saved to checkpoint_batch_2.pkl\n"
     ]
    },
    {
     "data": {
      "text/html": [
       "<pre>2024-07-12 12:49:41,637 - IDTranslator_137376234981312 - INFO - Processed batch 3/61</pre>"
      ],
      "text/plain": [
       "<IPython.core.display.HTML object>"
      ]
     },
     "metadata": {},
     "output_type": "display_data"
    },
    {
     "name": "stderr",
     "output_type": "stream",
     "text": [
      "INFO:IDTranslator_137376234981312:Processed batch 3/61\n"
     ]
    },
    {
     "data": {
      "text/html": [
       "<pre>2024-07-12 12:49:41,808 - IDTranslator_137376234981312 - INFO - Processed batch 4/61</pre>"
      ],
      "text/plain": [
       "<IPython.core.display.HTML object>"
      ]
     },
     "metadata": {},
     "output_type": "display_data"
    },
    {
     "name": "stderr",
     "output_type": "stream",
     "text": [
      "INFO:IDTranslator_137376234981312:Processed batch 4/61\n"
     ]
    },
    {
     "data": {
      "text/html": [
       "<pre>2024-07-12 12:49:41,810 - IDTranslator_137376234981312 - INFO - Progress saved to checkpoint_batch_4.pkl</pre>"
      ],
      "text/plain": [
       "<IPython.core.display.HTML object>"
      ]
     },
     "metadata": {},
     "output_type": "display_data"
    },
    {
     "name": "stderr",
     "output_type": "stream",
     "text": [
      "INFO:IDTranslator_137376234981312:Progress saved to checkpoint_batch_4.pkl\n"
     ]
    },
    {
     "data": {
      "text/html": [
       "<pre>2024-07-12 12:49:42,022 - IDTranslator_137376234981312 - INFO - Processed batch 5/61</pre>"
      ],
      "text/plain": [
       "<IPython.core.display.HTML object>"
      ]
     },
     "metadata": {},
     "output_type": "display_data"
    },
    {
     "name": "stderr",
     "output_type": "stream",
     "text": [
      "INFO:IDTranslator_137376234981312:Processed batch 5/61\n"
     ]
    },
    {
     "data": {
      "text/html": [
       "<pre>2024-07-12 12:49:42,027 - IDTranslator_137376234981312 - INFO - Processed batch 6/61</pre>"
      ],
      "text/plain": [
       "<IPython.core.display.HTML object>"
      ]
     },
     "metadata": {},
     "output_type": "display_data"
    },
    {
     "name": "stderr",
     "output_type": "stream",
     "text": [
      "INFO:IDTranslator_137376234981312:Processed batch 6/61\n"
     ]
    },
    {
     "data": {
      "text/html": [
       "<pre>2024-07-12 12:49:42,028 - IDTranslator_137376234981312 - INFO - Progress saved to checkpoint_batch_6.pkl</pre>"
      ],
      "text/plain": [
       "<IPython.core.display.HTML object>"
      ]
     },
     "metadata": {},
     "output_type": "display_data"
    },
    {
     "name": "stderr",
     "output_type": "stream",
     "text": [
      "INFO:IDTranslator_137376234981312:Progress saved to checkpoint_batch_6.pkl\n"
     ]
    },
    {
     "data": {
      "text/html": [
       "<pre>2024-07-12 12:49:42,075 - IDTranslator_137376234981312 - INFO - Processed batch 7/61</pre>"
      ],
      "text/plain": [
       "<IPython.core.display.HTML object>"
      ]
     },
     "metadata": {},
     "output_type": "display_data"
    },
    {
     "name": "stderr",
     "output_type": "stream",
     "text": [
      "INFO:IDTranslator_137376234981312:Processed batch 7/61\n"
     ]
    },
    {
     "data": {
      "text/html": [
       "<pre>2024-07-12 12:49:42,537 - IDTranslator_137376234981312 - INFO - Processed batch 8/61</pre>"
      ],
      "text/plain": [
       "<IPython.core.display.HTML object>"
      ]
     },
     "metadata": {},
     "output_type": "display_data"
    },
    {
     "name": "stderr",
     "output_type": "stream",
     "text": [
      "INFO:IDTranslator_137376234981312:Processed batch 8/61\n"
     ]
    },
    {
     "data": {
      "text/html": [
       "<pre>2024-07-12 12:49:42,538 - IDTranslator_137376234981312 - INFO - Progress saved to checkpoint_batch_8.pkl</pre>"
      ],
      "text/plain": [
       "<IPython.core.display.HTML object>"
      ]
     },
     "metadata": {},
     "output_type": "display_data"
    },
    {
     "name": "stderr",
     "output_type": "stream",
     "text": [
      "INFO:IDTranslator_137376234981312:Progress saved to checkpoint_batch_8.pkl\n"
     ]
    },
    {
     "data": {
      "text/html": [
       "<pre>2024-07-12 12:49:42,555 - IDTranslator_137376234981312 - INFO - Processed batch 9/61</pre>"
      ],
      "text/plain": [
       "<IPython.core.display.HTML object>"
      ]
     },
     "metadata": {},
     "output_type": "display_data"
    },
    {
     "name": "stderr",
     "output_type": "stream",
     "text": [
      "INFO:IDTranslator_137376234981312:Processed batch 9/61\n"
     ]
    },
    {
     "data": {
      "text/html": [
       "<pre>2024-07-12 12:49:42,916 - IDTranslator_137376234981312 - INFO - Processed batch 10/61</pre>"
      ],
      "text/plain": [
       "<IPython.core.display.HTML object>"
      ]
     },
     "metadata": {},
     "output_type": "display_data"
    },
    {
     "name": "stderr",
     "output_type": "stream",
     "text": [
      "INFO:IDTranslator_137376234981312:Processed batch 10/61\n"
     ]
    },
    {
     "data": {
      "text/html": [
       "<pre>2024-07-12 12:49:42,918 - IDTranslator_137376234981312 - INFO - Progress saved to checkpoint_batch_10.pkl</pre>"
      ],
      "text/plain": [
       "<IPython.core.display.HTML object>"
      ]
     },
     "metadata": {},
     "output_type": "display_data"
    },
    {
     "name": "stderr",
     "output_type": "stream",
     "text": [
      "INFO:IDTranslator_137376234981312:Progress saved to checkpoint_batch_10.pkl\n"
     ]
    },
    {
     "data": {
      "text/html": [
       "<pre>2024-07-12 12:49:43,178 - IDTranslator_137376234981312 - INFO - Processed batch 11/61</pre>"
      ],
      "text/plain": [
       "<IPython.core.display.HTML object>"
      ]
     },
     "metadata": {},
     "output_type": "display_data"
    },
    {
     "name": "stderr",
     "output_type": "stream",
     "text": [
      "INFO:IDTranslator_137376234981312:Processed batch 11/61\n"
     ]
    },
    {
     "data": {
      "text/html": [
       "<pre>2024-07-12 12:49:43,249 - IDTranslator_137376234981312 - INFO - Processed batch 12/61</pre>"
      ],
      "text/plain": [
       "<IPython.core.display.HTML object>"
      ]
     },
     "metadata": {},
     "output_type": "display_data"
    },
    {
     "name": "stderr",
     "output_type": "stream",
     "text": [
      "INFO:IDTranslator_137376234981312:Processed batch 12/61\n"
     ]
    },
    {
     "data": {
      "text/html": [
       "<pre>2024-07-12 12:49:43,251 - IDTranslator_137376234981312 - INFO - Progress saved to checkpoint_batch_12.pkl</pre>"
      ],
      "text/plain": [
       "<IPython.core.display.HTML object>"
      ]
     },
     "metadata": {},
     "output_type": "display_data"
    },
    {
     "name": "stderr",
     "output_type": "stream",
     "text": [
      "INFO:IDTranslator_137376234981312:Progress saved to checkpoint_batch_12.pkl\n"
     ]
    },
    {
     "data": {
      "text/html": [
       "<pre>2024-07-12 12:51:45,895 - IDTranslator_137376234981312 - INFO - Processed batch 13/61</pre>"
      ],
      "text/plain": [
       "<IPython.core.display.HTML object>"
      ]
     },
     "metadata": {},
     "output_type": "display_data"
    },
    {
     "name": "stderr",
     "output_type": "stream",
     "text": [
      "INFO:IDTranslator_137376234981312:Processed batch 13/61\n"
     ]
    },
    {
     "data": {
      "text/html": [
       "<pre>2024-07-12 12:51:51,035 - IDTranslator_137376234981312 - INFO - Processed batch 14/61</pre>"
      ],
      "text/plain": [
       "<IPython.core.display.HTML object>"
      ]
     },
     "metadata": {},
     "output_type": "display_data"
    },
    {
     "name": "stderr",
     "output_type": "stream",
     "text": [
      "INFO:IDTranslator_137376234981312:Processed batch 14/61\n"
     ]
    },
    {
     "data": {
      "text/html": [
       "<pre>2024-07-12 12:51:51,037 - IDTranslator_137376234981312 - INFO - Progress saved to checkpoint_batch_14.pkl</pre>"
      ],
      "text/plain": [
       "<IPython.core.display.HTML object>"
      ]
     },
     "metadata": {},
     "output_type": "display_data"
    },
    {
     "name": "stderr",
     "output_type": "stream",
     "text": [
      "INFO:IDTranslator_137376234981312:Progress saved to checkpoint_batch_14.pkl\n"
     ]
    },
    {
     "data": {
      "text/html": [
       "<pre>2024-07-12 12:51:51,051 - IDTranslator_137376234981312 - INFO - Processed batch 15/61</pre>"
      ],
      "text/plain": [
       "<IPython.core.display.HTML object>"
      ]
     },
     "metadata": {},
     "output_type": "display_data"
    },
    {
     "name": "stderr",
     "output_type": "stream",
     "text": [
      "INFO:IDTranslator_137376234981312:Processed batch 15/61\n"
     ]
    },
    {
     "data": {
      "text/html": [
       "<pre>2024-07-12 12:51:51,054 - IDTranslator_137376234981312 - INFO - Processed batch 16/61</pre>"
      ],
      "text/plain": [
       "<IPython.core.display.HTML object>"
      ]
     },
     "metadata": {},
     "output_type": "display_data"
    },
    {
     "name": "stderr",
     "output_type": "stream",
     "text": [
      "INFO:IDTranslator_137376234981312:Processed batch 16/61\n"
     ]
    },
    {
     "data": {
      "text/html": [
       "<pre>2024-07-12 12:51:51,057 - IDTranslator_137376234981312 - INFO - Progress saved to checkpoint_batch_16.pkl</pre>"
      ],
      "text/plain": [
       "<IPython.core.display.HTML object>"
      ]
     },
     "metadata": {},
     "output_type": "display_data"
    },
    {
     "name": "stderr",
     "output_type": "stream",
     "text": [
      "INFO:IDTranslator_137376234981312:Progress saved to checkpoint_batch_16.pkl\n"
     ]
    },
    {
     "data": {
      "text/html": [
       "<pre>2024-07-12 12:51:51,058 - IDTranslator_137376234981312 - INFO - Processed batch 17/61</pre>"
      ],
      "text/plain": [
       "<IPython.core.display.HTML object>"
      ]
     },
     "metadata": {},
     "output_type": "display_data"
    },
    {
     "name": "stderr",
     "output_type": "stream",
     "text": [
      "INFO:IDTranslator_137376234981312:Processed batch 17/61\n"
     ]
    },
    {
     "data": {
      "text/html": [
       "<pre>2024-07-12 12:51:51,059 - IDTranslator_137376234981312 - INFO - Processed batch 18/61</pre>"
      ],
      "text/plain": [
       "<IPython.core.display.HTML object>"
      ]
     },
     "metadata": {},
     "output_type": "display_data"
    },
    {
     "name": "stderr",
     "output_type": "stream",
     "text": [
      "INFO:IDTranslator_137376234981312:Processed batch 18/61\n"
     ]
    },
    {
     "data": {
      "text/html": [
       "<pre>2024-07-12 12:51:51,060 - IDTranslator_137376234981312 - INFO - Progress saved to checkpoint_batch_18.pkl</pre>"
      ],
      "text/plain": [
       "<IPython.core.display.HTML object>"
      ]
     },
     "metadata": {},
     "output_type": "display_data"
    },
    {
     "name": "stderr",
     "output_type": "stream",
     "text": [
      "INFO:IDTranslator_137376234981312:Progress saved to checkpoint_batch_18.pkl\n"
     ]
    },
    {
     "data": {
      "text/html": [
       "<pre>2024-07-12 12:51:51,061 - IDTranslator_137376234981312 - INFO - Processed batch 19/61</pre>"
      ],
      "text/plain": [
       "<IPython.core.display.HTML object>"
      ]
     },
     "metadata": {},
     "output_type": "display_data"
    },
    {
     "name": "stderr",
     "output_type": "stream",
     "text": [
      "INFO:IDTranslator_137376234981312:Processed batch 19/61\n"
     ]
    },
    {
     "data": {
      "text/html": [
       "<pre>2024-07-12 12:51:52,266 - IDTranslator_137376234981312 - INFO - Processed batch 20/61</pre>"
      ],
      "text/plain": [
       "<IPython.core.display.HTML object>"
      ]
     },
     "metadata": {},
     "output_type": "display_data"
    },
    {
     "name": "stderr",
     "output_type": "stream",
     "text": [
      "INFO:IDTranslator_137376234981312:Processed batch 20/61\n"
     ]
    },
    {
     "data": {
      "text/html": [
       "<pre>2024-07-12 12:51:52,268 - IDTranslator_137376234981312 - INFO - Progress saved to checkpoint_batch_20.pkl</pre>"
      ],
      "text/plain": [
       "<IPython.core.display.HTML object>"
      ]
     },
     "metadata": {},
     "output_type": "display_data"
    },
    {
     "name": "stderr",
     "output_type": "stream",
     "text": [
      "INFO:IDTranslator_137376234981312:Progress saved to checkpoint_batch_20.pkl\n"
     ]
    },
    {
     "data": {
      "text/html": [
       "<pre>2024-07-12 12:51:52,290 - IDTranslator_137376234981312 - INFO - Processed batch 21/61</pre>"
      ],
      "text/plain": [
       "<IPython.core.display.HTML object>"
      ]
     },
     "metadata": {},
     "output_type": "display_data"
    },
    {
     "name": "stderr",
     "output_type": "stream",
     "text": [
      "INFO:IDTranslator_137376234981312:Processed batch 21/61\n"
     ]
    },
    {
     "data": {
      "text/html": [
       "<pre>2024-07-12 12:51:52,298 - IDTranslator_137376234981312 - INFO - Processed batch 22/61</pre>"
      ],
      "text/plain": [
       "<IPython.core.display.HTML object>"
      ]
     },
     "metadata": {},
     "output_type": "display_data"
    },
    {
     "name": "stderr",
     "output_type": "stream",
     "text": [
      "INFO:IDTranslator_137376234981312:Processed batch 22/61\n"
     ]
    },
    {
     "data": {
      "text/html": [
       "<pre>2024-07-12 12:51:52,300 - IDTranslator_137376234981312 - INFO - Progress saved to checkpoint_batch_22.pkl</pre>"
      ],
      "text/plain": [
       "<IPython.core.display.HTML object>"
      ]
     },
     "metadata": {},
     "output_type": "display_data"
    },
    {
     "name": "stderr",
     "output_type": "stream",
     "text": [
      "INFO:IDTranslator_137376234981312:Progress saved to checkpoint_batch_22.pkl\n"
     ]
    },
    {
     "data": {
      "text/html": [
       "<pre>2024-07-12 12:51:52,305 - IDTranslator_137376234981312 - INFO - Processed batch 23/61</pre>"
      ],
      "text/plain": [
       "<IPython.core.display.HTML object>"
      ]
     },
     "metadata": {},
     "output_type": "display_data"
    },
    {
     "name": "stderr",
     "output_type": "stream",
     "text": [
      "INFO:IDTranslator_137376234981312:Processed batch 23/61\n"
     ]
    },
    {
     "data": {
      "text/html": [
       "<pre>2024-07-12 12:51:54,055 - IDTranslator_137376234981312 - INFO - Processed batch 24/61</pre>"
      ],
      "text/plain": [
       "<IPython.core.display.HTML object>"
      ]
     },
     "metadata": {},
     "output_type": "display_data"
    },
    {
     "name": "stderr",
     "output_type": "stream",
     "text": [
      "INFO:IDTranslator_137376234981312:Processed batch 24/61\n"
     ]
    },
    {
     "data": {
      "text/html": [
       "<pre>2024-07-12 12:51:54,057 - IDTranslator_137376234981312 - INFO - Progress saved to checkpoint_batch_24.pkl</pre>"
      ],
      "text/plain": [
       "<IPython.core.display.HTML object>"
      ]
     },
     "metadata": {},
     "output_type": "display_data"
    },
    {
     "name": "stderr",
     "output_type": "stream",
     "text": [
      "INFO:IDTranslator_137376234981312:Progress saved to checkpoint_batch_24.pkl\n"
     ]
    },
    {
     "data": {
      "text/html": [
       "<pre>2024-07-12 12:54:00,215 - IDTranslator_137376234981312 - INFO - Processed batch 25/61</pre>"
      ],
      "text/plain": [
       "<IPython.core.display.HTML object>"
      ]
     },
     "metadata": {},
     "output_type": "display_data"
    },
    {
     "name": "stderr",
     "output_type": "stream",
     "text": [
      "INFO:IDTranslator_137376234981312:Processed batch 25/61\n"
     ]
    },
    {
     "data": {
      "text/html": [
       "<pre>2024-07-12 12:54:01,296 - IDTranslator_137376234981312 - INFO - Processed batch 26/61</pre>"
      ],
      "text/plain": [
       "<IPython.core.display.HTML object>"
      ]
     },
     "metadata": {},
     "output_type": "display_data"
    },
    {
     "name": "stderr",
     "output_type": "stream",
     "text": [
      "INFO:IDTranslator_137376234981312:Processed batch 26/61\n"
     ]
    },
    {
     "data": {
      "text/html": [
       "<pre>2024-07-12 12:54:01,298 - IDTranslator_137376234981312 - INFO - Progress saved to checkpoint_batch_26.pkl</pre>"
      ],
      "text/plain": [
       "<IPython.core.display.HTML object>"
      ]
     },
     "metadata": {},
     "output_type": "display_data"
    },
    {
     "name": "stderr",
     "output_type": "stream",
     "text": [
      "INFO:IDTranslator_137376234981312:Progress saved to checkpoint_batch_26.pkl\n"
     ]
    },
    {
     "data": {
      "text/html": [
       "<pre>2024-07-12 12:54:01,454 - IDTranslator_137376234981312 - INFO - Processed batch 27/61</pre>"
      ],
      "text/plain": [
       "<IPython.core.display.HTML object>"
      ]
     },
     "metadata": {},
     "output_type": "display_data"
    },
    {
     "name": "stderr",
     "output_type": "stream",
     "text": [
      "INFO:IDTranslator_137376234981312:Processed batch 27/61\n"
     ]
    },
    {
     "data": {
      "text/html": [
       "<pre>2024-07-12 12:54:01,545 - IDTranslator_137376234981312 - INFO - Processed batch 28/61</pre>"
      ],
      "text/plain": [
       "<IPython.core.display.HTML object>"
      ]
     },
     "metadata": {},
     "output_type": "display_data"
    },
    {
     "name": "stderr",
     "output_type": "stream",
     "text": [
      "INFO:IDTranslator_137376234981312:Processed batch 28/61\n"
     ]
    },
    {
     "data": {
      "text/html": [
       "<pre>2024-07-12 12:54:01,547 - IDTranslator_137376234981312 - INFO - Progress saved to checkpoint_batch_28.pkl</pre>"
      ],
      "text/plain": [
       "<IPython.core.display.HTML object>"
      ]
     },
     "metadata": {},
     "output_type": "display_data"
    },
    {
     "name": "stderr",
     "output_type": "stream",
     "text": [
      "INFO:IDTranslator_137376234981312:Progress saved to checkpoint_batch_28.pkl\n"
     ]
    },
    {
     "data": {
      "text/html": [
       "<pre>2024-07-12 12:54:01,567 - IDTranslator_137376234981312 - INFO - Processed batch 29/61</pre>"
      ],
      "text/plain": [
       "<IPython.core.display.HTML object>"
      ]
     },
     "metadata": {},
     "output_type": "display_data"
    },
    {
     "name": "stderr",
     "output_type": "stream",
     "text": [
      "INFO:IDTranslator_137376234981312:Processed batch 29/61\n"
     ]
    },
    {
     "data": {
      "text/html": [
       "<pre>2024-07-12 12:54:01,745 - IDTranslator_137376234981312 - INFO - Processed batch 30/61</pre>"
      ],
      "text/plain": [
       "<IPython.core.display.HTML object>"
      ]
     },
     "metadata": {},
     "output_type": "display_data"
    },
    {
     "name": "stderr",
     "output_type": "stream",
     "text": [
      "INFO:IDTranslator_137376234981312:Processed batch 30/61\n"
     ]
    },
    {
     "data": {
      "text/html": [
       "<pre>2024-07-12 12:54:01,746 - IDTranslator_137376234981312 - INFO - Progress saved to checkpoint_batch_30.pkl</pre>"
      ],
      "text/plain": [
       "<IPython.core.display.HTML object>"
      ]
     },
     "metadata": {},
     "output_type": "display_data"
    },
    {
     "name": "stderr",
     "output_type": "stream",
     "text": [
      "INFO:IDTranslator_137376234981312:Progress saved to checkpoint_batch_30.pkl\n"
     ]
    },
    {
     "data": {
      "text/html": [
       "<pre>2024-07-12 12:54:02,554 - IDTranslator_137376234981312 - INFO - Processed batch 31/61</pre>"
      ],
      "text/plain": [
       "<IPython.core.display.HTML object>"
      ]
     },
     "metadata": {},
     "output_type": "display_data"
    },
    {
     "name": "stderr",
     "output_type": "stream",
     "text": [
      "INFO:IDTranslator_137376234981312:Processed batch 31/61\n"
     ]
    },
    {
     "data": {
      "text/html": [
       "<pre>2024-07-12 12:54:02,759 - IDTranslator_137376234981312 - INFO - Processed batch 32/61</pre>"
      ],
      "text/plain": [
       "<IPython.core.display.HTML object>"
      ]
     },
     "metadata": {},
     "output_type": "display_data"
    },
    {
     "name": "stderr",
     "output_type": "stream",
     "text": [
      "INFO:IDTranslator_137376234981312:Processed batch 32/61\n"
     ]
    },
    {
     "data": {
      "text/html": [
       "<pre>2024-07-12 12:54:02,761 - IDTranslator_137376234981312 - INFO - Progress saved to checkpoint_batch_32.pkl</pre>"
      ],
      "text/plain": [
       "<IPython.core.display.HTML object>"
      ]
     },
     "metadata": {},
     "output_type": "display_data"
    },
    {
     "name": "stderr",
     "output_type": "stream",
     "text": [
      "INFO:IDTranslator_137376234981312:Progress saved to checkpoint_batch_32.pkl\n"
     ]
    },
    {
     "data": {
      "text/html": [
       "<pre>2024-07-12 12:54:02,873 - IDTranslator_137376234981312 - INFO - Processed batch 33/61</pre>"
      ],
      "text/plain": [
       "<IPython.core.display.HTML object>"
      ]
     },
     "metadata": {},
     "output_type": "display_data"
    },
    {
     "name": "stderr",
     "output_type": "stream",
     "text": [
      "INFO:IDTranslator_137376234981312:Processed batch 33/61\n"
     ]
    },
    {
     "data": {
      "text/html": [
       "<pre>2024-07-12 12:54:02,979 - IDTranslator_137376234981312 - INFO - Processed batch 34/61</pre>"
      ],
      "text/plain": [
       "<IPython.core.display.HTML object>"
      ]
     },
     "metadata": {},
     "output_type": "display_data"
    },
    {
     "name": "stderr",
     "output_type": "stream",
     "text": [
      "INFO:IDTranslator_137376234981312:Processed batch 34/61\n"
     ]
    },
    {
     "data": {
      "text/html": [
       "<pre>2024-07-12 12:54:02,981 - IDTranslator_137376234981312 - INFO - Progress saved to checkpoint_batch_34.pkl</pre>"
      ],
      "text/plain": [
       "<IPython.core.display.HTML object>"
      ]
     },
     "metadata": {},
     "output_type": "display_data"
    },
    {
     "name": "stderr",
     "output_type": "stream",
     "text": [
      "INFO:IDTranslator_137376234981312:Progress saved to checkpoint_batch_34.pkl\n"
     ]
    },
    {
     "data": {
      "text/html": [
       "<pre>2024-07-12 12:54:03,831 - IDTranslator_137376234981312 - INFO - Processed batch 35/61</pre>"
      ],
      "text/plain": [
       "<IPython.core.display.HTML object>"
      ]
     },
     "metadata": {},
     "output_type": "display_data"
    },
    {
     "name": "stderr",
     "output_type": "stream",
     "text": [
      "INFO:IDTranslator_137376234981312:Processed batch 35/61\n"
     ]
    },
    {
     "data": {
      "text/html": [
       "<pre>2024-07-12 12:54:04,264 - IDTranslator_137376234981312 - INFO - Processed batch 36/61</pre>"
      ],
      "text/plain": [
       "<IPython.core.display.HTML object>"
      ]
     },
     "metadata": {},
     "output_type": "display_data"
    },
    {
     "name": "stderr",
     "output_type": "stream",
     "text": [
      "INFO:IDTranslator_137376234981312:Processed batch 36/61\n"
     ]
    },
    {
     "data": {
      "text/html": [
       "<pre>2024-07-12 12:54:04,266 - IDTranslator_137376234981312 - INFO - Progress saved to checkpoint_batch_36.pkl</pre>"
      ],
      "text/plain": [
       "<IPython.core.display.HTML object>"
      ]
     },
     "metadata": {},
     "output_type": "display_data"
    },
    {
     "name": "stderr",
     "output_type": "stream",
     "text": [
      "INFO:IDTranslator_137376234981312:Progress saved to checkpoint_batch_36.pkl\n"
     ]
    },
    {
     "data": {
      "text/html": [
       "<pre>2024-07-12 12:56:04,930 - IDTranslator_137376234981312 - INFO - Processed batch 37/61</pre>"
      ],
      "text/plain": [
       "<IPython.core.display.HTML object>"
      ]
     },
     "metadata": {},
     "output_type": "display_data"
    },
    {
     "name": "stderr",
     "output_type": "stream",
     "text": [
      "INFO:IDTranslator_137376234981312:Processed batch 37/61\n"
     ]
    },
    {
     "data": {
      "text/html": [
       "<pre>2024-07-12 12:56:05,671 - IDTranslator_137376234981312 - INFO - Processed batch 38/61</pre>"
      ],
      "text/plain": [
       "<IPython.core.display.HTML object>"
      ]
     },
     "metadata": {},
     "output_type": "display_data"
    },
    {
     "name": "stderr",
     "output_type": "stream",
     "text": [
      "INFO:IDTranslator_137376234981312:Processed batch 38/61\n"
     ]
    },
    {
     "data": {
      "text/html": [
       "<pre>2024-07-12 12:56:05,673 - IDTranslator_137376234981312 - INFO - Progress saved to checkpoint_batch_38.pkl</pre>"
      ],
      "text/plain": [
       "<IPython.core.display.HTML object>"
      ]
     },
     "metadata": {},
     "output_type": "display_data"
    },
    {
     "name": "stderr",
     "output_type": "stream",
     "text": [
      "INFO:IDTranslator_137376234981312:Progress saved to checkpoint_batch_38.pkl\n"
     ]
    },
    {
     "data": {
      "text/html": [
       "<pre>2024-07-12 12:56:05,944 - IDTranslator_137376234981312 - INFO - Processed batch 39/61</pre>"
      ],
      "text/plain": [
       "<IPython.core.display.HTML object>"
      ]
     },
     "metadata": {},
     "output_type": "display_data"
    },
    {
     "name": "stderr",
     "output_type": "stream",
     "text": [
      "INFO:IDTranslator_137376234981312:Processed batch 39/61\n"
     ]
    },
    {
     "data": {
      "text/html": [
       "<pre>2024-07-12 12:56:05,971 - IDTranslator_137376234981312 - INFO - Processed batch 40/61</pre>"
      ],
      "text/plain": [
       "<IPython.core.display.HTML object>"
      ]
     },
     "metadata": {},
     "output_type": "display_data"
    },
    {
     "name": "stderr",
     "output_type": "stream",
     "text": [
      "INFO:IDTranslator_137376234981312:Processed batch 40/61\n"
     ]
    },
    {
     "data": {
      "text/html": [
       "<pre>2024-07-12 12:56:05,973 - IDTranslator_137376234981312 - INFO - Progress saved to checkpoint_batch_40.pkl</pre>"
      ],
      "text/plain": [
       "<IPython.core.display.HTML object>"
      ]
     },
     "metadata": {},
     "output_type": "display_data"
    },
    {
     "name": "stderr",
     "output_type": "stream",
     "text": [
      "INFO:IDTranslator_137376234981312:Progress saved to checkpoint_batch_40.pkl\n"
     ]
    },
    {
     "data": {
      "text/html": [
       "<pre>2024-07-12 12:56:05,974 - IDTranslator_137376234981312 - INFO - Processed batch 41/61</pre>"
      ],
      "text/plain": [
       "<IPython.core.display.HTML object>"
      ]
     },
     "metadata": {},
     "output_type": "display_data"
    },
    {
     "name": "stderr",
     "output_type": "stream",
     "text": [
      "INFO:IDTranslator_137376234981312:Processed batch 41/61\n"
     ]
    },
    {
     "data": {
      "text/html": [
       "<pre>2024-07-12 12:56:06,179 - IDTranslator_137376234981312 - INFO - Processed batch 42/61</pre>"
      ],
      "text/plain": [
       "<IPython.core.display.HTML object>"
      ]
     },
     "metadata": {},
     "output_type": "display_data"
    },
    {
     "name": "stderr",
     "output_type": "stream",
     "text": [
      "INFO:IDTranslator_137376234981312:Processed batch 42/61\n"
     ]
    },
    {
     "data": {
      "text/html": [
       "<pre>2024-07-12 12:56:06,181 - IDTranslator_137376234981312 - INFO - Progress saved to checkpoint_batch_42.pkl</pre>"
      ],
      "text/plain": [
       "<IPython.core.display.HTML object>"
      ]
     },
     "metadata": {},
     "output_type": "display_data"
    },
    {
     "name": "stderr",
     "output_type": "stream",
     "text": [
      "INFO:IDTranslator_137376234981312:Progress saved to checkpoint_batch_42.pkl\n"
     ]
    },
    {
     "data": {
      "text/html": [
       "<pre>2024-07-12 12:56:06,747 - IDTranslator_137376234981312 - INFO - Processed batch 43/61</pre>"
      ],
      "text/plain": [
       "<IPython.core.display.HTML object>"
      ]
     },
     "metadata": {},
     "output_type": "display_data"
    },
    {
     "name": "stderr",
     "output_type": "stream",
     "text": [
      "INFO:IDTranslator_137376234981312:Processed batch 43/61\n"
     ]
    },
    {
     "data": {
      "text/html": [
       "<pre>2024-07-12 12:56:06,994 - IDTranslator_137376234981312 - INFO - Processed batch 44/61</pre>"
      ],
      "text/plain": [
       "<IPython.core.display.HTML object>"
      ]
     },
     "metadata": {},
     "output_type": "display_data"
    },
    {
     "name": "stderr",
     "output_type": "stream",
     "text": [
      "INFO:IDTranslator_137376234981312:Processed batch 44/61\n"
     ]
    },
    {
     "data": {
      "text/html": [
       "<pre>2024-07-12 12:56:06,996 - IDTranslator_137376234981312 - INFO - Progress saved to checkpoint_batch_44.pkl</pre>"
      ],
      "text/plain": [
       "<IPython.core.display.HTML object>"
      ]
     },
     "metadata": {},
     "output_type": "display_data"
    },
    {
     "name": "stderr",
     "output_type": "stream",
     "text": [
      "INFO:IDTranslator_137376234981312:Progress saved to checkpoint_batch_44.pkl\n"
     ]
    },
    {
     "data": {
      "text/html": [
       "<pre>2024-07-12 12:56:07,229 - IDTranslator_137376234981312 - INFO - Processed batch 45/61</pre>"
      ],
      "text/plain": [
       "<IPython.core.display.HTML object>"
      ]
     },
     "metadata": {},
     "output_type": "display_data"
    },
    {
     "name": "stderr",
     "output_type": "stream",
     "text": [
      "INFO:IDTranslator_137376234981312:Processed batch 45/61\n"
     ]
    },
    {
     "data": {
      "text/html": [
       "<pre>2024-07-12 12:56:07,631 - IDTranslator_137376234981312 - INFO - Processed batch 46/61</pre>"
      ],
      "text/plain": [
       "<IPython.core.display.HTML object>"
      ]
     },
     "metadata": {},
     "output_type": "display_data"
    },
    {
     "name": "stderr",
     "output_type": "stream",
     "text": [
      "INFO:IDTranslator_137376234981312:Processed batch 46/61\n"
     ]
    },
    {
     "data": {
      "text/html": [
       "<pre>2024-07-12 12:56:07,633 - IDTranslator_137376234981312 - INFO - Progress saved to checkpoint_batch_46.pkl</pre>"
      ],
      "text/plain": [
       "<IPython.core.display.HTML object>"
      ]
     },
     "metadata": {},
     "output_type": "display_data"
    },
    {
     "name": "stderr",
     "output_type": "stream",
     "text": [
      "INFO:IDTranslator_137376234981312:Progress saved to checkpoint_batch_46.pkl\n"
     ]
    },
    {
     "data": {
      "text/html": [
       "<pre>2024-07-12 12:56:08,119 - IDTranslator_137376234981312 - INFO - Processed batch 47/61</pre>"
      ],
      "text/plain": [
       "<IPython.core.display.HTML object>"
      ]
     },
     "metadata": {},
     "output_type": "display_data"
    },
    {
     "name": "stderr",
     "output_type": "stream",
     "text": [
      "INFO:IDTranslator_137376234981312:Processed batch 47/61\n"
     ]
    },
    {
     "data": {
      "text/html": [
       "<pre>2024-07-12 12:56:08,858 - IDTranslator_137376234981312 - INFO - Processed batch 48/61</pre>"
      ],
      "text/plain": [
       "<IPython.core.display.HTML object>"
      ]
     },
     "metadata": {},
     "output_type": "display_data"
    },
    {
     "name": "stderr",
     "output_type": "stream",
     "text": [
      "INFO:IDTranslator_137376234981312:Processed batch 48/61\n"
     ]
    },
    {
     "data": {
      "text/html": [
       "<pre>2024-07-12 12:56:08,860 - IDTranslator_137376234981312 - INFO - Progress saved to checkpoint_batch_48.pkl</pre>"
      ],
      "text/plain": [
       "<IPython.core.display.HTML object>"
      ]
     },
     "metadata": {},
     "output_type": "display_data"
    },
    {
     "name": "stderr",
     "output_type": "stream",
     "text": [
      "INFO:IDTranslator_137376234981312:Progress saved to checkpoint_batch_48.pkl\n"
     ]
    },
    {
     "data": {
      "text/html": [
       "<pre>2024-07-12 12:58:10,514 - IDTranslator_137376234981312 - INFO - Processed batch 49/61</pre>"
      ],
      "text/plain": [
       "<IPython.core.display.HTML object>"
      ]
     },
     "metadata": {},
     "output_type": "display_data"
    },
    {
     "name": "stderr",
     "output_type": "stream",
     "text": [
      "INFO:IDTranslator_137376234981312:Processed batch 49/61\n"
     ]
    },
    {
     "data": {
      "text/html": [
       "<pre>2024-07-12 12:58:11,344 - IDTranslator_137376234981312 - INFO - Processed batch 50/61</pre>"
      ],
      "text/plain": [
       "<IPython.core.display.HTML object>"
      ]
     },
     "metadata": {},
     "output_type": "display_data"
    },
    {
     "name": "stderr",
     "output_type": "stream",
     "text": [
      "INFO:IDTranslator_137376234981312:Processed batch 50/61\n"
     ]
    },
    {
     "data": {
      "text/html": [
       "<pre>2024-07-12 12:58:11,347 - IDTranslator_137376234981312 - INFO - Progress saved to checkpoint_batch_50.pkl</pre>"
      ],
      "text/plain": [
       "<IPython.core.display.HTML object>"
      ]
     },
     "metadata": {},
     "output_type": "display_data"
    },
    {
     "name": "stderr",
     "output_type": "stream",
     "text": [
      "INFO:IDTranslator_137376234981312:Progress saved to checkpoint_batch_50.pkl\n"
     ]
    },
    {
     "data": {
      "text/html": [
       "<pre>2024-07-12 12:58:11,348 - IDTranslator_137376234981312 - INFO - Processed batch 51/61</pre>"
      ],
      "text/plain": [
       "<IPython.core.display.HTML object>"
      ]
     },
     "metadata": {},
     "output_type": "display_data"
    },
    {
     "name": "stderr",
     "output_type": "stream",
     "text": [
      "INFO:IDTranslator_137376234981312:Processed batch 51/61\n"
     ]
    },
    {
     "data": {
      "text/html": [
       "<pre>2024-07-12 12:58:11,357 - IDTranslator_137376234981312 - INFO - Processed batch 52/61</pre>"
      ],
      "text/plain": [
       "<IPython.core.display.HTML object>"
      ]
     },
     "metadata": {},
     "output_type": "display_data"
    },
    {
     "name": "stderr",
     "output_type": "stream",
     "text": [
      "INFO:IDTranslator_137376234981312:Processed batch 52/61\n"
     ]
    },
    {
     "data": {
      "text/html": [
       "<pre>2024-07-12 12:58:11,359 - IDTranslator_137376234981312 - INFO - Progress saved to checkpoint_batch_52.pkl</pre>"
      ],
      "text/plain": [
       "<IPython.core.display.HTML object>"
      ]
     },
     "metadata": {},
     "output_type": "display_data"
    },
    {
     "name": "stderr",
     "output_type": "stream",
     "text": [
      "INFO:IDTranslator_137376234981312:Progress saved to checkpoint_batch_52.pkl\n"
     ]
    },
    {
     "data": {
      "text/html": [
       "<pre>2024-07-12 12:58:11,455 - IDTranslator_137376234981312 - INFO - Processed batch 53/61</pre>"
      ],
      "text/plain": [
       "<IPython.core.display.HTML object>"
      ]
     },
     "metadata": {},
     "output_type": "display_data"
    },
    {
     "name": "stderr",
     "output_type": "stream",
     "text": [
      "INFO:IDTranslator_137376234981312:Processed batch 53/61\n"
     ]
    },
    {
     "data": {
      "text/html": [
       "<pre>2024-07-12 12:58:12,570 - IDTranslator_137376234981312 - INFO - Processed batch 54/61</pre>"
      ],
      "text/plain": [
       "<IPython.core.display.HTML object>"
      ]
     },
     "metadata": {},
     "output_type": "display_data"
    },
    {
     "name": "stderr",
     "output_type": "stream",
     "text": [
      "INFO:IDTranslator_137376234981312:Processed batch 54/61\n"
     ]
    },
    {
     "data": {
      "text/html": [
       "<pre>2024-07-12 12:58:12,573 - IDTranslator_137376234981312 - INFO - Progress saved to checkpoint_batch_54.pkl</pre>"
      ],
      "text/plain": [
       "<IPython.core.display.HTML object>"
      ]
     },
     "metadata": {},
     "output_type": "display_data"
    },
    {
     "name": "stderr",
     "output_type": "stream",
     "text": [
      "INFO:IDTranslator_137376234981312:Progress saved to checkpoint_batch_54.pkl\n"
     ]
    },
    {
     "data": {
      "text/html": [
       "<pre>2024-07-12 12:58:12,577 - IDTranslator_137376234981312 - INFO - Processed batch 55/61</pre>"
      ],
      "text/plain": [
       "<IPython.core.display.HTML object>"
      ]
     },
     "metadata": {},
     "output_type": "display_data"
    },
    {
     "name": "stderr",
     "output_type": "stream",
     "text": [
      "INFO:IDTranslator_137376234981312:Processed batch 55/61\n"
     ]
    },
    {
     "data": {
      "text/html": [
       "<pre>2024-07-12 12:58:12,594 - IDTranslator_137376234981312 - INFO - Processed batch 56/61</pre>"
      ],
      "text/plain": [
       "<IPython.core.display.HTML object>"
      ]
     },
     "metadata": {},
     "output_type": "display_data"
    },
    {
     "name": "stderr",
     "output_type": "stream",
     "text": [
      "INFO:IDTranslator_137376234981312:Processed batch 56/61\n"
     ]
    },
    {
     "data": {
      "text/html": [
       "<pre>2024-07-12 12:58:12,596 - IDTranslator_137376234981312 - INFO - Progress saved to checkpoint_batch_56.pkl</pre>"
      ],
      "text/plain": [
       "<IPython.core.display.HTML object>"
      ]
     },
     "metadata": {},
     "output_type": "display_data"
    },
    {
     "name": "stderr",
     "output_type": "stream",
     "text": [
      "INFO:IDTranslator_137376234981312:Progress saved to checkpoint_batch_56.pkl\n"
     ]
    },
    {
     "data": {
      "text/html": [
       "<pre>2024-07-12 12:58:12,881 - IDTranslator_137376234981312 - INFO - Processed batch 57/61</pre>"
      ],
      "text/plain": [
       "<IPython.core.display.HTML object>"
      ]
     },
     "metadata": {},
     "output_type": "display_data"
    },
    {
     "name": "stderr",
     "output_type": "stream",
     "text": [
      "INFO:IDTranslator_137376234981312:Processed batch 57/61\n"
     ]
    },
    {
     "data": {
      "text/html": [
       "<pre>2024-07-12 12:58:13,783 - IDTranslator_137376234981312 - INFO - Processed batch 58/61</pre>"
      ],
      "text/plain": [
       "<IPython.core.display.HTML object>"
      ]
     },
     "metadata": {},
     "output_type": "display_data"
    },
    {
     "name": "stderr",
     "output_type": "stream",
     "text": [
      "INFO:IDTranslator_137376234981312:Processed batch 58/61\n"
     ]
    },
    {
     "data": {
      "text/html": [
       "<pre>2024-07-12 12:58:13,786 - IDTranslator_137376234981312 - INFO - Progress saved to checkpoint_batch_58.pkl</pre>"
      ],
      "text/plain": [
       "<IPython.core.display.HTML object>"
      ]
     },
     "metadata": {},
     "output_type": "display_data"
    },
    {
     "name": "stderr",
     "output_type": "stream",
     "text": [
      "INFO:IDTranslator_137376234981312:Progress saved to checkpoint_batch_58.pkl\n"
     ]
    },
    {
     "data": {
      "text/html": [
       "<pre>2024-07-12 12:58:13,962 - IDTranslator_137376234981312 - INFO - Processed batch 59/61</pre>"
      ],
      "text/plain": [
       "<IPython.core.display.HTML object>"
      ]
     },
     "metadata": {},
     "output_type": "display_data"
    },
    {
     "name": "stderr",
     "output_type": "stream",
     "text": [
      "INFO:IDTranslator_137376234981312:Processed batch 59/61\n"
     ]
    },
    {
     "data": {
      "text/html": [
       "<pre>2024-07-12 12:58:14,102 - IDTranslator_137376234981312 - INFO - Processed batch 60/61</pre>"
      ],
      "text/plain": [
       "<IPython.core.display.HTML object>"
      ]
     },
     "metadata": {},
     "output_type": "display_data"
    },
    {
     "name": "stderr",
     "output_type": "stream",
     "text": [
      "INFO:IDTranslator_137376234981312:Processed batch 60/61\n"
     ]
    },
    {
     "data": {
      "text/html": [
       "<pre>2024-07-12 12:58:14,104 - IDTranslator_137376234981312 - INFO - Progress saved to checkpoint_batch_60.pkl</pre>"
      ],
      "text/plain": [
       "<IPython.core.display.HTML object>"
      ]
     },
     "metadata": {},
     "output_type": "display_data"
    },
    {
     "name": "stderr",
     "output_type": "stream",
     "text": [
      "INFO:IDTranslator_137376234981312:Progress saved to checkpoint_batch_60.pkl\n"
     ]
    },
    {
     "data": {
      "text/html": [
       "<pre>2024-07-12 12:59:09,241 - IDTranslator_137376234981312 - INFO - Processed batch 61/61</pre>"
      ],
      "text/plain": [
       "<IPython.core.display.HTML object>"
      ]
     },
     "metadata": {},
     "output_type": "display_data"
    },
    {
     "name": "stderr",
     "output_type": "stream",
     "text": [
      "INFO:IDTranslator_137376234981312:Processed batch 61/61\n"
     ]
    },
    {
     "data": {
      "text/html": [
       "<pre>2024-07-12 12:59:09,244 - IDTranslator_137376234981312 - INFO - Progress saved to checkpoint_batch_61.pkl</pre>"
      ],
      "text/plain": [
       "<IPython.core.display.HTML object>"
      ]
     },
     "metadata": {},
     "output_type": "display_data"
    },
    {
     "name": "stderr",
     "output_type": "stream",
     "text": [
      "INFO:IDTranslator_137376234981312:Progress saved to checkpoint_batch_61.pkl\n"
     ]
    },
    {
     "data": {
      "text/html": [
       "<pre>2024-07-12 12:59:09,255 - IDTranslator_137376234981312 - INFO - Applying translation to dataframe...</pre>"
      ],
      "text/plain": [
       "<IPython.core.display.HTML object>"
      ]
     },
     "metadata": {},
     "output_type": "display_data"
    },
    {
     "name": "stderr",
     "output_type": "stream",
     "text": [
      "INFO:IDTranslator_137376234981312:Applying translation to dataframe...\n"
     ]
    },
    {
     "data": {
      "text/html": [
       "<pre>2024-07-12 12:59:14,668 - IDTranslator_137376234981312 - INFO - Results saved to ../data/Lit-BM_translated.csv</pre>"
      ],
      "text/plain": [
       "<IPython.core.display.HTML object>"
      ]
     },
     "metadata": {},
     "output_type": "display_data"
    },
    {
     "name": "stderr",
     "output_type": "stream",
     "text": [
      "INFO:IDTranslator_137376234981312:Results saved to ../data/Lit-BM_translated.csv\n"
     ]
    },
    {
     "data": {
      "text/html": [
       "<pre>2024-07-12 12:59:14,685 - IDTranslator_137376234981312 - INFO - ID translation process completed in 698.03 seconds</pre>"
      ],
      "text/plain": [
       "<IPython.core.display.HTML object>"
      ]
     },
     "metadata": {},
     "output_type": "display_data"
    },
    {
     "name": "stderr",
     "output_type": "stream",
     "text": [
      "INFO:IDTranslator_137376234981312:ID translation process completed in 698.03 seconds\n"
     ]
    },
    {
     "data": {
      "text/html": [
       "<pre>2024-07-12 12:59:14,688 - IDTranslator_137376234981312 - INFO - Original entry count: 13544</pre>"
      ],
      "text/plain": [
       "<IPython.core.display.HTML object>"
      ]
     },
     "metadata": {},
     "output_type": "display_data"
    },
    {
     "name": "stderr",
     "output_type": "stream",
     "text": [
      "INFO:IDTranslator_137376234981312:Original entry count: 13544\n"
     ]
    },
    {
     "data": {
      "text/html": [
       "<pre>2024-07-12 12:59:14,689 - IDTranslator_137376234981312 - INFO - Translated entry count: 13544</pre>"
      ],
      "text/plain": [
       "<IPython.core.display.HTML object>"
      ]
     },
     "metadata": {},
     "output_type": "display_data"
    },
    {
     "name": "stderr",
     "output_type": "stream",
     "text": [
      "INFO:IDTranslator_137376234981312:Translated entry count: 13544\n"
     ]
    },
    {
     "data": {
      "text/html": [
       "<pre>2024-07-12 12:59:14,689 - IDTranslator_137376234981312 - INFO - Expansion factor: 1.00</pre>"
      ],
      "text/plain": [
       "<IPython.core.display.HTML object>"
      ]
     },
     "metadata": {},
     "output_type": "display_data"
    },
    {
     "name": "stderr",
     "output_type": "stream",
     "text": [
      "INFO:IDTranslator_137376234981312:Expansion factor: 1.00\n"
     ]
    },
    {
     "data": {
      "text/html": [
       "<pre>2024-07-12 12:59:14,690 - IDTranslator_137376234981312 - INFO - Translation success rate: 100.00%</pre>"
      ],
      "text/plain": [
       "<IPython.core.display.HTML object>"
      ]
     },
     "metadata": {},
     "output_type": "display_data"
    },
    {
     "name": "stderr",
     "output_type": "stream",
     "text": [
      "INFO:IDTranslator_137376234981312:Translation success rate: 100.00%\n"
     ]
    }
   ],
   "source": [
    "translator_3.run()"
   ]
  },
  {
   "cell_type": "code",
   "execution_count": 9,
   "id": "7708d266-d5cf-412b-90b2-b340448c4adb",
   "metadata": {},
   "outputs": [],
   "source": [
    "translator_4 = IDTranslator('../data/Test_space_screens-19.tsv', '../data/Test_space_screens-19_translated.csv', 'Ensembl', 'UniProtKB-Swiss-Prot', has_header=False, input_columns=['source', 'target'], processes=12, pickle_dir=\"./pickles_4\")"
   ]
  },
  {
   "cell_type": "code",
   "execution_count": 10,
   "id": "9c78026e-fc0c-4a35-a379-ed832dd26432",
   "metadata": {},
   "outputs": [
    {
     "data": {
      "text/html": [
       "<pre>2024-07-12 12:59:14,697 - IDTranslator_137376235062368 - INFO - Starting ID translation process from Ensembl to UniProtKB-Swiss-Prot</pre>"
      ],
      "text/plain": [
       "<IPython.core.display.HTML object>"
      ]
     },
     "metadata": {},
     "output_type": "display_data"
    },
    {
     "name": "stderr",
     "output_type": "stream",
     "text": [
      "INFO:IDTranslator_137376235062368:Starting ID translation process from Ensembl to UniProtKB-Swiss-Prot\n"
     ]
    },
    {
     "data": {
      "text/html": [
       "<pre>2024-07-12 12:59:14,702 - IDTranslator_137376235062368 - INFO - Loaded 1159 rows with 672 unique IDs</pre>"
      ],
      "text/plain": [
       "<IPython.core.display.HTML object>"
      ]
     },
     "metadata": {},
     "output_type": "display_data"
    },
    {
     "name": "stderr",
     "output_type": "stream",
     "text": [
      "INFO:IDTranslator_137376235062368:Loaded 1159 rows with 672 unique IDs\n"
     ]
    },
    {
     "data": {
      "text/html": [
       "<pre>2024-07-12 12:59:14,703 - IDTranslator_137376235062368 - INFO - No existing progress found. Starting from scratch.</pre>"
      ],
      "text/plain": [
       "<IPython.core.display.HTML object>"
      ]
     },
     "metadata": {},
     "output_type": "display_data"
    },
    {
     "name": "stderr",
     "output_type": "stream",
     "text": [
      "INFO:IDTranslator_137376235062368:No existing progress found. Starting from scratch.\n"
     ]
    },
    {
     "data": {
      "application/vnd.jupyter.widget-view+json": {
       "model_id": "837952a1a150497e828e321759415c84",
       "version_major": 2,
       "version_minor": 0
      },
      "text/plain": [
       "Processing batches:   0%|          | 0/7 [00:00<?, ?it/s]"
      ]
     },
     "metadata": {},
     "output_type": "display_data"
    },
    {
     "data": {
      "text/html": [
       "<pre>2024-07-12 13:00:50,876 - IDTranslator_137376235062368 - INFO - Processed batch 1/7</pre>"
      ],
      "text/plain": [
       "<IPython.core.display.HTML object>"
      ]
     },
     "metadata": {},
     "output_type": "display_data"
    },
    {
     "name": "stderr",
     "output_type": "stream",
     "text": [
      "INFO:IDTranslator_137376235062368:Processed batch 1/7\n"
     ]
    },
    {
     "data": {
      "text/html": [
       "<pre>2024-07-12 13:01:23,622 - IDTranslator_137376235062368 - INFO - Processed batch 2/7</pre>"
      ],
      "text/plain": [
       "<IPython.core.display.HTML object>"
      ]
     },
     "metadata": {},
     "output_type": "display_data"
    },
    {
     "name": "stderr",
     "output_type": "stream",
     "text": [
      "INFO:IDTranslator_137376235062368:Processed batch 2/7\n"
     ]
    },
    {
     "data": {
      "text/html": [
       "<pre>2024-07-12 13:01:23,623 - IDTranslator_137376235062368 - INFO - Progress saved to checkpoint_batch_2.pkl</pre>"
      ],
      "text/plain": [
       "<IPython.core.display.HTML object>"
      ]
     },
     "metadata": {},
     "output_type": "display_data"
    },
    {
     "name": "stderr",
     "output_type": "stream",
     "text": [
      "INFO:IDTranslator_137376235062368:Progress saved to checkpoint_batch_2.pkl\n"
     ]
    },
    {
     "data": {
      "text/html": [
       "<pre>2024-07-12 13:01:23,653 - IDTranslator_137376235062368 - INFO - Processed batch 3/7</pre>"
      ],
      "text/plain": [
       "<IPython.core.display.HTML object>"
      ]
     },
     "metadata": {},
     "output_type": "display_data"
    },
    {
     "name": "stderr",
     "output_type": "stream",
     "text": [
      "INFO:IDTranslator_137376235062368:Processed batch 3/7\n"
     ]
    },
    {
     "data": {
      "text/html": [
       "<pre>2024-07-12 13:01:23,743 - IDTranslator_137376235062368 - INFO - Processed batch 4/7</pre>"
      ],
      "text/plain": [
       "<IPython.core.display.HTML object>"
      ]
     },
     "metadata": {},
     "output_type": "display_data"
    },
    {
     "name": "stderr",
     "output_type": "stream",
     "text": [
      "INFO:IDTranslator_137376235062368:Processed batch 4/7\n"
     ]
    },
    {
     "data": {
      "text/html": [
       "<pre>2024-07-12 13:01:23,745 - IDTranslator_137376235062368 - INFO - Progress saved to checkpoint_batch_4.pkl</pre>"
      ],
      "text/plain": [
       "<IPython.core.display.HTML object>"
      ]
     },
     "metadata": {},
     "output_type": "display_data"
    },
    {
     "name": "stderr",
     "output_type": "stream",
     "text": [
      "INFO:IDTranslator_137376235062368:Progress saved to checkpoint_batch_4.pkl\n"
     ]
    },
    {
     "data": {
      "text/html": [
       "<pre>2024-07-12 13:01:24,547 - IDTranslator_137376235062368 - INFO - Processed batch 5/7</pre>"
      ],
      "text/plain": [
       "<IPython.core.display.HTML object>"
      ]
     },
     "metadata": {},
     "output_type": "display_data"
    },
    {
     "name": "stderr",
     "output_type": "stream",
     "text": [
      "INFO:IDTranslator_137376235062368:Processed batch 5/7\n"
     ]
    },
    {
     "data": {
      "text/html": [
       "<pre>2024-07-12 13:01:24,550 - IDTranslator_137376235062368 - INFO - Processed batch 6/7</pre>"
      ],
      "text/plain": [
       "<IPython.core.display.HTML object>"
      ]
     },
     "metadata": {},
     "output_type": "display_data"
    },
    {
     "name": "stderr",
     "output_type": "stream",
     "text": [
      "INFO:IDTranslator_137376235062368:Processed batch 6/7\n"
     ]
    },
    {
     "data": {
      "text/html": [
       "<pre>2024-07-12 13:01:24,551 - IDTranslator_137376235062368 - INFO - Progress saved to checkpoint_batch_6.pkl</pre>"
      ],
      "text/plain": [
       "<IPython.core.display.HTML object>"
      ]
     },
     "metadata": {},
     "output_type": "display_data"
    },
    {
     "name": "stderr",
     "output_type": "stream",
     "text": [
      "INFO:IDTranslator_137376235062368:Progress saved to checkpoint_batch_6.pkl\n"
     ]
    },
    {
     "data": {
      "text/html": [
       "<pre>2024-07-12 13:01:25,839 - IDTranslator_137376235062368 - INFO - Processed batch 7/7</pre>"
      ],
      "text/plain": [
       "<IPython.core.display.HTML object>"
      ]
     },
     "metadata": {},
     "output_type": "display_data"
    },
    {
     "name": "stderr",
     "output_type": "stream",
     "text": [
      "INFO:IDTranslator_137376235062368:Processed batch 7/7\n"
     ]
    },
    {
     "data": {
      "text/html": [
       "<pre>2024-07-12 13:01:25,841 - IDTranslator_137376235062368 - INFO - Progress saved to checkpoint_batch_7.pkl</pre>"
      ],
      "text/plain": [
       "<IPython.core.display.HTML object>"
      ]
     },
     "metadata": {},
     "output_type": "display_data"
    },
    {
     "name": "stderr",
     "output_type": "stream",
     "text": [
      "INFO:IDTranslator_137376235062368:Progress saved to checkpoint_batch_7.pkl\n"
     ]
    },
    {
     "data": {
      "text/html": [
       "<pre>2024-07-12 13:01:25,851 - IDTranslator_137376235062368 - INFO - Applying translation to dataframe...</pre>"
      ],
      "text/plain": [
       "<IPython.core.display.HTML object>"
      ]
     },
     "metadata": {},
     "output_type": "display_data"
    },
    {
     "name": "stderr",
     "output_type": "stream",
     "text": [
      "INFO:IDTranslator_137376235062368:Applying translation to dataframe...\n"
     ]
    },
    {
     "data": {
      "text/html": [
       "<pre>2024-07-12 13:01:26,381 - IDTranslator_137376235062368 - INFO - Results saved to ../data/Test_space_screens-19_translated.csv</pre>"
      ],
      "text/plain": [
       "<IPython.core.display.HTML object>"
      ]
     },
     "metadata": {},
     "output_type": "display_data"
    },
    {
     "name": "stderr",
     "output_type": "stream",
     "text": [
      "INFO:IDTranslator_137376235062368:Results saved to ../data/Test_space_screens-19_translated.csv\n"
     ]
    },
    {
     "data": {
      "text/html": [
       "<pre>2024-07-12 13:01:26,383 - IDTranslator_137376235062368 - INFO - ID translation process completed in 131.68 seconds</pre>"
      ],
      "text/plain": [
       "<IPython.core.display.HTML object>"
      ]
     },
     "metadata": {},
     "output_type": "display_data"
    },
    {
     "name": "stderr",
     "output_type": "stream",
     "text": [
      "INFO:IDTranslator_137376235062368:ID translation process completed in 131.68 seconds\n"
     ]
    },
    {
     "data": {
      "text/html": [
       "<pre>2024-07-12 13:01:26,385 - IDTranslator_137376235062368 - INFO - Original entry count: 1164</pre>"
      ],
      "text/plain": [
       "<IPython.core.display.HTML object>"
      ]
     },
     "metadata": {},
     "output_type": "display_data"
    },
    {
     "name": "stderr",
     "output_type": "stream",
     "text": [
      "INFO:IDTranslator_137376235062368:Original entry count: 1164\n"
     ]
    },
    {
     "data": {
      "text/html": [
       "<pre>2024-07-12 13:01:26,386 - IDTranslator_137376235062368 - INFO - Translated entry count: 1164</pre>"
      ],
      "text/plain": [
       "<IPython.core.display.HTML object>"
      ]
     },
     "metadata": {},
     "output_type": "display_data"
    },
    {
     "name": "stderr",
     "output_type": "stream",
     "text": [
      "INFO:IDTranslator_137376235062368:Translated entry count: 1164\n"
     ]
    },
    {
     "data": {
      "text/html": [
       "<pre>2024-07-12 13:01:26,386 - IDTranslator_137376235062368 - INFO - Expansion factor: 1.00</pre>"
      ],
      "text/plain": [
       "<IPython.core.display.HTML object>"
      ]
     },
     "metadata": {},
     "output_type": "display_data"
    },
    {
     "name": "stderr",
     "output_type": "stream",
     "text": [
      "INFO:IDTranslator_137376235062368:Expansion factor: 1.00\n"
     ]
    },
    {
     "data": {
      "text/html": [
       "<pre>2024-07-12 13:01:26,387 - IDTranslator_137376235062368 - INFO - Translation success rate: 100.00%</pre>"
      ],
      "text/plain": [
       "<IPython.core.display.HTML object>"
      ]
     },
     "metadata": {},
     "output_type": "display_data"
    },
    {
     "name": "stderr",
     "output_type": "stream",
     "text": [
      "INFO:IDTranslator_137376235062368:Translation success rate: 100.00%\n"
     ]
    }
   ],
   "source": [
    "translator_4.run()"
   ]
  },
  {
   "cell_type": "code",
   "execution_count": 11,
   "id": "9fb676ea-f4c2-4ffb-9ae6-cf737cab82d7",
   "metadata": {},
   "outputs": [],
   "source": [
    "Huri_union = pd.read_csv('../data/HI-union_translated.csv', usecols=[\"source_UniProtKB-Swiss-Prot\", \"target_UniProtKB-Swiss-Prot\"])"
   ]
  },
  {
   "cell_type": "code",
   "execution_count": 12,
   "id": "71dc129d-b9a1-48ce-9c77-d8de91ed8e17",
   "metadata": {},
   "outputs": [
    {
     "data": {
      "text/html": [
       "<div>\n",
       "<style scoped>\n",
       "    .dataframe tbody tr th:only-of-type {\n",
       "        vertical-align: middle;\n",
       "    }\n",
       "\n",
       "    .dataframe tbody tr th {\n",
       "        vertical-align: top;\n",
       "    }\n",
       "\n",
       "    .dataframe thead th {\n",
       "        text-align: right;\n",
       "    }\n",
       "</style>\n",
       "<table border=\"1\" class=\"dataframe\">\n",
       "  <thead>\n",
       "    <tr style=\"text-align: right;\">\n",
       "      <th></th>\n",
       "      <th>source_UniProtKB-Swiss-Prot</th>\n",
       "      <th>target_UniProtKB-Swiss-Prot</th>\n",
       "    </tr>\n",
       "  </thead>\n",
       "  <tbody>\n",
       "    <tr>\n",
       "      <th>0</th>\n",
       "      <td>Q9H2S6</td>\n",
       "      <td>Q9NPE6</td>\n",
       "    </tr>\n",
       "    <tr>\n",
       "      <th>1</th>\n",
       "      <td>Q9H2S6</td>\n",
       "      <td>Q9BXK5</td>\n",
       "    </tr>\n",
       "    <tr>\n",
       "      <th>2</th>\n",
       "      <td>Q9H2S6</td>\n",
       "      <td>O60238</td>\n",
       "    </tr>\n",
       "    <tr>\n",
       "      <th>3</th>\n",
       "      <td>Q9H2S6</td>\n",
       "      <td>P20138</td>\n",
       "    </tr>\n",
       "    <tr>\n",
       "      <th>4</th>\n",
       "      <td>Q9H2S6</td>\n",
       "      <td>Q9UM44</td>\n",
       "    </tr>\n",
       "    <tr>\n",
       "      <th>...</th>\n",
       "      <td>...</td>\n",
       "      <td>...</td>\n",
       "    </tr>\n",
       "    <tr>\n",
       "      <th>64060</th>\n",
       "      <td>B2RXH8</td>\n",
       "      <td>B2RXH8</td>\n",
       "    </tr>\n",
       "    <tr>\n",
       "      <th>64061</th>\n",
       "      <td>Q8NHW4</td>\n",
       "      <td>Q6IN84</td>\n",
       "    </tr>\n",
       "    <tr>\n",
       "      <th>64062</th>\n",
       "      <td>ENSG00000276076</td>\n",
       "      <td>ENSG00000276076</td>\n",
       "    </tr>\n",
       "    <tr>\n",
       "      <th>64063</th>\n",
       "      <td>Q9UI36</td>\n",
       "      <td>Q9UI36</td>\n",
       "    </tr>\n",
       "    <tr>\n",
       "      <th>64064</th>\n",
       "      <td>ENSG00000280987</td>\n",
       "      <td>ENSG00000280987</td>\n",
       "    </tr>\n",
       "  </tbody>\n",
       "</table>\n",
       "<p>64065 rows × 2 columns</p>\n",
       "</div>"
      ],
      "text/plain": [
       "      source_UniProtKB-Swiss-Prot target_UniProtKB-Swiss-Prot\n",
       "0                          Q9H2S6                      Q9NPE6\n",
       "1                          Q9H2S6                      Q9BXK5\n",
       "2                          Q9H2S6                      O60238\n",
       "3                          Q9H2S6                      P20138\n",
       "4                          Q9H2S6                      Q9UM44\n",
       "...                           ...                         ...\n",
       "64060                      B2RXH8                      B2RXH8\n",
       "64061                      Q8NHW4                      Q6IN84\n",
       "64062             ENSG00000276076             ENSG00000276076\n",
       "64063                      Q9UI36                      Q9UI36\n",
       "64064             ENSG00000280987             ENSG00000280987\n",
       "\n",
       "[64065 rows x 2 columns]"
      ]
     },
     "execution_count": 12,
     "metadata": {},
     "output_type": "execute_result"
    }
   ],
   "source": [
    "Huri_union"
   ]
  },
  {
   "cell_type": "code",
   "execution_count": 13,
   "id": "74a45b9f-0ddc-487d-9c9a-30aac69899c0",
   "metadata": {},
   "outputs": [],
   "source": [
    "Huri = pd.read_csv('../data/HuRI_translated.csv', usecols=[\"source_UniProtKB-Swiss-Prot\", \"target_UniProtKB-Swiss-Prot\"])"
   ]
  },
  {
   "cell_type": "code",
   "execution_count": 14,
   "id": "c32ac1ee-b135-45d8-a514-8721a450410b",
   "metadata": {},
   "outputs": [
    {
     "data": {
      "text/html": [
       "<div>\n",
       "<style scoped>\n",
       "    .dataframe tbody tr th:only-of-type {\n",
       "        vertical-align: middle;\n",
       "    }\n",
       "\n",
       "    .dataframe tbody tr th {\n",
       "        vertical-align: top;\n",
       "    }\n",
       "\n",
       "    .dataframe thead th {\n",
       "        text-align: right;\n",
       "    }\n",
       "</style>\n",
       "<table border=\"1\" class=\"dataframe\">\n",
       "  <thead>\n",
       "    <tr style=\"text-align: right;\">\n",
       "      <th></th>\n",
       "      <th>source_UniProtKB-Swiss-Prot</th>\n",
       "      <th>target_UniProtKB-Swiss-Prot</th>\n",
       "    </tr>\n",
       "  </thead>\n",
       "  <tbody>\n",
       "    <tr>\n",
       "      <th>0</th>\n",
       "      <td>Q9H2S6</td>\n",
       "      <td>Q9NPE6</td>\n",
       "    </tr>\n",
       "    <tr>\n",
       "      <th>1</th>\n",
       "      <td>Q9H2S6</td>\n",
       "      <td>Q9BXK5</td>\n",
       "    </tr>\n",
       "    <tr>\n",
       "      <th>2</th>\n",
       "      <td>Q9H2S6</td>\n",
       "      <td>O60238</td>\n",
       "    </tr>\n",
       "    <tr>\n",
       "      <th>3</th>\n",
       "      <td>Q9H2S6</td>\n",
       "      <td>P20138</td>\n",
       "    </tr>\n",
       "    <tr>\n",
       "      <th>4</th>\n",
       "      <td>Q9H2S6</td>\n",
       "      <td>Q9UM44</td>\n",
       "    </tr>\n",
       "    <tr>\n",
       "      <th>...</th>\n",
       "      <td>...</td>\n",
       "      <td>...</td>\n",
       "    </tr>\n",
       "    <tr>\n",
       "      <th>52591</th>\n",
       "      <td>Q9UGY1</td>\n",
       "      <td>Q9UGY1</td>\n",
       "    </tr>\n",
       "    <tr>\n",
       "      <th>52592</th>\n",
       "      <td>P13236</td>\n",
       "      <td>Q6IN84</td>\n",
       "    </tr>\n",
       "    <tr>\n",
       "      <th>52593</th>\n",
       "      <td>B2RXH8</td>\n",
       "      <td>B2RXH8</td>\n",
       "    </tr>\n",
       "    <tr>\n",
       "      <th>52594</th>\n",
       "      <td>Q8NHW4</td>\n",
       "      <td>Q6IN84</td>\n",
       "    </tr>\n",
       "    <tr>\n",
       "      <th>52595</th>\n",
       "      <td>ENSG00000276076</td>\n",
       "      <td>ENSG00000276076</td>\n",
       "    </tr>\n",
       "  </tbody>\n",
       "</table>\n",
       "<p>52596 rows × 2 columns</p>\n",
       "</div>"
      ],
      "text/plain": [
       "      source_UniProtKB-Swiss-Prot target_UniProtKB-Swiss-Prot\n",
       "0                          Q9H2S6                      Q9NPE6\n",
       "1                          Q9H2S6                      Q9BXK5\n",
       "2                          Q9H2S6                      O60238\n",
       "3                          Q9H2S6                      P20138\n",
       "4                          Q9H2S6                      Q9UM44\n",
       "...                           ...                         ...\n",
       "52591                      Q9UGY1                      Q9UGY1\n",
       "52592                      P13236                      Q6IN84\n",
       "52593                      B2RXH8                      B2RXH8\n",
       "52594                      Q8NHW4                      Q6IN84\n",
       "52595             ENSG00000276076             ENSG00000276076\n",
       "\n",
       "[52596 rows x 2 columns]"
      ]
     },
     "execution_count": 14,
     "metadata": {},
     "output_type": "execute_result"
    }
   ],
   "source": [
    "Huri"
   ]
  },
  {
   "cell_type": "code",
   "execution_count": 15,
   "id": "91905470-e955-457b-bc00-a256910719ef",
   "metadata": {},
   "outputs": [],
   "source": [
    "Lit_BM = pd.read_csv('../data/Lit-BM_translated.csv', usecols=[\"source_UniProtKB-Swiss-Prot\", \"target_UniProtKB-Swiss-Prot\"])"
   ]
  },
  {
   "cell_type": "code",
   "execution_count": 16,
   "id": "24ae00b6-9c24-4132-8780-2a5aa7f59521",
   "metadata": {},
   "outputs": [
    {
     "data": {
      "text/html": [
       "<div>\n",
       "<style scoped>\n",
       "    .dataframe tbody tr th:only-of-type {\n",
       "        vertical-align: middle;\n",
       "    }\n",
       "\n",
       "    .dataframe tbody tr th {\n",
       "        vertical-align: top;\n",
       "    }\n",
       "\n",
       "    .dataframe thead th {\n",
       "        text-align: right;\n",
       "    }\n",
       "</style>\n",
       "<table border=\"1\" class=\"dataframe\">\n",
       "  <thead>\n",
       "    <tr style=\"text-align: right;\">\n",
       "      <th></th>\n",
       "      <th>source_UniProtKB-Swiss-Prot</th>\n",
       "      <th>target_UniProtKB-Swiss-Prot</th>\n",
       "    </tr>\n",
       "  </thead>\n",
       "  <tbody>\n",
       "    <tr>\n",
       "      <th>0</th>\n",
       "      <td>P23511</td>\n",
       "      <td>Q13952</td>\n",
       "    </tr>\n",
       "    <tr>\n",
       "      <th>1</th>\n",
       "      <td>P23511</td>\n",
       "      <td>P25208</td>\n",
       "    </tr>\n",
       "    <tr>\n",
       "      <th>2</th>\n",
       "      <td>P43351</td>\n",
       "      <td>P43351</td>\n",
       "    </tr>\n",
       "    <tr>\n",
       "      <th>3</th>\n",
       "      <td>Q92934</td>\n",
       "      <td>Q92843</td>\n",
       "    </tr>\n",
       "    <tr>\n",
       "      <th>4</th>\n",
       "      <td>Q92934</td>\n",
       "      <td>Q07817</td>\n",
       "    </tr>\n",
       "    <tr>\n",
       "      <th>...</th>\n",
       "      <td>...</td>\n",
       "      <td>...</td>\n",
       "    </tr>\n",
       "    <tr>\n",
       "      <th>13539</th>\n",
       "      <td>O14737</td>\n",
       "      <td>Q92993</td>\n",
       "    </tr>\n",
       "    <tr>\n",
       "      <th>13540</th>\n",
       "      <td>P04792</td>\n",
       "      <td>O43707</td>\n",
       "    </tr>\n",
       "    <tr>\n",
       "      <th>13541</th>\n",
       "      <td>P04792</td>\n",
       "      <td>Q9NPF5</td>\n",
       "    </tr>\n",
       "    <tr>\n",
       "      <th>13542</th>\n",
       "      <td>P31749</td>\n",
       "      <td>Q12778</td>\n",
       "    </tr>\n",
       "    <tr>\n",
       "      <th>13543</th>\n",
       "      <td>P42566</td>\n",
       "      <td>P00519</td>\n",
       "    </tr>\n",
       "  </tbody>\n",
       "</table>\n",
       "<p>13544 rows × 2 columns</p>\n",
       "</div>"
      ],
      "text/plain": [
       "      source_UniProtKB-Swiss-Prot target_UniProtKB-Swiss-Prot\n",
       "0                          P23511                      Q13952\n",
       "1                          P23511                      P25208\n",
       "2                          P43351                      P43351\n",
       "3                          Q92934                      Q92843\n",
       "4                          Q92934                      Q07817\n",
       "...                           ...                         ...\n",
       "13539                      O14737                      Q92993\n",
       "13540                      P04792                      O43707\n",
       "13541                      P04792                      Q9NPF5\n",
       "13542                      P31749                      Q12778\n",
       "13543                      P42566                      P00519\n",
       "\n",
       "[13544 rows x 2 columns]"
      ]
     },
     "execution_count": 16,
     "metadata": {},
     "output_type": "execute_result"
    }
   ],
   "source": [
    "Lit_BM"
   ]
  },
  {
   "cell_type": "code",
   "execution_count": 17,
   "id": "b6c68e09-4160-4408-9da8-14efe96e314b",
   "metadata": {},
   "outputs": [],
   "source": [
    "Test_space_screens = pd.read_csv('../data/Test_space_screens-19_translated.csv', usecols=[\"source_UniProtKB-Swiss-Prot\", \"target_UniProtKB-Swiss-Prot\"])"
   ]
  },
  {
   "cell_type": "code",
   "execution_count": 18,
   "id": "c0e88067-f55c-45c8-9332-d2f2873d8345",
   "metadata": {},
   "outputs": [
    {
     "data": {
      "text/html": [
       "<div>\n",
       "<style scoped>\n",
       "    .dataframe tbody tr th:only-of-type {\n",
       "        vertical-align: middle;\n",
       "    }\n",
       "\n",
       "    .dataframe tbody tr th {\n",
       "        vertical-align: top;\n",
       "    }\n",
       "\n",
       "    .dataframe thead th {\n",
       "        text-align: right;\n",
       "    }\n",
       "</style>\n",
       "<table border=\"1\" class=\"dataframe\">\n",
       "  <thead>\n",
       "    <tr style=\"text-align: right;\">\n",
       "      <th></th>\n",
       "      <th>source_UniProtKB-Swiss-Prot</th>\n",
       "      <th>target_UniProtKB-Swiss-Prot</th>\n",
       "    </tr>\n",
       "  </thead>\n",
       "  <tbody>\n",
       "    <tr>\n",
       "      <th>0</th>\n",
       "      <td>Q92934</td>\n",
       "      <td>Q92843</td>\n",
       "    </tr>\n",
       "    <tr>\n",
       "      <th>1</th>\n",
       "      <td>Q14847</td>\n",
       "      <td>Q8N9W6</td>\n",
       "    </tr>\n",
       "    <tr>\n",
       "      <th>2</th>\n",
       "      <td>Q14847</td>\n",
       "      <td>Q15038</td>\n",
       "    </tr>\n",
       "    <tr>\n",
       "      <th>3</th>\n",
       "      <td>Q14847</td>\n",
       "      <td>A8MQ03</td>\n",
       "    </tr>\n",
       "    <tr>\n",
       "      <th>4</th>\n",
       "      <td>Q6NTF9</td>\n",
       "      <td>Q9ULP0</td>\n",
       "    </tr>\n",
       "    <tr>\n",
       "      <th>...</th>\n",
       "      <td>...</td>\n",
       "      <td>...</td>\n",
       "    </tr>\n",
       "    <tr>\n",
       "      <th>1159</th>\n",
       "      <td>Q6L8G9</td>\n",
       "      <td>Q9BYQ6</td>\n",
       "    </tr>\n",
       "    <tr>\n",
       "      <th>1160</th>\n",
       "      <td>Q6L8G9</td>\n",
       "      <td>Q6P5X5</td>\n",
       "    </tr>\n",
       "    <tr>\n",
       "      <th>1161</th>\n",
       "      <td>Q9BYQ6</td>\n",
       "      <td>Q9BYS1</td>\n",
       "    </tr>\n",
       "    <tr>\n",
       "      <th>1162</th>\n",
       "      <td>P37198</td>\n",
       "      <td>Q96JP2</td>\n",
       "    </tr>\n",
       "    <tr>\n",
       "      <th>1163</th>\n",
       "      <td>Q8WWP7</td>\n",
       "      <td>P60508</td>\n",
       "    </tr>\n",
       "  </tbody>\n",
       "</table>\n",
       "<p>1164 rows × 2 columns</p>\n",
       "</div>"
      ],
      "text/plain": [
       "     source_UniProtKB-Swiss-Prot target_UniProtKB-Swiss-Prot\n",
       "0                         Q92934                      Q92843\n",
       "1                         Q14847                      Q8N9W6\n",
       "2                         Q14847                      Q15038\n",
       "3                         Q14847                      A8MQ03\n",
       "4                         Q6NTF9                      Q9ULP0\n",
       "...                          ...                         ...\n",
       "1159                      Q6L8G9                      Q9BYQ6\n",
       "1160                      Q6L8G9                      Q6P5X5\n",
       "1161                      Q9BYQ6                      Q9BYS1\n",
       "1162                      P37198                      Q96JP2\n",
       "1163                      Q8WWP7                      P60508\n",
       "\n",
       "[1164 rows x 2 columns]"
      ]
     },
     "execution_count": 18,
     "metadata": {},
     "output_type": "execute_result"
    }
   ],
   "source": [
    "Test_space_screens"
   ]
  },
  {
   "cell_type": "code",
   "execution_count": 27,
   "id": "5b2c0e41-e2bd-4ba0-b390-22922136a082",
   "metadata": {},
   "outputs": [
    {
     "data": {
      "text/html": [
       "<div>\n",
       "<style scoped>\n",
       "    .dataframe tbody tr th:only-of-type {\n",
       "        vertical-align: middle;\n",
       "    }\n",
       "\n",
       "    .dataframe tbody tr th {\n",
       "        vertical-align: top;\n",
       "    }\n",
       "\n",
       "    .dataframe thead th {\n",
       "        text-align: right;\n",
       "    }\n",
       "</style>\n",
       "<table border=\"1\" class=\"dataframe\">\n",
       "  <thead>\n",
       "    <tr style=\"text-align: right;\">\n",
       "      <th></th>\n",
       "      <th>source_UniProtKB-Swiss-Prot</th>\n",
       "      <th>target_UniProtKB-Swiss-Prot</th>\n",
       "    </tr>\n",
       "  </thead>\n",
       "  <tbody>\n",
       "    <tr>\n",
       "      <th>0</th>\n",
       "      <td>Q9H2S6</td>\n",
       "      <td>Q9NPE6</td>\n",
       "    </tr>\n",
       "    <tr>\n",
       "      <th>1</th>\n",
       "      <td>Q9H2S6</td>\n",
       "      <td>Q9BXK5</td>\n",
       "    </tr>\n",
       "    <tr>\n",
       "      <th>2</th>\n",
       "      <td>Q9H2S6</td>\n",
       "      <td>O60238</td>\n",
       "    </tr>\n",
       "    <tr>\n",
       "      <th>3</th>\n",
       "      <td>Q9H2S6</td>\n",
       "      <td>P20138</td>\n",
       "    </tr>\n",
       "    <tr>\n",
       "      <th>4</th>\n",
       "      <td>Q9H2S6</td>\n",
       "      <td>Q9UM44</td>\n",
       "    </tr>\n",
       "    <tr>\n",
       "      <th>...</th>\n",
       "      <td>...</td>\n",
       "      <td>...</td>\n",
       "    </tr>\n",
       "    <tr>\n",
       "      <th>131364</th>\n",
       "      <td>Q6L8G9</td>\n",
       "      <td>Q9BYQ6</td>\n",
       "    </tr>\n",
       "    <tr>\n",
       "      <th>131365</th>\n",
       "      <td>Q6L8G9</td>\n",
       "      <td>Q6P5X5</td>\n",
       "    </tr>\n",
       "    <tr>\n",
       "      <th>131366</th>\n",
       "      <td>Q9BYQ6</td>\n",
       "      <td>Q9BYS1</td>\n",
       "    </tr>\n",
       "    <tr>\n",
       "      <th>131367</th>\n",
       "      <td>P37198</td>\n",
       "      <td>Q96JP2</td>\n",
       "    </tr>\n",
       "    <tr>\n",
       "      <th>131368</th>\n",
       "      <td>Q8WWP7</td>\n",
       "      <td>P60508</td>\n",
       "    </tr>\n",
       "  </tbody>\n",
       "</table>\n",
       "<p>131369 rows × 2 columns</p>\n",
       "</div>"
      ],
      "text/plain": [
       "       source_UniProtKB-Swiss-Prot target_UniProtKB-Swiss-Prot\n",
       "0                           Q9H2S6                      Q9NPE6\n",
       "1                           Q9H2S6                      Q9BXK5\n",
       "2                           Q9H2S6                      O60238\n",
       "3                           Q9H2S6                      P20138\n",
       "4                           Q9H2S6                      Q9UM44\n",
       "...                            ...                         ...\n",
       "131364                      Q6L8G9                      Q9BYQ6\n",
       "131365                      Q6L8G9                      Q6P5X5\n",
       "131366                      Q9BYQ6                      Q9BYS1\n",
       "131367                      P37198                      Q96JP2\n",
       "131368                      Q8WWP7                      P60508\n",
       "\n",
       "[131369 rows x 2 columns]"
      ]
     },
     "execution_count": 27,
     "metadata": {},
     "output_type": "execute_result"
    }
   ],
   "source": [
    "# Concatenate the dataframes\n",
    "combined_df = pd.concat([Huri_union, Huri, Lit_BM, Test_space_screens])\n",
    "combined_df.reset_index(inplace=True, drop=True)\n",
    "combined_df"
   ]
  },
  {
   "cell_type": "code",
   "execution_count": 28,
   "id": "d02f17f7-67bc-4342-84ab-991ca4e26965",
   "metadata": {},
   "outputs": [],
   "source": [
    "# Remove duplicate rows\n",
    "data = combined_df.drop_duplicates()"
   ]
  },
  {
   "cell_type": "code",
   "execution_count": 29,
   "id": "30d6ca27-e2da-4b96-8773-5404e66cbfcb",
   "metadata": {},
   "outputs": [],
   "source": [
    "data = data.reset_index(drop=True)"
   ]
  },
  {
   "cell_type": "code",
   "execution_count": 30,
   "id": "c0311e11-6d91-4531-bece-fbeafcdc1bd4",
   "metadata": {},
   "outputs": [
    {
     "data": {
      "text/html": [
       "<div>\n",
       "<style scoped>\n",
       "    .dataframe tbody tr th:only-of-type {\n",
       "        vertical-align: middle;\n",
       "    }\n",
       "\n",
       "    .dataframe tbody tr th {\n",
       "        vertical-align: top;\n",
       "    }\n",
       "\n",
       "    .dataframe thead th {\n",
       "        text-align: right;\n",
       "    }\n",
       "</style>\n",
       "<table border=\"1\" class=\"dataframe\">\n",
       "  <thead>\n",
       "    <tr style=\"text-align: right;\">\n",
       "      <th></th>\n",
       "      <th>source_UniProtKB-Swiss-Prot</th>\n",
       "      <th>target_UniProtKB-Swiss-Prot</th>\n",
       "    </tr>\n",
       "  </thead>\n",
       "  <tbody>\n",
       "    <tr>\n",
       "      <th>0</th>\n",
       "      <td>Q9H2S6</td>\n",
       "      <td>Q9NPE6</td>\n",
       "    </tr>\n",
       "    <tr>\n",
       "      <th>1</th>\n",
       "      <td>Q9H2S6</td>\n",
       "      <td>Q9BXK5</td>\n",
       "    </tr>\n",
       "    <tr>\n",
       "      <th>2</th>\n",
       "      <td>Q9H2S6</td>\n",
       "      <td>O60238</td>\n",
       "    </tr>\n",
       "    <tr>\n",
       "      <th>3</th>\n",
       "      <td>Q9H2S6</td>\n",
       "      <td>P20138</td>\n",
       "    </tr>\n",
       "    <tr>\n",
       "      <th>4</th>\n",
       "      <td>Q9H2S6</td>\n",
       "      <td>Q9UM44</td>\n",
       "    </tr>\n",
       "    <tr>\n",
       "      <th>...</th>\n",
       "      <td>...</td>\n",
       "      <td>...</td>\n",
       "    </tr>\n",
       "    <tr>\n",
       "      <th>75885</th>\n",
       "      <td>O14737</td>\n",
       "      <td>Q92993</td>\n",
       "    </tr>\n",
       "    <tr>\n",
       "      <th>75886</th>\n",
       "      <td>P04792</td>\n",
       "      <td>O43707</td>\n",
       "    </tr>\n",
       "    <tr>\n",
       "      <th>75887</th>\n",
       "      <td>P04792</td>\n",
       "      <td>Q9NPF5</td>\n",
       "    </tr>\n",
       "    <tr>\n",
       "      <th>75888</th>\n",
       "      <td>P31749</td>\n",
       "      <td>Q12778</td>\n",
       "    </tr>\n",
       "    <tr>\n",
       "      <th>75889</th>\n",
       "      <td>P42566</td>\n",
       "      <td>P00519</td>\n",
       "    </tr>\n",
       "  </tbody>\n",
       "</table>\n",
       "<p>75890 rows × 2 columns</p>\n",
       "</div>"
      ],
      "text/plain": [
       "      source_UniProtKB-Swiss-Prot target_UniProtKB-Swiss-Prot\n",
       "0                          Q9H2S6                      Q9NPE6\n",
       "1                          Q9H2S6                      Q9BXK5\n",
       "2                          Q9H2S6                      O60238\n",
       "3                          Q9H2S6                      P20138\n",
       "4                          Q9H2S6                      Q9UM44\n",
       "...                           ...                         ...\n",
       "75885                      O14737                      Q92993\n",
       "75886                      P04792                      O43707\n",
       "75887                      P04792                      Q9NPF5\n",
       "75888                      P31749                      Q12778\n",
       "75889                      P42566                      P00519\n",
       "\n",
       "[75890 rows x 2 columns]"
      ]
     },
     "execution_count": 30,
     "metadata": {},
     "output_type": "execute_result"
    }
   ],
   "source": [
    "data"
   ]
  },
  {
   "cell_type": "code",
   "execution_count": 35,
   "id": "bf9ab374-c114-450c-b577-815f3263fffc",
   "metadata": {},
   "outputs": [],
   "source": [
    "data.to_csv(\"../data/HURI_full_data_trasnlated.csv\", index=False)"
   ]
  },
  {
   "cell_type": "markdown",
   "id": "e12373a1-e9dc-403d-a24d-4152018a1fb8",
   "metadata": {},
   "source": [
    "Now we have a big database translated in Uniprot and we want to use it as Resources"
   ]
  },
  {
   "cell_type": "code",
   "execution_count": 31,
   "id": "59f89828-0e88-4bc8-9269-93b1c74e1c8c",
   "metadata": {},
   "outputs": [],
   "source": [
    "resources = Resources()"
   ]
  },
  {
   "cell_type": "code",
   "execution_count": 32,
   "id": "4d809cc1-22b6-43dd-bbe4-acfd245a98c3",
   "metadata": {},
   "outputs": [],
   "source": [
    "mapping = {\"source_UniProtKB-Swiss-Prot\": \"source\", \"target_UniProtKB-Swiss-Prot\": \"target\"}\n",
    "resources.add_database(data, column_mapping=mapping,  reset_index=True)"
   ]
  },
  {
   "cell_type": "code",
   "execution_count": 33,
   "id": "9501bd6d-9624-4ea0-96ac-bd6231c1dca2",
   "metadata": {},
   "outputs": [
    {
     "data": {
      "text/html": [
       "<div>\n",
       "<style scoped>\n",
       "    .dataframe tbody tr th:only-of-type {\n",
       "        vertical-align: middle;\n",
       "    }\n",
       "\n",
       "    .dataframe tbody tr th {\n",
       "        vertical-align: top;\n",
       "    }\n",
       "\n",
       "    .dataframe thead th {\n",
       "        text-align: right;\n",
       "    }\n",
       "</style>\n",
       "<table border=\"1\" class=\"dataframe\">\n",
       "  <thead>\n",
       "    <tr style=\"text-align: right;\">\n",
       "      <th></th>\n",
       "      <th>source</th>\n",
       "      <th>target</th>\n",
       "      <th>is_directed</th>\n",
       "      <th>is_stimulation</th>\n",
       "      <th>is_inhibition</th>\n",
       "      <th>form_complex</th>\n",
       "      <th>consensus_direction</th>\n",
       "      <th>consensus_stimulation</th>\n",
       "      <th>consensus_inhibition</th>\n",
       "      <th>curation_effort</th>\n",
       "      <th>references</th>\n",
       "      <th>sources</th>\n",
       "      <th>is_activation</th>\n",
       "    </tr>\n",
       "  </thead>\n",
       "  <tbody>\n",
       "    <tr>\n",
       "      <th>0</th>\n",
       "      <td>Q9H2S6</td>\n",
       "      <td>Q9NPE6</td>\n",
       "      <td>False</td>\n",
       "      <td>False</td>\n",
       "      <td>False</td>\n",
       "      <td>False</td>\n",
       "      <td>False</td>\n",
       "      <td>False</td>\n",
       "      <td>False</td>\n",
       "      <td>None</td>\n",
       "      <td></td>\n",
       "      <td></td>\n",
       "      <td>True</td>\n",
       "    </tr>\n",
       "    <tr>\n",
       "      <th>1</th>\n",
       "      <td>Q9H2S6</td>\n",
       "      <td>Q9BXK5</td>\n",
       "      <td>False</td>\n",
       "      <td>False</td>\n",
       "      <td>False</td>\n",
       "      <td>False</td>\n",
       "      <td>False</td>\n",
       "      <td>False</td>\n",
       "      <td>False</td>\n",
       "      <td>None</td>\n",
       "      <td></td>\n",
       "      <td></td>\n",
       "      <td>True</td>\n",
       "    </tr>\n",
       "    <tr>\n",
       "      <th>2</th>\n",
       "      <td>Q9H2S6</td>\n",
       "      <td>O60238</td>\n",
       "      <td>False</td>\n",
       "      <td>False</td>\n",
       "      <td>False</td>\n",
       "      <td>False</td>\n",
       "      <td>False</td>\n",
       "      <td>False</td>\n",
       "      <td>False</td>\n",
       "      <td>None</td>\n",
       "      <td></td>\n",
       "      <td></td>\n",
       "      <td>True</td>\n",
       "    </tr>\n",
       "    <tr>\n",
       "      <th>3</th>\n",
       "      <td>Q9H2S6</td>\n",
       "      <td>P20138</td>\n",
       "      <td>False</td>\n",
       "      <td>False</td>\n",
       "      <td>False</td>\n",
       "      <td>False</td>\n",
       "      <td>False</td>\n",
       "      <td>False</td>\n",
       "      <td>False</td>\n",
       "      <td>None</td>\n",
       "      <td></td>\n",
       "      <td></td>\n",
       "      <td>True</td>\n",
       "    </tr>\n",
       "    <tr>\n",
       "      <th>4</th>\n",
       "      <td>Q9H2S6</td>\n",
       "      <td>Q9UM44</td>\n",
       "      <td>False</td>\n",
       "      <td>False</td>\n",
       "      <td>False</td>\n",
       "      <td>False</td>\n",
       "      <td>False</td>\n",
       "      <td>False</td>\n",
       "      <td>False</td>\n",
       "      <td>None</td>\n",
       "      <td></td>\n",
       "      <td></td>\n",
       "      <td>True</td>\n",
       "    </tr>\n",
       "    <tr>\n",
       "      <th>...</th>\n",
       "      <td>...</td>\n",
       "      <td>...</td>\n",
       "      <td>...</td>\n",
       "      <td>...</td>\n",
       "      <td>...</td>\n",
       "      <td>...</td>\n",
       "      <td>...</td>\n",
       "      <td>...</td>\n",
       "      <td>...</td>\n",
       "      <td>...</td>\n",
       "      <td>...</td>\n",
       "      <td>...</td>\n",
       "      <td>...</td>\n",
       "    </tr>\n",
       "    <tr>\n",
       "      <th>75885</th>\n",
       "      <td>O14737</td>\n",
       "      <td>Q92993</td>\n",
       "      <td>False</td>\n",
       "      <td>False</td>\n",
       "      <td>False</td>\n",
       "      <td>False</td>\n",
       "      <td>False</td>\n",
       "      <td>False</td>\n",
       "      <td>False</td>\n",
       "      <td>None</td>\n",
       "      <td></td>\n",
       "      <td></td>\n",
       "      <td>True</td>\n",
       "    </tr>\n",
       "    <tr>\n",
       "      <th>75886</th>\n",
       "      <td>P04792</td>\n",
       "      <td>O43707</td>\n",
       "      <td>False</td>\n",
       "      <td>False</td>\n",
       "      <td>False</td>\n",
       "      <td>False</td>\n",
       "      <td>False</td>\n",
       "      <td>False</td>\n",
       "      <td>False</td>\n",
       "      <td>None</td>\n",
       "      <td></td>\n",
       "      <td></td>\n",
       "      <td>True</td>\n",
       "    </tr>\n",
       "    <tr>\n",
       "      <th>75887</th>\n",
       "      <td>P04792</td>\n",
       "      <td>Q9NPF5</td>\n",
       "      <td>False</td>\n",
       "      <td>False</td>\n",
       "      <td>False</td>\n",
       "      <td>False</td>\n",
       "      <td>False</td>\n",
       "      <td>False</td>\n",
       "      <td>False</td>\n",
       "      <td>None</td>\n",
       "      <td></td>\n",
       "      <td></td>\n",
       "      <td>True</td>\n",
       "    </tr>\n",
       "    <tr>\n",
       "      <th>75888</th>\n",
       "      <td>P31749</td>\n",
       "      <td>Q12778</td>\n",
       "      <td>False</td>\n",
       "      <td>False</td>\n",
       "      <td>False</td>\n",
       "      <td>False</td>\n",
       "      <td>False</td>\n",
       "      <td>False</td>\n",
       "      <td>False</td>\n",
       "      <td>None</td>\n",
       "      <td></td>\n",
       "      <td></td>\n",
       "      <td>True</td>\n",
       "    </tr>\n",
       "    <tr>\n",
       "      <th>75889</th>\n",
       "      <td>P42566</td>\n",
       "      <td>P00519</td>\n",
       "      <td>False</td>\n",
       "      <td>False</td>\n",
       "      <td>False</td>\n",
       "      <td>False</td>\n",
       "      <td>False</td>\n",
       "      <td>False</td>\n",
       "      <td>False</td>\n",
       "      <td>None</td>\n",
       "      <td></td>\n",
       "      <td></td>\n",
       "      <td>True</td>\n",
       "    </tr>\n",
       "  </tbody>\n",
       "</table>\n",
       "<p>75890 rows × 13 columns</p>\n",
       "</div>"
      ],
      "text/plain": [
       "       source  target  is_directed  is_stimulation  is_inhibition  \\\n",
       "0      Q9H2S6  Q9NPE6        False           False          False   \n",
       "1      Q9H2S6  Q9BXK5        False           False          False   \n",
       "2      Q9H2S6  O60238        False           False          False   \n",
       "3      Q9H2S6  P20138        False           False          False   \n",
       "4      Q9H2S6  Q9UM44        False           False          False   \n",
       "...       ...     ...          ...             ...            ...   \n",
       "75885  O14737  Q92993        False           False          False   \n",
       "75886  P04792  O43707        False           False          False   \n",
       "75887  P04792  Q9NPF5        False           False          False   \n",
       "75888  P31749  Q12778        False           False          False   \n",
       "75889  P42566  P00519        False           False          False   \n",
       "\n",
       "       form_complex  consensus_direction  consensus_stimulation  \\\n",
       "0             False                False                  False   \n",
       "1             False                False                  False   \n",
       "2             False                False                  False   \n",
       "3             False                False                  False   \n",
       "4             False                False                  False   \n",
       "...             ...                  ...                    ...   \n",
       "75885         False                False                  False   \n",
       "75886         False                False                  False   \n",
       "75887         False                False                  False   \n",
       "75888         False                False                  False   \n",
       "75889         False                False                  False   \n",
       "\n",
       "       consensus_inhibition curation_effort references sources  is_activation  \n",
       "0                     False            None                              True  \n",
       "1                     False            None                              True  \n",
       "2                     False            None                              True  \n",
       "3                     False            None                              True  \n",
       "4                     False            None                              True  \n",
       "...                     ...             ...        ...     ...            ...  \n",
       "75885                 False            None                              True  \n",
       "75886                 False            None                              True  \n",
       "75887                 False            None                              True  \n",
       "75888                 False            None                              True  \n",
       "75889                 False            None                              True  \n",
       "\n",
       "[75890 rows x 13 columns]"
      ]
     },
     "execution_count": 33,
     "metadata": {},
     "output_type": "execute_result"
    }
   ],
   "source": [
    "resources.interactions"
   ]
  },
  {
   "cell_type": "code",
   "execution_count": 69,
   "id": "060527d1-f512-418f-a241-24facc6118c2",
   "metadata": {},
   "outputs": [],
   "source": [
    "wnt_list = ['CTNNB1',\n",
    " 'APC',\n",
    " 'CSNK2B',\n",
    " 'ARID1A',\n",
    " 'ARID2',\n",
    " 'ATM',\n",
    " 'PIK3CA',\n",
    " 'BAI3',\n",
    " 'EPHA7',\n",
    " 'DDX3X',\n",
    " 'SYNCRIP',\n",
    " 'ALX4',\n",
    " 'DLX3',\n",
    " 'DLX4',\n",
    " 'EMX2',\n",
    " 'EN1',\n",
    " 'FOXF1',\n",
    " 'HOMEZ',\n",
    " 'HOXC4',\n",
    " 'HOXC5',\n",
    " 'HOXD11',\n",
    " 'HOXD13',\n",
    " 'HOXD8',\n",
    " 'HOXD9',\n",
    " 'IRX2',\n",
    " 'IRX5',\n",
    " 'LEF1',\n",
    " 'LHX8',\n",
    " 'MAF',\n",
    " 'MSX2',\n",
    " 'NKX6-1',\n",
    " 'ONECUT2',\n",
    " 'OSR2',\n",
    " 'PAX3',\n",
    " 'PITX1',\n",
    " 'PRRX1',\n",
    " 'RUNX2',\n",
    " 'SHOX2']"
   ]
  },
  {
   "cell_type": "markdown",
   "id": "f7d7500f-f663-473c-8e51-bfecf357c144",
   "metadata": {},
   "source": [
    "# Creating a Network starting from All Omnipath interactions"
   ]
  },
  {
   "cell_type": "code",
   "execution_count": 70,
   "id": "a9b9c7c4-d1d4-4b18-b8b4-0c8601cb8a85",
   "metadata": {},
   "outputs": [
    {
     "name": "stdout",
     "output_type": "stream",
     "text": [
      "Error: node ARID2 is not present in the resources database\n",
      "Error: node EPHA7 is not present in the resources database\n",
      "Error: node DLX4 is not present in the resources database\n",
      "Error: node EN1 is not present in the resources database\n",
      "Error: node FOXF1 is not present in the resources database\n",
      "Error: node HOMEZ is not present in the resources database\n",
      "Error: node HOXD11 is not present in the resources database\n",
      "Error: node HOXD13 is not present in the resources database\n",
      "Error: node HOXD9 is not present in the resources database\n",
      "Error: node IRX5 is not present in the resources database\n",
      "Error: node NKX6-1 is not present in the resources database\n",
      "Error: node ONECUT2 is not present in the resources database\n",
      "Error: node SHOX2 is not present in the resources database\n"
     ]
    }
   ],
   "source": [
    "wnt_net = Network(wnt_list, resources = resources.interactions)"
   ]
  },
  {
   "cell_type": "markdown",
   "id": "f3908855-2ca8-4bbc-91e5-a624c34ec187",
   "metadata": {},
   "source": [
    "Adding the node that were not found manually: HOXDB13 --> HOXD13, HOXDB --> HOXD9, Q8N9L1 --> ZIC4"
   ]
  },
  {
   "cell_type": "code",
   "execution_count": 17,
   "id": "553c5a51-4861-410b-8404-24b21d667d81",
   "metadata": {},
   "outputs": [],
   "source": [
    "wnt_net.add_node(\"HOXD13\")"
   ]
  },
  {
   "cell_type": "code",
   "execution_count": 18,
   "id": "5462f452-e7fd-4b80-9966-53b30893149e",
   "metadata": {},
   "outputs": [],
   "source": [
    "wnt_net.add_node(\"HOXD9\")"
   ]
  },
  {
   "cell_type": "code",
   "execution_count": 71,
   "id": "5fcbcaaf-6eaf-42a7-8285-7f9329efd0f6",
   "metadata": {},
   "outputs": [
    {
     "data": {
      "text/html": [
       "<div>\n",
       "<style scoped>\n",
       "    .dataframe tbody tr th:only-of-type {\n",
       "        vertical-align: middle;\n",
       "    }\n",
       "\n",
       "    .dataframe tbody tr th {\n",
       "        vertical-align: top;\n",
       "    }\n",
       "\n",
       "    .dataframe thead th {\n",
       "        text-align: right;\n",
       "    }\n",
       "</style>\n",
       "<table border=\"1\" class=\"dataframe\">\n",
       "  <thead>\n",
       "    <tr style=\"text-align: right;\">\n",
       "      <th></th>\n",
       "      <th>Genesymbol</th>\n",
       "      <th>Uniprot</th>\n",
       "      <th>Type</th>\n",
       "    </tr>\n",
       "  </thead>\n",
       "  <tbody>\n",
       "    <tr>\n",
       "      <th>0</th>\n",
       "      <td>CTNNB1</td>\n",
       "      <td>P35222</td>\n",
       "      <td>NaN</td>\n",
       "    </tr>\n",
       "    <tr>\n",
       "      <th>1</th>\n",
       "      <td>APC</td>\n",
       "      <td>P25054</td>\n",
       "      <td>NaN</td>\n",
       "    </tr>\n",
       "    <tr>\n",
       "      <th>2</th>\n",
       "      <td>CSNK2B</td>\n",
       "      <td>P67870</td>\n",
       "      <td>NaN</td>\n",
       "    </tr>\n",
       "    <tr>\n",
       "      <th>3</th>\n",
       "      <td>ARID1A</td>\n",
       "      <td>O14497</td>\n",
       "      <td>NaN</td>\n",
       "    </tr>\n",
       "    <tr>\n",
       "      <th>4</th>\n",
       "      <td>ATM</td>\n",
       "      <td>Q13315</td>\n",
       "      <td>NaN</td>\n",
       "    </tr>\n",
       "    <tr>\n",
       "      <th>5</th>\n",
       "      <td>PIK3CA</td>\n",
       "      <td>P42336</td>\n",
       "      <td>NaN</td>\n",
       "    </tr>\n",
       "    <tr>\n",
       "      <th>6</th>\n",
       "      <td>ADGRB3</td>\n",
       "      <td>O60242</td>\n",
       "      <td>NaN</td>\n",
       "    </tr>\n",
       "    <tr>\n",
       "      <th>7</th>\n",
       "      <td>DDX3X</td>\n",
       "      <td>O00571</td>\n",
       "      <td>NaN</td>\n",
       "    </tr>\n",
       "    <tr>\n",
       "      <th>8</th>\n",
       "      <td>SYNCRIP</td>\n",
       "      <td>O60506</td>\n",
       "      <td>NaN</td>\n",
       "    </tr>\n",
       "    <tr>\n",
       "      <th>9</th>\n",
       "      <td>ALX4</td>\n",
       "      <td>Q9H161</td>\n",
       "      <td>NaN</td>\n",
       "    </tr>\n",
       "    <tr>\n",
       "      <th>10</th>\n",
       "      <td>DLX3</td>\n",
       "      <td>O60479</td>\n",
       "      <td>NaN</td>\n",
       "    </tr>\n",
       "    <tr>\n",
       "      <th>11</th>\n",
       "      <td>EMX2</td>\n",
       "      <td>Q04743</td>\n",
       "      <td>NaN</td>\n",
       "    </tr>\n",
       "    <tr>\n",
       "      <th>12</th>\n",
       "      <td>HOXC4</td>\n",
       "      <td>P09017</td>\n",
       "      <td>NaN</td>\n",
       "    </tr>\n",
       "    <tr>\n",
       "      <th>13</th>\n",
       "      <td>HOXC5</td>\n",
       "      <td>Q00444</td>\n",
       "      <td>NaN</td>\n",
       "    </tr>\n",
       "    <tr>\n",
       "      <th>14</th>\n",
       "      <td>HOXD8</td>\n",
       "      <td>P13378</td>\n",
       "      <td>NaN</td>\n",
       "    </tr>\n",
       "    <tr>\n",
       "      <th>15</th>\n",
       "      <td>IRX2</td>\n",
       "      <td>Q9BZI1</td>\n",
       "      <td>NaN</td>\n",
       "    </tr>\n",
       "    <tr>\n",
       "      <th>16</th>\n",
       "      <td>LEF1</td>\n",
       "      <td>Q9UJU2</td>\n",
       "      <td>NaN</td>\n",
       "    </tr>\n",
       "    <tr>\n",
       "      <th>17</th>\n",
       "      <td>LHX8</td>\n",
       "      <td>Q68G74</td>\n",
       "      <td>NaN</td>\n",
       "    </tr>\n",
       "    <tr>\n",
       "      <th>18</th>\n",
       "      <td>MAF</td>\n",
       "      <td>O75444</td>\n",
       "      <td>NaN</td>\n",
       "    </tr>\n",
       "    <tr>\n",
       "      <th>19</th>\n",
       "      <td>MSX2</td>\n",
       "      <td>P35548</td>\n",
       "      <td>NaN</td>\n",
       "    </tr>\n",
       "    <tr>\n",
       "      <th>20</th>\n",
       "      <td>OSR2</td>\n",
       "      <td>Q8N2R0</td>\n",
       "      <td>NaN</td>\n",
       "    </tr>\n",
       "    <tr>\n",
       "      <th>21</th>\n",
       "      <td>PAX3</td>\n",
       "      <td>P23760</td>\n",
       "      <td>NaN</td>\n",
       "    </tr>\n",
       "    <tr>\n",
       "      <th>22</th>\n",
       "      <td>PITX1</td>\n",
       "      <td>P78337</td>\n",
       "      <td>NaN</td>\n",
       "    </tr>\n",
       "    <tr>\n",
       "      <th>23</th>\n",
       "      <td>PRRX1</td>\n",
       "      <td>P54821</td>\n",
       "      <td>NaN</td>\n",
       "    </tr>\n",
       "    <tr>\n",
       "      <th>24</th>\n",
       "      <td>RUNX2</td>\n",
       "      <td>Q13950</td>\n",
       "      <td>NaN</td>\n",
       "    </tr>\n",
       "  </tbody>\n",
       "</table>\n",
       "</div>"
      ],
      "text/plain": [
       "   Genesymbol Uniprot Type\n",
       "0      CTNNB1  P35222  NaN\n",
       "1         APC  P25054  NaN\n",
       "2      CSNK2B  P67870  NaN\n",
       "3      ARID1A  O14497  NaN\n",
       "4         ATM  Q13315  NaN\n",
       "5      PIK3CA  P42336  NaN\n",
       "6      ADGRB3  O60242  NaN\n",
       "7       DDX3X  O00571  NaN\n",
       "8     SYNCRIP  O60506  NaN\n",
       "9        ALX4  Q9H161  NaN\n",
       "10       DLX3  O60479  NaN\n",
       "11       EMX2  Q04743  NaN\n",
       "12      HOXC4  P09017  NaN\n",
       "13      HOXC5  Q00444  NaN\n",
       "14      HOXD8  P13378  NaN\n",
       "15       IRX2  Q9BZI1  NaN\n",
       "16       LEF1  Q9UJU2  NaN\n",
       "17       LHX8  Q68G74  NaN\n",
       "18        MAF  O75444  NaN\n",
       "19       MSX2  P35548  NaN\n",
       "20       OSR2  Q8N2R0  NaN\n",
       "21       PAX3  P23760  NaN\n",
       "22      PITX1  P78337  NaN\n",
       "23      PRRX1  P54821  NaN\n",
       "24      RUNX2  Q13950  NaN"
      ]
     },
     "execution_count": 71,
     "metadata": {},
     "output_type": "execute_result"
    }
   ],
   "source": [
    "wnt_net.nodes"
   ]
  },
  {
   "cell_type": "code",
   "execution_count": 72,
   "id": "9cf6140f-37ac-48d8-b83a-3fd2b05e5a0a",
   "metadata": {},
   "outputs": [
    {
     "name": "stdout",
     "output_type": "stream",
     "text": [
      "CPU times: user 6.39 s, sys: 166 ms, total: 6.56 s\n",
      "Wall time: 6.56 s\n"
     ]
    }
   ],
   "source": [
    "%%time\n",
    "wnt_net.complete_connection(maxlen=3, algorithm=\"dfs\", only_signed=False, connect_with_bias=False, consensus=False)"
   ]
  },
  {
   "cell_type": "code",
   "execution_count": 73,
   "id": "aae24ae5-a37b-4e42-a097-1955e80f7f06",
   "metadata": {},
   "outputs": [
    {
     "data": {
      "text/html": [
       "<div>\n",
       "<style scoped>\n",
       "    .dataframe tbody tr th:only-of-type {\n",
       "        vertical-align: middle;\n",
       "    }\n",
       "\n",
       "    .dataframe tbody tr th {\n",
       "        vertical-align: top;\n",
       "    }\n",
       "\n",
       "    .dataframe thead th {\n",
       "        text-align: right;\n",
       "    }\n",
       "</style>\n",
       "<table border=\"1\" class=\"dataframe\">\n",
       "  <thead>\n",
       "    <tr style=\"text-align: right;\">\n",
       "      <th></th>\n",
       "      <th>Genesymbol</th>\n",
       "      <th>Uniprot</th>\n",
       "      <th>Type</th>\n",
       "    </tr>\n",
       "  </thead>\n",
       "  <tbody>\n",
       "    <tr>\n",
       "      <th>0</th>\n",
       "      <td>CTNNB1</td>\n",
       "      <td>P35222</td>\n",
       "      <td>NaN</td>\n",
       "    </tr>\n",
       "    <tr>\n",
       "      <th>1</th>\n",
       "      <td>APC</td>\n",
       "      <td>P25054</td>\n",
       "      <td>NaN</td>\n",
       "    </tr>\n",
       "    <tr>\n",
       "      <th>2</th>\n",
       "      <td>CSNK2B</td>\n",
       "      <td>P67870</td>\n",
       "      <td>NaN</td>\n",
       "    </tr>\n",
       "    <tr>\n",
       "      <th>3</th>\n",
       "      <td>ARID1A</td>\n",
       "      <td>O14497</td>\n",
       "      <td>NaN</td>\n",
       "    </tr>\n",
       "    <tr>\n",
       "      <th>4</th>\n",
       "      <td>ATM</td>\n",
       "      <td>Q13315</td>\n",
       "      <td>NaN</td>\n",
       "    </tr>\n",
       "    <tr>\n",
       "      <th>...</th>\n",
       "      <td>...</td>\n",
       "      <td>...</td>\n",
       "      <td>...</td>\n",
       "    </tr>\n",
       "    <tr>\n",
       "      <th>63</th>\n",
       "      <td>FOXN1</td>\n",
       "      <td>O15353</td>\n",
       "      <td>NaN</td>\n",
       "    </tr>\n",
       "    <tr>\n",
       "      <th>64</th>\n",
       "      <td>NEDD9</td>\n",
       "      <td>Q14511</td>\n",
       "      <td>NaN</td>\n",
       "    </tr>\n",
       "    <tr>\n",
       "      <th>65</th>\n",
       "      <td>FOS</td>\n",
       "      <td>P01100</td>\n",
       "      <td>NaN</td>\n",
       "    </tr>\n",
       "    <tr>\n",
       "      <th>66</th>\n",
       "      <td>PSMA3</td>\n",
       "      <td>P25788</td>\n",
       "      <td>NaN</td>\n",
       "    </tr>\n",
       "    <tr>\n",
       "      <th>67</th>\n",
       "      <td>IPO13</td>\n",
       "      <td>O94829</td>\n",
       "      <td>NaN</td>\n",
       "    </tr>\n",
       "  </tbody>\n",
       "</table>\n",
       "<p>68 rows × 3 columns</p>\n",
       "</div>"
      ],
      "text/plain": [
       "   Genesymbol Uniprot Type\n",
       "0      CTNNB1  P35222  NaN\n",
       "1         APC  P25054  NaN\n",
       "2      CSNK2B  P67870  NaN\n",
       "3      ARID1A  O14497  NaN\n",
       "4         ATM  Q13315  NaN\n",
       "..        ...     ...  ...\n",
       "63      FOXN1  O15353  NaN\n",
       "64      NEDD9  Q14511  NaN\n",
       "65        FOS  P01100  NaN\n",
       "66      PSMA3  P25788  NaN\n",
       "67      IPO13  O94829  NaN\n",
       "\n",
       "[68 rows x 3 columns]"
      ]
     },
     "execution_count": 73,
     "metadata": {},
     "output_type": "execute_result"
    }
   ],
   "source": [
    "wnt_net.nodes"
   ]
  },
  {
   "cell_type": "code",
   "execution_count": 74,
   "id": "141b03cf-02e6-4d5d-8e62-1b13691b0364",
   "metadata": {},
   "outputs": [
    {
     "data": {
      "text/html": [
       "<div>\n",
       "<style scoped>\n",
       "    .dataframe tbody tr th:only-of-type {\n",
       "        vertical-align: middle;\n",
       "    }\n",
       "\n",
       "    .dataframe tbody tr th {\n",
       "        vertical-align: top;\n",
       "    }\n",
       "\n",
       "    .dataframe thead th {\n",
       "        text-align: right;\n",
       "    }\n",
       "</style>\n",
       "<table border=\"1\" class=\"dataframe\">\n",
       "  <thead>\n",
       "    <tr style=\"text-align: right;\">\n",
       "      <th></th>\n",
       "      <th>source</th>\n",
       "      <th>target</th>\n",
       "      <th>Type</th>\n",
       "      <th>Effect</th>\n",
       "      <th>References</th>\n",
       "    </tr>\n",
       "  </thead>\n",
       "  <tbody>\n",
       "    <tr>\n",
       "      <th>0</th>\n",
       "      <td>P25054</td>\n",
       "      <td>P35222</td>\n",
       "      <td>None</td>\n",
       "      <td>undefined</td>\n",
       "      <td>;</td>\n",
       "    </tr>\n",
       "    <tr>\n",
       "      <th>1</th>\n",
       "      <td>O14497</td>\n",
       "      <td>P51532</td>\n",
       "      <td>None</td>\n",
       "      <td>undefined</td>\n",
       "      <td>;</td>\n",
       "    </tr>\n",
       "    <tr>\n",
       "      <th>2</th>\n",
       "      <td>P51532</td>\n",
       "      <td>P35222</td>\n",
       "      <td>None</td>\n",
       "      <td>undefined</td>\n",
       "      <td>;</td>\n",
       "    </tr>\n",
       "    <tr>\n",
       "      <th>3</th>\n",
       "      <td>P42336</td>\n",
       "      <td>P27986</td>\n",
       "      <td>None</td>\n",
       "      <td>undefined</td>\n",
       "      <td>;</td>\n",
       "    </tr>\n",
       "    <tr>\n",
       "      <th>4</th>\n",
       "      <td>P27986</td>\n",
       "      <td>P35222</td>\n",
       "      <td>None</td>\n",
       "      <td>undefined</td>\n",
       "      <td>;</td>\n",
       "    </tr>\n",
       "    <tr>\n",
       "      <th>...</th>\n",
       "      <td>...</td>\n",
       "      <td>...</td>\n",
       "      <td>...</td>\n",
       "      <td>...</td>\n",
       "      <td>...</td>\n",
       "    </tr>\n",
       "    <tr>\n",
       "      <th>116</th>\n",
       "      <td>P25788</td>\n",
       "      <td>P19320</td>\n",
       "      <td>None</td>\n",
       "      <td>undefined</td>\n",
       "      <td></td>\n",
       "    </tr>\n",
       "    <tr>\n",
       "      <th>117</th>\n",
       "      <td>Q14511</td>\n",
       "      <td>Q8N9N5</td>\n",
       "      <td>None</td>\n",
       "      <td>undefined</td>\n",
       "      <td></td>\n",
       "    </tr>\n",
       "    <tr>\n",
       "      <th>118</th>\n",
       "      <td>Q14511</td>\n",
       "      <td>Q92569</td>\n",
       "      <td>None</td>\n",
       "      <td>undefined</td>\n",
       "      <td></td>\n",
       "    </tr>\n",
       "    <tr>\n",
       "      <th>119</th>\n",
       "      <td>O43167</td>\n",
       "      <td>Q92997</td>\n",
       "      <td>None</td>\n",
       "      <td>undefined</td>\n",
       "      <td></td>\n",
       "    </tr>\n",
       "    <tr>\n",
       "      <th>120</th>\n",
       "      <td>Q8WWY3</td>\n",
       "      <td>Q92997</td>\n",
       "      <td>None</td>\n",
       "      <td>undefined</td>\n",
       "      <td></td>\n",
       "    </tr>\n",
       "  </tbody>\n",
       "</table>\n",
       "<p>121 rows × 5 columns</p>\n",
       "</div>"
      ],
      "text/plain": [
       "     source  target  Type     Effect References\n",
       "0    P25054  P35222  None  undefined         ; \n",
       "1    O14497  P51532  None  undefined         ; \n",
       "2    P51532  P35222  None  undefined         ; \n",
       "3    P42336  P27986  None  undefined         ; \n",
       "4    P27986  P35222  None  undefined         ; \n",
       "..      ...     ...   ...        ...        ...\n",
       "116  P25788  P19320  None  undefined           \n",
       "117  Q14511  Q8N9N5  None  undefined           \n",
       "118  Q14511  Q92569  None  undefined           \n",
       "119  O43167  Q92997  None  undefined           \n",
       "120  Q8WWY3  Q92997  None  undefined           \n",
       "\n",
       "[121 rows x 5 columns]"
      ]
     },
     "execution_count": 74,
     "metadata": {},
     "output_type": "execute_result"
    }
   ],
   "source": [
    "wnt_net.edges"
   ]
  },
  {
   "cell_type": "code",
   "execution_count": 76,
   "id": "6c40d715-5c9e-44a7-88a0-c65ec938ffc1",
   "metadata": {},
   "outputs": [
    {
     "data": {
      "image/svg+xml": [
       "<?xml version=\"1.0\" encoding=\"UTF-8\" standalone=\"no\"?>\n",
       "<!DOCTYPE svg PUBLIC \"-//W3C//DTD SVG 1.1//EN\"\n",
       " \"http://www.w3.org/Graphics/SVG/1.1/DTD/svg11.dtd\">\n",
       "<!-- Generated by graphviz version 2.43.0 (0)\n",
       " -->\n",
       "<!-- Title: %3 Pages: 1 -->\n",
       "<svg width=\"2654pt\" height=\"692pt\"\n",
       " viewBox=\"0.00 0.00 2654.09 692.00\" xmlns=\"http://www.w3.org/2000/svg\" xmlns:xlink=\"http://www.w3.org/1999/xlink\">\n",
       "<g id=\"graph0\" class=\"graph\" transform=\"scale(1 1) rotate(0) translate(4 688)\">\n",
       "<title>%3</title>\n",
       "<polygon fill=\"white\" stroke=\"transparent\" points=\"-4,4 -4,-688 2650.09,-688 2650.09,4 -4,4\"/>\n",
       "<!-- APC -->\n",
       "<g id=\"node1\" class=\"node\">\n",
       "<title>APC</title>\n",
       "<ellipse fill=\"lightyellow\" stroke=\"black\" cx=\"1497.19\" cy=\"-162\" rx=\"30.59\" ry=\"18\"/>\n",
       "<text text-anchor=\"middle\" x=\"1497.19\" y=\"-158.3\" font-family=\"Times,serif\" font-size=\"14.00\">APC</text>\n",
       "</g>\n",
       "<!-- CTNNB1 -->\n",
       "<g id=\"node2\" class=\"node\">\n",
       "<title>CTNNB1</title>\n",
       "<ellipse fill=\"lightyellow\" stroke=\"black\" cx=\"1266.19\" cy=\"-90\" rx=\"51.99\" ry=\"18\"/>\n",
       "<text text-anchor=\"middle\" x=\"1266.19\" y=\"-86.3\" font-family=\"Times,serif\" font-size=\"14.00\">CTNNB1</text>\n",
       "</g>\n",
       "<!-- APC&#45;&gt;CTNNB1 -->\n",
       "<g id=\"edge1\" class=\"edge\">\n",
       "<title>APC&#45;&gt;CTNNB1</title>\n",
       "<path fill=\"none\" stroke=\"black\" d=\"M1473.71,-150.41C1468.33,-148.16 1462.61,-145.89 1457.19,-144 1406.68,-126.34 1347.06,-110.58 1308.04,-100.93\"/>\n",
       "</g>\n",
       "<!-- ARID1A -->\n",
       "<g id=\"node3\" class=\"node\">\n",
       "<title>ARID1A</title>\n",
       "<ellipse fill=\"lightyellow\" stroke=\"black\" cx=\"1589.19\" cy=\"-234\" rx=\"46.59\" ry=\"18\"/>\n",
       "<text text-anchor=\"middle\" x=\"1589.19\" y=\"-230.3\" font-family=\"Times,serif\" font-size=\"14.00\">ARID1A</text>\n",
       "</g>\n",
       "<!-- SMARCA4 -->\n",
       "<g id=\"node4\" class=\"node\">\n",
       "<title>SMARCA4</title>\n",
       "<ellipse fill=\"lightgray\" stroke=\"black\" cx=\"1390.19\" cy=\"-162\" rx=\"58.49\" ry=\"18\"/>\n",
       "<text text-anchor=\"middle\" x=\"1390.19\" y=\"-158.3\" font-family=\"Times,serif\" font-size=\"14.00\">SMARCA4</text>\n",
       "</g>\n",
       "<!-- ARID1A&#45;&gt;SMARCA4 -->\n",
       "<g id=\"edge2\" class=\"edge\">\n",
       "<title>ARID1A&#45;&gt;SMARCA4</title>\n",
       "<path fill=\"none\" stroke=\"black\" d=\"M1555.89,-221.28C1520.37,-208.79 1464.26,-189.05 1427.34,-176.07\"/>\n",
       "</g>\n",
       "<!-- SMARCA4&#45;&gt;CTNNB1 -->\n",
       "<g id=\"edge3\" class=\"edge\">\n",
       "<title>SMARCA4&#45;&gt;CTNNB1</title>\n",
       "<path fill=\"none\" stroke=\"black\" d=\"M1363.29,-145.81C1342.2,-133.91 1313.05,-117.45 1292.2,-105.68\"/>\n",
       "</g>\n",
       "<!-- PIK3CA -->\n",
       "<g id=\"node5\" class=\"node\">\n",
       "<title>PIK3CA</title>\n",
       "<ellipse fill=\"lightyellow\" stroke=\"black\" cx=\"902.19\" cy=\"-234\" rx=\"46.29\" ry=\"18\"/>\n",
       "<text text-anchor=\"middle\" x=\"902.19\" y=\"-230.3\" font-family=\"Times,serif\" font-size=\"14.00\">PIK3CA</text>\n",
       "</g>\n",
       "<!-- PIK3R1 -->\n",
       "<g id=\"node6\" class=\"node\">\n",
       "<title>PIK3R1</title>\n",
       "<ellipse fill=\"lightgray\" stroke=\"black\" cx=\"1192.19\" cy=\"-162\" rx=\"46.29\" ry=\"18\"/>\n",
       "<text text-anchor=\"middle\" x=\"1192.19\" y=\"-158.3\" font-family=\"Times,serif\" font-size=\"14.00\">PIK3R1</text>\n",
       "</g>\n",
       "<!-- PIK3CA&#45;&gt;PIK3R1 -->\n",
       "<g id=\"edge4\" class=\"edge\">\n",
       "<title>PIK3CA&#45;&gt;PIK3R1</title>\n",
       "<path fill=\"none\" stroke=\"black\" d=\"M940.41,-223.78C995.93,-210.37 1098.33,-185.66 1153.9,-172.24\"/>\n",
       "</g>\n",
       "<!-- AKT1 -->\n",
       "<g id=\"node29\" class=\"node\">\n",
       "<title>AKT1</title>\n",
       "<ellipse fill=\"lightgray\" stroke=\"black\" cx=\"902.19\" cy=\"-162\" rx=\"36\" ry=\"18\"/>\n",
       "<text text-anchor=\"middle\" x=\"902.19\" y=\"-158.3\" font-family=\"Times,serif\" font-size=\"14.00\">AKT1</text>\n",
       "</g>\n",
       "<!-- PIK3CA&#45;&gt;AKT1 -->\n",
       "<g id=\"edge43\" class=\"edge\">\n",
       "<title>PIK3CA&#45;&gt;AKT1</title>\n",
       "<path fill=\"none\" stroke=\"black\" d=\"M902.19,-215.7C902.19,-204.85 902.19,-190.92 902.19,-180.1\"/>\n",
       "</g>\n",
       "<!-- PIK3R1&#45;&gt;CTNNB1 -->\n",
       "<g id=\"edge5\" class=\"edge\">\n",
       "<title>PIK3R1&#45;&gt;CTNNB1</title>\n",
       "<path fill=\"none\" stroke=\"black\" d=\"M1208.99,-145.12C1221.01,-133.74 1237.15,-118.48 1249.21,-107.06\"/>\n",
       "</g>\n",
       "<!-- LEF1 -->\n",
       "<g id=\"node7\" class=\"node\">\n",
       "<title>LEF1</title>\n",
       "<ellipse fill=\"lightyellow\" stroke=\"black\" cx=\"1581.19\" cy=\"-162\" rx=\"36\" ry=\"18\"/>\n",
       "<text text-anchor=\"middle\" x=\"1581.19\" y=\"-158.3\" font-family=\"Times,serif\" font-size=\"14.00\">LEF1</text>\n",
       "</g>\n",
       "<!-- LEF1&#45;&gt;CTNNB1 -->\n",
       "<g id=\"edge6\" class=\"edge\">\n",
       "<title>LEF1&#45;&gt;CTNNB1</title>\n",
       "<path fill=\"none\" stroke=\"black\" d=\"M1554.46,-149.81C1548.82,-147.69 1542.86,-145.63 1537.19,-144 1460.04,-121.74 1367.84,-105.92 1313.3,-97.64\"/>\n",
       "</g>\n",
       "<!-- MSX2 -->\n",
       "<g id=\"node8\" class=\"node\">\n",
       "<title>MSX2</title>\n",
       "<ellipse fill=\"lightyellow\" stroke=\"black\" cx=\"1438.19\" cy=\"-450\" rx=\"38.19\" ry=\"18\"/>\n",
       "<text text-anchor=\"middle\" x=\"1438.19\" y=\"-446.3\" font-family=\"Times,serif\" font-size=\"14.00\">MSX2</text>\n",
       "</g>\n",
       "<!-- TCF7L2 -->\n",
       "<g id=\"node9\" class=\"node\">\n",
       "<title>TCF7L2</title>\n",
       "<ellipse fill=\"lightgray\" stroke=\"black\" cx=\"1429.19\" cy=\"-378\" rx=\"47.39\" ry=\"18\"/>\n",
       "<text text-anchor=\"middle\" x=\"1429.19\" y=\"-374.3\" font-family=\"Times,serif\" font-size=\"14.00\">TCF7L2</text>\n",
       "</g>\n",
       "<!-- MSX2&#45;&gt;TCF7L2 -->\n",
       "<g id=\"edge7\" class=\"edge\">\n",
       "<title>MSX2&#45;&gt;TCF7L2</title>\n",
       "<path fill=\"none\" stroke=\"black\" d=\"M1435.97,-431.7C1434.58,-420.85 1432.78,-406.92 1431.39,-396.1\"/>\n",
       "</g>\n",
       "<!-- TLX3 -->\n",
       "<g id=\"node37\" class=\"node\">\n",
       "<title>TLX3</title>\n",
       "<ellipse fill=\"lightgray\" stroke=\"black\" cx=\"1678.19\" cy=\"-306\" rx=\"34.39\" ry=\"18\"/>\n",
       "<text text-anchor=\"middle\" x=\"1678.19\" y=\"-302.3\" font-family=\"Times,serif\" font-size=\"14.00\">TLX3</text>\n",
       "</g>\n",
       "<!-- MSX2&#45;&gt;TLX3 -->\n",
       "<g id=\"edge51\" class=\"edge\">\n",
       "<title>MSX2&#45;&gt;TLX3</title>\n",
       "<path fill=\"none\" stroke=\"black\" d=\"M1456.57,-433.89C1479.94,-415.11 1521.98,-382.76 1561.19,-360 1590.9,-342.76 1627.2,-327.08 1651.42,-317.33\"/>\n",
       "</g>\n",
       "<!-- TCF7L2&#45;&gt;CTNNB1 -->\n",
       "<g id=\"edge8\" class=\"edge\">\n",
       "<title>TCF7L2&#45;&gt;CTNNB1</title>\n",
       "<path fill=\"none\" stroke=\"black\" d=\"M1419.49,-359.97C1390.5,-309.1 1304.78,-158.7 1275.85,-107.94\"/>\n",
       "</g>\n",
       "<!-- PITX1 -->\n",
       "<g id=\"node10\" class=\"node\">\n",
       "<title>PITX1</title>\n",
       "<ellipse fill=\"lightyellow\" stroke=\"black\" cx=\"1118.19\" cy=\"-666\" rx=\"38.19\" ry=\"18\"/>\n",
       "<text text-anchor=\"middle\" x=\"1118.19\" y=\"-662.3\" font-family=\"Times,serif\" font-size=\"14.00\">PITX1</text>\n",
       "</g>\n",
       "<!-- PITX1&#45;&gt;MSX2 -->\n",
       "<g id=\"edge37\" class=\"edge\">\n",
       "<title>PITX1&#45;&gt;MSX2</title>\n",
       "<path fill=\"none\" stroke=\"black\" d=\"M1145.52,-653.22C1190.16,-633.32 1280.52,-590.27 1348.19,-540 1378.01,-517.86 1407.68,-486.16 1424.41,-467.18\"/>\n",
       "</g>\n",
       "<!-- PTK6 -->\n",
       "<g id=\"node11\" class=\"node\">\n",
       "<title>PTK6</title>\n",
       "<ellipse fill=\"lightgray\" stroke=\"black\" cx=\"1883.19\" cy=\"-594\" rx=\"36\" ry=\"18\"/>\n",
       "<text text-anchor=\"middle\" x=\"1883.19\" y=\"-590.3\" font-family=\"Times,serif\" font-size=\"14.00\">PTK6</text>\n",
       "</g>\n",
       "<!-- PITX1&#45;&gt;PTK6 -->\n",
       "<g id=\"edge9\" class=\"edge\">\n",
       "<title>PITX1&#45;&gt;PTK6</title>\n",
       "<path fill=\"none\" stroke=\"black\" d=\"M1156.64,-665.55C1264.54,-666.37 1578.89,-663.78 1833.19,-612 1840.65,-610.48 1848.53,-608.16 1855.77,-605.72\"/>\n",
       "</g>\n",
       "<!-- TBX22 -->\n",
       "<g id=\"node13\" class=\"node\">\n",
       "<title>TBX22</title>\n",
       "<ellipse fill=\"lightgray\" stroke=\"black\" cx=\"1612.19\" cy=\"-378\" rx=\"41.69\" ry=\"18\"/>\n",
       "<text text-anchor=\"middle\" x=\"1612.19\" y=\"-374.3\" font-family=\"Times,serif\" font-size=\"14.00\">TBX22</text>\n",
       "</g>\n",
       "<!-- PITX1&#45;&gt;TBX22 -->\n",
       "<g id=\"edge12\" class=\"edge\">\n",
       "<title>PITX1&#45;&gt;TBX22</title>\n",
       "<path fill=\"none\" stroke=\"black\" d=\"M1151.28,-656.7C1183.98,-647.86 1234.93,-632.34 1276.19,-612 1407.68,-547.19 1545.67,-435.33 1594.11,-394.5\"/>\n",
       "</g>\n",
       "<!-- ANKRD10 -->\n",
       "<g id=\"node15\" class=\"node\">\n",
       "<title>ANKRD10</title>\n",
       "<ellipse fill=\"lightgray\" stroke=\"black\" cx=\"1768.19\" cy=\"-378\" rx=\"57.69\" ry=\"18\"/>\n",
       "<text text-anchor=\"middle\" x=\"1768.19\" y=\"-374.3\" font-family=\"Times,serif\" font-size=\"14.00\">ANKRD10</text>\n",
       "</g>\n",
       "<!-- PITX1&#45;&gt;ANKRD10 -->\n",
       "<g id=\"edge15\" class=\"edge\">\n",
       "<title>PITX1&#45;&gt;ANKRD10</title>\n",
       "<path fill=\"none\" stroke=\"black\" d=\"M1156.85,-665.73C1245.87,-666.44 1471.51,-662.62 1651.19,-612 1721.99,-592.05 1761.11,-602.3 1800.19,-540 1825.71,-499.34 1813.07,-478.24 1800.19,-432 1796.5,-418.75 1788.5,-405.5 1781.43,-395.56\"/>\n",
       "</g>\n",
       "<!-- PLEKHB2 -->\n",
       "<g id=\"node16\" class=\"node\">\n",
       "<title>PLEKHB2</title>\n",
       "<ellipse fill=\"lightgray\" stroke=\"black\" cx=\"57.19\" cy=\"-594\" rx=\"57.39\" ry=\"18\"/>\n",
       "<text text-anchor=\"middle\" x=\"57.19\" y=\"-590.3\" font-family=\"Times,serif\" font-size=\"14.00\">PLEKHB2</text>\n",
       "</g>\n",
       "<!-- PITX1&#45;&gt;PLEKHB2 -->\n",
       "<g id=\"edge17\" class=\"edge\">\n",
       "<title>PITX1&#45;&gt;PLEKHB2</title>\n",
       "<path fill=\"none\" stroke=\"black\" d=\"M1079.73,-665.44C946.92,-666.43 495.69,-665.38 128.19,-612 118.66,-610.62 108.53,-608.55 99,-606.34\"/>\n",
       "</g>\n",
       "<!-- PFDN5 -->\n",
       "<g id=\"node18\" class=\"node\">\n",
       "<title>PFDN5</title>\n",
       "<ellipse fill=\"lightgray\" stroke=\"black\" cx=\"1046.19\" cy=\"-450\" rx=\"44.39\" ry=\"18\"/>\n",
       "<text text-anchor=\"middle\" x=\"1046.19\" y=\"-446.3\" font-family=\"Times,serif\" font-size=\"14.00\">PFDN5</text>\n",
       "</g>\n",
       "<!-- PITX1&#45;&gt;PFDN5 -->\n",
       "<g id=\"edge20\" class=\"edge\">\n",
       "<title>PITX1&#45;&gt;PFDN5</title>\n",
       "<path fill=\"none\" stroke=\"black\" d=\"M1098.77,-650.22C1087.62,-640.6 1074.44,-627.08 1067.19,-612 1044.12,-563.98 1043.67,-499.11 1045.02,-468.44\"/>\n",
       "</g>\n",
       "<!-- KRT34 -->\n",
       "<g id=\"node19\" class=\"node\">\n",
       "<title>KRT34</title>\n",
       "<ellipse fill=\"lightgray\" stroke=\"black\" cx=\"501.19\" cy=\"-378\" rx=\"42.49\" ry=\"18\"/>\n",
       "<text text-anchor=\"middle\" x=\"501.19\" y=\"-374.3\" font-family=\"Times,serif\" font-size=\"14.00\">KRT34</text>\n",
       "</g>\n",
       "<!-- PITX1&#45;&gt;KRT34 -->\n",
       "<g id=\"edge22\" class=\"edge\">\n",
       "<title>PITX1&#45;&gt;KRT34</title>\n",
       "<path fill=\"none\" stroke=\"black\" d=\"M1081.11,-661.13C944.21,-645.97 470.93,-585.62 389.19,-468 380.06,-454.86 380.64,-445.52 389.19,-432 405.36,-406.46 437.52,-392.99 463.24,-386.04\"/>\n",
       "</g>\n",
       "<!-- RBPMS -->\n",
       "<g id=\"node20\" class=\"node\">\n",
       "<title>RBPMS</title>\n",
       "<ellipse fill=\"lightgray\" stroke=\"black\" cx=\"261.19\" cy=\"-306\" rx=\"46.29\" ry=\"18\"/>\n",
       "<text text-anchor=\"middle\" x=\"261.19\" y=\"-302.3\" font-family=\"Times,serif\" font-size=\"14.00\">RBPMS</text>\n",
       "</g>\n",
       "<!-- PITX1&#45;&gt;RBPMS -->\n",
       "<g id=\"edge24\" class=\"edge\">\n",
       "<title>PITX1&#45;&gt;RBPMS</title>\n",
       "<path fill=\"none\" stroke=\"black\" d=\"M1079.66,-664.71C993.48,-663.26 779.16,-655.2 606.19,-612 523.8,-591.42 502.27,-583.27 429.19,-540 341.93,-488.33 295.75,-487.58 252.19,-396 241.19,-372.86 248.11,-342.58 254.42,-323.97\"/>\n",
       "</g>\n",
       "<!-- YPEL3 -->\n",
       "<g id=\"node21\" class=\"node\">\n",
       "<title>YPEL3</title>\n",
       "<ellipse fill=\"lightgray\" stroke=\"black\" cx=\"1118.19\" cy=\"-594\" rx=\"41.69\" ry=\"18\"/>\n",
       "<text text-anchor=\"middle\" x=\"1118.19\" y=\"-590.3\" font-family=\"Times,serif\" font-size=\"14.00\">YPEL3</text>\n",
       "</g>\n",
       "<!-- PITX1&#45;&gt;YPEL3 -->\n",
       "<g id=\"edge26\" class=\"edge\">\n",
       "<title>PITX1&#45;&gt;YPEL3</title>\n",
       "<path fill=\"none\" stroke=\"black\" d=\"M1118.19,-647.7C1118.19,-636.85 1118.19,-622.92 1118.19,-612.1\"/>\n",
       "</g>\n",
       "<!-- TLE5 -->\n",
       "<g id=\"node23\" class=\"node\">\n",
       "<title>TLE5</title>\n",
       "<ellipse fill=\"lightgray\" stroke=\"black\" cx=\"873.19\" cy=\"-522\" rx=\"35.19\" ry=\"18\"/>\n",
       "<text text-anchor=\"middle\" x=\"873.19\" y=\"-518.3\" font-family=\"Times,serif\" font-size=\"14.00\">TLE5</text>\n",
       "</g>\n",
       "<!-- PITX1&#45;&gt;TLE5 -->\n",
       "<g id=\"edge29\" class=\"edge\">\n",
       "<title>PITX1&#45;&gt;TLE5</title>\n",
       "<path fill=\"none\" stroke=\"black\" d=\"M1080,-663.39C1037.38,-659.77 968.35,-648.25 922.19,-612 898.61,-593.48 884.74,-560.31 878.09,-540.11\"/>\n",
       "</g>\n",
       "<!-- ENSG00000105991 -->\n",
       "<g id=\"node24\" class=\"node\">\n",
       "<title>ENSG00000105991</title>\n",
       "<ellipse fill=\"lightgray\" stroke=\"black\" cx=\"501.19\" cy=\"-450\" rx=\"103.18\" ry=\"18\"/>\n",
       "<text text-anchor=\"middle\" x=\"501.19\" y=\"-446.3\" font-family=\"Times,serif\" font-size=\"14.00\">ENSG00000105991</text>\n",
       "</g>\n",
       "<!-- PITX1&#45;&gt;ENSG00000105991 -->\n",
       "<g id=\"edge33\" class=\"edge\">\n",
       "<title>PITX1&#45;&gt;ENSG00000105991</title>\n",
       "<path fill=\"none\" stroke=\"black\" d=\"M1083.26,-658.14C1038.41,-649.04 958.35,-631.8 891.19,-612 800.18,-585.17 777.89,-576.26 690.19,-540 634.05,-516.79 570.47,-485.85 533.21,-467.23\"/>\n",
       "</g>\n",
       "<!-- TRIM23 -->\n",
       "<g id=\"node26\" class=\"node\">\n",
       "<title>TRIM23</title>\n",
       "<ellipse fill=\"lightgray\" stroke=\"black\" cx=\"981.19\" cy=\"-306\" rx=\"48.19\" ry=\"18\"/>\n",
       "<text text-anchor=\"middle\" x=\"981.19\" y=\"-302.3\" font-family=\"Times,serif\" font-size=\"14.00\">TRIM23</text>\n",
       "</g>\n",
       "<!-- PITX1&#45;&gt;TRIM23 -->\n",
       "<g id=\"edge38\" class=\"edge\">\n",
       "<title>PITX1&#45;&gt;TRIM23</title>\n",
       "<path fill=\"none\" stroke=\"black\" d=\"M1138.33,-650.53C1149.73,-641.03 1162.94,-627.52 1169.19,-612 1190.79,-558.41 1145.44,-484.53 1122.19,-432 1107.29,-398.32 1107.63,-385.64 1081.19,-360 1062.3,-341.67 1035.78,-328 1014.81,-319.15\"/>\n",
       "</g>\n",
       "<!-- ATN1 -->\n",
       "<g id=\"node28\" class=\"node\">\n",
       "<title>ATN1</title>\n",
       "<ellipse fill=\"lightgray\" stroke=\"black\" cx=\"1606.19\" cy=\"-594\" rx=\"36.29\" ry=\"18\"/>\n",
       "<text text-anchor=\"middle\" x=\"1606.19\" y=\"-590.3\" font-family=\"Times,serif\" font-size=\"14.00\">ATN1</text>\n",
       "</g>\n",
       "<!-- PITX1&#45;&gt;ATN1 -->\n",
       "<g id=\"edge41\" class=\"edge\">\n",
       "<title>PITX1&#45;&gt;ATN1</title>\n",
       "<path fill=\"none\" stroke=\"black\" d=\"M1156.14,-663.06C1232.66,-658.57 1410.57,-645.19 1556.19,-612 1563.44,-610.35 1571.1,-608.04 1578.2,-605.66\"/>\n",
       "</g>\n",
       "<!-- DVL3 -->\n",
       "<g id=\"node48\" class=\"node\">\n",
       "<title>DVL3</title>\n",
       "<ellipse fill=\"lightgray\" stroke=\"black\" cx=\"897.19\" cy=\"-378\" rx=\"36.29\" ry=\"18\"/>\n",
       "<text text-anchor=\"middle\" x=\"897.19\" y=\"-374.3\" font-family=\"Times,serif\" font-size=\"14.00\">DVL3</text>\n",
       "</g>\n",
       "<!-- PITX1&#45;&gt;DVL3 -->\n",
       "<g id=\"edge65\" class=\"edge\">\n",
       "<title>PITX1&#45;&gt;DVL3</title>\n",
       "<path fill=\"none\" stroke=\"black\" d=\"M1096.82,-650.77C1082.89,-640.89 1064.84,-626.86 1051.19,-612 984.62,-539.5 926.79,-435.47 905.7,-395.5\"/>\n",
       "</g>\n",
       "<!-- IPO13 -->\n",
       "<g id=\"node63\" class=\"node\">\n",
       "<title>IPO13</title>\n",
       "<ellipse fill=\"lightgray\" stroke=\"black\" cx=\"2078.19\" cy=\"-594\" rx=\"39.79\" ry=\"18\"/>\n",
       "<text text-anchor=\"middle\" x=\"2078.19\" y=\"-590.3\" font-family=\"Times,serif\" font-size=\"14.00\">IPO13</text>\n",
       "</g>\n",
       "<!-- PITX1&#45;&gt;IPO13 -->\n",
       "<g id=\"edge90\" class=\"edge\">\n",
       "<title>PITX1&#45;&gt;IPO13</title>\n",
       "<path fill=\"none\" stroke=\"black\" d=\"M1156.2,-663.16C1272.11,-657.4 1631.32,-638.52 1928.19,-612 1966.44,-608.58 2010.03,-603.51 2040.33,-599.79\"/>\n",
       "</g>\n",
       "<!-- ERBB2 -->\n",
       "<g id=\"node12\" class=\"node\">\n",
       "<title>ERBB2</title>\n",
       "<ellipse fill=\"lightgray\" stroke=\"black\" cx=\"1480.19\" cy=\"-234\" rx=\"44.39\" ry=\"18\"/>\n",
       "<text text-anchor=\"middle\" x=\"1480.19\" y=\"-230.3\" font-family=\"Times,serif\" font-size=\"14.00\">ERBB2</text>\n",
       "</g>\n",
       "<!-- PTK6&#45;&gt;ERBB2 -->\n",
       "<g id=\"edge10\" class=\"edge\">\n",
       "<title>PTK6&#45;&gt;ERBB2</title>\n",
       "<path fill=\"none\" stroke=\"black\" d=\"M1878.06,-576.13C1870.48,-549.72 1857.19,-496.86 1857.19,-451 1857.19,-451 1857.19,-451 1857.19,-377 1857.19,-222.65 1683.2,-288.35 1533.19,-252 1526.53,-250.38 1519.48,-248.36 1512.78,-246.27\"/>\n",
       "</g>\n",
       "<!-- ERBB2&#45;&gt;CTNNB1 -->\n",
       "<g id=\"edge11\" class=\"edge\">\n",
       "<title>ERBB2&#45;&gt;CTNNB1</title>\n",
       "<path fill=\"none\" stroke=\"black\" d=\"M1513.42,-222.01C1555.44,-207.96 1622.8,-184.84 1626.19,-180 1635.38,-166.9 1636.65,-156.11 1626.19,-144 1587.02,-98.64 1408.14,-91.4 1318.18,-90.7\"/>\n",
       "</g>\n",
       "<!-- ERBB2&#45;&gt;PIK3R1 -->\n",
       "<g id=\"edge94\" class=\"edge\">\n",
       "<title>ERBB2&#45;&gt;PIK3R1</title>\n",
       "<path fill=\"none\" stroke=\"black\" d=\"M1443.13,-223.99C1388.29,-210.66 1286.03,-185.81 1230.49,-172.31\"/>\n",
       "</g>\n",
       "<!-- PITX2 -->\n",
       "<g id=\"node14\" class=\"node\">\n",
       "<title>PITX2</title>\n",
       "<ellipse fill=\"lightgray\" stroke=\"black\" cx=\"1122.19\" cy=\"-234\" rx=\"38.19\" ry=\"18\"/>\n",
       "<text text-anchor=\"middle\" x=\"1122.19\" y=\"-230.3\" font-family=\"Times,serif\" font-size=\"14.00\">PITX2</text>\n",
       "</g>\n",
       "<!-- TBX22&#45;&gt;PITX2 -->\n",
       "<g id=\"edge13\" class=\"edge\">\n",
       "<title>TBX22&#45;&gt;PITX2</title>\n",
       "<path fill=\"none\" stroke=\"black\" d=\"M1580.23,-366.27C1528.13,-348.92 1421.54,-314.03 1330.19,-288 1269.09,-270.59 1197.12,-252.86 1155.85,-242.96\"/>\n",
       "</g>\n",
       "<!-- TBX22&#45;&gt;TLX3 -->\n",
       "<g id=\"edge95\" class=\"edge\">\n",
       "<title>TBX22&#45;&gt;TLX3</title>\n",
       "<path fill=\"none\" stroke=\"black\" d=\"M1627.17,-361.12C1638.12,-349.5 1652.9,-333.83 1663.73,-322.34\"/>\n",
       "</g>\n",
       "<!-- PITX2&#45;&gt;CTNNB1 -->\n",
       "<g id=\"edge14\" class=\"edge\">\n",
       "<title>PITX2&#45;&gt;CTNNB1</title>\n",
       "<path fill=\"none\" stroke=\"black\" d=\"M1120.47,-215.97C1119.44,-196.47 1120.77,-164.57 1137.19,-144 1157.44,-118.65 1191.84,-105.32 1220.02,-98.37\"/>\n",
       "</g>\n",
       "<!-- ANKRD10&#45;&gt;PITX2 -->\n",
       "<g id=\"edge16\" class=\"edge\">\n",
       "<title>ANKRD10&#45;&gt;PITX2</title>\n",
       "<path fill=\"none\" stroke=\"black\" d=\"M1764.46,-359.85C1758.93,-338.96 1746.36,-304.43 1721.19,-288 1627.92,-227.1 1331.78,-265.44 1221.19,-252 1199.73,-249.39 1175.83,-245.32 1156.89,-241.82\"/>\n",
       "</g>\n",
       "<!-- ANKRD10&#45;&gt;TLX3 -->\n",
       "<g id=\"edge96\" class=\"edge\">\n",
       "<title>ANKRD10&#45;&gt;TLX3</title>\n",
       "<path fill=\"none\" stroke=\"black\" d=\"M1747.77,-361.12C1732.42,-349.18 1711.56,-332.95 1696.7,-321.39\"/>\n",
       "</g>\n",
       "<!-- GLIS2 -->\n",
       "<g id=\"node17\" class=\"node\">\n",
       "<title>GLIS2</title>\n",
       "<ellipse fill=\"lightgray\" stroke=\"black\" cx=\"89.19\" cy=\"-378\" rx=\"39.79\" ry=\"18\"/>\n",
       "<text text-anchor=\"middle\" x=\"89.19\" y=\"-374.3\" font-family=\"Times,serif\" font-size=\"14.00\">GLIS2</text>\n",
       "</g>\n",
       "<!-- PLEKHB2&#45;&gt;GLIS2 -->\n",
       "<g id=\"edge18\" class=\"edge\">\n",
       "<title>PLEKHB2&#45;&gt;GLIS2</title>\n",
       "<path fill=\"none\" stroke=\"black\" d=\"M59.76,-575.85C65.75,-535.78 80.61,-436.38 86.62,-396.23\"/>\n",
       "</g>\n",
       "<!-- GLIS2&#45;&gt;CTNNB1 -->\n",
       "<g id=\"edge19\" class=\"edge\">\n",
       "<title>GLIS2&#45;&gt;CTNNB1</title>\n",
       "<path fill=\"none\" stroke=\"black\" d=\"M106.5,-361.73C128.55,-342.79 168.36,-310.27 206.19,-288 274.8,-247.62 295.91,-244.62 370.19,-216 464.62,-179.62 487.01,-164.08 586.19,-144 647.31,-131.63 1068.17,-103.74 1215.44,-94.24\"/>\n",
       "</g>\n",
       "<!-- GLIS2&#45;&gt;RBPMS -->\n",
       "<g id=\"edge97\" class=\"edge\">\n",
       "<title>GLIS2&#45;&gt;RBPMS</title>\n",
       "<path fill=\"none\" stroke=\"black\" d=\"M117.6,-365.44C148.7,-352.78 198.41,-332.55 230.43,-319.52\"/>\n",
       "</g>\n",
       "<!-- CSNK2B -->\n",
       "<g id=\"node31\" class=\"node\">\n",
       "<title>CSNK2B</title>\n",
       "<ellipse fill=\"lightyellow\" stroke=\"black\" cx=\"902.19\" cy=\"-18\" rx=\"51.19\" ry=\"18\"/>\n",
       "<text text-anchor=\"middle\" x=\"902.19\" y=\"-14.3\" font-family=\"Times,serif\" font-size=\"14.00\">CSNK2B</text>\n",
       "</g>\n",
       "<!-- GLIS2&#45;&gt;CSNK2B -->\n",
       "<g id=\"edge92\" class=\"edge\">\n",
       "<title>GLIS2&#45;&gt;CSNK2B</title>\n",
       "<path fill=\"none\" stroke=\"black\" d=\"M91.57,-359.99C95.06,-333.38 101.19,-280.28 101.19,-235 101.19,-235 101.19,-235 101.19,-161 101.19,-84.34 677.39,-35.57 852.39,-22.53\"/>\n",
       "</g>\n",
       "<!-- PFDN5&#45;&gt;PITX2 -->\n",
       "<g id=\"edge21\" class=\"edge\">\n",
       "<title>PFDN5&#45;&gt;PITX2</title>\n",
       "<path fill=\"none\" stroke=\"black\" d=\"M1052.29,-431.85C1066.55,-391.68 1101.99,-291.89 1116.18,-251.94\"/>\n",
       "</g>\n",
       "<!-- IRX2 -->\n",
       "<g id=\"node51\" class=\"node\">\n",
       "<title>IRX2</title>\n",
       "<ellipse fill=\"lightyellow\" stroke=\"black\" cx=\"985.19\" cy=\"-378\" rx=\"33.29\" ry=\"18\"/>\n",
       "<text text-anchor=\"middle\" x=\"985.19\" y=\"-374.3\" font-family=\"Times,serif\" font-size=\"14.00\">IRX2</text>\n",
       "</g>\n",
       "<!-- PFDN5&#45;&gt;IRX2 -->\n",
       "<g id=\"edge69\" class=\"edge\">\n",
       "<title>PFDN5&#45;&gt;IRX2</title>\n",
       "<path fill=\"none\" stroke=\"black\" d=\"M1032.05,-432.76C1022.05,-421.29 1008.73,-406.01 998.85,-394.67\"/>\n",
       "</g>\n",
       "<!-- ABI2 -->\n",
       "<g id=\"node52\" class=\"node\">\n",
       "<title>ABI2</title>\n",
       "<ellipse fill=\"lightgray\" stroke=\"black\" cx=\"408.19\" cy=\"-306\" rx=\"33.29\" ry=\"18\"/>\n",
       "<text text-anchor=\"middle\" x=\"408.19\" y=\"-302.3\" font-family=\"Times,serif\" font-size=\"14.00\">ABI2</text>\n",
       "</g>\n",
       "<!-- PFDN5&#45;&gt;ABI2 -->\n",
       "<g id=\"edge71\" class=\"edge\">\n",
       "<title>PFDN5&#45;&gt;ABI2</title>\n",
       "<path fill=\"none\" stroke=\"black\" d=\"M1048.07,-431.91C1049.26,-411.42 1047.66,-377.64 1027.19,-360 978.54,-318.06 512.83,-338.23 450.19,-324 444.37,-322.68 438.3,-320.64 432.64,-318.43\"/>\n",
       "</g>\n",
       "<!-- KRT34&#45;&gt;PITX2 -->\n",
       "<g id=\"edge23\" class=\"edge\">\n",
       "<title>KRT34&#45;&gt;PITX2</title>\n",
       "<path fill=\"none\" stroke=\"black\" d=\"M533.79,-366.49C590.37,-348.52 710.63,-311.56 814.19,-288 911.54,-265.85 1028.07,-248.16 1085.91,-239.96\"/>\n",
       "</g>\n",
       "<!-- KRT34&#45;&gt;TLX3 -->\n",
       "<g id=\"edge101\" class=\"edge\">\n",
       "<title>KRT34&#45;&gt;TLX3</title>\n",
       "<path fill=\"none\" stroke=\"black\" d=\"M540.29,-370.92C565.36,-367.23 598.62,-362.72 628.19,-360 832.33,-341.22 1486.63,-314.59 1643.94,-308.35\"/>\n",
       "</g>\n",
       "<!-- KRT34&#45;&gt;ABI2 -->\n",
       "<g id=\"edge75\" class=\"edge\">\n",
       "<title>KRT34&#45;&gt;ABI2</title>\n",
       "<path fill=\"none\" stroke=\"black\" d=\"M481.02,-361.81C464.88,-349.67 442.45,-332.78 426.75,-320.97\"/>\n",
       "</g>\n",
       "<!-- KRT85 -->\n",
       "<g id=\"node53\" class=\"node\">\n",
       "<title>KRT85</title>\n",
       "<ellipse fill=\"lightgray\" stroke=\"black\" cx=\"501.19\" cy=\"-306\" rx=\"42.49\" ry=\"18\"/>\n",
       "<text text-anchor=\"middle\" x=\"501.19\" y=\"-302.3\" font-family=\"Times,serif\" font-size=\"14.00\">KRT85</text>\n",
       "</g>\n",
       "<!-- KRT34&#45;&gt;KRT85 -->\n",
       "<g id=\"edge73\" class=\"edge\">\n",
       "<title>KRT34&#45;&gt;KRT85</title>\n",
       "<path fill=\"none\" stroke=\"black\" d=\"M501.19,-359.7C501.19,-348.85 501.19,-334.92 501.19,-324.1\"/>\n",
       "</g>\n",
       "<!-- RBPMS&#45;&gt;PITX2 -->\n",
       "<g id=\"edge25\" class=\"edge\">\n",
       "<title>RBPMS&#45;&gt;PITX2</title>\n",
       "<path fill=\"none\" stroke=\"black\" d=\"M301.95,-297.43C321.35,-294.08 344.9,-290.37 366.19,-288 627.74,-258.93 694.92,-273.49 957.19,-252 1001.25,-248.39 1051.8,-243 1085.21,-239.26\"/>\n",
       "</g>\n",
       "<!-- BANP -->\n",
       "<g id=\"node35\" class=\"node\">\n",
       "<title>BANP</title>\n",
       "<ellipse fill=\"lightgray\" stroke=\"black\" cx=\"633.19\" cy=\"-162\" rx=\"38.19\" ry=\"18\"/>\n",
       "<text text-anchor=\"middle\" x=\"633.19\" y=\"-158.3\" font-family=\"Times,serif\" font-size=\"14.00\">BANP</text>\n",
       "</g>\n",
       "<!-- RBPMS&#45;&gt;BANP -->\n",
       "<g id=\"edge106\" class=\"edge\">\n",
       "<title>RBPMS&#45;&gt;BANP</title>\n",
       "<path fill=\"none\" stroke=\"black\" d=\"M287.84,-291.22C324.6,-272.55 393.24,-238.94 454.19,-216 504.09,-197.22 563.77,-180.69 600.06,-171.27\"/>\n",
       "</g>\n",
       "<!-- YPEL3&#45;&gt;RBPMS -->\n",
       "<g id=\"edge103\" class=\"edge\">\n",
       "<title>YPEL3&#45;&gt;RBPMS</title>\n",
       "<path fill=\"none\" stroke=\"black\" d=\"M1076.63,-592.09C926.57,-588.02 415.23,-566.98 292.19,-468 248.95,-433.21 253.6,-358 258.27,-324.14\"/>\n",
       "</g>\n",
       "<!-- FHL2 -->\n",
       "<g id=\"node22\" class=\"node\">\n",
       "<title>FHL2</title>\n",
       "<ellipse fill=\"lightgray\" stroke=\"black\" cx=\"1266.19\" cy=\"-234\" rx=\"36.29\" ry=\"18\"/>\n",
       "<text text-anchor=\"middle\" x=\"1266.19\" y=\"-230.3\" font-family=\"Times,serif\" font-size=\"14.00\">FHL2</text>\n",
       "</g>\n",
       "<!-- YPEL3&#45;&gt;FHL2 -->\n",
       "<g id=\"edge27\" class=\"edge\">\n",
       "<title>YPEL3&#45;&gt;FHL2</title>\n",
       "<path fill=\"none\" stroke=\"black\" d=\"M1157.01,-587.4C1206.76,-579.39 1288.89,-563.03 1308.19,-540 1380.84,-453.38 1304.78,-301.7 1276.15,-251.59\"/>\n",
       "</g>\n",
       "<!-- YPEL3&#45;&gt;TLE5 -->\n",
       "<g id=\"edge108\" class=\"edge\">\n",
       "<title>YPEL3&#45;&gt;TLE5</title>\n",
       "<path fill=\"none\" stroke=\"black\" d=\"M1084.39,-583.34C1036.34,-569.61 949.07,-544.68 903.2,-531.57\"/>\n",
       "</g>\n",
       "<!-- YPEL3&#45;&gt;ENSG00000105991 -->\n",
       "<g id=\"edge109\" class=\"edge\">\n",
       "<title>YPEL3&#45;&gt;ENSG00000105991</title>\n",
       "<path fill=\"none\" stroke=\"black\" d=\"M1079.65,-586.98C1024.05,-578.07 918.24,-560.21 829.19,-540 729.65,-517.41 614.86,-484.71 550.88,-465.88\"/>\n",
       "</g>\n",
       "<!-- YPEL3&#45;&gt;TLX3 -->\n",
       "<g id=\"edge110\" class=\"edge\">\n",
       "<title>YPEL3&#45;&gt;TLX3</title>\n",
       "<path fill=\"none\" stroke=\"black\" d=\"M1156.29,-586.66C1202.46,-578.43 1282.24,-562.42 1348.19,-540 1366.41,-533.81 1651.48,-411.27 1663.19,-396 1679.12,-375.24 1680.65,-343.69 1679.79,-324.26\"/>\n",
       "</g>\n",
       "<!-- PIK3R3 -->\n",
       "<g id=\"node38\" class=\"node\">\n",
       "<title>PIK3R3</title>\n",
       "<ellipse fill=\"lightgray\" stroke=\"black\" cx=\"869.19\" cy=\"-306\" rx=\"46.29\" ry=\"18\"/>\n",
       "<text text-anchor=\"middle\" x=\"869.19\" y=\"-302.3\" font-family=\"Times,serif\" font-size=\"14.00\">PIK3R3</text>\n",
       "</g>\n",
       "<!-- YPEL3&#45;&gt;PIK3R3 -->\n",
       "<g id=\"edge53\" class=\"edge\">\n",
       "<title>YPEL3&#45;&gt;PIK3R3</title>\n",
       "<path fill=\"none\" stroke=\"black\" d=\"M1119.53,-575.97C1121.96,-531.4 1121.45,-411.17 1051.19,-360 1003.77,-325.46 980.45,-340.66 924.19,-324 917.68,-322.07 910.74,-319.97 904.07,-317.92\"/>\n",
       "</g>\n",
       "<!-- PSMA3 -->\n",
       "<g id=\"node61\" class=\"node\">\n",
       "<title>PSMA3</title>\n",
       "<ellipse fill=\"lightgray\" stroke=\"black\" cx=\"1636.19\" cy=\"-522\" rx=\"44.69\" ry=\"18\"/>\n",
       "<text text-anchor=\"middle\" x=\"1636.19\" y=\"-518.3\" font-family=\"Times,serif\" font-size=\"14.00\">PSMA3</text>\n",
       "</g>\n",
       "<!-- YPEL3&#45;&gt;PSMA3 -->\n",
       "<g id=\"edge88\" class=\"edge\">\n",
       "<title>YPEL3&#45;&gt;PSMA3</title>\n",
       "<path fill=\"none\" stroke=\"black\" d=\"M1157.55,-587.68C1253.06,-574.78 1496.41,-541.89 1594.39,-528.65\"/>\n",
       "</g>\n",
       "<!-- FHL2&#45;&gt;CTNNB1 -->\n",
       "<g id=\"edge28\" class=\"edge\">\n",
       "<title>FHL2&#45;&gt;CTNNB1</title>\n",
       "<path fill=\"none\" stroke=\"black\" d=\"M1266.19,-215.87C1266.19,-188.58 1266.19,-135.52 1266.19,-108.19\"/>\n",
       "</g>\n",
       "<!-- FHL2&#45;&gt;BANP -->\n",
       "<g id=\"edge111\" class=\"edge\">\n",
       "<title>FHL2&#45;&gt;BANP</title>\n",
       "<path fill=\"none\" stroke=\"black\" d=\"M1233.09,-226.42C1214.39,-222.9 1190.56,-218.74 1169.19,-216 974.14,-191 923.21,-205.35 728.19,-180 708.09,-177.39 685.77,-173.45 667.81,-170.02\"/>\n",
       "</g>\n",
       "<!-- TLE5&#45;&gt;MSX2 -->\n",
       "<g id=\"edge93\" class=\"edge\">\n",
       "<title>TLE5&#45;&gt;MSX2</title>\n",
       "<path fill=\"none\" stroke=\"black\" d=\"M908.12,-519.95C991.62,-516.89 1209.07,-505.65 1386.19,-468 1393.72,-466.4 1401.69,-464.11 1409.07,-461.73\"/>\n",
       "</g>\n",
       "<!-- TLE5&#45;&gt;TCF7L2 -->\n",
       "<g id=\"edge30\" class=\"edge\">\n",
       "<title>TLE5&#45;&gt;TCF7L2</title>\n",
       "<path fill=\"none\" stroke=\"black\" d=\"M908.11,-519.23C999.07,-514.25 1241.42,-498.42 1315.19,-468 1355.59,-451.35 1393.74,-416.21 1414.03,-395.42\"/>\n",
       "</g>\n",
       "<!-- TLE5&#45;&gt;PITX2 -->\n",
       "<g id=\"edge32\" class=\"edge\">\n",
       "<title>TLE5&#45;&gt;PITX2</title>\n",
       "<path fill=\"none\" stroke=\"black\" d=\"M905.32,-514.72C949.43,-505.81 1031.03,-488.31 1099.19,-468 1110.41,-464.66 1290.48,-405.59 1297.19,-396 1326.83,-353.68 1293.47,-321.56 1254.19,-288 1225.94,-263.86 1185.29,-249.78 1156.58,-242.28\"/>\n",
       "</g>\n",
       "<!-- TLE5&#45;&gt;GLIS2 -->\n",
       "<g id=\"edge31\" class=\"edge\">\n",
       "<title>TLE5&#45;&gt;GLIS2</title>\n",
       "<path fill=\"none\" stroke=\"black\" d=\"M838.4,-519.47C728.02,-514.37 386.75,-496.64 280.19,-468 216.07,-450.76 146.87,-413.23 112.02,-392.85\"/>\n",
       "</g>\n",
       "<!-- TLE5&#45;&gt;PFDN5 -->\n",
       "<g id=\"edge98\" class=\"edge\">\n",
       "<title>TLE5&#45;&gt;PFDN5</title>\n",
       "<path fill=\"none\" stroke=\"black\" d=\"M899.85,-510.22C931.22,-497.52 983.19,-476.49 1016.02,-463.21\"/>\n",
       "</g>\n",
       "<!-- TLE5&#45;&gt;KRT34 -->\n",
       "<g id=\"edge99\" class=\"edge\">\n",
       "<title>TLE5&#45;&gt;KRT34</title>\n",
       "<path fill=\"none\" stroke=\"black\" d=\"M840.18,-515.29C786.66,-505.68 683.69,-485.6 651.19,-468 630.74,-456.92 632.39,-445.14 613.19,-432 587.63,-414.5 555.39,-399.92 532.07,-390.51\"/>\n",
       "</g>\n",
       "<!-- TLE5&#45;&gt;RBPMS -->\n",
       "<g id=\"edge104\" class=\"edge\">\n",
       "<title>TLE5&#45;&gt;RBPMS</title>\n",
       "<path fill=\"none\" stroke=\"black\" d=\"M838.13,-520.76C734.05,-519.55 428.7,-512.21 341.19,-468 302.72,-448.56 294.97,-434.81 276.19,-396 265,-372.87 261.99,-342.85 261.28,-324.26\"/>\n",
       "</g>\n",
       "<!-- TLE5&#45;&gt;ENSG00000105991 -->\n",
       "<g id=\"edge112\" class=\"edge\">\n",
       "<title>TLE5&#45;&gt;ENSG00000105991</title>\n",
       "<path fill=\"none\" stroke=\"black\" d=\"M840.83,-514.91C780.38,-503.53 649.15,-478.84 568.67,-463.7\"/>\n",
       "</g>\n",
       "<!-- PARVG -->\n",
       "<g id=\"node45\" class=\"node\">\n",
       "<title>PARVG</title>\n",
       "<ellipse fill=\"lightgray\" stroke=\"black\" cx=\"1264.19\" cy=\"-450\" rx=\"42.49\" ry=\"18\"/>\n",
       "<text text-anchor=\"middle\" x=\"1264.19\" y=\"-446.3\" font-family=\"Times,serif\" font-size=\"14.00\">PARVG</text>\n",
       "</g>\n",
       "<!-- TLE5&#45;&gt;PARVG -->\n",
       "<g id=\"edge113\" class=\"edge\">\n",
       "<title>TLE5&#45;&gt;PARVG</title>\n",
       "<path fill=\"none\" stroke=\"black\" d=\"M905.72,-515.22C960.36,-505.51 1074.05,-485.27 1170.19,-468 1188.48,-464.72 1208.75,-461.05 1225.78,-457.97\"/>\n",
       "</g>\n",
       "<!-- TLE5&#45;&gt;DVL3 -->\n",
       "<g id=\"edge114\" class=\"edge\">\n",
       "<title>TLE5&#45;&gt;DVL3</title>\n",
       "<path fill=\"none\" stroke=\"black\" d=\"M876.09,-503.87C880.7,-476.58 889.67,-423.52 894.29,-396.19\"/>\n",
       "</g>\n",
       "<!-- TLE5&#45;&gt;IRX2 -->\n",
       "<g id=\"edge70\" class=\"edge\">\n",
       "<title>TLE5&#45;&gt;IRX2</title>\n",
       "<path fill=\"none\" stroke=\"black\" d=\"M885.83,-504.99C907.45,-477.57 951.31,-421.97 972.78,-394.74\"/>\n",
       "</g>\n",
       "<!-- TLE5&#45;&gt;ABI2 -->\n",
       "<g id=\"edge82\" class=\"edge\">\n",
       "<title>TLE5&#45;&gt;ABI2</title>\n",
       "<path fill=\"none\" stroke=\"black\" d=\"M838.24,-519.81C732.13,-515.85 419.14,-501.4 389.19,-468 378.51,-456.09 384.71,-447.36 389.19,-432 394.52,-413.78 406.87,-414.22 412.19,-396 416.68,-380.64 412.8,-375.99 412.19,-360 411.74,-348.01 410.72,-334.53 409.82,-324.17\"/>\n",
       "</g>\n",
       "<!-- ZBTB24 -->\n",
       "<g id=\"node54\" class=\"node\">\n",
       "<title>ZBTB24</title>\n",
       "<ellipse fill=\"lightgray\" stroke=\"black\" cx=\"822.19\" cy=\"-450\" rx=\"48.19\" ry=\"18\"/>\n",
       "<text text-anchor=\"middle\" x=\"822.19\" y=\"-446.3\" font-family=\"Times,serif\" font-size=\"14.00\">ZBTB24</text>\n",
       "</g>\n",
       "<!-- TLE5&#45;&gt;ZBTB24 -->\n",
       "<g id=\"edge76\" class=\"edge\">\n",
       "<title>TLE5&#45;&gt;ZBTB24</title>\n",
       "<path fill=\"none\" stroke=\"black\" d=\"M861.37,-504.76C853.24,-493.62 842.5,-478.87 834.31,-467.63\"/>\n",
       "</g>\n",
       "<!-- PRPF31 -->\n",
       "<g id=\"node55\" class=\"node\">\n",
       "<title>PRPF31</title>\n",
       "<ellipse fill=\"lightgray\" stroke=\"black\" cx=\"708.19\" cy=\"-450\" rx=\"48.19\" ry=\"18\"/>\n",
       "<text text-anchor=\"middle\" x=\"708.19\" y=\"-446.3\" font-family=\"Times,serif\" font-size=\"14.00\">PRPF31</text>\n",
       "</g>\n",
       "<!-- TLE5&#45;&gt;PRPF31 -->\n",
       "<g id=\"edge78\" class=\"edge\">\n",
       "<title>TLE5&#45;&gt;PRPF31</title>\n",
       "<path fill=\"none\" stroke=\"black\" d=\"M847.05,-509.91C817.61,-497.42 769.82,-477.15 738.7,-463.94\"/>\n",
       "</g>\n",
       "<!-- FOXN1 -->\n",
       "<g id=\"node56\" class=\"node\">\n",
       "<title>FOXN1</title>\n",
       "<ellipse fill=\"lightgray\" stroke=\"black\" cx=\"359.19\" cy=\"-378\" rx=\"44.39\" ry=\"18\"/>\n",
       "<text text-anchor=\"middle\" x=\"359.19\" y=\"-374.3\" font-family=\"Times,serif\" font-size=\"14.00\">FOXN1</text>\n",
       "</g>\n",
       "<!-- TLE5&#45;&gt;FOXN1 -->\n",
       "<g id=\"edge80\" class=\"edge\">\n",
       "<title>TLE5&#45;&gt;FOXN1</title>\n",
       "<path fill=\"none\" stroke=\"black\" d=\"M838.24,-520.07C727.29,-516.76 388.5,-503.79 356.19,-468 338.69,-448.61 345.6,-416.03 352.32,-396.13\"/>\n",
       "</g>\n",
       "<!-- ENSG00000105991&#45;&gt;PITX2 -->\n",
       "<g id=\"edge36\" class=\"edge\">\n",
       "<title>ENSG00000105991&#45;&gt;PITX2</title>\n",
       "<path fill=\"none\" stroke=\"black\" d=\"M580.05,-438.3C634.52,-429.76 708.22,-415.9 771.19,-396 808.76,-384.13 814.61,-371.82 852.19,-360 932.52,-334.74 964.41,-364.57 1038.19,-324 1070.4,-306.29 1097.44,-271.87 1111.59,-251.41\"/>\n",
       "</g>\n",
       "<!-- ENSG00000105991&#45;&gt;KRT34 -->\n",
       "<g id=\"edge100\" class=\"edge\">\n",
       "<title>ENSG00000105991&#45;&gt;KRT34</title>\n",
       "<path fill=\"none\" stroke=\"black\" d=\"M501.19,-431.7C501.19,-420.85 501.19,-406.92 501.19,-396.1\"/>\n",
       "</g>\n",
       "<!-- ENSG00000105991&#45;&gt;RBPMS -->\n",
       "<g id=\"edge105\" class=\"edge\">\n",
       "<title>ENSG00000105991&#45;&gt;RBPMS</title>\n",
       "<path fill=\"none\" stroke=\"black\" d=\"M412.45,-440.74C376.31,-433.6 336.1,-420.39 306.19,-396 283.38,-377.4 271.02,-344.26 265.29,-324.09\"/>\n",
       "</g>\n",
       "<!-- PTH1R -->\n",
       "<g id=\"node25\" class=\"node\">\n",
       "<title>PTH1R</title>\n",
       "<ellipse fill=\"lightgray\" stroke=\"black\" cx=\"781.19\" cy=\"-162\" rx=\"43.59\" ry=\"18\"/>\n",
       "<text text-anchor=\"middle\" x=\"781.19\" y=\"-158.3\" font-family=\"Times,serif\" font-size=\"14.00\">PTH1R</text>\n",
       "</g>\n",
       "<!-- ENSG00000105991&#45;&gt;PTH1R -->\n",
       "<g id=\"edge34\" class=\"edge\">\n",
       "<title>ENSG00000105991&#45;&gt;PTH1R</title>\n",
       "<path fill=\"none\" stroke=\"black\" d=\"M586.74,-439.83C645.78,-431.71 717.28,-417.71 738.19,-396 796.55,-335.41 789.11,-222.94 783.76,-180.14\"/>\n",
       "</g>\n",
       "<!-- ENSG00000105991&#45;&gt;FOXN1 -->\n",
       "<g id=\"edge85\" class=\"edge\">\n",
       "<title>ENSG00000105991&#45;&gt;FOXN1</title>\n",
       "<path fill=\"none\" stroke=\"black\" d=\"M468.26,-432.76C443.35,-420.49 409.57,-403.83 386.24,-392.33\"/>\n",
       "</g>\n",
       "<!-- NEDD9 -->\n",
       "<g id=\"node57\" class=\"node\">\n",
       "<title>NEDD9</title>\n",
       "<ellipse fill=\"lightgray\" stroke=\"black\" cx=\"683.19\" cy=\"-378\" rx=\"46.29\" ry=\"18\"/>\n",
       "<text text-anchor=\"middle\" x=\"683.19\" y=\"-374.3\" font-family=\"Times,serif\" font-size=\"14.00\">NEDD9</text>\n",
       "</g>\n",
       "<!-- ENSG00000105991&#45;&gt;NEDD9 -->\n",
       "<g id=\"edge83\" class=\"edge\">\n",
       "<title>ENSG00000105991&#45;&gt;NEDD9</title>\n",
       "<path fill=\"none\" stroke=\"black\" d=\"M542.04,-433.29C575.16,-420.55 621.16,-402.86 651.54,-391.18\"/>\n",
       "</g>\n",
       "<!-- PTH1R&#45;&gt;CTNNB1 -->\n",
       "<g id=\"edge35\" class=\"edge\">\n",
       "<title>PTH1R&#45;&gt;CTNNB1</title>\n",
       "<path fill=\"none\" stroke=\"black\" d=\"M817.78,-152.11C830.24,-149.27 844.28,-146.28 857.19,-144 986.24,-121.26 1139.79,-103.95 1216.87,-95.92\"/>\n",
       "</g>\n",
       "<!-- CDC73 -->\n",
       "<g id=\"node27\" class=\"node\">\n",
       "<title>CDC73</title>\n",
       "<ellipse fill=\"lightgray\" stroke=\"black\" cx=\"1032.19\" cy=\"-162\" rx=\"43.59\" ry=\"18\"/>\n",
       "<text text-anchor=\"middle\" x=\"1032.19\" y=\"-158.3\" font-family=\"Times,serif\" font-size=\"14.00\">CDC73</text>\n",
       "</g>\n",
       "<!-- TRIM23&#45;&gt;CDC73 -->\n",
       "<g id=\"edge39\" class=\"edge\">\n",
       "<title>TRIM23&#45;&gt;CDC73</title>\n",
       "<path fill=\"none\" stroke=\"black\" d=\"M987.35,-287.87C997.15,-260.58 1016.21,-207.52 1026.02,-180.19\"/>\n",
       "</g>\n",
       "<!-- CDC73&#45;&gt;CTNNB1 -->\n",
       "<g id=\"edge40\" class=\"edge\">\n",
       "<title>CDC73&#45;&gt;CTNNB1</title>\n",
       "<path fill=\"none\" stroke=\"black\" d=\"M1066.72,-150.67C1109.82,-137.78 1183.29,-115.8 1228.02,-102.42\"/>\n",
       "</g>\n",
       "<!-- ATN1&#45;&gt;PITX2 -->\n",
       "<g id=\"edge42\" class=\"edge\">\n",
       "<title>ATN1&#45;&gt;PITX2</title>\n",
       "<path fill=\"none\" stroke=\"black\" d=\"M1598.56,-576.39C1575.07,-525.59 1504.32,-374.85 1485.19,-360 1429.33,-316.64 1393.48,-355.56 1330.19,-324 1307.89,-312.88 1309.02,-300.03 1287.19,-288 1245.04,-264.76 1191.12,-249.86 1156.62,-241.96\"/>\n",
       "</g>\n",
       "<!-- BAIAP2 -->\n",
       "<g id=\"node49\" class=\"node\">\n",
       "<title>BAIAP2</title>\n",
       "<ellipse fill=\"lightgray\" stroke=\"black\" cx=\"1745.19\" cy=\"-522\" rx=\"46.29\" ry=\"18\"/>\n",
       "<text text-anchor=\"middle\" x=\"1745.19\" y=\"-518.3\" font-family=\"Times,serif\" font-size=\"14.00\">BAIAP2</text>\n",
       "</g>\n",
       "<!-- ATN1&#45;&gt;BAIAP2 -->\n",
       "<g id=\"edge67\" class=\"edge\">\n",
       "<title>ATN1&#45;&gt;BAIAP2</title>\n",
       "<path fill=\"none\" stroke=\"black\" d=\"M1630.73,-580.65C1655.2,-568.32 1692.71,-549.43 1718.06,-536.67\"/>\n",
       "</g>\n",
       "<!-- MAPKAPK2 -->\n",
       "<g id=\"node30\" class=\"node\">\n",
       "<title>MAPKAPK2</title>\n",
       "<ellipse fill=\"lightgray\" stroke=\"black\" cx=\"902.19\" cy=\"-90\" rx=\"64.19\" ry=\"18\"/>\n",
       "<text text-anchor=\"middle\" x=\"902.19\" y=\"-86.3\" font-family=\"Times,serif\" font-size=\"14.00\">MAPKAPK2</text>\n",
       "</g>\n",
       "<!-- AKT1&#45;&gt;MAPKAPK2 -->\n",
       "<g id=\"edge44\" class=\"edge\">\n",
       "<title>AKT1&#45;&gt;MAPKAPK2</title>\n",
       "<path fill=\"none\" stroke=\"black\" d=\"M902.19,-143.7C902.19,-132.85 902.19,-118.92 902.19,-108.1\"/>\n",
       "</g>\n",
       "<!-- MAPKAPK2&#45;&gt;CSNK2B -->\n",
       "<g id=\"edge45\" class=\"edge\">\n",
       "<title>MAPKAPK2&#45;&gt;CSNK2B</title>\n",
       "<path fill=\"none\" stroke=\"black\" d=\"M902.19,-71.7C902.19,-60.85 902.19,-46.92 902.19,-36.1\"/>\n",
       "</g>\n",
       "<!-- SYNCRIP -->\n",
       "<g id=\"node32\" class=\"node\">\n",
       "<title>SYNCRIP</title>\n",
       "<ellipse fill=\"lightyellow\" stroke=\"black\" cx=\"1990.19\" cy=\"-522\" rx=\"53.89\" ry=\"18\"/>\n",
       "<text text-anchor=\"middle\" x=\"1990.19\" y=\"-518.3\" font-family=\"Times,serif\" font-size=\"14.00\">SYNCRIP</text>\n",
       "</g>\n",
       "<!-- VCAM1 -->\n",
       "<g id=\"node33\" class=\"node\">\n",
       "<title>VCAM1</title>\n",
       "<ellipse fill=\"lightgray\" stroke=\"black\" cx=\"1930.19\" cy=\"-450\" rx=\"45.49\" ry=\"18\"/>\n",
       "<text text-anchor=\"middle\" x=\"1930.19\" y=\"-446.3\" font-family=\"Times,serif\" font-size=\"14.00\">VCAM1</text>\n",
       "</g>\n",
       "<!-- SYNCRIP&#45;&gt;VCAM1 -->\n",
       "<g id=\"edge46\" class=\"edge\">\n",
       "<title>SYNCRIP&#45;&gt;VCAM1</title>\n",
       "<path fill=\"none\" stroke=\"black\" d=\"M1975.98,-504.41C1966.41,-493.25 1953.86,-478.6 1944.31,-467.47\"/>\n",
       "</g>\n",
       "<!-- HMGA1 -->\n",
       "<g id=\"node40\" class=\"node\">\n",
       "<title>HMGA1</title>\n",
       "<ellipse fill=\"lightgray\" stroke=\"black\" cx=\"2041.19\" cy=\"-450\" rx=\"47.39\" ry=\"18\"/>\n",
       "<text text-anchor=\"middle\" x=\"2041.19\" y=\"-446.3\" font-family=\"Times,serif\" font-size=\"14.00\">HMGA1</text>\n",
       "</g>\n",
       "<!-- SYNCRIP&#45;&gt;HMGA1 -->\n",
       "<g id=\"edge56\" class=\"edge\">\n",
       "<title>SYNCRIP&#45;&gt;HMGA1</title>\n",
       "<path fill=\"none\" stroke=\"black\" d=\"M2002.28,-504.41C2010.41,-493.25 2021.08,-478.6 2029.2,-467.47\"/>\n",
       "</g>\n",
       "<!-- HMGA2 -->\n",
       "<g id=\"node43\" class=\"node\">\n",
       "<title>HMGA2</title>\n",
       "<ellipse fill=\"lightgray\" stroke=\"black\" cx=\"2154.19\" cy=\"-450\" rx=\"47.39\" ry=\"18\"/>\n",
       "<text text-anchor=\"middle\" x=\"2154.19\" y=\"-446.3\" font-family=\"Times,serif\" font-size=\"14.00\">HMGA2</text>\n",
       "</g>\n",
       "<!-- SYNCRIP&#45;&gt;HMGA2 -->\n",
       "<g id=\"edge59\" class=\"edge\">\n",
       "<title>SYNCRIP&#45;&gt;HMGA2</title>\n",
       "<path fill=\"none\" stroke=\"black\" d=\"M2022.21,-507.34C2051.66,-494.76 2095.04,-476.25 2123.93,-463.92\"/>\n",
       "</g>\n",
       "<!-- VCAM1&#45;&gt;CSNK2B -->\n",
       "<g id=\"edge47\" class=\"edge\">\n",
       "<title>VCAM1&#45;&gt;CSNK2B</title>\n",
       "<path fill=\"none\" stroke=\"black\" d=\"M1950.08,-433.63C1961.18,-423.99 1974.32,-410.65 1982.19,-396 2001.34,-360.37 2001.19,-347.45 2001.19,-307 2001.19,-307 2001.19,-307 2001.19,-161 2001.19,-53.93 1170.07,-25.69 953.36,-20.15\"/>\n",
       "</g>\n",
       "<!-- DDX3X -->\n",
       "<g id=\"node39\" class=\"node\">\n",
       "<title>DDX3X</title>\n",
       "<ellipse fill=\"lightyellow\" stroke=\"black\" cx=\"1929.19\" cy=\"-378\" rx=\"44.39\" ry=\"18\"/>\n",
       "<text text-anchor=\"middle\" x=\"1929.19\" y=\"-374.3\" font-family=\"Times,serif\" font-size=\"14.00\">DDX3X</text>\n",
       "</g>\n",
       "<!-- VCAM1&#45;&gt;DDX3X -->\n",
       "<g id=\"edge55\" class=\"edge\">\n",
       "<title>VCAM1&#45;&gt;DDX3X</title>\n",
       "<path fill=\"none\" stroke=\"black\" d=\"M1929.95,-431.7C1929.79,-420.85 1929.59,-406.92 1929.44,-396.1\"/>\n",
       "</g>\n",
       "<!-- XRCC6 -->\n",
       "<g id=\"node41\" class=\"node\">\n",
       "<title>XRCC6</title>\n",
       "<ellipse fill=\"lightgray\" stroke=\"black\" cx=\"2074.19\" cy=\"-378\" rx=\"43.59\" ry=\"18\"/>\n",
       "<text text-anchor=\"middle\" x=\"2074.19\" y=\"-374.3\" font-family=\"Times,serif\" font-size=\"14.00\">XRCC6</text>\n",
       "</g>\n",
       "<!-- VCAM1&#45;&gt;XRCC6 -->\n",
       "<g id=\"edge61\" class=\"edge\">\n",
       "<title>VCAM1&#45;&gt;XRCC6</title>\n",
       "<path fill=\"none\" stroke=\"black\" d=\"M1957.96,-435.5C1983.62,-423.03 2021.53,-404.6 2047,-392.22\"/>\n",
       "</g>\n",
       "<!-- DLX3 -->\n",
       "<g id=\"node34\" class=\"node\">\n",
       "<title>DLX3</title>\n",
       "<ellipse fill=\"lightyellow\" stroke=\"black\" cx=\"499.19\" cy=\"-234\" rx=\"36.29\" ry=\"18\"/>\n",
       "<text text-anchor=\"middle\" x=\"499.19\" y=\"-230.3\" font-family=\"Times,serif\" font-size=\"14.00\">DLX3</text>\n",
       "</g>\n",
       "<!-- DLX3&#45;&gt;BANP -->\n",
       "<g id=\"edge48\" class=\"edge\">\n",
       "<title>DLX3&#45;&gt;BANP</title>\n",
       "<path fill=\"none\" stroke=\"black\" d=\"M523.46,-220.32C547.44,-207.79 583.97,-188.72 608.2,-176.06\"/>\n",
       "</g>\n",
       "<!-- BANP&#45;&gt;CSNK2B -->\n",
       "<g id=\"edge49\" class=\"edge\">\n",
       "<title>BANP&#45;&gt;CSNK2B</title>\n",
       "<path fill=\"none\" stroke=\"black\" d=\"M658.02,-147.9C708.48,-121.26 822.69,-60.97 875.05,-33.33\"/>\n",
       "</g>\n",
       "<!-- LHX8 -->\n",
       "<g id=\"node36\" class=\"node\">\n",
       "<title>LHX8</title>\n",
       "<ellipse fill=\"lightyellow\" stroke=\"black\" cx=\"590.19\" cy=\"-234\" rx=\"36.29\" ry=\"18\"/>\n",
       "<text text-anchor=\"middle\" x=\"590.19\" y=\"-230.3\" font-family=\"Times,serif\" font-size=\"14.00\">LHX8</text>\n",
       "</g>\n",
       "<!-- LHX8&#45;&gt;BANP -->\n",
       "<g id=\"edge50\" class=\"edge\">\n",
       "<title>LHX8&#45;&gt;BANP</title>\n",
       "<path fill=\"none\" stroke=\"black\" d=\"M600.39,-216.41C607.24,-205.25 616.24,-190.6 623.08,-179.47\"/>\n",
       "</g>\n",
       "<!-- TLX3&#45;&gt;CSNK2B -->\n",
       "<g id=\"edge52\" class=\"edge\">\n",
       "<title>TLX3&#45;&gt;CSNK2B</title>\n",
       "<path fill=\"none\" stroke=\"black\" d=\"M1679.92,-287.93C1682.21,-255.19 1682.14,-183.33 1643.19,-144 1546.24,-46.08 1104.72,-24.65 953.32,-20.15\"/>\n",
       "</g>\n",
       "<!-- PIK3R3&#45;&gt;PIK3CA -->\n",
       "<g id=\"edge54\" class=\"edge\">\n",
       "<title>PIK3R3&#45;&gt;PIK3CA</title>\n",
       "<path fill=\"none\" stroke=\"black\" d=\"M877.18,-288.05C882.37,-277.05 889.11,-262.76 894.28,-251.79\"/>\n",
       "</g>\n",
       "<!-- HMGA1&#45;&gt;XRCC6 -->\n",
       "<g id=\"edge57\" class=\"edge\">\n",
       "<title>HMGA1&#45;&gt;XRCC6</title>\n",
       "<path fill=\"none\" stroke=\"black\" d=\"M2049.18,-432.05C2054.37,-421.05 2061.11,-406.76 2066.28,-395.79\"/>\n",
       "</g>\n",
       "<!-- HOXC4 -->\n",
       "<g id=\"node42\" class=\"node\">\n",
       "<title>HOXC4</title>\n",
       "<ellipse fill=\"lightyellow\" stroke=\"black\" cx=\"2074.19\" cy=\"-306\" rx=\"44.69\" ry=\"18\"/>\n",
       "<text text-anchor=\"middle\" x=\"2074.19\" y=\"-302.3\" font-family=\"Times,serif\" font-size=\"14.00\">HOXC4</text>\n",
       "</g>\n",
       "<!-- XRCC6&#45;&gt;HOXC4 -->\n",
       "<g id=\"edge58\" class=\"edge\">\n",
       "<title>XRCC6&#45;&gt;HOXC4</title>\n",
       "<path fill=\"none\" stroke=\"black\" d=\"M2074.19,-359.7C2074.19,-348.85 2074.19,-334.92 2074.19,-324.1\"/>\n",
       "</g>\n",
       "<!-- HMGA2&#45;&gt;XRCC6 -->\n",
       "<g id=\"edge60\" class=\"edge\">\n",
       "<title>HMGA2&#45;&gt;XRCC6</title>\n",
       "<path fill=\"none\" stroke=\"black\" d=\"M2136.04,-433.12C2122.86,-421.58 2105.1,-406.05 2092,-394.58\"/>\n",
       "</g>\n",
       "<!-- ALX4 -->\n",
       "<g id=\"node44\" class=\"node\">\n",
       "<title>ALX4</title>\n",
       "<ellipse fill=\"lightyellow\" stroke=\"black\" cx=\"1264.19\" cy=\"-522\" rx=\"35.19\" ry=\"18\"/>\n",
       "<text text-anchor=\"middle\" x=\"1264.19\" y=\"-518.3\" font-family=\"Times,serif\" font-size=\"14.00\">ALX4</text>\n",
       "</g>\n",
       "<!-- ALX4&#45;&gt;PARVG -->\n",
       "<g id=\"edge62\" class=\"edge\">\n",
       "<title>ALX4&#45;&gt;PARVG</title>\n",
       "<path fill=\"none\" stroke=\"black\" d=\"M1264.19,-503.7C1264.19,-492.85 1264.19,-478.92 1264.19,-468.1\"/>\n",
       "</g>\n",
       "<!-- POLR2G -->\n",
       "<g id=\"node46\" class=\"node\">\n",
       "<title>POLR2G</title>\n",
       "<ellipse fill=\"lightgray\" stroke=\"black\" cx=\"1238.19\" cy=\"-378\" rx=\"50.09\" ry=\"18\"/>\n",
       "<text text-anchor=\"middle\" x=\"1238.19\" y=\"-374.3\" font-family=\"Times,serif\" font-size=\"14.00\">POLR2G</text>\n",
       "</g>\n",
       "<!-- PARVG&#45;&gt;POLR2G -->\n",
       "<g id=\"edge63\" class=\"edge\">\n",
       "<title>PARVG&#45;&gt;POLR2G</title>\n",
       "<path fill=\"none\" stroke=\"black\" d=\"M1257.9,-432.05C1253.87,-421.21 1248.66,-407.18 1244.61,-396.28\"/>\n",
       "</g>\n",
       "<!-- HOXC5 -->\n",
       "<g id=\"node47\" class=\"node\">\n",
       "<title>HOXC5</title>\n",
       "<ellipse fill=\"lightyellow\" stroke=\"black\" cx=\"1200.19\" cy=\"-306\" rx=\"44.69\" ry=\"18\"/>\n",
       "<text text-anchor=\"middle\" x=\"1200.19\" y=\"-302.3\" font-family=\"Times,serif\" font-size=\"14.00\">HOXC5</text>\n",
       "</g>\n",
       "<!-- POLR2G&#45;&gt;HOXC5 -->\n",
       "<g id=\"edge64\" class=\"edge\">\n",
       "<title>POLR2G&#45;&gt;HOXC5</title>\n",
       "<path fill=\"none\" stroke=\"black\" d=\"M1229,-360.05C1223.02,-349.05 1215.27,-334.76 1209.31,-323.79\"/>\n",
       "</g>\n",
       "<!-- DVL3&#45;&gt;HOXC5 -->\n",
       "<g id=\"edge66\" class=\"edge\">\n",
       "<title>DVL3&#45;&gt;HOXC5</title>\n",
       "<path fill=\"none\" stroke=\"black\" d=\"M924.7,-366.07C930.74,-363.88 937.14,-361.73 943.19,-360 1018.31,-338.51 1108.12,-322.03 1159.23,-313.49\"/>\n",
       "</g>\n",
       "<!-- HOXD8 -->\n",
       "<g id=\"node50\" class=\"node\">\n",
       "<title>HOXD8</title>\n",
       "<ellipse fill=\"lightyellow\" stroke=\"black\" cx=\"1746.19\" cy=\"-450\" rx=\"45.49\" ry=\"18\"/>\n",
       "<text text-anchor=\"middle\" x=\"1746.19\" y=\"-446.3\" font-family=\"Times,serif\" font-size=\"14.00\">HOXD8</text>\n",
       "</g>\n",
       "<!-- BAIAP2&#45;&gt;HOXD8 -->\n",
       "<g id=\"edge68\" class=\"edge\">\n",
       "<title>BAIAP2&#45;&gt;HOXD8</title>\n",
       "<path fill=\"none\" stroke=\"black\" d=\"M1745.44,-503.7C1745.6,-492.85 1745.8,-478.92 1745.95,-468.1\"/>\n",
       "</g>\n",
       "<!-- ABI2&#45;&gt;LHX8 -->\n",
       "<g id=\"edge72\" class=\"edge\">\n",
       "<title>ABI2&#45;&gt;LHX8</title>\n",
       "<path fill=\"none\" stroke=\"black\" d=\"M433.92,-294.48C439.29,-292.31 444.92,-290.07 450.19,-288 488.79,-272.88 533.64,-256.03 561.97,-245.47\"/>\n",
       "</g>\n",
       "<!-- KRT85&#45;&gt;LHX8 -->\n",
       "<g id=\"edge74\" class=\"edge\">\n",
       "<title>KRT85&#45;&gt;LHX8</title>\n",
       "<path fill=\"none\" stroke=\"black\" d=\"M520.51,-289.81C535.64,-277.91 556.57,-261.45 571.53,-249.68\"/>\n",
       "</g>\n",
       "<!-- ZBTB24&#45;&gt;LHX8 -->\n",
       "<g id=\"edge77\" class=\"edge\">\n",
       "<title>ZBTB24&#45;&gt;LHX8</title>\n",
       "<path fill=\"none\" stroke=\"black\" d=\"M786.06,-438.03C779.15,-435.98 771.96,-433.9 765.19,-432 704.58,-415 672.15,-441.07 628.19,-396 608.19,-375.49 596.29,-289.17 592.01,-252.07\"/>\n",
       "</g>\n",
       "<!-- ZBTB24&#45;&gt;DVL3 -->\n",
       "<g id=\"edge120\" class=\"edge\">\n",
       "<title>ZBTB24&#45;&gt;DVL3</title>\n",
       "<path fill=\"none\" stroke=\"black\" d=\"M839.21,-433.12C851.66,-421.5 868.45,-405.83 880.76,-394.34\"/>\n",
       "</g>\n",
       "<!-- PRPF31&#45;&gt;KRT34 -->\n",
       "<g id=\"edge102\" class=\"edge\">\n",
       "<title>PRPF31&#45;&gt;KRT34</title>\n",
       "<path fill=\"none\" stroke=\"black\" d=\"M673.55,-437.28C634.42,-424.05 571.25,-402.69 533.23,-389.83\"/>\n",
       "</g>\n",
       "<!-- PRPF31&#45;&gt;TRIM23 -->\n",
       "<g id=\"edge115\" class=\"edge\">\n",
       "<title>PRPF31&#45;&gt;TRIM23</title>\n",
       "<path fill=\"none\" stroke=\"black\" d=\"M730.47,-433.63C758.22,-414.88 807.43,-382.84 852.19,-360 883.68,-343.94 921.21,-328.96 947.65,-319.05\"/>\n",
       "</g>\n",
       "<!-- PRPF31&#45;&gt;LHX8 -->\n",
       "<g id=\"edge79\" class=\"edge\">\n",
       "<title>PRPF31&#45;&gt;LHX8</title>\n",
       "<path fill=\"none\" stroke=\"black\" d=\"M673.62,-437.31C643.9,-426.5 604.42,-410.03 595.19,-396 565.85,-351.37 577.51,-283.71 585.32,-252.24\"/>\n",
       "</g>\n",
       "<!-- PRPF31&#45;&gt;DVL3 -->\n",
       "<g id=\"edge121\" class=\"edge\">\n",
       "<title>PRPF31&#45;&gt;DVL3</title>\n",
       "<path fill=\"none\" stroke=\"black\" d=\"M741.12,-436.81C777.29,-423.41 834.78,-402.12 868.96,-389.46\"/>\n",
       "</g>\n",
       "<!-- FOXN1&#45;&gt;LHX8 -->\n",
       "<g id=\"edge81\" class=\"edge\">\n",
       "<title>FOXN1&#45;&gt;LHX8</title>\n",
       "<path fill=\"none\" stroke=\"black\" d=\"M355.05,-359.94C351.34,-340.11 348.83,-307.61 366.19,-288 419.71,-227.58 466.55,-274.06 544.19,-252 550.26,-250.28 556.66,-248.13 562.69,-245.95\"/>\n",
       "</g>\n",
       "<!-- NEDD9&#45;&gt;RBPMS -->\n",
       "<g id=\"edge107\" class=\"edge\">\n",
       "<title>NEDD9&#45;&gt;RBPMS</title>\n",
       "<path fill=\"none\" stroke=\"black\" d=\"M641.58,-370.1C560.79,-356.7 383.6,-327.3 302.81,-313.9\"/>\n",
       "</g>\n",
       "<!-- NEDD9&#45;&gt;TRIM23 -->\n",
       "<g id=\"edge116\" class=\"edge\">\n",
       "<title>NEDD9&#45;&gt;TRIM23</title>\n",
       "<path fill=\"none\" stroke=\"black\" d=\"M723.49,-369.08C771.52,-359.42 854.1,-342.13 924.19,-324 931.09,-322.22 938.41,-320.16 945.43,-318.1\"/>\n",
       "</g>\n",
       "<!-- NEDD9&#45;&gt;BANP -->\n",
       "<g id=\"edge118\" class=\"edge\">\n",
       "<title>NEDD9&#45;&gt;BANP</title>\n",
       "<path fill=\"none\" stroke=\"black\" d=\"M679.19,-359.85C669.8,-319.68 646.49,-219.89 637.15,-179.94\"/>\n",
       "</g>\n",
       "<!-- NEDD9&#45;&gt;LHX8 -->\n",
       "<g id=\"edge84\" class=\"edge\">\n",
       "<title>NEDD9&#45;&gt;LHX8</title>\n",
       "<path fill=\"none\" stroke=\"black\" d=\"M672.34,-360.43C654.42,-333.07 618.85,-278.75 600.98,-251.46\"/>\n",
       "</g>\n",
       "<!-- NEDD9&#45;&gt;PIK3R3 -->\n",
       "<g id=\"edge119\" class=\"edge\">\n",
       "<title>NEDD9&#45;&gt;PIK3R3</title>\n",
       "<path fill=\"none\" stroke=\"black\" d=\"M715.17,-364.97C749.24,-352.15 802.87,-331.96 837.02,-319.11\"/>\n",
       "</g>\n",
       "<!-- RUNX2 -->\n",
       "<g id=\"node58\" class=\"node\">\n",
       "<title>RUNX2</title>\n",
       "<ellipse fill=\"lightyellow\" stroke=\"black\" cx=\"2199.19\" cy=\"-666\" rx=\"45.49\" ry=\"18\"/>\n",
       "<text text-anchor=\"middle\" x=\"2199.19\" y=\"-662.3\" font-family=\"Times,serif\" font-size=\"14.00\">RUNX2</text>\n",
       "</g>\n",
       "<!-- FOS -->\n",
       "<g id=\"node59\" class=\"node\">\n",
       "<title>FOS</title>\n",
       "<ellipse fill=\"lightgray\" stroke=\"black\" cx=\"2199.19\" cy=\"-594\" rx=\"30.59\" ry=\"18\"/>\n",
       "<text text-anchor=\"middle\" x=\"2199.19\" y=\"-590.3\" font-family=\"Times,serif\" font-size=\"14.00\">FOS</text>\n",
       "</g>\n",
       "<!-- RUNX2&#45;&gt;FOS -->\n",
       "<g id=\"edge86\" class=\"edge\">\n",
       "<title>RUNX2&#45;&gt;FOS</title>\n",
       "<path fill=\"none\" stroke=\"black\" d=\"M2199.19,-647.7C2199.19,-636.85 2199.19,-622.92 2199.19,-612.1\"/>\n",
       "</g>\n",
       "<!-- MAF -->\n",
       "<g id=\"node60\" class=\"node\">\n",
       "<title>MAF</title>\n",
       "<ellipse fill=\"lightyellow\" stroke=\"black\" cx=\"2199.19\" cy=\"-522\" rx=\"32.49\" ry=\"18\"/>\n",
       "<text text-anchor=\"middle\" x=\"2199.19\" y=\"-518.3\" font-family=\"Times,serif\" font-size=\"14.00\">MAF</text>\n",
       "</g>\n",
       "<!-- FOS&#45;&gt;MAF -->\n",
       "<g id=\"edge87\" class=\"edge\">\n",
       "<title>FOS&#45;&gt;MAF</title>\n",
       "<path fill=\"none\" stroke=\"black\" d=\"M2199.19,-575.7C2199.19,-564.85 2199.19,-550.92 2199.19,-540.1\"/>\n",
       "</g>\n",
       "<!-- PSMA3&#45;&gt;VCAM1 -->\n",
       "<g id=\"edge117\" class=\"edge\">\n",
       "<title>PSMA3&#45;&gt;VCAM1</title>\n",
       "<path fill=\"none\" stroke=\"black\" d=\"M1669.76,-509.93C1676.5,-507.85 1683.55,-505.78 1690.19,-504 1759.86,-485.38 1842.14,-468.25 1890.02,-458.75\"/>\n",
       "</g>\n",
       "<!-- OSR2 -->\n",
       "<g id=\"node62\" class=\"node\">\n",
       "<title>OSR2</title>\n",
       "<ellipse fill=\"lightyellow\" stroke=\"black\" cx=\"1645.19\" cy=\"-450\" rx=\"37.09\" ry=\"18\"/>\n",
       "<text text-anchor=\"middle\" x=\"1645.19\" y=\"-446.3\" font-family=\"Times,serif\" font-size=\"14.00\">OSR2</text>\n",
       "</g>\n",
       "<!-- PSMA3&#45;&gt;OSR2 -->\n",
       "<g id=\"edge89\" class=\"edge\">\n",
       "<title>PSMA3&#45;&gt;OSR2</title>\n",
       "<path fill=\"none\" stroke=\"black\" d=\"M1638.42,-503.7C1639.81,-492.85 1641.61,-478.92 1643,-468.1\"/>\n",
       "</g>\n",
       "<!-- PAX3 -->\n",
       "<g id=\"node64\" class=\"node\">\n",
       "<title>PAX3</title>\n",
       "<ellipse fill=\"lightyellow\" stroke=\"black\" cx=\"2096.19\" cy=\"-522\" rx=\"34.39\" ry=\"18\"/>\n",
       "<text text-anchor=\"middle\" x=\"2096.19\" y=\"-518.3\" font-family=\"Times,serif\" font-size=\"14.00\">PAX3</text>\n",
       "</g>\n",
       "<!-- IPO13&#45;&gt;PAX3 -->\n",
       "<g id=\"edge91\" class=\"edge\">\n",
       "<title>IPO13&#45;&gt;PAX3</title>\n",
       "<path fill=\"none\" stroke=\"black\" d=\"M2082.55,-576.05C2085.34,-565.21 2088.95,-551.18 2091.75,-540.28\"/>\n",
       "</g>\n",
       "<!-- ATM -->\n",
       "<g id=\"node65\" class=\"node\">\n",
       "<title>ATM</title>\n",
       "<ellipse fill=\"lightyellow\" stroke=\"black\" cx=\"2294.19\" cy=\"-666\" rx=\"31.7\" ry=\"18\"/>\n",
       "<text text-anchor=\"middle\" x=\"2294.19\" y=\"-662.3\" font-family=\"Times,serif\" font-size=\"14.00\">ATM</text>\n",
       "</g>\n",
       "<!-- ADGRB3 -->\n",
       "<g id=\"node66\" class=\"node\">\n",
       "<title>ADGRB3</title>\n",
       "<ellipse fill=\"lightgray\" stroke=\"black\" cx=\"2395.19\" cy=\"-666\" rx=\"51.19\" ry=\"18\"/>\n",
       "<text text-anchor=\"middle\" x=\"2395.19\" y=\"-662.3\" font-family=\"Times,serif\" font-size=\"14.00\">ADGRB3</text>\n",
       "</g>\n",
       "<!-- EMX2 -->\n",
       "<g id=\"node67\" class=\"node\">\n",
       "<title>EMX2</title>\n",
       "<ellipse fill=\"lightyellow\" stroke=\"black\" cx=\"2503.19\" cy=\"-666\" rx=\"38.99\" ry=\"18\"/>\n",
       "<text text-anchor=\"middle\" x=\"2503.19\" y=\"-662.3\" font-family=\"Times,serif\" font-size=\"14.00\">EMX2</text>\n",
       "</g>\n",
       "<!-- PRRX1 -->\n",
       "<g id=\"node68\" class=\"node\">\n",
       "<title>PRRX1</title>\n",
       "<ellipse fill=\"lightyellow\" stroke=\"black\" cx=\"2603.19\" cy=\"-666\" rx=\"42.79\" ry=\"18\"/>\n",
       "<text text-anchor=\"middle\" x=\"2603.19\" y=\"-662.3\" font-family=\"Times,serif\" font-size=\"14.00\">PRRX1</text>\n",
       "</g>\n",
       "</g>\n",
       "</svg>\n"
      ],
      "text/plain": [
       "<graphviz.graphs.Digraph at 0x779f75227d30>"
      ]
     },
     "metadata": {},
     "output_type": "display_data"
    }
   ],
   "source": [
    "wnt_visualizer = NetworkVisualizer(wnt_net,color_by='effect', noi=True)\n",
    "output = figures_folder + \"WNT_HURI\"\n",
    "wnt_visualizer.render(output_file=output)"
   ]
  },
  {
   "cell_type": "markdown",
   "id": "0287fd77-4336-42b1-ae8b-5383cfa07c02",
   "metadata": {},
   "source": [
    "# Exporting Network in sif file"
   ]
  },
  {
   "cell_type": "markdown",
   "id": "ce9f98e4-671d-4484-ac3d-5fd3a6a45132",
   "metadata": {},
   "source": [
    "In order to export a fully connected network in sif file, I remove the nodes that are not connected"
   ]
  },
  {
   "cell_type": "code",
   "execution_count": 27,
   "id": "81c8732d-ad64-4ffd-ba51-a7d6e473f2ae",
   "metadata": {},
   "outputs": [],
   "source": [
    "from neko._outputs.exports import Exports"
   ]
  },
  {
   "cell_type": "code",
   "execution_count": 28,
   "id": "ffb1708e-906b-4d29-82ee-48730c170f5a",
   "metadata": {},
   "outputs": [],
   "source": [
    "wnt_net.remove_node(\"HOXD13\")"
   ]
  },
  {
   "cell_type": "code",
   "execution_count": 29,
   "id": "c1fda4aa-2462-4301-bdf0-390b581954a6",
   "metadata": {},
   "outputs": [],
   "source": [
    "wnt_net.remove_node(\"HOXD9\")"
   ]
  },
  {
   "cell_type": "code",
   "execution_count": 30,
   "id": "17529d86-4ab4-4170-97ca-fe69e9d59782",
   "metadata": {},
   "outputs": [],
   "source": [
    "export = Exports(wnt_net)"
   ]
  },
  {
   "cell_type": "code",
   "execution_count": 31,
   "id": "fb6a5d33-c0d2-419e-9570-689f95c2d5f7",
   "metadata": {},
   "outputs": [],
   "source": [
    "export.export_sif(sif_output + \"WNT_signor.sif\")"
   ]
  }
 ],
 "metadata": {
  "kernelspec": {
   "display_name": "Python 3 (ipykernel)",
   "language": "python",
   "name": "python3"
  },
  "language_info": {
   "codemirror_mode": {
    "name": "ipython",
    "version": 3
   },
   "file_extension": ".py",
   "mimetype": "text/x-python",
   "name": "python",
   "nbconvert_exporter": "python",
   "pygments_lexer": "ipython3",
   "version": "3.10.14"
  }
 },
 "nbformat": 4,
 "nbformat_minor": 5
}
