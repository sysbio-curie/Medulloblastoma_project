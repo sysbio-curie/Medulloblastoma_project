{
 "cells": [
  {
   "cell_type": "markdown",
   "id": "1d7eab9a-1823-4fe4-b043-15d998451824",
   "metadata": {},
   "source": [
    "The networks found with Signor and Omnipath present some dicsonnected components (ax: HOXD9 and HOXD13).\n",
    "Moreover, the network found with signor, introduced some complexes (C92, C6, C143...) that are missing the complementary gene/s.\n",
    "In the following notebook, using the different strategies available in NeKo, we will try to complete the network using both SIGNOR and Omnipath."
   ]
  },
  {
   "cell_type": "code",
   "execution_count": 1,
   "id": "c00dbac4-6124-4149-a0ca-3d246b988732",
   "metadata": {},
   "outputs": [],
   "source": [
    "from neko.core.network import Network\n",
    "from neko._visual.visualize_network import NetworkVisualizer\n",
    "from neko._inputs.resources import Resources\n",
    "from neko._annotations.gene_ontology import Ontology\n",
    "import omnipath as op\n",
    "import pandas as pd\n",
    "from neko._methods.compare import compare_networks\n",
    "from yfiles_jupyter_graphs import GraphWidget"
   ]
  },
  {
   "cell_type": "code",
   "execution_count": 2,
   "id": "e286e8f4-a99d-4024-b99b-033f8d23fa84",
   "metadata": {},
   "outputs": [],
   "source": [
    "data_folder = \"../../data/\"\n",
    "\n",
    "figures_folder = \"../../Figures/\"\n",
    "\n",
    "sif_output = \"../../sif_files/\""
   ]
  },
  {
   "cell_type": "code",
   "execution_count": 3,
   "id": "273e8486-0a5f-4d59-853c-a35f88d08733",
   "metadata": {},
   "outputs": [],
   "source": [
    "resources_signor = Resources()\n",
    "resources_signor.import_signor_tsv(data_folder + \"signor_db.tsv\")"
   ]
  },
  {
   "cell_type": "code",
   "execution_count": 4,
   "id": "69b84c87-3de3-4ef9-99ae-617666276ba5",
   "metadata": {},
   "outputs": [],
   "source": [
    "omnipath = op.interactions.OmniPath().get()"
   ]
  },
  {
   "cell_type": "code",
   "execution_count": 5,
   "id": "727ef749-c942-4426-a3dd-757361ad6878",
   "metadata": {},
   "outputs": [],
   "source": [
    "sif_signor = sif_output + \"SHH/SHH_signor.sif\"\n",
    "SHH_signor = Network(sif_file=sif_signor, resources=resources_signor.interactions)"
   ]
  },
  {
   "cell_type": "code",
   "execution_count": 6,
   "id": "a1763b67-5f04-469d-a3be-04729653a9d1",
   "metadata": {},
   "outputs": [],
   "source": [
    "signor_initial_nodes = ['NFATC1', 'SUFU', 'ZIC1', 'YAP1', 'NHLH1', 'LDB1', 'INSM1', 'PCNT', 'POU3F3', 'NCOR2', 'CEBPA', 'SMO', 'SOX2', 'BCOR', 'TCF12', 'GLI2', 'RARB', 'PTCH1', 'ATOH1', 'SOX13', 'TGFBR1', 'PBX1']"
   ]
  },
  {
   "cell_type": "code",
   "execution_count": 7,
   "id": "80a34e67-a2a2-42a1-a5e3-04abff719da5",
   "metadata": {},
   "outputs": [],
   "source": [
    "shh_signor_visualizer = NetworkVisualizer(SHH_signor)\n",
    "shh_signor_visualizer.render(output_file=\"net_signor\", view=True, highlight_nodes=signor_initial_nodes)"
   ]
  },
  {
   "cell_type": "markdown",
   "id": "ecbb431c-3b7c-4890-9f6b-70f82de42dc7",
   "metadata": {},
   "source": [
    "The following are the complex introduced by the NeKo from the Signor database"
   ]
  },
  {
   "cell_type": "code",
   "execution_count": 8,
   "id": "247b6411-c4fe-4751-806a-cf47598a2786",
   "metadata": {},
   "outputs": [
    {
     "name": "stdout",
     "output_type": "stream",
     "text": [
      "SIGNOR-PF1\n",
      "SIGNOR-C13\n",
      "SIGNOR-PF18\n",
      "SIGNOR-FP6\n",
      "SIGNOR-C155\n",
      "SIGNOR-C14\n",
      "SIGNOR-C154\n",
      "SIGNOR-PF24\n",
      "SIGNOR-C15\n",
      "SIGNOR-FP2\n",
      "SIGNOR-PF27\n",
      "SIGNOR-PF72\n",
      "SIGNOR-PF84\n",
      "SIGNOR-C151\n"
     ]
    }
   ],
   "source": [
    "for node in SHH_signor.nodes[\"Genesymbol\"]:\n",
    "    if node.startswith(\"SIGNOR\"):\n",
    "        print(node)"
   ]
  },
  {
   "cell_type": "code",
   "execution_count": 9,
   "id": "ea5dae7d-6e8f-4634-bf92-f3995ffb684c",
   "metadata": {},
   "outputs": [],
   "source": [
    "signor_complexes = pd.read_csv(\"../../data/SIGNOR_complexes.csv\", sep=';')\n",
    "signor_pf = pd.read_csv(\"../../data/SIGNOR_PF.csv\", sep=\";\")"
   ]
  },
  {
   "cell_type": "code",
   "execution_count": 10,
   "id": "300d57da-7997-4470-b0fa-abc4f4de6653",
   "metadata": {},
   "outputs": [
    {
     "data": {
      "text/html": [
       "<div>\n",
       "<style scoped>\n",
       "    .dataframe tbody tr th:only-of-type {\n",
       "        vertical-align: middle;\n",
       "    }\n",
       "\n",
       "    .dataframe tbody tr th {\n",
       "        vertical-align: top;\n",
       "    }\n",
       "\n",
       "    .dataframe thead th {\n",
       "        text-align: right;\n",
       "    }\n",
       "</style>\n",
       "<table border=\"1\" class=\"dataframe\">\n",
       "  <thead>\n",
       "    <tr style=\"text-align: right;\">\n",
       "      <th></th>\n",
       "      <th>SIGNOR ID</th>\n",
       "      <th>PROT. FAMILY NAME</th>\n",
       "      <th>LIST OF ENTITIES</th>\n",
       "    </tr>\n",
       "  </thead>\n",
       "  <tbody>\n",
       "    <tr>\n",
       "      <th>0</th>\n",
       "      <td>SIGNOR-PF1</td>\n",
       "      <td>ERK1/2</td>\n",
       "      <td>P27361,  P28482</td>\n",
       "    </tr>\n",
       "    <tr>\n",
       "      <th>1</th>\n",
       "      <td>SIGNOR-PF2</td>\n",
       "      <td>LPAR</td>\n",
       "      <td>Q92633,  Q9HBW0,  Q9UBY5</td>\n",
       "    </tr>\n",
       "    <tr>\n",
       "      <th>2</th>\n",
       "      <td>SIGNOR-PF3</td>\n",
       "      <td>Ggamma</td>\n",
       "      <td>O14610,  O60262,  P50150,  P50151,  P59768,  P...</td>\n",
       "    </tr>\n",
       "    <tr>\n",
       "      <th>3</th>\n",
       "      <td>SIGNOR-PF4</td>\n",
       "      <td>Gbeta</td>\n",
       "      <td>O14775,  P16520,  P62873,  P62879,  Q9HAV0</td>\n",
       "    </tr>\n",
       "    <tr>\n",
       "      <th>4</th>\n",
       "      <td>SIGNOR-PF5</td>\n",
       "      <td>TGFb</td>\n",
       "      <td>P01137,  P10600,  P61812</td>\n",
       "    </tr>\n",
       "    <tr>\n",
       "      <th>...</th>\n",
       "      <td>...</td>\n",
       "      <td>...</td>\n",
       "      <td>...</td>\n",
       "    </tr>\n",
       "    <tr>\n",
       "      <th>85</th>\n",
       "      <td>SIGNOR-PF105</td>\n",
       "      <td>E2 conjugating enzyme</td>\n",
       "      <td>A0A1B0GUS4,  O00762,  O14933,  P49459,  P51668...</td>\n",
       "    </tr>\n",
       "    <tr>\n",
       "      <th>86</th>\n",
       "      <td>SIGNOR-PF106</td>\n",
       "      <td>RING E3 ligase</td>\n",
       "      <td>A0AVI4,  A1L020,  A6NCK2,  A6NCQ9,  A6NDI0,  A...</td>\n",
       "    </tr>\n",
       "    <tr>\n",
       "      <th>87</th>\n",
       "      <td>SIGNOR-PF107</td>\n",
       "      <td>RBR E3 ligase</td>\n",
       "      <td>O60260,  O95376,  P50876,  Q7Z419,  Q8IWT3,  Q...</td>\n",
       "    </tr>\n",
       "    <tr>\n",
       "      <th>88</th>\n",
       "      <td>SIGNOR-PF108</td>\n",
       "      <td>CGB Family</td>\n",
       "      <td>P0DN86,  P0DN87</td>\n",
       "    </tr>\n",
       "    <tr>\n",
       "      <th>89</th>\n",
       "      <td>SIGNOR-PF110</td>\n",
       "      <td>TUBAC Family</td>\n",
       "      <td>P0DPH7,  P0DPH8</td>\n",
       "    </tr>\n",
       "  </tbody>\n",
       "</table>\n",
       "<p>90 rows × 3 columns</p>\n",
       "</div>"
      ],
      "text/plain": [
       "       SIGNOR ID      PROT. FAMILY NAME  \\\n",
       "0     SIGNOR-PF1                 ERK1/2   \n",
       "1     SIGNOR-PF2                   LPAR   \n",
       "2     SIGNOR-PF3                 Ggamma   \n",
       "3     SIGNOR-PF4                  Gbeta   \n",
       "4     SIGNOR-PF5                   TGFb   \n",
       "..           ...                    ...   \n",
       "85  SIGNOR-PF105  E2 conjugating enzyme   \n",
       "86  SIGNOR-PF106         RING E3 ligase   \n",
       "87  SIGNOR-PF107          RBR E3 ligase   \n",
       "88  SIGNOR-PF108             CGB Family   \n",
       "89  SIGNOR-PF110           TUBAC Family   \n",
       "\n",
       "                                     LIST OF ENTITIES  \n",
       "0                                     P27361,  P28482  \n",
       "1                            Q92633,  Q9HBW0,  Q9UBY5  \n",
       "2   O14610,  O60262,  P50150,  P50151,  P59768,  P...  \n",
       "3          O14775,  P16520,  P62873,  P62879,  Q9HAV0  \n",
       "4                            P01137,  P10600,  P61812  \n",
       "..                                                ...  \n",
       "85  A0A1B0GUS4,  O00762,  O14933,  P49459,  P51668...  \n",
       "86  A0AVI4,  A1L020,  A6NCK2,  A6NCQ9,  A6NDI0,  A...  \n",
       "87  O60260,  O95376,  P50876,  Q7Z419,  Q8IWT3,  Q...  \n",
       "88                                    P0DN86,  P0DN87  \n",
       "89                                    P0DPH7,  P0DPH8  \n",
       "\n",
       "[90 rows x 3 columns]"
      ]
     },
     "execution_count": 10,
     "metadata": {},
     "output_type": "execute_result"
    }
   ],
   "source": [
    "signor_pf"
   ]
  },
  {
   "cell_type": "code",
   "execution_count": 11,
   "id": "53f04968-f898-4348-9e92-3db09bd82983",
   "metadata": {},
   "outputs": [
    {
     "data": {
      "text/html": [
       "<div>\n",
       "<style scoped>\n",
       "    .dataframe tbody tr th:only-of-type {\n",
       "        vertical-align: middle;\n",
       "    }\n",
       "\n",
       "    .dataframe tbody tr th {\n",
       "        vertical-align: top;\n",
       "    }\n",
       "\n",
       "    .dataframe thead th {\n",
       "        text-align: right;\n",
       "    }\n",
       "</style>\n",
       "<table border=\"1\" class=\"dataframe\">\n",
       "  <thead>\n",
       "    <tr style=\"text-align: right;\">\n",
       "      <th></th>\n",
       "      <th>SIGNOR ID</th>\n",
       "      <th>COMPLEX NAME</th>\n",
       "      <th>LIST OF ENTITIES</th>\n",
       "    </tr>\n",
       "  </thead>\n",
       "  <tbody>\n",
       "    <tr>\n",
       "      <th>0</th>\n",
       "      <td>SIGNOR-C1</td>\n",
       "      <td>NFY</td>\n",
       "      <td>P23511,  P25208,  Q13952</td>\n",
       "    </tr>\n",
       "    <tr>\n",
       "      <th>1</th>\n",
       "      <td>SIGNOR-C2</td>\n",
       "      <td>mTORC2</td>\n",
       "      <td>P42345,  P68104,  P85299,  Q6R327,  Q8TB45,  Q...</td>\n",
       "    </tr>\n",
       "    <tr>\n",
       "      <th>2</th>\n",
       "      <td>SIGNOR-C3</td>\n",
       "      <td>mTORC1</td>\n",
       "      <td>P42345,  Q8N122,  Q8TB45,  Q96B36,  Q9BVC4</td>\n",
       "    </tr>\n",
       "    <tr>\n",
       "      <th>3</th>\n",
       "      <td>SIGNOR-C5</td>\n",
       "      <td>SCF-betaTRCP</td>\n",
       "      <td>P63208,  Q13616,  Q9Y297</td>\n",
       "    </tr>\n",
       "    <tr>\n",
       "      <th>4</th>\n",
       "      <td>SIGNOR-C6</td>\n",
       "      <td>CBP/p300</td>\n",
       "      <td>Q09472,  Q92793</td>\n",
       "    </tr>\n",
       "    <tr>\n",
       "      <th>...</th>\n",
       "      <td>...</td>\n",
       "      <td>...</td>\n",
       "      <td>...</td>\n",
       "    </tr>\n",
       "    <tr>\n",
       "      <th>511</th>\n",
       "      <td>SIGNOR-C550</td>\n",
       "      <td>CORVET tethering complex</td>\n",
       "      <td>Q8N3P4,  Q8WUH2,  Q96AX1,  Q9H269,  Q9H270,  Q...</td>\n",
       "    </tr>\n",
       "    <tr>\n",
       "      <th>512</th>\n",
       "      <td>SIGNOR-C551</td>\n",
       "      <td>STX17-VAMP8 SNARE complex</td>\n",
       "      <td>O95721,  P56962,  Q9BV40</td>\n",
       "    </tr>\n",
       "    <tr>\n",
       "      <th>513</th>\n",
       "      <td>SIGNOR-C552</td>\n",
       "      <td>STK35/PDIK1L</td>\n",
       "      <td>Q8N165,  Q8TDR2</td>\n",
       "    </tr>\n",
       "    <tr>\n",
       "      <th>514</th>\n",
       "      <td>SIGNOR-C553</td>\n",
       "      <td>PAN2-PAN3 deadenylation complex</td>\n",
       "      <td>Q504Q3,  Q58A45</td>\n",
       "    </tr>\n",
       "    <tr>\n",
       "      <th>515</th>\n",
       "      <td>SIGNOR-C554</td>\n",
       "      <td>CPC</td>\n",
       "      <td>O15392,  Q53HL2,  Q96GD4,  Q9NQS7</td>\n",
       "    </tr>\n",
       "  </tbody>\n",
       "</table>\n",
       "<p>516 rows × 3 columns</p>\n",
       "</div>"
      ],
      "text/plain": [
       "       SIGNOR ID                     COMPLEX NAME  \\\n",
       "0      SIGNOR-C1                              NFY   \n",
       "1      SIGNOR-C2                           mTORC2   \n",
       "2      SIGNOR-C3                           mTORC1   \n",
       "3      SIGNOR-C5                     SCF-betaTRCP   \n",
       "4      SIGNOR-C6                         CBP/p300   \n",
       "..           ...                              ...   \n",
       "511  SIGNOR-C550         CORVET tethering complex   \n",
       "512  SIGNOR-C551        STX17-VAMP8 SNARE complex   \n",
       "513  SIGNOR-C552                     STK35/PDIK1L   \n",
       "514  SIGNOR-C553  PAN2-PAN3 deadenylation complex   \n",
       "515  SIGNOR-C554                              CPC   \n",
       "\n",
       "                                      LIST OF ENTITIES  \n",
       "0                             P23511,  P25208,  Q13952  \n",
       "1    P42345,  P68104,  P85299,  Q6R327,  Q8TB45,  Q...  \n",
       "2           P42345,  Q8N122,  Q8TB45,  Q96B36,  Q9BVC4  \n",
       "3                             P63208,  Q13616,  Q9Y297  \n",
       "4                                      Q09472,  Q92793  \n",
       "..                                                 ...  \n",
       "511  Q8N3P4,  Q8WUH2,  Q96AX1,  Q9H269,  Q9H270,  Q...  \n",
       "512                           O95721,  P56962,  Q9BV40  \n",
       "513                                    Q8N165,  Q8TDR2  \n",
       "514                                    Q504Q3,  Q58A45  \n",
       "515                  O15392,  Q53HL2,  Q96GD4,  Q9NQS7  \n",
       "\n",
       "[516 rows x 3 columns]"
      ]
     },
     "execution_count": 11,
     "metadata": {},
     "output_type": "execute_result"
    }
   ],
   "source": [
    "signor_complexes"
   ]
  },
  {
   "cell_type": "code",
   "execution_count": 12,
   "id": "597b286d-0f28-419a-96d2-126fa685e794",
   "metadata": {},
   "outputs": [
    {
     "name": "stdout",
     "output_type": "stream",
     "text": [
      "SIGNOR-C13 :  P19838,  Q04206 NfKb-p65/p50\n",
      "SIGNOR-C14 :  O14920,  O15111,  Q9Y6K9 IKK-complex\n",
      "SIGNOR-C15 :  O43741,  P54619,  P54646,  Q13131,  Q9UGI9,  Q9UGJ0,  Q9Y478 AMPK\n",
      "SIGNOR-C151 :  P63208,  Q6W2J9,  Q99496,  Q9BSM1 Noncanonical PRC1\n",
      "SIGNOR-C154 :  P01100,  P05412 AP1\n",
      "SIGNOR-C155 :  P63098,  Q08209 Calcineurin\n"
     ]
    }
   ],
   "source": [
    "for ID in signor_complexes[\"SIGNOR ID\"]:\n",
    "    if ID in SHH_signor.nodes[\"Genesymbol\"].to_list():\n",
    "        print(ID, ': ', signor_complexes.loc[signor_complexes[\"SIGNOR ID\"] == ID][\"LIST OF ENTITIES\"].item(), signor_complexes.loc[signor_complexes[\"SIGNOR ID\"] == ID][\"COMPLEX NAME\"].item())"
   ]
  },
  {
   "cell_type": "code",
   "execution_count": 13,
   "id": "7b12c7b7-e45f-4537-a0c8-9c6d0c551dea",
   "metadata": {},
   "outputs": [
    {
     "name": "stdout",
     "output_type": "stream",
     "text": [
      "SIGNOR-PF1 :  ERK1/2_family\n",
      "SIGNOR-PF18 :  PP2B_family\n",
      "SIGNOR-PF24 :  AKT_family\n",
      "SIGNOR-PF27 :  FOXO_family\n",
      "SIGNOR-PF72 :  α-Catenin_family\n",
      "SIGNOR-PF84 :  THR_family\n"
     ]
    }
   ],
   "source": [
    "for ID in signor_pf[\"SIGNOR ID\"]:\n",
    "    if ID in SHH_signor.nodes[\"Genesymbol\"].to_list():\n",
    "        print(ID, ': ', signor_pf.loc[signor_pf[\"SIGNOR ID\"] == ID][\"PROT. FAMILY NAME\"].item() + \"_family\")"
   ]
  },
  {
   "cell_type": "code",
   "execution_count": 14,
   "id": "e6556262-0f44-4cae-87d0-788c5c983728",
   "metadata": {},
   "outputs": [],
   "source": [
    "# Here I am adding all the nodes that are part of each complex in the network\n",
    "for ID in signor_complexes[\"SIGNOR ID\"]:\n",
    "    if ID in SHH_signor.nodes[\"Genesymbol\"].to_list():\n",
    "        nodes = [item.strip() for item in signor_complexes.loc[signor_complexes[\"SIGNOR ID\"] == ID][\"LIST OF ENTITIES\"].item().split(',')]\n",
    "        for node in nodes: SHH_signor.add_node(node)"
   ]
  },
  {
   "cell_type": "code",
   "execution_count": 15,
   "id": "3ffc5f7d-5992-48cd-98fa-5a7d3abb14d6",
   "metadata": {},
   "outputs": [],
   "source": [
    "# now I will use the function \"connect_nodes\" to search for direct connection between nodes (so paths with length 1)\n",
    "\n",
    "SHH_signor.connect_nodes(only_signed=True, consensus_only=False)"
   ]
  },
  {
   "cell_type": "code",
   "execution_count": 16,
   "id": "d48e8f64-2af2-4fac-a18c-0f6602dc1a54",
   "metadata": {},
   "outputs": [],
   "source": [
    "shh_signor_visualizer = NetworkVisualizer(SHH_signor)\n",
    "shh_signor_visualizer.render(output_file=\"net_signor\", view=True, highlight_nodes=signor_initial_nodes)"
   ]
  },
  {
   "cell_type": "markdown",
   "id": "bd0e0e5f-265e-4922-a7fb-878ba6c2cf54",
   "metadata": {},
   "source": [
    "Signor uses its own way to name complexes and protein families. In order to make the network easier to read, we ae going to change name to those nodes automatically using a specific function in NeKo: "
   ]
  },
  {
   "cell_type": "code",
   "execution_count": 17,
   "id": "97b2dc2e-e6b4-45b7-a975-42ac4399822f",
   "metadata": {},
   "outputs": [],
   "source": [
    "# Here I change the name of the complexes for better readability\n",
    "for ID in signor_complexes[\"SIGNOR ID\"]:\n",
    "    if ID in SHH_signor.nodes[\"Genesymbol\"].to_list():\n",
    "        new_name = signor_complexes.loc[signor_complexes[\"SIGNOR ID\"] == ID][\"COMPLEX NAME\"].item()\n",
    "        SHH_signor.modify_node_name(old_name=ID, new_name=new_name, type=\"both\")"
   ]
  },
  {
   "cell_type": "code",
   "execution_count": 18,
   "id": "2a0b1cea-055d-4044-94a5-714f9a9deb90",
   "metadata": {},
   "outputs": [],
   "source": [
    "# Here I change the name of the protein families for better readability\n",
    "for ID in signor_pf[\"SIGNOR ID\"]:\n",
    "    if ID in SHH_signor.nodes[\"Genesymbol\"].to_list():\n",
    "        new_name = signor_pf.loc[signor_pf[\"SIGNOR ID\"] == ID][\"PROT. FAMILY NAME\"].item() + \"_family\"\n",
    "        SHH_signor.modify_node_name(old_name=ID, new_name=new_name, type=\"both\")"
   ]
  },
  {
   "cell_type": "code",
   "execution_count": 19,
   "id": "b4dd077e-ee33-490c-af07-d58a42b48cea",
   "metadata": {},
   "outputs": [
    {
     "name": "stdout",
     "output_type": "stream",
     "text": [
      "['P19838', 'Q04206', 'O14920', 'O15111', 'Q9Y6K9', 'O43741', 'P54619', 'P54646', 'Q13131', 'Q9UGI9', 'Q9UGJ0', 'Q9Y478', 'P63208', 'Q6W2J9', 'Q99496', 'Q9BSM1', 'P01100', 'P05412', 'P63098', 'Q08209']\n"
     ]
    }
   ],
   "source": [
    "# and here I remove the nodes that form complexes but that have no sources (basically useless input)\n",
    "complexes_nodes = []\n",
    "for ID in signor_complexes[\"COMPLEX NAME\"]:\n",
    "    if ID in SHH_signor.nodes[\"Genesymbol\"].to_list():\n",
    "        nodes = [item.strip() for item in signor_complexes.loc[signor_complexes[\"COMPLEX NAME\"] == ID][\"LIST OF ENTITIES\"].item().split(',')]\n",
    "        complexes_nodes.extend(nodes)\n",
    "print(complexes_nodes)       \n",
    "for node in SHH_signor.nodes[\"Uniprot\"].unique():\n",
    "    if node in complexes_nodes:\n",
    "        if node not in SHH_signor.edges[\"target\"].unique():\n",
    "            SHH_signor.remove_node(node)"
   ]
  },
  {
   "cell_type": "code",
   "execution_count": 20,
   "id": "43faebdb-c116-4cf7-ba9a-512bdc1cb46e",
   "metadata": {},
   "outputs": [],
   "source": [
    "shh_signor_visualizer = NetworkVisualizer(SHH_signor)\n",
    "shh_signor_visualizer.render(output_file=\"net_signor\", view=True, highlight_nodes=signor_initial_nodes)"
   ]
  },
  {
   "cell_type": "code",
   "execution_count": 21,
   "id": "54abb32a-3382-4601-aa9d-40cb5d59c0d2",
   "metadata": {},
   "outputs": [],
   "source": [
    "from neko._outputs.exports import Exports"
   ]
  },
  {
   "cell_type": "code",
   "execution_count": 22,
   "id": "cf33b2ea-10c3-4380-8d53-c1cfa8cdfc2b",
   "metadata": {},
   "outputs": [],
   "source": [
    "export = Exports(SHH_signor)"
   ]
  },
  {
   "cell_type": "code",
   "execution_count": 23,
   "id": "04393fe3-2a2a-40d5-a148-d7adf4a92ada",
   "metadata": {},
   "outputs": [],
   "source": [
    "export.export_sif(sif_output + \"Signor_with_complexes_SHH.sif\")"
   ]
  },
  {
   "cell_type": "code",
   "execution_count": null,
   "id": "6d754bc1-095e-417e-8a00-2d02a5fcb02c",
   "metadata": {},
   "outputs": [],
   "source": []
  }
 ],
 "metadata": {
  "kernelspec": {
   "display_name": "Python 3 (ipykernel)",
   "language": "python",
   "name": "python3"
  },
  "language_info": {
   "codemirror_mode": {
    "name": "ipython",
    "version": 3
   },
   "file_extension": ".py",
   "mimetype": "text/x-python",
   "name": "python",
   "nbconvert_exporter": "python",
   "pygments_lexer": "ipython3",
   "version": "3.10.14"
  }
 },
 "nbformat": 4,
 "nbformat_minor": 5
}
