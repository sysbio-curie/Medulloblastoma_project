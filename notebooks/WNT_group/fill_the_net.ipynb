{
 "cells": [
  {
   "cell_type": "markdown",
   "id": "1d7eab9a-1823-4fe4-b043-15d998451824",
   "metadata": {},
   "source": [
    "The networks found with Signor and Omnipath present some dicsonnected components (ax: HOXD9 and HOXD13).\n",
    "Moreover, the network found with signor, introduced three complexes (C92, C6 and C143) that are missing the complementary gene/s.\n",
    "In the following notebook, using the different strategies available in NeKo, we will try to complete the network using both SIGNOR and Omnipath."
   ]
  },
  {
   "cell_type": "code",
   "execution_count": 34,
   "id": "c00dbac4-6124-4149-a0ca-3d246b988732",
   "metadata": {},
   "outputs": [],
   "source": [
    "from neko.core.network import Network\n",
    "from neko._visual.visualize_network import NetworkVisualizer\n",
    "from neko._inputs.resources import Resources\n",
    "from neko._annotations.gene_ontology import Ontology\n",
    "import omnipath as op\n",
    "import pandas as pd\n",
    "from neko._methods.compare import compare_networks\n",
    "from yfiles_jupyter_graphs import GraphWidget"
   ]
  },
  {
   "cell_type": "code",
   "execution_count": 35,
   "id": "e286e8f4-a99d-4024-b99b-033f8d23fa84",
   "metadata": {},
   "outputs": [],
   "source": [
    "data_folder = \"../../data/\"\n",
    "\n",
    "figures_folder = \"../../Figures/\"\n",
    "\n",
    "sif_output = \"../../sif_files/\""
   ]
  },
  {
   "cell_type": "code",
   "execution_count": 36,
   "id": "273e8486-0a5f-4d59-853c-a35f88d08733",
   "metadata": {},
   "outputs": [],
   "source": [
    "resources_signor = Resources()\n",
    "resources_signor.import_signor_tsv(data_folder + \"signor_db.tsv\")"
   ]
  },
  {
   "cell_type": "code",
   "execution_count": 37,
   "id": "69b84c87-3de3-4ef9-99ae-617666276ba5",
   "metadata": {},
   "outputs": [],
   "source": [
    "omnipath = op.interactions.OmniPath().get()"
   ]
  },
  {
   "cell_type": "code",
   "execution_count": 38,
   "id": "727ef749-c942-4426-a3dd-757361ad6878",
   "metadata": {},
   "outputs": [],
   "source": [
    "sif_signor = sif_output + \"WNT/WNT_signor.sif\"\n",
    "WNT_signor = Network(sif_file=sif_signor, resources=resources_signor.interactions)"
   ]
  },
  {
   "cell_type": "code",
   "execution_count": 39,
   "id": "a1763b67-5f04-469d-a3be-04729653a9d1",
   "metadata": {},
   "outputs": [],
   "source": [
    "signor_initial_nodes = [\"ZIC1\", \t\n",
    "\"PAX3\",\n",
    "\"MAF\",\n",
    "\"MSX2\",\t \t\n",
    "\"NKD1\",\t\n",
    "\"CSNK2B\", \t \t\n",
    "\"DDX3X\", \t\n",
    "\"EMX2\",\t\n",
    "\"LHX2\", \t\n",
    "\"TP53\", \t\n",
    "\"LEF1\", \t\n",
    "\"RUNX2\",\t\n",
    "\"SMARCA4\", \t\n",
    "\"CTNNB1\",\t\n",
    "\"NKD2\",\n",
    "\"HOXD13\", \t\n",
    "\"HOXD9\"]"
   ]
  },
  {
   "cell_type": "code",
   "execution_count": 40,
   "id": "80a34e67-a2a2-42a1-a5e3-04abff719da5",
   "metadata": {},
   "outputs": [],
   "source": [
    "wnt_signor_visualizer = NetworkVisualizer(WNT_signor)\n",
    "wnt_signor_visualizer.render(output_file=\"net_signor\", view=True, highlight_nodes=signor_initial_nodes)"
   ]
  },
  {
   "cell_type": "markdown",
   "id": "ecbb431c-3b7c-4890-9f6b-70f82de42dc7",
   "metadata": {},
   "source": [
    "The following are the complex introduced by the NeKo from the Signor database"
   ]
  },
  {
   "cell_type": "code",
   "execution_count": 41,
   "id": "e4554b53-f7eb-493f-9516-231fe2f02e5d",
   "metadata": {},
   "outputs": [],
   "source": [
    "c92_complex = [\"ACTL6A\", \"ARID1B\", \"ARID2\", \"ARID1A\", \"SMARCA4\", \"SMARCB1\", \"SMARCC1\", \"SMARCC2\", \"SMARCD1\", \"SMARCE1\"]\n",
    "\n",
    "c6_complex = [\"EP300\", \"CREBBP\"]\n",
    "\n",
    "c143_complex = [\"CDK6\", \"CCND1\"] "
   ]
  },
  {
   "cell_type": "code",
   "execution_count": 42,
   "id": "97e89ac6-2b90-421f-b610-66bac1687039",
   "metadata": {},
   "outputs": [],
   "source": [
    "# Here I am adding all the nodes that are part of the complex to the network\n",
    "\n",
    "for node in c92_complex:\n",
    "    WNT_signor.add_node(node)"
   ]
  },
  {
   "cell_type": "code",
   "execution_count": 43,
   "id": "3ffc5f7d-5992-48cd-98fa-5a7d3abb14d6",
   "metadata": {},
   "outputs": [],
   "source": [
    "# now I will use the function \"connect_nodes\" to search for direct connection between nodes (so paths with length 1)\n",
    "\n",
    "WNT_signor.connect_nodes(only_signed=True, consensus_only=False)"
   ]
  },
  {
   "cell_type": "code",
   "execution_count": 44,
   "id": "3490cba3-ecf0-4657-a12d-882f3ebfdb57",
   "metadata": {},
   "outputs": [],
   "source": [
    "# Here I am adding all the nodes that are part of the complex to the network\n",
    "\n",
    "for node in c6_complex:\n",
    "    WNT_signor.add_node(node)"
   ]
  },
  {
   "cell_type": "code",
   "execution_count": 45,
   "id": "744722ea-ea14-442a-9d49-60c8c2c96a5c",
   "metadata": {},
   "outputs": [],
   "source": [
    "# now I will use the function \"connect_nodes\" to search for direct connection between nodes (so paths with length 1)\n",
    "\n",
    "WNT_signor.connect_nodes(only_signed=True, consensus_only=False)"
   ]
  },
  {
   "cell_type": "code",
   "execution_count": 46,
   "id": "968c5699-be48-4a62-b195-b3780354b0a2",
   "metadata": {},
   "outputs": [],
   "source": [
    "# Here I am adding all the nodes that are part of the complex to the network\n",
    "\n",
    "for node in c143_complex:\n",
    "    WNT_signor.add_node(node)"
   ]
  },
  {
   "cell_type": "code",
   "execution_count": 47,
   "id": "29ca0281-7a16-4531-8135-42c8c0040f82",
   "metadata": {},
   "outputs": [],
   "source": [
    "# now I will use the function \"connect_nodes\" to search for direct connection between nodes (so paths with length 1)\n",
    "\n",
    "WNT_signor.connect_nodes(only_signed=True, consensus_only=False)"
   ]
  },
  {
   "cell_type": "code",
   "execution_count": 51,
   "id": "d48e8f64-2af2-4fac-a18c-0f6602dc1a54",
   "metadata": {},
   "outputs": [],
   "source": [
    "wnt_signor_visualizer = NetworkVisualizer(WNT_signor)\n",
    "wnt_signor_visualizer.render(output_file=\"net_signor\", view=True, highlight_nodes=signor_initial_nodes)"
   ]
  },
  {
   "cell_type": "markdown",
   "id": "bd0e0e5f-265e-4922-a7fb-878ba6c2cf54",
   "metadata": {},
   "source": [
    "Signor uses its own way to name complexes and protein families. In order to make the network easier to read, we ae going to change name to those nodes automatically using a specific function in NeKo: "
   ]
  },
  {
   "cell_type": "code",
   "execution_count": 50,
   "id": "98b000b4-fd20-4977-bfd7-125967bf329e",
   "metadata": {},
   "outputs": [],
   "source": [
    "WNT_signor.modify_node_name(old_name=\"SIGNOR-C92\", new_name=\"SWI/SNF\", type=\"both\")\n",
    "WNT_signor.modify_node_name(old_name=\"SIGNOR-C6\", new_name=\"CBP/p300\", type=\"both\")\n",
    "WNT_signor.modify_node_name(old_name=\"SIGNOR-C143\", new_name=\"CyclinD1/CDK6\", type=\"both\")\n",
    "WNT_signor.modify_node_name(old_name=\"SIGNOR-PF26\", new_name=\"RPS6K-family\", type=\"both\")"
   ]
  },
  {
   "cell_type": "code",
   "execution_count": null,
   "id": "97b2dc2e-e6b4-45b7-a975-42ac4399822f",
   "metadata": {},
   "outputs": [],
   "source": []
  }
 ],
 "metadata": {
  "kernelspec": {
   "display_name": "Python 3 (ipykernel)",
   "language": "python",
   "name": "python3"
  },
  "language_info": {
   "codemirror_mode": {
    "name": "ipython",
    "version": 3
   },
   "file_extension": ".py",
   "mimetype": "text/x-python",
   "name": "python",
   "nbconvert_exporter": "python",
   "pygments_lexer": "ipython3",
   "version": "3.10.14"
  }
 },
 "nbformat": 4,
 "nbformat_minor": 5
}
