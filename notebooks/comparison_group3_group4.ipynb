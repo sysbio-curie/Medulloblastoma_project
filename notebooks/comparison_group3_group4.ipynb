{
 "cells": [
  {
   "cell_type": "markdown",
   "id": "61c4effb-0e4b-47af-8c4f-76ef7939cf54",
   "metadata": {},
   "source": [
    "The objective of this notebook is to compare the networks' topologies to find common players and/or common interaction among the different subgroups of Medulloblastoma."
   ]
  },
  {
   "cell_type": "markdown",
   "id": "54a70bc6-d299-40c9-960f-36d913f7dc53",
   "metadata": {},
   "source": [
    "During the process of activity flow inference, genes in common with all the subgroups have been included. So those genes of course will pop out during the analysis..."
   ]
  },
  {
   "cell_type": "code",
   "execution_count": 5,
   "id": "be473e9e-0e08-4c3b-897b-e8e8a64a0f6e",
   "metadata": {},
   "outputs": [],
   "source": [
    "from neko.core.network import Network\n",
    "from neko._visual.visualize_network import NetworkVisualizer\n",
    "from neko._inputs.resources import Resources\n",
    "from neko._annotations.gene_ontology import Ontology\n",
    "import omnipath as op\n",
    "import pandas as pd\n",
    "from neko._methods.compare import compare_networks\n",
    "from yfiles_jupyter_graphs import GraphWidget"
   ]
  },
  {
   "cell_type": "code",
   "execution_count": 6,
   "id": "843f216c-61a8-4a2f-ae6c-262a39d1e132",
   "metadata": {},
   "outputs": [],
   "source": [
    "data_folder = \"../data/\"\n",
    "\n",
    "figures_folder = \"../Figures/\"\n",
    "\n",
    "sif_output = \"../sif_files/\""
   ]
  },
  {
   "cell_type": "markdown",
   "id": "c53c768c-aa52-4733-8673-0c864bd121ba",
   "metadata": {},
   "source": [
    "importing resources:"
   ]
  },
  {
   "cell_type": "code",
   "execution_count": 7,
   "id": "faefa5fd-66c1-413e-906d-d6022d51826d",
   "metadata": {},
   "outputs": [],
   "source": [
    "resources_signor = Resources()\n",
    "resources_signor.import_signor_tsv(data_folder + \"signor_db.tsv\")"
   ]
  },
  {
   "cell_type": "code",
   "execution_count": 8,
   "id": "620ff54f-9f5c-40ad-a777-e912dd977357",
   "metadata": {},
   "outputs": [],
   "source": [
    "omnipath = op.interactions.OmniPath().get()"
   ]
  },
  {
   "cell_type": "markdown",
   "id": "97cc5a1c-54aa-4c49-8d0e-d231307efead",
   "metadata": {},
   "source": [
    "importing the WNT networks inferred from signor and omnipath"
   ]
  },
  {
   "cell_type": "code",
   "execution_count": 10,
   "id": "79768dd4-406c-4020-815c-04ad62ef55cd",
   "metadata": {},
   "outputs": [],
   "source": [
    "sif_signor_g3 = sif_output + \"Group3/group3_signor.sif\"\n",
    "net_signor_g3 = Network(sif_file=sif_signor_g3, resources=resources_signor)\n",
    "\n",
    "sif_signor_g4 = sif_output + \"Group4/Group4_signor.sif\"\n",
    "net_signor_g4 = Network(sif_file=sif_signor_g4, resources=resources_signor)"
   ]
  },
  {
   "cell_type": "code",
   "execution_count": 11,
   "id": "a643ecc7-1ab3-4caf-9cdd-0196b38eb00d",
   "metadata": {},
   "outputs": [],
   "source": [
    "g3_initial_nodes = [\n",
    "    \"EZH2\", \"KDM3A\", \"SMARCA4\", \"MYC\", \"KDM5B\", \"KDM4C\", \"KDM5A\", \"ZIC1\",\n",
    "    \"KDM1A\", \"CRX\", \"CHD7\", \"GABRA3\", \"LIN28B\", \"LHX2\", \"HLX\", \"SMAD9\",\n",
    "    \"TGFBR1\", \"KDM7A\", \"GABRA5\", \"KDM6A\"\n",
    "]\n"
   ]
  },
  {
   "cell_type": "code",
   "execution_count": 12,
   "id": "b57f9ee6-da26-495b-9bb3-831571b4df39",
   "metadata": {},
   "outputs": [],
   "source": [
    "g4_initial_nodes = [\n",
    "    \"EN2\", \"UNC5D\", \"KDM7A\", \"POU2F1\", \"AKT1\", \"TBR1\", \"KDM5B\", \"KMT2C\",\n",
    "    \"KDM6A\", \"SNCAIP\", \"CHD7\", \"EZH2\", \"ARID5B\", \"LMX1A\", \"OTX2\", \"STAT5A\",\n",
    "    \"KDM4C\", \"CUX2\", \"HLF\", \"LHX1\", \"ZIC1\", \"SIX6\", \"MYCN\", \"EOMES\", \"KDM1A\",\n",
    "    \"LHX2\", \"KDM5A\", \"EPHB2\", \"KDM3A\"\n",
    "]\n",
    "\n"
   ]
  },
  {
   "cell_type": "code",
   "execution_count": 128,
   "id": "2dc6bafa-212c-4ad6-a66a-9aaa435b6445",
   "metadata": {},
   "outputs": [],
   "source": [
    "visualizer_g3 = NetworkVisualizer(net_signor_g3, predefined_node=\"EGFR\")\n",
    "visualizer_g3.render(output_file=\"g3_signor\", view=True)"
   ]
  },
  {
   "cell_type": "code",
   "execution_count": 125,
   "id": "1e643a42-5edd-48f0-bf4d-ccf99c9b8a97",
   "metadata": {},
   "outputs": [],
   "source": [
    "visualizer_g4 = NetworkVisualizer(net_signor_g4,color_by='effect')\n",
    "visualizer_g4.render(output_file=\"g4_signor\", view=True, highlight_nodes=g4_initial_nodes)"
   ]
  },
  {
   "cell_type": "code",
   "execution_count": 15,
   "id": "56ff8195-1160-467a-986a-813bf7a09ca0",
   "metadata": {},
   "outputs": [
    {
     "name": "stdout",
     "output_type": "stream",
     "text": [
      "     source       target           comparison\n",
      "0      ABL1         EGFR  Unique to Network 2\n",
      "1      ABL1        EPHB2  Unique to Network 2\n",
      "2      ABL1         MDM2  Unique to Network 2\n",
      "3      ABL1        MYOD1  Unique to Network 2\n",
      "4      ABL1        PPARG  Unique to Network 2\n",
      "..      ...          ...                  ...\n",
      "466     YY1  SIGNOR-C130  Unique to Network 1\n",
      "467  ZDHHC5         EZH2  Unique to Network 1\n",
      "468    ZEB1         FBP1  Unique to Network 1\n",
      "469    ZIC1         GLI1  Unique to Network 2\n",
      "470    ZIC1         GLI3  Unique to Network 1\n",
      "\n",
      "[471 rows x 3 columns]\n",
      "           node           comparison\n",
      "0        PCDH19  Unique to Network 1\n",
      "1         SMAD9  Unique to Network 1\n",
      "2         CCND1  Unique to Network 1\n",
      "3          MMP9  Unique to Network 1\n",
      "4        HOXA10  Unique to Network 1\n",
      "..          ...                  ...\n",
      "137  SIGNOR-C73               Common\n",
      "138       KDM5B               Common\n",
      "139        LHX2               Common\n",
      "140        ZIC1               Common\n",
      "141       HIF1A               Common\n",
      "\n",
      "[142 rows x 2 columns]\n"
     ]
    }
   ],
   "source": [
    "interaction_comparison, node_comparison = compare_networks(net_signor_g3, net_signor_g4)\n",
    "print(interaction_comparison)\n",
    "print(node_comparison)"
   ]
  },
  {
   "cell_type": "code",
   "execution_count": 16,
   "id": "9fcb5027-8ac7-4c1d-b861-2a736094e032",
   "metadata": {},
   "outputs": [],
   "source": [
    "common_nodes = node_comparison[node_comparison[\"comparison\"] == \"Common\"][\"node\"].values"
   ]
  },
  {
   "cell_type": "code",
   "execution_count": 17,
   "id": "fbde26c5-ba52-4174-9049-460e87ad1a94",
   "metadata": {},
   "outputs": [
    {
     "data": {
      "text/plain": [
       "array(['SIGNOR-C156', 'MEF2C', 'SIRT1', 'EZH2', 'ELF4', 'MYOD1', 'FGF8',\n",
       "       'SIGNOR-C189', 'AKT1', 'PPARG', 'CHD7', 'EGFR', 'CSNK2A1', 'CEBPA',\n",
       "       'KDM7A', 'KDM5A', 'KDM3A', 'TWIST1', 'MYC', 'AR', 'KDM1A', 'PTEN',\n",
       "       'SOX2', 'MSX1', 'PJA1', 'KDM4C', 'KDM6A', 'MDM2', 'POU5F1',\n",
       "       'SIGNOR-PF24', 'ATM', 'SIGNOR-C97', 'CHEBI:16810', 'SIGNOR-C73',\n",
       "       'KDM5B', 'LHX2', 'ZIC1', 'HIF1A'], dtype=object)"
      ]
     },
     "execution_count": 17,
     "metadata": {},
     "output_type": "execute_result"
    }
   ],
   "source": [
    "common_nodes"
   ]
  },
  {
   "cell_type": "code",
   "execution_count": 18,
   "id": "dfbbe85e-7577-4994-b7d3-d82b87e9151c",
   "metadata": {},
   "outputs": [],
   "source": [
    "visualizer_g4 = NetworkVisualizer(net_signor_g4,color_by='effect')\n",
    "visualizer_g4.render(output_file=\"g4_signor_common\", view=True, highlight_nodes=common_nodes)"
   ]
  },
  {
   "cell_type": "code",
   "execution_count": 19,
   "id": "41948853-9d40-43fe-893b-e94d133bbb80",
   "metadata": {},
   "outputs": [],
   "source": [
    "visualizer_g3 = NetworkVisualizer(net_signor_g3,color_by='effect')\n",
    "visualizer_g3.render(output_file=\"g3_signor_common\", view=True, highlight_nodes=common_nodes)"
   ]
  }
 ],
 "metadata": {
  "kernelspec": {
   "display_name": "Python 3 (ipykernel)",
   "language": "python",
   "name": "python3"
  },
  "language_info": {
   "codemirror_mode": {
    "name": "ipython",
    "version": 3
   },
   "file_extension": ".py",
   "mimetype": "text/x-python",
   "name": "python",
   "nbconvert_exporter": "python",
   "pygments_lexer": "ipython3",
   "version": "3.10.14"
  }
 },
 "nbformat": 4,
 "nbformat_minor": 5
}
