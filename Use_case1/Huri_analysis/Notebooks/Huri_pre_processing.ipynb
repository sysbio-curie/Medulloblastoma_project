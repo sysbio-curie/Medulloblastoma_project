{
 "cells": [
  {
   "cell_type": "code",
   "execution_count": 1,
   "id": "a9c063b9-5e1c-490b-b2dd-6df661d6a5be",
   "metadata": {},
   "outputs": [
    {
     "name": "stdout",
     "output_type": "stream",
     "text": [
      "(CORNETO) Aug 29 12:18:57 PM - WARNING : No backend found. You can install one of the supported backend by `pip install cvxpy` or `pip install picos`.\n"
     ]
    }
   ],
   "source": [
    "from neko.core.network import Network\n",
    "from neko._visual.visualize_network import NetworkVisualizer\n",
    "from neko.inputs import Universe\n",
    "import pandas as pd\n",
    "from neko.inputs.db_translator import IDTranslator"
   ]
  },
  {
   "cell_type": "markdown",
   "id": "65c4b188-bb2f-4a0d-9ecd-41da3ee894cc",
   "metadata": {},
   "source": [
    "First set the folder for input and output"
   ]
  },
  {
   "cell_type": "code",
   "execution_count": 2,
   "id": "0401c779-f392-4ef1-8708-7b163262671d",
   "metadata": {},
   "outputs": [],
   "source": [
    "data_folder = \"../data/\"\n",
    "\n",
    "figures_folder = \"../Figures/\"\n",
    "\n",
    "sif_output = \"../sif_files/\""
   ]
  },
  {
   "cell_type": "markdown",
   "id": "23dac107-e94c-4abe-bd51-c13617047a48",
   "metadata": {},
   "source": [
    "Processing databases"
   ]
  },
  {
   "cell_type": "code",
   "execution_count": 5,
   "id": "cb358b51-2fef-4e0f-b0d2-afa33cc98eae",
   "metadata": {},
   "outputs": [],
   "source": [
    "translator_1 = IDTranslator('../data/HI-union.tsv', '../data/HI-union_translated.tsv', 'Ensembl', 'UniProtKB-Swiss-Prot', has_header=False, input_columns=['source', 'target'], processes=12, pickle_dir=\"./pickles_1\")"
   ]
  },
  {
   "cell_type": "code",
   "execution_count": 6,
   "id": "eb4d85c7-10bf-459a-b9d3-618f30499a10",
   "metadata": {},
   "outputs": [
    {
     "data": {
      "text/html": [
       "<pre>2024-08-29 12:49:49,536 - IDTranslator_140213345721264 - INFO - Starting ID translation process from Ensembl to UniProtKB-Swiss-Prot</pre>"
      ],
      "text/plain": [
       "<IPython.core.display.HTML object>"
      ]
     },
     "metadata": {},
     "output_type": "display_data"
    },
    {
     "name": "stderr",
     "output_type": "stream",
     "text": [
      "INFO:IDTranslator_140213345721264:Starting ID translation process from Ensembl to UniProtKB-Swiss-Prot\n"
     ]
    },
    {
     "data": {
      "text/html": [
       "<pre>2024-08-29 12:49:49,554 - IDTranslator_140213345721264 - INFO - Loaded 64006 rows with 9094 unique IDs</pre>"
      ],
      "text/plain": [
       "<IPython.core.display.HTML object>"
      ]
     },
     "metadata": {},
     "output_type": "display_data"
    },
    {
     "name": "stderr",
     "output_type": "stream",
     "text": [
      "INFO:IDTranslator_140213345721264:Loaded 64006 rows with 9094 unique IDs\n"
     ]
    },
    {
     "data": {
      "text/html": [
       "<pre>2024-08-29 12:49:49,558 - IDTranslator_140213345721264 - INFO - Loaded progress from retry_checkpoint_batch_2.pkl</pre>"
      ],
      "text/plain": [
       "<IPython.core.display.HTML object>"
      ]
     },
     "metadata": {},
     "output_type": "display_data"
    },
    {
     "name": "stderr",
     "output_type": "stream",
     "text": [
      "INFO:IDTranslator_140213345721264:Loaded progress from retry_checkpoint_batch_2.pkl\n"
     ]
    },
    {
     "data": {
      "application/vnd.jupyter.widget-view+json": {
       "model_id": "46100d24f2444d6b9d1a41a1ec718a8b",
       "version_major": 2,
       "version_minor": 0
      },
      "text/plain": [
       "Processing batches: 0it [00:00, ?it/s]"
      ]
     },
     "metadata": {},
     "output_type": "display_data"
    },
    {
     "data": {
      "text/html": [
       "<pre>2024-08-29 12:49:49,675 - IDTranslator_140213345721264 - INFO - Applying translation to dataframe...</pre>"
      ],
      "text/plain": [
       "<IPython.core.display.HTML object>"
      ]
     },
     "metadata": {},
     "output_type": "display_data"
    },
    {
     "name": "stderr",
     "output_type": "stream",
     "text": [
      "INFO:IDTranslator_140213345721264:Applying translation to dataframe...\n"
     ]
    },
    {
     "data": {
      "text/html": [
       "<pre>2024-08-29 12:50:08,444 - IDTranslator_140213345721264 - INFO - Results saved to genes_translated.csv</pre>"
      ],
      "text/plain": [
       "<IPython.core.display.HTML object>"
      ]
     },
     "metadata": {},
     "output_type": "display_data"
    },
    {
     "name": "stderr",
     "output_type": "stream",
     "text": [
      "INFO:IDTranslator_140213345721264:Results saved to genes_translated.csv\n"
     ]
    },
    {
     "data": {
      "text/html": [
       "<pre>2024-08-29 12:50:08,517 - IDTranslator_140213345721264 - INFO - Found 132 untranslated IDs to retry</pre>"
      ],
      "text/plain": [
       "<IPython.core.display.HTML object>"
      ]
     },
     "metadata": {},
     "output_type": "display_data"
    },
    {
     "name": "stderr",
     "output_type": "stream",
     "text": [
      "INFO:IDTranslator_140213345721264:Found 132 untranslated IDs to retry\n"
     ]
    },
    {
     "data": {
      "text/html": [
       "<pre>2024-08-29 12:50:08,518 - IDTranslator_140213345721264 - INFO - Retrying translation for 132 untranslated IDs</pre>"
      ],
      "text/plain": [
       "<IPython.core.display.HTML object>"
      ]
     },
     "metadata": {},
     "output_type": "display_data"
    },
    {
     "name": "stderr",
     "output_type": "stream",
     "text": [
      "INFO:IDTranslator_140213345721264:Retrying translation for 132 untranslated IDs\n"
     ]
    },
    {
     "data": {
      "application/vnd.jupyter.widget-view+json": {
       "model_id": "d106668a1c91467aa865d8c738d04e10",
       "version_major": 2,
       "version_minor": 0
      },
      "text/plain": [
       "Retrying untranslated batches:   0%|          | 0/2 [00:00<?, ?it/s]"
      ]
     },
     "metadata": {},
     "output_type": "display_data"
    },
    {
     "data": {
      "text/html": [
       "<pre>2024-08-29 12:51:10,118 - IDTranslator_140213345721264 - INFO - Retried batch 1/2</pre>"
      ],
      "text/plain": [
       "<IPython.core.display.HTML object>"
      ]
     },
     "metadata": {},
     "output_type": "display_data"
    },
    {
     "name": "stderr",
     "output_type": "stream",
     "text": [
      "INFO:IDTranslator_140213345721264:Retried batch 1/2\n"
     ]
    },
    {
     "data": {
      "text/html": [
       "<pre>2024-08-29 12:53:22,746 - IDTranslator_140213345721264 - INFO - Retried batch 2/2</pre>"
      ],
      "text/plain": [
       "<IPython.core.display.HTML object>"
      ]
     },
     "metadata": {},
     "output_type": "display_data"
    },
    {
     "name": "stderr",
     "output_type": "stream",
     "text": [
      "INFO:IDTranslator_140213345721264:Retried batch 2/2\n"
     ]
    },
    {
     "data": {
      "text/html": [
       "<pre>2024-08-29 12:53:22,753 - IDTranslator_140213345721264 - INFO - Progress saved to retry_checkpoint_batch_2.pkl</pre>"
      ],
      "text/plain": [
       "<IPython.core.display.HTML object>"
      ]
     },
     "metadata": {},
     "output_type": "display_data"
    },
    {
     "name": "stderr",
     "output_type": "stream",
     "text": [
      "INFO:IDTranslator_140213345721264:Progress saved to retry_checkpoint_batch_2.pkl\n"
     ]
    },
    {
     "data": {
      "text/html": [
       "<pre>2024-08-29 12:53:22,768 - IDTranslator_140213345721264 - INFO - Applying translation to dataframe...</pre>"
      ],
      "text/plain": [
       "<IPython.core.display.HTML object>"
      ]
     },
     "metadata": {},
     "output_type": "display_data"
    },
    {
     "name": "stderr",
     "output_type": "stream",
     "text": [
      "INFO:IDTranslator_140213345721264:Applying translation to dataframe...\n"
     ]
    },
    {
     "data": {
      "text/html": [
       "<pre>2024-08-29 12:53:25,954 - IDTranslator_140213345721264 - INFO - Results saved to genes_translated.csv</pre>"
      ],
      "text/plain": [
       "<IPython.core.display.HTML object>"
      ]
     },
     "metadata": {},
     "output_type": "display_data"
    },
    {
     "name": "stderr",
     "output_type": "stream",
     "text": [
      "INFO:IDTranslator_140213345721264:Results saved to genes_translated.csv\n"
     ]
    },
    {
     "data": {
      "text/html": [
       "<pre>2024-08-29 12:53:25,991 - IDTranslator_140213345721264 - INFO - ID translation process completed in 216.45 seconds</pre>"
      ],
      "text/plain": [
       "<IPython.core.display.HTML object>"
      ]
     },
     "metadata": {},
     "output_type": "display_data"
    },
    {
     "name": "stderr",
     "output_type": "stream",
     "text": [
      "INFO:IDTranslator_140213345721264:ID translation process completed in 216.45 seconds\n"
     ]
    },
    {
     "data": {
      "text/html": [
       "<pre>2024-08-29 12:53:26,267 - IDTranslator_140213345721264 - INFO - Original entry count: 64183</pre>"
      ],
      "text/plain": [
       "<IPython.core.display.HTML object>"
      ]
     },
     "metadata": {},
     "output_type": "display_data"
    },
    {
     "name": "stderr",
     "output_type": "stream",
     "text": [
      "INFO:IDTranslator_140213345721264:Original entry count: 64183\n"
     ]
    },
    {
     "data": {
      "text/html": [
       "<pre>2024-08-29 12:53:26,269 - IDTranslator_140213345721264 - INFO - Translated entry count: 62768</pre>"
      ],
      "text/plain": [
       "<IPython.core.display.HTML object>"
      ]
     },
     "metadata": {},
     "output_type": "display_data"
    },
    {
     "name": "stderr",
     "output_type": "stream",
     "text": [
      "INFO:IDTranslator_140213345721264:Translated entry count: 62768\n"
     ]
    },
    {
     "data": {
      "text/html": [
       "<pre>2024-08-29 12:53:26,269 - IDTranslator_140213345721264 - INFO - Expansion factor: 0.98</pre>"
      ],
      "text/plain": [
       "<IPython.core.display.HTML object>"
      ]
     },
     "metadata": {},
     "output_type": "display_data"
    },
    {
     "name": "stderr",
     "output_type": "stream",
     "text": [
      "INFO:IDTranslator_140213345721264:Expansion factor: 0.98\n"
     ]
    },
    {
     "data": {
      "text/html": [
       "<pre>2024-08-29 12:53:26,270 - IDTranslator_140213345721264 - INFO - Translation success rate: 97.80%</pre>"
      ],
      "text/plain": [
       "<IPython.core.display.HTML object>"
      ]
     },
     "metadata": {},
     "output_type": "display_data"
    },
    {
     "name": "stderr",
     "output_type": "stream",
     "text": [
      "INFO:IDTranslator_140213345721264:Translation success rate: 97.80%\n"
     ]
    }
   ],
   "source": [
    "translator_1.run()"
   ]
  },
  {
   "cell_type": "code",
   "execution_count": 7,
   "id": "f0366ed7-ec9c-4155-a1ef-5bae087fda2e",
   "metadata": {},
   "outputs": [],
   "source": [
    "translator_2 = IDTranslator('../data/HuRI.tsv', '../data/HuRI_translated.csv', 'Ensembl', 'UniProtKB-Swiss-Prot', has_header=False, input_columns=['source', 'target'], processes=12, pickle_dir=\"./pickles_2\")"
   ]
  },
  {
   "cell_type": "code",
   "execution_count": 8,
   "id": "4792ca50-4de1-4aed-aea5-ef5d74182b91",
   "metadata": {},
   "outputs": [
    {
     "data": {
      "text/html": [
       "<pre>2024-08-29 12:54:24,285 - IDTranslator_140214130000384 - INFO - Starting ID translation process from Ensembl to UniProtKB-Swiss-Prot</pre>"
      ],
      "text/plain": [
       "<IPython.core.display.HTML object>"
      ]
     },
     "metadata": {},
     "output_type": "display_data"
    },
    {
     "name": "stderr",
     "output_type": "stream",
     "text": [
      "INFO:IDTranslator_140214130000384:Starting ID translation process from Ensembl to UniProtKB-Swiss-Prot\n"
     ]
    },
    {
     "data": {
      "text/html": [
       "<pre>2024-08-29 12:54:24,301 - IDTranslator_140214130000384 - INFO - Loaded 52548 rows with 8272 unique IDs</pre>"
      ],
      "text/plain": [
       "<IPython.core.display.HTML object>"
      ]
     },
     "metadata": {},
     "output_type": "display_data"
    },
    {
     "name": "stderr",
     "output_type": "stream",
     "text": [
      "INFO:IDTranslator_140214130000384:Loaded 52548 rows with 8272 unique IDs\n"
     ]
    },
    {
     "data": {
      "text/html": [
       "<pre>2024-08-29 12:54:24,302 - IDTranslator_140214130000384 - INFO - No existing progress found. Starting from scratch.</pre>"
      ],
      "text/plain": [
       "<IPython.core.display.HTML object>"
      ]
     },
     "metadata": {},
     "output_type": "display_data"
    },
    {
     "name": "stderr",
     "output_type": "stream",
     "text": [
      "INFO:IDTranslator_140214130000384:No existing progress found. Starting from scratch.\n"
     ]
    },
    {
     "data": {
      "application/vnd.jupyter.widget-view+json": {
       "model_id": "ea708c7be5514459b8dcacf1477af72f",
       "version_major": 2,
       "version_minor": 0
      },
      "text/plain": [
       "Processing batches:   0%|          | 0/83 [00:00<?, ?it/s]"
      ]
     },
     "metadata": {},
     "output_type": "display_data"
    },
    {
     "data": {
      "text/html": [
       "<pre>2024-08-29 12:57:28,653 - IDTranslator_140214130000384 - INFO - Processed batch 1/83</pre>"
      ],
      "text/plain": [
       "<IPython.core.display.HTML object>"
      ]
     },
     "metadata": {},
     "output_type": "display_data"
    },
    {
     "name": "stderr",
     "output_type": "stream",
     "text": [
      "INFO:IDTranslator_140214130000384:Processed batch 1/83\n"
     ]
    },
    {
     "data": {
      "text/html": [
       "<pre>2024-08-29 12:57:33,175 - IDTranslator_140214130000384 - INFO - Processed batch 2/83</pre>"
      ],
      "text/plain": [
       "<IPython.core.display.HTML object>"
      ]
     },
     "metadata": {},
     "output_type": "display_data"
    },
    {
     "name": "stderr",
     "output_type": "stream",
     "text": [
      "INFO:IDTranslator_140214130000384:Processed batch 2/83\n"
     ]
    },
    {
     "data": {
      "text/html": [
       "<pre>2024-08-29 12:57:33,177 - IDTranslator_140214130000384 - INFO - Progress saved to checkpoint_batch_2.pkl</pre>"
      ],
      "text/plain": [
       "<IPython.core.display.HTML object>"
      ]
     },
     "metadata": {},
     "output_type": "display_data"
    },
    {
     "name": "stderr",
     "output_type": "stream",
     "text": [
      "INFO:IDTranslator_140214130000384:Progress saved to checkpoint_batch_2.pkl\n"
     ]
    },
    {
     "data": {
      "text/html": [
       "<pre>2024-08-29 12:57:35,706 - IDTranslator_140214130000384 - INFO - Processed batch 3/83</pre>"
      ],
      "text/plain": [
       "<IPython.core.display.HTML object>"
      ]
     },
     "metadata": {},
     "output_type": "display_data"
    },
    {
     "name": "stderr",
     "output_type": "stream",
     "text": [
      "INFO:IDTranslator_140214130000384:Processed batch 3/83\n"
     ]
    },
    {
     "data": {
      "text/html": [
       "<pre>2024-08-29 12:57:36,324 - IDTranslator_140214130000384 - INFO - Processed batch 4/83</pre>"
      ],
      "text/plain": [
       "<IPython.core.display.HTML object>"
      ]
     },
     "metadata": {},
     "output_type": "display_data"
    },
    {
     "name": "stderr",
     "output_type": "stream",
     "text": [
      "INFO:IDTranslator_140214130000384:Processed batch 4/83\n"
     ]
    },
    {
     "data": {
      "text/html": [
       "<pre>2024-08-29 12:57:36,326 - IDTranslator_140214130000384 - INFO - Progress saved to checkpoint_batch_4.pkl</pre>"
      ],
      "text/plain": [
       "<IPython.core.display.HTML object>"
      ]
     },
     "metadata": {},
     "output_type": "display_data"
    },
    {
     "name": "stderr",
     "output_type": "stream",
     "text": [
      "INFO:IDTranslator_140214130000384:Progress saved to checkpoint_batch_4.pkl\n"
     ]
    },
    {
     "data": {
      "text/html": [
       "<pre>2024-08-29 12:57:36,443 - IDTranslator_140214130000384 - INFO - Processed batch 5/83</pre>"
      ],
      "text/plain": [
       "<IPython.core.display.HTML object>"
      ]
     },
     "metadata": {},
     "output_type": "display_data"
    },
    {
     "name": "stderr",
     "output_type": "stream",
     "text": [
      "INFO:IDTranslator_140214130000384:Processed batch 5/83\n"
     ]
    },
    {
     "data": {
      "text/html": [
       "<pre>2024-08-29 12:57:36,644 - IDTranslator_140214130000384 - INFO - Processed batch 6/83</pre>"
      ],
      "text/plain": [
       "<IPython.core.display.HTML object>"
      ]
     },
     "metadata": {},
     "output_type": "display_data"
    },
    {
     "name": "stderr",
     "output_type": "stream",
     "text": [
      "INFO:IDTranslator_140214130000384:Processed batch 6/83\n"
     ]
    },
    {
     "data": {
      "text/html": [
       "<pre>2024-08-29 12:57:36,646 - IDTranslator_140214130000384 - INFO - Progress saved to checkpoint_batch_6.pkl</pre>"
      ],
      "text/plain": [
       "<IPython.core.display.HTML object>"
      ]
     },
     "metadata": {},
     "output_type": "display_data"
    },
    {
     "name": "stderr",
     "output_type": "stream",
     "text": [
      "INFO:IDTranslator_140214130000384:Progress saved to checkpoint_batch_6.pkl\n"
     ]
    },
    {
     "data": {
      "text/html": [
       "<pre>2024-08-29 12:57:36,795 - IDTranslator_140214130000384 - INFO - Processed batch 7/83</pre>"
      ],
      "text/plain": [
       "<IPython.core.display.HTML object>"
      ]
     },
     "metadata": {},
     "output_type": "display_data"
    },
    {
     "name": "stderr",
     "output_type": "stream",
     "text": [
      "INFO:IDTranslator_140214130000384:Processed batch 7/83\n"
     ]
    },
    {
     "data": {
      "text/html": [
       "<pre>2024-08-29 12:57:37,953 - IDTranslator_140214130000384 - INFO - Processed batch 8/83</pre>"
      ],
      "text/plain": [
       "<IPython.core.display.HTML object>"
      ]
     },
     "metadata": {},
     "output_type": "display_data"
    },
    {
     "name": "stderr",
     "output_type": "stream",
     "text": [
      "INFO:IDTranslator_140214130000384:Processed batch 8/83\n"
     ]
    },
    {
     "data": {
      "text/html": [
       "<pre>2024-08-29 12:57:37,955 - IDTranslator_140214130000384 - INFO - Progress saved to checkpoint_batch_8.pkl</pre>"
      ],
      "text/plain": [
       "<IPython.core.display.HTML object>"
      ]
     },
     "metadata": {},
     "output_type": "display_data"
    },
    {
     "name": "stderr",
     "output_type": "stream",
     "text": [
      "INFO:IDTranslator_140214130000384:Progress saved to checkpoint_batch_8.pkl\n"
     ]
    },
    {
     "data": {
      "text/html": [
       "<pre>2024-08-29 12:57:38,057 - IDTranslator_140214130000384 - INFO - Processed batch 9/83</pre>"
      ],
      "text/plain": [
       "<IPython.core.display.HTML object>"
      ]
     },
     "metadata": {},
     "output_type": "display_data"
    },
    {
     "name": "stderr",
     "output_type": "stream",
     "text": [
      "INFO:IDTranslator_140214130000384:Processed batch 9/83\n"
     ]
    },
    {
     "data": {
      "text/html": [
       "<pre>2024-08-29 12:57:38,930 - IDTranslator_140214130000384 - INFO - Processed batch 10/83</pre>"
      ],
      "text/plain": [
       "<IPython.core.display.HTML object>"
      ]
     },
     "metadata": {},
     "output_type": "display_data"
    },
    {
     "name": "stderr",
     "output_type": "stream",
     "text": [
      "INFO:IDTranslator_140214130000384:Processed batch 10/83\n"
     ]
    },
    {
     "data": {
      "text/html": [
       "<pre>2024-08-29 12:57:38,932 - IDTranslator_140214130000384 - INFO - Progress saved to checkpoint_batch_10.pkl</pre>"
      ],
      "text/plain": [
       "<IPython.core.display.HTML object>"
      ]
     },
     "metadata": {},
     "output_type": "display_data"
    },
    {
     "name": "stderr",
     "output_type": "stream",
     "text": [
      "INFO:IDTranslator_140214130000384:Progress saved to checkpoint_batch_10.pkl\n"
     ]
    },
    {
     "data": {
      "text/html": [
       "<pre>2024-08-29 12:57:39,610 - IDTranslator_140214130000384 - INFO - Processed batch 11/83</pre>"
      ],
      "text/plain": [
       "<IPython.core.display.HTML object>"
      ]
     },
     "metadata": {},
     "output_type": "display_data"
    },
    {
     "name": "stderr",
     "output_type": "stream",
     "text": [
      "INFO:IDTranslator_140214130000384:Processed batch 11/83\n"
     ]
    },
    {
     "data": {
      "text/html": [
       "<pre>2024-08-29 12:57:40,697 - IDTranslator_140214130000384 - INFO - Processed batch 12/83</pre>"
      ],
      "text/plain": [
       "<IPython.core.display.HTML object>"
      ]
     },
     "metadata": {},
     "output_type": "display_data"
    },
    {
     "name": "stderr",
     "output_type": "stream",
     "text": [
      "INFO:IDTranslator_140214130000384:Processed batch 12/83\n"
     ]
    },
    {
     "data": {
      "text/html": [
       "<pre>2024-08-29 12:57:40,698 - IDTranslator_140214130000384 - INFO - Progress saved to checkpoint_batch_12.pkl</pre>"
      ],
      "text/plain": [
       "<IPython.core.display.HTML object>"
      ]
     },
     "metadata": {},
     "output_type": "display_data"
    },
    {
     "name": "stderr",
     "output_type": "stream",
     "text": [
      "INFO:IDTranslator_140214130000384:Progress saved to checkpoint_batch_12.pkl\n"
     ]
    },
    {
     "data": {
      "text/html": [
       "<pre>2024-08-29 13:00:40,248 - IDTranslator_140214130000384 - INFO - Processed batch 13/83</pre>"
      ],
      "text/plain": [
       "<IPython.core.display.HTML object>"
      ]
     },
     "metadata": {},
     "output_type": "display_data"
    },
    {
     "name": "stderr",
     "output_type": "stream",
     "text": [
      "INFO:IDTranslator_140214130000384:Processed batch 13/83\n"
     ]
    },
    {
     "data": {
      "text/html": [
       "<pre>2024-08-29 13:00:44,232 - IDTranslator_140214130000384 - INFO - Processed batch 14/83</pre>"
      ],
      "text/plain": [
       "<IPython.core.display.HTML object>"
      ]
     },
     "metadata": {},
     "output_type": "display_data"
    },
    {
     "name": "stderr",
     "output_type": "stream",
     "text": [
      "INFO:IDTranslator_140214130000384:Processed batch 14/83\n"
     ]
    },
    {
     "data": {
      "text/html": [
       "<pre>2024-08-29 13:00:44,234 - IDTranslator_140214130000384 - INFO - Progress saved to checkpoint_batch_14.pkl</pre>"
      ],
      "text/plain": [
       "<IPython.core.display.HTML object>"
      ]
     },
     "metadata": {},
     "output_type": "display_data"
    },
    {
     "name": "stderr",
     "output_type": "stream",
     "text": [
      "INFO:IDTranslator_140214130000384:Progress saved to checkpoint_batch_14.pkl\n"
     ]
    },
    {
     "data": {
      "text/html": [
       "<pre>2024-08-29 13:00:44,885 - IDTranslator_140214130000384 - INFO - Processed batch 15/83</pre>"
      ],
      "text/plain": [
       "<IPython.core.display.HTML object>"
      ]
     },
     "metadata": {},
     "output_type": "display_data"
    },
    {
     "name": "stderr",
     "output_type": "stream",
     "text": [
      "INFO:IDTranslator_140214130000384:Processed batch 15/83\n"
     ]
    },
    {
     "data": {
      "text/html": [
       "<pre>2024-08-29 13:00:45,456 - IDTranslator_140214130000384 - INFO - Processed batch 16/83</pre>"
      ],
      "text/plain": [
       "<IPython.core.display.HTML object>"
      ]
     },
     "metadata": {},
     "output_type": "display_data"
    },
    {
     "name": "stderr",
     "output_type": "stream",
     "text": [
      "INFO:IDTranslator_140214130000384:Processed batch 16/83\n"
     ]
    },
    {
     "data": {
      "text/html": [
       "<pre>2024-08-29 13:00:45,459 - IDTranslator_140214130000384 - INFO - Progress saved to checkpoint_batch_16.pkl</pre>"
      ],
      "text/plain": [
       "<IPython.core.display.HTML object>"
      ]
     },
     "metadata": {},
     "output_type": "display_data"
    },
    {
     "name": "stderr",
     "output_type": "stream",
     "text": [
      "INFO:IDTranslator_140214130000384:Progress saved to checkpoint_batch_16.pkl\n"
     ]
    },
    {
     "data": {
      "text/html": [
       "<pre>2024-08-29 13:00:45,752 - IDTranslator_140214130000384 - INFO - Processed batch 17/83</pre>"
      ],
      "text/plain": [
       "<IPython.core.display.HTML object>"
      ]
     },
     "metadata": {},
     "output_type": "display_data"
    },
    {
     "name": "stderr",
     "output_type": "stream",
     "text": [
      "INFO:IDTranslator_140214130000384:Processed batch 17/83\n"
     ]
    },
    {
     "data": {
      "text/html": [
       "<pre>2024-08-29 13:00:47,540 - IDTranslator_140214130000384 - INFO - Processed batch 18/83</pre>"
      ],
      "text/plain": [
       "<IPython.core.display.HTML object>"
      ]
     },
     "metadata": {},
     "output_type": "display_data"
    },
    {
     "name": "stderr",
     "output_type": "stream",
     "text": [
      "INFO:IDTranslator_140214130000384:Processed batch 18/83\n"
     ]
    },
    {
     "data": {
      "text/html": [
       "<pre>2024-08-29 13:00:47,542 - IDTranslator_140214130000384 - INFO - Progress saved to checkpoint_batch_18.pkl</pre>"
      ],
      "text/plain": [
       "<IPython.core.display.HTML object>"
      ]
     },
     "metadata": {},
     "output_type": "display_data"
    },
    {
     "name": "stderr",
     "output_type": "stream",
     "text": [
      "INFO:IDTranslator_140214130000384:Progress saved to checkpoint_batch_18.pkl\n"
     ]
    },
    {
     "data": {
      "text/html": [
       "<pre>2024-08-29 13:00:47,591 - IDTranslator_140214130000384 - INFO - Processed batch 19/83</pre>"
      ],
      "text/plain": [
       "<IPython.core.display.HTML object>"
      ]
     },
     "metadata": {},
     "output_type": "display_data"
    },
    {
     "name": "stderr",
     "output_type": "stream",
     "text": [
      "INFO:IDTranslator_140214130000384:Processed batch 19/83\n"
     ]
    },
    {
     "data": {
      "text/html": [
       "<pre>2024-08-29 13:00:49,609 - IDTranslator_140214130000384 - INFO - Processed batch 20/83</pre>"
      ],
      "text/plain": [
       "<IPython.core.display.HTML object>"
      ]
     },
     "metadata": {},
     "output_type": "display_data"
    },
    {
     "name": "stderr",
     "output_type": "stream",
     "text": [
      "INFO:IDTranslator_140214130000384:Processed batch 20/83\n"
     ]
    },
    {
     "data": {
      "text/html": [
       "<pre>2024-08-29 13:00:49,612 - IDTranslator_140214130000384 - INFO - Progress saved to checkpoint_batch_20.pkl</pre>"
      ],
      "text/plain": [
       "<IPython.core.display.HTML object>"
      ]
     },
     "metadata": {},
     "output_type": "display_data"
    },
    {
     "name": "stderr",
     "output_type": "stream",
     "text": [
      "INFO:IDTranslator_140214130000384:Progress saved to checkpoint_batch_20.pkl\n"
     ]
    },
    {
     "data": {
      "text/html": [
       "<pre>2024-08-29 13:00:50,113 - IDTranslator_140214130000384 - INFO - Processed batch 21/83</pre>"
      ],
      "text/plain": [
       "<IPython.core.display.HTML object>"
      ]
     },
     "metadata": {},
     "output_type": "display_data"
    },
    {
     "name": "stderr",
     "output_type": "stream",
     "text": [
      "INFO:IDTranslator_140214130000384:Processed batch 21/83\n"
     ]
    },
    {
     "data": {
      "text/html": [
       "<pre>2024-08-29 13:00:50,644 - IDTranslator_140214130000384 - INFO - Processed batch 22/83</pre>"
      ],
      "text/plain": [
       "<IPython.core.display.HTML object>"
      ]
     },
     "metadata": {},
     "output_type": "display_data"
    },
    {
     "name": "stderr",
     "output_type": "stream",
     "text": [
      "INFO:IDTranslator_140214130000384:Processed batch 22/83\n"
     ]
    },
    {
     "data": {
      "text/html": [
       "<pre>2024-08-29 13:00:50,646 - IDTranslator_140214130000384 - INFO - Progress saved to checkpoint_batch_22.pkl</pre>"
      ],
      "text/plain": [
       "<IPython.core.display.HTML object>"
      ]
     },
     "metadata": {},
     "output_type": "display_data"
    },
    {
     "name": "stderr",
     "output_type": "stream",
     "text": [
      "INFO:IDTranslator_140214130000384:Progress saved to checkpoint_batch_22.pkl\n"
     ]
    },
    {
     "data": {
      "text/html": [
       "<pre>2024-08-29 13:00:50,672 - IDTranslator_140214130000384 - INFO - Processed batch 23/83</pre>"
      ],
      "text/plain": [
       "<IPython.core.display.HTML object>"
      ]
     },
     "metadata": {},
     "output_type": "display_data"
    },
    {
     "name": "stderr",
     "output_type": "stream",
     "text": [
      "INFO:IDTranslator_140214130000384:Processed batch 23/83\n"
     ]
    },
    {
     "data": {
      "text/html": [
       "<pre>2024-08-29 13:00:55,253 - IDTranslator_140214130000384 - INFO - Processed batch 24/83</pre>"
      ],
      "text/plain": [
       "<IPython.core.display.HTML object>"
      ]
     },
     "metadata": {},
     "output_type": "display_data"
    },
    {
     "name": "stderr",
     "output_type": "stream",
     "text": [
      "INFO:IDTranslator_140214130000384:Processed batch 24/83\n"
     ]
    },
    {
     "data": {
      "text/html": [
       "<pre>2024-08-29 13:00:55,255 - IDTranslator_140214130000384 - INFO - Progress saved to checkpoint_batch_24.pkl</pre>"
      ],
      "text/plain": [
       "<IPython.core.display.HTML object>"
      ]
     },
     "metadata": {},
     "output_type": "display_data"
    },
    {
     "name": "stderr",
     "output_type": "stream",
     "text": [
      "INFO:IDTranslator_140214130000384:Progress saved to checkpoint_batch_24.pkl\n"
     ]
    },
    {
     "data": {
      "text/html": [
       "<pre>2024-08-29 13:03:55,900 - IDTranslator_140214130000384 - INFO - Processed batch 25/83</pre>"
      ],
      "text/plain": [
       "<IPython.core.display.HTML object>"
      ]
     },
     "metadata": {},
     "output_type": "display_data"
    },
    {
     "name": "stderr",
     "output_type": "stream",
     "text": [
      "INFO:IDTranslator_140214130000384:Processed batch 25/83\n"
     ]
    },
    {
     "data": {
      "text/html": [
       "<pre>2024-08-29 13:03:56,989 - IDTranslator_140214130000384 - INFO - Processed batch 26/83</pre>"
      ],
      "text/plain": [
       "<IPython.core.display.HTML object>"
      ]
     },
     "metadata": {},
     "output_type": "display_data"
    },
    {
     "name": "stderr",
     "output_type": "stream",
     "text": [
      "INFO:IDTranslator_140214130000384:Processed batch 26/83\n"
     ]
    },
    {
     "data": {
      "text/html": [
       "<pre>2024-08-29 13:03:56,991 - IDTranslator_140214130000384 - INFO - Progress saved to checkpoint_batch_26.pkl</pre>"
      ],
      "text/plain": [
       "<IPython.core.display.HTML object>"
      ]
     },
     "metadata": {},
     "output_type": "display_data"
    },
    {
     "name": "stderr",
     "output_type": "stream",
     "text": [
      "INFO:IDTranslator_140214130000384:Progress saved to checkpoint_batch_26.pkl\n"
     ]
    },
    {
     "data": {
      "text/html": [
       "<pre>2024-08-29 13:03:59,411 - IDTranslator_140214130000384 - INFO - Processed batch 27/83</pre>"
      ],
      "text/plain": [
       "<IPython.core.display.HTML object>"
      ]
     },
     "metadata": {},
     "output_type": "display_data"
    },
    {
     "name": "stderr",
     "output_type": "stream",
     "text": [
      "INFO:IDTranslator_140214130000384:Processed batch 27/83\n"
     ]
    },
    {
     "data": {
      "text/html": [
       "<pre>2024-08-29 13:04:00,401 - IDTranslator_140214130000384 - INFO - Processed batch 28/83</pre>"
      ],
      "text/plain": [
       "<IPython.core.display.HTML object>"
      ]
     },
     "metadata": {},
     "output_type": "display_data"
    },
    {
     "name": "stderr",
     "output_type": "stream",
     "text": [
      "INFO:IDTranslator_140214130000384:Processed batch 28/83\n"
     ]
    },
    {
     "data": {
      "text/html": [
       "<pre>2024-08-29 13:04:00,402 - IDTranslator_140214130000384 - INFO - Progress saved to checkpoint_batch_28.pkl</pre>"
      ],
      "text/plain": [
       "<IPython.core.display.HTML object>"
      ]
     },
     "metadata": {},
     "output_type": "display_data"
    },
    {
     "name": "stderr",
     "output_type": "stream",
     "text": [
      "INFO:IDTranslator_140214130000384:Progress saved to checkpoint_batch_28.pkl\n"
     ]
    },
    {
     "data": {
      "text/html": [
       "<pre>2024-08-29 13:04:01,185 - IDTranslator_140214130000384 - INFO - Processed batch 29/83</pre>"
      ],
      "text/plain": [
       "<IPython.core.display.HTML object>"
      ]
     },
     "metadata": {},
     "output_type": "display_data"
    },
    {
     "name": "stderr",
     "output_type": "stream",
     "text": [
      "INFO:IDTranslator_140214130000384:Processed batch 29/83\n"
     ]
    },
    {
     "data": {
      "text/html": [
       "<pre>2024-08-29 13:04:03,542 - IDTranslator_140214130000384 - INFO - Processed batch 30/83</pre>"
      ],
      "text/plain": [
       "<IPython.core.display.HTML object>"
      ]
     },
     "metadata": {},
     "output_type": "display_data"
    },
    {
     "name": "stderr",
     "output_type": "stream",
     "text": [
      "INFO:IDTranslator_140214130000384:Processed batch 30/83\n"
     ]
    },
    {
     "data": {
      "text/html": [
       "<pre>2024-08-29 13:04:03,543 - IDTranslator_140214130000384 - INFO - Progress saved to checkpoint_batch_30.pkl</pre>"
      ],
      "text/plain": [
       "<IPython.core.display.HTML object>"
      ]
     },
     "metadata": {},
     "output_type": "display_data"
    },
    {
     "name": "stderr",
     "output_type": "stream",
     "text": [
      "INFO:IDTranslator_140214130000384:Progress saved to checkpoint_batch_30.pkl\n"
     ]
    },
    {
     "data": {
      "text/html": [
       "<pre>2024-08-29 13:04:04,253 - IDTranslator_140214130000384 - INFO - Processed batch 31/83</pre>"
      ],
      "text/plain": [
       "<IPython.core.display.HTML object>"
      ]
     },
     "metadata": {},
     "output_type": "display_data"
    },
    {
     "name": "stderr",
     "output_type": "stream",
     "text": [
      "INFO:IDTranslator_140214130000384:Processed batch 31/83\n"
     ]
    },
    {
     "data": {
      "text/html": [
       "<pre>2024-08-29 13:04:05,490 - IDTranslator_140214130000384 - INFO - Processed batch 32/83</pre>"
      ],
      "text/plain": [
       "<IPython.core.display.HTML object>"
      ]
     },
     "metadata": {},
     "output_type": "display_data"
    },
    {
     "name": "stderr",
     "output_type": "stream",
     "text": [
      "INFO:IDTranslator_140214130000384:Processed batch 32/83\n"
     ]
    },
    {
     "data": {
      "text/html": [
       "<pre>2024-08-29 13:04:05,493 - IDTranslator_140214130000384 - INFO - Progress saved to checkpoint_batch_32.pkl</pre>"
      ],
      "text/plain": [
       "<IPython.core.display.HTML object>"
      ]
     },
     "metadata": {},
     "output_type": "display_data"
    },
    {
     "name": "stderr",
     "output_type": "stream",
     "text": [
      "INFO:IDTranslator_140214130000384:Progress saved to checkpoint_batch_32.pkl\n"
     ]
    },
    {
     "data": {
      "text/html": [
       "<pre>2024-08-29 13:04:05,547 - IDTranslator_140214130000384 - INFO - Processed batch 33/83</pre>"
      ],
      "text/plain": [
       "<IPython.core.display.HTML object>"
      ]
     },
     "metadata": {},
     "output_type": "display_data"
    },
    {
     "name": "stderr",
     "output_type": "stream",
     "text": [
      "INFO:IDTranslator_140214130000384:Processed batch 33/83\n"
     ]
    },
    {
     "data": {
      "text/html": [
       "<pre>2024-08-29 13:04:06,230 - IDTranslator_140214130000384 - INFO - Processed batch 34/83</pre>"
      ],
      "text/plain": [
       "<IPython.core.display.HTML object>"
      ]
     },
     "metadata": {},
     "output_type": "display_data"
    },
    {
     "name": "stderr",
     "output_type": "stream",
     "text": [
      "INFO:IDTranslator_140214130000384:Processed batch 34/83\n"
     ]
    },
    {
     "data": {
      "text/html": [
       "<pre>2024-08-29 13:04:06,232 - IDTranslator_140214130000384 - INFO - Progress saved to checkpoint_batch_34.pkl</pre>"
      ],
      "text/plain": [
       "<IPython.core.display.HTML object>"
      ]
     },
     "metadata": {},
     "output_type": "display_data"
    },
    {
     "name": "stderr",
     "output_type": "stream",
     "text": [
      "INFO:IDTranslator_140214130000384:Progress saved to checkpoint_batch_34.pkl\n"
     ]
    },
    {
     "data": {
      "text/html": [
       "<pre>2024-08-29 13:04:07,742 - IDTranslator_140214130000384 - INFO - Processed batch 35/83</pre>"
      ],
      "text/plain": [
       "<IPython.core.display.HTML object>"
      ]
     },
     "metadata": {},
     "output_type": "display_data"
    },
    {
     "name": "stderr",
     "output_type": "stream",
     "text": [
      "INFO:IDTranslator_140214130000384:Processed batch 35/83\n"
     ]
    },
    {
     "data": {
      "text/html": [
       "<pre>2024-08-29 13:04:09,399 - IDTranslator_140214130000384 - INFO - Processed batch 36/83</pre>"
      ],
      "text/plain": [
       "<IPython.core.display.HTML object>"
      ]
     },
     "metadata": {},
     "output_type": "display_data"
    },
    {
     "name": "stderr",
     "output_type": "stream",
     "text": [
      "INFO:IDTranslator_140214130000384:Processed batch 36/83\n"
     ]
    },
    {
     "data": {
      "text/html": [
       "<pre>2024-08-29 13:04:09,401 - IDTranslator_140214130000384 - INFO - Progress saved to checkpoint_batch_36.pkl</pre>"
      ],
      "text/plain": [
       "<IPython.core.display.HTML object>"
      ]
     },
     "metadata": {},
     "output_type": "display_data"
    },
    {
     "name": "stderr",
     "output_type": "stream",
     "text": [
      "INFO:IDTranslator_140214130000384:Progress saved to checkpoint_batch_36.pkl\n"
     ]
    },
    {
     "data": {
      "text/html": [
       "<pre>2024-08-29 13:07:03,894 - IDTranslator_140214130000384 - INFO - Processed batch 37/83</pre>"
      ],
      "text/plain": [
       "<IPython.core.display.HTML object>"
      ]
     },
     "metadata": {},
     "output_type": "display_data"
    },
    {
     "name": "stderr",
     "output_type": "stream",
     "text": [
      "INFO:IDTranslator_140214130000384:Processed batch 37/83\n"
     ]
    },
    {
     "data": {
      "text/html": [
       "<pre>2024-08-29 13:07:09,298 - IDTranslator_140214130000384 - INFO - Processed batch 38/83</pre>"
      ],
      "text/plain": [
       "<IPython.core.display.HTML object>"
      ]
     },
     "metadata": {},
     "output_type": "display_data"
    },
    {
     "name": "stderr",
     "output_type": "stream",
     "text": [
      "INFO:IDTranslator_140214130000384:Processed batch 38/83\n"
     ]
    },
    {
     "data": {
      "text/html": [
       "<pre>2024-08-29 13:07:09,300 - IDTranslator_140214130000384 - INFO - Progress saved to checkpoint_batch_38.pkl</pre>"
      ],
      "text/plain": [
       "<IPython.core.display.HTML object>"
      ]
     },
     "metadata": {},
     "output_type": "display_data"
    },
    {
     "name": "stderr",
     "output_type": "stream",
     "text": [
      "INFO:IDTranslator_140214130000384:Progress saved to checkpoint_batch_38.pkl\n"
     ]
    },
    {
     "data": {
      "text/html": [
       "<pre>2024-08-29 13:07:09,973 - IDTranslator_140214130000384 - INFO - Processed batch 39/83</pre>"
      ],
      "text/plain": [
       "<IPython.core.display.HTML object>"
      ]
     },
     "metadata": {},
     "output_type": "display_data"
    },
    {
     "name": "stderr",
     "output_type": "stream",
     "text": [
      "INFO:IDTranslator_140214130000384:Processed batch 39/83\n"
     ]
    },
    {
     "data": {
      "text/html": [
       "<pre>2024-08-29 13:07:10,867 - IDTranslator_140214130000384 - INFO - Processed batch 40/83</pre>"
      ],
      "text/plain": [
       "<IPython.core.display.HTML object>"
      ]
     },
     "metadata": {},
     "output_type": "display_data"
    },
    {
     "name": "stderr",
     "output_type": "stream",
     "text": [
      "INFO:IDTranslator_140214130000384:Processed batch 40/83\n"
     ]
    },
    {
     "data": {
      "text/html": [
       "<pre>2024-08-29 13:07:10,869 - IDTranslator_140214130000384 - INFO - Progress saved to checkpoint_batch_40.pkl</pre>"
      ],
      "text/plain": [
       "<IPython.core.display.HTML object>"
      ]
     },
     "metadata": {},
     "output_type": "display_data"
    },
    {
     "name": "stderr",
     "output_type": "stream",
     "text": [
      "INFO:IDTranslator_140214130000384:Progress saved to checkpoint_batch_40.pkl\n"
     ]
    },
    {
     "data": {
      "text/html": [
       "<pre>2024-08-29 13:07:14,157 - IDTranslator_140214130000384 - INFO - Processed batch 41/83</pre>"
      ],
      "text/plain": [
       "<IPython.core.display.HTML object>"
      ]
     },
     "metadata": {},
     "output_type": "display_data"
    },
    {
     "name": "stderr",
     "output_type": "stream",
     "text": [
      "INFO:IDTranslator_140214130000384:Processed batch 41/83\n"
     ]
    },
    {
     "data": {
      "text/html": [
       "<pre>2024-08-29 13:07:14,692 - IDTranslator_140214130000384 - INFO - Processed batch 42/83</pre>"
      ],
      "text/plain": [
       "<IPython.core.display.HTML object>"
      ]
     },
     "metadata": {},
     "output_type": "display_data"
    },
    {
     "name": "stderr",
     "output_type": "stream",
     "text": [
      "INFO:IDTranslator_140214130000384:Processed batch 42/83\n"
     ]
    },
    {
     "data": {
      "text/html": [
       "<pre>2024-08-29 13:07:14,695 - IDTranslator_140214130000384 - INFO - Progress saved to checkpoint_batch_42.pkl</pre>"
      ],
      "text/plain": [
       "<IPython.core.display.HTML object>"
      ]
     },
     "metadata": {},
     "output_type": "display_data"
    },
    {
     "name": "stderr",
     "output_type": "stream",
     "text": [
      "INFO:IDTranslator_140214130000384:Progress saved to checkpoint_batch_42.pkl\n"
     ]
    },
    {
     "data": {
      "text/html": [
       "<pre>2024-08-29 13:07:14,852 - IDTranslator_140214130000384 - INFO - Processed batch 43/83</pre>"
      ],
      "text/plain": [
       "<IPython.core.display.HTML object>"
      ]
     },
     "metadata": {},
     "output_type": "display_data"
    },
    {
     "name": "stderr",
     "output_type": "stream",
     "text": [
      "INFO:IDTranslator_140214130000384:Processed batch 43/83\n"
     ]
    },
    {
     "data": {
      "text/html": [
       "<pre>2024-08-29 13:07:17,340 - IDTranslator_140214130000384 - INFO - Processed batch 44/83</pre>"
      ],
      "text/plain": [
       "<IPython.core.display.HTML object>"
      ]
     },
     "metadata": {},
     "output_type": "display_data"
    },
    {
     "name": "stderr",
     "output_type": "stream",
     "text": [
      "INFO:IDTranslator_140214130000384:Processed batch 44/83\n"
     ]
    },
    {
     "data": {
      "text/html": [
       "<pre>2024-08-29 13:07:17,343 - IDTranslator_140214130000384 - INFO - Progress saved to checkpoint_batch_44.pkl</pre>"
      ],
      "text/plain": [
       "<IPython.core.display.HTML object>"
      ]
     },
     "metadata": {},
     "output_type": "display_data"
    },
    {
     "name": "stderr",
     "output_type": "stream",
     "text": [
      "INFO:IDTranslator_140214130000384:Progress saved to checkpoint_batch_44.pkl\n"
     ]
    },
    {
     "data": {
      "text/html": [
       "<pre>2024-08-29 13:07:19,701 - IDTranslator_140214130000384 - INFO - Processed batch 45/83</pre>"
      ],
      "text/plain": [
       "<IPython.core.display.HTML object>"
      ]
     },
     "metadata": {},
     "output_type": "display_data"
    },
    {
     "name": "stderr",
     "output_type": "stream",
     "text": [
      "INFO:IDTranslator_140214130000384:Processed batch 45/83\n"
     ]
    },
    {
     "data": {
      "text/html": [
       "<pre>2024-08-29 13:07:20,166 - IDTranslator_140214130000384 - INFO - Processed batch 46/83</pre>"
      ],
      "text/plain": [
       "<IPython.core.display.HTML object>"
      ]
     },
     "metadata": {},
     "output_type": "display_data"
    },
    {
     "name": "stderr",
     "output_type": "stream",
     "text": [
      "INFO:IDTranslator_140214130000384:Processed batch 46/83\n"
     ]
    },
    {
     "data": {
      "text/html": [
       "<pre>2024-08-29 13:07:20,168 - IDTranslator_140214130000384 - INFO - Progress saved to checkpoint_batch_46.pkl</pre>"
      ],
      "text/plain": [
       "<IPython.core.display.HTML object>"
      ]
     },
     "metadata": {},
     "output_type": "display_data"
    },
    {
     "name": "stderr",
     "output_type": "stream",
     "text": [
      "INFO:IDTranslator_140214130000384:Progress saved to checkpoint_batch_46.pkl\n"
     ]
    },
    {
     "data": {
      "text/html": [
       "<pre>2024-08-29 13:07:20,348 - IDTranslator_140214130000384 - INFO - Processed batch 47/83</pre>"
      ],
      "text/plain": [
       "<IPython.core.display.HTML object>"
      ]
     },
     "metadata": {},
     "output_type": "display_data"
    },
    {
     "name": "stderr",
     "output_type": "stream",
     "text": [
      "INFO:IDTranslator_140214130000384:Processed batch 47/83\n"
     ]
    },
    {
     "data": {
      "text/html": [
       "<pre>2024-08-29 13:07:20,763 - IDTranslator_140214130000384 - INFO - Processed batch 48/83</pre>"
      ],
      "text/plain": [
       "<IPython.core.display.HTML object>"
      ]
     },
     "metadata": {},
     "output_type": "display_data"
    },
    {
     "name": "stderr",
     "output_type": "stream",
     "text": [
      "INFO:IDTranslator_140214130000384:Processed batch 48/83\n"
     ]
    },
    {
     "data": {
      "text/html": [
       "<pre>2024-08-29 13:07:20,766 - IDTranslator_140214130000384 - INFO - Progress saved to checkpoint_batch_48.pkl</pre>"
      ],
      "text/plain": [
       "<IPython.core.display.HTML object>"
      ]
     },
     "metadata": {},
     "output_type": "display_data"
    },
    {
     "name": "stderr",
     "output_type": "stream",
     "text": [
      "INFO:IDTranslator_140214130000384:Progress saved to checkpoint_batch_48.pkl\n"
     ]
    },
    {
     "data": {
      "text/html": [
       "<pre>2024-08-29 13:10:16,972 - IDTranslator_140214130000384 - INFO - Processed batch 49/83</pre>"
      ],
      "text/plain": [
       "<IPython.core.display.HTML object>"
      ]
     },
     "metadata": {},
     "output_type": "display_data"
    },
    {
     "name": "stderr",
     "output_type": "stream",
     "text": [
      "INFO:IDTranslator_140214130000384:Processed batch 49/83\n"
     ]
    },
    {
     "data": {
      "text/html": [
       "<pre>2024-08-29 13:10:17,842 - IDTranslator_140214130000384 - INFO - Processed batch 50/83</pre>"
      ],
      "text/plain": [
       "<IPython.core.display.HTML object>"
      ]
     },
     "metadata": {},
     "output_type": "display_data"
    },
    {
     "name": "stderr",
     "output_type": "stream",
     "text": [
      "INFO:IDTranslator_140214130000384:Processed batch 50/83\n"
     ]
    },
    {
     "data": {
      "text/html": [
       "<pre>2024-08-29 13:10:17,845 - IDTranslator_140214130000384 - INFO - Progress saved to checkpoint_batch_50.pkl</pre>"
      ],
      "text/plain": [
       "<IPython.core.display.HTML object>"
      ]
     },
     "metadata": {},
     "output_type": "display_data"
    },
    {
     "name": "stderr",
     "output_type": "stream",
     "text": [
      "INFO:IDTranslator_140214130000384:Progress saved to checkpoint_batch_50.pkl\n"
     ]
    },
    {
     "data": {
      "text/html": [
       "<pre>2024-08-29 13:10:23,749 - IDTranslator_140214130000384 - INFO - Processed batch 51/83</pre>"
      ],
      "text/plain": [
       "<IPython.core.display.HTML object>"
      ]
     },
     "metadata": {},
     "output_type": "display_data"
    },
    {
     "name": "stderr",
     "output_type": "stream",
     "text": [
      "INFO:IDTranslator_140214130000384:Processed batch 51/83\n"
     ]
    },
    {
     "data": {
      "text/html": [
       "<pre>2024-08-29 13:10:24,045 - IDTranslator_140214130000384 - INFO - Processed batch 52/83</pre>"
      ],
      "text/plain": [
       "<IPython.core.display.HTML object>"
      ]
     },
     "metadata": {},
     "output_type": "display_data"
    },
    {
     "name": "stderr",
     "output_type": "stream",
     "text": [
      "INFO:IDTranslator_140214130000384:Processed batch 52/83\n"
     ]
    },
    {
     "data": {
      "text/html": [
       "<pre>2024-08-29 13:10:24,048 - IDTranslator_140214130000384 - INFO - Progress saved to checkpoint_batch_52.pkl</pre>"
      ],
      "text/plain": [
       "<IPython.core.display.HTML object>"
      ]
     },
     "metadata": {},
     "output_type": "display_data"
    },
    {
     "name": "stderr",
     "output_type": "stream",
     "text": [
      "INFO:IDTranslator_140214130000384:Progress saved to checkpoint_batch_52.pkl\n"
     ]
    },
    {
     "data": {
      "text/html": [
       "<pre>2024-08-29 13:10:24,408 - IDTranslator_140214130000384 - INFO - Processed batch 53/83</pre>"
      ],
      "text/plain": [
       "<IPython.core.display.HTML object>"
      ]
     },
     "metadata": {},
     "output_type": "display_data"
    },
    {
     "name": "stderr",
     "output_type": "stream",
     "text": [
      "INFO:IDTranslator_140214130000384:Processed batch 53/83\n"
     ]
    },
    {
     "data": {
      "text/html": [
       "<pre>2024-08-29 13:10:27,447 - IDTranslator_140214130000384 - INFO - Processed batch 54/83</pre>"
      ],
      "text/plain": [
       "<IPython.core.display.HTML object>"
      ]
     },
     "metadata": {},
     "output_type": "display_data"
    },
    {
     "name": "stderr",
     "output_type": "stream",
     "text": [
      "INFO:IDTranslator_140214130000384:Processed batch 54/83\n"
     ]
    },
    {
     "data": {
      "text/html": [
       "<pre>2024-08-29 13:10:27,451 - IDTranslator_140214130000384 - INFO - Progress saved to checkpoint_batch_54.pkl</pre>"
      ],
      "text/plain": [
       "<IPython.core.display.HTML object>"
      ]
     },
     "metadata": {},
     "output_type": "display_data"
    },
    {
     "name": "stderr",
     "output_type": "stream",
     "text": [
      "INFO:IDTranslator_140214130000384:Progress saved to checkpoint_batch_54.pkl\n"
     ]
    },
    {
     "data": {
      "text/html": [
       "<pre>2024-08-29 13:10:28,126 - IDTranslator_140214130000384 - INFO - Processed batch 55/83</pre>"
      ],
      "text/plain": [
       "<IPython.core.display.HTML object>"
      ]
     },
     "metadata": {},
     "output_type": "display_data"
    },
    {
     "name": "stderr",
     "output_type": "stream",
     "text": [
      "INFO:IDTranslator_140214130000384:Processed batch 55/83\n"
     ]
    },
    {
     "data": {
      "text/html": [
       "<pre>2024-08-29 13:10:32,055 - IDTranslator_140214130000384 - INFO - Processed batch 56/83</pre>"
      ],
      "text/plain": [
       "<IPython.core.display.HTML object>"
      ]
     },
     "metadata": {},
     "output_type": "display_data"
    },
    {
     "name": "stderr",
     "output_type": "stream",
     "text": [
      "INFO:IDTranslator_140214130000384:Processed batch 56/83\n"
     ]
    },
    {
     "data": {
      "text/html": [
       "<pre>2024-08-29 13:10:32,058 - IDTranslator_140214130000384 - INFO - Progress saved to checkpoint_batch_56.pkl</pre>"
      ],
      "text/plain": [
       "<IPython.core.display.HTML object>"
      ]
     },
     "metadata": {},
     "output_type": "display_data"
    },
    {
     "name": "stderr",
     "output_type": "stream",
     "text": [
      "INFO:IDTranslator_140214130000384:Progress saved to checkpoint_batch_56.pkl\n"
     ]
    },
    {
     "data": {
      "text/html": [
       "<pre>2024-08-29 13:10:32,869 - IDTranslator_140214130000384 - INFO - Processed batch 57/83</pre>"
      ],
      "text/plain": [
       "<IPython.core.display.HTML object>"
      ]
     },
     "metadata": {},
     "output_type": "display_data"
    },
    {
     "name": "stderr",
     "output_type": "stream",
     "text": [
      "INFO:IDTranslator_140214130000384:Processed batch 57/83\n"
     ]
    },
    {
     "data": {
      "text/html": [
       "<pre>2024-08-29 13:10:34,339 - IDTranslator_140214130000384 - INFO - Processed batch 58/83</pre>"
      ],
      "text/plain": [
       "<IPython.core.display.HTML object>"
      ]
     },
     "metadata": {},
     "output_type": "display_data"
    },
    {
     "name": "stderr",
     "output_type": "stream",
     "text": [
      "INFO:IDTranslator_140214130000384:Processed batch 58/83\n"
     ]
    },
    {
     "data": {
      "text/html": [
       "<pre>2024-08-29 13:10:34,342 - IDTranslator_140214130000384 - INFO - Progress saved to checkpoint_batch_58.pkl</pre>"
      ],
      "text/plain": [
       "<IPython.core.display.HTML object>"
      ]
     },
     "metadata": {},
     "output_type": "display_data"
    },
    {
     "name": "stderr",
     "output_type": "stream",
     "text": [
      "INFO:IDTranslator_140214130000384:Progress saved to checkpoint_batch_58.pkl\n"
     ]
    },
    {
     "data": {
      "text/html": [
       "<pre>2024-08-29 13:10:35,731 - IDTranslator_140214130000384 - INFO - Processed batch 59/83</pre>"
      ],
      "text/plain": [
       "<IPython.core.display.HTML object>"
      ]
     },
     "metadata": {},
     "output_type": "display_data"
    },
    {
     "name": "stderr",
     "output_type": "stream",
     "text": [
      "INFO:IDTranslator_140214130000384:Processed batch 59/83\n"
     ]
    },
    {
     "data": {
      "text/html": [
       "<pre>2024-08-29 13:10:37,855 - IDTranslator_140214130000384 - INFO - Processed batch 60/83</pre>"
      ],
      "text/plain": [
       "<IPython.core.display.HTML object>"
      ]
     },
     "metadata": {},
     "output_type": "display_data"
    },
    {
     "name": "stderr",
     "output_type": "stream",
     "text": [
      "INFO:IDTranslator_140214130000384:Processed batch 60/83\n"
     ]
    },
    {
     "data": {
      "text/html": [
       "<pre>2024-08-29 13:10:37,858 - IDTranslator_140214130000384 - INFO - Progress saved to checkpoint_batch_60.pkl</pre>"
      ],
      "text/plain": [
       "<IPython.core.display.HTML object>"
      ]
     },
     "metadata": {},
     "output_type": "display_data"
    },
    {
     "name": "stderr",
     "output_type": "stream",
     "text": [
      "INFO:IDTranslator_140214130000384:Progress saved to checkpoint_batch_60.pkl\n"
     ]
    },
    {
     "data": {
      "text/html": [
       "<pre>2024-08-29 13:13:24,676 - IDTranslator_140214130000384 - INFO - Processed batch 61/83</pre>"
      ],
      "text/plain": [
       "<IPython.core.display.HTML object>"
      ]
     },
     "metadata": {},
     "output_type": "display_data"
    },
    {
     "name": "stderr",
     "output_type": "stream",
     "text": [
      "INFO:IDTranslator_140214130000384:Processed batch 61/83\n"
     ]
    },
    {
     "data": {
      "text/html": [
       "<pre>2024-08-29 13:13:34,209 - IDTranslator_140214130000384 - INFO - Processed batch 62/83</pre>"
      ],
      "text/plain": [
       "<IPython.core.display.HTML object>"
      ]
     },
     "metadata": {},
     "output_type": "display_data"
    },
    {
     "name": "stderr",
     "output_type": "stream",
     "text": [
      "INFO:IDTranslator_140214130000384:Processed batch 62/83\n"
     ]
    },
    {
     "data": {
      "text/html": [
       "<pre>2024-08-29 13:13:34,212 - IDTranslator_140214130000384 - INFO - Progress saved to checkpoint_batch_62.pkl</pre>"
      ],
      "text/plain": [
       "<IPython.core.display.HTML object>"
      ]
     },
     "metadata": {},
     "output_type": "display_data"
    },
    {
     "name": "stderr",
     "output_type": "stream",
     "text": [
      "INFO:IDTranslator_140214130000384:Progress saved to checkpoint_batch_62.pkl\n"
     ]
    },
    {
     "data": {
      "text/html": [
       "<pre>2024-08-29 13:13:35,051 - IDTranslator_140214130000384 - INFO - Processed batch 63/83</pre>"
      ],
      "text/plain": [
       "<IPython.core.display.HTML object>"
      ]
     },
     "metadata": {},
     "output_type": "display_data"
    },
    {
     "name": "stderr",
     "output_type": "stream",
     "text": [
      "INFO:IDTranslator_140214130000384:Processed batch 63/83\n"
     ]
    },
    {
     "data": {
      "text/html": [
       "<pre>2024-08-29 13:13:36,575 - IDTranslator_140214130000384 - INFO - Processed batch 64/83</pre>"
      ],
      "text/plain": [
       "<IPython.core.display.HTML object>"
      ]
     },
     "metadata": {},
     "output_type": "display_data"
    },
    {
     "name": "stderr",
     "output_type": "stream",
     "text": [
      "INFO:IDTranslator_140214130000384:Processed batch 64/83\n"
     ]
    },
    {
     "data": {
      "text/html": [
       "<pre>2024-08-29 13:13:36,578 - IDTranslator_140214130000384 - INFO - Progress saved to checkpoint_batch_64.pkl</pre>"
      ],
      "text/plain": [
       "<IPython.core.display.HTML object>"
      ]
     },
     "metadata": {},
     "output_type": "display_data"
    },
    {
     "name": "stderr",
     "output_type": "stream",
     "text": [
      "INFO:IDTranslator_140214130000384:Progress saved to checkpoint_batch_64.pkl\n"
     ]
    },
    {
     "data": {
      "text/html": [
       "<pre>2024-08-29 13:13:37,381 - IDTranslator_140214130000384 - INFO - Processed batch 65/83</pre>"
      ],
      "text/plain": [
       "<IPython.core.display.HTML object>"
      ]
     },
     "metadata": {},
     "output_type": "display_data"
    },
    {
     "name": "stderr",
     "output_type": "stream",
     "text": [
      "INFO:IDTranslator_140214130000384:Processed batch 65/83\n"
     ]
    },
    {
     "data": {
      "text/html": [
       "<pre>2024-08-29 13:13:39,340 - IDTranslator_140214130000384 - INFO - Processed batch 66/83</pre>"
      ],
      "text/plain": [
       "<IPython.core.display.HTML object>"
      ]
     },
     "metadata": {},
     "output_type": "display_data"
    },
    {
     "name": "stderr",
     "output_type": "stream",
     "text": [
      "INFO:IDTranslator_140214130000384:Processed batch 66/83\n"
     ]
    },
    {
     "data": {
      "text/html": [
       "<pre>2024-08-29 13:13:39,343 - IDTranslator_140214130000384 - INFO - Progress saved to checkpoint_batch_66.pkl</pre>"
      ],
      "text/plain": [
       "<IPython.core.display.HTML object>"
      ]
     },
     "metadata": {},
     "output_type": "display_data"
    },
    {
     "name": "stderr",
     "output_type": "stream",
     "text": [
      "INFO:IDTranslator_140214130000384:Progress saved to checkpoint_batch_66.pkl\n"
     ]
    },
    {
     "data": {
      "text/html": [
       "<pre>2024-08-29 13:13:40,034 - IDTranslator_140214130000384 - INFO - Processed batch 67/83</pre>"
      ],
      "text/plain": [
       "<IPython.core.display.HTML object>"
      ]
     },
     "metadata": {},
     "output_type": "display_data"
    },
    {
     "name": "stderr",
     "output_type": "stream",
     "text": [
      "INFO:IDTranslator_140214130000384:Processed batch 67/83\n"
     ]
    },
    {
     "data": {
      "text/html": [
       "<pre>2024-08-29 13:13:42,441 - IDTranslator_140214130000384 - INFO - Processed batch 68/83</pre>"
      ],
      "text/plain": [
       "<IPython.core.display.HTML object>"
      ]
     },
     "metadata": {},
     "output_type": "display_data"
    },
    {
     "name": "stderr",
     "output_type": "stream",
     "text": [
      "INFO:IDTranslator_140214130000384:Processed batch 68/83\n"
     ]
    },
    {
     "data": {
      "text/html": [
       "<pre>2024-08-29 13:13:42,443 - IDTranslator_140214130000384 - INFO - Progress saved to checkpoint_batch_68.pkl</pre>"
      ],
      "text/plain": [
       "<IPython.core.display.HTML object>"
      ]
     },
     "metadata": {},
     "output_type": "display_data"
    },
    {
     "name": "stderr",
     "output_type": "stream",
     "text": [
      "INFO:IDTranslator_140214130000384:Progress saved to checkpoint_batch_68.pkl\n"
     ]
    },
    {
     "data": {
      "text/html": [
       "<pre>2024-08-29 13:13:48,512 - IDTranslator_140214130000384 - INFO - Processed batch 69/83</pre>"
      ],
      "text/plain": [
       "<IPython.core.display.HTML object>"
      ]
     },
     "metadata": {},
     "output_type": "display_data"
    },
    {
     "name": "stderr",
     "output_type": "stream",
     "text": [
      "INFO:IDTranslator_140214130000384:Processed batch 69/83\n"
     ]
    },
    {
     "data": {
      "text/html": [
       "<pre>2024-08-29 13:13:49,620 - IDTranslator_140214130000384 - INFO - Processed batch 70/83</pre>"
      ],
      "text/plain": [
       "<IPython.core.display.HTML object>"
      ]
     },
     "metadata": {},
     "output_type": "display_data"
    },
    {
     "name": "stderr",
     "output_type": "stream",
     "text": [
      "INFO:IDTranslator_140214130000384:Processed batch 70/83\n"
     ]
    },
    {
     "data": {
      "text/html": [
       "<pre>2024-08-29 13:13:49,624 - IDTranslator_140214130000384 - INFO - Progress saved to checkpoint_batch_70.pkl</pre>"
      ],
      "text/plain": [
       "<IPython.core.display.HTML object>"
      ]
     },
     "metadata": {},
     "output_type": "display_data"
    },
    {
     "name": "stderr",
     "output_type": "stream",
     "text": [
      "INFO:IDTranslator_140214130000384:Progress saved to checkpoint_batch_70.pkl\n"
     ]
    },
    {
     "data": {
      "text/html": [
       "<pre>2024-08-29 13:13:51,565 - IDTranslator_140214130000384 - INFO - Processed batch 71/83</pre>"
      ],
      "text/plain": [
       "<IPython.core.display.HTML object>"
      ]
     },
     "metadata": {},
     "output_type": "display_data"
    },
    {
     "name": "stderr",
     "output_type": "stream",
     "text": [
      "INFO:IDTranslator_140214130000384:Processed batch 71/83\n"
     ]
    },
    {
     "data": {
      "text/html": [
       "<pre>2024-08-29 13:13:54,465 - IDTranslator_140214130000384 - INFO - Processed batch 72/83</pre>"
      ],
      "text/plain": [
       "<IPython.core.display.HTML object>"
      ]
     },
     "metadata": {},
     "output_type": "display_data"
    },
    {
     "name": "stderr",
     "output_type": "stream",
     "text": [
      "INFO:IDTranslator_140214130000384:Processed batch 72/83\n"
     ]
    },
    {
     "data": {
      "text/html": [
       "<pre>2024-08-29 13:13:54,468 - IDTranslator_140214130000384 - INFO - Progress saved to checkpoint_batch_72.pkl</pre>"
      ],
      "text/plain": [
       "<IPython.core.display.HTML object>"
      ]
     },
     "metadata": {},
     "output_type": "display_data"
    },
    {
     "name": "stderr",
     "output_type": "stream",
     "text": [
      "INFO:IDTranslator_140214130000384:Progress saved to checkpoint_batch_72.pkl\n"
     ]
    },
    {
     "data": {
      "text/html": [
       "<pre>2024-08-29 13:16:12,746 - IDTranslator_140214130000384 - INFO - Processed batch 73/83</pre>"
      ],
      "text/plain": [
       "<IPython.core.display.HTML object>"
      ]
     },
     "metadata": {},
     "output_type": "display_data"
    },
    {
     "name": "stderr",
     "output_type": "stream",
     "text": [
      "INFO:IDTranslator_140214130000384:Processed batch 73/83\n"
     ]
    },
    {
     "data": {
      "text/html": [
       "<pre>2024-08-29 13:16:39,540 - IDTranslator_140214130000384 - INFO - Processed batch 74/83</pre>"
      ],
      "text/plain": [
       "<IPython.core.display.HTML object>"
      ]
     },
     "metadata": {},
     "output_type": "display_data"
    },
    {
     "name": "stderr",
     "output_type": "stream",
     "text": [
      "INFO:IDTranslator_140214130000384:Processed batch 74/83\n"
     ]
    },
    {
     "data": {
      "text/html": [
       "<pre>2024-08-29 13:16:39,544 - IDTranslator_140214130000384 - INFO - Progress saved to checkpoint_batch_74.pkl</pre>"
      ],
      "text/plain": [
       "<IPython.core.display.HTML object>"
      ]
     },
     "metadata": {},
     "output_type": "display_data"
    },
    {
     "name": "stderr",
     "output_type": "stream",
     "text": [
      "INFO:IDTranslator_140214130000384:Progress saved to checkpoint_batch_74.pkl\n"
     ]
    },
    {
     "data": {
      "text/html": [
       "<pre>2024-08-29 13:16:47,777 - IDTranslator_140214130000384 - INFO - Processed batch 75/83</pre>"
      ],
      "text/plain": [
       "<IPython.core.display.HTML object>"
      ]
     },
     "metadata": {},
     "output_type": "display_data"
    },
    {
     "name": "stderr",
     "output_type": "stream",
     "text": [
      "INFO:IDTranslator_140214130000384:Processed batch 75/83\n"
     ]
    },
    {
     "data": {
      "text/html": [
       "<pre>2024-08-29 13:16:48,964 - IDTranslator_140214130000384 - INFO - Processed batch 76/83</pre>"
      ],
      "text/plain": [
       "<IPython.core.display.HTML object>"
      ]
     },
     "metadata": {},
     "output_type": "display_data"
    },
    {
     "name": "stderr",
     "output_type": "stream",
     "text": [
      "INFO:IDTranslator_140214130000384:Processed batch 76/83\n"
     ]
    },
    {
     "data": {
      "text/html": [
       "<pre>2024-08-29 13:16:48,967 - IDTranslator_140214130000384 - INFO - Progress saved to checkpoint_batch_76.pkl</pre>"
      ],
      "text/plain": [
       "<IPython.core.display.HTML object>"
      ]
     },
     "metadata": {},
     "output_type": "display_data"
    },
    {
     "name": "stderr",
     "output_type": "stream",
     "text": [
      "INFO:IDTranslator_140214130000384:Progress saved to checkpoint_batch_76.pkl\n"
     ]
    },
    {
     "data": {
      "text/html": [
       "<pre>2024-08-29 13:16:49,130 - IDTranslator_140214130000384 - INFO - Processed batch 77/83</pre>"
      ],
      "text/plain": [
       "<IPython.core.display.HTML object>"
      ]
     },
     "metadata": {},
     "output_type": "display_data"
    },
    {
     "name": "stderr",
     "output_type": "stream",
     "text": [
      "INFO:IDTranslator_140214130000384:Processed batch 77/83\n"
     ]
    },
    {
     "data": {
      "text/html": [
       "<pre>2024-08-29 13:16:50,583 - IDTranslator_140214130000384 - INFO - Processed batch 78/83</pre>"
      ],
      "text/plain": [
       "<IPython.core.display.HTML object>"
      ]
     },
     "metadata": {},
     "output_type": "display_data"
    },
    {
     "name": "stderr",
     "output_type": "stream",
     "text": [
      "INFO:IDTranslator_140214130000384:Processed batch 78/83\n"
     ]
    },
    {
     "data": {
      "text/html": [
       "<pre>2024-08-29 13:16:50,586 - IDTranslator_140214130000384 - INFO - Progress saved to checkpoint_batch_78.pkl</pre>"
      ],
      "text/plain": [
       "<IPython.core.display.HTML object>"
      ]
     },
     "metadata": {},
     "output_type": "display_data"
    },
    {
     "name": "stderr",
     "output_type": "stream",
     "text": [
      "INFO:IDTranslator_140214130000384:Progress saved to checkpoint_batch_78.pkl\n"
     ]
    },
    {
     "data": {
      "text/html": [
       "<pre>2024-08-29 13:16:51,222 - IDTranslator_140214130000384 - INFO - Processed batch 79/83</pre>"
      ],
      "text/plain": [
       "<IPython.core.display.HTML object>"
      ]
     },
     "metadata": {},
     "output_type": "display_data"
    },
    {
     "name": "stderr",
     "output_type": "stream",
     "text": [
      "INFO:IDTranslator_140214130000384:Processed batch 79/83\n"
     ]
    },
    {
     "data": {
      "text/html": [
       "<pre>2024-08-29 13:16:54,953 - IDTranslator_140214130000384 - INFO - Processed batch 80/83</pre>"
      ],
      "text/plain": [
       "<IPython.core.display.HTML object>"
      ]
     },
     "metadata": {},
     "output_type": "display_data"
    },
    {
     "name": "stderr",
     "output_type": "stream",
     "text": [
      "INFO:IDTranslator_140214130000384:Processed batch 80/83\n"
     ]
    },
    {
     "data": {
      "text/html": [
       "<pre>2024-08-29 13:16:54,957 - IDTranslator_140214130000384 - INFO - Progress saved to checkpoint_batch_80.pkl</pre>"
      ],
      "text/plain": [
       "<IPython.core.display.HTML object>"
      ]
     },
     "metadata": {},
     "output_type": "display_data"
    },
    {
     "name": "stderr",
     "output_type": "stream",
     "text": [
      "INFO:IDTranslator_140214130000384:Progress saved to checkpoint_batch_80.pkl\n"
     ]
    },
    {
     "data": {
      "text/html": [
       "<pre>2024-08-29 13:17:00,062 - IDTranslator_140214130000384 - INFO - Processed batch 81/83</pre>"
      ],
      "text/plain": [
       "<IPython.core.display.HTML object>"
      ]
     },
     "metadata": {},
     "output_type": "display_data"
    },
    {
     "name": "stderr",
     "output_type": "stream",
     "text": [
      "INFO:IDTranslator_140214130000384:Processed batch 81/83\n"
     ]
    },
    {
     "data": {
      "text/html": [
       "<pre>2024-08-29 13:17:04,310 - IDTranslator_140214130000384 - INFO - Processed batch 82/83</pre>"
      ],
      "text/plain": [
       "<IPython.core.display.HTML object>"
      ]
     },
     "metadata": {},
     "output_type": "display_data"
    },
    {
     "name": "stderr",
     "output_type": "stream",
     "text": [
      "INFO:IDTranslator_140214130000384:Processed batch 82/83\n"
     ]
    },
    {
     "data": {
      "text/html": [
       "<pre>2024-08-29 13:17:04,314 - IDTranslator_140214130000384 - INFO - Progress saved to checkpoint_batch_82.pkl</pre>"
      ],
      "text/plain": [
       "<IPython.core.display.HTML object>"
      ]
     },
     "metadata": {},
     "output_type": "display_data"
    },
    {
     "name": "stderr",
     "output_type": "stream",
     "text": [
      "INFO:IDTranslator_140214130000384:Progress saved to checkpoint_batch_82.pkl\n"
     ]
    },
    {
     "data": {
      "text/html": [
       "<pre>2024-08-29 13:17:05,350 - IDTranslator_140214130000384 - INFO - Processed batch 83/83</pre>"
      ],
      "text/plain": [
       "<IPython.core.display.HTML object>"
      ]
     },
     "metadata": {},
     "output_type": "display_data"
    },
    {
     "name": "stderr",
     "output_type": "stream",
     "text": [
      "INFO:IDTranslator_140214130000384:Processed batch 83/83\n"
     ]
    },
    {
     "data": {
      "text/html": [
       "<pre>2024-08-29 13:17:05,354 - IDTranslator_140214130000384 - INFO - Progress saved to checkpoint_batch_83.pkl</pre>"
      ],
      "text/plain": [
       "<IPython.core.display.HTML object>"
      ]
     },
     "metadata": {},
     "output_type": "display_data"
    },
    {
     "name": "stderr",
     "output_type": "stream",
     "text": [
      "INFO:IDTranslator_140214130000384:Progress saved to checkpoint_batch_83.pkl\n"
     ]
    },
    {
     "data": {
      "text/html": [
       "<pre>2024-08-29 13:17:05,376 - IDTranslator_140214130000384 - INFO - Applying translation to dataframe...</pre>"
      ],
      "text/plain": [
       "<IPython.core.display.HTML object>"
      ]
     },
     "metadata": {},
     "output_type": "display_data"
    },
    {
     "name": "stderr",
     "output_type": "stream",
     "text": [
      "INFO:IDTranslator_140214130000384:Applying translation to dataframe...\n"
     ]
    },
    {
     "data": {
      "text/html": [
       "<pre>2024-08-29 13:17:20,359 - IDTranslator_140214130000384 - INFO - Results saved to ../data/HuRI_translated.csv</pre>"
      ],
      "text/plain": [
       "<IPython.core.display.HTML object>"
      ]
     },
     "metadata": {},
     "output_type": "display_data"
    },
    {
     "name": "stderr",
     "output_type": "stream",
     "text": [
      "INFO:IDTranslator_140214130000384:Results saved to ../data/HuRI_translated.csv\n"
     ]
    },
    {
     "data": {
      "text/html": [
       "<pre>2024-08-29 13:17:20,409 - IDTranslator_140214130000384 - INFO - Found 117 untranslated IDs to retry</pre>"
      ],
      "text/plain": [
       "<IPython.core.display.HTML object>"
      ]
     },
     "metadata": {},
     "output_type": "display_data"
    },
    {
     "name": "stderr",
     "output_type": "stream",
     "text": [
      "INFO:IDTranslator_140214130000384:Found 117 untranslated IDs to retry\n"
     ]
    },
    {
     "data": {
      "text/html": [
       "<pre>2024-08-29 13:17:20,410 - IDTranslator_140214130000384 - INFO - Retrying translation for 117 untranslated IDs</pre>"
      ],
      "text/plain": [
       "<IPython.core.display.HTML object>"
      ]
     },
     "metadata": {},
     "output_type": "display_data"
    },
    {
     "name": "stderr",
     "output_type": "stream",
     "text": [
      "INFO:IDTranslator_140214130000384:Retrying translation for 117 untranslated IDs\n"
     ]
    },
    {
     "data": {
      "application/vnd.jupyter.widget-view+json": {
       "model_id": "338a2933c66a4601be560e361139e56b",
       "version_major": 2,
       "version_minor": 0
      },
      "text/plain": [
       "Retrying untranslated batches:   0%|          | 0/2 [00:00<?, ?it/s]"
      ]
     },
     "metadata": {},
     "output_type": "display_data"
    },
    {
     "data": {
      "text/html": [
       "<pre>2024-08-29 13:17:51,455 - IDTranslator_140214130000384 - INFO - Retried batch 1/2</pre>"
      ],
      "text/plain": [
       "<IPython.core.display.HTML object>"
      ]
     },
     "metadata": {},
     "output_type": "display_data"
    },
    {
     "name": "stderr",
     "output_type": "stream",
     "text": [
      "INFO:IDTranslator_140214130000384:Retried batch 1/2\n"
     ]
    },
    {
     "data": {
      "text/html": [
       "<pre>2024-08-29 13:20:33,424 - IDTranslator_140214130000384 - INFO - Retried batch 2/2</pre>"
      ],
      "text/plain": [
       "<IPython.core.display.HTML object>"
      ]
     },
     "metadata": {},
     "output_type": "display_data"
    },
    {
     "name": "stderr",
     "output_type": "stream",
     "text": [
      "INFO:IDTranslator_140214130000384:Retried batch 2/2\n"
     ]
    },
    {
     "data": {
      "text/html": [
       "<pre>2024-08-29 13:20:33,430 - IDTranslator_140214130000384 - INFO - Progress saved to retry_checkpoint_batch_2.pkl</pre>"
      ],
      "text/plain": [
       "<IPython.core.display.HTML object>"
      ]
     },
     "metadata": {},
     "output_type": "display_data"
    },
    {
     "name": "stderr",
     "output_type": "stream",
     "text": [
      "INFO:IDTranslator_140214130000384:Progress saved to retry_checkpoint_batch_2.pkl\n"
     ]
    },
    {
     "data": {
      "text/html": [
       "<pre>2024-08-29 13:20:33,446 - IDTranslator_140214130000384 - INFO - Applying translation to dataframe...</pre>"
      ],
      "text/plain": [
       "<IPython.core.display.HTML object>"
      ]
     },
     "metadata": {},
     "output_type": "display_data"
    },
    {
     "name": "stderr",
     "output_type": "stream",
     "text": [
      "INFO:IDTranslator_140214130000384:Applying translation to dataframe...\n"
     ]
    },
    {
     "data": {
      "text/html": [
       "<pre>2024-08-29 13:20:36,049 - IDTranslator_140214130000384 - INFO - Results saved to ../data/HuRI_translated.csv</pre>"
      ],
      "text/plain": [
       "<IPython.core.display.HTML object>"
      ]
     },
     "metadata": {},
     "output_type": "display_data"
    },
    {
     "name": "stderr",
     "output_type": "stream",
     "text": [
      "INFO:IDTranslator_140214130000384:Results saved to ../data/HuRI_translated.csv\n"
     ]
    },
    {
     "data": {
      "text/html": [
       "<pre>2024-08-29 13:20:36,071 - IDTranslator_140214130000384 - INFO - ID translation process completed in 1571.78 seconds</pre>"
      ],
      "text/plain": [
       "<IPython.core.display.HTML object>"
      ]
     },
     "metadata": {},
     "output_type": "display_data"
    },
    {
     "name": "stderr",
     "output_type": "stream",
     "text": [
      "INFO:IDTranslator_140214130000384:ID translation process completed in 1571.78 seconds\n"
     ]
    },
    {
     "data": {
      "text/html": [
       "<pre>2024-08-29 13:20:36,271 - IDTranslator_140214130000384 - INFO - Original entry count: 52692</pre>"
      ],
      "text/plain": [
       "<IPython.core.display.HTML object>"
      ]
     },
     "metadata": {},
     "output_type": "display_data"
    },
    {
     "name": "stderr",
     "output_type": "stream",
     "text": [
      "INFO:IDTranslator_140214130000384:Original entry count: 52692\n"
     ]
    },
    {
     "data": {
      "text/html": [
       "<pre>2024-08-29 13:20:36,272 - IDTranslator_140214130000384 - INFO - Translated entry count: 51494</pre>"
      ],
      "text/plain": [
       "<IPython.core.display.HTML object>"
      ]
     },
     "metadata": {},
     "output_type": "display_data"
    },
    {
     "name": "stderr",
     "output_type": "stream",
     "text": [
      "INFO:IDTranslator_140214130000384:Translated entry count: 51494\n"
     ]
    },
    {
     "data": {
      "text/html": [
       "<pre>2024-08-29 13:20:36,273 - IDTranslator_140214130000384 - INFO - Expansion factor: 0.98</pre>"
      ],
      "text/plain": [
       "<IPython.core.display.HTML object>"
      ]
     },
     "metadata": {},
     "output_type": "display_data"
    },
    {
     "name": "stderr",
     "output_type": "stream",
     "text": [
      "INFO:IDTranslator_140214130000384:Expansion factor: 0.98\n"
     ]
    },
    {
     "data": {
      "text/html": [
       "<pre>2024-08-29 13:20:36,273 - IDTranslator_140214130000384 - INFO - Translation success rate: 97.73%</pre>"
      ],
      "text/plain": [
       "<IPython.core.display.HTML object>"
      ]
     },
     "metadata": {},
     "output_type": "display_data"
    },
    {
     "name": "stderr",
     "output_type": "stream",
     "text": [
      "INFO:IDTranslator_140214130000384:Translation success rate: 97.73%\n"
     ]
    }
   ],
   "source": [
    "translator_2.run()"
   ]
  },
  {
   "cell_type": "code",
   "execution_count": 9,
   "id": "6fc73d6b-ed5f-440d-80d6-13dd55983639",
   "metadata": {},
   "outputs": [],
   "source": [
    "translator_3 = IDTranslator('../data/Lit-BM.tsv', '../data/Lit-BM_translated.csv', 'Ensembl', 'UniProtKB-Swiss-Prot', has_header=False, input_columns=['source', 'target'], processes=12, pickle_dir=\"./pickles_3\")"
   ]
  },
  {
   "cell_type": "code",
   "execution_count": 10,
   "id": "8c2375c8-8030-4bf1-be4c-c99b72fa06f3",
   "metadata": {},
   "outputs": [
    {
     "data": {
      "text/html": [
       "<pre>2024-08-29 13:20:36,282 - IDTranslator_140213322316544 - INFO - Starting ID translation process from Ensembl to UniProtKB-Swiss-Prot</pre>"
      ],
      "text/plain": [
       "<IPython.core.display.HTML object>"
      ]
     },
     "metadata": {},
     "output_type": "display_data"
    },
    {
     "name": "stderr",
     "output_type": "stream",
     "text": [
      "INFO:IDTranslator_140213322316544:Starting ID translation process from Ensembl to UniProtKB-Swiss-Prot\n"
     ]
    },
    {
     "data": {
      "text/html": [
       "<pre>2024-08-29 13:20:36,289 - IDTranslator_140213322316544 - INFO - Loaded 13441 rows with 6047 unique IDs</pre>"
      ],
      "text/plain": [
       "<IPython.core.display.HTML object>"
      ]
     },
     "metadata": {},
     "output_type": "display_data"
    },
    {
     "name": "stderr",
     "output_type": "stream",
     "text": [
      "INFO:IDTranslator_140213322316544:Loaded 13441 rows with 6047 unique IDs\n"
     ]
    },
    {
     "data": {
      "text/html": [
       "<pre>2024-08-29 13:20:36,290 - IDTranslator_140213322316544 - INFO - No existing progress found. Starting from scratch.</pre>"
      ],
      "text/plain": [
       "<IPython.core.display.HTML object>"
      ]
     },
     "metadata": {},
     "output_type": "display_data"
    },
    {
     "name": "stderr",
     "output_type": "stream",
     "text": [
      "INFO:IDTranslator_140213322316544:No existing progress found. Starting from scratch.\n"
     ]
    },
    {
     "data": {
      "application/vnd.jupyter.widget-view+json": {
       "model_id": "3f173491a840412fbc0f4aaaa7143cac",
       "version_major": 2,
       "version_minor": 0
      },
      "text/plain": [
       "Processing batches:   0%|          | 0/61 [00:00<?, ?it/s]"
      ]
     },
     "metadata": {},
     "output_type": "display_data"
    },
    {
     "data": {
      "text/html": [
       "<pre>2024-08-29 13:23:42,174 - IDTranslator_140213322316544 - INFO - Processed batch 1/61</pre>"
      ],
      "text/plain": [
       "<IPython.core.display.HTML object>"
      ]
     },
     "metadata": {},
     "output_type": "display_data"
    },
    {
     "name": "stderr",
     "output_type": "stream",
     "text": [
      "INFO:IDTranslator_140213322316544:Processed batch 1/61\n"
     ]
    },
    {
     "data": {
      "text/html": [
       "<pre>2024-08-29 13:23:45,457 - IDTranslator_140213322316544 - INFO - Processed batch 2/61</pre>"
      ],
      "text/plain": [
       "<IPython.core.display.HTML object>"
      ]
     },
     "metadata": {},
     "output_type": "display_data"
    },
    {
     "name": "stderr",
     "output_type": "stream",
     "text": [
      "INFO:IDTranslator_140213322316544:Processed batch 2/61\n"
     ]
    },
    {
     "data": {
      "text/html": [
       "<pre>2024-08-29 13:23:45,459 - IDTranslator_140213322316544 - INFO - Progress saved to checkpoint_batch_2.pkl</pre>"
      ],
      "text/plain": [
       "<IPython.core.display.HTML object>"
      ]
     },
     "metadata": {},
     "output_type": "display_data"
    },
    {
     "name": "stderr",
     "output_type": "stream",
     "text": [
      "INFO:IDTranslator_140213322316544:Progress saved to checkpoint_batch_2.pkl\n"
     ]
    },
    {
     "data": {
      "text/html": [
       "<pre>2024-08-29 13:23:46,280 - IDTranslator_140213322316544 - INFO - Processed batch 3/61</pre>"
      ],
      "text/plain": [
       "<IPython.core.display.HTML object>"
      ]
     },
     "metadata": {},
     "output_type": "display_data"
    },
    {
     "name": "stderr",
     "output_type": "stream",
     "text": [
      "INFO:IDTranslator_140213322316544:Processed batch 3/61\n"
     ]
    },
    {
     "data": {
      "text/html": [
       "<pre>2024-08-29 13:23:46,338 - IDTranslator_140213322316544 - INFO - Processed batch 4/61</pre>"
      ],
      "text/plain": [
       "<IPython.core.display.HTML object>"
      ]
     },
     "metadata": {},
     "output_type": "display_data"
    },
    {
     "name": "stderr",
     "output_type": "stream",
     "text": [
      "INFO:IDTranslator_140213322316544:Processed batch 4/61\n"
     ]
    },
    {
     "data": {
      "text/html": [
       "<pre>2024-08-29 13:23:46,339 - IDTranslator_140213322316544 - INFO - Progress saved to checkpoint_batch_4.pkl</pre>"
      ],
      "text/plain": [
       "<IPython.core.display.HTML object>"
      ]
     },
     "metadata": {},
     "output_type": "display_data"
    },
    {
     "name": "stderr",
     "output_type": "stream",
     "text": [
      "INFO:IDTranslator_140213322316544:Progress saved to checkpoint_batch_4.pkl\n"
     ]
    },
    {
     "data": {
      "text/html": [
       "<pre>2024-08-29 13:23:46,603 - IDTranslator_140213322316544 - INFO - Processed batch 5/61</pre>"
      ],
      "text/plain": [
       "<IPython.core.display.HTML object>"
      ]
     },
     "metadata": {},
     "output_type": "display_data"
    },
    {
     "name": "stderr",
     "output_type": "stream",
     "text": [
      "INFO:IDTranslator_140213322316544:Processed batch 5/61\n"
     ]
    },
    {
     "data": {
      "text/html": [
       "<pre>2024-08-29 13:23:47,758 - IDTranslator_140213322316544 - INFO - Processed batch 6/61</pre>"
      ],
      "text/plain": [
       "<IPython.core.display.HTML object>"
      ]
     },
     "metadata": {},
     "output_type": "display_data"
    },
    {
     "name": "stderr",
     "output_type": "stream",
     "text": [
      "INFO:IDTranslator_140213322316544:Processed batch 6/61\n"
     ]
    },
    {
     "data": {
      "text/html": [
       "<pre>2024-08-29 13:23:47,760 - IDTranslator_140213322316544 - INFO - Progress saved to checkpoint_batch_6.pkl</pre>"
      ],
      "text/plain": [
       "<IPython.core.display.HTML object>"
      ]
     },
     "metadata": {},
     "output_type": "display_data"
    },
    {
     "name": "stderr",
     "output_type": "stream",
     "text": [
      "INFO:IDTranslator_140213322316544:Progress saved to checkpoint_batch_6.pkl\n"
     ]
    },
    {
     "data": {
      "text/html": [
       "<pre>2024-08-29 13:23:50,062 - IDTranslator_140213322316544 - INFO - Processed batch 7/61</pre>"
      ],
      "text/plain": [
       "<IPython.core.display.HTML object>"
      ]
     },
     "metadata": {},
     "output_type": "display_data"
    },
    {
     "name": "stderr",
     "output_type": "stream",
     "text": [
      "INFO:IDTranslator_140213322316544:Processed batch 7/61\n"
     ]
    },
    {
     "data": {
      "text/html": [
       "<pre>2024-08-29 13:23:50,392 - IDTranslator_140213322316544 - INFO - Processed batch 8/61</pre>"
      ],
      "text/plain": [
       "<IPython.core.display.HTML object>"
      ]
     },
     "metadata": {},
     "output_type": "display_data"
    },
    {
     "name": "stderr",
     "output_type": "stream",
     "text": [
      "INFO:IDTranslator_140213322316544:Processed batch 8/61\n"
     ]
    },
    {
     "data": {
      "text/html": [
       "<pre>2024-08-29 13:23:50,394 - IDTranslator_140213322316544 - INFO - Progress saved to checkpoint_batch_8.pkl</pre>"
      ],
      "text/plain": [
       "<IPython.core.display.HTML object>"
      ]
     },
     "metadata": {},
     "output_type": "display_data"
    },
    {
     "name": "stderr",
     "output_type": "stream",
     "text": [
      "INFO:IDTranslator_140213322316544:Progress saved to checkpoint_batch_8.pkl\n"
     ]
    },
    {
     "data": {
      "text/html": [
       "<pre>2024-08-29 13:23:51,545 - IDTranslator_140213322316544 - INFO - Processed batch 9/61</pre>"
      ],
      "text/plain": [
       "<IPython.core.display.HTML object>"
      ]
     },
     "metadata": {},
     "output_type": "display_data"
    },
    {
     "name": "stderr",
     "output_type": "stream",
     "text": [
      "INFO:IDTranslator_140213322316544:Processed batch 9/61\n"
     ]
    },
    {
     "data": {
      "text/html": [
       "<pre>2024-08-29 13:23:51,989 - IDTranslator_140213322316544 - INFO - Processed batch 10/61</pre>"
      ],
      "text/plain": [
       "<IPython.core.display.HTML object>"
      ]
     },
     "metadata": {},
     "output_type": "display_data"
    },
    {
     "name": "stderr",
     "output_type": "stream",
     "text": [
      "INFO:IDTranslator_140213322316544:Processed batch 10/61\n"
     ]
    },
    {
     "data": {
      "text/html": [
       "<pre>2024-08-29 13:23:51,991 - IDTranslator_140213322316544 - INFO - Progress saved to checkpoint_batch_10.pkl</pre>"
      ],
      "text/plain": [
       "<IPython.core.display.HTML object>"
      ]
     },
     "metadata": {},
     "output_type": "display_data"
    },
    {
     "name": "stderr",
     "output_type": "stream",
     "text": [
      "INFO:IDTranslator_140213322316544:Progress saved to checkpoint_batch_10.pkl\n"
     ]
    },
    {
     "data": {
      "text/html": [
       "<pre>2024-08-29 13:23:53,720 - IDTranslator_140213322316544 - INFO - Processed batch 11/61</pre>"
      ],
      "text/plain": [
       "<IPython.core.display.HTML object>"
      ]
     },
     "metadata": {},
     "output_type": "display_data"
    },
    {
     "name": "stderr",
     "output_type": "stream",
     "text": [
      "INFO:IDTranslator_140213322316544:Processed batch 11/61\n"
     ]
    },
    {
     "data": {
      "text/html": [
       "<pre>2024-08-29 13:23:54,124 - IDTranslator_140213322316544 - INFO - Processed batch 12/61</pre>"
      ],
      "text/plain": [
       "<IPython.core.display.HTML object>"
      ]
     },
     "metadata": {},
     "output_type": "display_data"
    },
    {
     "name": "stderr",
     "output_type": "stream",
     "text": [
      "INFO:IDTranslator_140213322316544:Processed batch 12/61\n"
     ]
    },
    {
     "data": {
      "text/html": [
       "<pre>2024-08-29 13:23:54,126 - IDTranslator_140213322316544 - INFO - Progress saved to checkpoint_batch_12.pkl</pre>"
      ],
      "text/plain": [
       "<IPython.core.display.HTML object>"
      ]
     },
     "metadata": {},
     "output_type": "display_data"
    },
    {
     "name": "stderr",
     "output_type": "stream",
     "text": [
      "INFO:IDTranslator_140213322316544:Progress saved to checkpoint_batch_12.pkl\n"
     ]
    },
    {
     "data": {
      "text/html": [
       "<pre>2024-08-29 13:26:52,283 - IDTranslator_140213322316544 - INFO - Processed batch 13/61</pre>"
      ],
      "text/plain": [
       "<IPython.core.display.HTML object>"
      ]
     },
     "metadata": {},
     "output_type": "display_data"
    },
    {
     "name": "stderr",
     "output_type": "stream",
     "text": [
      "INFO:IDTranslator_140213322316544:Processed batch 13/61\n"
     ]
    },
    {
     "data": {
      "text/html": [
       "<pre>2024-08-29 13:26:52,302 - IDTranslator_140213322316544 - INFO - Processed batch 14/61</pre>"
      ],
      "text/plain": [
       "<IPython.core.display.HTML object>"
      ]
     },
     "metadata": {},
     "output_type": "display_data"
    },
    {
     "name": "stderr",
     "output_type": "stream",
     "text": [
      "INFO:IDTranslator_140213322316544:Processed batch 14/61\n"
     ]
    },
    {
     "data": {
      "text/html": [
       "<pre>2024-08-29 13:26:52,304 - IDTranslator_140213322316544 - INFO - Progress saved to checkpoint_batch_14.pkl</pre>"
      ],
      "text/plain": [
       "<IPython.core.display.HTML object>"
      ]
     },
     "metadata": {},
     "output_type": "display_data"
    },
    {
     "name": "stderr",
     "output_type": "stream",
     "text": [
      "INFO:IDTranslator_140213322316544:Progress saved to checkpoint_batch_14.pkl\n"
     ]
    },
    {
     "data": {
      "text/html": [
       "<pre>2024-08-29 13:26:57,443 - IDTranslator_140213322316544 - INFO - Processed batch 15/61</pre>"
      ],
      "text/plain": [
       "<IPython.core.display.HTML object>"
      ]
     },
     "metadata": {},
     "output_type": "display_data"
    },
    {
     "name": "stderr",
     "output_type": "stream",
     "text": [
      "INFO:IDTranslator_140213322316544:Processed batch 15/61\n"
     ]
    },
    {
     "data": {
      "text/html": [
       "<pre>2024-08-29 13:26:57,775 - IDTranslator_140213322316544 - INFO - Processed batch 16/61</pre>"
      ],
      "text/plain": [
       "<IPython.core.display.HTML object>"
      ]
     },
     "metadata": {},
     "output_type": "display_data"
    },
    {
     "name": "stderr",
     "output_type": "stream",
     "text": [
      "INFO:IDTranslator_140213322316544:Processed batch 16/61\n"
     ]
    },
    {
     "data": {
      "text/html": [
       "<pre>2024-08-29 13:26:57,777 - IDTranslator_140213322316544 - INFO - Progress saved to checkpoint_batch_16.pkl</pre>"
      ],
      "text/plain": [
       "<IPython.core.display.HTML object>"
      ]
     },
     "metadata": {},
     "output_type": "display_data"
    },
    {
     "name": "stderr",
     "output_type": "stream",
     "text": [
      "INFO:IDTranslator_140213322316544:Progress saved to checkpoint_batch_16.pkl\n"
     ]
    },
    {
     "data": {
      "text/html": [
       "<pre>2024-08-29 13:27:00,828 - IDTranslator_140213322316544 - INFO - Processed batch 17/61</pre>"
      ],
      "text/plain": [
       "<IPython.core.display.HTML object>"
      ]
     },
     "metadata": {},
     "output_type": "display_data"
    },
    {
     "name": "stderr",
     "output_type": "stream",
     "text": [
      "INFO:IDTranslator_140213322316544:Processed batch 17/61\n"
     ]
    },
    {
     "data": {
      "text/html": [
       "<pre>2024-08-29 13:27:01,726 - IDTranslator_140213322316544 - INFO - Processed batch 18/61</pre>"
      ],
      "text/plain": [
       "<IPython.core.display.HTML object>"
      ]
     },
     "metadata": {},
     "output_type": "display_data"
    },
    {
     "name": "stderr",
     "output_type": "stream",
     "text": [
      "INFO:IDTranslator_140213322316544:Processed batch 18/61\n"
     ]
    },
    {
     "data": {
      "text/html": [
       "<pre>2024-08-29 13:27:01,728 - IDTranslator_140213322316544 - INFO - Progress saved to checkpoint_batch_18.pkl</pre>"
      ],
      "text/plain": [
       "<IPython.core.display.HTML object>"
      ]
     },
     "metadata": {},
     "output_type": "display_data"
    },
    {
     "name": "stderr",
     "output_type": "stream",
     "text": [
      "INFO:IDTranslator_140213322316544:Progress saved to checkpoint_batch_18.pkl\n"
     ]
    },
    {
     "data": {
      "text/html": [
       "<pre>2024-08-29 13:27:02,443 - IDTranslator_140213322316544 - INFO - Processed batch 19/61</pre>"
      ],
      "text/plain": [
       "<IPython.core.display.HTML object>"
      ]
     },
     "metadata": {},
     "output_type": "display_data"
    },
    {
     "name": "stderr",
     "output_type": "stream",
     "text": [
      "INFO:IDTranslator_140213322316544:Processed batch 19/61\n"
     ]
    },
    {
     "data": {
      "text/html": [
       "<pre>2024-08-29 13:27:02,446 - IDTranslator_140213322316544 - INFO - Processed batch 20/61</pre>"
      ],
      "text/plain": [
       "<IPython.core.display.HTML object>"
      ]
     },
     "metadata": {},
     "output_type": "display_data"
    },
    {
     "name": "stderr",
     "output_type": "stream",
     "text": [
      "INFO:IDTranslator_140213322316544:Processed batch 20/61\n"
     ]
    },
    {
     "data": {
      "text/html": [
       "<pre>2024-08-29 13:27:02,447 - IDTranslator_140213322316544 - INFO - Progress saved to checkpoint_batch_20.pkl</pre>"
      ],
      "text/plain": [
       "<IPython.core.display.HTML object>"
      ]
     },
     "metadata": {},
     "output_type": "display_data"
    },
    {
     "name": "stderr",
     "output_type": "stream",
     "text": [
      "INFO:IDTranslator_140213322316544:Progress saved to checkpoint_batch_20.pkl\n"
     ]
    },
    {
     "data": {
      "text/html": [
       "<pre>2024-08-29 13:27:03,884 - IDTranslator_140213322316544 - INFO - Processed batch 21/61</pre>"
      ],
      "text/plain": [
       "<IPython.core.display.HTML object>"
      ]
     },
     "metadata": {},
     "output_type": "display_data"
    },
    {
     "name": "stderr",
     "output_type": "stream",
     "text": [
      "INFO:IDTranslator_140213322316544:Processed batch 21/61\n"
     ]
    },
    {
     "data": {
      "text/html": [
       "<pre>2024-08-29 13:27:05,319 - IDTranslator_140213322316544 - INFO - Processed batch 22/61</pre>"
      ],
      "text/plain": [
       "<IPython.core.display.HTML object>"
      ]
     },
     "metadata": {},
     "output_type": "display_data"
    },
    {
     "name": "stderr",
     "output_type": "stream",
     "text": [
      "INFO:IDTranslator_140213322316544:Processed batch 22/61\n"
     ]
    },
    {
     "data": {
      "text/html": [
       "<pre>2024-08-29 13:27:05,321 - IDTranslator_140213322316544 - INFO - Progress saved to checkpoint_batch_22.pkl</pre>"
      ],
      "text/plain": [
       "<IPython.core.display.HTML object>"
      ]
     },
     "metadata": {},
     "output_type": "display_data"
    },
    {
     "name": "stderr",
     "output_type": "stream",
     "text": [
      "INFO:IDTranslator_140213322316544:Progress saved to checkpoint_batch_22.pkl\n"
     ]
    },
    {
     "data": {
      "text/html": [
       "<pre>2024-08-29 13:27:09,956 - IDTranslator_140213322316544 - INFO - Processed batch 23/61</pre>"
      ],
      "text/plain": [
       "<IPython.core.display.HTML object>"
      ]
     },
     "metadata": {},
     "output_type": "display_data"
    },
    {
     "name": "stderr",
     "output_type": "stream",
     "text": [
      "INFO:IDTranslator_140213322316544:Processed batch 23/61\n"
     ]
    },
    {
     "data": {
      "text/html": [
       "<pre>2024-08-29 13:27:10,352 - IDTranslator_140213322316544 - INFO - Processed batch 24/61</pre>"
      ],
      "text/plain": [
       "<IPython.core.display.HTML object>"
      ]
     },
     "metadata": {},
     "output_type": "display_data"
    },
    {
     "name": "stderr",
     "output_type": "stream",
     "text": [
      "INFO:IDTranslator_140213322316544:Processed batch 24/61\n"
     ]
    },
    {
     "data": {
      "text/html": [
       "<pre>2024-08-29 13:27:10,354 - IDTranslator_140213322316544 - INFO - Progress saved to checkpoint_batch_24.pkl</pre>"
      ],
      "text/plain": [
       "<IPython.core.display.HTML object>"
      ]
     },
     "metadata": {},
     "output_type": "display_data"
    },
    {
     "name": "stderr",
     "output_type": "stream",
     "text": [
      "INFO:IDTranslator_140213322316544:Progress saved to checkpoint_batch_24.pkl\n"
     ]
    },
    {
     "data": {
      "text/html": [
       "<pre>2024-08-29 13:30:07,442 - IDTranslator_140213322316544 - INFO - Processed batch 25/61</pre>"
      ],
      "text/plain": [
       "<IPython.core.display.HTML object>"
      ]
     },
     "metadata": {},
     "output_type": "display_data"
    },
    {
     "name": "stderr",
     "output_type": "stream",
     "text": [
      "INFO:IDTranslator_140213322316544:Processed batch 25/61\n"
     ]
    },
    {
     "data": {
      "text/html": [
       "<pre>2024-08-29 13:30:11,546 - IDTranslator_140213322316544 - INFO - Processed batch 26/61</pre>"
      ],
      "text/plain": [
       "<IPython.core.display.HTML object>"
      ]
     },
     "metadata": {},
     "output_type": "display_data"
    },
    {
     "name": "stderr",
     "output_type": "stream",
     "text": [
      "INFO:IDTranslator_140213322316544:Processed batch 26/61\n"
     ]
    },
    {
     "data": {
      "text/html": [
       "<pre>2024-08-29 13:30:11,549 - IDTranslator_140213322316544 - INFO - Progress saved to checkpoint_batch_26.pkl</pre>"
      ],
      "text/plain": [
       "<IPython.core.display.HTML object>"
      ]
     },
     "metadata": {},
     "output_type": "display_data"
    },
    {
     "name": "stderr",
     "output_type": "stream",
     "text": [
      "INFO:IDTranslator_140213322316544:Progress saved to checkpoint_batch_26.pkl\n"
     ]
    },
    {
     "data": {
      "text/html": [
       "<pre>2024-08-29 13:30:14,839 - IDTranslator_140213322316544 - INFO - Processed batch 27/61</pre>"
      ],
      "text/plain": [
       "<IPython.core.display.HTML object>"
      ]
     },
     "metadata": {},
     "output_type": "display_data"
    },
    {
     "name": "stderr",
     "output_type": "stream",
     "text": [
      "INFO:IDTranslator_140213322316544:Processed batch 27/61\n"
     ]
    },
    {
     "data": {
      "text/html": [
       "<pre>2024-08-29 13:30:16,830 - IDTranslator_140213322316544 - INFO - Processed batch 28/61</pre>"
      ],
      "text/plain": [
       "<IPython.core.display.HTML object>"
      ]
     },
     "metadata": {},
     "output_type": "display_data"
    },
    {
     "name": "stderr",
     "output_type": "stream",
     "text": [
      "INFO:IDTranslator_140213322316544:Processed batch 28/61\n"
     ]
    },
    {
     "data": {
      "text/html": [
       "<pre>2024-08-29 13:30:16,832 - IDTranslator_140213322316544 - INFO - Progress saved to checkpoint_batch_28.pkl</pre>"
      ],
      "text/plain": [
       "<IPython.core.display.HTML object>"
      ]
     },
     "metadata": {},
     "output_type": "display_data"
    },
    {
     "name": "stderr",
     "output_type": "stream",
     "text": [
      "INFO:IDTranslator_140213322316544:Progress saved to checkpoint_batch_28.pkl\n"
     ]
    },
    {
     "data": {
      "text/html": [
       "<pre>2024-08-29 13:30:17,763 - IDTranslator_140213322316544 - INFO - Processed batch 29/61</pre>"
      ],
      "text/plain": [
       "<IPython.core.display.HTML object>"
      ]
     },
     "metadata": {},
     "output_type": "display_data"
    },
    {
     "name": "stderr",
     "output_type": "stream",
     "text": [
      "INFO:IDTranslator_140213322316544:Processed batch 29/61\n"
     ]
    },
    {
     "data": {
      "text/html": [
       "<pre>2024-08-29 13:30:18,146 - IDTranslator_140213322316544 - INFO - Processed batch 30/61</pre>"
      ],
      "text/plain": [
       "<IPython.core.display.HTML object>"
      ]
     },
     "metadata": {},
     "output_type": "display_data"
    },
    {
     "name": "stderr",
     "output_type": "stream",
     "text": [
      "INFO:IDTranslator_140213322316544:Processed batch 30/61\n"
     ]
    },
    {
     "data": {
      "text/html": [
       "<pre>2024-08-29 13:30:18,148 - IDTranslator_140213322316544 - INFO - Progress saved to checkpoint_batch_30.pkl</pre>"
      ],
      "text/plain": [
       "<IPython.core.display.HTML object>"
      ]
     },
     "metadata": {},
     "output_type": "display_data"
    },
    {
     "name": "stderr",
     "output_type": "stream",
     "text": [
      "INFO:IDTranslator_140213322316544:Progress saved to checkpoint_batch_30.pkl\n"
     ]
    },
    {
     "data": {
      "text/html": [
       "<pre>2024-08-29 13:30:18,429 - IDTranslator_140213322316544 - INFO - Processed batch 31/61</pre>"
      ],
      "text/plain": [
       "<IPython.core.display.HTML object>"
      ]
     },
     "metadata": {},
     "output_type": "display_data"
    },
    {
     "name": "stderr",
     "output_type": "stream",
     "text": [
      "INFO:IDTranslator_140213322316544:Processed batch 31/61\n"
     ]
    },
    {
     "data": {
      "text/html": [
       "<pre>2024-08-29 13:30:21,852 - IDTranslator_140213322316544 - INFO - Processed batch 32/61</pre>"
      ],
      "text/plain": [
       "<IPython.core.display.HTML object>"
      ]
     },
     "metadata": {},
     "output_type": "display_data"
    },
    {
     "name": "stderr",
     "output_type": "stream",
     "text": [
      "INFO:IDTranslator_140213322316544:Processed batch 32/61\n"
     ]
    },
    {
     "data": {
      "text/html": [
       "<pre>2024-08-29 13:30:21,854 - IDTranslator_140213322316544 - INFO - Progress saved to checkpoint_batch_32.pkl</pre>"
      ],
      "text/plain": [
       "<IPython.core.display.HTML object>"
      ]
     },
     "metadata": {},
     "output_type": "display_data"
    },
    {
     "name": "stderr",
     "output_type": "stream",
     "text": [
      "INFO:IDTranslator_140213322316544:Progress saved to checkpoint_batch_32.pkl\n"
     ]
    },
    {
     "data": {
      "text/html": [
       "<pre>2024-08-29 13:30:22,387 - IDTranslator_140213322316544 - INFO - Processed batch 33/61</pre>"
      ],
      "text/plain": [
       "<IPython.core.display.HTML object>"
      ]
     },
     "metadata": {},
     "output_type": "display_data"
    },
    {
     "name": "stderr",
     "output_type": "stream",
     "text": [
      "INFO:IDTranslator_140213322316544:Processed batch 33/61\n"
     ]
    },
    {
     "data": {
      "text/html": [
       "<pre>2024-08-29 13:30:23,580 - IDTranslator_140213322316544 - INFO - Processed batch 34/61</pre>"
      ],
      "text/plain": [
       "<IPython.core.display.HTML object>"
      ]
     },
     "metadata": {},
     "output_type": "display_data"
    },
    {
     "name": "stderr",
     "output_type": "stream",
     "text": [
      "INFO:IDTranslator_140213322316544:Processed batch 34/61\n"
     ]
    },
    {
     "data": {
      "text/html": [
       "<pre>2024-08-29 13:30:23,581 - IDTranslator_140213322316544 - INFO - Progress saved to checkpoint_batch_34.pkl</pre>"
      ],
      "text/plain": [
       "<IPython.core.display.HTML object>"
      ]
     },
     "metadata": {},
     "output_type": "display_data"
    },
    {
     "name": "stderr",
     "output_type": "stream",
     "text": [
      "INFO:IDTranslator_140213322316544:Progress saved to checkpoint_batch_34.pkl\n"
     ]
    },
    {
     "data": {
      "text/html": [
       "<pre>2024-08-29 13:30:23,760 - IDTranslator_140213322316544 - INFO - Processed batch 35/61</pre>"
      ],
      "text/plain": [
       "<IPython.core.display.HTML object>"
      ]
     },
     "metadata": {},
     "output_type": "display_data"
    },
    {
     "name": "stderr",
     "output_type": "stream",
     "text": [
      "INFO:IDTranslator_140213322316544:Processed batch 35/61\n"
     ]
    },
    {
     "data": {
      "text/html": [
       "<pre>2024-08-29 13:30:30,536 - IDTranslator_140213322316544 - INFO - Processed batch 36/61</pre>"
      ],
      "text/plain": [
       "<IPython.core.display.HTML object>"
      ]
     },
     "metadata": {},
     "output_type": "display_data"
    },
    {
     "name": "stderr",
     "output_type": "stream",
     "text": [
      "INFO:IDTranslator_140213322316544:Processed batch 36/61\n"
     ]
    },
    {
     "data": {
      "text/html": [
       "<pre>2024-08-29 13:30:30,538 - IDTranslator_140213322316544 - INFO - Progress saved to checkpoint_batch_36.pkl</pre>"
      ],
      "text/plain": [
       "<IPython.core.display.HTML object>"
      ]
     },
     "metadata": {},
     "output_type": "display_data"
    },
    {
     "name": "stderr",
     "output_type": "stream",
     "text": [
      "INFO:IDTranslator_140213322316544:Progress saved to checkpoint_batch_36.pkl\n"
     ]
    },
    {
     "data": {
      "text/html": [
       "<pre>2024-08-29 13:33:21,343 - IDTranslator_140213322316544 - INFO - Processed batch 37/61</pre>"
      ],
      "text/plain": [
       "<IPython.core.display.HTML object>"
      ]
     },
     "metadata": {},
     "output_type": "display_data"
    },
    {
     "name": "stderr",
     "output_type": "stream",
     "text": [
      "INFO:IDTranslator_140213322316544:Processed batch 37/61\n"
     ]
    },
    {
     "data": {
      "text/html": [
       "<pre>2024-08-29 13:33:23,295 - IDTranslator_140213322316544 - INFO - Processed batch 38/61</pre>"
      ],
      "text/plain": [
       "<IPython.core.display.HTML object>"
      ]
     },
     "metadata": {},
     "output_type": "display_data"
    },
    {
     "name": "stderr",
     "output_type": "stream",
     "text": [
      "INFO:IDTranslator_140213322316544:Processed batch 38/61\n"
     ]
    },
    {
     "data": {
      "text/html": [
       "<pre>2024-08-29 13:33:23,298 - IDTranslator_140213322316544 - INFO - Progress saved to checkpoint_batch_38.pkl</pre>"
      ],
      "text/plain": [
       "<IPython.core.display.HTML object>"
      ]
     },
     "metadata": {},
     "output_type": "display_data"
    },
    {
     "name": "stderr",
     "output_type": "stream",
     "text": [
      "INFO:IDTranslator_140213322316544:Progress saved to checkpoint_batch_38.pkl\n"
     ]
    },
    {
     "data": {
      "text/html": [
       "<pre>2024-08-29 13:33:31,517 - IDTranslator_140213322316544 - INFO - Processed batch 39/61</pre>"
      ],
      "text/plain": [
       "<IPython.core.display.HTML object>"
      ]
     },
     "metadata": {},
     "output_type": "display_data"
    },
    {
     "name": "stderr",
     "output_type": "stream",
     "text": [
      "INFO:IDTranslator_140213322316544:Processed batch 39/61\n"
     ]
    },
    {
     "data": {
      "text/html": [
       "<pre>2024-08-29 13:33:31,538 - IDTranslator_140213322316544 - INFO - Processed batch 40/61</pre>"
      ],
      "text/plain": [
       "<IPython.core.display.HTML object>"
      ]
     },
     "metadata": {},
     "output_type": "display_data"
    },
    {
     "name": "stderr",
     "output_type": "stream",
     "text": [
      "INFO:IDTranslator_140213322316544:Processed batch 40/61\n"
     ]
    },
    {
     "data": {
      "text/html": [
       "<pre>2024-08-29 13:33:31,539 - IDTranslator_140213322316544 - INFO - Progress saved to checkpoint_batch_40.pkl</pre>"
      ],
      "text/plain": [
       "<IPython.core.display.HTML object>"
      ]
     },
     "metadata": {},
     "output_type": "display_data"
    },
    {
     "name": "stderr",
     "output_type": "stream",
     "text": [
      "INFO:IDTranslator_140213322316544:Progress saved to checkpoint_batch_40.pkl\n"
     ]
    },
    {
     "data": {
      "text/html": [
       "<pre>2024-08-29 13:33:32,889 - IDTranslator_140213322316544 - INFO - Processed batch 41/61</pre>"
      ],
      "text/plain": [
       "<IPython.core.display.HTML object>"
      ]
     },
     "metadata": {},
     "output_type": "display_data"
    },
    {
     "name": "stderr",
     "output_type": "stream",
     "text": [
      "INFO:IDTranslator_140213322316544:Processed batch 41/61\n"
     ]
    },
    {
     "data": {
      "text/html": [
       "<pre>2024-08-29 13:33:33,889 - IDTranslator_140213322316544 - INFO - Processed batch 42/61</pre>"
      ],
      "text/plain": [
       "<IPython.core.display.HTML object>"
      ]
     },
     "metadata": {},
     "output_type": "display_data"
    },
    {
     "name": "stderr",
     "output_type": "stream",
     "text": [
      "INFO:IDTranslator_140213322316544:Processed batch 42/61\n"
     ]
    },
    {
     "data": {
      "text/html": [
       "<pre>2024-08-29 13:33:33,892 - IDTranslator_140213322316544 - INFO - Progress saved to checkpoint_batch_42.pkl</pre>"
      ],
      "text/plain": [
       "<IPython.core.display.HTML object>"
      ]
     },
     "metadata": {},
     "output_type": "display_data"
    },
    {
     "name": "stderr",
     "output_type": "stream",
     "text": [
      "INFO:IDTranslator_140213322316544:Progress saved to checkpoint_batch_42.pkl\n"
     ]
    },
    {
     "data": {
      "text/html": [
       "<pre>2024-08-29 13:33:35,860 - IDTranslator_140213322316544 - INFO - Processed batch 43/61</pre>"
      ],
      "text/plain": [
       "<IPython.core.display.HTML object>"
      ]
     },
     "metadata": {},
     "output_type": "display_data"
    },
    {
     "name": "stderr",
     "output_type": "stream",
     "text": [
      "INFO:IDTranslator_140213322316544:Processed batch 43/61\n"
     ]
    },
    {
     "data": {
      "text/html": [
       "<pre>2024-08-29 13:33:36,296 - IDTranslator_140213322316544 - INFO - Processed batch 44/61</pre>"
      ],
      "text/plain": [
       "<IPython.core.display.HTML object>"
      ]
     },
     "metadata": {},
     "output_type": "display_data"
    },
    {
     "name": "stderr",
     "output_type": "stream",
     "text": [
      "INFO:IDTranslator_140213322316544:Processed batch 44/61\n"
     ]
    },
    {
     "data": {
      "text/html": [
       "<pre>2024-08-29 13:33:36,298 - IDTranslator_140213322316544 - INFO - Progress saved to checkpoint_batch_44.pkl</pre>"
      ],
      "text/plain": [
       "<IPython.core.display.HTML object>"
      ]
     },
     "metadata": {},
     "output_type": "display_data"
    },
    {
     "name": "stderr",
     "output_type": "stream",
     "text": [
      "INFO:IDTranslator_140213322316544:Progress saved to checkpoint_batch_44.pkl\n"
     ]
    },
    {
     "data": {
      "text/html": [
       "<pre>2024-08-29 13:33:39,610 - IDTranslator_140213322316544 - INFO - Processed batch 45/61</pre>"
      ],
      "text/plain": [
       "<IPython.core.display.HTML object>"
      ]
     },
     "metadata": {},
     "output_type": "display_data"
    },
    {
     "name": "stderr",
     "output_type": "stream",
     "text": [
      "INFO:IDTranslator_140213322316544:Processed batch 45/61\n"
     ]
    },
    {
     "data": {
      "text/html": [
       "<pre>2024-08-29 13:33:40,020 - IDTranslator_140213322316544 - INFO - Processed batch 46/61</pre>"
      ],
      "text/plain": [
       "<IPython.core.display.HTML object>"
      ]
     },
     "metadata": {},
     "output_type": "display_data"
    },
    {
     "name": "stderr",
     "output_type": "stream",
     "text": [
      "INFO:IDTranslator_140213322316544:Processed batch 46/61\n"
     ]
    },
    {
     "data": {
      "text/html": [
       "<pre>2024-08-29 13:33:40,023 - IDTranslator_140213322316544 - INFO - Progress saved to checkpoint_batch_46.pkl</pre>"
      ],
      "text/plain": [
       "<IPython.core.display.HTML object>"
      ]
     },
     "metadata": {},
     "output_type": "display_data"
    },
    {
     "name": "stderr",
     "output_type": "stream",
     "text": [
      "INFO:IDTranslator_140213322316544:Progress saved to checkpoint_batch_46.pkl\n"
     ]
    },
    {
     "data": {
      "text/html": [
       "<pre>2024-08-29 13:33:40,790 - IDTranslator_140213322316544 - INFO - Processed batch 47/61</pre>"
      ],
      "text/plain": [
       "<IPython.core.display.HTML object>"
      ]
     },
     "metadata": {},
     "output_type": "display_data"
    },
    {
     "name": "stderr",
     "output_type": "stream",
     "text": [
      "INFO:IDTranslator_140213322316544:Processed batch 47/61\n"
     ]
    },
    {
     "data": {
      "text/html": [
       "<pre>2024-08-29 13:33:41,536 - IDTranslator_140213322316544 - INFO - Processed batch 48/61</pre>"
      ],
      "text/plain": [
       "<IPython.core.display.HTML object>"
      ]
     },
     "metadata": {},
     "output_type": "display_data"
    },
    {
     "name": "stderr",
     "output_type": "stream",
     "text": [
      "INFO:IDTranslator_140213322316544:Processed batch 48/61\n"
     ]
    },
    {
     "data": {
      "text/html": [
       "<pre>2024-08-29 13:33:41,539 - IDTranslator_140213322316544 - INFO - Progress saved to checkpoint_batch_48.pkl</pre>"
      ],
      "text/plain": [
       "<IPython.core.display.HTML object>"
      ]
     },
     "metadata": {},
     "output_type": "display_data"
    },
    {
     "name": "stderr",
     "output_type": "stream",
     "text": [
      "INFO:IDTranslator_140213322316544:Progress saved to checkpoint_batch_48.pkl\n",
      "ERROR:root:Error processing ENSG00000179583 after 3 attempts: UniProt has not yet processed the results, consider using time.sleep() to wait until they are complete.\n",
      "ERROR:root:Error processing ENSG00000111254 after 3 attempts: UniProt has not yet processed the results, consider using time.sleep() to wait until they are complete.\n",
      "ERROR:root:Error processing ENSG00000102189 after 3 attempts: UniProt has not yet processed the results, consider using time.sleep() to wait until they are complete.\n",
      "ERROR:root:Error processing ENSG00000124333 after 3 attempts: UniProt has not yet processed the results, consider using time.sleep() to wait until they are complete.\n",
      "ERROR:root:Error processing ENSG00000065675 after 3 attempts: UniProt has not yet processed the results, consider using time.sleep() to wait until they are complete.\n",
      "ERROR:root:Error processing ENSG00000131711 after 3 attempts: UniProt has not yet processed the results, consider using time.sleep() to wait until they are complete.\n",
      "ERROR:root:Error processing ENSG00000129535 after 3 attempts: UniProt has not yet processed the results, consider using time.sleep() to wait until they are complete.\n",
      "ERROR:root:Error processing ENSG00000107282 after 3 attempts: UniProt has not yet processed the results, consider using time.sleep() to wait until they are complete.\n",
      "ERROR:root:Error processing ENSG00000120738 after 3 attempts: UniProt has not yet processed the results, consider using time.sleep() to wait until they are complete.\n",
      "ERROR:root:Error processing ENSG00000122008 after 3 attempts: UniProt has not yet processed the results, consider using time.sleep() to wait until they are complete.\n",
      "ERROR:root:Error processing ENSG00000055163 after 3 attempts: UniProt has not yet processed the results, consider using time.sleep() to wait until they are complete.\n",
      "ERROR:root:Error processing ENSG00000168447 after 3 attempts: UniProt has not yet processed the results, consider using time.sleep() to wait until they are complete.\n",
      "ERROR:root:Error processing ENSG00000136636 after 3 attempts: UniProt has not yet processed the results, consider using time.sleep() to wait until they are complete.\n",
      "ERROR:root:Error processing ENSG00000183770 after 3 attempts: UniProt has not yet processed the results, consider using time.sleep() to wait until they are complete.\n",
      "ERROR:root:Error processing ENSG00000115266 after 3 attempts: UniProt has not yet processed the results, consider using time.sleep() to wait until they are complete.\n",
      "ERROR:root:Error processing ENSG00000155495 after 3 attempts: UniProt has not yet processed the results, consider using time.sleep() to wait until they are complete.\n",
      "ERROR:root:Error processing ENSG00000159263 after 3 attempts: UniProt has not yet processed the results, consider using time.sleep() to wait until they are complete.\n",
      "ERROR:root:Error processing ENSG00000197943 after 3 attempts: UniProt has not yet processed the results, consider using time.sleep() to wait until they are complete.\n",
      "ERROR:root:Error processing ENSG00000184216 after 3 attempts: UniProt has not yet processed the results, consider using time.sleep() to wait until they are complete.\n",
      "ERROR:root:Error processing ENSG00000127980 after 3 attempts: UniProt has not yet processed the results, consider using time.sleep() to wait until they are complete.\n",
      "ERROR:root:Error processing ENSG00000150403 after 3 attempts: UniProt has not yet processed the results, consider using time.sleep() to wait until they are complete.\n",
      "ERROR:root:Error processing ENSG00000083544 after 3 attempts: UniProt has not yet processed the results, consider using time.sleep() to wait until they are complete.\n",
      "ERROR:root:Error processing ENSG00000100393 after 3 attempts: UniProt has not yet processed the results, consider using time.sleep() to wait until they are complete.\n",
      "ERROR:root:Error processing ENSG00000048052 after 3 attempts: UniProt has not yet processed the results, consider using time.sleep() to wait until they are complete.\n",
      "ERROR:root:Error processing ENSG00000175899 after 3 attempts: UniProt has not yet processed the results, consider using time.sleep() to wait until they are complete.\n",
      "ERROR:root:Error processing ENSG00000135968 after 3 attempts: UniProt has not yet processed the results, consider using time.sleep() to wait until they are complete.\n",
      "ERROR:root:Error processing ENSG00000151466 after 3 attempts: UniProt has not yet processed the results, consider using time.sleep() to wait until they are complete.\n",
      "ERROR:root:Error processing ENSG00000126215 after 3 attempts: UniProt has not yet processed the results, consider using time.sleep() to wait until they are complete.\n",
      "ERROR:root:Error processing ENSG00000182718 after 3 attempts: UniProt has not yet processed the results, consider using time.sleep() to wait until they are complete.\n",
      "ERROR:root:Error processing ENSG00000105193 after 3 attempts: UniProt has not yet processed the results, consider using time.sleep() to wait until they are complete.\n",
      "ERROR:root:Error processing ENSG00000070019 after 3 attempts: UniProt has not yet processed the results, consider using time.sleep() to wait until they are complete.\n",
      "ERROR:root:Error processing ENSG00000161681 after 3 attempts: UniProt has not yet processed the results, consider using time.sleep() to wait until they are complete.\n",
      "ERROR:root:Error processing ENSG00000138002 after 3 attempts: UniProt has not yet processed the results, consider using time.sleep() to wait until they are complete.\n",
      "ERROR:root:Error processing ENSG00000167971 after 3 attempts: UniProt has not yet processed the results, consider using time.sleep() to wait until they are complete.\n",
      "ERROR:root:Error processing ENSG00000101246 after 3 attempts: UniProt has not yet processed the results, consider using time.sleep() to wait until they are complete.\n",
      "ERROR:root:Error processing ENSG00000131437 after 3 attempts: UniProt has not yet processed the results, consider using time.sleep() to wait until they are complete.\n",
      "ERROR:root:Error processing ENSG00000120805 after 3 attempts: UniProt has not yet processed the results, consider using time.sleep() to wait until they are complete.\n",
      "ERROR:root:Error processing ENSG00000169860 after 3 attempts: UniProt has not yet processed the results, consider using time.sleep() to wait until they are complete.\n",
      "ERROR:root:Error processing ENSG00000158987 after 3 attempts: UniProt has not yet processed the results, consider using time.sleep() to wait until they are complete.\n",
      "ERROR:root:Error processing ENSG00000225830 after 3 attempts: UniProt has not yet processed the results, consider using time.sleep() to wait until they are complete.\n",
      "ERROR:root:Error processing ENSG00000117859 after 3 attempts: UniProt has not yet processed the results, consider using time.sleep() to wait until they are complete.\n",
      "ERROR:root:Error processing ENSG00000187733 after 3 attempts: UniProt has not yet processed the results, consider using time.sleep() to wait until they are complete.\n",
      "ERROR:root:Error processing ENSG00000132604 after 3 attempts: UniProt has not yet processed the results, consider using time.sleep() to wait until they are complete.\n",
      "ERROR:root:Error processing ENSG00000122852 after 3 attempts: UniProt has not yet processed the results, consider using time.sleep() to wait until they are complete.\n",
      "ERROR:root:Error processing ENSG00000006451 after 3 attempts: UniProt has not yet processed the results, consider using time.sleep() to wait until they are complete.\n",
      "ERROR:root:Error processing ENSG00000165233 after 3 attempts: UniProt has not yet processed the results, consider using time.sleep() to wait until they are complete.\n",
      "ERROR:root:Error processing ENSG00000204301 after 3 attempts: UniProt has not yet processed the results, consider using time.sleep() to wait until they are complete.\n",
      "ERROR:root:Error processing ENSG00000259207 after 3 attempts: UniProt has not yet processed the results, consider using time.sleep() to wait until they are complete.\n",
      "ERROR:root:Error processing ENSG00000113389 after 3 attempts: UniProt has not yet processed the results, consider using time.sleep() to wait until they are complete.\n",
      "ERROR:root:Error processing ENSG00000126001 after 3 attempts: UniProt has not yet processed the results, consider using time.sleep() to wait until they are complete.\n",
      "ERROR:root:Error processing ENSG00000077549 after 3 attempts: UniProt has not yet processed the results, consider using time.sleep() to wait until they are complete.\n",
      "ERROR:root:Error processing ENSG00000125384 after 3 attempts: UniProt has not yet processed the results, consider using time.sleep() to wait until they are complete.\n",
      "ERROR:root:Error processing ENSG00000177374 after 3 attempts: UniProt has not yet processed the results, consider using time.sleep() to wait until they are complete.\n",
      "ERROR:root:Error processing ENSG00000089154 after 3 attempts: UniProt has not yet processed the results, consider using time.sleep() to wait until they are complete.\n",
      "ERROR:root:Error processing ENSG00000213934 after 3 attempts: UniProt has not yet processed the results, consider using time.sleep() to wait until they are complete.\n",
      "ERROR:root:Error processing ENSG00000092439 after 3 attempts: UniProt has not yet processed the results, consider using time.sleep() to wait until they are complete.\n",
      "ERROR:root:Error processing ENSG00000159200 after 3 attempts: UniProt has not yet processed the results, consider using time.sleep() to wait until they are complete.\n",
      "ERROR:root:Error processing ENSG00000183091 after 3 attempts: UniProt has not yet processed the results, consider using time.sleep() to wait until they are complete.\n",
      "ERROR:root:Error processing ENSG00000109790 after 3 attempts: UniProt has not yet processed the results, consider using time.sleep() to wait until they are complete.\n",
      "ERROR:root:Error processing ENSG00000160013 after 3 attempts: UniProt has not yet processed the results, consider using time.sleep() to wait until they are complete.\n",
      "ERROR:root:Error processing ENSG00000253729 after 3 attempts: UniProt has not yet processed the results, consider using time.sleep() to wait until they are complete.\n",
      "ERROR:root:Error processing ENSG00000113360 after 3 attempts: UniProt has not yet processed the results, consider using time.sleep() to wait until they are complete.\n",
      "ERROR:root:Error processing ENSG00000088305 after 3 attempts: UniProt has not yet processed the results, consider using time.sleep() to wait until they are complete.\n",
      "ERROR:root:Error processing ENSG00000239732 after 3 attempts: UniProt has not yet processed the results, consider using time.sleep() to wait until they are complete.\n",
      "ERROR:root:Error processing ENSG00000171634 after 3 attempts: UniProt has not yet processed the results, consider using time.sleep() to wait until they are complete.\n",
      "ERROR:root:Error processing ENSG00000164190 after 3 attempts: UniProt has not yet processed the results, consider using time.sleep() to wait until they are complete.\n",
      "ERROR:root:Error processing ENSG00000122705 after 3 attempts: UniProt has not yet processed the results, consider using time.sleep() to wait until they are complete.\n",
      "ERROR:root:Error processing ENSG00000022267 after 3 attempts: UniProt has not yet processed the results, consider using time.sleep() to wait until they are complete.\n",
      "ERROR:root:Error processing ENSG00000087510 after 3 attempts: UniProt has not yet processed the results, consider using time.sleep() to wait until they are complete.\n",
      "ERROR:root:Error processing ENSG00000010256 after 3 attempts: UniProt has not yet processed the results, consider using time.sleep() to wait until they are complete.\n",
      "ERROR:root:Error processing ENSG00000160181 after 3 attempts: UniProt has not yet processed the results, consider using time.sleep() to wait until they are complete.\n",
      "ERROR:root:Error processing ENSG00000197530 after 3 attempts: UniProt has not yet processed the results, consider using time.sleep() to wait until they are complete.\n",
      "ERROR:root:Error processing ENSG00000034152 after 3 attempts: UniProt has not yet processed the results, consider using time.sleep() to wait until they are complete.\n",
      "ERROR:root:Error processing ENSG00000139567 after 3 attempts: UniProt has not yet processed the results, consider using time.sleep() to wait until they are complete.\n",
      "ERROR:root:Error processing ENSG00000154611 after 3 attempts: UniProt has not yet processed the results, consider using time.sleep() to wait until they are complete.\n",
      "ERROR:root:Error processing ENSG00000154764 after 3 attempts: UniProt has not yet processed the results, consider using time.sleep() to wait until they are complete.\n",
      "ERROR:root:Error processing ENSG00000147459 after 3 attempts: UniProt has not yet processed the results, consider using time.sleep() to wait until they are complete.\n",
      "ERROR:root:Error processing ENSG00000101448 after 3 attempts: UniProt has not yet processed the results, consider using time.sleep() to wait until they are complete.\n",
      "ERROR:root:Error processing ENSG00000169594 after 3 attempts: UniProt has not yet processed the results, consider using time.sleep() to wait until they are complete.\n",
      "ERROR:root:Error processing ENSG00000168827 after 3 attempts: UniProt has not yet processed the results, consider using time.sleep() to wait until they are complete.\n",
      "ERROR:root:Error processing ENSG00000163736 after 3 attempts: UniProt has not yet processed the results, consider using time.sleep() to wait until they are complete.\n",
      "ERROR:root:Error processing ENSG00000105426 after 3 attempts: UniProt has not yet processed the results, consider using time.sleep() to wait until they are complete.\n",
      "ERROR:root:Error processing ENSG00000105379 after 3 attempts: UniProt has not yet processed the results, consider using time.sleep() to wait until they are complete.\n",
      "ERROR:root:Error processing ENSG00000117650 after 3 attempts: UniProt has not yet processed the results, consider using time.sleep() to wait until they are complete.\n",
      "ERROR:root:Error processing ENSG00000186265 after 3 attempts: UniProt has not yet processed the results, consider using time.sleep() to wait until they are complete.\n",
      "ERROR:root:Error processing ENSG00000121552 after 3 attempts: UniProt has not yet processed the results, consider using time.sleep() to wait until they are complete.\n",
      "ERROR:root:Error processing ENSG00000257923 after 3 attempts: UniProt has not yet processed the results, consider using time.sleep() to wait until they are complete.\n",
      "ERROR:root:Error processing ENSG00000162604 after 3 attempts: UniProt has not yet processed the results, consider using time.sleep() to wait until they are complete.\n",
      "ERROR:root:Error processing ENSG00000009413 after 3 attempts: UniProt has not yet processed the results, consider using time.sleep() to wait until they are complete.\n",
      "ERROR:root:Error processing ENSG00000151422 after 3 attempts: UniProt has not yet processed the results, consider using time.sleep() to wait until they are complete.\n",
      "ERROR:root:Error processing ENSG00000077152 after 3 attempts: UniProt has not yet processed the results, consider using time.sleep() to wait until they are complete.\n",
      "ERROR:root:Error processing ENSG00000145555 after 3 attempts: UniProt has not yet processed the results, consider using time.sleep() to wait until they are complete.\n",
      "ERROR:root:Error processing ENSG00000101057 after 3 attempts: UniProt has not yet processed the results, consider using time.sleep() to wait until they are complete.\n",
      "ERROR:root:Error processing ENSG00000074047 after 3 attempts: UniProt has not yet processed the results, consider using time.sleep() to wait until they are complete.\n",
      "ERROR:root:Error processing ENSG00000069248 after 3 attempts: UniProt has not yet processed the results, consider using time.sleep() to wait until they are complete.\n",
      "ERROR:root:Error processing ENSG00000116996 after 3 attempts: UniProt has not yet processed the results, consider using time.sleep() to wait until they are complete.\n",
      "ERROR:root:Error processing ENSG00000185507 after 3 attempts: UniProt has not yet processed the results, consider using time.sleep() to wait until they are complete.\n",
      "ERROR:root:Error processing ENSG00000130203 after 3 attempts: UniProt has not yet processed the results, consider using time.sleep() to wait until they are complete.\n",
      "ERROR:root:Error processing ENSG00000136068 after 3 attempts: UniProt has not yet processed the results, consider using time.sleep() to wait until they are complete.\n",
      "ERROR:root:Error processing ENSG00000107593 after 3 attempts: UniProt has not yet processed the results, consider using time.sleep() to wait until they are complete.\n",
      "ERROR:root:Error processing ENSG00000106105 after 3 attempts: UniProt has not yet processed the results, consider using time.sleep() to wait until they are complete.\n",
      "ERROR:root:Error processing ENSG00000132676 after 3 attempts: UniProt has not yet processed the results, consider using time.sleep() to wait until they are complete.\n",
      "ERROR:root:Error processing ENSG00000143546 after 3 attempts: UniProt has not yet processed the results, consider using time.sleep() to wait until they are complete.\n",
      "ERROR:root:Error processing ENSG00000170458 after 3 attempts: UniProt has not yet processed the results, consider using time.sleep() to wait until they are complete.\n",
      "ERROR:root:Error processing ENSG00000144867 after 3 attempts: UniProt has not yet processed the results, consider using time.sleep() to wait until they are complete.\n",
      "ERROR:root:Error processing ENSG00000169174 after 3 attempts: UniProt has not yet processed the results, consider using time.sleep() to wait until they are complete.\n",
      "ERROR:root:Error processing ENSG00000187266 after 3 attempts: UniProt has not yet processed the results, consider using time.sleep() to wait until they are complete.\n",
      "ERROR:root:Error processing ENSG00000205809 after 3 attempts: UniProt has not yet processed the results, consider using time.sleep() to wait until they are complete.\n",
      "ERROR:root:Error processing ENSG00000119630 after 3 attempts: UniProt has not yet processed the results, consider using time.sleep() to wait until they are complete.\n",
      "ERROR:root:Error processing ENSG00000205726 after 3 attempts: UniProt has not yet processed the results, consider using time.sleep() to wait until they are complete.\n",
      "ERROR:root:Error processing ENSG00000090621 after 3 attempts: UniProt has not yet processed the results, consider using time.sleep() to wait until they are complete.\n",
      "ERROR:root:Error processing ENSG00000158195 after 3 attempts: UniProt has not yet processed the results, consider using time.sleep() to wait until they are complete.\n",
      "ERROR:root:Error processing ENSG00000139370 after 3 attempts: UniProt has not yet processed the results, consider using time.sleep() to wait until they are complete.\n",
      "ERROR:root:Error processing ENSG00000049130 after 3 attempts: UniProt has not yet processed the results, consider using time.sleep() to wait until they are complete.\n",
      "ERROR:root:Error processing ENSG00000111530 after 3 attempts: UniProt has not yet processed the results, consider using time.sleep() to wait until they are complete.\n",
      "ERROR:root:Error processing ENSG00000125347 after 3 attempts: UniProt has not yet processed the results, consider using time.sleep() to wait until they are complete.\n",
      "ERROR:root:Error processing ENSG00000032219 after 3 attempts: UniProt has not yet processed the results, consider using time.sleep() to wait until they are complete.\n",
      "ERROR:root:Error processing ENSG00000154237 after 3 attempts: UniProt has not yet processed the results, consider using time.sleep() to wait until they are complete.\n",
      "ERROR:root:Error processing ENSG00000186472 after 3 attempts: UniProt has not yet processed the results, consider using time.sleep() to wait until they are complete.\n",
      "ERROR:root:Error processing ENSG00000100220 after 3 attempts: UniProt has not yet processed the results, consider using time.sleep() to wait until they are complete.\n"
     ]
    },
    {
     "data": {
      "text/html": [
       "<pre>2024-08-29 13:37:08,576 - IDTranslator_140213322316544 - INFO - Processed batch 49/61</pre>"
      ],
      "text/plain": [
       "<IPython.core.display.HTML object>"
      ]
     },
     "metadata": {},
     "output_type": "display_data"
    },
    {
     "name": "stderr",
     "output_type": "stream",
     "text": [
      "INFO:IDTranslator_140213322316544:Processed batch 49/61\n"
     ]
    },
    {
     "data": {
      "text/html": [
       "<pre>2024-08-29 13:37:20,132 - IDTranslator_140213322316544 - INFO - Processed batch 50/61</pre>"
      ],
      "text/plain": [
       "<IPython.core.display.HTML object>"
      ]
     },
     "metadata": {},
     "output_type": "display_data"
    },
    {
     "name": "stderr",
     "output_type": "stream",
     "text": [
      "INFO:IDTranslator_140213322316544:Processed batch 50/61\n"
     ]
    },
    {
     "data": {
      "text/html": [
       "<pre>2024-08-29 13:37:20,134 - IDTranslator_140213322316544 - INFO - Progress saved to checkpoint_batch_50.pkl</pre>"
      ],
      "text/plain": [
       "<IPython.core.display.HTML object>"
      ]
     },
     "metadata": {},
     "output_type": "display_data"
    },
    {
     "name": "stderr",
     "output_type": "stream",
     "text": [
      "INFO:IDTranslator_140213322316544:Progress saved to checkpoint_batch_50.pkl\n"
     ]
    },
    {
     "data": {
      "text/html": [
       "<pre>2024-08-29 13:37:22,532 - IDTranslator_140213322316544 - INFO - Processed batch 51/61</pre>"
      ],
      "text/plain": [
       "<IPython.core.display.HTML object>"
      ]
     },
     "metadata": {},
     "output_type": "display_data"
    },
    {
     "name": "stderr",
     "output_type": "stream",
     "text": [
      "INFO:IDTranslator_140213322316544:Processed batch 51/61\n"
     ]
    },
    {
     "data": {
      "text/html": [
       "<pre>2024-08-29 13:37:27,578 - IDTranslator_140213322316544 - INFO - Processed batch 52/61</pre>"
      ],
      "text/plain": [
       "<IPython.core.display.HTML object>"
      ]
     },
     "metadata": {},
     "output_type": "display_data"
    },
    {
     "name": "stderr",
     "output_type": "stream",
     "text": [
      "INFO:IDTranslator_140213322316544:Processed batch 52/61\n"
     ]
    },
    {
     "data": {
      "text/html": [
       "<pre>2024-08-29 13:37:27,580 - IDTranslator_140213322316544 - INFO - Progress saved to checkpoint_batch_52.pkl</pre>"
      ],
      "text/plain": [
       "<IPython.core.display.HTML object>"
      ]
     },
     "metadata": {},
     "output_type": "display_data"
    },
    {
     "name": "stderr",
     "output_type": "stream",
     "text": [
      "INFO:IDTranslator_140213322316544:Progress saved to checkpoint_batch_52.pkl\n"
     ]
    },
    {
     "data": {
      "text/html": [
       "<pre>2024-08-29 13:37:31,461 - IDTranslator_140213322316544 - INFO - Processed batch 53/61</pre>"
      ],
      "text/plain": [
       "<IPython.core.display.HTML object>"
      ]
     },
     "metadata": {},
     "output_type": "display_data"
    },
    {
     "name": "stderr",
     "output_type": "stream",
     "text": [
      "INFO:IDTranslator_140213322316544:Processed batch 53/61\n"
     ]
    },
    {
     "data": {
      "text/html": [
       "<pre>2024-08-29 13:37:32,342 - IDTranslator_140213322316544 - INFO - Processed batch 54/61</pre>"
      ],
      "text/plain": [
       "<IPython.core.display.HTML object>"
      ]
     },
     "metadata": {},
     "output_type": "display_data"
    },
    {
     "name": "stderr",
     "output_type": "stream",
     "text": [
      "INFO:IDTranslator_140213322316544:Processed batch 54/61\n"
     ]
    },
    {
     "data": {
      "text/html": [
       "<pre>2024-08-29 13:37:32,344 - IDTranslator_140213322316544 - INFO - Progress saved to checkpoint_batch_54.pkl</pre>"
      ],
      "text/plain": [
       "<IPython.core.display.HTML object>"
      ]
     },
     "metadata": {},
     "output_type": "display_data"
    },
    {
     "name": "stderr",
     "output_type": "stream",
     "text": [
      "INFO:IDTranslator_140213322316544:Progress saved to checkpoint_batch_54.pkl\n"
     ]
    },
    {
     "data": {
      "text/html": [
       "<pre>2024-08-29 13:37:32,835 - IDTranslator_140213322316544 - INFO - Processed batch 55/61</pre>"
      ],
      "text/plain": [
       "<IPython.core.display.HTML object>"
      ]
     },
     "metadata": {},
     "output_type": "display_data"
    },
    {
     "name": "stderr",
     "output_type": "stream",
     "text": [
      "INFO:IDTranslator_140213322316544:Processed batch 55/61\n"
     ]
    },
    {
     "data": {
      "text/html": [
       "<pre>2024-08-29 13:37:33,780 - IDTranslator_140213322316544 - INFO - Processed batch 56/61</pre>"
      ],
      "text/plain": [
       "<IPython.core.display.HTML object>"
      ]
     },
     "metadata": {},
     "output_type": "display_data"
    },
    {
     "name": "stderr",
     "output_type": "stream",
     "text": [
      "INFO:IDTranslator_140213322316544:Processed batch 56/61\n"
     ]
    },
    {
     "data": {
      "text/html": [
       "<pre>2024-08-29 13:37:33,782 - IDTranslator_140213322316544 - INFO - Progress saved to checkpoint_batch_56.pkl</pre>"
      ],
      "text/plain": [
       "<IPython.core.display.HTML object>"
      ]
     },
     "metadata": {},
     "output_type": "display_data"
    },
    {
     "name": "stderr",
     "output_type": "stream",
     "text": [
      "INFO:IDTranslator_140213322316544:Progress saved to checkpoint_batch_56.pkl\n"
     ]
    },
    {
     "data": {
      "text/html": [
       "<pre>2024-08-29 13:37:35,947 - IDTranslator_140213322316544 - INFO - Processed batch 57/61</pre>"
      ],
      "text/plain": [
       "<IPython.core.display.HTML object>"
      ]
     },
     "metadata": {},
     "output_type": "display_data"
    },
    {
     "name": "stderr",
     "output_type": "stream",
     "text": [
      "INFO:IDTranslator_140213322316544:Processed batch 57/61\n"
     ]
    },
    {
     "data": {
      "text/html": [
       "<pre>2024-08-29 13:37:37,744 - IDTranslator_140213322316544 - INFO - Processed batch 58/61</pre>"
      ],
      "text/plain": [
       "<IPython.core.display.HTML object>"
      ]
     },
     "metadata": {},
     "output_type": "display_data"
    },
    {
     "name": "stderr",
     "output_type": "stream",
     "text": [
      "INFO:IDTranslator_140213322316544:Processed batch 58/61\n"
     ]
    },
    {
     "data": {
      "text/html": [
       "<pre>2024-08-29 13:37:37,746 - IDTranslator_140213322316544 - INFO - Progress saved to checkpoint_batch_58.pkl</pre>"
      ],
      "text/plain": [
       "<IPython.core.display.HTML object>"
      ]
     },
     "metadata": {},
     "output_type": "display_data"
    },
    {
     "name": "stderr",
     "output_type": "stream",
     "text": [
      "INFO:IDTranslator_140213322316544:Progress saved to checkpoint_batch_58.pkl\n"
     ]
    },
    {
     "data": {
      "text/html": [
       "<pre>2024-08-29 13:37:42,850 - IDTranslator_140213322316544 - INFO - Processed batch 59/61</pre>"
      ],
      "text/plain": [
       "<IPython.core.display.HTML object>"
      ]
     },
     "metadata": {},
     "output_type": "display_data"
    },
    {
     "name": "stderr",
     "output_type": "stream",
     "text": [
      "INFO:IDTranslator_140213322316544:Processed batch 59/61\n"
     ]
    },
    {
     "data": {
      "text/html": [
       "<pre>2024-08-29 13:37:43,993 - IDTranslator_140213322316544 - INFO - Processed batch 60/61</pre>"
      ],
      "text/plain": [
       "<IPython.core.display.HTML object>"
      ]
     },
     "metadata": {},
     "output_type": "display_data"
    },
    {
     "name": "stderr",
     "output_type": "stream",
     "text": [
      "INFO:IDTranslator_140213322316544:Processed batch 60/61\n"
     ]
    },
    {
     "data": {
      "text/html": [
       "<pre>2024-08-29 13:37:43,996 - IDTranslator_140213322316544 - INFO - Progress saved to checkpoint_batch_60.pkl</pre>"
      ],
      "text/plain": [
       "<IPython.core.display.HTML object>"
      ]
     },
     "metadata": {},
     "output_type": "display_data"
    },
    {
     "name": "stderr",
     "output_type": "stream",
     "text": [
      "INFO:IDTranslator_140213322316544:Progress saved to checkpoint_batch_60.pkl\n"
     ]
    },
    {
     "data": {
      "text/html": [
       "<pre>2024-08-29 13:38:40,826 - IDTranslator_140213322316544 - INFO - Processed batch 61/61</pre>"
      ],
      "text/plain": [
       "<IPython.core.display.HTML object>"
      ]
     },
     "metadata": {},
     "output_type": "display_data"
    },
    {
     "name": "stderr",
     "output_type": "stream",
     "text": [
      "INFO:IDTranslator_140213322316544:Processed batch 61/61\n"
     ]
    },
    {
     "data": {
      "text/html": [
       "<pre>2024-08-29 13:38:40,828 - IDTranslator_140213322316544 - INFO - Progress saved to checkpoint_batch_61.pkl</pre>"
      ],
      "text/plain": [
       "<IPython.core.display.HTML object>"
      ]
     },
     "metadata": {},
     "output_type": "display_data"
    },
    {
     "name": "stderr",
     "output_type": "stream",
     "text": [
      "INFO:IDTranslator_140213322316544:Progress saved to checkpoint_batch_61.pkl\n"
     ]
    },
    {
     "data": {
      "text/html": [
       "<pre>2024-08-29 13:38:40,846 - IDTranslator_140213322316544 - INFO - Applying translation to dataframe...</pre>"
      ],
      "text/plain": [
       "<IPython.core.display.HTML object>"
      ]
     },
     "metadata": {},
     "output_type": "display_data"
    },
    {
     "name": "stderr",
     "output_type": "stream",
     "text": [
      "INFO:IDTranslator_140213322316544:Applying translation to dataframe...\n"
     ]
    },
    {
     "data": {
      "text/html": [
       "<pre>2024-08-29 13:38:44,822 - IDTranslator_140213322316544 - INFO - Results saved to ../data/Lit-BM_translated.csv</pre>"
      ],
      "text/plain": [
       "<IPython.core.display.HTML object>"
      ]
     },
     "metadata": {},
     "output_type": "display_data"
    },
    {
     "name": "stderr",
     "output_type": "stream",
     "text": [
      "INFO:IDTranslator_140213322316544:Results saved to ../data/Lit-BM_translated.csv\n"
     ]
    },
    {
     "data": {
      "text/html": [
       "<pre>2024-08-29 13:38:44,838 - IDTranslator_140213322316544 - INFO - Found 145 untranslated IDs to retry</pre>"
      ],
      "text/plain": [
       "<IPython.core.display.HTML object>"
      ]
     },
     "metadata": {},
     "output_type": "display_data"
    },
    {
     "name": "stderr",
     "output_type": "stream",
     "text": [
      "INFO:IDTranslator_140213322316544:Found 145 untranslated IDs to retry\n"
     ]
    },
    {
     "data": {
      "text/html": [
       "<pre>2024-08-29 13:38:44,839 - IDTranslator_140213322316544 - INFO - Retrying translation for 145 untranslated IDs</pre>"
      ],
      "text/plain": [
       "<IPython.core.display.HTML object>"
      ]
     },
     "metadata": {},
     "output_type": "display_data"
    },
    {
     "name": "stderr",
     "output_type": "stream",
     "text": [
      "INFO:IDTranslator_140213322316544:Retrying translation for 145 untranslated IDs\n"
     ]
    },
    {
     "data": {
      "application/vnd.jupyter.widget-view+json": {
       "model_id": "8315fe77411649fbb286c7595ca8603d",
       "version_major": 2,
       "version_minor": 0
      },
      "text/plain": [
       "Retrying untranslated batches:   0%|          | 0/2 [00:00<?, ?it/s]"
      ]
     },
     "metadata": {},
     "output_type": "display_data"
    },
    {
     "data": {
      "text/html": [
       "<pre>2024-08-29 13:40:11,719 - IDTranslator_140213322316544 - INFO - Retried batch 1/2</pre>"
      ],
      "text/plain": [
       "<IPython.core.display.HTML object>"
      ]
     },
     "metadata": {},
     "output_type": "display_data"
    },
    {
     "name": "stderr",
     "output_type": "stream",
     "text": [
      "INFO:IDTranslator_140213322316544:Retried batch 1/2\n"
     ]
    },
    {
     "data": {
      "text/html": [
       "<pre>2024-08-29 13:41:54,884 - IDTranslator_140213322316544 - INFO - Retried batch 2/2</pre>"
      ],
      "text/plain": [
       "<IPython.core.display.HTML object>"
      ]
     },
     "metadata": {},
     "output_type": "display_data"
    },
    {
     "name": "stderr",
     "output_type": "stream",
     "text": [
      "INFO:IDTranslator_140213322316544:Retried batch 2/2\n"
     ]
    },
    {
     "data": {
      "text/html": [
       "<pre>2024-08-29 13:41:54,888 - IDTranslator_140213322316544 - INFO - Progress saved to retry_checkpoint_batch_2.pkl</pre>"
      ],
      "text/plain": [
       "<IPython.core.display.HTML object>"
      ]
     },
     "metadata": {},
     "output_type": "display_data"
    },
    {
     "name": "stderr",
     "output_type": "stream",
     "text": [
      "INFO:IDTranslator_140213322316544:Progress saved to retry_checkpoint_batch_2.pkl\n"
     ]
    },
    {
     "data": {
      "text/html": [
       "<pre>2024-08-29 13:41:54,902 - IDTranslator_140213322316544 - INFO - Applying translation to dataframe...</pre>"
      ],
      "text/plain": [
       "<IPython.core.display.HTML object>"
      ]
     },
     "metadata": {},
     "output_type": "display_data"
    },
    {
     "name": "stderr",
     "output_type": "stream",
     "text": [
      "INFO:IDTranslator_140213322316544:Applying translation to dataframe...\n"
     ]
    },
    {
     "data": {
      "text/html": [
       "<pre>2024-08-29 13:41:55,582 - IDTranslator_140213322316544 - INFO - Results saved to ../data/Lit-BM_translated.csv</pre>"
      ],
      "text/plain": [
       "<IPython.core.display.HTML object>"
      ]
     },
     "metadata": {},
     "output_type": "display_data"
    },
    {
     "name": "stderr",
     "output_type": "stream",
     "text": [
      "INFO:IDTranslator_140213322316544:Results saved to ../data/Lit-BM_translated.csv\n"
     ]
    },
    {
     "data": {
      "text/html": [
       "<pre>2024-08-29 13:41:55,588 - IDTranslator_140213322316544 - INFO - ID translation process completed in 1279.31 seconds</pre>"
      ],
      "text/plain": [
       "<IPython.core.display.HTML object>"
      ]
     },
     "metadata": {},
     "output_type": "display_data"
    },
    {
     "name": "stderr",
     "output_type": "stream",
     "text": [
      "INFO:IDTranslator_140213322316544:ID translation process completed in 1279.31 seconds\n"
     ]
    },
    {
     "data": {
      "text/html": [
       "<pre>2024-08-29 13:41:55,642 - IDTranslator_140213322316544 - INFO - Original entry count: 13702</pre>"
      ],
      "text/plain": [
       "<IPython.core.display.HTML object>"
      ]
     },
     "metadata": {},
     "output_type": "display_data"
    },
    {
     "name": "stderr",
     "output_type": "stream",
     "text": [
      "INFO:IDTranslator_140213322316544:Original entry count: 13702\n"
     ]
    },
    {
     "data": {
      "text/html": [
       "<pre>2024-08-29 13:41:55,643 - IDTranslator_140213322316544 - INFO - Translated entry count: 13579</pre>"
      ],
      "text/plain": [
       "<IPython.core.display.HTML object>"
      ]
     },
     "metadata": {},
     "output_type": "display_data"
    },
    {
     "name": "stderr",
     "output_type": "stream",
     "text": [
      "INFO:IDTranslator_140213322316544:Translated entry count: 13579\n"
     ]
    },
    {
     "data": {
      "text/html": [
       "<pre>2024-08-29 13:41:55,644 - IDTranslator_140213322316544 - INFO - Expansion factor: 0.99</pre>"
      ],
      "text/plain": [
       "<IPython.core.display.HTML object>"
      ]
     },
     "metadata": {},
     "output_type": "display_data"
    },
    {
     "name": "stderr",
     "output_type": "stream",
     "text": [
      "INFO:IDTranslator_140213322316544:Expansion factor: 0.99\n"
     ]
    },
    {
     "data": {
      "text/html": [
       "<pre>2024-08-29 13:41:55,644 - IDTranslator_140213322316544 - INFO - Translation success rate: 99.10%</pre>"
      ],
      "text/plain": [
       "<IPython.core.display.HTML object>"
      ]
     },
     "metadata": {},
     "output_type": "display_data"
    },
    {
     "name": "stderr",
     "output_type": "stream",
     "text": [
      "INFO:IDTranslator_140213322316544:Translation success rate: 99.10%\n"
     ]
    }
   ],
   "source": [
    "translator_3.run()"
   ]
  },
  {
   "cell_type": "code",
   "execution_count": 11,
   "id": "7708d266-d5cf-412b-90b2-b340448c4adb",
   "metadata": {},
   "outputs": [],
   "source": [
    "translator_4 = IDTranslator('../data/Test_space_screens-19.tsv', '../data/Test_space_screens-19_translated.csv', 'Ensembl', 'UniProtKB-Swiss-Prot', has_header=False, input_columns=['source', 'target'], processes=12, pickle_dir=\"./pickles_4\")"
   ]
  },
  {
   "cell_type": "code",
   "execution_count": 12,
   "id": "9c78026e-fc0c-4a35-a379-ed832dd26432",
   "metadata": {},
   "outputs": [
    {
     "data": {
      "text/html": [
       "<pre>2024-08-29 13:41:55,650 - IDTranslator_140215111841072 - INFO - Starting ID translation process from Ensembl to UniProtKB-Swiss-Prot</pre>"
      ],
      "text/plain": [
       "<IPython.core.display.HTML object>"
      ]
     },
     "metadata": {},
     "output_type": "display_data"
    },
    {
     "name": "stderr",
     "output_type": "stream",
     "text": [
      "INFO:IDTranslator_140215111841072:Starting ID translation process from Ensembl to UniProtKB-Swiss-Prot\n"
     ]
    },
    {
     "data": {
      "text/html": [
       "<pre>2024-08-29 13:41:55,653 - IDTranslator_140215111841072 - INFO - Loaded 1159 rows with 672 unique IDs</pre>"
      ],
      "text/plain": [
       "<IPython.core.display.HTML object>"
      ]
     },
     "metadata": {},
     "output_type": "display_data"
    },
    {
     "name": "stderr",
     "output_type": "stream",
     "text": [
      "INFO:IDTranslator_140215111841072:Loaded 1159 rows with 672 unique IDs\n"
     ]
    },
    {
     "data": {
      "text/html": [
       "<pre>2024-08-29 13:41:55,654 - IDTranslator_140215111841072 - INFO - No existing progress found. Starting from scratch.</pre>"
      ],
      "text/plain": [
       "<IPython.core.display.HTML object>"
      ]
     },
     "metadata": {},
     "output_type": "display_data"
    },
    {
     "name": "stderr",
     "output_type": "stream",
     "text": [
      "INFO:IDTranslator_140215111841072:No existing progress found. Starting from scratch.\n"
     ]
    },
    {
     "data": {
      "application/vnd.jupyter.widget-view+json": {
       "model_id": "ff47ec44180140cdaed25c240c89cae3",
       "version_major": 2,
       "version_minor": 0
      },
      "text/plain": [
       "Processing batches:   0%|          | 0/7 [00:00<?, ?it/s]"
      ]
     },
     "metadata": {},
     "output_type": "display_data"
    },
    {
     "data": {
      "text/html": [
       "<pre>2024-08-29 13:44:10,006 - IDTranslator_140215111841072 - INFO - Processed batch 1/7</pre>"
      ],
      "text/plain": [
       "<IPython.core.display.HTML object>"
      ]
     },
     "metadata": {},
     "output_type": "display_data"
    },
    {
     "name": "stderr",
     "output_type": "stream",
     "text": [
      "INFO:IDTranslator_140215111841072:Processed batch 1/7\n"
     ]
    },
    {
     "data": {
      "text/html": [
       "<pre>2024-08-29 13:45:04,754 - IDTranslator_140215111841072 - INFO - Processed batch 2/7</pre>"
      ],
      "text/plain": [
       "<IPython.core.display.HTML object>"
      ]
     },
     "metadata": {},
     "output_type": "display_data"
    },
    {
     "name": "stderr",
     "output_type": "stream",
     "text": [
      "INFO:IDTranslator_140215111841072:Processed batch 2/7\n"
     ]
    },
    {
     "data": {
      "text/html": [
       "<pre>2024-08-29 13:45:04,756 - IDTranslator_140215111841072 - INFO - Progress saved to checkpoint_batch_2.pkl</pre>"
      ],
      "text/plain": [
       "<IPython.core.display.HTML object>"
      ]
     },
     "metadata": {},
     "output_type": "display_data"
    },
    {
     "name": "stderr",
     "output_type": "stream",
     "text": [
      "INFO:IDTranslator_140215111841072:Progress saved to checkpoint_batch_2.pkl\n"
     ]
    },
    {
     "data": {
      "text/html": [
       "<pre>2024-08-29 13:45:07,049 - IDTranslator_140215111841072 - INFO - Processed batch 3/7</pre>"
      ],
      "text/plain": [
       "<IPython.core.display.HTML object>"
      ]
     },
     "metadata": {},
     "output_type": "display_data"
    },
    {
     "name": "stderr",
     "output_type": "stream",
     "text": [
      "INFO:IDTranslator_140215111841072:Processed batch 3/7\n"
     ]
    },
    {
     "data": {
      "text/html": [
       "<pre>2024-08-29 13:45:08,098 - IDTranslator_140215111841072 - INFO - Processed batch 4/7</pre>"
      ],
      "text/plain": [
       "<IPython.core.display.HTML object>"
      ]
     },
     "metadata": {},
     "output_type": "display_data"
    },
    {
     "name": "stderr",
     "output_type": "stream",
     "text": [
      "INFO:IDTranslator_140215111841072:Processed batch 4/7\n"
     ]
    },
    {
     "data": {
      "text/html": [
       "<pre>2024-08-29 13:45:08,100 - IDTranslator_140215111841072 - INFO - Progress saved to checkpoint_batch_4.pkl</pre>"
      ],
      "text/plain": [
       "<IPython.core.display.HTML object>"
      ]
     },
     "metadata": {},
     "output_type": "display_data"
    },
    {
     "name": "stderr",
     "output_type": "stream",
     "text": [
      "INFO:IDTranslator_140215111841072:Progress saved to checkpoint_batch_4.pkl\n"
     ]
    },
    {
     "data": {
      "text/html": [
       "<pre>2024-08-29 13:45:08,127 - IDTranslator_140215111841072 - INFO - Processed batch 5/7</pre>"
      ],
      "text/plain": [
       "<IPython.core.display.HTML object>"
      ]
     },
     "metadata": {},
     "output_type": "display_data"
    },
    {
     "name": "stderr",
     "output_type": "stream",
     "text": [
      "INFO:IDTranslator_140215111841072:Processed batch 5/7\n"
     ]
    },
    {
     "data": {
      "text/html": [
       "<pre>2024-08-29 13:45:11,443 - IDTranslator_140215111841072 - INFO - Processed batch 6/7</pre>"
      ],
      "text/plain": [
       "<IPython.core.display.HTML object>"
      ]
     },
     "metadata": {},
     "output_type": "display_data"
    },
    {
     "name": "stderr",
     "output_type": "stream",
     "text": [
      "INFO:IDTranslator_140215111841072:Processed batch 6/7\n"
     ]
    },
    {
     "data": {
      "text/html": [
       "<pre>2024-08-29 13:45:11,445 - IDTranslator_140215111841072 - INFO - Progress saved to checkpoint_batch_6.pkl</pre>"
      ],
      "text/plain": [
       "<IPython.core.display.HTML object>"
      ]
     },
     "metadata": {},
     "output_type": "display_data"
    },
    {
     "name": "stderr",
     "output_type": "stream",
     "text": [
      "INFO:IDTranslator_140215111841072:Progress saved to checkpoint_batch_6.pkl\n"
     ]
    },
    {
     "data": {
      "text/html": [
       "<pre>2024-08-29 13:45:13,116 - IDTranslator_140215111841072 - INFO - Processed batch 7/7</pre>"
      ],
      "text/plain": [
       "<IPython.core.display.HTML object>"
      ]
     },
     "metadata": {},
     "output_type": "display_data"
    },
    {
     "name": "stderr",
     "output_type": "stream",
     "text": [
      "INFO:IDTranslator_140215111841072:Processed batch 7/7\n"
     ]
    },
    {
     "data": {
      "text/html": [
       "<pre>2024-08-29 13:45:13,118 - IDTranslator_140215111841072 - INFO - Progress saved to checkpoint_batch_7.pkl</pre>"
      ],
      "text/plain": [
       "<IPython.core.display.HTML object>"
      ]
     },
     "metadata": {},
     "output_type": "display_data"
    },
    {
     "name": "stderr",
     "output_type": "stream",
     "text": [
      "INFO:IDTranslator_140215111841072:Progress saved to checkpoint_batch_7.pkl\n"
     ]
    },
    {
     "data": {
      "text/html": [
       "<pre>2024-08-29 13:45:13,136 - IDTranslator_140215111841072 - INFO - Applying translation to dataframe...</pre>"
      ],
      "text/plain": [
       "<IPython.core.display.HTML object>"
      ]
     },
     "metadata": {},
     "output_type": "display_data"
    },
    {
     "name": "stderr",
     "output_type": "stream",
     "text": [
      "INFO:IDTranslator_140215111841072:Applying translation to dataframe...\n"
     ]
    },
    {
     "data": {
      "text/html": [
       "<pre>2024-08-29 13:45:13,457 - IDTranslator_140215111841072 - INFO - Results saved to ../data/Test_space_screens-19_translated.csv</pre>"
      ],
      "text/plain": [
       "<IPython.core.display.HTML object>"
      ]
     },
     "metadata": {},
     "output_type": "display_data"
    },
    {
     "name": "stderr",
     "output_type": "stream",
     "text": [
      "INFO:IDTranslator_140215111841072:Results saved to ../data/Test_space_screens-19_translated.csv\n"
     ]
    },
    {
     "data": {
      "text/html": [
       "<pre>2024-08-29 13:45:13,461 - IDTranslator_140215111841072 - INFO - Found 7 untranslated IDs to retry</pre>"
      ],
      "text/plain": [
       "<IPython.core.display.HTML object>"
      ]
     },
     "metadata": {},
     "output_type": "display_data"
    },
    {
     "name": "stderr",
     "output_type": "stream",
     "text": [
      "INFO:IDTranslator_140215111841072:Found 7 untranslated IDs to retry\n"
     ]
    },
    {
     "data": {
      "text/html": [
       "<pre>2024-08-29 13:45:13,462 - IDTranslator_140215111841072 - INFO - Retrying translation for 7 untranslated IDs</pre>"
      ],
      "text/plain": [
       "<IPython.core.display.HTML object>"
      ]
     },
     "metadata": {},
     "output_type": "display_data"
    },
    {
     "name": "stderr",
     "output_type": "stream",
     "text": [
      "INFO:IDTranslator_140215111841072:Retrying translation for 7 untranslated IDs\n"
     ]
    },
    {
     "data": {
      "application/vnd.jupyter.widget-view+json": {
       "model_id": "cfec1c39ffbb4ee9833d1d5c858891df",
       "version_major": 2,
       "version_minor": 0
      },
      "text/plain": [
       "Retrying untranslated batches:   0%|          | 0/1 [00:00<?, ?it/s]"
      ]
     },
     "metadata": {},
     "output_type": "display_data"
    },
    {
     "data": {
      "text/html": [
       "<pre>2024-08-29 13:45:26,931 - IDTranslator_140215111841072 - INFO - Retried batch 1/1</pre>"
      ],
      "text/plain": [
       "<IPython.core.display.HTML object>"
      ]
     },
     "metadata": {},
     "output_type": "display_data"
    },
    {
     "name": "stderr",
     "output_type": "stream",
     "text": [
      "INFO:IDTranslator_140215111841072:Retried batch 1/1\n"
     ]
    },
    {
     "data": {
      "text/html": [
       "<pre>2024-08-29 13:45:26,933 - IDTranslator_140215111841072 - INFO - Progress saved to retry_checkpoint_batch_1.pkl</pre>"
      ],
      "text/plain": [
       "<IPython.core.display.HTML object>"
      ]
     },
     "metadata": {},
     "output_type": "display_data"
    },
    {
     "name": "stderr",
     "output_type": "stream",
     "text": [
      "INFO:IDTranslator_140215111841072:Progress saved to retry_checkpoint_batch_1.pkl\n"
     ]
    },
    {
     "data": {
      "text/html": [
       "<pre>2024-08-29 13:45:26,954 - IDTranslator_140215111841072 - INFO - Applying translation to dataframe...</pre>"
      ],
      "text/plain": [
       "<IPython.core.display.HTML object>"
      ]
     },
     "metadata": {},
     "output_type": "display_data"
    },
    {
     "name": "stderr",
     "output_type": "stream",
     "text": [
      "INFO:IDTranslator_140215111841072:Applying translation to dataframe...\n"
     ]
    },
    {
     "data": {
      "text/html": [
       "<pre>2024-08-29 13:45:27,006 - IDTranslator_140215111841072 - INFO - Results saved to ../data/Test_space_screens-19_translated.csv</pre>"
      ],
      "text/plain": [
       "<IPython.core.display.HTML object>"
      ]
     },
     "metadata": {},
     "output_type": "display_data"
    },
    {
     "name": "stderr",
     "output_type": "stream",
     "text": [
      "INFO:IDTranslator_140215111841072:Results saved to ../data/Test_space_screens-19_translated.csv\n"
     ]
    },
    {
     "data": {
      "text/html": [
       "<pre>2024-08-29 13:45:27,008 - IDTranslator_140215111841072 - INFO - ID translation process completed in 211.36 seconds</pre>"
      ],
      "text/plain": [
       "<IPython.core.display.HTML object>"
      ]
     },
     "metadata": {},
     "output_type": "display_data"
    },
    {
     "name": "stderr",
     "output_type": "stream",
     "text": [
      "INFO:IDTranslator_140215111841072:ID translation process completed in 211.36 seconds\n"
     ]
    },
    {
     "data": {
      "text/html": [
       "<pre>2024-08-29 13:45:27,013 - IDTranslator_140215111841072 - INFO - Original entry count: 1174</pre>"
      ],
      "text/plain": [
       "<IPython.core.display.HTML object>"
      ]
     },
     "metadata": {},
     "output_type": "display_data"
    },
    {
     "name": "stderr",
     "output_type": "stream",
     "text": [
      "INFO:IDTranslator_140215111841072:Original entry count: 1174\n"
     ]
    },
    {
     "data": {
      "text/html": [
       "<pre>2024-08-29 13:45:27,014 - IDTranslator_140215111841072 - INFO - Translated entry count: 1160</pre>"
      ],
      "text/plain": [
       "<IPython.core.display.HTML object>"
      ]
     },
     "metadata": {},
     "output_type": "display_data"
    },
    {
     "name": "stderr",
     "output_type": "stream",
     "text": [
      "INFO:IDTranslator_140215111841072:Translated entry count: 1160\n"
     ]
    },
    {
     "data": {
      "text/html": [
       "<pre>2024-08-29 13:45:27,015 - IDTranslator_140215111841072 - INFO - Expansion factor: 0.99</pre>"
      ],
      "text/plain": [
       "<IPython.core.display.HTML object>"
      ]
     },
     "metadata": {},
     "output_type": "display_data"
    },
    {
     "name": "stderr",
     "output_type": "stream",
     "text": [
      "INFO:IDTranslator_140215111841072:Expansion factor: 0.99\n"
     ]
    },
    {
     "data": {
      "text/html": [
       "<pre>2024-08-29 13:45:27,016 - IDTranslator_140215111841072 - INFO - Translation success rate: 98.81%</pre>"
      ],
      "text/plain": [
       "<IPython.core.display.HTML object>"
      ]
     },
     "metadata": {},
     "output_type": "display_data"
    },
    {
     "name": "stderr",
     "output_type": "stream",
     "text": [
      "INFO:IDTranslator_140215111841072:Translation success rate: 98.81%\n"
     ]
    }
   ],
   "source": [
    "translator_4.run()"
   ]
  },
  {
   "cell_type": "code",
   "execution_count": 13,
   "id": "9fb676ea-f4c2-4ffb-9ae6-cf737cab82d7",
   "metadata": {},
   "outputs": [],
   "source": [
    "Huri_union = pd.read_csv('../data/HI-union_translated.csv', usecols=[\"source_UniProtKB-Swiss-Prot\", \"target_UniProtKB-Swiss-Prot\"])"
   ]
  },
  {
   "cell_type": "code",
   "execution_count": 14,
   "id": "71dc129d-b9a1-48ce-9c77-d8de91ed8e17",
   "metadata": {},
   "outputs": [
    {
     "data": {
      "text/html": [
       "<div>\n",
       "<style scoped>\n",
       "    .dataframe tbody tr th:only-of-type {\n",
       "        vertical-align: middle;\n",
       "    }\n",
       "\n",
       "    .dataframe tbody tr th {\n",
       "        vertical-align: top;\n",
       "    }\n",
       "\n",
       "    .dataframe thead th {\n",
       "        text-align: right;\n",
       "    }\n",
       "</style>\n",
       "<table border=\"1\" class=\"dataframe\">\n",
       "  <thead>\n",
       "    <tr style=\"text-align: right;\">\n",
       "      <th></th>\n",
       "      <th>source_UniProtKB-Swiss-Prot</th>\n",
       "      <th>target_UniProtKB-Swiss-Prot</th>\n",
       "    </tr>\n",
       "  </thead>\n",
       "  <tbody>\n",
       "    <tr>\n",
       "      <th>0</th>\n",
       "      <td>Q9H2S6</td>\n",
       "      <td>Q9NPE6</td>\n",
       "    </tr>\n",
       "    <tr>\n",
       "      <th>1</th>\n",
       "      <td>Q9H2S6</td>\n",
       "      <td>Q9BXK5</td>\n",
       "    </tr>\n",
       "    <tr>\n",
       "      <th>2</th>\n",
       "      <td>Q9H2S6</td>\n",
       "      <td>O60238</td>\n",
       "    </tr>\n",
       "    <tr>\n",
       "      <th>3</th>\n",
       "      <td>Q9H2S6</td>\n",
       "      <td>P20138</td>\n",
       "    </tr>\n",
       "    <tr>\n",
       "      <th>4</th>\n",
       "      <td>Q9H2S6</td>\n",
       "      <td>Q9UM44</td>\n",
       "    </tr>\n",
       "    <tr>\n",
       "      <th>...</th>\n",
       "      <td>...</td>\n",
       "      <td>...</td>\n",
       "    </tr>\n",
       "    <tr>\n",
       "      <th>64178</th>\n",
       "      <td>B2RXH8</td>\n",
       "      <td>B2RXH8</td>\n",
       "    </tr>\n",
       "    <tr>\n",
       "      <th>64179</th>\n",
       "      <td>Q8NHW4</td>\n",
       "      <td>Q6IN84</td>\n",
       "    </tr>\n",
       "    <tr>\n",
       "      <th>64180</th>\n",
       "      <td>ENSG00000276076</td>\n",
       "      <td>ENSG00000276076</td>\n",
       "    </tr>\n",
       "    <tr>\n",
       "      <th>64181</th>\n",
       "      <td>Q9UI36</td>\n",
       "      <td>Q9UI36</td>\n",
       "    </tr>\n",
       "    <tr>\n",
       "      <th>64182</th>\n",
       "      <td>ENSG00000280987</td>\n",
       "      <td>ENSG00000280987</td>\n",
       "    </tr>\n",
       "  </tbody>\n",
       "</table>\n",
       "<p>64183 rows × 2 columns</p>\n",
       "</div>"
      ],
      "text/plain": [
       "      source_UniProtKB-Swiss-Prot target_UniProtKB-Swiss-Prot\n",
       "0                          Q9H2S6                      Q9NPE6\n",
       "1                          Q9H2S6                      Q9BXK5\n",
       "2                          Q9H2S6                      O60238\n",
       "3                          Q9H2S6                      P20138\n",
       "4                          Q9H2S6                      Q9UM44\n",
       "...                           ...                         ...\n",
       "64178                      B2RXH8                      B2RXH8\n",
       "64179                      Q8NHW4                      Q6IN84\n",
       "64180             ENSG00000276076             ENSG00000276076\n",
       "64181                      Q9UI36                      Q9UI36\n",
       "64182             ENSG00000280987             ENSG00000280987\n",
       "\n",
       "[64183 rows x 2 columns]"
      ]
     },
     "execution_count": 14,
     "metadata": {},
     "output_type": "execute_result"
    }
   ],
   "source": [
    "Huri_union"
   ]
  },
  {
   "cell_type": "code",
   "execution_count": 15,
   "id": "74a45b9f-0ddc-487d-9c9a-30aac69899c0",
   "metadata": {},
   "outputs": [],
   "source": [
    "Huri = pd.read_csv('../data/HuRI_translated.csv', usecols=[\"source_UniProtKB-Swiss-Prot\", \"target_UniProtKB-Swiss-Prot\"])"
   ]
  },
  {
   "cell_type": "code",
   "execution_count": 16,
   "id": "c32ac1ee-b135-45d8-a514-8721a450410b",
   "metadata": {},
   "outputs": [
    {
     "data": {
      "text/html": [
       "<div>\n",
       "<style scoped>\n",
       "    .dataframe tbody tr th:only-of-type {\n",
       "        vertical-align: middle;\n",
       "    }\n",
       "\n",
       "    .dataframe tbody tr th {\n",
       "        vertical-align: top;\n",
       "    }\n",
       "\n",
       "    .dataframe thead th {\n",
       "        text-align: right;\n",
       "    }\n",
       "</style>\n",
       "<table border=\"1\" class=\"dataframe\">\n",
       "  <thead>\n",
       "    <tr style=\"text-align: right;\">\n",
       "      <th></th>\n",
       "      <th>source_UniProtKB-Swiss-Prot</th>\n",
       "      <th>target_UniProtKB-Swiss-Prot</th>\n",
       "    </tr>\n",
       "  </thead>\n",
       "  <tbody>\n",
       "    <tr>\n",
       "      <th>0</th>\n",
       "      <td>Q9H2S6</td>\n",
       "      <td>Q9NPE6</td>\n",
       "    </tr>\n",
       "    <tr>\n",
       "      <th>1</th>\n",
       "      <td>Q9H2S6</td>\n",
       "      <td>Q9BXK5</td>\n",
       "    </tr>\n",
       "    <tr>\n",
       "      <th>2</th>\n",
       "      <td>Q9H2S6</td>\n",
       "      <td>O60238</td>\n",
       "    </tr>\n",
       "    <tr>\n",
       "      <th>3</th>\n",
       "      <td>Q9H2S6</td>\n",
       "      <td>P20138</td>\n",
       "    </tr>\n",
       "    <tr>\n",
       "      <th>4</th>\n",
       "      <td>Q9H2S6</td>\n",
       "      <td>Q9UM44</td>\n",
       "    </tr>\n",
       "    <tr>\n",
       "      <th>...</th>\n",
       "      <td>...</td>\n",
       "      <td>...</td>\n",
       "    </tr>\n",
       "    <tr>\n",
       "      <th>52687</th>\n",
       "      <td>Q9UGY1</td>\n",
       "      <td>Q9UGY1</td>\n",
       "    </tr>\n",
       "    <tr>\n",
       "      <th>52688</th>\n",
       "      <td>P13236</td>\n",
       "      <td>Q6IN84</td>\n",
       "    </tr>\n",
       "    <tr>\n",
       "      <th>52689</th>\n",
       "      <td>B2RXH8</td>\n",
       "      <td>B2RXH8</td>\n",
       "    </tr>\n",
       "    <tr>\n",
       "      <th>52690</th>\n",
       "      <td>Q8NHW4</td>\n",
       "      <td>Q6IN84</td>\n",
       "    </tr>\n",
       "    <tr>\n",
       "      <th>52691</th>\n",
       "      <td>ENSG00000276076</td>\n",
       "      <td>ENSG00000276076</td>\n",
       "    </tr>\n",
       "  </tbody>\n",
       "</table>\n",
       "<p>52692 rows × 2 columns</p>\n",
       "</div>"
      ],
      "text/plain": [
       "      source_UniProtKB-Swiss-Prot target_UniProtKB-Swiss-Prot\n",
       "0                          Q9H2S6                      Q9NPE6\n",
       "1                          Q9H2S6                      Q9BXK5\n",
       "2                          Q9H2S6                      O60238\n",
       "3                          Q9H2S6                      P20138\n",
       "4                          Q9H2S6                      Q9UM44\n",
       "...                           ...                         ...\n",
       "52687                      Q9UGY1                      Q9UGY1\n",
       "52688                      P13236                      Q6IN84\n",
       "52689                      B2RXH8                      B2RXH8\n",
       "52690                      Q8NHW4                      Q6IN84\n",
       "52691             ENSG00000276076             ENSG00000276076\n",
       "\n",
       "[52692 rows x 2 columns]"
      ]
     },
     "execution_count": 16,
     "metadata": {},
     "output_type": "execute_result"
    }
   ],
   "source": [
    "Huri"
   ]
  },
  {
   "cell_type": "code",
   "execution_count": 17,
   "id": "91905470-e955-457b-bc00-a256910719ef",
   "metadata": {},
   "outputs": [],
   "source": [
    "Lit_BM = pd.read_csv('../data/Lit-BM_translated.csv', usecols=[\"source_UniProtKB-Swiss-Prot\", \"target_UniProtKB-Swiss-Prot\"])"
   ]
  },
  {
   "cell_type": "code",
   "execution_count": 18,
   "id": "24ae00b6-9c24-4132-8780-2a5aa7f59521",
   "metadata": {},
   "outputs": [
    {
     "data": {
      "text/html": [
       "<div>\n",
       "<style scoped>\n",
       "    .dataframe tbody tr th:only-of-type {\n",
       "        vertical-align: middle;\n",
       "    }\n",
       "\n",
       "    .dataframe tbody tr th {\n",
       "        vertical-align: top;\n",
       "    }\n",
       "\n",
       "    .dataframe thead th {\n",
       "        text-align: right;\n",
       "    }\n",
       "</style>\n",
       "<table border=\"1\" class=\"dataframe\">\n",
       "  <thead>\n",
       "    <tr style=\"text-align: right;\">\n",
       "      <th></th>\n",
       "      <th>source_UniProtKB-Swiss-Prot</th>\n",
       "      <th>target_UniProtKB-Swiss-Prot</th>\n",
       "    </tr>\n",
       "  </thead>\n",
       "  <tbody>\n",
       "    <tr>\n",
       "      <th>0</th>\n",
       "      <td>P23511</td>\n",
       "      <td>Q13952</td>\n",
       "    </tr>\n",
       "    <tr>\n",
       "      <th>1</th>\n",
       "      <td>P23511</td>\n",
       "      <td>P25208</td>\n",
       "    </tr>\n",
       "    <tr>\n",
       "      <th>2</th>\n",
       "      <td>P43351</td>\n",
       "      <td>P43351</td>\n",
       "    </tr>\n",
       "    <tr>\n",
       "      <th>3</th>\n",
       "      <td>Q92934</td>\n",
       "      <td>Q92843</td>\n",
       "    </tr>\n",
       "    <tr>\n",
       "      <th>4</th>\n",
       "      <td>Q92934</td>\n",
       "      <td>Q07817</td>\n",
       "    </tr>\n",
       "    <tr>\n",
       "      <th>...</th>\n",
       "      <td>...</td>\n",
       "      <td>...</td>\n",
       "    </tr>\n",
       "    <tr>\n",
       "      <th>13697</th>\n",
       "      <td>O14737</td>\n",
       "      <td>Q92993</td>\n",
       "    </tr>\n",
       "    <tr>\n",
       "      <th>13698</th>\n",
       "      <td>P04792</td>\n",
       "      <td>O43707</td>\n",
       "    </tr>\n",
       "    <tr>\n",
       "      <th>13699</th>\n",
       "      <td>P04792</td>\n",
       "      <td>Q9NPF5</td>\n",
       "    </tr>\n",
       "    <tr>\n",
       "      <th>13700</th>\n",
       "      <td>P31749</td>\n",
       "      <td>Q12778</td>\n",
       "    </tr>\n",
       "    <tr>\n",
       "      <th>13701</th>\n",
       "      <td>P42566</td>\n",
       "      <td>P00519</td>\n",
       "    </tr>\n",
       "  </tbody>\n",
       "</table>\n",
       "<p>13702 rows × 2 columns</p>\n",
       "</div>"
      ],
      "text/plain": [
       "      source_UniProtKB-Swiss-Prot target_UniProtKB-Swiss-Prot\n",
       "0                          P23511                      Q13952\n",
       "1                          P23511                      P25208\n",
       "2                          P43351                      P43351\n",
       "3                          Q92934                      Q92843\n",
       "4                          Q92934                      Q07817\n",
       "...                           ...                         ...\n",
       "13697                      O14737                      Q92993\n",
       "13698                      P04792                      O43707\n",
       "13699                      P04792                      Q9NPF5\n",
       "13700                      P31749                      Q12778\n",
       "13701                      P42566                      P00519\n",
       "\n",
       "[13702 rows x 2 columns]"
      ]
     },
     "execution_count": 18,
     "metadata": {},
     "output_type": "execute_result"
    }
   ],
   "source": [
    "Lit_BM"
   ]
  },
  {
   "cell_type": "code",
   "execution_count": 19,
   "id": "b6c68e09-4160-4408-9da8-14efe96e314b",
   "metadata": {},
   "outputs": [],
   "source": [
    "Test_space_screens = pd.read_csv('../data/Test_space_screens-19_translated.csv', usecols=[\"source_UniProtKB-Swiss-Prot\", \"target_UniProtKB-Swiss-Prot\"])"
   ]
  },
  {
   "cell_type": "code",
   "execution_count": 20,
   "id": "c0e88067-f55c-45c8-9332-d2f2873d8345",
   "metadata": {},
   "outputs": [
    {
     "data": {
      "text/html": [
       "<div>\n",
       "<style scoped>\n",
       "    .dataframe tbody tr th:only-of-type {\n",
       "        vertical-align: middle;\n",
       "    }\n",
       "\n",
       "    .dataframe tbody tr th {\n",
       "        vertical-align: top;\n",
       "    }\n",
       "\n",
       "    .dataframe thead th {\n",
       "        text-align: right;\n",
       "    }\n",
       "</style>\n",
       "<table border=\"1\" class=\"dataframe\">\n",
       "  <thead>\n",
       "    <tr style=\"text-align: right;\">\n",
       "      <th></th>\n",
       "      <th>source_UniProtKB-Swiss-Prot</th>\n",
       "      <th>target_UniProtKB-Swiss-Prot</th>\n",
       "    </tr>\n",
       "  </thead>\n",
       "  <tbody>\n",
       "    <tr>\n",
       "      <th>0</th>\n",
       "      <td>Q92934</td>\n",
       "      <td>Q92843</td>\n",
       "    </tr>\n",
       "    <tr>\n",
       "      <th>1</th>\n",
       "      <td>Q14847</td>\n",
       "      <td>Q8N9W6</td>\n",
       "    </tr>\n",
       "    <tr>\n",
       "      <th>2</th>\n",
       "      <td>Q14847</td>\n",
       "      <td>Q15038</td>\n",
       "    </tr>\n",
       "    <tr>\n",
       "      <th>3</th>\n",
       "      <td>Q14847</td>\n",
       "      <td>A8MQ03</td>\n",
       "    </tr>\n",
       "    <tr>\n",
       "      <th>4</th>\n",
       "      <td>Q6NTF9</td>\n",
       "      <td>Q9ULP0</td>\n",
       "    </tr>\n",
       "    <tr>\n",
       "      <th>...</th>\n",
       "      <td>...</td>\n",
       "      <td>...</td>\n",
       "    </tr>\n",
       "    <tr>\n",
       "      <th>1169</th>\n",
       "      <td>Q6L8G9</td>\n",
       "      <td>Q9BYQ6</td>\n",
       "    </tr>\n",
       "    <tr>\n",
       "      <th>1170</th>\n",
       "      <td>Q6L8G9</td>\n",
       "      <td>Q6P5X5</td>\n",
       "    </tr>\n",
       "    <tr>\n",
       "      <th>1171</th>\n",
       "      <td>Q9BYQ6</td>\n",
       "      <td>Q9BYS1</td>\n",
       "    </tr>\n",
       "    <tr>\n",
       "      <th>1172</th>\n",
       "      <td>P37198</td>\n",
       "      <td>Q96JP2</td>\n",
       "    </tr>\n",
       "    <tr>\n",
       "      <th>1173</th>\n",
       "      <td>Q8WWP7</td>\n",
       "      <td>P60508</td>\n",
       "    </tr>\n",
       "  </tbody>\n",
       "</table>\n",
       "<p>1174 rows × 2 columns</p>\n",
       "</div>"
      ],
      "text/plain": [
       "     source_UniProtKB-Swiss-Prot target_UniProtKB-Swiss-Prot\n",
       "0                         Q92934                      Q92843\n",
       "1                         Q14847                      Q8N9W6\n",
       "2                         Q14847                      Q15038\n",
       "3                         Q14847                      A8MQ03\n",
       "4                         Q6NTF9                      Q9ULP0\n",
       "...                          ...                         ...\n",
       "1169                      Q6L8G9                      Q9BYQ6\n",
       "1170                      Q6L8G9                      Q6P5X5\n",
       "1171                      Q9BYQ6                      Q9BYS1\n",
       "1172                      P37198                      Q96JP2\n",
       "1173                      Q8WWP7                      P60508\n",
       "\n",
       "[1174 rows x 2 columns]"
      ]
     },
     "execution_count": 20,
     "metadata": {},
     "output_type": "execute_result"
    }
   ],
   "source": [
    "Test_space_screens"
   ]
  },
  {
   "cell_type": "code",
   "execution_count": 21,
   "id": "5b2c0e41-e2bd-4ba0-b390-22922136a082",
   "metadata": {},
   "outputs": [
    {
     "data": {
      "text/html": [
       "<div>\n",
       "<style scoped>\n",
       "    .dataframe tbody tr th:only-of-type {\n",
       "        vertical-align: middle;\n",
       "    }\n",
       "\n",
       "    .dataframe tbody tr th {\n",
       "        vertical-align: top;\n",
       "    }\n",
       "\n",
       "    .dataframe thead th {\n",
       "        text-align: right;\n",
       "    }\n",
       "</style>\n",
       "<table border=\"1\" class=\"dataframe\">\n",
       "  <thead>\n",
       "    <tr style=\"text-align: right;\">\n",
       "      <th></th>\n",
       "      <th>source_UniProtKB-Swiss-Prot</th>\n",
       "      <th>target_UniProtKB-Swiss-Prot</th>\n",
       "    </tr>\n",
       "  </thead>\n",
       "  <tbody>\n",
       "    <tr>\n",
       "      <th>0</th>\n",
       "      <td>Q9H2S6</td>\n",
       "      <td>Q9NPE6</td>\n",
       "    </tr>\n",
       "    <tr>\n",
       "      <th>1</th>\n",
       "      <td>Q9H2S6</td>\n",
       "      <td>Q9BXK5</td>\n",
       "    </tr>\n",
       "    <tr>\n",
       "      <th>2</th>\n",
       "      <td>Q9H2S6</td>\n",
       "      <td>O60238</td>\n",
       "    </tr>\n",
       "    <tr>\n",
       "      <th>3</th>\n",
       "      <td>Q9H2S6</td>\n",
       "      <td>P20138</td>\n",
       "    </tr>\n",
       "    <tr>\n",
       "      <th>4</th>\n",
       "      <td>Q9H2S6</td>\n",
       "      <td>Q9UM44</td>\n",
       "    </tr>\n",
       "    <tr>\n",
       "      <th>...</th>\n",
       "      <td>...</td>\n",
       "      <td>...</td>\n",
       "    </tr>\n",
       "    <tr>\n",
       "      <th>131746</th>\n",
       "      <td>Q6L8G9</td>\n",
       "      <td>Q9BYQ6</td>\n",
       "    </tr>\n",
       "    <tr>\n",
       "      <th>131747</th>\n",
       "      <td>Q6L8G9</td>\n",
       "      <td>Q6P5X5</td>\n",
       "    </tr>\n",
       "    <tr>\n",
       "      <th>131748</th>\n",
       "      <td>Q9BYQ6</td>\n",
       "      <td>Q9BYS1</td>\n",
       "    </tr>\n",
       "    <tr>\n",
       "      <th>131749</th>\n",
       "      <td>P37198</td>\n",
       "      <td>Q96JP2</td>\n",
       "    </tr>\n",
       "    <tr>\n",
       "      <th>131750</th>\n",
       "      <td>Q8WWP7</td>\n",
       "      <td>P60508</td>\n",
       "    </tr>\n",
       "  </tbody>\n",
       "</table>\n",
       "<p>131751 rows × 2 columns</p>\n",
       "</div>"
      ],
      "text/plain": [
       "       source_UniProtKB-Swiss-Prot target_UniProtKB-Swiss-Prot\n",
       "0                           Q9H2S6                      Q9NPE6\n",
       "1                           Q9H2S6                      Q9BXK5\n",
       "2                           Q9H2S6                      O60238\n",
       "3                           Q9H2S6                      P20138\n",
       "4                           Q9H2S6                      Q9UM44\n",
       "...                            ...                         ...\n",
       "131746                      Q6L8G9                      Q9BYQ6\n",
       "131747                      Q6L8G9                      Q6P5X5\n",
       "131748                      Q9BYQ6                      Q9BYS1\n",
       "131749                      P37198                      Q96JP2\n",
       "131750                      Q8WWP7                      P60508\n",
       "\n",
       "[131751 rows x 2 columns]"
      ]
     },
     "execution_count": 21,
     "metadata": {},
     "output_type": "execute_result"
    }
   ],
   "source": [
    "# Concatenate the dataframes\n",
    "combined_df = pd.concat([Huri_union, Huri, Lit_BM, Test_space_screens])\n",
    "combined_df.reset_index(inplace=True, drop=True)\n",
    "combined_df"
   ]
  },
  {
   "cell_type": "code",
   "execution_count": 22,
   "id": "d02f17f7-67bc-4342-84ab-991ca4e26965",
   "metadata": {},
   "outputs": [],
   "source": [
    "# Remove duplicate rows\n",
    "data = combined_df.drop_duplicates()"
   ]
  },
  {
   "cell_type": "code",
   "execution_count": 23,
   "id": "30d6ca27-e2da-4b96-8773-5404e66cbfcb",
   "metadata": {},
   "outputs": [],
   "source": [
    "data = data.reset_index(drop=True)"
   ]
  },
  {
   "cell_type": "code",
   "execution_count": 24,
   "id": "c0311e11-6d91-4531-bece-fbeafcdc1bd4",
   "metadata": {},
   "outputs": [
    {
     "data": {
      "text/html": [
       "<div>\n",
       "<style scoped>\n",
       "    .dataframe tbody tr th:only-of-type {\n",
       "        vertical-align: middle;\n",
       "    }\n",
       "\n",
       "    .dataframe tbody tr th {\n",
       "        vertical-align: top;\n",
       "    }\n",
       "\n",
       "    .dataframe thead th {\n",
       "        text-align: right;\n",
       "    }\n",
       "</style>\n",
       "<table border=\"1\" class=\"dataframe\">\n",
       "  <thead>\n",
       "    <tr style=\"text-align: right;\">\n",
       "      <th></th>\n",
       "      <th>source_UniProtKB-Swiss-Prot</th>\n",
       "      <th>target_UniProtKB-Swiss-Prot</th>\n",
       "    </tr>\n",
       "  </thead>\n",
       "  <tbody>\n",
       "    <tr>\n",
       "      <th>0</th>\n",
       "      <td>Q9H2S6</td>\n",
       "      <td>Q9NPE6</td>\n",
       "    </tr>\n",
       "    <tr>\n",
       "      <th>1</th>\n",
       "      <td>Q9H2S6</td>\n",
       "      <td>Q9BXK5</td>\n",
       "    </tr>\n",
       "    <tr>\n",
       "      <th>2</th>\n",
       "      <td>Q9H2S6</td>\n",
       "      <td>O60238</td>\n",
       "    </tr>\n",
       "    <tr>\n",
       "      <th>3</th>\n",
       "      <td>Q9H2S6</td>\n",
       "      <td>P20138</td>\n",
       "    </tr>\n",
       "    <tr>\n",
       "      <th>4</th>\n",
       "      <td>Q9H2S6</td>\n",
       "      <td>Q9UM44</td>\n",
       "    </tr>\n",
       "    <tr>\n",
       "      <th>...</th>\n",
       "      <td>...</td>\n",
       "      <td>...</td>\n",
       "    </tr>\n",
       "    <tr>\n",
       "      <th>75885</th>\n",
       "      <td>O14737</td>\n",
       "      <td>Q92993</td>\n",
       "    </tr>\n",
       "    <tr>\n",
       "      <th>75886</th>\n",
       "      <td>P04792</td>\n",
       "      <td>O43707</td>\n",
       "    </tr>\n",
       "    <tr>\n",
       "      <th>75887</th>\n",
       "      <td>P04792</td>\n",
       "      <td>Q9NPF5</td>\n",
       "    </tr>\n",
       "    <tr>\n",
       "      <th>75888</th>\n",
       "      <td>P31749</td>\n",
       "      <td>Q12778</td>\n",
       "    </tr>\n",
       "    <tr>\n",
       "      <th>75889</th>\n",
       "      <td>P42566</td>\n",
       "      <td>P00519</td>\n",
       "    </tr>\n",
       "  </tbody>\n",
       "</table>\n",
       "<p>75890 rows × 2 columns</p>\n",
       "</div>"
      ],
      "text/plain": [
       "      source_UniProtKB-Swiss-Prot target_UniProtKB-Swiss-Prot\n",
       "0                          Q9H2S6                      Q9NPE6\n",
       "1                          Q9H2S6                      Q9BXK5\n",
       "2                          Q9H2S6                      O60238\n",
       "3                          Q9H2S6                      P20138\n",
       "4                          Q9H2S6                      Q9UM44\n",
       "...                           ...                         ...\n",
       "75885                      O14737                      Q92993\n",
       "75886                      P04792                      O43707\n",
       "75887                      P04792                      Q9NPF5\n",
       "75888                      P31749                      Q12778\n",
       "75889                      P42566                      P00519\n",
       "\n",
       "[75890 rows x 2 columns]"
      ]
     },
     "execution_count": 24,
     "metadata": {},
     "output_type": "execute_result"
    }
   ],
   "source": [
    "data"
   ]
  },
  {
   "cell_type": "code",
   "execution_count": 25,
   "id": "bf9ab374-c114-450c-b577-815f3263fffc",
   "metadata": {},
   "outputs": [],
   "source": [
    "data.to_csv(\"../data/HURI_full_data_trasnlated.csv\", index=False)"
   ]
  },
  {
   "cell_type": "markdown",
   "id": "e12373a1-e9dc-403d-a24d-4152018a1fb8",
   "metadata": {},
   "source": [
    "Now we have a big database translated in Uniprot and we want to use it as Resources"
   ]
  },
  {
   "cell_type": "code",
   "execution_count": 27,
   "id": "59f89828-0e88-4bc8-9269-93b1c74e1c8c",
   "metadata": {},
   "outputs": [],
   "source": [
    "resources = Universe()"
   ]
  },
  {
   "cell_type": "code",
   "execution_count": 29,
   "id": "4d809cc1-22b6-43dd-bbe4-acfd245a98c3",
   "metadata": {},
   "outputs": [],
   "source": [
    "mapping = {\"source_UniProtKB-Swiss-Prot\": \"source\", \"target_UniProtKB-Swiss-Prot\": \"target\"}\n",
    "resources.add_resources(data, columns=mapping,  reset_index=True)"
   ]
  },
  {
   "cell_type": "code",
   "execution_count": 31,
   "id": "9501bd6d-9624-4ea0-96ac-bd6231c1dca2",
   "metadata": {},
   "outputs": [],
   "source": [
    "resources.build()"
   ]
  },
  {
   "cell_type": "code",
   "execution_count": 32,
   "id": "4aef6db3-0bd1-4f04-957c-d25bc9aa15c2",
   "metadata": {},
   "outputs": [
    {
     "data": {
      "text/html": [
       "<div>\n",
       "<style scoped>\n",
       "    .dataframe tbody tr th:only-of-type {\n",
       "        vertical-align: middle;\n",
       "    }\n",
       "\n",
       "    .dataframe tbody tr th {\n",
       "        vertical-align: top;\n",
       "    }\n",
       "\n",
       "    .dataframe thead th {\n",
       "        text-align: right;\n",
       "    }\n",
       "</style>\n",
       "<table border=\"1\" class=\"dataframe\">\n",
       "  <thead>\n",
       "    <tr style=\"text-align: right;\">\n",
       "      <th></th>\n",
       "      <th>source</th>\n",
       "      <th>target</th>\n",
       "      <th>is_directed</th>\n",
       "      <th>is_stimulation</th>\n",
       "      <th>is_inhibition</th>\n",
       "      <th>form_complex</th>\n",
       "    </tr>\n",
       "  </thead>\n",
       "  <tbody>\n",
       "    <tr>\n",
       "      <th>0</th>\n",
       "      <td>Q9H2S6</td>\n",
       "      <td>Q9NPE6</td>\n",
       "      <td>False</td>\n",
       "      <td>False</td>\n",
       "      <td>False</td>\n",
       "      <td>False</td>\n",
       "    </tr>\n",
       "    <tr>\n",
       "      <th>1</th>\n",
       "      <td>Q9H2S6</td>\n",
       "      <td>Q9BXK5</td>\n",
       "      <td>False</td>\n",
       "      <td>False</td>\n",
       "      <td>False</td>\n",
       "      <td>False</td>\n",
       "    </tr>\n",
       "    <tr>\n",
       "      <th>2</th>\n",
       "      <td>Q9H2S6</td>\n",
       "      <td>O60238</td>\n",
       "      <td>False</td>\n",
       "      <td>False</td>\n",
       "      <td>False</td>\n",
       "      <td>False</td>\n",
       "    </tr>\n",
       "    <tr>\n",
       "      <th>3</th>\n",
       "      <td>Q9H2S6</td>\n",
       "      <td>P20138</td>\n",
       "      <td>False</td>\n",
       "      <td>False</td>\n",
       "      <td>False</td>\n",
       "      <td>False</td>\n",
       "    </tr>\n",
       "    <tr>\n",
       "      <th>4</th>\n",
       "      <td>Q9H2S6</td>\n",
       "      <td>Q9UM44</td>\n",
       "      <td>False</td>\n",
       "      <td>False</td>\n",
       "      <td>False</td>\n",
       "      <td>False</td>\n",
       "    </tr>\n",
       "    <tr>\n",
       "      <th>...</th>\n",
       "      <td>...</td>\n",
       "      <td>...</td>\n",
       "      <td>...</td>\n",
       "      <td>...</td>\n",
       "      <td>...</td>\n",
       "      <td>...</td>\n",
       "    </tr>\n",
       "    <tr>\n",
       "      <th>75885</th>\n",
       "      <td>O14737</td>\n",
       "      <td>Q92993</td>\n",
       "      <td>False</td>\n",
       "      <td>False</td>\n",
       "      <td>False</td>\n",
       "      <td>False</td>\n",
       "    </tr>\n",
       "    <tr>\n",
       "      <th>75886</th>\n",
       "      <td>P04792</td>\n",
       "      <td>O43707</td>\n",
       "      <td>False</td>\n",
       "      <td>False</td>\n",
       "      <td>False</td>\n",
       "      <td>False</td>\n",
       "    </tr>\n",
       "    <tr>\n",
       "      <th>75887</th>\n",
       "      <td>P04792</td>\n",
       "      <td>Q9NPF5</td>\n",
       "      <td>False</td>\n",
       "      <td>False</td>\n",
       "      <td>False</td>\n",
       "      <td>False</td>\n",
       "    </tr>\n",
       "    <tr>\n",
       "      <th>75888</th>\n",
       "      <td>P31749</td>\n",
       "      <td>Q12778</td>\n",
       "      <td>False</td>\n",
       "      <td>False</td>\n",
       "      <td>False</td>\n",
       "      <td>False</td>\n",
       "    </tr>\n",
       "    <tr>\n",
       "      <th>75889</th>\n",
       "      <td>P42566</td>\n",
       "      <td>P00519</td>\n",
       "      <td>False</td>\n",
       "      <td>False</td>\n",
       "      <td>False</td>\n",
       "      <td>False</td>\n",
       "    </tr>\n",
       "  </tbody>\n",
       "</table>\n",
       "<p>75890 rows × 6 columns</p>\n",
       "</div>"
      ],
      "text/plain": [
       "       source  target  is_directed  is_stimulation  is_inhibition  \\\n",
       "0      Q9H2S6  Q9NPE6        False           False          False   \n",
       "1      Q9H2S6  Q9BXK5        False           False          False   \n",
       "2      Q9H2S6  O60238        False           False          False   \n",
       "3      Q9H2S6  P20138        False           False          False   \n",
       "4      Q9H2S6  Q9UM44        False           False          False   \n",
       "...       ...     ...          ...             ...            ...   \n",
       "75885  O14737  Q92993        False           False          False   \n",
       "75886  P04792  O43707        False           False          False   \n",
       "75887  P04792  Q9NPF5        False           False          False   \n",
       "75888  P31749  Q12778        False           False          False   \n",
       "75889  P42566  P00519        False           False          False   \n",
       "\n",
       "       form_complex  \n",
       "0             False  \n",
       "1             False  \n",
       "2             False  \n",
       "3             False  \n",
       "4             False  \n",
       "...             ...  \n",
       "75885         False  \n",
       "75886         False  \n",
       "75887         False  \n",
       "75888         False  \n",
       "75889         False  \n",
       "\n",
       "[75890 rows x 6 columns]"
      ]
     },
     "execution_count": 32,
     "metadata": {},
     "output_type": "execute_result"
    }
   ],
   "source": [
    "resources.interactions"
   ]
  },
  {
   "cell_type": "code",
   "execution_count": 33,
   "id": "060527d1-f512-418f-a241-24facc6118c2",
   "metadata": {},
   "outputs": [],
   "source": [
    "wnt_list = ['CTNNB1',\n",
    " 'APC',\n",
    " 'CSNK2B',\n",
    " 'ARID1A',\n",
    " 'ARID2',\n",
    " 'ATM',\n",
    " 'PIK3CA',\n",
    " 'BAI3',\n",
    " 'EPHA7',\n",
    " 'DDX3X',\n",
    " 'SYNCRIP',\n",
    " 'ALX4',\n",
    " 'DLX3',\n",
    " 'DLX4',\n",
    " 'EMX2',\n",
    " 'EN1',\n",
    " 'FOXF1',\n",
    " 'HOMEZ',\n",
    " 'HOXC4',\n",
    " 'HOXC5',\n",
    " 'HOXD11',\n",
    " 'HOXD13',\n",
    " 'HOXD8',\n",
    " 'HOXD9',\n",
    " 'IRX2',\n",
    " 'IRX5',\n",
    " 'LEF1',\n",
    " 'LHX8',\n",
    " 'MAF',\n",
    " 'MSX2',\n",
    " 'NKX6-1',\n",
    " 'ONECUT2',\n",
    " 'OSR2',\n",
    " 'PAX3',\n",
    " 'PITX1',\n",
    " 'PRRX1',\n",
    " 'RUNX2',\n",
    " 'SHOX2']"
   ]
  },
  {
   "cell_type": "markdown",
   "id": "f7d7500f-f663-473c-8e51-bfecf357c144",
   "metadata": {},
   "source": [
    "# Creating a Network starting from All Omnipath interactions"
   ]
  },
  {
   "cell_type": "code",
   "execution_count": 42,
   "id": "a9b9c7c4-d1d4-4b18-b8b4-0c8601cb8a85",
   "metadata": {},
   "outputs": [
    {
     "name": "stdout",
     "output_type": "stream",
     "text": [
      "Error: node ARID2 is not present in the resources database\n",
      "Error: node EPHA7 is not present in the resources database\n",
      "Error: node DLX4 is not present in the resources database\n",
      "Error: node EN1 is not present in the resources database\n",
      "Error: node FOXF1 is not present in the resources database\n",
      "Error: node HOMEZ is not present in the resources database\n",
      "Error: node HOXD11 is not present in the resources database\n",
      "Error: node HOXD13 is not present in the resources database\n",
      "Error: node HOXD9 is not present in the resources database\n",
      "Error: node IRX5 is not present in the resources database\n",
      "Error: node NKX6-1 is not present in the resources database\n",
      "Error: node ONECUT2 is not present in the resources database\n",
      "Error: node SHOX2 is not present in the resources database\n"
     ]
    }
   ],
   "source": [
    "wnt_net = Network(wnt_list, resources = resources.interactions)"
   ]
  },
  {
   "cell_type": "markdown",
   "id": "f3908855-2ca8-4bbc-91e5-a624c34ec187",
   "metadata": {},
   "source": [
    "Adding the node that were not found manually: HOXDB13 --> HOXD13, HOXDB --> HOXD9, Q8N9L1 --> ZIC4"
   ]
  },
  {
   "cell_type": "code",
   "execution_count": 43,
   "id": "553c5a51-4861-410b-8404-24b21d667d81",
   "metadata": {},
   "outputs": [
    {
     "name": "stdout",
     "output_type": "stream",
     "text": [
      "Error: node HOXD13 is not present in the resources database\n"
     ]
    }
   ],
   "source": [
    "wnt_net.add_node(\"HOXD13\")"
   ]
  },
  {
   "cell_type": "code",
   "execution_count": 44,
   "id": "5462f452-e7fd-4b80-9966-53b30893149e",
   "metadata": {},
   "outputs": [
    {
     "name": "stdout",
     "output_type": "stream",
     "text": [
      "Error: node HOXD9 is not present in the resources database\n"
     ]
    }
   ],
   "source": [
    "wnt_net.add_node(\"HOXD9\")"
   ]
  },
  {
   "cell_type": "code",
   "execution_count": 45,
   "id": "5fcbcaaf-6eaf-42a7-8285-7f9329efd0f6",
   "metadata": {},
   "outputs": [
    {
     "data": {
      "text/html": [
       "<div>\n",
       "<style scoped>\n",
       "    .dataframe tbody tr th:only-of-type {\n",
       "        vertical-align: middle;\n",
       "    }\n",
       "\n",
       "    .dataframe tbody tr th {\n",
       "        vertical-align: top;\n",
       "    }\n",
       "\n",
       "    .dataframe thead th {\n",
       "        text-align: right;\n",
       "    }\n",
       "</style>\n",
       "<table border=\"1\" class=\"dataframe\">\n",
       "  <thead>\n",
       "    <tr style=\"text-align: right;\">\n",
       "      <th></th>\n",
       "      <th>Genesymbol</th>\n",
       "      <th>Uniprot</th>\n",
       "      <th>Type</th>\n",
       "    </tr>\n",
       "  </thead>\n",
       "  <tbody>\n",
       "    <tr>\n",
       "      <th>0</th>\n",
       "      <td>CTNNB1</td>\n",
       "      <td>P35222</td>\n",
       "      <td>NaN</td>\n",
       "    </tr>\n",
       "    <tr>\n",
       "      <th>1</th>\n",
       "      <td>APC</td>\n",
       "      <td>P25054</td>\n",
       "      <td>NaN</td>\n",
       "    </tr>\n",
       "    <tr>\n",
       "      <th>2</th>\n",
       "      <td>CSNK2B</td>\n",
       "      <td>P67870</td>\n",
       "      <td>NaN</td>\n",
       "    </tr>\n",
       "    <tr>\n",
       "      <th>3</th>\n",
       "      <td>ARID1A</td>\n",
       "      <td>O14497</td>\n",
       "      <td>NaN</td>\n",
       "    </tr>\n",
       "    <tr>\n",
       "      <th>4</th>\n",
       "      <td>ATM</td>\n",
       "      <td>Q13315</td>\n",
       "      <td>NaN</td>\n",
       "    </tr>\n",
       "    <tr>\n",
       "      <th>5</th>\n",
       "      <td>PIK3CA</td>\n",
       "      <td>P42336</td>\n",
       "      <td>NaN</td>\n",
       "    </tr>\n",
       "    <tr>\n",
       "      <th>6</th>\n",
       "      <td>ADGRB3</td>\n",
       "      <td>O60242</td>\n",
       "      <td>NaN</td>\n",
       "    </tr>\n",
       "    <tr>\n",
       "      <th>7</th>\n",
       "      <td>DDX3X</td>\n",
       "      <td>O00571</td>\n",
       "      <td>NaN</td>\n",
       "    </tr>\n",
       "    <tr>\n",
       "      <th>8</th>\n",
       "      <td>SYNCRIP</td>\n",
       "      <td>O60506</td>\n",
       "      <td>NaN</td>\n",
       "    </tr>\n",
       "    <tr>\n",
       "      <th>9</th>\n",
       "      <td>ALX4</td>\n",
       "      <td>Q9H161</td>\n",
       "      <td>NaN</td>\n",
       "    </tr>\n",
       "    <tr>\n",
       "      <th>10</th>\n",
       "      <td>DLX3</td>\n",
       "      <td>O60479</td>\n",
       "      <td>NaN</td>\n",
       "    </tr>\n",
       "    <tr>\n",
       "      <th>11</th>\n",
       "      <td>EMX2</td>\n",
       "      <td>Q04743</td>\n",
       "      <td>NaN</td>\n",
       "    </tr>\n",
       "    <tr>\n",
       "      <th>12</th>\n",
       "      <td>HOXC4</td>\n",
       "      <td>P09017</td>\n",
       "      <td>NaN</td>\n",
       "    </tr>\n",
       "    <tr>\n",
       "      <th>13</th>\n",
       "      <td>HOXC5</td>\n",
       "      <td>Q00444</td>\n",
       "      <td>NaN</td>\n",
       "    </tr>\n",
       "    <tr>\n",
       "      <th>14</th>\n",
       "      <td>HOXD8</td>\n",
       "      <td>P13378</td>\n",
       "      <td>NaN</td>\n",
       "    </tr>\n",
       "    <tr>\n",
       "      <th>15</th>\n",
       "      <td>IRX2</td>\n",
       "      <td>Q9BZI1</td>\n",
       "      <td>NaN</td>\n",
       "    </tr>\n",
       "    <tr>\n",
       "      <th>16</th>\n",
       "      <td>LEF1</td>\n",
       "      <td>Q9UJU2</td>\n",
       "      <td>NaN</td>\n",
       "    </tr>\n",
       "    <tr>\n",
       "      <th>17</th>\n",
       "      <td>LHX8</td>\n",
       "      <td>Q68G74</td>\n",
       "      <td>NaN</td>\n",
       "    </tr>\n",
       "    <tr>\n",
       "      <th>18</th>\n",
       "      <td>MAF</td>\n",
       "      <td>O75444</td>\n",
       "      <td>NaN</td>\n",
       "    </tr>\n",
       "    <tr>\n",
       "      <th>19</th>\n",
       "      <td>MSX2</td>\n",
       "      <td>P35548</td>\n",
       "      <td>NaN</td>\n",
       "    </tr>\n",
       "    <tr>\n",
       "      <th>20</th>\n",
       "      <td>OSR2</td>\n",
       "      <td>Q8N2R0</td>\n",
       "      <td>NaN</td>\n",
       "    </tr>\n",
       "    <tr>\n",
       "      <th>21</th>\n",
       "      <td>PAX3</td>\n",
       "      <td>P23760</td>\n",
       "      <td>NaN</td>\n",
       "    </tr>\n",
       "    <tr>\n",
       "      <th>22</th>\n",
       "      <td>PITX1</td>\n",
       "      <td>P78337</td>\n",
       "      <td>NaN</td>\n",
       "    </tr>\n",
       "    <tr>\n",
       "      <th>23</th>\n",
       "      <td>PRRX1</td>\n",
       "      <td>P54821</td>\n",
       "      <td>NaN</td>\n",
       "    </tr>\n",
       "    <tr>\n",
       "      <th>24</th>\n",
       "      <td>RUNX2</td>\n",
       "      <td>Q13950</td>\n",
       "      <td>NaN</td>\n",
       "    </tr>\n",
       "  </tbody>\n",
       "</table>\n",
       "</div>"
      ],
      "text/plain": [
       "   Genesymbol Uniprot Type\n",
       "0      CTNNB1  P35222  NaN\n",
       "1         APC  P25054  NaN\n",
       "2      CSNK2B  P67870  NaN\n",
       "3      ARID1A  O14497  NaN\n",
       "4         ATM  Q13315  NaN\n",
       "5      PIK3CA  P42336  NaN\n",
       "6      ADGRB3  O60242  NaN\n",
       "7       DDX3X  O00571  NaN\n",
       "8     SYNCRIP  O60506  NaN\n",
       "9        ALX4  Q9H161  NaN\n",
       "10       DLX3  O60479  NaN\n",
       "11       EMX2  Q04743  NaN\n",
       "12      HOXC4  P09017  NaN\n",
       "13      HOXC5  Q00444  NaN\n",
       "14      HOXD8  P13378  NaN\n",
       "15       IRX2  Q9BZI1  NaN\n",
       "16       LEF1  Q9UJU2  NaN\n",
       "17       LHX8  Q68G74  NaN\n",
       "18        MAF  O75444  NaN\n",
       "19       MSX2  P35548  NaN\n",
       "20       OSR2  Q8N2R0  NaN\n",
       "21       PAX3  P23760  NaN\n",
       "22      PITX1  P78337  NaN\n",
       "23      PRRX1  P54821  NaN\n",
       "24      RUNX2  Q13950  NaN"
      ]
     },
     "execution_count": 45,
     "metadata": {},
     "output_type": "execute_result"
    }
   ],
   "source": [
    "wnt_net.nodes"
   ]
  },
  {
   "cell_type": "code",
   "execution_count": 46,
   "id": "9cf6140f-37ac-48d8-b83a-3fd2b05e5a0a",
   "metadata": {},
   "outputs": [
    {
     "name": "stdout",
     "output_type": "stream",
     "text": [
      "CPU times: user 8.69 s, sys: 0 ns, total: 8.69 s\n",
      "Wall time: 8.68 s\n"
     ]
    }
   ],
   "source": [
    "%%time\n",
    "wnt_net.complete_connection(maxlen=3, algorithm=\"bfs\", only_signed=False, connect_with_bias=False, consensus=False)"
   ]
  },
  {
   "cell_type": "code",
   "execution_count": 47,
   "id": "aae24ae5-a37b-4e42-a097-1955e80f7f06",
   "metadata": {},
   "outputs": [
    {
     "data": {
      "text/html": [
       "<div>\n",
       "<style scoped>\n",
       "    .dataframe tbody tr th:only-of-type {\n",
       "        vertical-align: middle;\n",
       "    }\n",
       "\n",
       "    .dataframe tbody tr th {\n",
       "        vertical-align: top;\n",
       "    }\n",
       "\n",
       "    .dataframe thead th {\n",
       "        text-align: right;\n",
       "    }\n",
       "</style>\n",
       "<table border=\"1\" class=\"dataframe\">\n",
       "  <thead>\n",
       "    <tr style=\"text-align: right;\">\n",
       "      <th></th>\n",
       "      <th>Genesymbol</th>\n",
       "      <th>Uniprot</th>\n",
       "      <th>Type</th>\n",
       "    </tr>\n",
       "  </thead>\n",
       "  <tbody>\n",
       "    <tr>\n",
       "      <th>0</th>\n",
       "      <td>CTNNB1</td>\n",
       "      <td>P35222</td>\n",
       "      <td>NaN</td>\n",
       "    </tr>\n",
       "    <tr>\n",
       "      <th>1</th>\n",
       "      <td>APC</td>\n",
       "      <td>P25054</td>\n",
       "      <td>NaN</td>\n",
       "    </tr>\n",
       "    <tr>\n",
       "      <th>2</th>\n",
       "      <td>CSNK2B</td>\n",
       "      <td>P67870</td>\n",
       "      <td>NaN</td>\n",
       "    </tr>\n",
       "    <tr>\n",
       "      <th>3</th>\n",
       "      <td>ARID1A</td>\n",
       "      <td>O14497</td>\n",
       "      <td>NaN</td>\n",
       "    </tr>\n",
       "    <tr>\n",
       "      <th>4</th>\n",
       "      <td>ATM</td>\n",
       "      <td>Q13315</td>\n",
       "      <td>NaN</td>\n",
       "    </tr>\n",
       "    <tr>\n",
       "      <th>...</th>\n",
       "      <td>...</td>\n",
       "      <td>...</td>\n",
       "      <td>...</td>\n",
       "    </tr>\n",
       "    <tr>\n",
       "      <th>110</th>\n",
       "      <td>NEDD9</td>\n",
       "      <td>Q14511</td>\n",
       "      <td>NaN</td>\n",
       "    </tr>\n",
       "    <tr>\n",
       "      <th>111</th>\n",
       "      <td>PSMA3</td>\n",
       "      <td>P25788</td>\n",
       "      <td>NaN</td>\n",
       "    </tr>\n",
       "    <tr>\n",
       "      <th>112</th>\n",
       "      <td>IPO13</td>\n",
       "      <td>O94829</td>\n",
       "      <td>NaN</td>\n",
       "    </tr>\n",
       "    <tr>\n",
       "      <th>113</th>\n",
       "      <td>TXN2</td>\n",
       "      <td>Q99757</td>\n",
       "      <td>NaN</td>\n",
       "    </tr>\n",
       "    <tr>\n",
       "      <th>114</th>\n",
       "      <td>STUB1</td>\n",
       "      <td>Q9UNE7</td>\n",
       "      <td>NaN</td>\n",
       "    </tr>\n",
       "  </tbody>\n",
       "</table>\n",
       "<p>115 rows × 3 columns</p>\n",
       "</div>"
      ],
      "text/plain": [
       "    Genesymbol Uniprot Type\n",
       "0       CTNNB1  P35222  NaN\n",
       "1          APC  P25054  NaN\n",
       "2       CSNK2B  P67870  NaN\n",
       "3       ARID1A  O14497  NaN\n",
       "4          ATM  Q13315  NaN\n",
       "..         ...     ...  ...\n",
       "110      NEDD9  Q14511  NaN\n",
       "111      PSMA3  P25788  NaN\n",
       "112      IPO13  O94829  NaN\n",
       "113       TXN2  Q99757  NaN\n",
       "114      STUB1  Q9UNE7  NaN\n",
       "\n",
       "[115 rows x 3 columns]"
      ]
     },
     "execution_count": 47,
     "metadata": {},
     "output_type": "execute_result"
    }
   ],
   "source": [
    "wnt_net.nodes"
   ]
  },
  {
   "cell_type": "code",
   "execution_count": 48,
   "id": "141b03cf-02e6-4d5d-8e62-1b13691b0364",
   "metadata": {},
   "outputs": [
    {
     "data": {
      "text/html": [
       "<div>\n",
       "<style scoped>\n",
       "    .dataframe tbody tr th:only-of-type {\n",
       "        vertical-align: middle;\n",
       "    }\n",
       "\n",
       "    .dataframe tbody tr th {\n",
       "        vertical-align: top;\n",
       "    }\n",
       "\n",
       "    .dataframe thead th {\n",
       "        text-align: right;\n",
       "    }\n",
       "</style>\n",
       "<table border=\"1\" class=\"dataframe\">\n",
       "  <thead>\n",
       "    <tr style=\"text-align: right;\">\n",
       "      <th></th>\n",
       "      <th>source</th>\n",
       "      <th>target</th>\n",
       "      <th>Type</th>\n",
       "      <th>Effect</th>\n",
       "      <th>References</th>\n",
       "    </tr>\n",
       "  </thead>\n",
       "  <tbody>\n",
       "    <tr>\n",
       "      <th>0</th>\n",
       "      <td>P25054</td>\n",
       "      <td>P35222</td>\n",
       "      <td>None</td>\n",
       "      <td>undefined</td>\n",
       "      <td>None</td>\n",
       "    </tr>\n",
       "    <tr>\n",
       "      <th>1</th>\n",
       "      <td>P35222</td>\n",
       "      <td>P10275</td>\n",
       "      <td>None</td>\n",
       "      <td>undefined</td>\n",
       "      <td>None</td>\n",
       "    </tr>\n",
       "    <tr>\n",
       "      <th>2</th>\n",
       "      <td>P10275</td>\n",
       "      <td>Q9UER7</td>\n",
       "      <td>None</td>\n",
       "      <td>undefined</td>\n",
       "      <td>None</td>\n",
       "    </tr>\n",
       "    <tr>\n",
       "      <th>3</th>\n",
       "      <td>Q9UER7</td>\n",
       "      <td>P62805</td>\n",
       "      <td>None</td>\n",
       "      <td>undefined</td>\n",
       "      <td>None</td>\n",
       "    </tr>\n",
       "    <tr>\n",
       "      <th>4</th>\n",
       "      <td>P62805</td>\n",
       "      <td>P19320</td>\n",
       "      <td>None</td>\n",
       "      <td>undefined</td>\n",
       "      <td>None</td>\n",
       "    </tr>\n",
       "    <tr>\n",
       "      <th>...</th>\n",
       "      <td>...</td>\n",
       "      <td>...</td>\n",
       "      <td>...</td>\n",
       "      <td>...</td>\n",
       "      <td>...</td>\n",
       "    </tr>\n",
       "    <tr>\n",
       "      <th>306</th>\n",
       "      <td>Q14511</td>\n",
       "      <td>Q92569</td>\n",
       "      <td>None</td>\n",
       "      <td>undefined</td>\n",
       "      <td>None</td>\n",
       "    </tr>\n",
       "    <tr>\n",
       "      <th>307</th>\n",
       "      <td>Q99471</td>\n",
       "      <td>Q9NYB9</td>\n",
       "      <td>None</td>\n",
       "      <td>undefined</td>\n",
       "      <td>None</td>\n",
       "    </tr>\n",
       "    <tr>\n",
       "      <th>308</th>\n",
       "      <td>P63279</td>\n",
       "      <td>P35711</td>\n",
       "      <td>None</td>\n",
       "      <td>undefined</td>\n",
       "      <td>None</td>\n",
       "    </tr>\n",
       "    <tr>\n",
       "      <th>309</th>\n",
       "      <td>P63279</td>\n",
       "      <td>P25791</td>\n",
       "      <td>None</td>\n",
       "      <td>undefined</td>\n",
       "      <td>None</td>\n",
       "    </tr>\n",
       "    <tr>\n",
       "      <th>310</th>\n",
       "      <td>P63279</td>\n",
       "      <td>O94829</td>\n",
       "      <td>None</td>\n",
       "      <td>undefined</td>\n",
       "      <td>None</td>\n",
       "    </tr>\n",
       "  </tbody>\n",
       "</table>\n",
       "<p>311 rows × 5 columns</p>\n",
       "</div>"
      ],
      "text/plain": [
       "     source  target  Type     Effect References\n",
       "0    P25054  P35222  None  undefined       None\n",
       "1    P35222  P10275  None  undefined       None\n",
       "2    P10275  Q9UER7  None  undefined       None\n",
       "3    Q9UER7  P62805  None  undefined       None\n",
       "4    P62805  P19320  None  undefined       None\n",
       "..      ...     ...   ...        ...        ...\n",
       "306  Q14511  Q92569  None  undefined       None\n",
       "307  Q99471  Q9NYB9  None  undefined       None\n",
       "308  P63279  P35711  None  undefined       None\n",
       "309  P63279  P25791  None  undefined       None\n",
       "310  P63279  O94829  None  undefined       None\n",
       "\n",
       "[311 rows x 5 columns]"
      ]
     },
     "execution_count": 48,
     "metadata": {},
     "output_type": "execute_result"
    }
   ],
   "source": [
    "wnt_net.edges"
   ]
  },
  {
   "cell_type": "code",
   "execution_count": 49,
   "id": "6c40d715-5c9e-44a7-88a0-c65ec938ffc1",
   "metadata": {},
   "outputs": [
    {
     "data": {
      "image/svg+xml": [
       "<?xml version=\"1.0\" encoding=\"UTF-8\" standalone=\"no\"?>\n",
       "<!DOCTYPE svg PUBLIC \"-//W3C//DTD SVG 1.1//EN\"\n",
       " \"http://www.w3.org/Graphics/SVG/1.1/DTD/svg11.dtd\">\n",
       "<!-- Generated by graphviz version 2.43.0 (0)\n",
       " -->\n",
       "<!-- Title: %3 Pages: 1 -->\n",
       "<svg width=\"4438pt\" height=\"2492pt\"\n",
       " viewBox=\"0.00 0.00 4438.34 2492.00\" xmlns=\"http://www.w3.org/2000/svg\" xmlns:xlink=\"http://www.w3.org/1999/xlink\">\n",
       "<g id=\"graph0\" class=\"graph\" transform=\"scale(1 1) rotate(0) translate(4 2488)\">\n",
       "<title>%3</title>\n",
       "<polygon fill=\"white\" stroke=\"transparent\" points=\"-4,4 -4,-2488 4434.34,-2488 4434.34,4 -4,4\"/>\n",
       "<!-- APC -->\n",
       "<g id=\"node1\" class=\"node\">\n",
       "<title>APC</title>\n",
       "<ellipse fill=\"lightyellow\" stroke=\"black\" cx=\"891\" cy=\"-1818\" rx=\"30.59\" ry=\"18\"/>\n",
       "<text text-anchor=\"middle\" x=\"891\" y=\"-1814.3\" font-family=\"Times,serif\" font-size=\"14.00\">APC</text>\n",
       "</g>\n",
       "<!-- CTNNB1 -->\n",
       "<g id=\"node2\" class=\"node\">\n",
       "<title>CTNNB1</title>\n",
       "<ellipse fill=\"lightyellow\" stroke=\"black\" cx=\"1005\" cy=\"-1746\" rx=\"51.99\" ry=\"18\"/>\n",
       "<text text-anchor=\"middle\" x=\"1005\" y=\"-1742.3\" font-family=\"Times,serif\" font-size=\"14.00\">CTNNB1</text>\n",
       "</g>\n",
       "<!-- APC&#45;&gt;CTNNB1 -->\n",
       "<g id=\"edge1\" class=\"edge\">\n",
       "<title>APC&#45;&gt;CTNNB1</title>\n",
       "<path fill=\"none\" stroke=\"black\" d=\"M911.38,-1804.49C928.15,-1794.19 952.26,-1779.38 971.81,-1767.38\"/>\n",
       "<polygon fill=\"black\" stroke=\"black\" points=\"973.74,-1770.3 980.43,-1762.09 970.08,-1764.34 973.74,-1770.3\"/>\n",
       "</g>\n",
       "<!-- AR -->\n",
       "<g id=\"node3\" class=\"node\">\n",
       "<title>AR</title>\n",
       "<ellipse fill=\"lightgray\" stroke=\"black\" cx=\"781\" cy=\"-1674\" rx=\"27\" ry=\"18\"/>\n",
       "<text text-anchor=\"middle\" x=\"781\" y=\"-1670.3\" font-family=\"Times,serif\" font-size=\"14.00\">AR</text>\n",
       "</g>\n",
       "<!-- CTNNB1&#45;&gt;AR -->\n",
       "<g id=\"edge2\" class=\"edge\">\n",
       "<title>CTNNB1&#45;&gt;AR</title>\n",
       "<path fill=\"none\" stroke=\"black\" d=\"M964.25,-1734.59C926.89,-1724.72 870.22,-1708.92 822,-1692 818.87,-1690.9 815.64,-1689.69 812.43,-1688.44\"/>\n",
       "<polygon fill=\"black\" stroke=\"black\" points=\"813.54,-1685.12 802.96,-1684.63 810.92,-1691.61 813.54,-1685.12\"/>\n",
       "</g>\n",
       "<!-- DAXX -->\n",
       "<g id=\"node4\" class=\"node\">\n",
       "<title>DAXX</title>\n",
       "<ellipse fill=\"lightgray\" stroke=\"black\" cx=\"1455\" cy=\"-1602\" rx=\"37.09\" ry=\"18\"/>\n",
       "<text text-anchor=\"middle\" x=\"1455\" y=\"-1598.3\" font-family=\"Times,serif\" font-size=\"14.00\">DAXX</text>\n",
       "</g>\n",
       "<!-- AR&#45;&gt;DAXX -->\n",
       "<g id=\"edge3\" class=\"edge\">\n",
       "<title>AR&#45;&gt;DAXX</title>\n",
       "<path fill=\"none\" stroke=\"black\" d=\"M807.42,-1670.26C909.44,-1659.66 1278.42,-1621.34 1408.9,-1607.79\"/>\n",
       "<polygon fill=\"black\" stroke=\"black\" points=\"1409.38,-1611.26 1418.96,-1606.74 1408.65,-1604.29 1409.38,-1611.26\"/>\n",
       "</g>\n",
       "<!-- GADD45GIP1 -->\n",
       "<g id=\"node62\" class=\"node\">\n",
       "<title>GADD45GIP1</title>\n",
       "<ellipse fill=\"lightgray\" stroke=\"black\" cx=\"317\" cy=\"-1386\" rx=\"73.39\" ry=\"18\"/>\n",
       "<text text-anchor=\"middle\" x=\"317\" y=\"-1382.3\" font-family=\"Times,serif\" font-size=\"14.00\">GADD45GIP1</text>\n",
       "</g>\n",
       "<!-- AR&#45;&gt;GADD45GIP1 -->\n",
       "<g id=\"edge63\" class=\"edge\">\n",
       "<title>AR&#45;&gt;GADD45GIP1</title>\n",
       "<path fill=\"none\" stroke=\"black\" d=\"M761.65,-1661.08C690.53,-1617.23 442.92,-1464.62 351.37,-1408.19\"/>\n",
       "<polygon fill=\"black\" stroke=\"black\" points=\"353.11,-1405.14 342.76,-1402.88 349.43,-1411.1 353.11,-1405.14\"/>\n",
       "</g>\n",
       "<!-- H4C13 -->\n",
       "<g id=\"node5\" class=\"node\">\n",
       "<title>H4C13</title>\n",
       "<ellipse fill=\"lightgray\" stroke=\"black\" cx=\"2838\" cy=\"-1530\" rx=\"42.79\" ry=\"18\"/>\n",
       "<text text-anchor=\"middle\" x=\"2838\" y=\"-1526.3\" font-family=\"Times,serif\" font-size=\"14.00\">H4C13</text>\n",
       "</g>\n",
       "<!-- DAXX&#45;&gt;H4C13 -->\n",
       "<g id=\"edge4\" class=\"edge\">\n",
       "<title>DAXX&#45;&gt;H4C13</title>\n",
       "<path fill=\"none\" stroke=\"black\" d=\"M1491.72,-1599.02C1682.53,-1589.07 2559.79,-1544.67 2785.15,-1533.54\"/>\n",
       "<polygon fill=\"black\" stroke=\"black\" points=\"2785.57,-1537.02 2795.38,-1533.03 2785.22,-1530.03 2785.57,-1537.02\"/>\n",
       "</g>\n",
       "<!-- H4C13&#45;&gt;DAXX -->\n",
       "<g id=\"edge148\" class=\"edge\">\n",
       "<title>H4C13&#45;&gt;DAXX</title>\n",
       "<path fill=\"none\" stroke=\"black\" d=\"M2795.76,-1533.27C2592.37,-1543.84 1715.82,-1588.21 1502.09,-1598.75\"/>\n",
       "<polygon fill=\"black\" stroke=\"black\" points=\"1501.65,-1595.26 1491.84,-1599.25 1502,-1602.26 1501.65,-1595.26\"/>\n",
       "</g>\n",
       "<!-- VCAM1 -->\n",
       "<g id=\"node6\" class=\"node\">\n",
       "<title>VCAM1</title>\n",
       "<ellipse fill=\"lightgray\" stroke=\"black\" cx=\"2982\" cy=\"-1458\" rx=\"45.49\" ry=\"18\"/>\n",
       "<text text-anchor=\"middle\" x=\"2982\" y=\"-1454.3\" font-family=\"Times,serif\" font-size=\"14.00\">VCAM1</text>\n",
       "</g>\n",
       "<!-- H4C13&#45;&gt;VCAM1 -->\n",
       "<g id=\"edge5\" class=\"edge\">\n",
       "<title>H4C13&#45;&gt;VCAM1</title>\n",
       "<path fill=\"none\" stroke=\"black\" d=\"M2861.59,-1514.83C2883.44,-1503.48 2916.15,-1487.54 2942.03,-1475.59\"/>\n",
       "<polygon fill=\"black\" stroke=\"black\" points=\"2943.58,-1478.73 2951.22,-1471.39 2940.67,-1472.36 2943.58,-1478.73\"/>\n",
       "</g>\n",
       "<!-- VCAM1&#45;&gt;H4C13 -->\n",
       "<g id=\"edge154\" class=\"edge\">\n",
       "<title>VCAM1&#45;&gt;H4C13</title>\n",
       "<path fill=\"none\" stroke=\"black\" d=\"M2957.69,-1473.54C2935.6,-1484.99 2902.85,-1500.94 2877.12,-1512.8\"/>\n",
       "<polygon fill=\"black\" stroke=\"black\" points=\"2875.64,-1509.63 2868,-1516.97 2878.55,-1516 2875.64,-1509.63\"/>\n",
       "</g>\n",
       "<!-- CSNK2B -->\n",
       "<g id=\"node7\" class=\"node\">\n",
       "<title>CSNK2B</title>\n",
       "<ellipse fill=\"lightyellow\" stroke=\"black\" cx=\"3239\" cy=\"-1386\" rx=\"51.19\" ry=\"18\"/>\n",
       "<text text-anchor=\"middle\" x=\"3239\" y=\"-1382.3\" font-family=\"Times,serif\" font-size=\"14.00\">CSNK2B</text>\n",
       "</g>\n",
       "<!-- VCAM1&#45;&gt;CSNK2B -->\n",
       "<g id=\"edge6\" class=\"edge\">\n",
       "<title>VCAM1&#45;&gt;CSNK2B</title>\n",
       "<path fill=\"none\" stroke=\"black\" d=\"M3018.28,-1447.12C3063.16,-1434.89 3139.76,-1414.03 3189.88,-1400.38\"/>\n",
       "<polygon fill=\"black\" stroke=\"black\" points=\"3190.81,-1403.75 3199.54,-1397.75 3188.97,-1397 3190.81,-1403.75\"/>\n",
       "</g>\n",
       "<!-- PPP1CA -->\n",
       "<g id=\"node11\" class=\"node\">\n",
       "<title>PPP1CA</title>\n",
       "<ellipse fill=\"lightgray\" stroke=\"black\" cx=\"3189\" cy=\"-522\" rx=\"48.99\" ry=\"18\"/>\n",
       "<text text-anchor=\"middle\" x=\"3189\" y=\"-518.3\" font-family=\"Times,serif\" font-size=\"14.00\">PPP1CA</text>\n",
       "</g>\n",
       "<!-- VCAM1&#45;&gt;PPP1CA -->\n",
       "<g id=\"edge155\" class=\"edge\">\n",
       "<title>VCAM1&#45;&gt;PPP1CA</title>\n",
       "<path fill=\"none\" stroke=\"black\" d=\"M2987.48,-1439.87C3007.29,-1376.37 3074,-1148.16 3074,-955 3074,-955 3074,-955 3074,-665 3074,-624.55 3068.9,-608.48 3093,-576 3105.56,-559.07 3125.21,-546.88 3143.47,-538.48\"/>\n",
       "<polygon fill=\"black\" stroke=\"black\" points=\"3145.05,-541.61 3152.84,-534.43 3142.27,-535.18 3145.05,-541.61\"/>\n",
       "</g>\n",
       "<!-- TUBB -->\n",
       "<g id=\"node13\" class=\"node\">\n",
       "<title>TUBB</title>\n",
       "<ellipse fill=\"lightgray\" stroke=\"black\" cx=\"2499\" cy=\"-306\" rx=\"38.19\" ry=\"18\"/>\n",
       "<text text-anchor=\"middle\" x=\"2499\" y=\"-302.3\" font-family=\"Times,serif\" font-size=\"14.00\">TUBB</text>\n",
       "</g>\n",
       "<!-- VCAM1&#45;&gt;TUBB -->\n",
       "<g id=\"edge156\" class=\"edge\">\n",
       "<title>VCAM1&#45;&gt;TUBB</title>\n",
       "<path fill=\"none\" stroke=\"black\" d=\"M3026.6,-1453.95C3062.65,-1449.05 3112,-1436.42 3141,-1404 3167.96,-1373.85 3160,-1355.45 3160,-1315 3160,-1315 3160,-1315 3160,-1025 3160,-931.15 3384,-760.85 3384,-667 3384,-667 3384,-667 3384,-449 3384,-363.52 2731.98,-320.16 2547.25,-309.6\"/>\n",
       "<polygon fill=\"black\" stroke=\"black\" points=\"2547.21,-306.09 2537.03,-309.02 2546.81,-313.08 2547.21,-306.09\"/>\n",
       "</g>\n",
       "<!-- DDX3X -->\n",
       "<g id=\"node37\" class=\"node\">\n",
       "<title>DDX3X</title>\n",
       "<ellipse fill=\"lightyellow\" stroke=\"black\" cx=\"2930\" cy=\"-1386\" rx=\"44.39\" ry=\"18\"/>\n",
       "<text text-anchor=\"middle\" x=\"2930\" y=\"-1382.3\" font-family=\"Times,serif\" font-size=\"14.00\">DDX3X</text>\n",
       "</g>\n",
       "<!-- VCAM1&#45;&gt;DDX3X -->\n",
       "<g id=\"edge37\" class=\"edge\">\n",
       "<title>VCAM1&#45;&gt;DDX3X</title>\n",
       "<path fill=\"none\" stroke=\"black\" d=\"M2969.68,-1440.41C2963.33,-1431.87 2955.46,-1421.28 2948.41,-1411.79\"/>\n",
       "<polygon fill=\"black\" stroke=\"black\" points=\"2951.01,-1409.41 2942.23,-1403.47 2945.39,-1413.58 2951.01,-1409.41\"/>\n",
       "</g>\n",
       "<!-- XRCC6 -->\n",
       "<g id=\"node53\" class=\"node\">\n",
       "<title>XRCC6</title>\n",
       "<ellipse fill=\"lightgray\" stroke=\"black\" cx=\"2786\" cy=\"-1386\" rx=\"43.59\" ry=\"18\"/>\n",
       "<text text-anchor=\"middle\" x=\"2786\" y=\"-1382.3\" font-family=\"Times,serif\" font-size=\"14.00\">XRCC6</text>\n",
       "</g>\n",
       "<!-- VCAM1&#45;&gt;XRCC6 -->\n",
       "<g id=\"edge53\" class=\"edge\">\n",
       "<title>VCAM1&#45;&gt;XRCC6</title>\n",
       "<path fill=\"none\" stroke=\"black\" d=\"M2949.19,-1445.28C2915.82,-1433.37 2864,-1414.86 2827.73,-1401.9\"/>\n",
       "<polygon fill=\"black\" stroke=\"black\" points=\"2828.53,-1398.47 2817.94,-1398.41 2826.18,-1405.07 2828.53,-1398.47\"/>\n",
       "</g>\n",
       "<!-- NUDT21 -->\n",
       "<g id=\"node58\" class=\"node\">\n",
       "<title>NUDT21</title>\n",
       "<ellipse fill=\"lightgray\" stroke=\"black\" cx=\"3081\" cy=\"-1386\" rx=\"51.19\" ry=\"18\"/>\n",
       "<text text-anchor=\"middle\" x=\"3081\" y=\"-1382.3\" font-family=\"Times,serif\" font-size=\"14.00\">NUDT21</text>\n",
       "</g>\n",
       "<!-- VCAM1&#45;&gt;NUDT21 -->\n",
       "<g id=\"edge58\" class=\"edge\">\n",
       "<title>VCAM1&#45;&gt;NUDT21</title>\n",
       "<path fill=\"none\" stroke=\"black\" d=\"M3003.48,-1441.81C3017.4,-1431.97 3035.72,-1419.02 3051.05,-1408.18\"/>\n",
       "<polygon fill=\"black\" stroke=\"black\" points=\"3053.07,-1411.03 3059.22,-1402.4 3049.03,-1405.32 3053.07,-1411.03\"/>\n",
       "</g>\n",
       "<!-- ATP5ME -->\n",
       "<g id=\"node70\" class=\"node\">\n",
       "<title>ATP5ME</title>\n",
       "<ellipse fill=\"lightgray\" stroke=\"black\" cx=\"1384\" cy=\"-522\" rx=\"50.89\" ry=\"18\"/>\n",
       "<text text-anchor=\"middle\" x=\"1384\" y=\"-518.3\" font-family=\"Times,serif\" font-size=\"14.00\">ATP5ME</text>\n",
       "</g>\n",
       "<!-- VCAM1&#45;&gt;ATP5ME -->\n",
       "<g id=\"edge72\" class=\"edge\">\n",
       "<title>VCAM1&#45;&gt;ATP5ME</title>\n",
       "<path fill=\"none\" stroke=\"black\" d=\"M2946.5,-1446.73C2923.82,-1438.52 2895.33,-1424.86 2877,-1404 2843.42,-1365.77 2876.27,-1330.64 2839,-1296 2615.34,-1088.14 2454.46,-1241.25 2176,-1116 1856.61,-972.34 1781.19,-913.9 1517,-684 1468.8,-642.05 1423.92,-581.55 1400.65,-547.93\"/>\n",
       "<polygon fill=\"black\" stroke=\"black\" points=\"1403.47,-545.86 1394.94,-539.59 1397.7,-549.82 1403.47,-545.86\"/>\n",
       "</g>\n",
       "<!-- KPNA2 -->\n",
       "<g id=\"node87\" class=\"node\">\n",
       "<title>KPNA2</title>\n",
       "<ellipse fill=\"lightgray\" stroke=\"black\" cx=\"2604\" cy=\"-1386\" rx=\"44.39\" ry=\"18\"/>\n",
       "<text text-anchor=\"middle\" x=\"2604\" y=\"-1382.3\" font-family=\"Times,serif\" font-size=\"14.00\">KPNA2</text>\n",
       "</g>\n",
       "<!-- VCAM1&#45;&gt;KPNA2 -->\n",
       "<g id=\"edge157\" class=\"edge\">\n",
       "<title>VCAM1&#45;&gt;KPNA2</title>\n",
       "<path fill=\"none\" stroke=\"black\" d=\"M2941.55,-1449.51C2871.79,-1436.59 2729.09,-1410.17 2653.52,-1396.17\"/>\n",
       "<polygon fill=\"black\" stroke=\"black\" points=\"2653.78,-1392.66 2643.31,-1394.28 2652.51,-1399.54 2653.78,-1392.66\"/>\n",
       "</g>\n",
       "<!-- ARID1A -->\n",
       "<g id=\"node8\" class=\"node\">\n",
       "<title>ARID1A</title>\n",
       "<ellipse fill=\"lightyellow\" stroke=\"black\" cx=\"784\" cy=\"-1890\" rx=\"46.59\" ry=\"18\"/>\n",
       "<text text-anchor=\"middle\" x=\"784\" y=\"-1886.3\" font-family=\"Times,serif\" font-size=\"14.00\">ARID1A</text>\n",
       "</g>\n",
       "<!-- SMARCA4 -->\n",
       "<g id=\"node9\" class=\"node\">\n",
       "<title>SMARCA4</title>\n",
       "<ellipse fill=\"lightgray\" stroke=\"black\" cx=\"784\" cy=\"-1818\" rx=\"58.49\" ry=\"18\"/>\n",
       "<text text-anchor=\"middle\" x=\"784\" y=\"-1814.3\" font-family=\"Times,serif\" font-size=\"14.00\">SMARCA4</text>\n",
       "</g>\n",
       "<!-- ARID1A&#45;&gt;SMARCA4 -->\n",
       "<g id=\"edge7\" class=\"edge\">\n",
       "<title>ARID1A&#45;&gt;SMARCA4</title>\n",
       "<path fill=\"none\" stroke=\"black\" d=\"M784,-1871.7C784,-1863.98 784,-1854.71 784,-1846.11\"/>\n",
       "<polygon fill=\"black\" stroke=\"black\" points=\"787.5,-1846.1 784,-1836.1 780.5,-1846.1 787.5,-1846.1\"/>\n",
       "</g>\n",
       "<!-- SMARCA4&#45;&gt;CTNNB1 -->\n",
       "<g id=\"edge8\" class=\"edge\">\n",
       "<title>SMARCA4&#45;&gt;CTNNB1</title>\n",
       "<path fill=\"none\" stroke=\"black\" d=\"M823.26,-1804.57C861.07,-1792.59 918.29,-1774.47 958.4,-1761.76\"/>\n",
       "<polygon fill=\"black\" stroke=\"black\" points=\"959.47,-1765.09 967.95,-1758.74 957.36,-1758.42 959.47,-1765.09\"/>\n",
       "</g>\n",
       "<!-- SMARCA4&#45;&gt;AR -->\n",
       "<g id=\"edge144\" class=\"edge\">\n",
       "<title>SMARCA4&#45;&gt;AR</title>\n",
       "<path fill=\"none\" stroke=\"black\" d=\"M783.64,-1799.87C783.13,-1775.67 782.19,-1731.21 781.58,-1702.39\"/>\n",
       "<polygon fill=\"black\" stroke=\"black\" points=\"785.07,-1702.11 781.36,-1692.19 778.08,-1702.26 785.07,-1702.11\"/>\n",
       "</g>\n",
       "<!-- ATM -->\n",
       "<g id=\"node10\" class=\"node\">\n",
       "<title>ATM</title>\n",
       "<ellipse fill=\"lightyellow\" stroke=\"black\" cx=\"3359\" cy=\"-810\" rx=\"31.7\" ry=\"18\"/>\n",
       "<text text-anchor=\"middle\" x=\"3359\" y=\"-806.3\" font-family=\"Times,serif\" font-size=\"14.00\">ATM</text>\n",
       "</g>\n",
       "<!-- ATM&#45;&gt;PPP1CA -->\n",
       "<g id=\"edge9\" class=\"edge\">\n",
       "<title>ATM&#45;&gt;PPP1CA</title>\n",
       "<path fill=\"none\" stroke=\"black\" d=\"M3350.61,-792.5C3330.75,-753.8 3278.72,-654.56 3228,-576 3221.96,-566.64 3214.86,-556.72 3208.39,-548.03\"/>\n",
       "<polygon fill=\"black\" stroke=\"black\" points=\"3211.01,-545.69 3202.19,-539.81 3205.42,-549.9 3211.01,-545.69\"/>\n",
       "</g>\n",
       "<!-- LRRK2 -->\n",
       "<g id=\"node12\" class=\"node\">\n",
       "<title>LRRK2</title>\n",
       "<ellipse fill=\"lightgray\" stroke=\"black\" cx=\"3189\" cy=\"-450\" rx=\"42.79\" ry=\"18\"/>\n",
       "<text text-anchor=\"middle\" x=\"3189\" y=\"-446.3\" font-family=\"Times,serif\" font-size=\"14.00\">LRRK2</text>\n",
       "</g>\n",
       "<!-- PPP1CA&#45;&gt;LRRK2 -->\n",
       "<g id=\"edge10\" class=\"edge\">\n",
       "<title>PPP1CA&#45;&gt;LRRK2</title>\n",
       "<path fill=\"none\" stroke=\"black\" d=\"M3189,-503.7C3189,-495.98 3189,-486.71 3189,-478.11\"/>\n",
       "<polygon fill=\"black\" stroke=\"black\" points=\"3192.5,-478.1 3189,-468.1 3185.5,-478.1 3192.5,-478.1\"/>\n",
       "</g>\n",
       "<!-- LRRK2&#45;&gt;TUBB -->\n",
       "<g id=\"edge11\" class=\"edge\">\n",
       "<title>LRRK2&#45;&gt;TUBB</title>\n",
       "<path fill=\"none\" stroke=\"black\" d=\"M3151.41,-441.26C3033.38,-416.97 2670.47,-342.29 2543.45,-316.15\"/>\n",
       "<polygon fill=\"black\" stroke=\"black\" points=\"2543.81,-312.65 2533.31,-314.06 2542.4,-319.51 2543.81,-312.65\"/>\n",
       "</g>\n",
       "<!-- MAGEA2 -->\n",
       "<g id=\"node14\" class=\"node\">\n",
       "<title>MAGEA2</title>\n",
       "<ellipse fill=\"lightgray\" stroke=\"black\" cx=\"2499\" cy=\"-234\" rx=\"52.79\" ry=\"18\"/>\n",
       "<text text-anchor=\"middle\" x=\"2499\" y=\"-230.3\" font-family=\"Times,serif\" font-size=\"14.00\">MAGEA2</text>\n",
       "</g>\n",
       "<!-- TUBB&#45;&gt;MAGEA2 -->\n",
       "<g id=\"edge12\" class=\"edge\">\n",
       "<title>TUBB&#45;&gt;MAGEA2</title>\n",
       "<path fill=\"none\" stroke=\"black\" d=\"M2493.12,-288.05C2492.3,-280.35 2492.06,-271.03 2492.39,-262.36\"/>\n",
       "<polygon fill=\"black\" stroke=\"black\" points=\"2495.89,-262.49 2493.09,-252.28 2488.91,-262.01 2495.89,-262.49\"/>\n",
       "</g>\n",
       "<!-- MAGEA2&#45;&gt;TUBB -->\n",
       "<g id=\"edge163\" class=\"edge\">\n",
       "<title>MAGEA2&#45;&gt;TUBB</title>\n",
       "<path fill=\"none\" stroke=\"black\" d=\"M2504.91,-252.28C2505.71,-260.03 2505.94,-269.36 2505.59,-278.01\"/>\n",
       "<polygon fill=\"black\" stroke=\"black\" points=\"2502.09,-277.83 2504.88,-288.05 2509.08,-278.33 2502.09,-277.83\"/>\n",
       "</g>\n",
       "<!-- ZNF655 -->\n",
       "<g id=\"node15\" class=\"node\">\n",
       "<title>ZNF655</title>\n",
       "<ellipse fill=\"lightgray\" stroke=\"black\" cx=\"2499\" cy=\"-162\" rx=\"48.99\" ry=\"18\"/>\n",
       "<text text-anchor=\"middle\" x=\"2499\" y=\"-158.3\" font-family=\"Times,serif\" font-size=\"14.00\">ZNF655</text>\n",
       "</g>\n",
       "<!-- MAGEA2&#45;&gt;ZNF655 -->\n",
       "<g id=\"edge13\" class=\"edge\">\n",
       "<title>MAGEA2&#45;&gt;ZNF655</title>\n",
       "<path fill=\"none\" stroke=\"black\" d=\"M2493.12,-216.05C2492.3,-208.35 2492.06,-199.03 2492.39,-190.36\"/>\n",
       "<polygon fill=\"black\" stroke=\"black\" points=\"2495.89,-190.49 2493.09,-180.28 2488.91,-190.01 2495.89,-190.49\"/>\n",
       "</g>\n",
       "<!-- ZNF655&#45;&gt;MAGEA2 -->\n",
       "<g id=\"edge165\" class=\"edge\">\n",
       "<title>ZNF655&#45;&gt;MAGEA2</title>\n",
       "<path fill=\"none\" stroke=\"black\" d=\"M2504.91,-180.28C2505.71,-188.03 2505.94,-197.36 2505.59,-206.01\"/>\n",
       "<polygon fill=\"black\" stroke=\"black\" points=\"2502.09,-205.83 2504.88,-216.05 2509.08,-206.33 2502.09,-205.83\"/>\n",
       "</g>\n",
       "<!-- CCHCR1 -->\n",
       "<g id=\"node16\" class=\"node\">\n",
       "<title>CCHCR1</title>\n",
       "<ellipse fill=\"lightgray\" stroke=\"black\" cx=\"1359\" cy=\"-1242\" rx=\"51.99\" ry=\"18\"/>\n",
       "<text text-anchor=\"middle\" x=\"1359\" y=\"-1238.3\" font-family=\"Times,serif\" font-size=\"14.00\">CCHCR1</text>\n",
       "</g>\n",
       "<!-- ZNF655&#45;&gt;CCHCR1 -->\n",
       "<g id=\"edge14\" class=\"edge\">\n",
       "<title>ZNF655&#45;&gt;CCHCR1</title>\n",
       "<path fill=\"none\" stroke=\"black\" d=\"M2450.79,-164.87C2318.17,-170.36 1954.69,-187.84 1909,-216 1837.29,-260.19 1809,-292.77 1809,-377 1809,-451 1809,-451 1809,-451 1809,-681.76 1518,-650.24 1518,-881 1518,-955 1518,-955 1518,-955 1518,-1064.55 1427.77,-1171.35 1383.26,-1217.37\"/>\n",
       "<polygon fill=\"black\" stroke=\"black\" points=\"1380.53,-1215.15 1376.02,-1224.74 1385.52,-1220.06 1380.53,-1215.15\"/>\n",
       "</g>\n",
       "<!-- CTAG1B -->\n",
       "<g id=\"node17\" class=\"node\">\n",
       "<title>CTAG1B</title>\n",
       "<ellipse fill=\"lightgray\" stroke=\"black\" cx=\"1359\" cy=\"-1098\" rx=\"49.29\" ry=\"18\"/>\n",
       "<text text-anchor=\"middle\" x=\"1359\" y=\"-1094.3\" font-family=\"Times,serif\" font-size=\"14.00\">CTAG1B</text>\n",
       "</g>\n",
       "<!-- CCHCR1&#45;&gt;CTAG1B -->\n",
       "<g id=\"edge15\" class=\"edge\">\n",
       "<title>CCHCR1&#45;&gt;CTAG1B</title>\n",
       "<path fill=\"none\" stroke=\"black\" d=\"M1354.42,-1223.87C1351.86,-1199.67 1351.57,-1155.21 1353.54,-1126.39\"/>\n",
       "<polygon fill=\"black\" stroke=\"black\" points=\"1357.05,-1126.45 1354.41,-1116.19 1350.07,-1125.86 1357.05,-1126.45\"/>\n",
       "</g>\n",
       "<!-- CTAG1B&#45;&gt;CCHCR1 -->\n",
       "<g id=\"edge170\" class=\"edge\">\n",
       "<title>CTAG1B&#45;&gt;CCHCR1</title>\n",
       "<path fill=\"none\" stroke=\"black\" d=\"M1363.59,-1116.19C1366.15,-1140.42 1366.43,-1184.89 1364.45,-1213.68\"/>\n",
       "<polygon fill=\"black\" stroke=\"black\" points=\"1360.95,-1213.61 1363.58,-1223.87 1367.92,-1214.21 1360.95,-1213.61\"/>\n",
       "</g>\n",
       "<!-- BAG6 -->\n",
       "<g id=\"node18\" class=\"node\">\n",
       "<title>BAG6</title>\n",
       "<ellipse fill=\"lightgray\" stroke=\"black\" cx=\"2331\" cy=\"-1026\" rx=\"37.09\" ry=\"18\"/>\n",
       "<text text-anchor=\"middle\" x=\"2331\" y=\"-1022.3\" font-family=\"Times,serif\" font-size=\"14.00\">BAG6</text>\n",
       "</g>\n",
       "<!-- CTAG1B&#45;&gt;BAG6 -->\n",
       "<g id=\"edge16\" class=\"edge\">\n",
       "<title>CTAG1B&#45;&gt;BAG6</title>\n",
       "<path fill=\"none\" stroke=\"black\" d=\"M1407,-1093.31C1572.92,-1081.02 2120.52,-1041.59 2284.35,-1030.14\"/>\n",
       "<polygon fill=\"black\" stroke=\"black\" points=\"2284.85,-1033.62 2294.58,-1029.43 2284.36,-1026.63 2284.85,-1033.62\"/>\n",
       "</g>\n",
       "<!-- BAG6&#45;&gt;CTAG1B -->\n",
       "<g id=\"edge177\" class=\"edge\">\n",
       "<title>BAG6&#45;&gt;CTAG1B</title>\n",
       "<path fill=\"none\" stroke=\"black\" d=\"M2294.61,-1029.83C2147.77,-1040.76 1598.76,-1080.31 1417.45,-1093.03\"/>\n",
       "<polygon fill=\"black\" stroke=\"black\" points=\"1417.05,-1089.55 1407.32,-1093.74 1417.54,-1096.53 1417.05,-1089.55\"/>\n",
       "</g>\n",
       "<!-- SMN2 -->\n",
       "<g id=\"node19\" class=\"node\">\n",
       "<title>SMN2</title>\n",
       "<ellipse fill=\"lightgray\" stroke=\"black\" cx=\"2968\" cy=\"-954\" rx=\"40.09\" ry=\"18\"/>\n",
       "<text text-anchor=\"middle\" x=\"2968\" y=\"-950.3\" font-family=\"Times,serif\" font-size=\"14.00\">SMN2</text>\n",
       "</g>\n",
       "<!-- BAG6&#45;&gt;SMN2 -->\n",
       "<g id=\"edge17\" class=\"edge\">\n",
       "<title>BAG6&#45;&gt;SMN2</title>\n",
       "<path fill=\"none\" stroke=\"black\" d=\"M2362.11,-1016.11C2375.57,-1013.2 2391.43,-1010.17 2406,-1008 2593.54,-980.11 2819.15,-963.8 2917.85,-957.73\"/>\n",
       "<polygon fill=\"black\" stroke=\"black\" points=\"2918.35,-961.21 2928.12,-957.11 2917.93,-954.22 2918.35,-961.21\"/>\n",
       "</g>\n",
       "<!-- SMN2&#45;&gt;BAG6 -->\n",
       "<g id=\"edge181\" class=\"edge\">\n",
       "<title>SMN2&#45;&gt;BAG6</title>\n",
       "<path fill=\"none\" stroke=\"black\" d=\"M2928.27,-957.69C2838.1,-963.73 2611.93,-980.05 2424,-1008 2408.06,-1010.37 2390.58,-1013.78 2375.03,-1016.92\"/>\n",
       "<polygon fill=\"black\" stroke=\"black\" points=\"2374.23,-1013.51 2365.12,-1018.93 2375.62,-1020.37 2374.23,-1013.51\"/>\n",
       "</g>\n",
       "<!-- KRTAP6&#45;2 -->\n",
       "<g id=\"node20\" class=\"node\">\n",
       "<title>KRTAP6&#45;2</title>\n",
       "<ellipse fill=\"lightgray\" stroke=\"black\" cx=\"2608\" cy=\"-810\" rx=\"57.39\" ry=\"18\"/>\n",
       "<text text-anchor=\"middle\" x=\"2608\" y=\"-806.3\" font-family=\"Times,serif\" font-size=\"14.00\">KRTAP6&#45;2</text>\n",
       "</g>\n",
       "<!-- SMN2&#45;&gt;KRTAP6&#45;2 -->\n",
       "<g id=\"edge18\" class=\"edge\">\n",
       "<title>SMN2&#45;&gt;KRTAP6&#45;2</title>\n",
       "<path fill=\"none\" stroke=\"black\" d=\"M2956.58,-936.55C2946.41,-916.07 2930.83,-881.61 2905,-864 2867.77,-838.62 2748.72,-823.79 2673.06,-816.55\"/>\n",
       "<polygon fill=\"black\" stroke=\"black\" points=\"2672.97,-813.03 2662.69,-815.58 2672.32,-819.99 2672.97,-813.03\"/>\n",
       "</g>\n",
       "<!-- KRTAP6&#45;1 -->\n",
       "<g id=\"node76\" class=\"node\">\n",
       "<title>KRTAP6&#45;1</title>\n",
       "<ellipse fill=\"lightgray\" stroke=\"black\" cx=\"3657\" cy=\"-882\" rx=\"57.39\" ry=\"18\"/>\n",
       "<text text-anchor=\"middle\" x=\"3657\" y=\"-878.3\" font-family=\"Times,serif\" font-size=\"14.00\">KRTAP6&#45;1</text>\n",
       "</g>\n",
       "<!-- SMN2&#45;&gt;KRTAP6&#45;1 -->\n",
       "<g id=\"edge185\" class=\"edge\">\n",
       "<title>SMN2&#45;&gt;KRTAP6&#45;1</title>\n",
       "<path fill=\"none\" stroke=\"black\" d=\"M3006.61,-948.73C3119.99,-936.78 3452.22,-903.01 3592.93,-889.1\"/>\n",
       "<polygon fill=\"black\" stroke=\"black\" points=\"3593.52,-892.56 3603.13,-888.09 3592.84,-885.59 3593.52,-892.56\"/>\n",
       "</g>\n",
       "<!-- KRTAP6&#45;2&#45;&gt;SMN2 -->\n",
       "<g id=\"edge184\" class=\"edge\">\n",
       "<title>KRTAP6&#45;2&#45;&gt;SMN2</title>\n",
       "<path fill=\"none\" stroke=\"black\" d=\"M2663.58,-814.64C2742.63,-820.98 2882.13,-836.13 2923,-864 2944.84,-878.89 2959.36,-905.83 2966.1,-926.18\"/>\n",
       "<polygon fill=\"black\" stroke=\"black\" points=\"2962.75,-927.18 2968.86,-935.84 2969.48,-925.26 2962.75,-927.18\"/>\n",
       "</g>\n",
       "<!-- PRR3 -->\n",
       "<g id=\"node21\" class=\"node\">\n",
       "<title>PRR3</title>\n",
       "<ellipse fill=\"lightgray\" stroke=\"black\" cx=\"2608\" cy=\"-738\" rx=\"36.29\" ry=\"18\"/>\n",
       "<text text-anchor=\"middle\" x=\"2608\" y=\"-734.3\" font-family=\"Times,serif\" font-size=\"14.00\">PRR3</text>\n",
       "</g>\n",
       "<!-- KRTAP6&#45;2&#45;&gt;PRR3 -->\n",
       "<g id=\"edge19\" class=\"edge\">\n",
       "<title>KRTAP6&#45;2&#45;&gt;PRR3</title>\n",
       "<path fill=\"none\" stroke=\"black\" d=\"M2608,-791.7C2608,-783.98 2608,-774.71 2608,-766.11\"/>\n",
       "<polygon fill=\"black\" stroke=\"black\" points=\"2611.5,-766.1 2608,-756.1 2604.5,-766.1 2611.5,-766.1\"/>\n",
       "</g>\n",
       "<!-- BCL2L2 -->\n",
       "<g id=\"node22\" class=\"node\">\n",
       "<title>BCL2L2</title>\n",
       "<ellipse fill=\"lightgray\" stroke=\"black\" cx=\"2170\" cy=\"-666\" rx=\"48.19\" ry=\"18\"/>\n",
       "<text text-anchor=\"middle\" x=\"2170\" y=\"-662.3\" font-family=\"Times,serif\" font-size=\"14.00\">BCL2L2</text>\n",
       "</g>\n",
       "<!-- PRR3&#45;&gt;BCL2L2 -->\n",
       "<g id=\"edge20\" class=\"edge\">\n",
       "<title>PRR3&#45;&gt;BCL2L2</title>\n",
       "<path fill=\"none\" stroke=\"black\" d=\"M2572.49,-733.52C2505.48,-726.62 2355.95,-709.62 2232,-684 2226.94,-682.95 2221.68,-681.73 2216.46,-680.43\"/>\n",
       "<polygon fill=\"black\" stroke=\"black\" points=\"2217.09,-676.97 2206.53,-677.85 2215.33,-683.75 2217.09,-676.97\"/>\n",
       "</g>\n",
       "<!-- RBMY1J -->\n",
       "<g id=\"node52\" class=\"node\">\n",
       "<title>RBMY1J</title>\n",
       "<ellipse fill=\"lightgray\" stroke=\"black\" cx=\"1274\" cy=\"-90\" rx=\"48.99\" ry=\"18\"/>\n",
       "<text text-anchor=\"middle\" x=\"1274\" y=\"-86.3\" font-family=\"Times,serif\" font-size=\"14.00\">RBMY1J</text>\n",
       "</g>\n",
       "<!-- PRR3&#45;&gt;RBMY1J -->\n",
       "<g id=\"edge195\" class=\"edge\">\n",
       "<title>PRR3&#45;&gt;RBMY1J</title>\n",
       "<path fill=\"none\" stroke=\"black\" d=\"M2643.7,-733.83C2859.19,-715.11 3980.38,-617.31 4112,-540 4154.46,-515.06 4178,-500.25 4178,-451 4178,-451 4178,-451 4178,-233 4178,-84.95 1745.79,-88.9 1333.13,-90.68\"/>\n",
       "<polygon fill=\"black\" stroke=\"black\" points=\"1332.9,-87.18 1322.91,-90.73 1332.93,-94.18 1332.9,-87.18\"/>\n",
       "</g>\n",
       "<!-- TP53BP2 -->\n",
       "<g id=\"node23\" class=\"node\">\n",
       "<title>TP53BP2</title>\n",
       "<ellipse fill=\"lightgray\" stroke=\"black\" cx=\"1537\" cy=\"-594\" rx=\"53.89\" ry=\"18\"/>\n",
       "<text text-anchor=\"middle\" x=\"1537\" y=\"-590.3\" font-family=\"Times,serif\" font-size=\"14.00\">TP53BP2</text>\n",
       "</g>\n",
       "<!-- BCL2L2&#45;&gt;TP53BP2 -->\n",
       "<g id=\"edge21\" class=\"edge\">\n",
       "<title>BCL2L2&#45;&gt;TP53BP2</title>\n",
       "<path fill=\"none\" stroke=\"black\" d=\"M2130.78,-655.45C2120.42,-652.67 2109.32,-649.88 2099,-648 1919.84,-615.38 1705.21,-602.32 1600.53,-597.52\"/>\n",
       "<polygon fill=\"black\" stroke=\"black\" points=\"1600.59,-594.02 1590.44,-597.07 1600.28,-601.01 1600.59,-594.02\"/>\n",
       "</g>\n",
       "<!-- CIDEB -->\n",
       "<g id=\"node33\" class=\"node\">\n",
       "<title>CIDEB</title>\n",
       "<ellipse fill=\"lightgray\" stroke=\"black\" cx=\"3144\" cy=\"-594\" rx=\"42.49\" ry=\"18\"/>\n",
       "<text text-anchor=\"middle\" x=\"3144\" y=\"-590.3\" font-family=\"Times,serif\" font-size=\"14.00\">CIDEB</text>\n",
       "</g>\n",
       "<!-- BCL2L2&#45;&gt;CIDEB -->\n",
       "<g id=\"edge32\" class=\"edge\">\n",
       "<title>BCL2L2&#45;&gt;CIDEB</title>\n",
       "<path fill=\"none\" stroke=\"black\" d=\"M2216.98,-661.62C2380.28,-649.89 2922.56,-610.91 3092.56,-598.7\"/>\n",
       "<polygon fill=\"black\" stroke=\"black\" points=\"3093.02,-602.17 3102.74,-597.97 3092.52,-595.19 3093.02,-602.17\"/>\n",
       "</g>\n",
       "<!-- LRRIQ1 -->\n",
       "<g id=\"node78\" class=\"node\">\n",
       "<title>LRRIQ1</title>\n",
       "<ellipse fill=\"lightgray\" stroke=\"black\" cx=\"2170\" cy=\"-594\" rx=\"46.59\" ry=\"18\"/>\n",
       "<text text-anchor=\"middle\" x=\"2170\" y=\"-590.3\" font-family=\"Times,serif\" font-size=\"14.00\">LRRIQ1</text>\n",
       "</g>\n",
       "<!-- BCL2L2&#45;&gt;LRRIQ1 -->\n",
       "<g id=\"edge80\" class=\"edge\">\n",
       "<title>BCL2L2&#45;&gt;LRRIQ1</title>\n",
       "<path fill=\"none\" stroke=\"black\" d=\"M2170,-647.7C2170,-639.98 2170,-630.71 2170,-622.11\"/>\n",
       "<polygon fill=\"black\" stroke=\"black\" points=\"2173.5,-622.1 2170,-612.1 2166.5,-622.1 2173.5,-622.1\"/>\n",
       "</g>\n",
       "<!-- TP53BP2&#45;&gt;PPP1CA -->\n",
       "<g id=\"edge160\" class=\"edge\">\n",
       "<title>TP53BP2&#45;&gt;PPP1CA</title>\n",
       "<path fill=\"none\" stroke=\"black\" d=\"M1590.09,-590.75C1836.99,-580.29 2871.72,-536.44 3130.26,-525.49\"/>\n",
       "<polygon fill=\"black\" stroke=\"black\" points=\"3130.72,-528.97 3140.56,-525.05 3130.42,-521.98 3130.72,-528.97\"/>\n",
       "</g>\n",
       "<!-- TP53BP2&#45;&gt;BCL2L2 -->\n",
       "<g id=\"edge198\" class=\"edge\">\n",
       "<title>TP53BP2&#45;&gt;BCL2L2</title>\n",
       "<path fill=\"none\" stroke=\"black\" d=\"M1590.51,-596.64C1693.49,-600.61 1925.51,-613.14 2117,-648 2120.62,-648.66 2124.33,-649.43 2128.03,-650.27\"/>\n",
       "<polygon fill=\"black\" stroke=\"black\" points=\"2127.2,-653.67 2137.75,-652.64 2128.87,-646.87 2127.2,-653.67\"/>\n",
       "</g>\n",
       "<!-- ADAMTS12 -->\n",
       "<g id=\"node24\" class=\"node\">\n",
       "<title>ADAMTS12</title>\n",
       "<ellipse fill=\"lightgray\" stroke=\"black\" cx=\"1641\" cy=\"-450\" rx=\"63.89\" ry=\"18\"/>\n",
       "<text text-anchor=\"middle\" x=\"1641\" y=\"-446.3\" font-family=\"Times,serif\" font-size=\"14.00\">ADAMTS12</text>\n",
       "</g>\n",
       "<!-- TP53BP2&#45;&gt;ADAMTS12 -->\n",
       "<g id=\"edge22\" class=\"edge\">\n",
       "<title>TP53BP2&#45;&gt;ADAMTS12</title>\n",
       "<path fill=\"none\" stroke=\"black\" d=\"M1556.24,-577.07C1567.5,-567.14 1581.52,-553.69 1592,-540 1607,-520.41 1620.24,-495.66 1629.16,-477.24\"/>\n",
       "<polygon fill=\"black\" stroke=\"black\" points=\"1632.42,-478.52 1633.54,-467.98 1626.1,-475.53 1632.42,-478.52\"/>\n",
       "</g>\n",
       "<!-- CCDC57 -->\n",
       "<g id=\"node32\" class=\"node\">\n",
       "<title>CCDC57</title>\n",
       "<ellipse fill=\"lightgray\" stroke=\"black\" cx=\"1731\" cy=\"-522\" rx=\"50.09\" ry=\"18\"/>\n",
       "<text text-anchor=\"middle\" x=\"1731\" y=\"-518.3\" font-family=\"Times,serif\" font-size=\"14.00\">CCDC57</text>\n",
       "</g>\n",
       "<!-- TP53BP2&#45;&gt;CCDC57 -->\n",
       "<g id=\"edge199\" class=\"edge\">\n",
       "<title>TP53BP2&#45;&gt;CCDC57</title>\n",
       "<path fill=\"none\" stroke=\"black\" d=\"M1572.13,-580.32C1604.47,-568.66 1652.55,-551.31 1687.34,-538.75\"/>\n",
       "<polygon fill=\"black\" stroke=\"black\" points=\"1688.56,-542.03 1696.78,-535.35 1686.19,-535.45 1688.56,-542.03\"/>\n",
       "</g>\n",
       "<!-- BAIAP2 -->\n",
       "<g id=\"node64\" class=\"node\">\n",
       "<title>BAIAP2</title>\n",
       "<ellipse fill=\"lightgray\" stroke=\"black\" cx=\"1537\" cy=\"-522\" rx=\"46.29\" ry=\"18\"/>\n",
       "<text text-anchor=\"middle\" x=\"1537\" y=\"-518.3\" font-family=\"Times,serif\" font-size=\"14.00\">BAIAP2</text>\n",
       "</g>\n",
       "<!-- TP53BP2&#45;&gt;BAIAP2 -->\n",
       "<g id=\"edge66\" class=\"edge\">\n",
       "<title>TP53BP2&#45;&gt;BAIAP2</title>\n",
       "<path fill=\"none\" stroke=\"black\" d=\"M1537,-575.7C1537,-567.98 1537,-558.71 1537,-550.11\"/>\n",
       "<polygon fill=\"black\" stroke=\"black\" points=\"1540.5,-550.1 1537,-540.1 1533.5,-550.1 1540.5,-550.1\"/>\n",
       "</g>\n",
       "<!-- NUTM1 -->\n",
       "<g id=\"node88\" class=\"node\">\n",
       "<title>NUTM1</title>\n",
       "<ellipse fill=\"lightgray\" stroke=\"black\" cx=\"1217\" cy=\"-1314\" rx=\"47.39\" ry=\"18\"/>\n",
       "<text text-anchor=\"middle\" x=\"1217\" y=\"-1310.3\" font-family=\"Times,serif\" font-size=\"14.00\">NUTM1</text>\n",
       "</g>\n",
       "<!-- TP53BP2&#45;&gt;NUTM1 -->\n",
       "<g id=\"edge200\" class=\"edge\">\n",
       "<title>TP53BP2&#45;&gt;NUTM1</title>\n",
       "<path fill=\"none\" stroke=\"black\" d=\"M1530.6,-611.94C1507.38,-672.61 1423.86,-883.93 1328,-1044 1317.72,-1061.16 1310.5,-1062.4 1301,-1080 1263.01,-1150.42 1235.87,-1241.57 1223.87,-1286.11\"/>\n",
       "<polygon fill=\"black\" stroke=\"black\" points=\"1220.46,-1285.33 1221.28,-1295.89 1227.23,-1287.12 1220.46,-1285.33\"/>\n",
       "</g>\n",
       "<!-- CALM3 -->\n",
       "<g id=\"node25\" class=\"node\">\n",
       "<title>CALM3</title>\n",
       "<ellipse fill=\"lightgray\" stroke=\"black\" cx=\"1124\" cy=\"-378\" rx=\"44.69\" ry=\"18\"/>\n",
       "<text text-anchor=\"middle\" x=\"1124\" y=\"-374.3\" font-family=\"Times,serif\" font-size=\"14.00\">CALM3</text>\n",
       "</g>\n",
       "<!-- ADAMTS12&#45;&gt;CALM3 -->\n",
       "<g id=\"edge23\" class=\"edge\">\n",
       "<title>ADAMTS12&#45;&gt;CALM3</title>\n",
       "<path fill=\"none\" stroke=\"black\" d=\"M1594.82,-437.44C1585.95,-435.45 1576.72,-433.53 1568,-432 1427.99,-407.42 1261.11,-390.89 1177.43,-383.46\"/>\n",
       "<polygon fill=\"black\" stroke=\"black\" points=\"1177.67,-379.97 1167.4,-382.58 1177.06,-386.95 1177.67,-379.97\"/>\n",
       "</g>\n",
       "<!-- NOS3 -->\n",
       "<g id=\"node26\" class=\"node\">\n",
       "<title>NOS3</title>\n",
       "<ellipse fill=\"lightgray\" stroke=\"black\" cx=\"1068\" cy=\"-306\" rx=\"38.19\" ry=\"18\"/>\n",
       "<text text-anchor=\"middle\" x=\"1068\" y=\"-302.3\" font-family=\"Times,serif\" font-size=\"14.00\">NOS3</text>\n",
       "</g>\n",
       "<!-- CALM3&#45;&gt;NOS3 -->\n",
       "<g id=\"edge24\" class=\"edge\">\n",
       "<title>CALM3&#45;&gt;NOS3</title>\n",
       "<path fill=\"none\" stroke=\"black\" d=\"M1111.01,-360.76C1103.94,-351.93 1095.06,-340.83 1087.21,-331.01\"/>\n",
       "<polygon fill=\"black\" stroke=\"black\" points=\"1089.9,-328.77 1080.92,-323.15 1084.43,-333.14 1089.9,-328.77\"/>\n",
       "</g>\n",
       "<!-- NOS3&#45;&gt;CTNNB1 -->\n",
       "<g id=\"edge25\" class=\"edge\">\n",
       "<title>NOS3&#45;&gt;CTNNB1</title>\n",
       "<path fill=\"none\" stroke=\"black\" d=\"M1057.12,-323.67C1011.25,-395.61 836,-687.86 836,-953 836,-1027 836,-1027 836,-1027 836,-1122.21 826,-1145.79 826,-1241 826,-1315 826,-1315 826,-1315 826,-1410.21 836,-1433.79 836,-1529 836,-1603 836,-1603 836,-1603 836,-1667.62 909.33,-1708.73 959.38,-1729.25\"/>\n",
       "<polygon fill=\"black\" stroke=\"black\" points=\"958.16,-1732.53 968.75,-1732.97 960.74,-1726.03 958.16,-1732.53\"/>\n",
       "</g>\n",
       "<!-- PIK3CA -->\n",
       "<g id=\"node27\" class=\"node\">\n",
       "<title>PIK3CA</title>\n",
       "<ellipse fill=\"lightyellow\" stroke=\"black\" cx=\"986\" cy=\"-1890\" rx=\"46.29\" ry=\"18\"/>\n",
       "<text text-anchor=\"middle\" x=\"986\" y=\"-1886.3\" font-family=\"Times,serif\" font-size=\"14.00\">PIK3CA</text>\n",
       "</g>\n",
       "<!-- PIK3R1 -->\n",
       "<g id=\"node28\" class=\"node\">\n",
       "<title>PIK3R1</title>\n",
       "<ellipse fill=\"lightgray\" stroke=\"black\" cx=\"986\" cy=\"-1818\" rx=\"46.29\" ry=\"18\"/>\n",
       "<text text-anchor=\"middle\" x=\"986\" y=\"-1814.3\" font-family=\"Times,serif\" font-size=\"14.00\">PIK3R1</text>\n",
       "</g>\n",
       "<!-- PIK3CA&#45;&gt;PIK3R1 -->\n",
       "<g id=\"edge26\" class=\"edge\">\n",
       "<title>PIK3CA&#45;&gt;PIK3R1</title>\n",
       "<path fill=\"none\" stroke=\"black\" d=\"M986,-1871.7C986,-1863.98 986,-1854.71 986,-1846.11\"/>\n",
       "<polygon fill=\"black\" stroke=\"black\" points=\"989.5,-1846.1 986,-1836.1 982.5,-1846.1 989.5,-1846.1\"/>\n",
       "</g>\n",
       "<!-- PIK3R1&#45;&gt;CTNNB1 -->\n",
       "<g id=\"edge27\" class=\"edge\">\n",
       "<title>PIK3R1&#45;&gt;CTNNB1</title>\n",
       "<path fill=\"none\" stroke=\"black\" d=\"M990.6,-1800.05C992.71,-1792.26 995.28,-1782.82 997.65,-1774.08\"/>\n",
       "<polygon fill=\"black\" stroke=\"black\" points=\"1001.07,-1774.84 1000.31,-1764.28 994.31,-1773.01 1001.07,-1774.84\"/>\n",
       "</g>\n",
       "<!-- ADGRB3 -->\n",
       "<g id=\"node29\" class=\"node\">\n",
       "<title>ADGRB3</title>\n",
       "<ellipse fill=\"lightgray\" stroke=\"black\" cx=\"1953\" cy=\"-1530\" rx=\"51.19\" ry=\"18\"/>\n",
       "<text text-anchor=\"middle\" x=\"1953\" y=\"-1526.3\" font-family=\"Times,serif\" font-size=\"14.00\">ADGRB3</text>\n",
       "</g>\n",
       "<!-- ENSG00000152133 -->\n",
       "<g id=\"node30\" class=\"node\">\n",
       "<title>ENSG00000152133</title>\n",
       "<ellipse fill=\"lightgray\" stroke=\"black\" cx=\"1825\" cy=\"-1458\" rx=\"103.18\" ry=\"18\"/>\n",
       "<text text-anchor=\"middle\" x=\"1825\" y=\"-1454.3\" font-family=\"Times,serif\" font-size=\"14.00\">ENSG00000152133</text>\n",
       "</g>\n",
       "<!-- ADGRB3&#45;&gt;ENSG00000152133 -->\n",
       "<g id=\"edge28\" class=\"edge\">\n",
       "<title>ADGRB3&#45;&gt;ENSG00000152133</title>\n",
       "<path fill=\"none\" stroke=\"black\" d=\"M1926.48,-1514.5C1908.44,-1504.63 1884.28,-1491.42 1864.05,-1480.36\"/>\n",
       "<polygon fill=\"black\" stroke=\"black\" points=\"1865.53,-1477.18 1855.08,-1475.45 1862.17,-1483.32 1865.53,-1477.18\"/>\n",
       "</g>\n",
       "<!-- ZNF474 -->\n",
       "<g id=\"node31\" class=\"node\">\n",
       "<title>ZNF474</title>\n",
       "<ellipse fill=\"lightgray\" stroke=\"black\" cx=\"1771\" cy=\"-1386\" rx=\"48.99\" ry=\"18\"/>\n",
       "<text text-anchor=\"middle\" x=\"1771\" y=\"-1382.3\" font-family=\"Times,serif\" font-size=\"14.00\">ZNF474</text>\n",
       "</g>\n",
       "<!-- ENSG00000152133&#45;&gt;ZNF474 -->\n",
       "<g id=\"edge29\" class=\"edge\">\n",
       "<title>ENSG00000152133&#45;&gt;ZNF474</title>\n",
       "<path fill=\"none\" stroke=\"black\" d=\"M1811.93,-1440.05C1805.43,-1431.63 1797.44,-1421.28 1790.26,-1411.97\"/>\n",
       "<polygon fill=\"black\" stroke=\"black\" points=\"1792.83,-1409.57 1783.95,-1403.79 1787.29,-1413.84 1792.83,-1409.57\"/>\n",
       "</g>\n",
       "<!-- ZNF474&#45;&gt;CCDC57 -->\n",
       "<g id=\"edge30\" class=\"edge\">\n",
       "<title>ZNF474&#45;&gt;CCDC57</title>\n",
       "<path fill=\"none\" stroke=\"black\" d=\"M1763.31,-1367.91C1752.21,-1341.62 1733,-1289.45 1733,-1243 1733,-1243 1733,-1243 1733,-881 1733,-757.54 1731.8,-610.13 1731.26,-550.27\"/>\n",
       "<polygon fill=\"black\" stroke=\"black\" points=\"1734.75,-550.11 1731.16,-540.14 1727.76,-550.17 1734.75,-550.11\"/>\n",
       "</g>\n",
       "<!-- CCDC57&#45;&gt;ZNF655 -->\n",
       "<g id=\"edge166\" class=\"edge\">\n",
       "<title>CCDC57&#45;&gt;ZNF655</title>\n",
       "<path fill=\"none\" stroke=\"black\" d=\"M1739.09,-503.95C1750.78,-477.72 1771,-425.61 1771,-379 1771,-379 1771,-379 1771,-305 1771,-251.52 1804.01,-239.6 1852,-216 1954.49,-165.6 2300.24,-161.78 2439.82,-162.38\"/>\n",
       "<polygon fill=\"black\" stroke=\"black\" points=\"2439.89,-165.88 2449.91,-162.43 2439.93,-158.88 2439.89,-165.88\"/>\n",
       "</g>\n",
       "<!-- CCDC57&#45;&gt;PRR3 -->\n",
       "<g id=\"edge31\" class=\"edge\">\n",
       "<title>CCDC57&#45;&gt;PRR3</title>\n",
       "<path fill=\"none\" stroke=\"black\" d=\"M1771.16,-532.8C1916.9,-568.36 2417.1,-690.42 2565.91,-726.73\"/>\n",
       "<polygon fill=\"black\" stroke=\"black\" points=\"2565.46,-730.22 2576.01,-729.19 2567.12,-723.42 2565.46,-730.22\"/>\n",
       "</g>\n",
       "<!-- KANK2 -->\n",
       "<g id=\"node89\" class=\"node\">\n",
       "<title>KANK2</title>\n",
       "<ellipse fill=\"lightgray\" stroke=\"black\" cx=\"646\" cy=\"-306\" rx=\"44.39\" ry=\"18\"/>\n",
       "<text text-anchor=\"middle\" x=\"646\" y=\"-302.3\" font-family=\"Times,serif\" font-size=\"14.00\">KANK2</text>\n",
       "</g>\n",
       "<!-- CCDC57&#45;&gt;KANK2 -->\n",
       "<g id=\"edge206\" class=\"edge\">\n",
       "<title>CCDC57&#45;&gt;KANK2</title>\n",
       "<path fill=\"none\" stroke=\"black\" d=\"M1732.78,-503.83C1733.84,-483.9 1732.29,-451.29 1714,-432 1622.02,-335.01 1554.06,-380.63 1422,-360 1282.29,-338.17 851.79,-316.59 699.81,-309.46\"/>\n",
       "<polygon fill=\"black\" stroke=\"black\" points=\"699.93,-305.96 689.78,-308.99 699.61,-312.95 699.93,-305.96\"/>\n",
       "</g>\n",
       "<!-- COL8A1 -->\n",
       "<g id=\"node34\" class=\"node\">\n",
       "<title>COL8A1</title>\n",
       "<ellipse fill=\"lightgray\" stroke=\"black\" cx=\"4063\" cy=\"-522\" rx=\"48.99\" ry=\"18\"/>\n",
       "<text text-anchor=\"middle\" x=\"4063\" y=\"-518.3\" font-family=\"Times,serif\" font-size=\"14.00\">COL8A1</text>\n",
       "</g>\n",
       "<!-- CIDEB&#45;&gt;COL8A1 -->\n",
       "<g id=\"edge33\" class=\"edge\">\n",
       "<title>CIDEB&#45;&gt;COL8A1</title>\n",
       "<path fill=\"none\" stroke=\"black\" d=\"M3185.94,-591.66C3335.83,-586.68 3844.67,-568.07 4005,-540 4009.36,-539.24 4013.86,-538.26 4018.34,-537.17\"/>\n",
       "<polygon fill=\"black\" stroke=\"black\" points=\"4019.25,-540.55 4028.03,-534.62 4017.46,-533.78 4019.25,-540.55\"/>\n",
       "</g>\n",
       "<!-- CIDEB&#45;&gt;ATP5ME -->\n",
       "<g id=\"edge210\" class=\"edge\">\n",
       "<title>CIDEB&#45;&gt;ATP5ME</title>\n",
       "<path fill=\"none\" stroke=\"black\" d=\"M3101.57,-592.45C2875.44,-589.41 1809.94,-573.51 1482,-540 1467.2,-538.49 1451.27,-536.07 1436.64,-533.53\"/>\n",
       "<polygon fill=\"black\" stroke=\"black\" points=\"1437.21,-530.07 1426.75,-531.75 1435.98,-536.96 1437.21,-530.07\"/>\n",
       "</g>\n",
       "<!-- COL8A1&#45;&gt;KRTAP6&#45;2 -->\n",
       "<g id=\"edge187\" class=\"edge\">\n",
       "<title>COL8A1&#45;&gt;KRTAP6&#45;2</title>\n",
       "<path fill=\"none\" stroke=\"black\" d=\"M4026.94,-534.14C4019.71,-536.22 4012.14,-538.27 4005,-540 3492.08,-664.26 2862.14,-768.49 2667.87,-799.56\"/>\n",
       "<polygon fill=\"black\" stroke=\"black\" points=\"2667.18,-796.13 2657.86,-801.16 2668.29,-803.04 2667.18,-796.13\"/>\n",
       "</g>\n",
       "<!-- RBPMS -->\n",
       "<g id=\"node35\" class=\"node\">\n",
       "<title>RBPMS</title>\n",
       "<ellipse fill=\"lightgray\" stroke=\"black\" cx=\"3977\" cy=\"-378\" rx=\"46.29\" ry=\"18\"/>\n",
       "<text text-anchor=\"middle\" x=\"3977\" y=\"-374.3\" font-family=\"Times,serif\" font-size=\"14.00\">RBPMS</text>\n",
       "</g>\n",
       "<!-- COL8A1&#45;&gt;RBPMS -->\n",
       "<g id=\"edge34\" class=\"edge\">\n",
       "<title>COL8A1&#45;&gt;RBPMS</title>\n",
       "<path fill=\"none\" stroke=\"black\" d=\"M4060.61,-503.78C4057.39,-484.95 4050.3,-454.48 4036,-432 4028.34,-419.97 4017.22,-408.99 4006.69,-400.19\"/>\n",
       "<polygon fill=\"black\" stroke=\"black\" points=\"4008.82,-397.41 3998.82,-393.9 4004.45,-402.88 4008.82,-397.41\"/>\n",
       "</g>\n",
       "<!-- POU4F2 -->\n",
       "<g id=\"node46\" class=\"node\">\n",
       "<title>POU4F2</title>\n",
       "<ellipse fill=\"lightgray\" stroke=\"black\" cx=\"3977\" cy=\"-450\" rx=\"50.09\" ry=\"18\"/>\n",
       "<text text-anchor=\"middle\" x=\"3977\" y=\"-446.3\" font-family=\"Times,serif\" font-size=\"14.00\">POU4F2</text>\n",
       "</g>\n",
       "<!-- COL8A1&#45;&gt;POU4F2 -->\n",
       "<g id=\"edge212\" class=\"edge\">\n",
       "<title>COL8A1&#45;&gt;POU4F2</title>\n",
       "<path fill=\"none\" stroke=\"black\" d=\"M4043.49,-505.12C4031.94,-495.72 4017.14,-483.67 4004.43,-473.33\"/>\n",
       "<polygon fill=\"black\" stroke=\"black\" points=\"4006.4,-470.42 3996.44,-466.82 4001.98,-475.85 4006.4,-470.42\"/>\n",
       "</g>\n",
       "<!-- PITX2 -->\n",
       "<g id=\"node36\" class=\"node\">\n",
       "<title>PITX2</title>\n",
       "<ellipse fill=\"lightgray\" stroke=\"black\" cx=\"3650\" cy=\"-306\" rx=\"38.19\" ry=\"18\"/>\n",
       "<text text-anchor=\"middle\" x=\"3650\" y=\"-302.3\" font-family=\"Times,serif\" font-size=\"14.00\">PITX2</text>\n",
       "</g>\n",
       "<!-- RBPMS&#45;&gt;PITX2 -->\n",
       "<g id=\"edge35\" class=\"edge\">\n",
       "<title>RBPMS&#45;&gt;PITX2</title>\n",
       "<path fill=\"none\" stroke=\"black\" d=\"M3937.56,-368.56C3876.12,-355.41 3758.01,-330.12 3693.93,-316.4\"/>\n",
       "<polygon fill=\"black\" stroke=\"black\" points=\"3694.64,-312.98 3684.13,-314.31 3693.18,-319.82 3694.64,-312.98\"/>\n",
       "</g>\n",
       "<!-- RBPMS&#45;&gt;KPNA2 -->\n",
       "<g id=\"edge217\" class=\"edge\">\n",
       "<title>RBPMS&#45;&gt;KPNA2</title>\n",
       "<path fill=\"none\" stroke=\"black\" d=\"M3931.49,-381.29C3892.92,-385.67 3838.78,-397.98 3806,-432 3777.57,-461.5 3782,-480.03 3782,-521 3782,-595 3782,-595 3782,-595 3782,-722.36 3800,-753.64 3800,-881 3800,-955 3800,-955 3800,-955 3800,-1204.35 2956.83,-1190.29 2731,-1296 2693.1,-1313.74 2654.41,-1342.75 2629.85,-1362.8\"/>\n",
       "<polygon fill=\"black\" stroke=\"black\" points=\"2627.56,-1360.15 2622.09,-1369.23 2632.02,-1365.55 2627.56,-1360.15\"/>\n",
       "</g>\n",
       "<!-- PITX2&#45;&gt;CTNNB1 -->\n",
       "<g id=\"edge36\" class=\"edge\">\n",
       "<title>PITX2&#45;&gt;CTNNB1</title>\n",
       "<path fill=\"none\" stroke=\"black\" d=\"M3634.98,-322.57C3612.84,-347.26 3574,-397.83 3574,-449 3574,-739 3574,-739 3574,-739 3574,-834.12 3572,-857.88 3572,-953 3572,-1099 3572,-1099 3572,-1099 3572,-1237.33 3577.8,-1283.43 3510,-1404 3389.73,-1617.87 3277.52,-1634.44 3039,-1692 2989.87,-1703.86 1401.88,-1736.89 1066.72,-1743.75\"/>\n",
       "<polygon fill=\"black\" stroke=\"black\" points=\"1066.64,-1740.25 1056.71,-1743.95 1066.78,-1747.25 1066.64,-1740.25\"/>\n",
       "</g>\n",
       "<!-- PITX2&#45;&gt;KRTAP6&#45;1 -->\n",
       "<g id=\"edge221\" class=\"edge\">\n",
       "<title>PITX2&#45;&gt;KRTAP6&#45;1</title>\n",
       "<path fill=\"none\" stroke=\"black\" d=\"M3642.49,-323.66C3631.42,-349.8 3612,-402.3 3612,-449 3612,-739 3612,-739 3612,-739 3612,-781.1 3630.2,-827.09 3643.45,-854.98\"/>\n",
       "<polygon fill=\"black\" stroke=\"black\" points=\"3640.35,-856.62 3647.89,-864.06 3646.64,-853.54 3640.35,-856.62\"/>\n",
       "</g>\n",
       "<!-- SYNCRIP -->\n",
       "<g id=\"node38\" class=\"node\">\n",
       "<title>SYNCRIP</title>\n",
       "<ellipse fill=\"lightyellow\" stroke=\"black\" cx=\"3029\" cy=\"-1530\" rx=\"53.89\" ry=\"18\"/>\n",
       "<text text-anchor=\"middle\" x=\"3029\" y=\"-1526.3\" font-family=\"Times,serif\" font-size=\"14.00\">SYNCRIP</text>\n",
       "</g>\n",
       "<!-- SYNCRIP&#45;&gt;VCAM1 -->\n",
       "<g id=\"edge133\" class=\"edge\">\n",
       "<title>SYNCRIP&#45;&gt;VCAM1</title>\n",
       "<path fill=\"none\" stroke=\"black\" d=\"M3017.62,-1512.05C3012.02,-1503.71 3005.16,-1493.49 2998.95,-1484.25\"/>\n",
       "<polygon fill=\"black\" stroke=\"black\" points=\"3001.75,-1482.14 2993.27,-1475.79 2995.94,-1486.04 3001.75,-1482.14\"/>\n",
       "</g>\n",
       "<!-- HMGA1 -->\n",
       "<g id=\"node39\" class=\"node\">\n",
       "<title>HMGA1</title>\n",
       "<ellipse fill=\"lightgray\" stroke=\"black\" cx=\"3177\" cy=\"-1458\" rx=\"47.39\" ry=\"18\"/>\n",
       "<text text-anchor=\"middle\" x=\"3177\" y=\"-1454.3\" font-family=\"Times,serif\" font-size=\"14.00\">HMGA1</text>\n",
       "</g>\n",
       "<!-- SYNCRIP&#45;&gt;HMGA1 -->\n",
       "<g id=\"edge38\" class=\"edge\">\n",
       "<title>SYNCRIP&#45;&gt;HMGA1</title>\n",
       "<path fill=\"none\" stroke=\"black\" d=\"M3058.95,-1514.83C3082.17,-1503.85 3114.48,-1488.57 3139.43,-1476.77\"/>\n",
       "<polygon fill=\"black\" stroke=\"black\" points=\"3141.06,-1479.87 3148.6,-1472.43 3138.06,-1473.54 3141.06,-1479.87\"/>\n",
       "</g>\n",
       "<!-- POU2F1 -->\n",
       "<g id=\"node40\" class=\"node\">\n",
       "<title>POU2F1</title>\n",
       "<ellipse fill=\"lightgray\" stroke=\"black\" cx=\"3434\" cy=\"-1386\" rx=\"50.09\" ry=\"18\"/>\n",
       "<text text-anchor=\"middle\" x=\"3434\" y=\"-1382.3\" font-family=\"Times,serif\" font-size=\"14.00\">POU2F1</text>\n",
       "</g>\n",
       "<!-- HMGA1&#45;&gt;POU2F1 -->\n",
       "<g id=\"edge39\" class=\"edge\">\n",
       "<title>HMGA1&#45;&gt;POU2F1</title>\n",
       "<path fill=\"none\" stroke=\"black\" d=\"M3214.37,-1446.82C3259.56,-1434.51 3335.74,-1413.76 3385.45,-1400.22\"/>\n",
       "<polygon fill=\"black\" stroke=\"black\" points=\"3386.59,-1403.54 3395.32,-1397.53 3384.76,-1396.79 3386.59,-1403.54\"/>\n",
       "</g>\n",
       "<!-- HMGA1&#45;&gt;XRCC6 -->\n",
       "<g id=\"edge225\" class=\"edge\">\n",
       "<title>HMGA1&#45;&gt;XRCC6</title>\n",
       "<path fill=\"none\" stroke=\"black\" d=\"M3134.75,-1449.67C3076.65,-1439.56 2968.85,-1420.69 2877,-1404 2863.39,-1401.53 2848.65,-1398.8 2835.07,-1396.26\"/>\n",
       "<polygon fill=\"black\" stroke=\"black\" points=\"2835.43,-1392.76 2824.95,-1394.36 2834.14,-1399.64 2835.43,-1392.76\"/>\n",
       "</g>\n",
       "<!-- JUN -->\n",
       "<g id=\"node86\" class=\"node\">\n",
       "<title>JUN</title>\n",
       "<ellipse fill=\"lightgray\" stroke=\"black\" cx=\"2018\" cy=\"-378\" rx=\"29.8\" ry=\"18\"/>\n",
       "<text text-anchor=\"middle\" x=\"2018\" y=\"-374.3\" font-family=\"Times,serif\" font-size=\"14.00\">JUN</text>\n",
       "</g>\n",
       "<!-- HMGA1&#45;&gt;JUN -->\n",
       "<g id=\"edge226\" class=\"edge\">\n",
       "<title>HMGA1&#45;&gt;JUN</title>\n",
       "<path fill=\"none\" stroke=\"black\" d=\"M3220.33,-1450.44C3247.93,-1443.77 3281.65,-1430.45 3299,-1404 3307.77,-1390.62 3303.48,-1383.36 3299,-1368 3238.13,-1159.07 3036,-1172.61 3036,-955 3036,-955 3036,-955 3036,-521 3036,-420.41 2246.21,-386.85 2057.94,-380.28\"/>\n",
       "<polygon fill=\"black\" stroke=\"black\" points=\"2058.03,-376.78 2047.92,-379.94 2057.79,-383.78 2058.03,-376.78\"/>\n",
       "</g>\n",
       "<!-- POGZ -->\n",
       "<g id=\"node41\" class=\"node\">\n",
       "<title>POGZ</title>\n",
       "<ellipse fill=\"lightgray\" stroke=\"black\" cx=\"3349\" cy=\"-1098\" rx=\"38.19\" ry=\"18\"/>\n",
       "<text text-anchor=\"middle\" x=\"3349\" y=\"-1094.3\" font-family=\"Times,serif\" font-size=\"14.00\">POGZ</text>\n",
       "</g>\n",
       "<!-- POU2F1&#45;&gt;POGZ -->\n",
       "<g id=\"edge40\" class=\"edge\">\n",
       "<title>POU2F1&#45;&gt;POGZ</title>\n",
       "<path fill=\"none\" stroke=\"black\" d=\"M3427.61,-1368.07C3414.98,-1334.23 3386.5,-1255.67 3368,-1188 3362.41,-1167.55 3357.46,-1144.1 3354.02,-1126.4\"/>\n",
       "<polygon fill=\"black\" stroke=\"black\" points=\"3357.38,-1125.37 3352.07,-1116.2 3350.51,-1126.68 3357.38,-1125.37\"/>\n",
       "</g>\n",
       "<!-- POGZ&#45;&gt;KRTAP6&#45;2 -->\n",
       "<g id=\"edge188\" class=\"edge\">\n",
       "<title>POGZ&#45;&gt;KRTAP6&#45;2</title>\n",
       "<path fill=\"none\" stroke=\"black\" d=\"M3315.06,-1089.56C3241.41,-1072.88 3062.02,-1029.44 2919,-972 2822.71,-933.33 2804.23,-911.56 2712,-864 2690.23,-852.77 2665.84,-840.34 2646.15,-830.33\"/>\n",
       "<polygon fill=\"black\" stroke=\"black\" points=\"2647.68,-827.18 2637.18,-825.78 2644.51,-833.42 2647.68,-827.18\"/>\n",
       "</g>\n",
       "<!-- POGZ&#45;&gt;RBPMS -->\n",
       "<g id=\"edge41\" class=\"edge\">\n",
       "<title>POGZ&#45;&gt;RBPMS</title>\n",
       "<path fill=\"none\" stroke=\"black\" d=\"M3361.85,-1080.91C3404.1,-1026.36 3536,-842.02 3536,-667 3536,-667 3536,-667 3536,-593 3536,-423.69 3802.35,-388.29 3921.06,-380.92\"/>\n",
       "<polygon fill=\"black\" stroke=\"black\" points=\"3921.27,-384.42 3931.05,-380.35 3920.87,-377.43 3921.27,-384.42\"/>\n",
       "</g>\n",
       "<!-- ALX4 -->\n",
       "<g id=\"node42\" class=\"node\">\n",
       "<title>ALX4</title>\n",
       "<ellipse fill=\"lightyellow\" stroke=\"black\" cx=\"1041\" cy=\"-1314\" rx=\"35.19\" ry=\"18\"/>\n",
       "<text text-anchor=\"middle\" x=\"1041\" y=\"-1310.3\" font-family=\"Times,serif\" font-size=\"14.00\">ALX4</text>\n",
       "</g>\n",
       "<!-- PARVG -->\n",
       "<g id=\"node43\" class=\"node\">\n",
       "<title>PARVG</title>\n",
       "<ellipse fill=\"lightgray\" stroke=\"black\" cx=\"1104\" cy=\"-1242\" rx=\"42.49\" ry=\"18\"/>\n",
       "<text text-anchor=\"middle\" x=\"1104\" y=\"-1238.3\" font-family=\"Times,serif\" font-size=\"14.00\">PARVG</text>\n",
       "</g>\n",
       "<!-- ALX4&#45;&gt;PARVG -->\n",
       "<g id=\"edge42\" class=\"edge\">\n",
       "<title>ALX4&#45;&gt;PARVG</title>\n",
       "<path fill=\"none\" stroke=\"black\" d=\"M1054.98,-1297.46C1063.19,-1288.35 1073.71,-1276.65 1082.91,-1266.43\"/>\n",
       "<polygon fill=\"black\" stroke=\"black\" points=\"1085.53,-1268.75 1089.62,-1258.98 1080.33,-1264.07 1085.53,-1268.75\"/>\n",
       "</g>\n",
       "<!-- DDIT4L -->\n",
       "<g id=\"node44\" class=\"node\">\n",
       "<title>DDIT4L</title>\n",
       "<ellipse fill=\"lightgray\" stroke=\"black\" cx=\"912\" cy=\"-450\" rx=\"46.29\" ry=\"18\"/>\n",
       "<text text-anchor=\"middle\" x=\"912\" y=\"-446.3\" font-family=\"Times,serif\" font-size=\"14.00\">DDIT4L</text>\n",
       "</g>\n",
       "<!-- PARVG&#45;&gt;DDIT4L -->\n",
       "<g id=\"edge43\" class=\"edge\">\n",
       "<title>PARVG&#45;&gt;DDIT4L</title>\n",
       "<path fill=\"none\" stroke=\"black\" d=\"M1090.5,-1224.59C1046.8,-1169.74 912,-986.37 912,-811 912,-811 912,-811 912,-593 912,-553 912,-506.65 912,-478.08\"/>\n",
       "<polygon fill=\"black\" stroke=\"black\" points=\"915.5,-478.05 912,-468.05 908.5,-478.05 915.5,-478.05\"/>\n",
       "</g>\n",
       "<!-- PDLIM7 -->\n",
       "<g id=\"node49\" class=\"node\">\n",
       "<title>PDLIM7</title>\n",
       "<ellipse fill=\"lightgray\" stroke=\"black\" cx=\"1159\" cy=\"-882\" rx=\"48.99\" ry=\"18\"/>\n",
       "<text text-anchor=\"middle\" x=\"1159\" y=\"-878.3\" font-family=\"Times,serif\" font-size=\"14.00\">PDLIM7</text>\n",
       "</g>\n",
       "<!-- PARVG&#45;&gt;PDLIM7 -->\n",
       "<g id=\"edge230\" class=\"edge\">\n",
       "<title>PARVG&#45;&gt;PDLIM7</title>\n",
       "<path fill=\"none\" stroke=\"black\" d=\"M1113.8,-1224.32C1132.7,-1191.22 1173.91,-1114.38 1192,-1044 1203.97,-997.44 1212.99,-981.68 1198,-936 1194.58,-925.58 1188.24,-915.52 1181.65,-907.02\"/>\n",
       "<polygon fill=\"black\" stroke=\"black\" points=\"1184.15,-904.55 1175.08,-899.08 1178.76,-909.01 1184.15,-904.55\"/>\n",
       "</g>\n",
       "<!-- POLR2G -->\n",
       "<g id=\"node61\" class=\"node\">\n",
       "<title>POLR2G</title>\n",
       "<ellipse fill=\"lightgray\" stroke=\"black\" cx=\"2116\" cy=\"-1170\" rx=\"50.09\" ry=\"18\"/>\n",
       "<text text-anchor=\"middle\" x=\"2116\" y=\"-1166.3\" font-family=\"Times,serif\" font-size=\"14.00\">POLR2G</text>\n",
       "</g>\n",
       "<!-- PARVG&#45;&gt;POLR2G -->\n",
       "<g id=\"edge231\" class=\"edge\">\n",
       "<title>PARVG&#45;&gt;POLR2G</title>\n",
       "<path fill=\"none\" stroke=\"black\" d=\"M1144.85,-1237.15C1184.1,-1233.51 1245.07,-1228.03 1298,-1224 1581.86,-1202.37 1921.56,-1182.18 2056.52,-1174.39\"/>\n",
       "<polygon fill=\"black\" stroke=\"black\" points=\"2056.86,-1177.88 2066.64,-1173.81 2056.46,-1170.89 2056.86,-1177.88\"/>\n",
       "</g>\n",
       "<!-- DDIT4L&#45;&gt;CTAG1B -->\n",
       "<g id=\"edge178\" class=\"edge\">\n",
       "<title>DDIT4L&#45;&gt;CTAG1B</title>\n",
       "<path fill=\"none\" stroke=\"black\" d=\"M919.85,-467.99C939.26,-511.64 988,-631.68 988,-737 988,-883 988,-883 988,-883 988,-960.85 995.97,-995.67 1057,-1044 1093.89,-1073.22 1223.89,-1087.36 1300.78,-1093.31\"/>\n",
       "<polygon fill=\"black\" stroke=\"black\" points=\"1300.57,-1096.8 1310.8,-1094.06 1301.09,-1089.82 1300.57,-1096.8\"/>\n",
       "</g>\n",
       "<!-- DDIT4L&#45;&gt;CALM3 -->\n",
       "<g id=\"edge202\" class=\"edge\">\n",
       "<title>DDIT4L&#45;&gt;CALM3</title>\n",
       "<path fill=\"none\" stroke=\"black\" d=\"M946.06,-437.75C982.64,-425.68 1040.86,-406.45 1080.67,-393.31\"/>\n",
       "<polygon fill=\"black\" stroke=\"black\" points=\"1081.97,-396.56 1090.37,-390.1 1079.78,-389.92 1081.97,-396.56\"/>\n",
       "</g>\n",
       "<!-- DDIT4L&#45;&gt;PITX2 -->\n",
       "<g id=\"edge44\" class=\"edge\">\n",
       "<title>DDIT4L&#45;&gt;PITX2</title>\n",
       "<path fill=\"none\" stroke=\"black\" d=\"M932.01,-433.36C960.67,-412.03 1015.94,-374.77 1070,-360 1101.75,-351.32 3250.4,-313.9 3601.68,-307.83\"/>\n",
       "<polygon fill=\"black\" stroke=\"black\" points=\"3601.84,-311.33 3611.78,-307.66 3601.72,-304.33 3601.84,-311.33\"/>\n",
       "</g>\n",
       "<!-- MKRN3 -->\n",
       "<g id=\"node63\" class=\"node\">\n",
       "<title>MKRN3</title>\n",
       "<ellipse fill=\"lightgray\" stroke=\"black\" cx=\"480\" cy=\"-378\" rx=\"47.39\" ry=\"18\"/>\n",
       "<text text-anchor=\"middle\" x=\"480\" y=\"-374.3\" font-family=\"Times,serif\" font-size=\"14.00\">MKRN3</text>\n",
       "</g>\n",
       "<!-- DDIT4L&#45;&gt;MKRN3 -->\n",
       "<g id=\"edge233\" class=\"edge\">\n",
       "<title>DDIT4L&#45;&gt;MKRN3</title>\n",
       "<path fill=\"none\" stroke=\"black\" d=\"M870.19,-442.22C791.05,-429.4 619.57,-401.62 532.7,-387.54\"/>\n",
       "<polygon fill=\"black\" stroke=\"black\" points=\"533.23,-384.08 522.8,-385.93 532.11,-390.99 533.23,-384.08\"/>\n",
       "</g>\n",
       "<!-- DDIT4L&#45;&gt;KANK2 -->\n",
       "<g id=\"edge234\" class=\"edge\">\n",
       "<title>DDIT4L&#45;&gt;KANK2</title>\n",
       "<path fill=\"none\" stroke=\"black\" d=\"M886.01,-435.13C837.81,-409.4 734.58,-354.29 680.56,-325.45\"/>\n",
       "<polygon fill=\"black\" stroke=\"black\" points=\"682.17,-322.34 671.7,-320.72 678.88,-328.52 682.17,-322.34\"/>\n",
       "</g>\n",
       "<!-- DLX3 -->\n",
       "<g id=\"node45\" class=\"node\">\n",
       "<title>DLX3</title>\n",
       "<ellipse fill=\"lightyellow\" stroke=\"black\" cx=\"3960\" cy=\"-522\" rx=\"36.29\" ry=\"18\"/>\n",
       "<text text-anchor=\"middle\" x=\"3960\" y=\"-518.3\" font-family=\"Times,serif\" font-size=\"14.00\">DLX3</text>\n",
       "</g>\n",
       "<!-- DLX3&#45;&gt;POU4F2 -->\n",
       "<g id=\"edge45\" class=\"edge\">\n",
       "<title>DLX3&#45;&gt;POU4F2</title>\n",
       "<path fill=\"none\" stroke=\"black\" d=\"M3964.12,-504.05C3966.01,-496.26 3968.3,-486.82 3970.42,-478.08\"/>\n",
       "<polygon fill=\"black\" stroke=\"black\" points=\"3973.85,-478.82 3972.8,-468.28 3967.04,-477.17 3973.85,-478.82\"/>\n",
       "</g>\n",
       "<!-- POU4F2&#45;&gt;RBPMS -->\n",
       "<g id=\"edge46\" class=\"edge\">\n",
       "<title>POU4F2&#45;&gt;RBPMS</title>\n",
       "<path fill=\"none\" stroke=\"black\" d=\"M3977,-431.7C3977,-423.98 3977,-414.71 3977,-406.11\"/>\n",
       "<polygon fill=\"black\" stroke=\"black\" points=\"3980.5,-406.1 3977,-396.1 3973.5,-406.1 3980.5,-406.1\"/>\n",
       "</g>\n",
       "<!-- POU4F2&#45;&gt;KRTAP6&#45;1 -->\n",
       "<g id=\"edge236\" class=\"edge\">\n",
       "<title>POU4F2&#45;&gt;KRTAP6&#45;1</title>\n",
       "<path fill=\"none\" stroke=\"black\" d=\"M3956.24,-466.47C3943.58,-476.44 3927.49,-490.09 3915,-504 3807.12,-624.1 3707.68,-791.56 3671.47,-855.13\"/>\n",
       "<polygon fill=\"black\" stroke=\"black\" points=\"3668.28,-853.66 3666.4,-864.08 3674.37,-857.11 3668.28,-853.66\"/>\n",
       "</g>\n",
       "<!-- EMX2 -->\n",
       "<g id=\"node47\" class=\"node\">\n",
       "<title>EMX2</title>\n",
       "<ellipse fill=\"lightyellow\" stroke=\"black\" cx=\"1105\" cy=\"-1026\" rx=\"38.99\" ry=\"18\"/>\n",
       "<text text-anchor=\"middle\" x=\"1105\" y=\"-1022.3\" font-family=\"Times,serif\" font-size=\"14.00\">EMX2</text>\n",
       "</g>\n",
       "<!-- OTUD6A -->\n",
       "<g id=\"node48\" class=\"node\">\n",
       "<title>OTUD6A</title>\n",
       "<ellipse fill=\"lightgray\" stroke=\"black\" cx=\"1105\" cy=\"-954\" rx=\"51.19\" ry=\"18\"/>\n",
       "<text text-anchor=\"middle\" x=\"1105\" y=\"-950.3\" font-family=\"Times,serif\" font-size=\"14.00\">OTUD6A</text>\n",
       "</g>\n",
       "<!-- EMX2&#45;&gt;OTUD6A -->\n",
       "<g id=\"edge47\" class=\"edge\">\n",
       "<title>EMX2&#45;&gt;OTUD6A</title>\n",
       "<path fill=\"none\" stroke=\"black\" d=\"M1105,-1007.7C1105,-999.98 1105,-990.71 1105,-982.11\"/>\n",
       "<polygon fill=\"black\" stroke=\"black\" points=\"1108.5,-982.1 1105,-972.1 1101.5,-982.1 1108.5,-982.1\"/>\n",
       "</g>\n",
       "<!-- OTUD6A&#45;&gt;PDLIM7 -->\n",
       "<g id=\"edge48\" class=\"edge\">\n",
       "<title>OTUD6A&#45;&gt;PDLIM7</title>\n",
       "<path fill=\"none\" stroke=\"black\" d=\"M1117.8,-936.41C1124.46,-927.78 1132.72,-917.06 1140.1,-907.5\"/>\n",
       "<polygon fill=\"black\" stroke=\"black\" points=\"1142.96,-909.53 1146.29,-899.47 1137.42,-905.25 1142.96,-909.53\"/>\n",
       "</g>\n",
       "<!-- ZNF165 -->\n",
       "<g id=\"node50\" class=\"node\">\n",
       "<title>ZNF165</title>\n",
       "<ellipse fill=\"lightgray\" stroke=\"black\" cx=\"1274\" cy=\"-306\" rx=\"48.99\" ry=\"18\"/>\n",
       "<text text-anchor=\"middle\" x=\"1274\" y=\"-302.3\" font-family=\"Times,serif\" font-size=\"14.00\">ZNF165</text>\n",
       "</g>\n",
       "<!-- PDLIM7&#45;&gt;ZNF165 -->\n",
       "<g id=\"edge49\" class=\"edge\">\n",
       "<title>PDLIM7&#45;&gt;ZNF165</title>\n",
       "<path fill=\"none\" stroke=\"black\" d=\"M1159,-863.95C1159,-837.29 1159,-784.11 1159,-739 1159,-739 1159,-739 1159,-521 1159,-444.14 1217.26,-368.28 1250.85,-330.93\"/>\n",
       "<polygon fill=\"black\" stroke=\"black\" points=\"1253.82,-332.87 1258.01,-323.13 1248.67,-328.13 1253.82,-332.87\"/>\n",
       "</g>\n",
       "<!-- PDLIM7&#45;&gt;KANK2 -->\n",
       "<g id=\"edge239\" class=\"edge\">\n",
       "<title>PDLIM7&#45;&gt;KANK2</title>\n",
       "<path fill=\"none\" stroke=\"black\" d=\"M1156.39,-863.76C1145.64,-798.36 1098.92,-562.65 967,-432 891.77,-357.49 767.07,-326.26 697.3,-314.08\"/>\n",
       "<polygon fill=\"black\" stroke=\"black\" points=\"697.86,-310.62 687.42,-312.41 696.7,-317.52 697.86,-310.62\"/>\n",
       "</g>\n",
       "<!-- RNPS1 -->\n",
       "<g id=\"node51\" class=\"node\">\n",
       "<title>RNPS1</title>\n",
       "<ellipse fill=\"lightgray\" stroke=\"black\" cx=\"1274\" cy=\"-162\" rx=\"44.39\" ry=\"18\"/>\n",
       "<text text-anchor=\"middle\" x=\"1274\" y=\"-158.3\" font-family=\"Times,serif\" font-size=\"14.00\">RNPS1</text>\n",
       "</g>\n",
       "<!-- ZNF165&#45;&gt;RNPS1 -->\n",
       "<g id=\"edge50\" class=\"edge\">\n",
       "<title>ZNF165&#45;&gt;RNPS1</title>\n",
       "<path fill=\"none\" stroke=\"black\" d=\"M1274,-287.87C1274,-263.67 1274,-219.21 1274,-190.39\"/>\n",
       "<polygon fill=\"black\" stroke=\"black\" points=\"1277.5,-190.19 1274,-180.19 1270.5,-190.19 1277.5,-190.19\"/>\n",
       "</g>\n",
       "<!-- GOLGA6L9 -->\n",
       "<g id=\"node90\" class=\"node\">\n",
       "<title>GOLGA6L9</title>\n",
       "<ellipse fill=\"lightgray\" stroke=\"black\" cx=\"760\" cy=\"-234\" rx=\"62.29\" ry=\"18\"/>\n",
       "<text text-anchor=\"middle\" x=\"760\" y=\"-230.3\" font-family=\"Times,serif\" font-size=\"14.00\">GOLGA6L9</text>\n",
       "</g>\n",
       "<!-- ZNF165&#45;&gt;GOLGA6L9 -->\n",
       "<g id=\"edge242\" class=\"edge\">\n",
       "<title>ZNF165&#45;&gt;GOLGA6L9</title>\n",
       "<path fill=\"none\" stroke=\"black\" d=\"M1237.23,-294.11C1228.68,-291.85 1219.57,-289.65 1211,-288 1077.38,-262.27 918.93,-247.14 829.87,-240.02\"/>\n",
       "<polygon fill=\"black\" stroke=\"black\" points=\"830.13,-236.53 819.89,-239.23 829.58,-243.5 830.13,-236.53\"/>\n",
       "</g>\n",
       "<!-- RNPS1&#45;&gt;RBMY1J -->\n",
       "<g id=\"edge51\" class=\"edge\">\n",
       "<title>RNPS1&#45;&gt;RBMY1J</title>\n",
       "<path fill=\"none\" stroke=\"black\" d=\"M1268.12,-144.05C1267.3,-136.35 1267.06,-127.03 1267.39,-118.36\"/>\n",
       "<polygon fill=\"black\" stroke=\"black\" points=\"1270.89,-118.49 1268.09,-108.28 1263.91,-118.01 1270.89,-118.49\"/>\n",
       "</g>\n",
       "<!-- RBMY1J&#45;&gt;PRR3 -->\n",
       "<g id=\"edge52\" class=\"edge\">\n",
       "<title>RBMY1J&#45;&gt;PRR3</title>\n",
       "<path fill=\"none\" stroke=\"black\" d=\"M1322.82,-90.75C1704.62,-89.02 4196,-83.16 4196,-233 4196,-451 4196,-451 4196,-451 4196,-500.25 4172.46,-515.06 4130,-540 3999.4,-616.71 2894.4,-713.6 2654,-733.38\"/>\n",
       "<polygon fill=\"black\" stroke=\"black\" points=\"2653.54,-729.91 2643.86,-734.21 2654.11,-736.88 2653.54,-729.91\"/>\n",
       "</g>\n",
       "<!-- RBMY1J&#45;&gt;RNPS1 -->\n",
       "<g id=\"edge243\" class=\"edge\">\n",
       "<title>RBMY1J&#45;&gt;RNPS1</title>\n",
       "<path fill=\"none\" stroke=\"black\" d=\"M1279.91,-108.28C1280.71,-116.03 1280.94,-125.36 1280.59,-134.01\"/>\n",
       "<polygon fill=\"black\" stroke=\"black\" points=\"1277.09,-133.83 1279.88,-144.05 1284.08,-134.33 1277.09,-133.83\"/>\n",
       "</g>\n",
       "<!-- EPM2AIP1 -->\n",
       "<g id=\"node69\" class=\"node\">\n",
       "<title>EPM2AIP1</title>\n",
       "<ellipse fill=\"lightgray\" stroke=\"black\" cx=\"687\" cy=\"-18\" rx=\"61.19\" ry=\"18\"/>\n",
       "<text text-anchor=\"middle\" x=\"687\" y=\"-14.3\" font-family=\"Times,serif\" font-size=\"14.00\">EPM2AIP1</text>\n",
       "</g>\n",
       "<!-- RBMY1J&#45;&gt;EPM2AIP1 -->\n",
       "<g id=\"edge245\" class=\"edge\">\n",
       "<title>RBMY1J&#45;&gt;EPM2AIP1</title>\n",
       "<path fill=\"none\" stroke=\"black\" d=\"M1227.59,-83.91C1123.49,-71.94 871.5,-41.93 751.94,-27.29\"/>\n",
       "<polygon fill=\"black\" stroke=\"black\" points=\"752.18,-23.79 741.83,-26.05 751.33,-30.74 752.18,-23.79\"/>\n",
       "</g>\n",
       "<!-- HOXC4 -->\n",
       "<g id=\"node54\" class=\"node\">\n",
       "<title>HOXC4</title>\n",
       "<ellipse fill=\"lightyellow\" stroke=\"black\" cx=\"2785\" cy=\"-1314\" rx=\"44.69\" ry=\"18\"/>\n",
       "<text text-anchor=\"middle\" x=\"2785\" y=\"-1310.3\" font-family=\"Times,serif\" font-size=\"14.00\">HOXC4</text>\n",
       "</g>\n",
       "<!-- XRCC6&#45;&gt;HOXC4 -->\n",
       "<g id=\"edge54\" class=\"edge\">\n",
       "<title>XRCC6&#45;&gt;HOXC4</title>\n",
       "<path fill=\"none\" stroke=\"black\" d=\"M2785.75,-1367.7C2785.64,-1359.98 2785.51,-1350.71 2785.39,-1342.11\"/>\n",
       "<polygon fill=\"black\" stroke=\"black\" points=\"2788.89,-1342.05 2785.24,-1332.1 2781.89,-1342.15 2788.89,-1342.05\"/>\n",
       "</g>\n",
       "<!-- HOXC5 -->\n",
       "<g id=\"node55\" class=\"node\">\n",
       "<title>HOXC5</title>\n",
       "<ellipse fill=\"lightyellow\" stroke=\"black\" cx=\"2230\" cy=\"-1098\" rx=\"44.69\" ry=\"18\"/>\n",
       "<text text-anchor=\"middle\" x=\"2230\" y=\"-1094.3\" font-family=\"Times,serif\" font-size=\"14.00\">HOXC5</text>\n",
       "</g>\n",
       "<!-- CTBP2 -->\n",
       "<g id=\"node56\" class=\"node\">\n",
       "<title>CTBP2</title>\n",
       "<ellipse fill=\"lightgray\" stroke=\"black\" cx=\"2466\" cy=\"-1026\" rx=\"42.49\" ry=\"18\"/>\n",
       "<text text-anchor=\"middle\" x=\"2466\" y=\"-1022.3\" font-family=\"Times,serif\" font-size=\"14.00\">CTBP2</text>\n",
       "</g>\n",
       "<!-- HOXC5&#45;&gt;CTBP2 -->\n",
       "<g id=\"edge55\" class=\"edge\">\n",
       "<title>HOXC5&#45;&gt;CTBP2</title>\n",
       "<path fill=\"none\" stroke=\"black\" d=\"M2265.08,-1086.6C2306.98,-1074.17 2377.08,-1053.37 2422.42,-1039.93\"/>\n",
       "<polygon fill=\"black\" stroke=\"black\" points=\"2423.67,-1043.21 2432.26,-1037.01 2421.68,-1036.5 2423.67,-1043.21\"/>\n",
       "</g>\n",
       "<!-- CATSPER1 -->\n",
       "<g id=\"node57\" class=\"node\">\n",
       "<title>CATSPER1</title>\n",
       "<ellipse fill=\"lightgray\" stroke=\"black\" cx=\"2608\" cy=\"-954\" rx=\"61.99\" ry=\"18\"/>\n",
       "<text text-anchor=\"middle\" x=\"2608\" y=\"-950.3\" font-family=\"Times,serif\" font-size=\"14.00\">CATSPER1</text>\n",
       "</g>\n",
       "<!-- CTBP2&#45;&gt;CATSPER1 -->\n",
       "<g id=\"edge56\" class=\"edge\">\n",
       "<title>CTBP2&#45;&gt;CATSPER1</title>\n",
       "<path fill=\"none\" stroke=\"black\" d=\"M2492.71,-1011.83C2514.13,-1001.27 2544.5,-986.3 2568.7,-974.37\"/>\n",
       "<polygon fill=\"black\" stroke=\"black\" points=\"2570.55,-977.36 2577.97,-969.8 2567.45,-971.09 2570.55,-977.36\"/>\n",
       "</g>\n",
       "<!-- CATSPER1&#45;&gt;KRTAP6&#45;2 -->\n",
       "<g id=\"edge57\" class=\"edge\">\n",
       "<title>CATSPER1&#45;&gt;KRTAP6&#45;2</title>\n",
       "<path fill=\"none\" stroke=\"black\" d=\"M2608,-935.87C2608,-911.67 2608,-867.21 2608,-838.39\"/>\n",
       "<polygon fill=\"black\" stroke=\"black\" points=\"2611.5,-838.19 2608,-828.19 2604.5,-838.19 2611.5,-838.19\"/>\n",
       "</g>\n",
       "<!-- CATSPER1&#45;&gt;PDLIM7 -->\n",
       "<g id=\"edge238\" class=\"edge\">\n",
       "<title>CATSPER1&#45;&gt;PDLIM7</title>\n",
       "<path fill=\"none\" stroke=\"black\" d=\"M2547.58,-950.08C2311.13,-938.66 1450.09,-897.06 1217.34,-885.82\"/>\n",
       "<polygon fill=\"black\" stroke=\"black\" points=\"1217.21,-882.31 1207.06,-885.32 1216.87,-889.3 1217.21,-882.31\"/>\n",
       "</g>\n",
       "<!-- CATSPER1&#45;&gt;KRTAP6&#45;1 -->\n",
       "<g id=\"edge250\" class=\"edge\">\n",
       "<title>CATSPER1&#45;&gt;KRTAP6&#45;1</title>\n",
       "<path fill=\"none\" stroke=\"black\" d=\"M2667.4,-949.04C2849.87,-936.86 3401.36,-900.06 3591.63,-887.36\"/>\n",
       "<polygon fill=\"black\" stroke=\"black\" points=\"3592.01,-890.84 3601.76,-886.69 3591.55,-883.86 3592.01,-890.84\"/>\n",
       "</g>\n",
       "<!-- NUDT21&#45;&gt;ZNF655 -->\n",
       "<g id=\"edge167\" class=\"edge\">\n",
       "<title>NUDT21&#45;&gt;ZNF655</title>\n",
       "<path fill=\"none\" stroke=\"black\" d=\"M3114.2,-1372.17C3321.01,-1291.21 4424,-844.38 4424,-523 4424,-523 4424,-523 4424,-305 4424,-208.97 2880.14,-171.05 2557.62,-164.18\"/>\n",
       "<polygon fill=\"black\" stroke=\"black\" points=\"2557.62,-160.68 2547.55,-163.97 2557.47,-167.68 2557.62,-160.68\"/>\n",
       "</g>\n",
       "<!-- TEPSIN -->\n",
       "<g id=\"node59\" class=\"node\">\n",
       "<title>TEPSIN</title>\n",
       "<ellipse fill=\"lightgray\" stroke=\"black\" cx=\"2189\" cy=\"-1314\" rx=\"47.39\" ry=\"18\"/>\n",
       "<text text-anchor=\"middle\" x=\"2189\" y=\"-1310.3\" font-family=\"Times,serif\" font-size=\"14.00\">TEPSIN</text>\n",
       "</g>\n",
       "<!-- NUDT21&#45;&gt;TEPSIN -->\n",
       "<g id=\"edge59\" class=\"edge\">\n",
       "<title>NUDT21&#45;&gt;TEPSIN</title>\n",
       "<path fill=\"none\" stroke=\"black\" d=\"M3037.24,-1376.4C3020.35,-1373.34 3000.83,-1370.14 2983,-1368 2708.21,-1335.09 2377.28,-1321.23 2246.34,-1316.76\"/>\n",
       "<polygon fill=\"black\" stroke=\"black\" points=\"2246.26,-1313.26 2236.14,-1316.42 2246.02,-1320.25 2246.26,-1313.26\"/>\n",
       "</g>\n",
       "<!-- TEPSIN&#45;&gt;CTAG1B -->\n",
       "<g id=\"edge179\" class=\"edge\">\n",
       "<title>TEPSIN&#45;&gt;CTAG1B</title>\n",
       "<path fill=\"none\" stroke=\"black\" d=\"M2150.91,-1303.18C2015.85,-1268.36 1559.89,-1150.8 1408.4,-1111.74\"/>\n",
       "<polygon fill=\"black\" stroke=\"black\" points=\"1409,-1108.28 1398.44,-1109.17 1407.25,-1115.06 1409,-1108.28\"/>\n",
       "</g>\n",
       "<!-- TEPSIN&#45;&gt;KRTAP6&#45;2 -->\n",
       "<g id=\"edge189\" class=\"edge\">\n",
       "<title>TEPSIN&#45;&gt;KRTAP6&#45;2</title>\n",
       "<path fill=\"none\" stroke=\"black\" d=\"M2210.97,-1297.95C2223.28,-1288.42 2237.94,-1275.08 2247,-1260 2281.03,-1203.36 2275.41,-1181.52 2284,-1116 2290.24,-1068.41 2270.77,-1053.84 2285,-1008 2307.88,-934.3 2318.49,-907.84 2382,-864 2429.06,-831.51 2493.4,-818.76 2541.39,-813.84\"/>\n",
       "<polygon fill=\"black\" stroke=\"black\" points=\"2541.74,-817.32 2551.37,-812.9 2541.09,-810.35 2541.74,-817.32\"/>\n",
       "</g>\n",
       "<!-- TRIM68 -->\n",
       "<g id=\"node60\" class=\"node\">\n",
       "<title>TRIM68</title>\n",
       "<ellipse fill=\"lightgray\" stroke=\"black\" cx=\"2190\" cy=\"-1242\" rx=\"48.19\" ry=\"18\"/>\n",
       "<text text-anchor=\"middle\" x=\"2190\" y=\"-1238.3\" font-family=\"Times,serif\" font-size=\"14.00\">TRIM68</text>\n",
       "</g>\n",
       "<!-- TEPSIN&#45;&gt;TRIM68 -->\n",
       "<g id=\"edge60\" class=\"edge\">\n",
       "<title>TEPSIN&#45;&gt;TRIM68</title>\n",
       "<path fill=\"none\" stroke=\"black\" d=\"M2189.25,-1295.7C2189.36,-1287.98 2189.49,-1278.71 2189.61,-1270.11\"/>\n",
       "<polygon fill=\"black\" stroke=\"black\" points=\"2193.11,-1270.15 2189.76,-1260.1 2186.11,-1270.05 2193.11,-1270.15\"/>\n",
       "</g>\n",
       "<!-- TRIM68&#45;&gt;POLR2G -->\n",
       "<g id=\"edge61\" class=\"edge\">\n",
       "<title>TRIM68&#45;&gt;POLR2G</title>\n",
       "<path fill=\"none\" stroke=\"black\" d=\"M2173.21,-1225.12C2163.53,-1215.96 2151.2,-1204.29 2140.46,-1194.13\"/>\n",
       "<polygon fill=\"black\" stroke=\"black\" points=\"2142.65,-1191.39 2132.98,-1187.06 2137.84,-1196.48 2142.65,-1191.39\"/>\n",
       "</g>\n",
       "<!-- POLR2G&#45;&gt;HOXC5 -->\n",
       "<g id=\"edge62\" class=\"edge\">\n",
       "<title>POLR2G&#45;&gt;HOXC5</title>\n",
       "<path fill=\"none\" stroke=\"black\" d=\"M2140.18,-1154.15C2156.91,-1143.88 2179.38,-1130.08 2197.66,-1118.86\"/>\n",
       "<polygon fill=\"black\" stroke=\"black\" points=\"2199.56,-1121.8 2206.25,-1113.58 2195.9,-1115.83 2199.56,-1121.8\"/>\n",
       "</g>\n",
       "<!-- GADD45GIP1&#45;&gt;MKRN3 -->\n",
       "<g id=\"edge64\" class=\"edge\">\n",
       "<title>GADD45GIP1&#45;&gt;MKRN3</title>\n",
       "<path fill=\"none\" stroke=\"black\" d=\"M332.12,-1367.91C340.21,-1358.01 349.75,-1344.97 356,-1332 373.78,-1295.09 380,-1283.97 380,-1243 380,-1243 380,-1243 380,-593 380,-518.33 389.05,-495.7 428,-432 434.83,-420.83 444.42,-410.18 453.52,-401.4\"/>\n",
       "<polygon fill=\"black\" stroke=\"black\" points=\"456.01,-403.86 460.96,-394.49 451.25,-398.73 456.01,-403.86\"/>\n",
       "</g>\n",
       "<!-- GADD45GIP1&#45;&gt;NUTM1 -->\n",
       "<g id=\"edge257\" class=\"edge\">\n",
       "<title>GADD45GIP1&#45;&gt;NUTM1</title>\n",
       "<path fill=\"none\" stroke=\"black\" d=\"M388.32,-1381.49C524.13,-1374.5 829.14,-1357.28 1085,-1332 1110.85,-1329.45 1139.46,-1325.86 1163.41,-1322.63\"/>\n",
       "<polygon fill=\"black\" stroke=\"black\" points=\"1163.94,-1326.09 1173.37,-1321.28 1162.99,-1319.16 1163.94,-1326.09\"/>\n",
       "</g>\n",
       "<!-- GADD45GIP1&#45;&gt;KANK2 -->\n",
       "<g id=\"edge258\" class=\"edge\">\n",
       "<title>GADD45GIP1&#45;&gt;KANK2</title>\n",
       "<path fill=\"none\" stroke=\"black\" d=\"M317.72,-1367.93C318.35,-1350.01 319.03,-1321.01 318,-1296 311.77,-1144.06 290,-1107.07 290,-955 290,-955 290,-955 290,-449 290,-383.85 498.3,-335.28 596.23,-316.05\"/>\n",
       "<polygon fill=\"black\" stroke=\"black\" points=\"597.05,-319.46 606.2,-314.12 595.72,-312.59 597.05,-319.46\"/>\n",
       "</g>\n",
       "<!-- GADD45GIP1&#45;&gt;GOLGA6L9 -->\n",
       "<g id=\"edge259\" class=\"edge\">\n",
       "<title>GADD45GIP1&#45;&gt;GOLGA6L9</title>\n",
       "<path fill=\"none\" stroke=\"black\" d=\"M312.53,-1367.94C297.85,-1310.29 252,-1117.33 252,-955 252,-955 252,-955 252,-665 252,-568.4 214,-547.6 214,-451 214,-451 214,-451 214,-377 214,-280.04 540.61,-248.12 688.62,-238.63\"/>\n",
       "<polygon fill=\"black\" stroke=\"black\" points=\"689.19,-242.1 698.96,-237.99 688.76,-235.12 689.19,-242.1\"/>\n",
       "</g>\n",
       "<!-- MKRN3&#45;&gt;KRTAP6&#45;2 -->\n",
       "<g id=\"edge65\" class=\"edge\">\n",
       "<title>MKRN3&#45;&gt;KRTAP6&#45;2</title>\n",
       "<path fill=\"none\" stroke=\"black\" d=\"M519.07,-388.26C587.52,-404.47 733.59,-439.03 857,-468 1131.14,-532.35 1198.06,-555.88 1474,-612 1882.5,-695.08 2378.27,-773.58 2547.81,-799.79\"/>\n",
       "<polygon fill=\"black\" stroke=\"black\" points=\"2547.37,-803.26 2557.79,-801.33 2548.44,-796.34 2547.37,-803.26\"/>\n",
       "</g>\n",
       "<!-- MKRN3&#45;&gt;KANK2 -->\n",
       "<g id=\"edge263\" class=\"edge\">\n",
       "<title>MKRN3&#45;&gt;KANK2</title>\n",
       "<path fill=\"none\" stroke=\"black\" d=\"M510.45,-364.16C537.52,-352.74 577.28,-335.98 606.74,-323.55\"/>\n",
       "<polygon fill=\"black\" stroke=\"black\" points=\"608.45,-326.63 616.3,-319.52 605.73,-320.18 608.45,-326.63\"/>\n",
       "</g>\n",
       "<!-- HOXD8 -->\n",
       "<g id=\"node65\" class=\"node\">\n",
       "<title>HOXD8</title>\n",
       "<ellipse fill=\"lightyellow\" stroke=\"black\" cx=\"1514\" cy=\"-450\" rx=\"45.49\" ry=\"18\"/>\n",
       "<text text-anchor=\"middle\" x=\"1514\" y=\"-446.3\" font-family=\"Times,serif\" font-size=\"14.00\">HOXD8</text>\n",
       "</g>\n",
       "<!-- BAIAP2&#45;&gt;HOXD8 -->\n",
       "<g id=\"edge67\" class=\"edge\">\n",
       "<title>BAIAP2&#45;&gt;HOXD8</title>\n",
       "<path fill=\"none\" stroke=\"black\" d=\"M1531.43,-504.05C1528.84,-496.18 1525.7,-486.62 1522.8,-477.79\"/>\n",
       "<polygon fill=\"black\" stroke=\"black\" points=\"1526.12,-476.68 1519.68,-468.28 1519.47,-478.87 1526.12,-476.68\"/>\n",
       "</g>\n",
       "<!-- LEF1 -->\n",
       "<g id=\"node66\" class=\"node\">\n",
       "<title>LEF1</title>\n",
       "<ellipse fill=\"lightyellow\" stroke=\"black\" cx=\"1124\" cy=\"-1818\" rx=\"36\" ry=\"18\"/>\n",
       "<text text-anchor=\"middle\" x=\"1124\" y=\"-1814.3\" font-family=\"Times,serif\" font-size=\"14.00\">LEF1</text>\n",
       "</g>\n",
       "<!-- LEF1&#45;&gt;CTNNB1 -->\n",
       "<g id=\"edge68\" class=\"edge\">\n",
       "<title>LEF1&#45;&gt;CTNNB1</title>\n",
       "<path fill=\"none\" stroke=\"black\" d=\"M1101.62,-1803.83C1083.98,-1793.46 1059.11,-1778.83 1039.02,-1767.01\"/>\n",
       "<polygon fill=\"black\" stroke=\"black\" points=\"1040.56,-1763.86 1030.17,-1761.8 1037.01,-1769.89 1040.56,-1763.86\"/>\n",
       "</g>\n",
       "<!-- LHX8 -->\n",
       "<g id=\"node67\" class=\"node\">\n",
       "<title>LHX8</title>\n",
       "<ellipse fill=\"lightyellow\" stroke=\"black\" cx=\"1250\" cy=\"-1386\" rx=\"36.29\" ry=\"18\"/>\n",
       "<text text-anchor=\"middle\" x=\"1250\" y=\"-1382.3\" font-family=\"Times,serif\" font-size=\"14.00\">LHX8</text>\n",
       "</g>\n",
       "<!-- LHX8&#45;&gt;CCHCR1 -->\n",
       "<g id=\"edge136\" class=\"edge\">\n",
       "<title>LHX8&#45;&gt;CCHCR1</title>\n",
       "<path fill=\"none\" stroke=\"black\" d=\"M1261.71,-1368.76C1274.75,-1350.8 1296.54,-1321.08 1316,-1296 1323.34,-1286.54 1331.59,-1276.29 1338.88,-1267.35\"/>\n",
       "<polygon fill=\"black\" stroke=\"black\" points=\"1341.63,-1269.51 1345.26,-1259.56 1336.21,-1265.08 1341.63,-1269.51\"/>\n",
       "</g>\n",
       "<!-- LDB2 -->\n",
       "<g id=\"node68\" class=\"node\">\n",
       "<title>LDB2</title>\n",
       "<ellipse fill=\"lightgray\" stroke=\"black\" cx=\"240\" cy=\"-1314\" rx=\"36.29\" ry=\"18\"/>\n",
       "<text text-anchor=\"middle\" x=\"240\" y=\"-1310.3\" font-family=\"Times,serif\" font-size=\"14.00\">LDB2</text>\n",
       "</g>\n",
       "<!-- LHX8&#45;&gt;LDB2 -->\n",
       "<g id=\"edge69\" class=\"edge\">\n",
       "<title>LHX8&#45;&gt;LDB2</title>\n",
       "<path fill=\"none\" stroke=\"black\" d=\"M1214.05,-1382.51C1060.28,-1371.85 457.86,-1330.1 286,-1318.19\"/>\n",
       "<polygon fill=\"black\" stroke=\"black\" points=\"286,-1314.68 275.78,-1317.48 285.51,-1321.66 286,-1314.68\"/>\n",
       "</g>\n",
       "<!-- LHX8&#45;&gt;NUTM1 -->\n",
       "<g id=\"edge137\" class=\"edge\">\n",
       "<title>LHX8&#45;&gt;NUTM1</title>\n",
       "<path fill=\"none\" stroke=\"black\" d=\"M1242.18,-1368.41C1238.33,-1360.25 1233.6,-1350.22 1229.29,-1341.07\"/>\n",
       "<polygon fill=\"black\" stroke=\"black\" points=\"1232.42,-1339.51 1224.99,-1331.96 1226.09,-1342.49 1232.42,-1339.51\"/>\n",
       "</g>\n",
       "<!-- LDB2&#45;&gt;EPM2AIP1 -->\n",
       "<g id=\"edge70\" class=\"edge\">\n",
       "<title>LDB2&#45;&gt;EPM2AIP1</title>\n",
       "<path fill=\"none\" stroke=\"black\" d=\"M229.66,-1296.65C203.73,-1254.03 138,-1135.33 138,-1027 138,-1027 138,-1027 138,-665 138,-568.4 100,-547.6 100,-451 100,-451 100,-451 100,-161 100,-55.88 460.13,-28.32 616.24,-21.31\"/>\n",
       "<polygon fill=\"black\" stroke=\"black\" points=\"616.83,-24.78 626.67,-20.85 616.52,-17.79 616.83,-24.78\"/>\n",
       "</g>\n",
       "<!-- EPM2AIP1&#45;&gt;RBMY1J -->\n",
       "<g id=\"edge71\" class=\"edge\">\n",
       "<title>EPM2AIP1&#45;&gt;RBMY1J</title>\n",
       "<path fill=\"none\" stroke=\"black\" d=\"M743.3,-25.23C855.89,-38.24 1107.25,-68.2 1218.87,-81.92\"/>\n",
       "<polygon fill=\"black\" stroke=\"black\" points=\"1218.56,-85.4 1228.91,-83.15 1219.41,-78.46 1218.56,-85.4\"/>\n",
       "</g>\n",
       "<!-- FOS -->\n",
       "<g id=\"node71\" class=\"node\">\n",
       "<title>FOS</title>\n",
       "<ellipse fill=\"lightgray\" stroke=\"black\" cx=\"1381\" cy=\"-450\" rx=\"30.59\" ry=\"18\"/>\n",
       "<text text-anchor=\"middle\" x=\"1381\" y=\"-446.3\" font-family=\"Times,serif\" font-size=\"14.00\">FOS</text>\n",
       "</g>\n",
       "<!-- ATP5ME&#45;&gt;FOS -->\n",
       "<g id=\"edge73\" class=\"edge\">\n",
       "<title>ATP5ME&#45;&gt;FOS</title>\n",
       "<path fill=\"none\" stroke=\"black\" d=\"M1383.26,-503.7C1382.93,-495.98 1382.53,-486.71 1382.16,-478.11\"/>\n",
       "<polygon fill=\"black\" stroke=\"black\" points=\"1385.66,-477.95 1381.73,-468.1 1378.66,-478.25 1385.66,-477.95\"/>\n",
       "</g>\n",
       "<!-- MAF -->\n",
       "<g id=\"node72\" class=\"node\">\n",
       "<title>MAF</title>\n",
       "<ellipse fill=\"lightyellow\" stroke=\"black\" cx=\"1381\" cy=\"-378\" rx=\"32.49\" ry=\"18\"/>\n",
       "<text text-anchor=\"middle\" x=\"1381\" y=\"-374.3\" font-family=\"Times,serif\" font-size=\"14.00\">MAF</text>\n",
       "</g>\n",
       "<!-- FOS&#45;&gt;MAF -->\n",
       "<g id=\"edge74\" class=\"edge\">\n",
       "<title>FOS&#45;&gt;MAF</title>\n",
       "<path fill=\"none\" stroke=\"black\" d=\"M1381,-431.7C1381,-423.98 1381,-414.71 1381,-406.11\"/>\n",
       "<polygon fill=\"black\" stroke=\"black\" points=\"1384.5,-406.1 1381,-396.1 1377.5,-406.1 1384.5,-406.1\"/>\n",
       "</g>\n",
       "<!-- FOS&#45;&gt;JUN -->\n",
       "<g id=\"edge270\" class=\"edge\">\n",
       "<title>FOS&#45;&gt;JUN</title>\n",
       "<path fill=\"none\" stroke=\"black\" d=\"M1408.64,-442.22C1423.74,-438.73 1442.81,-434.66 1460,-432 1652.88,-402.19 1886.02,-386.56 1977.96,-381.19\"/>\n",
       "<polygon fill=\"black\" stroke=\"black\" points=\"1978.42,-384.67 1988.21,-380.6 1978.02,-377.68 1978.42,-384.67\"/>\n",
       "</g>\n",
       "<!-- MSX2 -->\n",
       "<g id=\"node73\" class=\"node\">\n",
       "<title>MSX2</title>\n",
       "<ellipse fill=\"lightyellow\" stroke=\"black\" cx=\"1720\" cy=\"-2106\" rx=\"38.19\" ry=\"18\"/>\n",
       "<text text-anchor=\"middle\" x=\"1720\" y=\"-2102.3\" font-family=\"Times,serif\" font-size=\"14.00\">MSX2</text>\n",
       "</g>\n",
       "<!-- TCF7L2 -->\n",
       "<g id=\"node74\" class=\"node\">\n",
       "<title>TCF7L2</title>\n",
       "<ellipse fill=\"lightgray\" stroke=\"black\" cx=\"1831\" cy=\"-1818\" rx=\"47.39\" ry=\"18\"/>\n",
       "<text text-anchor=\"middle\" x=\"1831\" y=\"-1814.3\" font-family=\"Times,serif\" font-size=\"14.00\">TCF7L2</text>\n",
       "</g>\n",
       "<!-- MSX2&#45;&gt;TCF7L2 -->\n",
       "<g id=\"edge75\" class=\"edge\">\n",
       "<title>MSX2&#45;&gt;TCF7L2</title>\n",
       "<path fill=\"none\" stroke=\"black\" d=\"M1742.86,-2091.33C1773.75,-2071.35 1827.41,-2030.97 1849,-1980 1867.79,-1935.64 1853.38,-1878.57 1841.78,-1845.65\"/>\n",
       "<polygon fill=\"black\" stroke=\"black\" points=\"1845.06,-1844.42 1838.31,-1836.25 1838.49,-1846.85 1845.06,-1844.42\"/>\n",
       "</g>\n",
       "<!-- SOX5 -->\n",
       "<g id=\"node107\" class=\"node\">\n",
       "<title>SOX5</title>\n",
       "<ellipse fill=\"lightgray\" stroke=\"black\" cx=\"1594\" cy=\"-1890\" rx=\"36.29\" ry=\"18\"/>\n",
       "<text text-anchor=\"middle\" x=\"1594\" y=\"-1886.3\" font-family=\"Times,serif\" font-size=\"14.00\">SOX5</text>\n",
       "</g>\n",
       "<!-- MSX2&#45;&gt;SOX5 -->\n",
       "<g id=\"edge115\" class=\"edge\">\n",
       "<title>MSX2&#45;&gt;SOX5</title>\n",
       "<path fill=\"none\" stroke=\"black\" d=\"M1711.21,-2088.46C1701.58,-2070.49 1685.57,-2040.99 1671,-2016 1650.54,-1980.89 1625.7,-1941.04 1609.87,-1915.96\"/>\n",
       "<polygon fill=\"black\" stroke=\"black\" points=\"1612.78,-1914 1604.47,-1907.42 1606.86,-1917.75 1612.78,-1914\"/>\n",
       "</g>\n",
       "<!-- TCF7L2&#45;&gt;CTNNB1 -->\n",
       "<g id=\"edge76\" class=\"edge\">\n",
       "<title>TCF7L2&#45;&gt;CTNNB1</title>\n",
       "<path fill=\"none\" stroke=\"black\" d=\"M1785.12,-1813.11C1644.89,-1801.23 1222.02,-1765.39 1064.76,-1752.06\"/>\n",
       "<polygon fill=\"black\" stroke=\"black\" points=\"1065.05,-1748.58 1054.79,-1751.22 1064.46,-1755.55 1065.05,-1748.58\"/>\n",
       "</g>\n",
       "<!-- TCF7L2&#45;&gt;DAXX -->\n",
       "<g id=\"edge149\" class=\"edge\">\n",
       "<title>TCF7L2&#45;&gt;DAXX</title>\n",
       "<path fill=\"none\" stroke=\"black\" d=\"M1799.05,-1804.54C1774.29,-1794.52 1739.37,-1779.59 1710,-1764 1624.63,-1718.68 1529.78,-1655 1483.52,-1623.01\"/>\n",
       "<polygon fill=\"black\" stroke=\"black\" points=\"1485.41,-1620.06 1475.2,-1617.23 1481.41,-1625.81 1485.41,-1620.06\"/>\n",
       "</g>\n",
       "<!-- TCF7L2&#45;&gt;KRTAP6&#45;2 -->\n",
       "<g id=\"edge190\" class=\"edge\">\n",
       "<title>TCF7L2&#45;&gt;KRTAP6&#45;2</title>\n",
       "<path fill=\"none\" stroke=\"black\" d=\"M1876.18,-1811.93C1931.18,-1804.71 2019.22,-1789.45 2039,-1764 2054.74,-1743.75 2089.83,-1674.88 2013,-1512 1998.85,-1482 1923.8,-1434.16 1910,-1404 1835.4,-1241.05 1904.36,-1167.54 1986,-1008 2023.06,-935.58 2027.79,-903.33 2099,-864 2173.25,-822.99 2419.89,-813.67 2540.46,-811.58\"/>\n",
       "<polygon fill=\"black\" stroke=\"black\" points=\"2540.73,-815.08 2550.68,-811.42 2540.62,-808.08 2540.73,-815.08\"/>\n",
       "</g>\n",
       "<!-- TCF7L2&#45;&gt;KRTAP6&#45;1 -->\n",
       "<g id=\"edge271\" class=\"edge\">\n",
       "<title>TCF7L2&#45;&gt;KRTAP6&#45;1</title>\n",
       "<path fill=\"none\" stroke=\"black\" d=\"M1876.19,-1812.24C2009.32,-1798.3 2411.67,-1756.74 2746,-1728 2960.03,-1709.6 3020.32,-1746.91 3228,-1692 3300.27,-1672.89 3316,-1658.62 3380,-1620 3402.83,-1606.22 3403.48,-1594.48 3428,-1584 3517.89,-1545.57 3568.62,-1609.02 3645,-1548 3732.38,-1478.2 3740,-1426.83 3740,-1315 3740,-1315 3740,-1315 3740,-1241 3740,-1193.38 3676.39,-1007.08 3669,-972 3664.69,-951.53 3661.6,-928.08 3659.64,-910.38\"/>\n",
       "<polygon fill=\"black\" stroke=\"black\" points=\"3663.09,-909.77 3658.56,-900.19 3656.13,-910.5 3663.09,-909.77\"/>\n",
       "</g>\n",
       "<!-- OSR2 -->\n",
       "<g id=\"node75\" class=\"node\">\n",
       "<title>OSR2</title>\n",
       "<ellipse fill=\"lightyellow\" stroke=\"black\" cx=\"3675\" cy=\"-1170\" rx=\"37.09\" ry=\"18\"/>\n",
       "<text text-anchor=\"middle\" x=\"3675\" y=\"-1166.3\" font-family=\"Times,serif\" font-size=\"14.00\">OSR2</text>\n",
       "</g>\n",
       "<!-- OSR2&#45;&gt;KRTAP6&#45;1 -->\n",
       "<g id=\"edge77\" class=\"edge\">\n",
       "<title>OSR2&#45;&gt;KRTAP6&#45;1</title>\n",
       "<path fill=\"none\" stroke=\"black\" d=\"M3658.53,-1153.52C3649.39,-1143.75 3638.89,-1130.31 3634,-1116 3608.14,-1040.3 3617.74,-1014.33 3634,-936 3635.88,-926.96 3639.37,-917.58 3643.09,-909.26\"/>\n",
       "<polygon fill=\"black\" stroke=\"black\" points=\"3646.32,-910.61 3647.46,-900.07 3640,-907.6 3646.32,-910.61\"/>\n",
       "</g>\n",
       "<!-- KRTAP6&#45;1&#45;&gt;SMN2 -->\n",
       "<g id=\"edge186\" class=\"edge\">\n",
       "<title>KRTAP6&#45;1&#45;&gt;SMN2</title>\n",
       "<path fill=\"none\" stroke=\"black\" d=\"M3603.54,-888.83C3473.59,-902.43 3143.04,-936 3017.4,-948.34\"/>\n",
       "<polygon fill=\"black\" stroke=\"black\" points=\"3016.91,-944.88 3007.3,-949.34 3017.59,-951.84 3016.91,-944.88\"/>\n",
       "</g>\n",
       "<!-- KRTAP6&#45;1&#45;&gt;KRTAP6&#45;2 -->\n",
       "<g id=\"edge78\" class=\"edge\">\n",
       "<title>KRTAP6&#45;1&#45;&gt;KRTAP6&#45;2</title>\n",
       "<path fill=\"none\" stroke=\"black\" d=\"M3601.71,-877.31C3423.6,-865.43 2865.29,-828.17 2673.48,-815.37\"/>\n",
       "<polygon fill=\"black\" stroke=\"black\" points=\"2673.48,-811.86 2663.27,-814.69 2673.01,-818.85 2673.48,-811.86\"/>\n",
       "</g>\n",
       "<!-- PAX3 -->\n",
       "<g id=\"node77\" class=\"node\">\n",
       "<title>PAX3</title>\n",
       "<ellipse fill=\"lightyellow\" stroke=\"black\" cx=\"2272\" cy=\"-1746\" rx=\"34.39\" ry=\"18\"/>\n",
       "<text text-anchor=\"middle\" x=\"2272\" y=\"-1742.3\" font-family=\"Times,serif\" font-size=\"14.00\">PAX3</text>\n",
       "</g>\n",
       "<!-- PAX3&#45;&gt;KRTAP6&#45;2 -->\n",
       "<g id=\"edge79\" class=\"edge\">\n",
       "<title>PAX3&#45;&gt;KRTAP6&#45;2</title>\n",
       "<path fill=\"none\" stroke=\"black\" d=\"M2272.76,-1727.88C2273.82,-1687.85 2272.45,-1585.99 2236,-1512 2207.36,-1453.86 2163.43,-1463.62 2138,-1404 2127.39,-1379.12 2132.08,-1226.01 2133,-1224 2143.27,-1201.66 2164.62,-1210.29 2175,-1188 2195.26,-1144.48 2160.88,-1125.56 2176,-1080 2213.46,-967.11 2233.55,-927.7 2334,-864 2368.27,-842.27 2475.01,-826.28 2544.7,-817.83\"/>\n",
       "<polygon fill=\"black\" stroke=\"black\" points=\"2545.19,-821.3 2554.7,-816.64 2544.36,-814.35 2545.19,-821.3\"/>\n",
       "</g>\n",
       "<!-- EMILIN1 -->\n",
       "<g id=\"node79\" class=\"node\">\n",
       "<title>EMILIN1</title>\n",
       "<ellipse fill=\"lightgray\" stroke=\"black\" cx=\"2170\" cy=\"-522\" rx=\"53.09\" ry=\"18\"/>\n",
       "<text text-anchor=\"middle\" x=\"2170\" y=\"-518.3\" font-family=\"Times,serif\" font-size=\"14.00\">EMILIN1</text>\n",
       "</g>\n",
       "<!-- LRRIQ1&#45;&gt;EMILIN1 -->\n",
       "<g id=\"edge81\" class=\"edge\">\n",
       "<title>LRRIQ1&#45;&gt;EMILIN1</title>\n",
       "<path fill=\"none\" stroke=\"black\" d=\"M2170,-575.7C2170,-567.98 2170,-558.71 2170,-550.11\"/>\n",
       "<polygon fill=\"black\" stroke=\"black\" points=\"2173.5,-550.1 2170,-540.1 2166.5,-550.1 2173.5,-550.1\"/>\n",
       "</g>\n",
       "<!-- EMILIN1&#45;&gt;ZNF655 -->\n",
       "<g id=\"edge168\" class=\"edge\">\n",
       "<title>EMILIN1&#45;&gt;ZNF655</title>\n",
       "<path fill=\"none\" stroke=\"black\" d=\"M2222.51,-518.34C2415.45,-507.87 3074,-465.78 3074,-379 3074,-379 3074,-379 3074,-305 3074,-199.44 2704.12,-171.86 2557.68,-165.08\"/>\n",
       "<polygon fill=\"black\" stroke=\"black\" points=\"2557.67,-161.58 2547.53,-164.63 2557.36,-168.57 2557.67,-161.58\"/>\n",
       "</g>\n",
       "<!-- EMILIN1&#45;&gt;DDIT4L -->\n",
       "<g id=\"edge82\" class=\"edge\">\n",
       "<title>EMILIN1&#45;&gt;DDIT4L</title>\n",
       "<path fill=\"none\" stroke=\"black\" d=\"M2117.94,-518.1C1914.8,-506.8 1176.34,-465.71 967.42,-454.08\"/>\n",
       "<polygon fill=\"black\" stroke=\"black\" points=\"967.47,-450.58 957.29,-453.52 967.08,-457.57 967.47,-450.58\"/>\n",
       "</g>\n",
       "<!-- PITX1 -->\n",
       "<g id=\"node80\" class=\"node\">\n",
       "<title>PITX1</title>\n",
       "<ellipse fill=\"lightyellow\" stroke=\"black\" cx=\"2995\" cy=\"-2466\" rx=\"38.19\" ry=\"18\"/>\n",
       "<text text-anchor=\"middle\" x=\"2995\" y=\"-2462.3\" font-family=\"Times,serif\" font-size=\"14.00\">PITX1</text>\n",
       "</g>\n",
       "<!-- PITX1&#45;&gt;KRTAP6&#45;2 -->\n",
       "<g id=\"edge140\" class=\"edge\">\n",
       "<title>PITX1&#45;&gt;KRTAP6&#45;2</title>\n",
       "<path fill=\"none\" stroke=\"black\" d=\"M3031.72,-2460.74C3217.38,-2438.22 4044,-2325.65 4044,-2107 4044,-2107 4044,-2107 4044,-2033 4044,-1873 4006,-1835 4006,-1675 4006,-1675 4006,-1675 4006,-1601 4006,-1431.19 4003.31,-1383.11 3944,-1224 3878.43,-1048.08 3884.62,-959.54 3723,-864 3677.77,-837.26 2908.77,-817.79 2674.92,-812.46\"/>\n",
       "<polygon fill=\"black\" stroke=\"black\" points=\"2674.93,-808.96 2664.85,-812.23 2674.77,-815.96 2674.93,-808.96\"/>\n",
       "</g>\n",
       "<!-- PITX1&#45;&gt;RBPMS -->\n",
       "<g id=\"edge141\" class=\"edge\">\n",
       "<title>PITX1&#45;&gt;RBPMS</title>\n",
       "<path fill=\"none\" stroke=\"black\" d=\"M3033.66,-2465.22C3258.31,-2465.99 4386,-2462.88 4386,-2323 4386,-2323 4386,-2323 4386,-809 4386,-712.4 4348,-691.6 4348,-595 4348,-595 4348,-595 4348,-521 4348,-473.79 4329.48,-457.89 4290,-432 4248.49,-404.77 4110.38,-389.62 4032.2,-383.03\"/>\n",
       "<polygon fill=\"black\" stroke=\"black\" points=\"4032.3,-379.53 4022.05,-382.19 4031.73,-386.5 4032.3,-379.53\"/>\n",
       "</g>\n",
       "<!-- PITX1&#45;&gt;MSX2 -->\n",
       "<g id=\"edge122\" class=\"edge\">\n",
       "<title>PITX1&#45;&gt;MSX2</title>\n",
       "<path fill=\"none\" stroke=\"black\" d=\"M2956.61,-2465.09C2625.29,-2465.62 261,-2464.44 261,-2323 261,-2323 261,-2323 261,-2249 261,-2103.96 1417.94,-2104.63 1671.34,-2106.52\"/>\n",
       "<polygon fill=\"black\" stroke=\"black\" points=\"1671.32,-2110.02 1681.35,-2106.6 1671.38,-2103.02 1671.32,-2110.02\"/>\n",
       "</g>\n",
       "<!-- PITX1&#45;&gt;KRTAP6&#45;1 -->\n",
       "<g id=\"edge142\" class=\"edge\">\n",
       "<title>PITX1&#45;&gt;KRTAP6&#45;1</title>\n",
       "<path fill=\"none\" stroke=\"black\" d=\"M3033.39,-2464.34C3211.2,-2461.1 3947.45,-2445.7 3982,-2412 4079.34,-2317.05 4006,-2242.97 4006,-2107 4006,-2107 4006,-2107 4006,-2033 4006,-1873 3968,-1835 3968,-1675 3968,-1675 3968,-1675 3968,-1601 3968,-1319.89 3865.85,-1263.21 3748,-1008 3733.16,-975.87 3734.89,-964.56 3714,-936 3705.88,-924.9 3695.21,-914.25 3685.29,-905.44\"/>\n",
       "<polygon fill=\"black\" stroke=\"black\" points=\"3687.43,-902.67 3677.57,-898.8 3682.87,-907.97 3687.43,-902.67\"/>\n",
       "</g>\n",
       "<!-- TLE5 -->\n",
       "<g id=\"node81\" class=\"node\">\n",
       "<title>TLE5</title>\n",
       "<ellipse fill=\"lightgray\" stroke=\"black\" cx=\"2134\" cy=\"-2178\" rx=\"35.19\" ry=\"18\"/>\n",
       "<text text-anchor=\"middle\" x=\"2134\" y=\"-2174.3\" font-family=\"Times,serif\" font-size=\"14.00\">TLE5</text>\n",
       "</g>\n",
       "<!-- PITX1&#45;&gt;TLE5 -->\n",
       "<g id=\"edge83\" class=\"edge\">\n",
       "<title>PITX1&#45;&gt;TLE5</title>\n",
       "<path fill=\"none\" stroke=\"black\" d=\"M2958.09,-2460.37C2903.86,-2453.04 2799.79,-2436.99 2714,-2412 2548.55,-2363.8 2513.87,-2332.31 2354,-2268 2289.15,-2241.91 2213.62,-2211.31 2170.06,-2193.64\"/>\n",
       "<polygon fill=\"black\" stroke=\"black\" points=\"2171.32,-2190.37 2160.74,-2189.86 2168.69,-2196.86 2171.32,-2190.37\"/>\n",
       "</g>\n",
       "<!-- YPEL3 -->\n",
       "<g id=\"node91\" class=\"node\">\n",
       "<title>YPEL3</title>\n",
       "<ellipse fill=\"lightgray\" stroke=\"black\" cx=\"3030\" cy=\"-2394\" rx=\"41.69\" ry=\"18\"/>\n",
       "<text text-anchor=\"middle\" x=\"3030\" y=\"-2390.3\" font-family=\"Times,serif\" font-size=\"14.00\">YPEL3</text>\n",
       "</g>\n",
       "<!-- PITX1&#45;&gt;YPEL3 -->\n",
       "<g id=\"edge94\" class=\"edge\">\n",
       "<title>PITX1&#45;&gt;YPEL3</title>\n",
       "<path fill=\"none\" stroke=\"black\" d=\"M3003.29,-2448.41C3007.38,-2440.25 3012.39,-2430.22 3016.97,-2421.07\"/>\n",
       "<polygon fill=\"black\" stroke=\"black\" points=\"3020.18,-2422.47 3021.52,-2411.96 3013.92,-2419.34 3020.18,-2422.47\"/>\n",
       "</g>\n",
       "<!-- PLA2G10 -->\n",
       "<g id=\"node95\" class=\"node\">\n",
       "<title>PLA2G10</title>\n",
       "<ellipse fill=\"lightgray\" stroke=\"black\" cx=\"2878\" cy=\"-2394\" rx=\"53.89\" ry=\"18\"/>\n",
       "<text text-anchor=\"middle\" x=\"2878\" y=\"-2390.3\" font-family=\"Times,serif\" font-size=\"14.00\">PLA2G10</text>\n",
       "</g>\n",
       "<!-- PITX1&#45;&gt;PLA2G10 -->\n",
       "<g id=\"edge99\" class=\"edge\">\n",
       "<title>PITX1&#45;&gt;PLA2G10</title>\n",
       "<path fill=\"none\" stroke=\"black\" d=\"M2972.16,-2451.34C2955.06,-2441.1 2931.37,-2426.93 2912.03,-2415.36\"/>\n",
       "<polygon fill=\"black\" stroke=\"black\" points=\"2913.59,-2412.22 2903.21,-2410.08 2910,-2418.22 2913.59,-2412.22\"/>\n",
       "</g>\n",
       "<!-- PFDN5 -->\n",
       "<g id=\"node102\" class=\"node\">\n",
       "<title>PFDN5</title>\n",
       "<ellipse fill=\"lightgray\" stroke=\"black\" cx=\"2802\" cy=\"-2106\" rx=\"44.39\" ry=\"18\"/>\n",
       "<text text-anchor=\"middle\" x=\"2802\" y=\"-2102.3\" font-family=\"Times,serif\" font-size=\"14.00\">PFDN5</text>\n",
       "</g>\n",
       "<!-- PITX1&#45;&gt;PFDN5 -->\n",
       "<g id=\"edge109\" class=\"edge\">\n",
       "<title>PITX1&#45;&gt;PFDN5</title>\n",
       "<path fill=\"none\" stroke=\"black\" d=\"M2988.09,-2448.28C2977.89,-2422.06 2960,-2369.46 2960,-2323 2960,-2323 2960,-2323 2960,-2249 2960,-2186.03 2889.72,-2143.89 2842.9,-2122.81\"/>\n",
       "<polygon fill=\"black\" stroke=\"black\" points=\"2844.16,-2119.54 2833.59,-2118.75 2841.36,-2125.95 2844.16,-2119.54\"/>\n",
       "</g>\n",
       "<!-- ENSG00000105991 -->\n",
       "<g id=\"node110\" class=\"node\">\n",
       "<title>ENSG00000105991</title>\n",
       "<ellipse fill=\"lightgray\" stroke=\"black\" cx=\"3799\" cy=\"-2106\" rx=\"103.18\" ry=\"18\"/>\n",
       "<text text-anchor=\"middle\" x=\"3799\" y=\"-2102.3\" font-family=\"Times,serif\" font-size=\"14.00\">ENSG00000105991</text>\n",
       "</g>\n",
       "<!-- PITX1&#45;&gt;ENSG00000105991 -->\n",
       "<g id=\"edge119\" class=\"edge\">\n",
       "<title>PITX1&#45;&gt;ENSG00000105991</title>\n",
       "<path fill=\"none\" stroke=\"black\" d=\"M3023.14,-2453.69C3112,-2417.83 3394.31,-2302.67 3623,-2196 3670.29,-2173.94 3723.64,-2146.61 3759.08,-2128.1\"/>\n",
       "<polygon fill=\"black\" stroke=\"black\" points=\"3760.9,-2131.1 3768.14,-2123.36 3757.65,-2124.9 3760.9,-2131.1\"/>\n",
       "</g>\n",
       "<!-- IPO13 -->\n",
       "<g id=\"node113\" class=\"node\">\n",
       "<title>IPO13</title>\n",
       "<ellipse fill=\"lightgray\" stroke=\"black\" cx=\"2286\" cy=\"-1890\" rx=\"39.79\" ry=\"18\"/>\n",
       "<text text-anchor=\"middle\" x=\"2286\" y=\"-1886.3\" font-family=\"Times,serif\" font-size=\"14.00\">IPO13</text>\n",
       "</g>\n",
       "<!-- PITX1&#45;&gt;IPO13 -->\n",
       "<g id=\"edge125\" class=\"edge\">\n",
       "<title>PITX1&#45;&gt;IPO13</title>\n",
       "<path fill=\"none\" stroke=\"black\" d=\"M2957.52,-2462.1C2918.29,-2457.34 2856.73,-2444.83 2815,-2412 2742.39,-2354.87 2771.17,-2302.11 2711,-2232 2586.08,-2086.45 2392.44,-1957.55 2317.29,-1910.23\"/>\n",
       "<polygon fill=\"black\" stroke=\"black\" points=\"2319.06,-1907.21 2308.73,-1904.86 2315.35,-1913.14 2319.06,-1907.21\"/>\n",
       "</g>\n",
       "<!-- TLE5&#45;&gt;AR -->\n",
       "<g id=\"edge145\" class=\"edge\">\n",
       "<title>TLE5&#45;&gt;AR</title>\n",
       "<path fill=\"none\" stroke=\"black\" d=\"M2098.71,-2176.53C1996.22,-2174.69 1689.98,-2165.81 1440,-2124 1064.89,-2061.27 933.91,-2110.52 612,-1908 565.34,-1878.64 522.82,-1847.38 551,-1800 593.36,-1728.77 692.06,-1695.6 745.36,-1682.4\"/>\n",
       "<polygon fill=\"black\" stroke=\"black\" points=\"746.46,-1685.74 755.38,-1680.02 744.84,-1678.92 746.46,-1685.74\"/>\n",
       "</g>\n",
       "<!-- TLE5&#45;&gt;KRTAP6&#45;2 -->\n",
       "<g id=\"edge191\" class=\"edge\">\n",
       "<title>TLE5&#45;&gt;KRTAP6&#45;2</title>\n",
       "<path fill=\"none\" stroke=\"black\" d=\"M2163.6,-2168.3C2184.56,-2160.41 2211.13,-2146.51 2224,-2124 2236.5,-2102.12 2218.2,-1555.32 2198,-1512 2188.17,-1490.91 2175.52,-1493.33 2160,-1476 2130.05,-1442.56 2038,-1359.89 2038,-1315 2038,-1315 2038,-1315 2038,-1097 2038,-873.78 2391.55,-824.76 2541.76,-814.02\"/>\n",
       "<polygon fill=\"black\" stroke=\"black\" points=\"2542.05,-817.5 2551.79,-813.33 2541.57,-810.52 2542.05,-817.5\"/>\n",
       "</g>\n",
       "<!-- TLE5&#45;&gt;PRR3 -->\n",
       "<g id=\"edge196\" class=\"edge\">\n",
       "<title>TLE5&#45;&gt;PRR3</title>\n",
       "<path fill=\"none\" stroke=\"black\" d=\"M2139.74,-2160.1C2165.23,-2082.06 2262.49,-1750.28 2160,-1512 2150.81,-1490.63 2138.19,-1492.71 2122,-1476 2090.77,-1443.76 2000,-1359.89 2000,-1315 2000,-1315 2000,-1315 2000,-1025 2000,-777.19 2418.67,-743.72 2561.17,-739.5\"/>\n",
       "<polygon fill=\"black\" stroke=\"black\" points=\"2561.43,-742.99 2571.34,-739.23 2561.25,-736 2561.43,-742.99\"/>\n",
       "</g>\n",
       "<!-- TLE5&#45;&gt;CCDC57 -->\n",
       "<g id=\"edge205\" class=\"edge\">\n",
       "<title>TLE5&#45;&gt;CCDC57</title>\n",
       "<path fill=\"none\" stroke=\"black\" d=\"M2134,-2159.86C2134,-2108.31 2134,-1950.14 2134,-1819 2134,-1819 2134,-1819 2134,-1745 2134,-1549.86 2049.2,-1516.27 1985,-1332 1929.47,-1172.6 1910.33,-1134.31 1864,-972 1834.8,-869.68 1809,-845.4 1809,-739 1809,-739 1809,-739 1809,-665 1809,-618.86 1776.98,-573.55 1753.97,-546.95\"/>\n",
       "<polygon fill=\"black\" stroke=\"black\" points=\"1756.43,-544.45 1747.16,-539.31 1751.2,-549.11 1756.43,-544.45\"/>\n",
       "</g>\n",
       "<!-- TLE5&#45;&gt;RBPMS -->\n",
       "<g id=\"edge215\" class=\"edge\">\n",
       "<title>TLE5&#45;&gt;RBPMS</title>\n",
       "<path fill=\"none\" stroke=\"black\" d=\"M2169.26,-2176.52C2342.68,-2173.97 3100.84,-2160.78 3199,-2124 3780.93,-1905.93 4066,-1648.44 4066,-1027 4066,-1027 4066,-1027 4066,-953 4066,-757.56 3949.08,-732.45 3915,-540 3911.26,-518.9 3915.19,-437.97 3918,-432 3923.99,-419.29 3934.57,-408.3 3945.13,-399.67\"/>\n",
       "<polygon fill=\"black\" stroke=\"black\" points=\"3947.32,-402.4 3953.13,-393.54 3943.07,-396.84 3947.32,-402.4\"/>\n",
       "</g>\n",
       "<!-- TLE5&#45;&gt;PITX2 -->\n",
       "<g id=\"edge222\" class=\"edge\">\n",
       "<title>TLE5&#45;&gt;PITX2</title>\n",
       "<path fill=\"none\" stroke=\"black\" d=\"M2169.25,-2177.2C2274.46,-2177.21 2595.04,-2172.9 2855,-2124 3335.41,-2033.63 3442.5,-1889.77 3792,-1548 3892.53,-1449.69 4006,-1455.61 4006,-1315 4006,-1315 4006,-1315 4006,-1241 4006,-1044.18 3726.48,-462.82 3662.8,-332.93\"/>\n",
       "<polygon fill=\"black\" stroke=\"black\" points=\"3665.83,-331.15 3658.28,-323.72 3659.54,-334.23 3665.83,-331.15\"/>\n",
       "</g>\n",
       "<!-- TLE5&#45;&gt;PARVG -->\n",
       "<g id=\"edge232\" class=\"edge\">\n",
       "<title>TLE5&#45;&gt;PARVG</title>\n",
       "<path fill=\"none\" stroke=\"black\" d=\"M2098.77,-2177.06C1971.37,-2176.84 1522.84,-2172.48 1157,-2124 1004.31,-2103.77 963.67,-2102.06 818,-2052 693.81,-2009.32 649.43,-2004.16 560,-1908 500.38,-1843.89 451.23,-1810.68 480,-1728 533.65,-1573.81 581.59,-1543.31 708,-1440 762.79,-1395.22 782.63,-1389.63 850,-1368 950.61,-1335.7 1008.14,-1404.5 1085,-1332 1101.56,-1316.38 1105.5,-1290.14 1105.78,-1270.19\"/>\n",
       "<polygon fill=\"black\" stroke=\"black\" points=\"1109.27,-1270.09 1105.62,-1260.14 1102.28,-1270.2 1109.27,-1270.09\"/>\n",
       "</g>\n",
       "<!-- TLE5&#45;&gt;CTBP2 -->\n",
       "<g id=\"edge247\" class=\"edge\">\n",
       "<title>TLE5&#45;&gt;CTBP2</title>\n",
       "<path fill=\"none\" stroke=\"black\" d=\"M2166.72,-2171.35C2195.52,-2164.73 2236.7,-2151.05 2262,-2124 2331.23,-2050 2316.44,-2007.62 2335,-1908 2384.93,-1640.06 2300.22,-1558.38 2374,-1296 2399.39,-1205.7 2437.79,-1101.21 2455.89,-1053.38\"/>\n",
       "<polygon fill=\"black\" stroke=\"black\" points=\"2459.25,-1054.38 2459.53,-1043.79 2452.7,-1051.89 2459.25,-1054.38\"/>\n",
       "</g>\n",
       "<!-- TLE5&#45;&gt;MKRN3 -->\n",
       "<g id=\"edge262\" class=\"edge\">\n",
       "<title>TLE5&#45;&gt;MKRN3</title>\n",
       "<path fill=\"none\" stroke=\"black\" d=\"M2098.86,-2176.63C1840.75,-2173.81 247.02,-2155.16 209,-2124 124.15,-2054.46 156.95,-1734.75 176,-1656 211.16,-1510.64 326.51,-1534.81 399,-1404 418.61,-1368.62 418,-1355.45 418,-1315 418,-1315 418,-1315 418,-593 418,-522.75 449.2,-444.48 467.34,-404.91\"/>\n",
       "<polygon fill=\"black\" stroke=\"black\" points=\"470.57,-406.26 471.64,-395.72 464.23,-403.29 470.57,-406.26\"/>\n",
       "</g>\n",
       "<!-- TLE5&#45;&gt;MSX2 -->\n",
       "<g id=\"edge139\" class=\"edge\">\n",
       "<title>TLE5&#45;&gt;MSX2</title>\n",
       "<path fill=\"none\" stroke=\"black\" d=\"M2100.56,-2172.13C2040.74,-2163.32 1911.49,-2143.79 1803,-2124 1790.45,-2121.71 1776.88,-2119.02 1764.42,-2116.47\"/>\n",
       "<polygon fill=\"black\" stroke=\"black\" points=\"1764.76,-2112.96 1754.26,-2114.36 1763.34,-2119.82 1764.76,-2112.96\"/>\n",
       "</g>\n",
       "<!-- TLE5&#45;&gt;TCF7L2 -->\n",
       "<g id=\"edge272\" class=\"edge\">\n",
       "<title>TLE5&#45;&gt;TCF7L2</title>\n",
       "<path fill=\"none\" stroke=\"black\" d=\"M2103.05,-2169.28C2049.21,-2153.78 1944,-2113.45 1944,-2035 1944,-2035 1944,-2035 1944,-1961 1944,-1908.43 1895.99,-1864.06 1862.56,-1839.54\"/>\n",
       "<polygon fill=\"black\" stroke=\"black\" points=\"1864.59,-1836.69 1854.41,-1833.74 1860.53,-1842.39 1864.59,-1836.69\"/>\n",
       "</g>\n",
       "<!-- GLIS2 -->\n",
       "<g id=\"node82\" class=\"node\">\n",
       "<title>GLIS2</title>\n",
       "<ellipse fill=\"lightgray\" stroke=\"black\" cx=\"2560\" cy=\"-1818\" rx=\"39.79\" ry=\"18\"/>\n",
       "<text text-anchor=\"middle\" x=\"2560\" y=\"-1814.3\" font-family=\"Times,serif\" font-size=\"14.00\">GLIS2</text>\n",
       "</g>\n",
       "<!-- TLE5&#45;&gt;GLIS2 -->\n",
       "<g id=\"edge84\" class=\"edge\">\n",
       "<title>TLE5&#45;&gt;GLIS2</title>\n",
       "<path fill=\"none\" stroke=\"black\" d=\"M2167.79,-2172.89C2204.27,-2167.08 2262.68,-2153.65 2304,-2124 2416.46,-2043.3 2389.12,-1969.87 2487,-1872 2499.45,-1859.55 2515.03,-1847.82 2528.6,-1838.58\"/>\n",
       "<polygon fill=\"black\" stroke=\"black\" points=\"2530.79,-1841.33 2537.18,-1832.88 2526.91,-1835.5 2530.79,-1841.33\"/>\n",
       "</g>\n",
       "<!-- TLE5&#45;&gt;NUTM1 -->\n",
       "<g id=\"edge276\" class=\"edge\">\n",
       "<title>TLE5&#45;&gt;NUTM1</title>\n",
       "<path fill=\"none\" stroke=\"black\" d=\"M2098.87,-2177.24C1959.63,-2177.25 1454,-2168.11 1454,-2035 1454,-2035 1454,-2035 1454,-1961 1454,-1888.65 1456.03,-1867.5 1430,-1800 1423.08,-1782.06 1416.23,-1780.28 1406,-1764 1307.07,-1606.6 1242.07,-1583.31 1193,-1404 1188.78,-1388.57 1189.62,-1383.64 1193,-1368 1194.96,-1358.92 1198.61,-1349.52 1202.49,-1341.2\"/>\n",
       "<polygon fill=\"black\" stroke=\"black\" points=\"1205.73,-1342.53 1207.05,-1332.02 1199.46,-1339.42 1205.73,-1342.53\"/>\n",
       "</g>\n",
       "<!-- TLE5&#45;&gt;KANK2 -->\n",
       "<g id=\"edge277\" class=\"edge\">\n",
       "<title>TLE5&#45;&gt;KANK2</title>\n",
       "<path fill=\"none\" stroke=\"black\" d=\"M2098.74,-2177.03C1849.73,-2177.09 363.93,-2175.3 285,-2124 191.23,-2063.06 190,-2002.83 190,-1891 190,-1891 190,-1891 190,-1745 190,-1550.02 356.91,-1565.6 466,-1404 620.1,-1175.71 646,-1086.43 646,-811 646,-811 646,-811 646,-449 646,-409 646,-362.65 646,-334.08\"/>\n",
       "<polygon fill=\"black\" stroke=\"black\" points=\"649.5,-334.05 646,-324.05 642.5,-334.05 649.5,-334.05\"/>\n",
       "</g>\n",
       "<!-- TLE5&#45;&gt;GOLGA6L9 -->\n",
       "<g id=\"edge278\" class=\"edge\">\n",
       "<title>TLE5&#45;&gt;GOLGA6L9</title>\n",
       "<path fill=\"none\" stroke=\"black\" d=\"M2098.75,-2176.73C1925.57,-2175.22 1163.82,-2166.24 931,-2124 727.71,-2087.12 619.98,-2139.78 489,-1980 297.36,-1746.22 722,-1184.77 722,-1027 722,-1027 722,-1027 722,-953 722,-683.44 749.04,-357.74 757.5,-262.43\"/>\n",
       "<polygon fill=\"black\" stroke=\"black\" points=\"761.01,-262.48 758.42,-252.21 754.04,-261.86 761.01,-262.48\"/>\n",
       "</g>\n",
       "<!-- TLE5&#45;&gt;PFDN5 -->\n",
       "<g id=\"edge282\" class=\"edge\">\n",
       "<title>TLE5&#45;&gt;PFDN5</title>\n",
       "<path fill=\"none\" stroke=\"black\" d=\"M2168.18,-2173.78C2252.02,-2165.83 2474.58,-2144.44 2660,-2124 2689.98,-2120.7 2723.48,-2116.7 2750.41,-2113.41\"/>\n",
       "<polygon fill=\"black\" stroke=\"black\" points=\"2750.89,-2116.88 2760.39,-2112.19 2750.04,-2109.93 2750.89,-2116.88\"/>\n",
       "</g>\n",
       "<!-- IRX2 -->\n",
       "<g id=\"node103\" class=\"node\">\n",
       "<title>IRX2</title>\n",
       "<ellipse fill=\"lightyellow\" stroke=\"black\" cx=\"2631\" cy=\"-2034\" rx=\"33.29\" ry=\"18\"/>\n",
       "<text text-anchor=\"middle\" x=\"2631\" y=\"-2030.3\" font-family=\"Times,serif\" font-size=\"14.00\">IRX2</text>\n",
       "</g>\n",
       "<!-- TLE5&#45;&gt;IRX2 -->\n",
       "<g id=\"edge135\" class=\"edge\">\n",
       "<title>TLE5&#45;&gt;IRX2</title>\n",
       "<path fill=\"none\" stroke=\"black\" d=\"M2165.14,-2169.57C2205.92,-2159.73 2279.58,-2141.55 2342,-2124 2432.87,-2098.45 2538.67,-2064.88 2593.59,-2047.17\"/>\n",
       "<polygon fill=\"black\" stroke=\"black\" points=\"2594.8,-2050.46 2603.24,-2044.05 2592.64,-2043.79 2594.8,-2050.46\"/>\n",
       "</g>\n",
       "<!-- TLE5&#45;&gt;SOX5 -->\n",
       "<g id=\"edge283\" class=\"edge\">\n",
       "<title>TLE5&#45;&gt;SOX5</title>\n",
       "<path fill=\"none\" stroke=\"black\" d=\"M2099.59,-2174.31C2051.21,-2169.48 1961.28,-2156.58 1892,-2124 1831.55,-2095.57 1678.99,-1965.19 1618.89,-1912.84\"/>\n",
       "<polygon fill=\"black\" stroke=\"black\" points=\"1620.88,-1909.93 1611.04,-1905.99 1616.27,-1915.21 1620.88,-1909.93\"/>\n",
       "</g>\n",
       "<!-- LMO2 -->\n",
       "<g id=\"node108\" class=\"node\">\n",
       "<title>LMO2</title>\n",
       "<ellipse fill=\"lightgray\" stroke=\"black\" cx=\"1465\" cy=\"-1530\" rx=\"38.99\" ry=\"18\"/>\n",
       "<text text-anchor=\"middle\" x=\"1465\" y=\"-1526.3\" font-family=\"Times,serif\" font-size=\"14.00\">LMO2</text>\n",
       "</g>\n",
       "<!-- TLE5&#45;&gt;LMO2 -->\n",
       "<g id=\"edge284\" class=\"edge\">\n",
       "<title>TLE5&#45;&gt;LMO2</title>\n",
       "<path fill=\"none\" stroke=\"black\" d=\"M2099.71,-2173.99C2061.76,-2169.12 2000.5,-2156.47 1959,-2124 1922.74,-2095.63 1906,-2081.04 1906,-2035 1906,-2035 1906,-2035 1906,-1889 1906,-1848.55 1914.98,-1829.21 1887,-1800 1842.86,-1753.91 1803.98,-1794.63 1748,-1764 1644.82,-1707.54 1648.16,-1654.48 1554,-1584 1536.75,-1571.09 1516.15,-1558.65 1499.12,-1549.08\"/>\n",
       "<polygon fill=\"black\" stroke=\"black\" points=\"1500.51,-1545.85 1490.07,-1544.07 1497.12,-1551.97 1500.51,-1545.85\"/>\n",
       "</g>\n",
       "<!-- ABI2 -->\n",
       "<g id=\"node109\" class=\"node\">\n",
       "<title>ABI2</title>\n",
       "<ellipse fill=\"lightgray\" stroke=\"black\" cx=\"1519\" cy=\"-1458\" rx=\"33.29\" ry=\"18\"/>\n",
       "<text text-anchor=\"middle\" x=\"1519\" y=\"-1454.3\" font-family=\"Times,serif\" font-size=\"14.00\">ABI2</text>\n",
       "</g>\n",
       "<!-- TLE5&#45;&gt;ABI2 -->\n",
       "<g id=\"edge285\" class=\"edge\">\n",
       "<title>TLE5&#45;&gt;ABI2</title>\n",
       "<path fill=\"none\" stroke=\"black\" d=\"M2105.64,-2167.02C2085.59,-2158.55 2059.6,-2144.48 2044,-2124 2019.17,-2091.41 2020,-2075.97 2020,-2035 2020,-2035 2020,-2035 2020,-1961 2020,-1874.34 1977.17,-1854.76 1910,-1800 1877.88,-1773.82 1853.62,-1792.98 1824,-1764 1786.46,-1727.26 1808.52,-1697.25 1776,-1656 1711,-1573.53 1604.03,-1506.53 1550.95,-1476.33\"/>\n",
       "<polygon fill=\"black\" stroke=\"black\" points=\"1552.42,-1473.14 1541.99,-1471.29 1548.99,-1479.24 1552.42,-1473.14\"/>\n",
       "</g>\n",
       "<!-- TLE5&#45;&gt;ENSG00000105991 -->\n",
       "<g id=\"edge286\" class=\"edge\">\n",
       "<title>TLE5&#45;&gt;ENSG00000105991</title>\n",
       "<path fill=\"none\" stroke=\"black\" d=\"M2169.21,-2176.03C2385.22,-2170.03 3526.91,-2137.88 3682,-2124 3693.07,-2123.01 3704.69,-2121.68 3716.13,-2120.19\"/>\n",
       "<polygon fill=\"black\" stroke=\"black\" points=\"3716.68,-2123.65 3726.12,-2118.85 3715.75,-2116.71 3716.68,-2123.65\"/>\n",
       "</g>\n",
       "<!-- GLIS2&#45;&gt;CTNNB1 -->\n",
       "<g id=\"edge85\" class=\"edge\">\n",
       "<title>GLIS2&#45;&gt;CTNNB1</title>\n",
       "<path fill=\"none\" stroke=\"black\" d=\"M2520.78,-1815.23C2311.26,-1805.8 1323.77,-1761.35 1066.44,-1749.77\"/>\n",
       "<polygon fill=\"black\" stroke=\"black\" points=\"1066.31,-1746.26 1056.16,-1749.3 1065.99,-1753.25 1066.31,-1746.26\"/>\n",
       "</g>\n",
       "<!-- GLIS2&#45;&gt;CSNK2B -->\n",
       "<g id=\"edge131\" class=\"edge\">\n",
       "<title>GLIS2&#45;&gt;CSNK2B</title>\n",
       "<path fill=\"none\" stroke=\"black\" d=\"M2572.83,-1800.79C2590.43,-1779.88 2624.22,-1744.26 2662,-1728 2792.71,-1671.76 3290,-1745.29 3290,-1603 3290,-1603 3290,-1603 3290,-1529 3290,-1486.35 3269.37,-1440.52 3254.36,-1412.8\"/>\n",
       "<polygon fill=\"black\" stroke=\"black\" points=\"3257.25,-1410.81 3249.32,-1403.79 3251.14,-1414.22 3257.25,-1410.81\"/>\n",
       "</g>\n",
       "<!-- GLIS2&#45;&gt;KRTAP6&#45;2 -->\n",
       "<g id=\"edge192\" class=\"edge\">\n",
       "<title>GLIS2&#45;&gt;KRTAP6&#45;2</title>\n",
       "<path fill=\"none\" stroke=\"black\" d=\"M2544.46,-1801.12C2495.13,-1749.45 2342.21,-1579.28 2290,-1404 2285.43,-1388.67 2287.34,-1383.78 2290,-1368 2310.24,-1248.02 2414.49,-946.43 2504,-864 2520.65,-848.66 2542.58,-836.62 2562,-827.91\"/>\n",
       "<polygon fill=\"black\" stroke=\"black\" points=\"2563.5,-831.08 2571.3,-823.91 2560.73,-824.65 2563.5,-831.08\"/>\n",
       "</g>\n",
       "<!-- GLIS2&#45;&gt;RBPMS -->\n",
       "<g id=\"edge216\" class=\"edge\">\n",
       "<title>GLIS2&#45;&gt;RBPMS</title>\n",
       "<path fill=\"none\" stroke=\"black\" d=\"M2598.58,-1813.38C2782.32,-1795.37 3566.88,-1709.91 3740,-1548 3763.45,-1526.07 3990,-1059.1 3990,-1027 3990,-1027 3990,-1027 3990,-953 3990,-794.02 3906.29,-769.11 3882,-612 3869.78,-532.94 3841.49,-500.99 3882,-432 3892.8,-413.61 3912.56,-401.13 3931.27,-392.93\"/>\n",
       "<polygon fill=\"black\" stroke=\"black\" points=\"3932.67,-396.14 3940.61,-389.13 3930.03,-389.65 3932.67,-396.14\"/>\n",
       "</g>\n",
       "<!-- GLIS2&#45;&gt;CTBP2 -->\n",
       "<g id=\"edge248\" class=\"edge\">\n",
       "<title>GLIS2&#45;&gt;CTBP2</title>\n",
       "<path fill=\"none\" stroke=\"black\" d=\"M2560.84,-1800C2561.78,-1770.02 2561.31,-1706.19 2544,-1656 2506.93,-1548.53 2480.91,-1526.38 2407,-1440 2391.23,-1421.57 2376,-1426.09 2366,-1404 2359.4,-1389.42 2362.32,-1383.57 2366,-1368 2374.22,-1333.18 2382.18,-1325.78 2402,-1296 2413.7,-1278.42 2422.99,-1278.59 2433,-1260 2464.56,-1201.42 2464.8,-1181.9 2474,-1116 2476.88,-1095.39 2474.54,-1071.94 2471.67,-1054.28\"/>\n",
       "<polygon fill=\"black\" stroke=\"black\" points=\"2475.05,-1053.35 2469.85,-1044.12 2468.16,-1054.58 2475.05,-1053.35\"/>\n",
       "</g>\n",
       "<!-- GLIS2&#45;&gt;KRTAP6&#45;1 -->\n",
       "<g id=\"edge274\" class=\"edge\">\n",
       "<title>GLIS2&#45;&gt;KRTAP6&#45;1</title>\n",
       "<path fill=\"none\" stroke=\"black\" d=\"M2592.12,-1807.25C2652.87,-1789.15 2788.99,-1750.17 2906,-1728 3034.48,-1703.66 3069.77,-1717.58 3198,-1692 3227.29,-1686.16 3695,-1569.24 3716,-1548 3753.68,-1509.9 3778,-1368.58 3778,-1315 3778,-1315 3778,-1315 3778,-1241 3778,-1148.38 3741.97,-1130.93 3710,-1044 3692.77,-997.15 3675.1,-941.69 3665.14,-909.61\"/>\n",
       "<polygon fill=\"black\" stroke=\"black\" points=\"3668.49,-908.57 3662.19,-900.05 3661.8,-910.64 3668.49,-908.57\"/>\n",
       "</g>\n",
       "<!-- GLIS2&#45;&gt;GOLGA6L9 -->\n",
       "<g id=\"edge287\" class=\"edge\">\n",
       "<title>GLIS2&#45;&gt;GOLGA6L9</title>\n",
       "<path fill=\"none\" stroke=\"black\" d=\"M2520.51,-1815.34C2391.17,-1809.65 1985.6,-1789.94 1933,-1764 1908.73,-1752.03 1787.48,-1603.76 1769,-1584 1748.28,-1561.84 1580,-1417.33 1580,-1387 1580,-1387 1580,-1387 1580,-1169 1580,-888.37 1197,-947.63 1197,-667 1197,-667 1197,-667 1197,-377 1197,-323.21 1162.53,-313.18 1115,-288 1066.88,-262.51 919.02,-247.12 830.02,-239.92\"/>\n",
       "<polygon fill=\"black\" stroke=\"black\" points=\"830.25,-236.43 820,-239.13 829.69,-243.41 830.25,-236.43\"/>\n",
       "</g>\n",
       "<!-- PRRX1 -->\n",
       "<g id=\"node83\" class=\"node\">\n",
       "<title>PRRX1</title>\n",
       "<ellipse fill=\"lightyellow\" stroke=\"black\" cx=\"755\" cy=\"-1242\" rx=\"42.79\" ry=\"18\"/>\n",
       "<text text-anchor=\"middle\" x=\"755\" y=\"-1238.3\" font-family=\"Times,serif\" font-size=\"14.00\">PRRX1</text>\n",
       "</g>\n",
       "<!-- SUOX -->\n",
       "<g id=\"node84\" class=\"node\">\n",
       "<title>SUOX</title>\n",
       "<ellipse fill=\"lightgray\" stroke=\"black\" cx=\"757\" cy=\"-1170\" rx=\"38.19\" ry=\"18\"/>\n",
       "<text text-anchor=\"middle\" x=\"757\" y=\"-1166.3\" font-family=\"Times,serif\" font-size=\"14.00\">SUOX</text>\n",
       "</g>\n",
       "<!-- PRRX1&#45;&gt;SUOX -->\n",
       "<g id=\"edge86\" class=\"edge\">\n",
       "<title>PRRX1&#45;&gt;SUOX</title>\n",
       "<path fill=\"none\" stroke=\"black\" d=\"M755.49,-1223.7C755.71,-1215.98 755.98,-1206.71 756.23,-1198.11\"/>\n",
       "<polygon fill=\"black\" stroke=\"black\" points=\"759.72,-1198.2 756.51,-1188.1 752.73,-1198 759.72,-1198.2\"/>\n",
       "</g>\n",
       "<!-- SUOX&#45;&gt;CTAG1B -->\n",
       "<g id=\"edge180\" class=\"edge\">\n",
       "<title>SUOX&#45;&gt;CTAG1B</title>\n",
       "<path fill=\"none\" stroke=\"black\" d=\"M793.75,-1164.73C895.33,-1152.92 1180.42,-1119.77 1302.43,-1105.58\"/>\n",
       "<polygon fill=\"black\" stroke=\"black\" points=\"1303.15,-1109.02 1312.68,-1104.39 1302.34,-1102.06 1303.15,-1109.02\"/>\n",
       "</g>\n",
       "<!-- SUOX&#45;&gt;DDIT4L -->\n",
       "<g id=\"edge87\" class=\"edge\">\n",
       "<title>SUOX&#45;&gt;DDIT4L</title>\n",
       "<path fill=\"none\" stroke=\"black\" d=\"M757.59,-1151.95C758.47,-1125.3 760,-1072.12 760,-1027 760,-1027 760,-1027 760,-953 760,-852.07 836,-839.93 836,-739 836,-739 836,-739 836,-593 836,-546.88 867.55,-501.24 889.99,-474.61\"/>\n",
       "<polygon fill=\"black\" stroke=\"black\" points=\"892.71,-476.82 896.62,-466.98 887.42,-472.24 892.71,-476.82\"/>\n",
       "</g>\n",
       "<!-- SUOX&#45;&gt;GOLGA6L9 -->\n",
       "<g id=\"edge288\" class=\"edge\">\n",
       "<title>SUOX&#45;&gt;GOLGA6L9</title>\n",
       "<path fill=\"none\" stroke=\"black\" d=\"M744.81,-1152.87C709.22,-1104.14 608,-953.05 608,-811 608,-811 608,-811 608,-665 608,-506.69 336.71,-492.07 424,-360 481.59,-272.86 608.07,-246.25 688.37,-238.26\"/>\n",
       "<polygon fill=\"black\" stroke=\"black\" points=\"688.77,-241.74 698.41,-237.33 688.13,-234.77 688.77,-241.74\"/>\n",
       "</g>\n",
       "<!-- RUNX2 -->\n",
       "<g id=\"node85\" class=\"node\">\n",
       "<title>RUNX2</title>\n",
       "<ellipse fill=\"lightyellow\" stroke=\"black\" cx=\"1270\" cy=\"-522\" rx=\"45.49\" ry=\"18\"/>\n",
       "<text text-anchor=\"middle\" x=\"1270\" y=\"-518.3\" font-family=\"Times,serif\" font-size=\"14.00\">RUNX2</text>\n",
       "</g>\n",
       "<!-- RUNX2&#45;&gt;FOS -->\n",
       "<g id=\"edge143\" class=\"edge\">\n",
       "<title>RUNX2&#45;&gt;FOS</title>\n",
       "<path fill=\"none\" stroke=\"black\" d=\"M1293.27,-506.33C1310.42,-495.51 1333.86,-480.72 1352.2,-469.16\"/>\n",
       "<polygon fill=\"black\" stroke=\"black\" points=\"1354.15,-472.07 1360.74,-463.77 1350.42,-466.15 1354.15,-472.07\"/>\n",
       "</g>\n",
       "<!-- RUNX2&#45;&gt;JUN -->\n",
       "<g id=\"edge88\" class=\"edge\">\n",
       "<title>RUNX2&#45;&gt;JUN</title>\n",
       "<path fill=\"none\" stroke=\"black\" d=\"M1278.02,-504.05C1288.99,-483.04 1310.79,-448.03 1341,-432 1397.27,-402.15 1841.03,-384.93 1977.93,-380.28\"/>\n",
       "<polygon fill=\"black\" stroke=\"black\" points=\"1978.11,-383.78 1987.99,-379.95 1977.88,-376.78 1978.11,-383.78\"/>\n",
       "</g>\n",
       "<!-- JUN&#45;&gt;TUBB -->\n",
       "<g id=\"edge164\" class=\"edge\">\n",
       "<title>JUN&#45;&gt;TUBB</title>\n",
       "<path fill=\"none\" stroke=\"black\" d=\"M2046.65,-372.83C2126.93,-361.15 2354.63,-328.01 2452.91,-313.71\"/>\n",
       "<polygon fill=\"black\" stroke=\"black\" points=\"2453.45,-317.17 2462.84,-312.26 2452.44,-310.24 2453.45,-317.17\"/>\n",
       "</g>\n",
       "<!-- JUN&#45;&gt;KPNA2 -->\n",
       "<g id=\"edge89\" class=\"edge\">\n",
       "<title>JUN&#45;&gt;KPNA2</title>\n",
       "<path fill=\"none\" stroke=\"black\" d=\"M2025.51,-395.66C2036.58,-421.8 2056,-474.3 2056,-521 2056,-667 2056,-667 2056,-667 2056,-873.56 2053.4,-949.76 2176,-1116 2278.19,-1254.58 2475.12,-1338.74 2561.56,-1370.5\"/>\n",
       "<polygon fill=\"black\" stroke=\"black\" points=\"2560.46,-1373.83 2571.05,-1373.94 2562.84,-1367.24 2560.46,-1373.83\"/>\n",
       "</g>\n",
       "<!-- KPNA2&#45;&gt;NUTM1 -->\n",
       "<g id=\"edge90\" class=\"edge\">\n",
       "<title>KPNA2&#45;&gt;NUTM1</title>\n",
       "<path fill=\"none\" stroke=\"black\" d=\"M2560.2,-1382.79C2356.69,-1372.52 1503.69,-1329.47 1274.11,-1317.88\"/>\n",
       "<polygon fill=\"black\" stroke=\"black\" points=\"1274.13,-1314.38 1263.97,-1317.37 1273.78,-1321.37 1274.13,-1314.38\"/>\n",
       "</g>\n",
       "<!-- NUTM1&#45;&gt;CCHCR1 -->\n",
       "<g id=\"edge171\" class=\"edge\">\n",
       "<title>NUTM1&#45;&gt;CCHCR1</title>\n",
       "<path fill=\"none\" stroke=\"black\" d=\"M1244.72,-1299.34C1266.52,-1288.59 1297.13,-1273.5 1321.18,-1261.64\"/>\n",
       "<polygon fill=\"black\" stroke=\"black\" points=\"1322.96,-1264.67 1330.38,-1257.11 1319.86,-1258.39 1322.96,-1264.67\"/>\n",
       "</g>\n",
       "<!-- NUTM1&#45;&gt;KANK2 -->\n",
       "<g id=\"edge91\" class=\"edge\">\n",
       "<title>NUTM1&#45;&gt;KANK2</title>\n",
       "<path fill=\"none\" stroke=\"black\" d=\"M1173.05,-1306.96C1147.39,-1303.53 1114.39,-1299.28 1085,-1296 1000.26,-1286.55 770.21,-1312.47 703,-1260 632.97,-1205.34 570,-971.84 570,-883 570,-883 570,-883 570,-665 570,-538.53 615.95,-392.3 636.39,-333.49\"/>\n",
       "<polygon fill=\"black\" stroke=\"black\" points=\"639.76,-334.46 639.78,-323.87 633.16,-332.14 639.76,-334.46\"/>\n",
       "</g>\n",
       "<!-- KANK2&#45;&gt;GOLGA6L9 -->\n",
       "<g id=\"edge92\" class=\"edge\">\n",
       "<title>KANK2&#45;&gt;GOLGA6L9</title>\n",
       "<path fill=\"none\" stroke=\"black\" d=\"M669.34,-290.67C685.69,-280.63 707.79,-267.06 726.08,-255.83\"/>\n",
       "<polygon fill=\"black\" stroke=\"black\" points=\"728.02,-258.75 734.71,-250.53 724.35,-252.78 728.02,-258.75\"/>\n",
       "</g>\n",
       "<!-- GOLGA6L9&#45;&gt;DAXX -->\n",
       "<g id=\"edge150\" class=\"edge\">\n",
       "<title>GOLGA6L9&#45;&gt;DAXX</title>\n",
       "<path fill=\"none\" stroke=\"black\" d=\"M697.8,-236.08C580.74,-239.01 332.7,-249.67 257,-288 209.28,-312.16 176,-323.52 176,-377 176,-667 176,-667 176,-667 176,-763.6 214,-784.4 214,-881 214,-1171 214,-1171 214,-1171 214,-1274.6 148.07,-1330.42 221,-1404 253.37,-1436.66 274.92,-1423.93 318,-1440 360.69,-1455.93 369.73,-1465.21 414,-1476 790.06,-1567.68 1259.64,-1593.3 1407.9,-1599.35\"/>\n",
       "<polygon fill=\"black\" stroke=\"black\" points=\"1407.88,-1602.85 1418.02,-1599.75 1408.16,-1595.86 1407.88,-1602.85\"/>\n",
       "</g>\n",
       "<!-- GOLGA6L9&#45;&gt;CCHCR1 -->\n",
       "<g id=\"edge172\" class=\"edge\">\n",
       "<title>GOLGA6L9&#45;&gt;CCHCR1</title>\n",
       "<path fill=\"none\" stroke=\"black\" d=\"M765.4,-252C768.44,-262.31 772.02,-275.79 774,-288 800.9,-453.73 798,-497.11 798,-665 798,-739 798,-739 798,-739 798,-1014.73 1179,-1176.93 1313.03,-1225.46\"/>\n",
       "<polygon fill=\"black\" stroke=\"black\" points=\"1312.03,-1228.82 1322.62,-1228.89 1314.39,-1222.23 1312.03,-1228.82\"/>\n",
       "</g>\n",
       "<!-- GOLGA6L9&#45;&gt;BAG6 -->\n",
       "<g id=\"edge182\" class=\"edge\">\n",
       "<title>GOLGA6L9&#45;&gt;BAG6</title>\n",
       "<path fill=\"none\" stroke=\"black\" d=\"M822.14,-236.28C950.55,-239.64 1240.79,-251.19 1332,-288 1379.5,-307.17 1395.24,-316.32 1422,-360 1451.88,-408.75 1438.82,-566.92 1474,-612 1530.6,-684.54 2138,-943.72 2294.43,-1009.65\"/>\n",
       "<polygon fill=\"black\" stroke=\"black\" points=\"2293.07,-1012.88 2303.65,-1013.54 2295.79,-1006.43 2293.07,-1012.88\"/>\n",
       "</g>\n",
       "<!-- GOLGA6L9&#45;&gt;RNPS1 -->\n",
       "<g id=\"edge93\" class=\"edge\">\n",
       "<title>GOLGA6L9&#45;&gt;RNPS1</title>\n",
       "<path fill=\"none\" stroke=\"black\" d=\"M815.5,-225.44C915.68,-211.8 1125.35,-183.24 1222.52,-170.01\"/>\n",
       "<polygon fill=\"black\" stroke=\"black\" points=\"1223.25,-173.44 1232.68,-168.63 1222.3,-166.51 1223.25,-173.44\"/>\n",
       "</g>\n",
       "<!-- YPEL3&#45;&gt;KRTAP6&#45;2 -->\n",
       "<g id=\"edge193\" class=\"edge\">\n",
       "<title>YPEL3&#45;&gt;KRTAP6&#45;2</title>\n",
       "<path fill=\"none\" stroke=\"black\" d=\"M3045.78,-2377.1C3068.58,-2352.37 3108,-2302.19 3108,-2251 3108,-2251 3108,-2251 3108,-2105 3108,-2064.55 3109.93,-2050.61 3089,-2016 2972.38,-1823.18 2863.47,-1846.04 2699,-1692 2634.64,-1631.72 2458.65,-1485.92 2426,-1404 2408.05,-1358.98 2420.9,-1340.1 2441,-1296 2469.94,-1232.5 2536,-1240.78 2536,-1171 2536,-1171 2536,-1171 2536,-1097 2536,-1025.44 2518.51,-1005.13 2537,-936 2547.11,-898.21 2571.46,-859.83 2588.82,-835.76\"/>\n",
       "<polygon fill=\"black\" stroke=\"black\" points=\"2591.74,-837.69 2594.86,-827.56 2586.11,-833.53 2591.74,-837.69\"/>\n",
       "</g>\n",
       "<!-- YPEL3&#45;&gt;COL8A1 -->\n",
       "<g id=\"edge213\" class=\"edge\">\n",
       "<title>YPEL3&#45;&gt;COL8A1</title>\n",
       "<path fill=\"none\" stroke=\"black\" d=\"M3070.32,-2389.48C3142.81,-2382.75 3299.71,-2366.34 3430,-2340 3833.56,-2258.41 4196,-2230.73 4196,-1819 4196,-1819 4196,-1819 4196,-1097 4196,-1000.4 4158,-979.6 4158,-883 4158,-883 4158,-883 4158,-665 4158,-615.93 4118.32,-570.97 4090.25,-545.31\"/>\n",
       "<polygon fill=\"black\" stroke=\"black\" points=\"4092.49,-542.62 4082.68,-538.6 4087.84,-547.85 4092.49,-542.62\"/>\n",
       "</g>\n",
       "<!-- YPEL3&#45;&gt;RBPMS -->\n",
       "<g id=\"edge218\" class=\"edge\">\n",
       "<title>YPEL3&#45;&gt;RBPMS</title>\n",
       "<path fill=\"none\" stroke=\"black\" d=\"M3071.86,-2392.85C3292.46,-2391.54 4310,-2378.58 4310,-2251 4310,-2251 4310,-2251 4310,-1313 4310,-993.89 4310,-914.11 4310,-595 4310,-595 4310,-595 4310,-521 4310,-402.15 4128.29,-381.4 4033.32,-378.67\"/>\n",
       "<polygon fill=\"black\" stroke=\"black\" points=\"4033.38,-375.17 4023.3,-378.44 4033.22,-382.17 4033.38,-375.17\"/>\n",
       "</g>\n",
       "<!-- YPEL3&#45;&gt;TEPSIN -->\n",
       "<g id=\"edge254\" class=\"edge\">\n",
       "<title>YPEL3&#45;&gt;TEPSIN</title>\n",
       "<path fill=\"none\" stroke=\"black\" d=\"M3026.52,-2375.98C3017.55,-2335.31 2990.61,-2230.63 2938,-2160 2823.9,-2006.82 2786.54,-1963.74 2619,-1872 2574.62,-1847.7 2551.01,-1866.97 2511,-1836 2420.54,-1765.97 2431.94,-1716.82 2371,-1620 2311.07,-1524.79 2295.9,-1501.06 2239,-1404 2226.67,-1382.97 2213.16,-1358.85 2203.29,-1341.03\"/>\n",
       "<polygon fill=\"black\" stroke=\"black\" points=\"2206.12,-1338.9 2198.22,-1331.84 2199.99,-1342.28 2206.12,-1338.9\"/>\n",
       "</g>\n",
       "<!-- YPEL3&#45;&gt;MKRN3 -->\n",
       "<g id=\"edge264\" class=\"edge\">\n",
       "<title>YPEL3&#45;&gt;MKRN3</title>\n",
       "<path fill=\"none\" stroke=\"black\" d=\"M2994.27,-2384.69C2978.1,-2381.32 2958.69,-2377.79 2941,-2376 2643.72,-2345.85 546.17,-2392.45 252,-2340 135.06,-2319.15 0,-2369.78 0,-2251 0,-2251 0,-2251 0,-1889 0,-1695.91 62,-1652.09 62,-1459 62,-1459 62,-1459 62,-1241 62,-1067.41 328,-1128.59 328,-955 328,-955 328,-955 328,-521 328,-459.98 394.23,-417.64 439.25,-395.91\"/>\n",
       "<polygon fill=\"black\" stroke=\"black\" points=\"440.93,-399 448.51,-391.59 437.96,-392.65 440.93,-399\"/>\n",
       "</g>\n",
       "<!-- YPEL3&#45;&gt;TLE5 -->\n",
       "<g id=\"edge279\" class=\"edge\">\n",
       "<title>YPEL3&#45;&gt;TLE5</title>\n",
       "<path fill=\"none\" stroke=\"black\" d=\"M2992.98,-2385.38C2944.93,-2375.4 2858.53,-2357.16 2785,-2340 2592.69,-2295.12 2545.77,-2279.13 2354,-2232 2291.7,-2216.69 2219.38,-2199.35 2175.16,-2188.8\"/>\n",
       "<polygon fill=\"black\" stroke=\"black\" points=\"2175.89,-2185.37 2165.35,-2186.46 2174.27,-2192.18 2175.89,-2185.37\"/>\n",
       "</g>\n",
       "<!-- SPG21 -->\n",
       "<g id=\"node92\" class=\"node\">\n",
       "<title>SPG21</title>\n",
       "<ellipse fill=\"lightgray\" stroke=\"black\" cx=\"2134\" cy=\"-2322\" rx=\"42.49\" ry=\"18\"/>\n",
       "<text text-anchor=\"middle\" x=\"2134\" y=\"-2318.3\" font-family=\"Times,serif\" font-size=\"14.00\">SPG21</text>\n",
       "</g>\n",
       "<!-- YPEL3&#45;&gt;SPG21 -->\n",
       "<g id=\"edge95\" class=\"edge\">\n",
       "<title>YPEL3&#45;&gt;SPG21</title>\n",
       "<path fill=\"none\" stroke=\"black\" d=\"M2993.79,-2385.04C2977.7,-2381.77 2958.48,-2378.23 2941,-2376 2657.88,-2339.8 2315.53,-2327.67 2186.55,-2324.21\"/>\n",
       "<polygon fill=\"black\" stroke=\"black\" points=\"2186.27,-2320.7 2176.18,-2323.94 2186.09,-2327.7 2186.27,-2320.7\"/>\n",
       "</g>\n",
       "<!-- PIK3R3 -->\n",
       "<g id=\"node99\" class=\"node\">\n",
       "<title>PIK3R3</title>\n",
       "<ellipse fill=\"lightgray\" stroke=\"black\" cx=\"986\" cy=\"-1962\" rx=\"46.29\" ry=\"18\"/>\n",
       "<text text-anchor=\"middle\" x=\"986\" y=\"-1958.3\" font-family=\"Times,serif\" font-size=\"14.00\">PIK3R3</text>\n",
       "</g>\n",
       "<!-- YPEL3&#45;&gt;PIK3R3 -->\n",
       "<g id=\"edge104\" class=\"edge\">\n",
       "<title>YPEL3&#45;&gt;PIK3R3</title>\n",
       "<path fill=\"none\" stroke=\"black\" d=\"M2994.27,-2384.69C2978.1,-2381.32 2958.68,-2377.8 2941,-2376 2796.29,-2361.3 454.73,-2401.69 323,-2340 237.65,-2300.03 185,-2273.24 185,-2179 185,-2179 185,-2179 185,-2105 185,-2029.01 258.72,-2039.48 331,-2016 441.64,-1980.06 791.68,-1967.75 929.48,-1964.23\"/>\n",
       "<polygon fill=\"black\" stroke=\"black\" points=\"929.9,-1967.72 939.8,-1963.97 929.72,-1960.72 929.9,-1967.72\"/>\n",
       "</g>\n",
       "<!-- PPP2CA -->\n",
       "<g id=\"node100\" class=\"node\">\n",
       "<title>PPP2CA</title>\n",
       "<ellipse fill=\"lightgray\" stroke=\"black\" cx=\"2981\" cy=\"-1674\" rx=\"48.99\" ry=\"18\"/>\n",
       "<text text-anchor=\"middle\" x=\"2981\" y=\"-1670.3\" font-family=\"Times,serif\" font-size=\"14.00\">PPP2CA</text>\n",
       "</g>\n",
       "<!-- YPEL3&#45;&gt;PPP2CA -->\n",
       "<g id=\"edge106\" class=\"edge\">\n",
       "<title>YPEL3&#45;&gt;PPP2CA</title>\n",
       "<path fill=\"none\" stroke=\"black\" d=\"M3061.55,-2382.03C3081.61,-2373.51 3106.61,-2359.79 3122,-2340 3147.22,-2307.57 3147,-2292.09 3147,-2251 3147,-2251 3147,-2251 3147,-2105 3147,-2009.89 3148,-1986.11 3148,-1891 3148,-1891 3148,-1891 3148,-1817 3148,-1752.42 3074.63,-1711.06 3025.15,-1690.52\"/>\n",
       "<polygon fill=\"black\" stroke=\"black\" points=\"3026.19,-1687.16 3015.6,-1686.69 3023.58,-1693.66 3026.19,-1687.16\"/>\n",
       "</g>\n",
       "<!-- YPEL3&#45;&gt;LMO2 -->\n",
       "<g id=\"edge298\" class=\"edge\">\n",
       "<title>YPEL3&#45;&gt;LMO2</title>\n",
       "<path fill=\"none\" stroke=\"black\" d=\"M2993.81,-2384.84C2977.72,-2381.53 2958.5,-2378.03 2941,-2376 2561.87,-2332.08 2458.78,-2406.76 2083,-2340 1913.33,-2309.86 1865.86,-2292.37 1723,-2196 1640.35,-2140.24 1606.94,-2134.53 1551,-2052 1494.3,-1968.35 1424.98,-1719.78 1409,-1620 1406.47,-1604.2 1402.67,-1598.7 1409,-1584 1414.47,-1571.29 1424.65,-1560.2 1434.85,-1551.5\"/>\n",
       "<polygon fill=\"black\" stroke=\"black\" points=\"1437.31,-1554.02 1442.94,-1545.05 1432.94,-1548.55 1437.31,-1554.02\"/>\n",
       "</g>\n",
       "<!-- YPEL3&#45;&gt;ENSG00000105991 -->\n",
       "<g id=\"edge299\" class=\"edge\">\n",
       "<title>YPEL3&#45;&gt;ENSG00000105991</title>\n",
       "<path fill=\"none\" stroke=\"black\" d=\"M3060.62,-2381.61C3177.9,-2337.99 3599.35,-2181.25 3747.26,-2126.24\"/>\n",
       "<polygon fill=\"black\" stroke=\"black\" points=\"3748.86,-2129.38 3757.01,-2122.62 3746.42,-2122.82 3748.86,-2129.38\"/>\n",
       "</g>\n",
       "<!-- PSMA3 -->\n",
       "<g id=\"node112\" class=\"node\">\n",
       "<title>PSMA3</title>\n",
       "<ellipse fill=\"lightgray\" stroke=\"black\" cx=\"3591\" cy=\"-1530\" rx=\"44.69\" ry=\"18\"/>\n",
       "<text text-anchor=\"middle\" x=\"3591\" y=\"-1526.3\" font-family=\"Times,serif\" font-size=\"14.00\">PSMA3</text>\n",
       "</g>\n",
       "<!-- YPEL3&#45;&gt;PSMA3 -->\n",
       "<g id=\"edge123\" class=\"edge\">\n",
       "<title>YPEL3&#45;&gt;PSMA3</title>\n",
       "<path fill=\"none\" stroke=\"black\" d=\"M3068.79,-2387.33C3225.26,-2363.59 3806.66,-2266.75 3911,-2124 4061.74,-1917.77 3722.51,-1631.91 3619.49,-1552.31\"/>\n",
       "<polygon fill=\"black\" stroke=\"black\" points=\"3621.45,-1549.4 3611.38,-1546.09 3617.19,-1554.96 3621.45,-1549.4\"/>\n",
       "</g>\n",
       "<!-- SPG21&#45;&gt;CCHCR1 -->\n",
       "<g id=\"edge173\" class=\"edge\">\n",
       "<title>SPG21&#45;&gt;CCHCR1</title>\n",
       "<path fill=\"none\" stroke=\"black\" d=\"M2094.17,-2315.65C2040.04,-2307.86 1940.54,-2291.69 1858,-2268 1687.59,-2219.09 1617.13,-2243.31 1486,-2124 1319.46,-1972.47 1272.08,-1880.28 1292,-1656 1304.94,-1510.28 1329.74,-1476.88 1350,-1332 1352.89,-1311.37 1355.22,-1287.92 1356.79,-1270.27\"/>\n",
       "<polygon fill=\"black\" stroke=\"black\" points=\"1360.29,-1270.37 1357.66,-1260.11 1353.32,-1269.77 1360.29,-1270.37\"/>\n",
       "</g>\n",
       "<!-- SPG21&#45;&gt;CIDEB -->\n",
       "<g id=\"edge211\" class=\"edge\">\n",
       "<title>SPG21&#45;&gt;CIDEB</title>\n",
       "<path fill=\"none\" stroke=\"black\" d=\"M2175.33,-2317.91C2273.65,-2310.44 2529.14,-2290.38 2742,-2268 3045.72,-2236.07 4082,-2268.39 4082,-1963 4082,-1963 4082,-1963 4082,-1745 4082,-1545.35 4155.85,-1486.47 4096,-1296 4037.53,-1109.92 3975.01,-1081.4 3845,-936 3658.55,-727.47 3316.22,-633.38 3191.25,-604.87\"/>\n",
       "<polygon fill=\"black\" stroke=\"black\" points=\"3191.76,-601.4 3181.24,-602.62 3190.23,-608.23 3191.76,-601.4\"/>\n",
       "</g>\n",
       "<!-- SPG21&#45;&gt;ATP5ME -->\n",
       "<g id=\"edge269\" class=\"edge\">\n",
       "<title>SPG21&#45;&gt;ATP5ME</title>\n",
       "<path fill=\"none\" stroke=\"black\" d=\"M2091.72,-2320.62C1829.65,-2318.18 435.32,-2303.54 353,-2268 269.9,-2232.12 252.82,-2203.2 209,-2124 139.28,-1997.98 139.33,-1923.15 214,-1800 398.82,-1495.2 578.17,-1533.31 807,-1260 916.24,-1129.53 908.26,-1071.65 1011,-936 1130.72,-777.94 1298.2,-607.89 1359.93,-546.64\"/>\n",
       "<polygon fill=\"black\" stroke=\"black\" points=\"1362.61,-548.91 1367.26,-539.39 1357.69,-543.94 1362.61,-548.91\"/>\n",
       "</g>\n",
       "<!-- SPG21&#45;&gt;TLE5 -->\n",
       "<g id=\"edge280\" class=\"edge\">\n",
       "<title>SPG21&#45;&gt;TLE5</title>\n",
       "<path fill=\"none\" stroke=\"black\" d=\"M2134,-2303.87C2134,-2279.67 2134,-2235.21 2134,-2206.39\"/>\n",
       "<polygon fill=\"black\" stroke=\"black\" points=\"2137.5,-2206.19 2134,-2196.19 2130.5,-2206.19 2137.5,-2206.19\"/>\n",
       "</g>\n",
       "<!-- TFIP11 -->\n",
       "<g id=\"node93\" class=\"node\">\n",
       "<title>TFIP11</title>\n",
       "<ellipse fill=\"lightgray\" stroke=\"black\" cx=\"1117\" cy=\"-1962\" rx=\"44.39\" ry=\"18\"/>\n",
       "<text text-anchor=\"middle\" x=\"1117\" y=\"-1958.3\" font-family=\"Times,serif\" font-size=\"14.00\">TFIP11</text>\n",
       "</g>\n",
       "<!-- SPG21&#45;&gt;TFIP11 -->\n",
       "<g id=\"edge96\" class=\"edge\">\n",
       "<title>SPG21&#45;&gt;TFIP11</title>\n",
       "<path fill=\"none\" stroke=\"black\" d=\"M2091.82,-2320.91C1833.43,-2320.18 473.02,-2314.19 399,-2268 302.91,-2208.04 283.05,-2098.18 361,-2016 413.07,-1961.1 966.04,-1990.29 1041,-1980 1050.64,-1978.68 1060.87,-1976.75 1070.6,-1974.67\"/>\n",
       "<polygon fill=\"black\" stroke=\"black\" points=\"1071.5,-1978.05 1080.5,-1972.46 1069.98,-1971.22 1071.5,-1978.05\"/>\n",
       "</g>\n",
       "<!-- KRT31 -->\n",
       "<g id=\"node97\" class=\"node\">\n",
       "<title>KRT31</title>\n",
       "<ellipse fill=\"lightgray\" stroke=\"black\" cx=\"2660\" cy=\"-2250\" rx=\"42.49\" ry=\"18\"/>\n",
       "<text text-anchor=\"middle\" x=\"2660\" y=\"-2246.3\" font-family=\"Times,serif\" font-size=\"14.00\">KRT31</text>\n",
       "</g>\n",
       "<!-- SPG21&#45;&gt;KRT31 -->\n",
       "<g id=\"edge300\" class=\"edge\">\n",
       "<title>SPG21&#45;&gt;KRT31</title>\n",
       "<path fill=\"none\" stroke=\"black\" d=\"M2173.97,-2315.68C2268.63,-2303.08 2506.35,-2271.45 2610.18,-2257.63\"/>\n",
       "<polygon fill=\"black\" stroke=\"black\" points=\"2610.64,-2261.1 2620.09,-2256.31 2609.72,-2254.16 2610.64,-2261.1\"/>\n",
       "</g>\n",
       "<!-- SPG21&#45;&gt;PFDN5 -->\n",
       "<g id=\"edge301\" class=\"edge\">\n",
       "<title>SPG21&#45;&gt;PFDN5</title>\n",
       "<path fill=\"none\" stroke=\"black\" d=\"M2176.19,-2319.37C2301.63,-2314.22 2666.33,-2296.88 2711,-2268 2759.18,-2236.85 2784.44,-2170.74 2795.3,-2133.65\"/>\n",
       "<polygon fill=\"black\" stroke=\"black\" points=\"2798.67,-2134.59 2797.99,-2124.02 2791.93,-2132.71 2798.67,-2134.59\"/>\n",
       "</g>\n",
       "<!-- RPRD1B -->\n",
       "<g id=\"node104\" class=\"node\">\n",
       "<title>RPRD1B</title>\n",
       "<ellipse fill=\"lightgray\" stroke=\"black\" cx=\"1611\" cy=\"-2034\" rx=\"50.89\" ry=\"18\"/>\n",
       "<text text-anchor=\"middle\" x=\"1611\" y=\"-2030.3\" font-family=\"Times,serif\" font-size=\"14.00\">RPRD1B</text>\n",
       "</g>\n",
       "<!-- SPG21&#45;&gt;RPRD1B -->\n",
       "<g id=\"edge111\" class=\"edge\">\n",
       "<title>SPG21&#45;&gt;RPRD1B</title>\n",
       "<path fill=\"none\" stroke=\"black\" d=\"M2097.48,-2312.77C2014.47,-2292.6 1808.35,-2234.15 1673,-2124 1651.79,-2106.74 1634.69,-2080.42 1623.86,-2060.87\"/>\n",
       "<polygon fill=\"black\" stroke=\"black\" points=\"1626.86,-2059.06 1619.06,-2051.89 1620.69,-2062.36 1626.86,-2059.06\"/>\n",
       "</g>\n",
       "<!-- TFIP11&#45;&gt;DAXX -->\n",
       "<g id=\"edge151\" class=\"edge\">\n",
       "<title>TFIP11&#45;&gt;DAXX</title>\n",
       "<path fill=\"none\" stroke=\"black\" d=\"M1161.19,-1960.09C1235.27,-1955.79 1381.2,-1934.59 1430,-1836 1463.6,-1768.13 1461.55,-1675.76 1457.94,-1630.41\"/>\n",
       "<polygon fill=\"black\" stroke=\"black\" points=\"1461.4,-1629.85 1457.03,-1620.19 1454.43,-1630.47 1461.4,-1629.85\"/>\n",
       "</g>\n",
       "<!-- TFIP11&#45;&gt;CCHCR1 -->\n",
       "<g id=\"edge174\" class=\"edge\">\n",
       "<title>TFIP11&#45;&gt;CCHCR1</title>\n",
       "<path fill=\"none\" stroke=\"black\" d=\"M1152.38,-1951.08C1173.76,-1943.11 1199.43,-1929.6 1213,-1908 1268.31,-1819.96 1192,-1778.98 1192,-1675 1192,-1675 1192,-1675 1192,-1529 1192,-1457.01 1258.37,-1465.97 1295,-1404 1321.1,-1359.84 1340.83,-1303.06 1351.09,-1270.08\"/>\n",
       "<polygon fill=\"black\" stroke=\"black\" points=\"1354.52,-1270.84 1354.09,-1260.25 1347.82,-1268.8 1354.52,-1270.84\"/>\n",
       "</g>\n",
       "<!-- TFIP11&#45;&gt;CCDC57 -->\n",
       "<g id=\"edge207\" class=\"edge\">\n",
       "<title>TFIP11&#45;&gt;CCDC57</title>\n",
       "<path fill=\"none\" stroke=\"black\" d=\"M1161.08,-1959.63C1202.91,-1956.02 1265,-1944.35 1304,-1908 1328.89,-1884.8 1321.19,-1868.86 1330,-1836 1391.03,-1608.26 1441.59,-1014.7 1519,-792 1556.64,-683.71 1579.39,-657.52 1660,-576 1671.6,-564.27 1685.94,-553.07 1698.69,-544.01\"/>\n",
       "<polygon fill=\"black\" stroke=\"black\" points=\"1700.99,-546.67 1707.21,-538.1 1697,-540.92 1700.99,-546.67\"/>\n",
       "</g>\n",
       "<!-- TFIP11&#45;&gt;GADD45GIP1 -->\n",
       "<g id=\"edge260\" class=\"edge\">\n",
       "<title>TFIP11&#45;&gt;GADD45GIP1</title>\n",
       "<path fill=\"none\" stroke=\"black\" d=\"M1080.48,-1951.66C1068.03,-1948.78 1053.98,-1945.89 1041,-1944 925.72,-1927.24 615.64,-1971.55 518,-1908 429.31,-1850.28 345.72,-1512.16 323.02,-1413.82\"/>\n",
       "<polygon fill=\"black\" stroke=\"black\" points=\"326.43,-1413.02 320.79,-1404.05 319.61,-1414.58 326.43,-1413.02\"/>\n",
       "</g>\n",
       "<!-- TFIP11&#45;&gt;MKRN3 -->\n",
       "<g id=\"edge265\" class=\"edge\">\n",
       "<title>TFIP11&#45;&gt;MKRN3</title>\n",
       "<path fill=\"none\" stroke=\"black\" d=\"M1080.47,-1951.73C1068.02,-1948.86 1053.97,-1945.95 1041,-1944 939.38,-1928.75 665.55,-1964.91 580,-1908 468.34,-1833.72 494,-1728.42 494,-1459 494,-1459 494,-1459 494,-593 494,-521.44 503.21,-502.96 494,-432 492.87,-423.28 490.73,-413.95 488.46,-405.58\"/>\n",
       "<polygon fill=\"black\" stroke=\"black\" points=\"491.82,-404.6 485.68,-395.96 485.09,-406.54 491.82,-404.6\"/>\n",
       "</g>\n",
       "<!-- TFIP11&#45;&gt;EPM2AIP1 -->\n",
       "<g id=\"edge268\" class=\"edge\">\n",
       "<title>TFIP11&#45;&gt;EPM2AIP1</title>\n",
       "<path fill=\"none\" stroke=\"black\" d=\"M1080.49,-1951.59C1068.04,-1948.71 1053.99,-1945.83 1041,-1944 907.19,-1925.19 558.77,-1959.87 434,-1908 184.47,-1804.27 24,-1729.24 24,-1459 24,-1459 24,-1459 24,-161 24,-97.07 77.67,-95.81 137,-72 222.27,-37.78 487.89,-25.1 616.21,-20.88\"/>\n",
       "<polygon fill=\"black\" stroke=\"black\" points=\"616.44,-24.37 626.33,-20.56 616.22,-17.38 616.44,-24.37\"/>\n",
       "</g>\n",
       "<!-- TFIP11&#45;&gt;KANK2 -->\n",
       "<g id=\"edge294\" class=\"edge\">\n",
       "<title>TFIP11&#45;&gt;KANK2</title>\n",
       "<path fill=\"none\" stroke=\"black\" d=\"M1080.49,-1951.62C1068.04,-1948.75 1053.98,-1945.86 1041,-1944 917.34,-1926.31 588.93,-1969.16 480,-1908 391.89,-1858.53 208.5,-1556.26 167,-1404 162.79,-1388.56 166.79,-1384 167,-1368 169,-1216.4 176,-1178.61 176,-1027 176,-1027 176,-1027 176,-881 176,-676.56 184.32,-614.73 276,-432 294.94,-394.26 301.25,-380.8 338,-360 380.67,-335.84 516.63,-319.38 592.87,-311.78\"/>\n",
       "<polygon fill=\"black\" stroke=\"black\" points=\"593.6,-315.23 603.21,-310.77 592.92,-308.26 593.6,-315.23\"/>\n",
       "</g>\n",
       "<!-- AXIN1 -->\n",
       "<g id=\"node94\" class=\"node\">\n",
       "<title>AXIN1</title>\n",
       "<ellipse fill=\"lightgray\" stroke=\"black\" cx=\"1164\" cy=\"-1890\" rx=\"40.09\" ry=\"18\"/>\n",
       "<text text-anchor=\"middle\" x=\"1164\" y=\"-1886.3\" font-family=\"Times,serif\" font-size=\"14.00\">AXIN1</text>\n",
       "</g>\n",
       "<!-- TFIP11&#45;&gt;AXIN1 -->\n",
       "<g id=\"edge97\" class=\"edge\">\n",
       "<title>TFIP11&#45;&gt;AXIN1</title>\n",
       "<path fill=\"none\" stroke=\"black\" d=\"M1128.14,-1944.41C1133.87,-1935.87 1140.98,-1925.28 1147.36,-1915.79\"/>\n",
       "<polygon fill=\"black\" stroke=\"black\" points=\"1150.27,-1917.72 1152.94,-1907.47 1144.46,-1913.82 1150.27,-1917.72\"/>\n",
       "</g>\n",
       "<!-- TFIP11&#45;&gt;LMO2 -->\n",
       "<g id=\"edge302\" class=\"edge\">\n",
       "<title>TFIP11&#45;&gt;LMO2</title>\n",
       "<path fill=\"none\" stroke=\"black\" d=\"M1160.11,-1957.76C1196.36,-1952.77 1247.06,-1940.1 1278,-1908 1335.79,-1848.05 1305.77,-1807.67 1330,-1728 1349.55,-1663.72 1334.2,-1636.6 1376,-1584 1389.03,-1567.61 1408.62,-1555.16 1426.1,-1546.46\"/>\n",
       "<polygon fill=\"black\" stroke=\"black\" points=\"1427.99,-1549.44 1435.55,-1542.02 1425.01,-1543.11 1427.99,-1549.44\"/>\n",
       "</g>\n",
       "<!-- TFIP11&#45;&gt;ABI2 -->\n",
       "<g id=\"edge303\" class=\"edge\">\n",
       "<title>TFIP11&#45;&gt;ABI2</title>\n",
       "<path fill=\"none\" stroke=\"black\" d=\"M1159.35,-1956.81C1227.54,-1949.42 1358.01,-1932.54 1397,-1908 1541.93,-1816.8 1530.49,-1568.77 1522.27,-1486.17\"/>\n",
       "<polygon fill=\"black\" stroke=\"black\" points=\"1525.74,-1485.65 1521.2,-1476.07 1518.78,-1486.39 1525.74,-1485.65\"/>\n",
       "</g>\n",
       "<!-- TXN2 -->\n",
       "<g id=\"node114\" class=\"node\">\n",
       "<title>TXN2</title>\n",
       "<ellipse fill=\"lightgray\" stroke=\"black\" cx=\"596\" cy=\"-1818\" rx=\"36.29\" ry=\"18\"/>\n",
       "<text text-anchor=\"middle\" x=\"596\" y=\"-1814.3\" font-family=\"Times,serif\" font-size=\"14.00\">TXN2</text>\n",
       "</g>\n",
       "<!-- TFIP11&#45;&gt;TXN2 -->\n",
       "<g id=\"edge127\" class=\"edge\">\n",
       "<title>TFIP11&#45;&gt;TXN2</title>\n",
       "<path fill=\"none\" stroke=\"black\" d=\"M1080.46,-1951.82C1068.01,-1948.96 1053.96,-1946.03 1041,-1944 953.92,-1930.35 719.97,-1955.93 646,-1908 624.01,-1893.76 610.75,-1866.29 603.46,-1845.62\"/>\n",
       "<polygon fill=\"black\" stroke=\"black\" points=\"606.79,-1844.52 600.35,-1836.1 600.13,-1846.7 606.79,-1844.52\"/>\n",
       "</g>\n",
       "<!-- AXIN1&#45;&gt;APC -->\n",
       "<g id=\"edge98\" class=\"edge\">\n",
       "<title>AXIN1&#45;&gt;APC</title>\n",
       "<path fill=\"none\" stroke=\"black\" d=\"M1127.13,-1882.72C1080.73,-1874.33 998.89,-1857.95 931,-1836 928.61,-1835.23 926.17,-1834.37 923.73,-1833.46\"/>\n",
       "<polygon fill=\"black\" stroke=\"black\" points=\"925.01,-1830.2 914.42,-1829.78 922.43,-1836.71 925.01,-1830.2\"/>\n",
       "</g>\n",
       "<!-- AXIN1&#45;&gt;CTNNB1 -->\n",
       "<g id=\"edge130\" class=\"edge\">\n",
       "<title>AXIN1&#45;&gt;CTNNB1</title>\n",
       "<path fill=\"none\" stroke=\"black\" d=\"M1138.38,-1875.87C1120.71,-1866.15 1097.22,-1851.89 1079,-1836 1057.07,-1816.87 1036.27,-1790.9 1022.34,-1771.95\"/>\n",
       "<polygon fill=\"black\" stroke=\"black\" points=\"1025.14,-1769.85 1016.44,-1763.79 1019.46,-1773.95 1025.14,-1769.85\"/>\n",
       "</g>\n",
       "<!-- AXIN1&#45;&gt;DAXX -->\n",
       "<g id=\"edge152\" class=\"edge\">\n",
       "<title>AXIN1&#45;&gt;DAXX</title>\n",
       "<path fill=\"none\" stroke=\"black\" d=\"M1186.89,-1874.9C1202.49,-1864.85 1223.27,-1850.59 1240,-1836 1319.3,-1766.83 1400.06,-1671.03 1435.88,-1626.95\"/>\n",
       "<polygon fill=\"black\" stroke=\"black\" points=\"1438.67,-1629.07 1442.23,-1619.09 1433.22,-1624.67 1438.67,-1629.07\"/>\n",
       "</g>\n",
       "<!-- AXIN1&#45;&gt;TP53BP2 -->\n",
       "<g id=\"edge201\" class=\"edge\">\n",
       "<title>AXIN1&#45;&gt;TP53BP2</title>\n",
       "<path fill=\"none\" stroke=\"black\" d=\"M1126.35,-1883.53C1102.02,-1880.06 1069.66,-1875.57 1041,-1872 969.11,-1863.04 770.51,-1884.83 717,-1836 663.04,-1786.77 684,-1748.04 684,-1675 684,-1675 684,-1675 684,-1601 684,-1426.51 845.11,-1448.35 1000,-1368 1044.91,-1344.7 1067.94,-1362.91 1108,-1332 1138.26,-1308.66 1135.2,-1292.69 1155,-1260 1316.53,-993.3 1329.05,-910.07 1498,-648 1504.04,-638.64 1511.13,-628.72 1517.6,-620.03\"/>\n",
       "<polygon fill=\"black\" stroke=\"black\" points=\"1520.57,-621.9 1523.81,-611.81 1514.99,-617.68 1520.57,-621.9\"/>\n",
       "</g>\n",
       "<!-- AXIN1&#45;&gt;CCDC57 -->\n",
       "<g id=\"edge208\" class=\"edge\">\n",
       "<title>AXIN1&#45;&gt;CCDC57</title>\n",
       "<path fill=\"none\" stroke=\"black\" d=\"M1192.01,-1876.98C1214.44,-1866.98 1246.44,-1851.86 1273,-1836 1367.04,-1779.85 1396.58,-1770.47 1473,-1692 1577.72,-1584.47 1618,-1537.09 1618,-1387 1618,-1387 1618,-1387 1618,-1241 1618,-1080.22 1670,-1043.78 1670,-883 1670,-883 1670,-883 1670,-737 1670,-667.02 1700.54,-588.92 1718.4,-549.24\"/>\n",
       "<polygon fill=\"black\" stroke=\"black\" points=\"1721.65,-550.55 1722.65,-540 1715.29,-547.63 1721.65,-550.55\"/>\n",
       "</g>\n",
       "<!-- AXIN1&#45;&gt;LHX8 -->\n",
       "<g id=\"edge138\" class=\"edge\">\n",
       "<title>AXIN1&#45;&gt;LHX8</title>\n",
       "<path fill=\"none\" stroke=\"black\" d=\"M1179.28,-1873.3C1187.77,-1863.46 1197.5,-1850.01 1202,-1836 1206.9,-1820.77 1206.64,-1815.31 1202,-1800 1196.43,-1781.6 1185.94,-1781.51 1178,-1764 1161.08,-1726.69 1154,-1715.97 1154,-1675 1154,-1675 1154,-1675 1154,-1529 1154,-1488.03 1154.87,-1473.82 1178,-1440 1187.77,-1425.71 1202.7,-1413.81 1216.44,-1404.93\"/>\n",
       "<polygon fill=\"black\" stroke=\"black\" points=\"1218.53,-1407.75 1225.23,-1399.53 1214.87,-1401.78 1218.53,-1407.75\"/>\n",
       "</g>\n",
       "<!-- AXIN1&#45;&gt;NUTM1 -->\n",
       "<g id=\"edge291\" class=\"edge\">\n",
       "<title>AXIN1&#45;&gt;NUTM1</title>\n",
       "<path fill=\"none\" stroke=\"black\" d=\"M1166.03,-1871.84C1167.15,-1861.48 1168.44,-1848 1169,-1836 1169.75,-1820.02 1171.36,-1815.82 1169,-1800 1166.53,-1783.45 1161.49,-1780.36 1158,-1764 1121.17,-1591.57 1049.27,-1522.63 1134,-1368 1142.86,-1351.83 1158.98,-1339.88 1174.68,-1331.46\"/>\n",
       "<polygon fill=\"black\" stroke=\"black\" points=\"1176.42,-1334.5 1183.81,-1326.91 1173.3,-1328.24 1176.42,-1334.5\"/>\n",
       "</g>\n",
       "<!-- PLA2G10&#45;&gt;CATSPER1 -->\n",
       "<g id=\"edge251\" class=\"edge\">\n",
       "<title>PLA2G10&#45;&gt;CATSPER1</title>\n",
       "<path fill=\"none\" stroke=\"black\" d=\"M2887.13,-2376.23C2892.39,-2366 2898.77,-2352.53 2903,-2340 2915.94,-2301.68 2922,-2291.45 2922,-2251 2922,-2251 2922,-2251 2922,-2105 2922,-2008.55 2958,-1987.45 2958,-1891 2958,-1891 2958,-1891 2958,-1817 2958,-1794.28 2665.5,-1564.61 2650,-1548 2608.87,-1503.95 2613.56,-1479.45 2568,-1440 2543.03,-1418.38 2519.77,-1432.45 2503,-1404 2494.88,-1390.22 2499.5,-1383.61 2503,-1368 2510.74,-1333.47 2516.43,-1324.8 2537,-1296 2550.33,-1277.33 2561.02,-1278.92 2574,-1260 2598.33,-1224.53 2612,-1214.01 2612,-1171 2612,-1171 2612,-1171 2612,-1097 2612,-1056.98 2610.39,-1010.64 2609.22,-982.07\"/>\n",
       "<polygon fill=\"black\" stroke=\"black\" points=\"2612.71,-981.89 2608.79,-972.04 2605.72,-982.18 2612.71,-981.89\"/>\n",
       "</g>\n",
       "<!-- POU4F3 -->\n",
       "<g id=\"node96\" class=\"node\">\n",
       "<title>POU4F3</title>\n",
       "<ellipse fill=\"lightgray\" stroke=\"black\" cx=\"2844\" cy=\"-2322\" rx=\"50.09\" ry=\"18\"/>\n",
       "<text text-anchor=\"middle\" x=\"2844\" y=\"-2318.3\" font-family=\"Times,serif\" font-size=\"14.00\">POU4F3</text>\n",
       "</g>\n",
       "<!-- PLA2G10&#45;&gt;POU4F3 -->\n",
       "<g id=\"edge100\" class=\"edge\">\n",
       "<title>PLA2G10&#45;&gt;POU4F3</title>\n",
       "<path fill=\"none\" stroke=\"black\" d=\"M2869.77,-2376.05C2865.8,-2367.89 2860.96,-2357.91 2856.54,-2348.82\"/>\n",
       "<polygon fill=\"black\" stroke=\"black\" points=\"2859.67,-2347.25 2852.15,-2339.79 2853.38,-2350.31 2859.67,-2347.25\"/>\n",
       "</g>\n",
       "<!-- POU4F3&#45;&gt;KRT31 -->\n",
       "<g id=\"edge101\" class=\"edge\">\n",
       "<title>POU4F3&#45;&gt;KRT31</title>\n",
       "<path fill=\"none\" stroke=\"black\" d=\"M2810.68,-2308.32C2779.48,-2296.45 2732.83,-2278.71 2699.71,-2266.11\"/>\n",
       "<polygon fill=\"black\" stroke=\"black\" points=\"2700.92,-2262.82 2690.33,-2262.54 2698.43,-2269.36 2700.92,-2262.82\"/>\n",
       "</g>\n",
       "<!-- KRT31&#45;&gt;CCHCR1 -->\n",
       "<g id=\"edge175\" class=\"edge\">\n",
       "<title>KRT31&#45;&gt;CCHCR1</title>\n",
       "<path fill=\"none\" stroke=\"black\" d=\"M2621.66,-2242.41C2582.08,-2234.7 2519.2,-2219.85 2469,-2196 2193.99,-2065.35 2160.16,-1973.55 1910,-1800 1886.6,-1783.77 1880.13,-1780.61 1857,-1764 1813.96,-1733.11 1510.95,-1516.67 1477,-1476 1448.42,-1441.75 1394.07,-1322.52 1370.44,-1269.16\"/>\n",
       "<polygon fill=\"black\" stroke=\"black\" points=\"1373.64,-1267.74 1366.4,-1260 1367.23,-1270.56 1373.64,-1267.74\"/>\n",
       "</g>\n",
       "<!-- KRT31&#45;&gt;POU4F2 -->\n",
       "<g id=\"edge237\" class=\"edge\">\n",
       "<title>KRT31&#45;&gt;POU4F2</title>\n",
       "<path fill=\"none\" stroke=\"black\" d=\"M2702.41,-2249.05C2914.62,-2248.44 3859.33,-2235.32 4072,-2052 4302.42,-1853.39 4234,-1691.2 4234,-1387 4234,-1387 4234,-1387 4234,-1025 4234,-928.4 4196,-907.6 4196,-811 4196,-811 4196,-811 4196,-665 4196,-586.06 4183.67,-552 4121,-504 4094.23,-483.5 4058.73,-470.31 4029.67,-462.22\"/>\n",
       "<polygon fill=\"black\" stroke=\"black\" points=\"4030.26,-458.75 4019.69,-459.57 4028.46,-465.52 4030.26,-458.75\"/>\n",
       "</g>\n",
       "<!-- KRT31&#45;&gt;CATSPER1 -->\n",
       "<g id=\"edge252\" class=\"edge\">\n",
       "<title>KRT31&#45;&gt;CATSPER1</title>\n",
       "<path fill=\"none\" stroke=\"black\" d=\"M2666.48,-2231.79C2675.83,-2205.36 2692,-2152.99 2692,-2107 2692,-2107 2692,-2107 2692,-1961 2692,-1825.41 2746.19,-1783.12 2699,-1656 2684.3,-1616.41 2665.73,-1614.95 2637,-1584 2621.61,-1567.42 2614.63,-1566.06 2601,-1548 2567.93,-1504.16 2582.78,-1475.64 2541,-1440 2505.38,-1409.62 2468.86,-1442.35 2442,-1404 2412.97,-1362.56 2442.22,-1331.78 2478,-1296 2503.3,-1270.7 2527.36,-1287.7 2550,-1260 2575.93,-1228.28 2574,-1211.97 2574,-1171 2574,-1171 2574,-1171 2574,-1097 2574,-1055.91 2587.63,-1009.92 2597.63,-981.72\"/>\n",
       "<polygon fill=\"black\" stroke=\"black\" points=\"2600.97,-982.76 2601.12,-972.17 2594.4,-980.36 2600.97,-982.76\"/>\n",
       "</g>\n",
       "<!-- KRT31&#45;&gt;TEPSIN -->\n",
       "<g id=\"edge255\" class=\"edge\">\n",
       "<title>KRT31&#45;&gt;TEPSIN</title>\n",
       "<path fill=\"none\" stroke=\"black\" d=\"M2651.66,-2232.16C2635.65,-2198.79 2601.14,-2121.48 2589,-2052 2569.66,-1941.32 2648.25,-1905.27 2609,-1800 2566.97,-1687.27 2296.79,-1419.42 2213.44,-1338.53\"/>\n",
       "<polygon fill=\"black\" stroke=\"black\" points=\"2215.59,-1335.74 2205.98,-1331.3 2210.72,-1340.77 2215.59,-1335.74\"/>\n",
       "</g>\n",
       "<!-- KRT31&#45;&gt;GADD45GIP1 -->\n",
       "<g id=\"edge261\" class=\"edge\">\n",
       "<title>KRT31&#45;&gt;GADD45GIP1</title>\n",
       "<path fill=\"none\" stroke=\"black\" d=\"M2617.87,-2248.13C2296.41,-2241.32 241.28,-2195.11 133,-2124 73.35,-2084.83 78.2,-2049.49 62,-1980 21.39,-1805.79 42.77,-1737.87 134,-1584 176.76,-1511.87 249.61,-1443.97 289.27,-1409.88\"/>\n",
       "<polygon fill=\"black\" stroke=\"black\" points=\"291.63,-1412.47 296.98,-1403.33 287.09,-1407.14 291.63,-1412.47\"/>\n",
       "</g>\n",
       "<!-- KRT31&#45;&gt;TLE5 -->\n",
       "<g id=\"edge281\" class=\"edge\">\n",
       "<title>KRT31&#45;&gt;TLE5</title>\n",
       "<path fill=\"none\" stroke=\"black\" d=\"M2627.98,-2238.18C2620.2,-2235.86 2611.86,-2233.62 2604,-2232 2523.12,-2215.31 2279.21,-2192.13 2178.37,-2182.96\"/>\n",
       "<polygon fill=\"black\" stroke=\"black\" points=\"2178.49,-2179.46 2168.22,-2182.04 2177.86,-2186.43 2178.49,-2179.46\"/>\n",
       "</g>\n",
       "<!-- ABL1 -->\n",
       "<g id=\"node98\" class=\"node\">\n",
       "<title>ABL1</title>\n",
       "<ellipse fill=\"lightgray\" stroke=\"black\" cx=\"2532\" cy=\"-1890\" rx=\"36\" ry=\"18\"/>\n",
       "<text text-anchor=\"middle\" x=\"2532\" y=\"-1886.3\" font-family=\"Times,serif\" font-size=\"14.00\">ABL1</text>\n",
       "</g>\n",
       "<!-- KRT31&#45;&gt;ABL1 -->\n",
       "<g id=\"edge102\" class=\"edge\">\n",
       "<title>KRT31&#45;&gt;ABL1</title>\n",
       "<path fill=\"none\" stroke=\"black\" d=\"M2625.31,-2239.44C2602.46,-2231.42 2573.62,-2217.72 2556,-2196 2530.19,-2164.18 2532,-2147.97 2532,-2107 2532,-2107 2532,-2107 2532,-2033 2532,-1993 2532,-1946.65 2532,-1918.08\"/>\n",
       "<polygon fill=\"black\" stroke=\"black\" points=\"2535.5,-1918.05 2532,-1908.05 2528.5,-1918.05 2535.5,-1918.05\"/>\n",
       "</g>\n",
       "<!-- FN1 -->\n",
       "<g id=\"node101\" class=\"node\">\n",
       "<title>FN1</title>\n",
       "<ellipse fill=\"lightgray\" stroke=\"black\" cx=\"2888\" cy=\"-1602\" rx=\"30.59\" ry=\"18\"/>\n",
       "<text text-anchor=\"middle\" x=\"2888\" y=\"-1598.3\" font-family=\"Times,serif\" font-size=\"14.00\">FN1</text>\n",
       "</g>\n",
       "<!-- KRT31&#45;&gt;FN1 -->\n",
       "<g id=\"edge304\" class=\"edge\">\n",
       "<title>KRT31&#45;&gt;FN1</title>\n",
       "<path fill=\"none\" stroke=\"black\" d=\"M2677.05,-2233.28C2686.81,-2223.43 2698.56,-2209.98 2706,-2196 2725.25,-2159.83 2730,-2147.97 2730,-2107 2730,-2107 2730,-2107 2730,-1961 2730,-1896.44 2776.49,-1894.4 2804,-1836 2838.1,-1763.62 2867.01,-1673.35 2880.26,-1629.45\"/>\n",
       "<polygon fill=\"black\" stroke=\"black\" points=\"2883.62,-1630.4 2883.13,-1619.82 2876.92,-1628.4 2883.62,-1630.4\"/>\n",
       "</g>\n",
       "<!-- KRT31&#45;&gt;ABI2 -->\n",
       "<g id=\"edge305\" class=\"edge\">\n",
       "<title>KRT31&#45;&gt;ABI2</title>\n",
       "<path fill=\"none\" stroke=\"black\" d=\"M2628.04,-2238.21C2601.35,-2228.66 2562.67,-2213.52 2531,-2196 2458.8,-2156.06 2447.33,-2135.69 2380,-2088 2243.56,-1991.37 2211.29,-1964.48 2072,-1872 1996.8,-1822.07 1969.08,-1822.1 1900,-1764 1817.63,-1694.72 1816.08,-1658.08 1738,-1584 1701.09,-1548.98 1692.8,-1537.88 1649,-1512 1632.6,-1502.31 1587.75,-1484.69 1555.32,-1472.44\"/>\n",
       "<polygon fill=\"black\" stroke=\"black\" points=\"1556.28,-1469.06 1545.69,-1468.82 1553.82,-1475.62 1556.28,-1469.06\"/>\n",
       "</g>\n",
       "<!-- KRT31&#45;&gt;ENSG00000105991 -->\n",
       "<g id=\"edge306\" class=\"edge\">\n",
       "<title>KRT31&#45;&gt;ENSG00000105991</title>\n",
       "<path fill=\"none\" stroke=\"black\" d=\"M2697.89,-2241.69C2714.99,-2238.51 2735.48,-2234.86 2754,-2232 3002.87,-2193.58 3065.78,-2188.33 3316,-2160 3478.41,-2141.61 3519.75,-2143.76 3682,-2124 3692.27,-2122.75 3703.03,-2121.33 3713.69,-2119.86\"/>\n",
       "<polygon fill=\"black\" stroke=\"black\" points=\"3714.44,-2123.29 3723.86,-2118.44 3713.47,-2116.36 3714.44,-2123.29\"/>\n",
       "</g>\n",
       "<!-- ABL1&#45;&gt;ATM -->\n",
       "<g id=\"edge103\" class=\"edge\">\n",
       "<title>ABL1&#45;&gt;ATM</title>\n",
       "<path fill=\"none\" stroke=\"black\" d=\"M2562.22,-1880.06C2647.69,-1854.89 2898.66,-1781.75 3109,-1728 3352.47,-1665.79 3449.8,-1706.26 3645,-1548 3681.49,-1518.42 3702,-1505.97 3702,-1459 3702,-1459 3702,-1459 3702,-1313 3702,-1283.86 3446.71,-931.37 3376.62,-835.14\"/>\n",
       "<polygon fill=\"black\" stroke=\"black\" points=\"3379.33,-832.91 3370.61,-826.89 3373.67,-837.04 3379.33,-832.91\"/>\n",
       "</g>\n",
       "<!-- ABL1&#45;&gt;PIK3R1 -->\n",
       "<g id=\"edge203\" class=\"edge\">\n",
       "<title>ABL1&#45;&gt;PIK3R1</title>\n",
       "<path fill=\"none\" stroke=\"black\" d=\"M2497.17,-1885.39C2457.83,-1881.45 2391.89,-1875.27 2335,-1872 1777.47,-1839.98 1634.39,-1894.38 1079,-1836 1064.68,-1834.5 1049.26,-1832.03 1035.17,-1829.43\"/>\n",
       "<polygon fill=\"black\" stroke=\"black\" points=\"1035.66,-1825.96 1025.18,-1827.53 1034.35,-1832.84 1035.66,-1825.96\"/>\n",
       "</g>\n",
       "<!-- PIK3R3&#45;&gt;PIK3CA -->\n",
       "<g id=\"edge105\" class=\"edge\">\n",
       "<title>PIK3R3&#45;&gt;PIK3CA</title>\n",
       "<path fill=\"none\" stroke=\"black\" d=\"M986,-1943.7C986,-1935.98 986,-1926.71 986,-1918.11\"/>\n",
       "<polygon fill=\"black\" stroke=\"black\" points=\"989.5,-1918.1 986,-1908.1 982.5,-1918.1 989.5,-1918.1\"/>\n",
       "</g>\n",
       "<!-- PPP2CA&#45;&gt;VCAM1 -->\n",
       "<g id=\"edge158\" class=\"edge\">\n",
       "<title>PPP2CA&#45;&gt;VCAM1</title>\n",
       "<path fill=\"none\" stroke=\"black\" d=\"M2976.76,-1656.01C2969.99,-1626.57 2958.29,-1564.21 2966,-1512 2967.3,-1503.21 2969.74,-1493.86 2972.34,-1485.5\"/>\n",
       "<polygon fill=\"black\" stroke=\"black\" points=\"2975.7,-1486.49 2975.51,-1475.9 2969.05,-1484.29 2975.7,-1486.49\"/>\n",
       "</g>\n",
       "<!-- PPP2CA&#45;&gt;FN1 -->\n",
       "<g id=\"edge107\" class=\"edge\">\n",
       "<title>PPP2CA&#45;&gt;FN1</title>\n",
       "<path fill=\"none\" stroke=\"black\" d=\"M2960.36,-1657.46C2946.76,-1647.23 2928.84,-1633.74 2914.23,-1622.74\"/>\n",
       "<polygon fill=\"black\" stroke=\"black\" points=\"2916.16,-1619.82 2906.07,-1616.6 2911.95,-1625.41 2916.16,-1619.82\"/>\n",
       "</g>\n",
       "<!-- FN1&#45;&gt;CSNK2B -->\n",
       "<g id=\"edge132\" class=\"edge\">\n",
       "<title>FN1&#45;&gt;CSNK2B</title>\n",
       "<path fill=\"none\" stroke=\"black\" d=\"M2917.56,-1597.01C2967.96,-1589.63 3067.45,-1572.35 3092,-1548 3127.29,-1513 3088.77,-1477.84 3121,-1440 3137.88,-1420.18 3163.68,-1407.44 3186.85,-1399.43\"/>\n",
       "<polygon fill=\"black\" stroke=\"black\" points=\"3188.14,-1402.69 3196.58,-1396.29 3185.99,-1396.03 3188.14,-1402.69\"/>\n",
       "</g>\n",
       "<!-- FN1&#45;&gt;PPP1CA -->\n",
       "<g id=\"edge161\" class=\"edge\">\n",
       "<title>FN1&#45;&gt;PPP1CA</title>\n",
       "<path fill=\"none\" stroke=\"black\" d=\"M2918.47,-1599.68C3005.81,-1594 3255.72,-1563.82 3332,-1404 3351.05,-1364.09 3222.39,-694.69 3194.33,-550.31\"/>\n",
       "<polygon fill=\"black\" stroke=\"black\" points=\"3197.69,-549.26 3192.34,-540.11 3190.82,-550.6 3197.69,-549.26\"/>\n",
       "</g>\n",
       "<!-- FN1&#45;&gt;BAG6 -->\n",
       "<g id=\"edge183\" class=\"edge\">\n",
       "<title>FN1&#45;&gt;BAG6</title>\n",
       "<path fill=\"none\" stroke=\"black\" d=\"M2862.02,-1592.26C2839.75,-1583.74 2807.89,-1568.99 2786,-1548 2746.05,-1509.69 2756.84,-1484.55 2724,-1440 2602.9,-1275.74 2421.94,-1108.17 2356.1,-1049.17\"/>\n",
       "<polygon fill=\"black\" stroke=\"black\" points=\"2358.09,-1046.26 2348.3,-1042.21 2353.42,-1051.48 2358.09,-1046.26\"/>\n",
       "</g>\n",
       "<!-- FN1&#45;&gt;SYNCRIP -->\n",
       "<g id=\"edge108\" class=\"edge\">\n",
       "<title>FN1&#45;&gt;SYNCRIP</title>\n",
       "<path fill=\"none\" stroke=\"black\" d=\"M2910.65,-1589.75C2932.36,-1578.98 2965.51,-1562.52 2991.21,-1549.76\"/>\n",
       "<polygon fill=\"black\" stroke=\"black\" points=\"2992.91,-1552.83 3000.31,-1545.25 2989.79,-1546.56 2992.91,-1552.83\"/>\n",
       "</g>\n",
       "<!-- FN1&#45;&gt;HMGA1 -->\n",
       "<g id=\"edge227\" class=\"edge\">\n",
       "<title>FN1&#45;&gt;HMGA1</title>\n",
       "<path fill=\"none\" stroke=\"black\" d=\"M2918.83,-1601.64C2967.33,-1601.12 3062.36,-1593.77 3125,-1548 3146.14,-1532.56 3160.1,-1505.7 3168.18,-1485.52\"/>\n",
       "<polygon fill=\"black\" stroke=\"black\" points=\"3171.54,-1486.54 3171.78,-1475.95 3164.98,-1484.08 3171.54,-1486.54\"/>\n",
       "</g>\n",
       "<!-- FN1&#45;&gt;XRCC6 -->\n",
       "<g id=\"edge246\" class=\"edge\">\n",
       "<title>FN1&#45;&gt;XRCC6</title>\n",
       "<path fill=\"none\" stroke=\"black\" d=\"M2891.93,-1584.01C2895.37,-1565.66 2898.62,-1535.84 2890,-1512 2874.75,-1469.84 2838.4,-1431.88 2812.99,-1409.14\"/>\n",
       "<polygon fill=\"black\" stroke=\"black\" points=\"2815,-1406.25 2805.17,-1402.3 2810.4,-1411.52 2815,-1406.25\"/>\n",
       "</g>\n",
       "<!-- FN1&#45;&gt;KPNA2 -->\n",
       "<g id=\"edge290\" class=\"edge\">\n",
       "<title>FN1&#45;&gt;KPNA2</title>\n",
       "<path fill=\"none\" stroke=\"black\" d=\"M2862.19,-1592.01C2825.4,-1579.02 2761.38,-1555.72 2753,-1548 2713.67,-1511.78 2736.89,-1478.71 2700,-1440 2684.72,-1423.96 2663.5,-1411.56 2644.9,-1402.79\"/>\n",
       "<polygon fill=\"black\" stroke=\"black\" points=\"2646.29,-1399.58 2635.73,-1398.66 2643.41,-1405.96 2646.29,-1399.58\"/>\n",
       "</g>\n",
       "<!-- FN1&#45;&gt;KANK2 -->\n",
       "<g id=\"edge295\" class=\"edge\">\n",
       "<title>FN1&#45;&gt;KANK2</title>\n",
       "<path fill=\"none\" stroke=\"black\" d=\"M2857.23,-1600.75C2636.51,-1598.4 1294.26,-1574.19 987,-1332 861.76,-1233.28 798,-1186.47 798,-1027 798,-1027 798,-1027 798,-953 798,-816.16 684,-803.84 684,-667 684,-667 684,-667 684,-449 684,-407.63 668.77,-361.72 657.59,-333.61\"/>\n",
       "<polygon fill=\"black\" stroke=\"black\" points=\"660.72,-332.02 653.69,-324.09 654.24,-334.67 660.72,-332.02\"/>\n",
       "</g>\n",
       "<!-- PFDN5&#45;&gt;PITX2 -->\n",
       "<g id=\"edge223\" class=\"edge\">\n",
       "<title>PFDN5&#45;&gt;PITX2</title>\n",
       "<path fill=\"none\" stroke=\"black\" d=\"M2821.61,-2089.58C2882.47,-2042.18 3074.51,-1896.03 3249,-1800 3425.85,-1702.67 3490.88,-1720.4 3666,-1620 3712.89,-1593.12 3728.71,-1588.94 3764,-1548 3811.25,-1493.19 3822.6,-1474.24 3840,-1404 3897.83,-1170.52 3869.15,-1095.54 3804,-864 3758.96,-703.92 3650,-689.29 3650,-523 3650,-523 3650,-523 3650,-449 3650,-409 3650,-362.65 3650,-334.08\"/>\n",
       "<polygon fill=\"black\" stroke=\"black\" points=\"3653.5,-334.05 3650,-324.05 3646.5,-334.05 3653.5,-334.05\"/>\n",
       "</g>\n",
       "<!-- PFDN5&#45;&gt;POGZ -->\n",
       "<g id=\"edge229\" class=\"edge\">\n",
       "<title>PFDN5&#45;&gt;POGZ</title>\n",
       "<path fill=\"none\" stroke=\"black\" d=\"M2812.64,-2088.17C2844.62,-2038.65 2944.64,-1891.24 3058,-1800 3138.53,-1735.18 3179.71,-1751.84 3264,-1692 3397.35,-1597.33 3444.86,-1560.29 3493,-1404 3527.11,-1293.24 3422.42,-1171.45 3373.15,-1121.88\"/>\n",
       "<polygon fill=\"black\" stroke=\"black\" points=\"3375.32,-1119.1 3365.74,-1114.55 3370.39,-1124.07 3375.32,-1119.1\"/>\n",
       "</g>\n",
       "<!-- PFDN5&#45;&gt;IRX2 -->\n",
       "<g id=\"edge110\" class=\"edge\">\n",
       "<title>PFDN5&#45;&gt;IRX2</title>\n",
       "<path fill=\"none\" stroke=\"black\" d=\"M2771.82,-2092.65C2742.32,-2080.57 2697.42,-2062.19 2666.28,-2049.44\"/>\n",
       "<polygon fill=\"black\" stroke=\"black\" points=\"2667.27,-2046.07 2656.69,-2045.52 2664.62,-2052.54 2667.27,-2046.07\"/>\n",
       "</g>\n",
       "<!-- PFDN5&#45;&gt;ABI2 -->\n",
       "<g id=\"edge308\" class=\"edge\">\n",
       "<title>PFDN5&#45;&gt;ABI2</title>\n",
       "<path fill=\"none\" stroke=\"black\" d=\"M2793.01,-2088.28C2782.56,-2069.63 2764.15,-2039.05 2744,-2016 2679.5,-1942.22 2661.86,-1921.03 2577,-1872 2535.01,-1847.74 2517.31,-1857.81 2474,-1836 2397.7,-1797.58 2391.29,-1766.44 2315,-1728 2055.53,-1597.27 1974.49,-1601.27 1698,-1512 1649.93,-1496.48 1594.05,-1480.21 1557.68,-1469.86\"/>\n",
       "<polygon fill=\"black\" stroke=\"black\" points=\"1558.54,-1466.47 1547.97,-1467.11 1556.63,-1473.2 1558.54,-1466.47\"/>\n",
       "</g>\n",
       "<!-- RPRD1B&#45;&gt;DDIT4L -->\n",
       "<g id=\"edge235\" class=\"edge\">\n",
       "<title>RPRD1B&#45;&gt;DDIT4L</title>\n",
       "<path fill=\"none\" stroke=\"black\" d=\"M1561.17,-2030.35C1354.2,-2018.96 569.12,-1971.86 480,-1908 336.28,-1805.02 375.88,-1675.98 442,-1512 467.6,-1448.51 532,-1455.46 532,-1387 532,-1387 532,-1387 532,-1097 532,-948.1 748.47,-618.22 844,-504 854.3,-491.69 867.9,-480.39 880.24,-471.42\"/>\n",
       "<polygon fill=\"black\" stroke=\"black\" points=\"882.35,-474.21 888.52,-465.59 878.32,-468.48 882.35,-474.21\"/>\n",
       "</g>\n",
       "<!-- RPRD1B&#45;&gt;HOXC4 -->\n",
       "<g id=\"edge134\" class=\"edge\">\n",
       "<title>RPRD1B&#45;&gt;HOXC4</title>\n",
       "<path fill=\"none\" stroke=\"black\" d=\"M1660.15,-2029.28C1803.9,-2017.69 2220.64,-1978.63 2335,-1908 2461.83,-1829.66 2636.34,-1481.49 2733,-1368 2741.62,-1357.88 2751.73,-1347.31 2760.74,-1338.3\"/>\n",
       "<polygon fill=\"black\" stroke=\"black\" points=\"2763.33,-1340.66 2767.98,-1331.14 2758.41,-1335.68 2763.33,-1340.66\"/>\n",
       "</g>\n",
       "<!-- UBE2I -->\n",
       "<g id=\"node105\" class=\"node\">\n",
       "<title>UBE2I</title>\n",
       "<ellipse fill=\"lightgray\" stroke=\"black\" cx=\"1798\" cy=\"-1962\" rx=\"41.69\" ry=\"18\"/>\n",
       "<text text-anchor=\"middle\" x=\"1798\" y=\"-1958.3\" font-family=\"Times,serif\" font-size=\"14.00\">UBE2I</text>\n",
       "</g>\n",
       "<!-- RPRD1B&#45;&gt;UBE2I -->\n",
       "<g id=\"edge112\" class=\"edge\">\n",
       "<title>RPRD1B&#45;&gt;UBE2I</title>\n",
       "<path fill=\"none\" stroke=\"black\" d=\"M1644.86,-2020.32C1676.67,-2008.42 1724.27,-1990.6 1757.95,-1977.99\"/>\n",
       "<polygon fill=\"black\" stroke=\"black\" points=\"1759.35,-1981.21 1767.48,-1974.42 1756.89,-1974.65 1759.35,-1981.21\"/>\n",
       "</g>\n",
       "<!-- UBE2I&#45;&gt;AR -->\n",
       "<g id=\"edge146\" class=\"edge\">\n",
       "<title>UBE2I&#45;&gt;AR</title>\n",
       "<path fill=\"none\" stroke=\"black\" d=\"M1756.56,-1959.66C1561.96,-1953.28 747.45,-1925.56 728,-1908 692.19,-1875.67 705.4,-1846.83 717,-1800 721.35,-1782.44 727.7,-1780.07 736,-1764 747,-1742.71 759.25,-1718.44 768.19,-1700.62\"/>\n",
       "<polygon fill=\"black\" stroke=\"black\" points=\"771.44,-1701.96 772.79,-1691.45 765.18,-1698.82 771.44,-1701.96\"/>\n",
       "</g>\n",
       "<!-- UBE2I&#45;&gt;DAXX -->\n",
       "<g id=\"edge153\" class=\"edge\">\n",
       "<title>UBE2I&#45;&gt;DAXX</title>\n",
       "<path fill=\"none\" stroke=\"black\" d=\"M1787.92,-1944.38C1776.3,-1925.82 1756.06,-1895.33 1735,-1872 1653.53,-1781.75 1613.91,-1779.02 1529,-1692 1508.68,-1671.17 1487.67,-1645.43 1473.25,-1626.99\"/>\n",
       "<polygon fill=\"black\" stroke=\"black\" points=\"1476.01,-1624.84 1467.12,-1619.08 1470.48,-1629.13 1476.01,-1624.84\"/>\n",
       "</g>\n",
       "<!-- UBE2I&#45;&gt;POU2F1 -->\n",
       "<g id=\"edge228\" class=\"edge\">\n",
       "<title>UBE2I&#45;&gt;POU2F1</title>\n",
       "<path fill=\"none\" stroke=\"black\" d=\"M1839.4,-1959.15C1929.92,-1954.63 2151.97,-1940.87 2335,-1908 2396.96,-1896.87 2549.47,-1856.5 2609,-1836 2723.83,-1796.46 2742.52,-1758.78 2860,-1728 3006.14,-1689.71 3056.25,-1744.26 3198,-1692 3263.7,-1667.78 3328,-1673.02 3328,-1603 3328,-1603 3328,-1603 3328,-1529 3328,-1478.03 3372.41,-1433.55 3403.73,-1408.51\"/>\n",
       "<polygon fill=\"black\" stroke=\"black\" points=\"3406.02,-1411.17 3411.78,-1402.28 3401.73,-1405.64 3406.02,-1411.17\"/>\n",
       "</g>\n",
       "<!-- UBE2I&#45;&gt;PDLIM7 -->\n",
       "<g id=\"edge240\" class=\"edge\">\n",
       "<title>UBE2I&#45;&gt;PDLIM7</title>\n",
       "<path fill=\"none\" stroke=\"black\" d=\"M1756.39,-1959.96C1568.69,-1955.14 805.57,-1934.07 702,-1908 629.9,-1889.85 590.68,-1898.88 551,-1836 542.46,-1822.47 549.79,-1815.95 551,-1800 555.23,-1743.97 570,-1731.19 570,-1675 570,-1675 570,-1675 570,-1601 570,-1534.89 700.15,-1404.91 755,-1368 802.26,-1336.2 835.49,-1369.91 878,-1332 1020.56,-1204.87 912.4,-1073.48 1045,-936 1062.82,-917.53 1088.32,-904.84 1110.69,-896.52\"/>\n",
       "<polygon fill=\"black\" stroke=\"black\" points=\"1112.11,-899.74 1120.38,-893.11 1109.79,-893.13 1112.11,-899.74\"/>\n",
       "</g>\n",
       "<!-- UBE2I&#45;&gt;TCF7L2 -->\n",
       "<g id=\"edge273\" class=\"edge\">\n",
       "<title>UBE2I&#45;&gt;TCF7L2</title>\n",
       "<path fill=\"none\" stroke=\"black\" d=\"M1801.98,-1943.87C1807.63,-1919.56 1818.03,-1874.82 1824.72,-1846.01\"/>\n",
       "<polygon fill=\"black\" stroke=\"black\" points=\"1828.15,-1846.72 1827.01,-1836.19 1821.33,-1845.14 1828.15,-1846.72\"/>\n",
       "</g>\n",
       "<!-- UBE2I&#45;&gt;JUN -->\n",
       "<g id=\"edge289\" class=\"edge\">\n",
       "<title>UBE2I&#45;&gt;JUN</title>\n",
       "<path fill=\"none\" stroke=\"black\" d=\"M1826.26,-1948.77C1881.48,-1923.26 2003.33,-1858.8 2061,-1764 2077.86,-1736.28 2070.32,-1724.33 2073,-1692 2086.5,-1528.94 2026.24,-1492.8 1996,-1332 1955.64,-1117.35 1961,-808.34 1961,-739 1961,-739 1961,-739 1961,-521 1961,-477.09 1984.77,-430.67 2001.61,-403.3\"/>\n",
       "<polygon fill=\"black\" stroke=\"black\" points=\"2004.61,-405.1 2007.01,-394.78 1998.7,-401.35 2004.61,-405.1\"/>\n",
       "</g>\n",
       "<!-- PIAS4 -->\n",
       "<g id=\"node106\" class=\"node\">\n",
       "<title>PIAS4</title>\n",
       "<ellipse fill=\"lightgray\" stroke=\"black\" cx=\"1687\" cy=\"-1890\" rx=\"38.99\" ry=\"18\"/>\n",
       "<text text-anchor=\"middle\" x=\"1687\" y=\"-1886.3\" font-family=\"Times,serif\" font-size=\"14.00\">PIAS4</text>\n",
       "</g>\n",
       "<!-- UBE2I&#45;&gt;PIAS4 -->\n",
       "<g id=\"edge113\" class=\"edge\">\n",
       "<title>UBE2I&#45;&gt;PIAS4</title>\n",
       "<path fill=\"none\" stroke=\"black\" d=\"M1775.54,-1946.83C1758.88,-1936.33 1735.98,-1921.89 1717.64,-1910.32\"/>\n",
       "<polygon fill=\"black\" stroke=\"black\" points=\"1719.38,-1907.28 1709.05,-1904.91 1715.64,-1913.2 1719.38,-1907.28\"/>\n",
       "</g>\n",
       "<!-- UBE2I&#45;&gt;SOX5 -->\n",
       "<g id=\"edge309\" class=\"edge\">\n",
       "<title>UBE2I&#45;&gt;SOX5</title>\n",
       "<path fill=\"none\" stroke=\"black\" d=\"M1765.59,-1950.61C1733.37,-1940.19 1682.59,-1923.49 1639,-1908 1636.59,-1907.14 1634.11,-1906.25 1631.62,-1905.34\"/>\n",
       "<polygon fill=\"black\" stroke=\"black\" points=\"1632.62,-1901.97 1622.02,-1901.78 1630.18,-1908.54 1632.62,-1901.97\"/>\n",
       "</g>\n",
       "<!-- UBE2I&#45;&gt;LMO2 -->\n",
       "<g id=\"edge310\" class=\"edge\">\n",
       "<title>UBE2I&#45;&gt;LMO2</title>\n",
       "<path fill=\"none\" stroke=\"black\" d=\"M1792.83,-1943.86C1786.87,-1925.38 1776.04,-1895.45 1762,-1872 1681.27,-1737.19 1545.22,-1604.73 1489.71,-1553.35\"/>\n",
       "<polygon fill=\"black\" stroke=\"black\" points=\"1491.85,-1550.57 1482.12,-1546.37 1487.11,-1555.72 1491.85,-1550.57\"/>\n",
       "</g>\n",
       "<!-- UBE2I&#45;&gt;IPO13 -->\n",
       "<g id=\"edge311\" class=\"edge\">\n",
       "<title>UBE2I&#45;&gt;IPO13</title>\n",
       "<path fill=\"none\" stroke=\"black\" d=\"M1837.11,-1955.39C1925.93,-1942.65 2142.56,-1911.57 2238.7,-1897.78\"/>\n",
       "<polygon fill=\"black\" stroke=\"black\" points=\"2239.32,-1901.23 2248.72,-1896.35 2238.33,-1894.3 2239.32,-1901.23\"/>\n",
       "</g>\n",
       "<!-- PIAS4&#45;&gt;LEF1 -->\n",
       "<g id=\"edge114\" class=\"edge\">\n",
       "<title>PIAS4&#45;&gt;LEF1</title>\n",
       "<path fill=\"none\" stroke=\"black\" d=\"M1658.39,-1877.62C1652.09,-1875.46 1645.38,-1873.44 1639,-1872 1468.83,-1833.68 1260.71,-1823 1169.96,-1820.08\"/>\n",
       "<polygon fill=\"black\" stroke=\"black\" points=\"1169.85,-1816.57 1159.75,-1819.77 1169.64,-1823.57 1169.85,-1816.57\"/>\n",
       "</g>\n",
       "<!-- SOX5&#45;&gt;LMO2 -->\n",
       "<g id=\"edge116\" class=\"edge\">\n",
       "<title>SOX5&#45;&gt;LMO2</title>\n",
       "<path fill=\"none\" stroke=\"black\" d=\"M1590.66,-1871.81C1581.03,-1824.3 1550.7,-1687.87 1501,-1584 1496.32,-1574.22 1489.98,-1564.2 1483.93,-1555.54\"/>\n",
       "<polygon fill=\"black\" stroke=\"black\" points=\"1486.74,-1553.45 1478.04,-1547.4 1481.06,-1557.55 1486.74,-1553.45\"/>\n",
       "</g>\n",
       "<!-- LMO2&#45;&gt;ZNF655 -->\n",
       "<g id=\"edge169\" class=\"edge\">\n",
       "<title>LMO2&#45;&gt;ZNF655</title>\n",
       "<path fill=\"none\" stroke=\"black\" d=\"M1494.25,-1518.03C1540.49,-1500.81 1633.39,-1466.62 1713,-1440 1764.19,-1422.88 1795.07,-1445.98 1829,-1404 1894.63,-1322.79 1856.41,-1039.39 1871,-936 1888.02,-815.43 1923,-788.77 1923,-667 1923,-667 1923,-667 1923,-305 1923,-199.27 2293.52,-171.79 2440.22,-165.06\"/>\n",
       "<polygon fill=\"black\" stroke=\"black\" points=\"2440.55,-168.55 2450.39,-164.61 2440.24,-161.56 2440.55,-168.55\"/>\n",
       "</g>\n",
       "<!-- LMO2&#45;&gt;POLR2G -->\n",
       "<g id=\"edge256\" class=\"edge\">\n",
       "<title>LMO2&#45;&gt;POLR2G</title>\n",
       "<path fill=\"none\" stroke=\"black\" d=\"M1504.19,-1529.02C1604.18,-1528.37 1865.85,-1522.2 1937,-1476 1990.02,-1441.57 2073.57,-1265.17 2104.22,-1197.49\"/>\n",
       "<polygon fill=\"black\" stroke=\"black\" points=\"2107.6,-1198.51 2108.51,-1187.96 2101.21,-1195.64 2107.6,-1198.51\"/>\n",
       "</g>\n",
       "<!-- LMO2&#45;&gt;LDB2 -->\n",
       "<g id=\"edge267\" class=\"edge\">\n",
       "<title>LMO2&#45;&gt;LDB2</title>\n",
       "<path fill=\"none\" stroke=\"black\" d=\"M1426.55,-1526.55C1222.66,-1513.35 275.77,-1449.74 235,-1404 220.09,-1387.28 223.64,-1361.01 229.54,-1341.33\"/>\n",
       "<polygon fill=\"black\" stroke=\"black\" points=\"232.9,-1342.33 232.76,-1331.73 226.27,-1340.11 232.9,-1342.33\"/>\n",
       "</g>\n",
       "<!-- LMO2&#45;&gt;NUTM1 -->\n",
       "<g id=\"edge292\" class=\"edge\">\n",
       "<title>LMO2&#45;&gt;NUTM1</title>\n",
       "<path fill=\"none\" stroke=\"black\" d=\"M1434.12,-1518.8C1371.07,-1497.27 1231.26,-1445.76 1205,-1404 1193.25,-1385.32 1198.17,-1360.08 1204.91,-1341.25\"/>\n",
       "<polygon fill=\"black\" stroke=\"black\" points=\"1208.22,-1342.39 1208.63,-1331.8 1201.71,-1339.82 1208.22,-1342.39\"/>\n",
       "</g>\n",
       "<!-- LMO2&#45;&gt;KANK2 -->\n",
       "<g id=\"edge296\" class=\"edge\">\n",
       "<title>LMO2&#45;&gt;KANK2</title>\n",
       "<path fill=\"none\" stroke=\"black\" d=\"M1426.62,-1526.37C1301.91,-1515.89 902.68,-1466.99 669,-1260 535.55,-1141.79 532,-1061.28 532,-883 532,-883 532,-883 532,-593 532,-490.06 596.52,-380.14 628.48,-332\"/>\n",
       "<polygon fill=\"black\" stroke=\"black\" points=\"631.54,-333.73 634.23,-323.48 625.73,-329.81 631.54,-333.73\"/>\n",
       "</g>\n",
       "<!-- LMO2&#45;&gt;ABI2 -->\n",
       "<g id=\"edge117\" class=\"edge\">\n",
       "<title>LMO2&#45;&gt;ABI2</title>\n",
       "<path fill=\"none\" stroke=\"black\" d=\"M1477.52,-1512.76C1484.27,-1504.02 1492.73,-1493.05 1500.25,-1483.31\"/>\n",
       "<polygon fill=\"black\" stroke=\"black\" points=\"1503.21,-1485.2 1506.54,-1475.15 1497.66,-1480.93 1503.21,-1485.2\"/>\n",
       "</g>\n",
       "<!-- ABI2&#45;&gt;CCHCR1 -->\n",
       "<g id=\"edge176\" class=\"edge\">\n",
       "<title>ABI2&#45;&gt;CCHCR1</title>\n",
       "<path fill=\"none\" stroke=\"black\" d=\"M1513.27,-1440.23C1506.61,-1421.8 1494.64,-1391.67 1480,-1368 1458.09,-1332.57 1449.15,-1325.76 1420,-1296 1409.6,-1285.38 1397.35,-1274.47 1386.57,-1265.33\"/>\n",
       "<polygon fill=\"black\" stroke=\"black\" points=\"1388.59,-1262.45 1378.67,-1258.72 1384.09,-1267.82 1388.59,-1262.45\"/>\n",
       "</g>\n",
       "<!-- ABI2&#45;&gt;ZNF474 -->\n",
       "<g id=\"edge204\" class=\"edge\">\n",
       "<title>ABI2&#45;&gt;ZNF474</title>\n",
       "<path fill=\"none\" stroke=\"black\" d=\"M1547.91,-1448.97C1590.69,-1437.09 1671.37,-1414.67 1723.09,-1400.31\"/>\n",
       "<polygon fill=\"black\" stroke=\"black\" points=\"1724.32,-1403.6 1733.02,-1397.55 1722.45,-1396.85 1724.32,-1403.6\"/>\n",
       "</g>\n",
       "<!-- ABI2&#45;&gt;CCDC57 -->\n",
       "<g id=\"edge209\" class=\"edge\">\n",
       "<title>ABI2&#45;&gt;CCDC57</title>\n",
       "<path fill=\"none\" stroke=\"black\" d=\"M1523.54,-1440.09C1530.25,-1413.63 1542,-1360.7 1542,-1315 1542,-1315 1542,-1315 1542,-1169 1542,-931.97 1591.68,-876.14 1656,-648 1665.19,-615.4 1663.43,-604.96 1681,-576 1687.49,-565.29 1696.44,-554.94 1704.98,-546.27\"/>\n",
       "<polygon fill=\"black\" stroke=\"black\" points=\"1707.59,-548.61 1712.3,-539.12 1702.7,-543.6 1707.59,-548.61\"/>\n",
       "</g>\n",
       "<!-- ABI2&#45;&gt;PDLIM7 -->\n",
       "<g id=\"edge241\" class=\"edge\">\n",
       "<title>ABI2&#45;&gt;PDLIM7</title>\n",
       "<path fill=\"none\" stroke=\"black\" d=\"M1495.48,-1445.29C1455.4,-1425.89 1370.83,-1387.3 1295,-1368 1230.36,-1351.55 1041.25,-1381.91 997,-1332 986.39,-1320.03 992.62,-1311.39 997,-1296 1033.04,-1169.3 1106.63,-1167.29 1153,-1044 1169.72,-999.54 1166.9,-943.23 1163.1,-910.35\"/>\n",
       "<polygon fill=\"black\" stroke=\"black\" points=\"1166.54,-909.62 1161.81,-900.14 1159.6,-910.51 1166.54,-909.62\"/>\n",
       "</g>\n",
       "<!-- ABI2&#45;&gt;RNPS1 -->\n",
       "<g id=\"edge244\" class=\"edge\">\n",
       "<title>ABI2&#45;&gt;RNPS1</title>\n",
       "<path fill=\"none\" stroke=\"black\" d=\"M1533.95,-1441.55C1598.11,-1373.5 1847,-1091.49 1847,-811 1847,-811 1847,-811 1847,-377 1847,-266.02 1465.01,-193.61 1324.81,-170.76\"/>\n",
       "<polygon fill=\"black\" stroke=\"black\" points=\"1325.18,-167.28 1314.75,-169.14 1324.07,-174.19 1325.18,-167.28\"/>\n",
       "</g>\n",
       "<!-- ABI2&#45;&gt;LHX8 -->\n",
       "<g id=\"edge118\" class=\"edge\">\n",
       "<title>ABI2&#45;&gt;LHX8</title>\n",
       "<path fill=\"none\" stroke=\"black\" d=\"M1489.7,-1449.38C1441.76,-1436.9 1346.4,-1412.09 1291.51,-1397.8\"/>\n",
       "<polygon fill=\"black\" stroke=\"black\" points=\"1292.31,-1394.39 1281.75,-1395.26 1290.55,-1401.17 1292.31,-1394.39\"/>\n",
       "</g>\n",
       "<!-- ENSG00000105991&#45;&gt;KRTAP6&#45;2 -->\n",
       "<g id=\"edge194\" class=\"edge\">\n",
       "<title>ENSG00000105991&#45;&gt;KRTAP6&#45;2</title>\n",
       "<path fill=\"none\" stroke=\"black\" d=\"M3765.95,-2088.78C3657.59,-2035.73 3303,-1862.96 3006,-1728 2969.39,-1711.37 2957.56,-1712.56 2923,-1692 2900.69,-1678.73 2897.53,-1671.89 2877,-1656 2835.39,-1623.78 2826.18,-1614.08 2783,-1584 2758.41,-1566.87 2748.08,-1568.26 2726,-1548 2681.59,-1507.26 2692.15,-1476.25 2644,-1440 2608.59,-1413.34 2576.05,-1440.56 2551,-1404 2541.96,-1390.8 2545.28,-1382.94 2551,-1368 2556.77,-1352.94 2640.72,-1274.39 2648,-1260 2662.76,-1230.84 2658.45,-1220.37 2663,-1188 2678.62,-1076.87 2707.66,-1044.5 2679,-936 2669.01,-898.18 2644.63,-859.81 2627.23,-835.74\"/>\n",
       "<polygon fill=\"black\" stroke=\"black\" points=\"2629.94,-833.51 2621.18,-827.55 2624.31,-837.67 2629.94,-833.51\"/>\n",
       "</g>\n",
       "<!-- ENSG00000105991&#45;&gt;COL8A1 -->\n",
       "<g id=\"edge214\" class=\"edge\">\n",
       "<title>ENSG00000105991&#45;&gt;COL8A1</title>\n",
       "<path fill=\"none\" stroke=\"black\" d=\"M3808.28,-2087.92C3813.82,-2077.58 3820.95,-2064.1 3827,-2052 3850.74,-2004.52 3852.79,-1990.71 3878,-1944 3975.96,-1762.48 4054.58,-1743.61 4120,-1548 4165.71,-1411.31 4142.03,-1367.91 4134,-1224 4130.88,-1168.18 4120,-1154.9 4120,-1099 4120,-1099 4120,-1099 4120,-665 4120,-621.56 4096.75,-575.68 4079.94,-548.2\"/>\n",
       "<polygon fill=\"black\" stroke=\"black\" points=\"4082.83,-546.21 4074.53,-539.62 4076.9,-549.94 4082.83,-546.21\"/>\n",
       "</g>\n",
       "<!-- ENSG00000105991&#45;&gt;RBPMS -->\n",
       "<g id=\"edge219\" class=\"edge\">\n",
       "<title>ENSG00000105991&#45;&gt;RBPMS</title>\n",
       "<path fill=\"none\" stroke=\"black\" d=\"M3816.6,-2088.12C3826.63,-2078.08 3839.13,-2064.83 3849,-2052 3883.44,-2007.23 3880.91,-1988.26 3916,-1944 3986.29,-1855.34 4031.09,-1856.66 4096,-1764 4202.1,-1612.55 4272,-1571.92 4272,-1387 4272,-1387 4272,-1387 4272,-521 4272,-466.65 4107.4,-414.27 4024.1,-391.23\"/>\n",
       "<polygon fill=\"black\" stroke=\"black\" points=\"4024.93,-387.83 4014.36,-388.57 4023.09,-394.59 4024.93,-387.83\"/>\n",
       "</g>\n",
       "<!-- ENSG00000105991&#45;&gt;PITX2 -->\n",
       "<g id=\"edge224\" class=\"edge\">\n",
       "<title>ENSG00000105991&#45;&gt;PITX2</title>\n",
       "<path fill=\"none\" stroke=\"black\" d=\"M3827.48,-2088.44C3949.75,-2015 4424,-1704.99 4424,-1315 4424,-1315 4424,-1315 4424,-737 4424,-598.67 4459.11,-530.51 4362,-432 4268.84,-337.51 3843.79,-313.83 3698.7,-308.45\"/>\n",
       "<polygon fill=\"black\" stroke=\"black\" points=\"3698.46,-304.94 3688.35,-308.08 3698.21,-311.94 3698.46,-304.94\"/>\n",
       "</g>\n",
       "<!-- ENSG00000105991&#45;&gt;CATSPER1 -->\n",
       "<g id=\"edge253\" class=\"edge\">\n",
       "<title>ENSG00000105991&#45;&gt;CATSPER1</title>\n",
       "<path fill=\"none\" stroke=\"black\" d=\"M3695.9,-2104.25C3558.15,-2101.71 3322.63,-2091.5 3247,-2052 3079.59,-1964.55 3123.46,-1840.85 2972,-1728 2940.08,-1704.22 2924.4,-1712.02 2890,-1692 2820.54,-1651.59 2812.93,-1626.92 2745,-1584 2716.09,-1565.73 2701.34,-1572.02 2677,-1548 2638.07,-1509.58 2659.54,-1475.58 2618,-1440 2582.12,-1409.27 2545.16,-1442.65 2518,-1404 2472.77,-1339.64 2589.4,-1323.27 2626,-1260 2646.51,-1224.54 2650,-1211.97 2650,-1171 2650,-1171 2650,-1171 2650,-1097 2650,-1055.15 2633.01,-1009.1 2620.65,-981.11\"/>\n",
       "<polygon fill=\"black\" stroke=\"black\" points=\"2623.83,-979.66 2616.5,-972.01 2617.46,-982.56 2623.83,-979.66\"/>\n",
       "</g>\n",
       "<!-- ENSG00000105991&#45;&gt;MKRN3 -->\n",
       "<g id=\"edge266\" class=\"edge\">\n",
       "<title>ENSG00000105991&#45;&gt;MKRN3</title>\n",
       "<path fill=\"none\" stroke=\"black\" d=\"M3696.82,-2103.3C3315.73,-2096.86 1977.34,-2073.22 1551,-2052 1129.42,-2031.02 1004.99,-2111.83 604,-1980 489.43,-1942.33 432.42,-1941.51 374,-1836 365.13,-1819.99 358.04,-1832.97 382,-1656 402.81,-1502.32 456,-1470.08 456,-1315 456,-1315 456,-1315 456,-593 456,-525.39 467.98,-446.51 475.01,-406.02\"/>\n",
       "<polygon fill=\"black\" stroke=\"black\" points=\"478.46,-406.58 476.76,-396.13 471.57,-405.36 478.46,-406.58\"/>\n",
       "</g>\n",
       "<!-- ENSG00000105991&#45;&gt;KRTAP6&#45;1 -->\n",
       "<g id=\"edge275\" class=\"edge\">\n",
       "<title>ENSG00000105991&#45;&gt;KRTAP6&#45;1</title>\n",
       "<path fill=\"none\" stroke=\"black\" d=\"M3802.53,-2087.9C3819.52,-2005.09 3892,-1645.08 3892,-1531 3892,-1531 3892,-1531 3892,-1385 3892,-1371.36 3699.62,-947.93 3693,-936 3687.73,-926.52 3681.26,-916.57 3675.26,-907.89\"/>\n",
       "<polygon fill=\"black\" stroke=\"black\" points=\"3678.1,-905.85 3669.48,-899.69 3672.38,-909.88 3678.1,-905.85\"/>\n",
       "</g>\n",
       "<!-- NEDD9 -->\n",
       "<g id=\"node111\" class=\"node\">\n",
       "<title>NEDD9</title>\n",
       "<ellipse fill=\"lightgray\" stroke=\"black\" cx=\"3034\" cy=\"-2034\" rx=\"46.29\" ry=\"18\"/>\n",
       "<text text-anchor=\"middle\" x=\"3034\" y=\"-2030.3\" font-family=\"Times,serif\" font-size=\"14.00\">NEDD9</text>\n",
       "</g>\n",
       "<!-- ENSG00000105991&#45;&gt;NEDD9 -->\n",
       "<g id=\"edge120\" class=\"edge\">\n",
       "<title>ENSG00000105991&#45;&gt;NEDD9</title>\n",
       "<path fill=\"none\" stroke=\"black\" d=\"M3709.02,-2097.12C3593.31,-2086.94 3386.15,-2068.56 3209,-2052 3168.65,-2048.23 3123.08,-2043.8 3088.56,-2040.4\"/>\n",
       "<polygon fill=\"black\" stroke=\"black\" points=\"3088.52,-2036.88 3078.22,-2039.39 3087.83,-2043.85 3088.52,-2036.88\"/>\n",
       "</g>\n",
       "<!-- NEDD9&#45;&gt;RBPMS -->\n",
       "<g id=\"edge220\" class=\"edge\">\n",
       "<title>NEDD9&#45;&gt;RBPMS</title>\n",
       "<path fill=\"none\" stroke=\"black\" d=\"M3046.95,-2016.29C3072.34,-1984.47 3131.71,-1914.6 3195,-1872 3433.93,-1711.19 3550.92,-1777.57 3792,-1620 3908.84,-1543.63 3943.58,-1520.81 4020,-1404 4173.41,-1169.53 4234,-1091.19 4234,-811 4234,-811 4234,-811 4234,-593 4234,-483.81 4095.31,-419.56 4021.7,-393.15\"/>\n",
       "<polygon fill=\"black\" stroke=\"black\" points=\"4022.79,-389.82 4012.2,-389.82 4020.48,-396.43 4022.79,-389.82\"/>\n",
       "</g>\n",
       "<!-- NEDD9&#45;&gt;LHX8 -->\n",
       "<g id=\"edge121\" class=\"edge\">\n",
       "<title>NEDD9&#45;&gt;LHX8</title>\n",
       "<path fill=\"none\" stroke=\"black\" d=\"M3003.83,-2020.22C2931.49,-1990.06 2741.91,-1913.84 2577,-1872 2429.33,-1834.54 2038.01,-1828.53 1900,-1764 1833.8,-1733.04 1835.96,-1697.79 1776,-1656 1666.68,-1579.8 1631.67,-1572.63 1513,-1512 1432.43,-1470.84 1335.98,-1426.14 1285.22,-1402.96\"/>\n",
       "<polygon fill=\"black\" stroke=\"black\" points=\"1286.55,-1399.72 1276,-1398.76 1283.65,-1406.09 1286.55,-1399.72\"/>\n",
       "</g>\n",
       "<!-- NEDD9&#45;&gt;PIK3R3 -->\n",
       "<g id=\"edge307\" class=\"edge\">\n",
       "<title>NEDD9&#45;&gt;PIK3R3</title>\n",
       "<path fill=\"none\" stroke=\"black\" d=\"M2988.71,-2030.51C2920.33,-2026.83 2786.65,-2019.95 2673,-2016 2315.57,-2003.59 1419.14,-2022.28 1064,-1980 1053.99,-1978.81 1043.37,-1976.92 1033.29,-1974.83\"/>\n",
       "<polygon fill=\"black\" stroke=\"black\" points=\"1033.96,-1971.39 1023.44,-1972.69 1032.47,-1978.23 1033.96,-1971.39\"/>\n",
       "</g>\n",
       "<!-- PSMA3&#45;&gt;VCAM1 -->\n",
       "<g id=\"edge159\" class=\"edge\">\n",
       "<title>PSMA3&#45;&gt;VCAM1</title>\n",
       "<path fill=\"none\" stroke=\"black\" d=\"M3548.21,-1524.31C3465.61,-1515.23 3278.4,-1494.5 3121,-1476 3092.54,-1472.66 3060.83,-1468.79 3034.89,-1465.59\"/>\n",
       "<polygon fill=\"black\" stroke=\"black\" points=\"3035.23,-1462.1 3024.88,-1464.35 3034.38,-1469.05 3035.23,-1462.1\"/>\n",
       "</g>\n",
       "<!-- PSMA3&#45;&gt;PRR3 -->\n",
       "<g id=\"edge197\" class=\"edge\">\n",
       "<title>PSMA3&#45;&gt;PRR3</title>\n",
       "<path fill=\"none\" stroke=\"black\" d=\"M3592.09,-1511.85C3593.96,-1472.19 3594.98,-1371.76 3564,-1296 3517.96,-1183.43 3490.47,-1156.59 3396,-1080 3152.17,-882.31 2776.29,-779.12 2650.59,-748.72\"/>\n",
       "<polygon fill=\"black\" stroke=\"black\" points=\"2651.13,-745.26 2640.59,-746.33 2649.5,-752.06 2651.13,-745.26\"/>\n",
       "</g>\n",
       "<!-- PSMA3&#45;&gt;OSR2 -->\n",
       "<g id=\"edge124\" class=\"edge\">\n",
       "<title>PSMA3&#45;&gt;OSR2</title>\n",
       "<path fill=\"none\" stroke=\"black\" d=\"M3599.07,-1512.02C3610,-1488.35 3629.34,-1443.86 3640,-1404 3659.49,-1331.14 3669.06,-1242.37 3672.89,-1198.4\"/>\n",
       "<polygon fill=\"black\" stroke=\"black\" points=\"3676.4,-1198.48 3673.74,-1188.22 3669.42,-1197.9 3676.4,-1198.48\"/>\n",
       "</g>\n",
       "<!-- IPO13&#45;&gt;PAX3 -->\n",
       "<g id=\"edge126\" class=\"edge\">\n",
       "<title>IPO13&#45;&gt;PAX3</title>\n",
       "<path fill=\"none\" stroke=\"black\" d=\"M2284.31,-1871.87C2281.93,-1847.67 2277.54,-1803.21 2274.7,-1774.39\"/>\n",
       "<polygon fill=\"black\" stroke=\"black\" points=\"2278.16,-1773.8 2273.69,-1764.19 2271.19,-1774.48 2278.16,-1773.8\"/>\n",
       "</g>\n",
       "<!-- TXN2&#45;&gt;NUTM1 -->\n",
       "<g id=\"edge293\" class=\"edge\">\n",
       "<title>TXN2&#45;&gt;NUTM1</title>\n",
       "<path fill=\"none\" stroke=\"black\" d=\"M607.92,-1800.7C656.28,-1735.77 845.39,-1492.99 1058,-1368 1077.25,-1356.68 1130.58,-1339.88 1170.2,-1328.24\"/>\n",
       "<polygon fill=\"black\" stroke=\"black\" points=\"1171.32,-1331.56 1179.94,-1325.4 1169.36,-1324.84 1171.32,-1331.56\"/>\n",
       "</g>\n",
       "<!-- TXN2&#45;&gt;GOLGA6L9 -->\n",
       "<g id=\"edge297\" class=\"edge\">\n",
       "<title>TXN2&#45;&gt;GOLGA6L9</title>\n",
       "<path fill=\"none\" stroke=\"black\" d=\"M582.55,-1800.99C550.06,-1762.54 464.25,-1662.36 387,-1584 304.2,-1500.01 254.57,-1503.98 192,-1404 116.89,-1283.98 100,-1240.59 100,-1099 100,-1099 100,-1099 100,-665 100,-568.4 138,-547.6 138,-451 138,-451 138,-451 138,-377 138,-330.5 153.49,-312.51 193,-288 234.25,-262.41 545.97,-244.89 688.84,-238.12\"/>\n",
       "<polygon fill=\"black\" stroke=\"black\" points=\"689.01,-241.61 698.83,-237.65 688.68,-234.62 689.01,-241.61\"/>\n",
       "</g>\n",
       "<!-- STUB1 -->\n",
       "<g id=\"node115\" class=\"node\">\n",
       "<title>STUB1</title>\n",
       "<ellipse fill=\"lightgray\" stroke=\"black\" cx=\"1986\" cy=\"-1746\" rx=\"43.59\" ry=\"18\"/>\n",
       "<text text-anchor=\"middle\" x=\"1986\" y=\"-1742.3\" font-family=\"Times,serif\" font-size=\"14.00\">STUB1</text>\n",
       "</g>\n",
       "<!-- TXN2&#45;&gt;STUB1 -->\n",
       "<g id=\"edge128\" class=\"edge\">\n",
       "<title>TXN2&#45;&gt;STUB1</title>\n",
       "<path fill=\"none\" stroke=\"black\" d=\"M630.06,-1811.31C654.25,-1807.49 687.53,-1802.68 717,-1800 1186.41,-1757.33 1756.68,-1748.96 1932.09,-1747.37\"/>\n",
       "<polygon fill=\"black\" stroke=\"black\" points=\"1932.37,-1750.86 1942.34,-1747.28 1932.31,-1743.87 1932.37,-1750.86\"/>\n",
       "</g>\n",
       "<!-- STUB1&#45;&gt;AR -->\n",
       "<g id=\"edge147\" class=\"edge\">\n",
       "<title>STUB1&#45;&gt;AR</title>\n",
       "<path fill=\"none\" stroke=\"black\" d=\"M1943.11,-1742.51C1753.81,-1731.51 994.59,-1687.41 817.88,-1677.14\"/>\n",
       "<polygon fill=\"black\" stroke=\"black\" points=\"817.98,-1673.64 807.79,-1676.56 817.57,-1680.63 817.98,-1673.64\"/>\n",
       "</g>\n",
       "<!-- STUB1&#45;&gt;LRRK2 -->\n",
       "<g id=\"edge162\" class=\"edge\">\n",
       "<title>STUB1&#45;&gt;LRRK2</title>\n",
       "<path fill=\"none\" stroke=\"black\" d=\"M2028.56,-1741.69C2077.05,-1738 2158.7,-1732.02 2229,-1728 2408.88,-1717.71 2867.13,-1746.08 3039,-1692 3095.98,-1674.07 3464.22,-1456.35 3493,-1404 3500.71,-1389.98 3495.11,-1383.86 3493,-1368 3476.63,-1245.21 3420,-1222.88 3420,-1099 3420,-1099 3420,-1099 3420,-1025 3420,-897.89 3422,-866.11 3422,-739 3422,-739 3422,-739 3422,-593 3422,-507.95 3307.4,-472.35 3238.95,-458.68\"/>\n",
       "<polygon fill=\"black\" stroke=\"black\" points=\"3239.27,-455.17 3228.79,-456.74 3237.96,-462.05 3239.27,-455.17\"/>\n",
       "</g>\n",
       "<!-- STUB1&#45;&gt;CTBP2 -->\n",
       "<g id=\"edge249\" class=\"edge\">\n",
       "<title>STUB1&#45;&gt;CTBP2</title>\n",
       "<path fill=\"none\" stroke=\"black\" d=\"M1997.16,-1728.31C2060.34,-1633.8 2373.06,-1166.03 2449.24,-1052.07\"/>\n",
       "<polygon fill=\"black\" stroke=\"black\" points=\"2452.25,-1053.86 2454.9,-1043.6 2446.44,-1049.97 2452.25,-1053.86\"/>\n",
       "</g>\n",
       "<!-- STUB1&#45;&gt;RUNX2 -->\n",
       "<g id=\"edge129\" class=\"edge\">\n",
       "<title>STUB1&#45;&gt;RUNX2</title>\n",
       "<path fill=\"none\" stroke=\"black\" d=\"M1982.51,-1727.9C1975.23,-1696.05 1955.72,-1626.98 1916,-1584 1898.66,-1565.24 1729.2,-1495.76 1713,-1476 1596.46,-1333.9 1655.87,-1253.05 1594,-1080 1570.48,-1014.22 1564.29,-997.42 1531,-936 1448.37,-783.54 1331.26,-611.19 1287.44,-547.95\"/>\n",
       "<polygon fill=\"black\" stroke=\"black\" points=\"1290.1,-545.65 1281.52,-539.43 1284.35,-549.64 1290.1,-545.65\"/>\n",
       "</g>\n",
       "</g>\n",
       "</svg>\n"
      ],
      "text/plain": [
       "<graphviz.dot.Digraph at 0x7f85dc3b8140>"
      ]
     },
     "metadata": {},
     "output_type": "display_data"
    }
   ],
   "source": [
    "wnt_visualizer = NetworkVisualizer(wnt_net,color_by='effect', noi=True)\n",
    "output = figures_folder + \"WNT_HURI\"\n",
    "wnt_visualizer.render(output_file=output)"
   ]
  },
  {
   "cell_type": "markdown",
   "id": "0287fd77-4336-42b1-ae8b-5383cfa07c02",
   "metadata": {},
   "source": [
    "# Exporting Network in sif file"
   ]
  },
  {
   "cell_type": "markdown",
   "id": "ce9f98e4-671d-4484-ac3d-5fd3a6a45132",
   "metadata": {},
   "source": [
    "In order to export a fully connected network in sif file, I remove the nodes that are not connected"
   ]
  },
  {
   "cell_type": "code",
   "execution_count": 27,
   "id": "81c8732d-ad64-4ffd-ba51-a7d6e473f2ae",
   "metadata": {},
   "outputs": [],
   "source": [
    "from neko._outputs.exports import Exports"
   ]
  },
  {
   "cell_type": "code",
   "execution_count": 28,
   "id": "ffb1708e-906b-4d29-82ee-48730c170f5a",
   "metadata": {},
   "outputs": [],
   "source": [
    "wnt_net.remove_node(\"HOXD13\")"
   ]
  },
  {
   "cell_type": "code",
   "execution_count": 29,
   "id": "c1fda4aa-2462-4301-bdf0-390b581954a6",
   "metadata": {},
   "outputs": [],
   "source": [
    "wnt_net.remove_node(\"HOXD9\")"
   ]
  },
  {
   "cell_type": "code",
   "execution_count": 30,
   "id": "17529d86-4ab4-4170-97ca-fe69e9d59782",
   "metadata": {},
   "outputs": [],
   "source": [
    "export = Exports(wnt_net)"
   ]
  },
  {
   "cell_type": "code",
   "execution_count": 31,
   "id": "fb6a5d33-c0d2-419e-9570-689f95c2d5f7",
   "metadata": {},
   "outputs": [],
   "source": [
    "export.export_sif(sif_output + \"WNT_signor.sif\")"
   ]
  }
 ],
 "metadata": {
  "kernelspec": {
   "display_name": "Python 3 (ipykernel)",
   "language": "python",
   "name": "python3"
  },
  "language_info": {
   "codemirror_mode": {
    "name": "ipython",
    "version": 3
   },
   "file_extension": ".py",
   "mimetype": "text/x-python",
   "name": "python",
   "nbconvert_exporter": "python",
   "pygments_lexer": "ipython3",
   "version": "3.12.5"
  }
 },
 "nbformat": 4,
 "nbformat_minor": 5
}
